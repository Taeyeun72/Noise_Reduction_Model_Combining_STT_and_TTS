{
 "cells": [
  {
   "cell_type": "markdown",
   "id": "904d8b13-a755-4509-a666-837c5b569792",
   "metadata": {},
   "source": [
    "# Preprocessing"
   ]
  },
  {
   "cell_type": "markdown",
   "id": "f97b2dab-d642-428a-9684-79422f46c8ce",
   "metadata": {},
   "source": [
    "## 1. Resampling"
   ]
  },
  {
   "cell_type": "code",
   "execution_count": 1,
   "id": "66c5907b-0e2d-4bed-8ca6-8352cd40b635",
   "metadata": {},
   "outputs": [
    {
     "ename": "SyntaxError",
     "evalue": "invalid syntax (610628051.py, line 18)",
     "output_type": "error",
     "traceback": [
      "\u001b[1;36m  Cell \u001b[1;32mIn[1], line 18\u001b[1;36m\u001b[0m\n\u001b[1;33m    filepath =\u001b[0m\n\u001b[1;37m               ^\u001b[0m\n\u001b[1;31mSyntaxError\u001b[0m\u001b[1;31m:\u001b[0m invalid syntax\n"
     ]
    }
   ],
   "source": [
    "import os\n",
    "import json\n",
    "import librosa\n",
    "import soundfile as sf\n",
    "from tqdm import tqdm\n",
    "\n",
    "def is_json(filename):\n",
    "    return filename[-4:] == 'json'\n",
    "\n",
    "def resample_data(root_dir, save_dir):\n",
    "    len_root_dir = len(root_dir)\n",
    "    for dirpath, dirnames, filenames in os.walk(root_dir):\n",
    "        print(\"Processing:\", dirpath)\n",
    "        num_files = len(filenames)\n",
    "        with tqdm(total=num_files, desc=\"Rasampling files in progress\") as pbar:\n",
    "            for filename in filenames:\n",
    "                if is_json(filename):\n",
    "                    filepath = os.path.join(dirpath, filename)\n",
    "                    with open(filepath, \"r\", encoding=\"utf-8\") as json_file:\n",
    "                        data = json.load(json_file)\n",
    "    \n",
    "                        # wav file (1)\n",
    "                        wav_filename = filename.replace('.json', '.wav')\n",
    "                        wav_filepath = dirpath.replace('라벨링', '원천')\n",
    "                        wav_filepath_SD = os.path.join(wav_filepath, wav_filename)\n",
    "                        wav_filepath_SN = wav_filepath_SD.replace('SD', 'SN')\n",
    "                        \n",
    "                        if os.path.exists(wav_filepath_SD):\n",
    "                            y_SD, sr = librosa.load(wav_filepath_SD, sr=16000)\n",
    "                        if os.path.exists(wav_filepath_SN):\n",
    "                            y_SN, _ = librosa.load(wav_filepath_SN, sr=16000)\n",
    "                        \n",
    "                        for i in range(len(data['dialogs'])):\n",
    "                            # json file\n",
    "                            text = data[\"dialogs\"][i][\"speakerText\"]\n",
    "                            start = int(data[\"dialogs\"][i][\"startTime\"])\n",
    "                            end = int(data[\"dialogs\"][i][\"endTime\"]) + 1\n",
    "    \n",
    "                            if end-start > 30: # 30초 이상 음성은 제거한다.\n",
    "                                continue\n",
    "    \n",
    "                            new_data = {\n",
    "                                \"annotations\" : {\n",
    "                                    \"note\" : text\n",
    "                                }\n",
    "                            }\n",
    "    \n",
    "                            new_json_path_SD = save_dir + filepath[len_root_dir:-5] + '_' + str(i) + '.json'\n",
    "                            new_json_path_SN = new_json_path_SD.replace('SD', 'SN')\n",
    "                            os.makedirs(os.path.split(new_json_path_SD)[0], exist_ok=True)\n",
    "                            if os.path.exists(wav_filepath_SD):\n",
    "                                with open(new_json_path_SD, 'w', encoding='utf-8') as file:\n",
    "                                    json.dump(new_data, file, ensure_ascii=False)\n",
    "                            if os.path.exists(wav_filepath_SN):\n",
    "                                with open(new_json_path_SN, 'w', encoding='utf-8') as file:\n",
    "                                    json.dump(new_data, file, ensure_ascii=False)\n",
    "    \n",
    "                            # wav file (2)\n",
    "                            new_wav_path_SD = save_dir + wav_filepath_SD[len_root_dir:-4] + '_' + str(i) + '.wav'\n",
    "                            new_wav_path_SN = save_dir + wav_filepath_SN[len_root_dir:-4] + '_' + str(i) + '.wav'\n",
    "    \n",
    "                            os.makedirs(os.path.split(new_wav_path_SD)[0], exist_ok=True)\n",
    "                            if os.path.exists(wav_filepath_SD):\n",
    "                                sf.write(new_wav_path_SD, y_SD[int(start*16000):int(end*16000 - 1)], sr)\n",
    "                            if os.path.exists(wav_filepath_SN):\n",
    "                                sf.write(new_wav_path_SN, y_SN[int(start*16000):int(end*16000 - 1)], sr)\n",
    "                pbar.update(1)\n",
    "    print(\"Done!\")"
   ]
  },
  {
   "cell_type": "code",
   "execution_count": 2,
   "id": "4b37e47d-d6a4-40d4-ae17-769a72472396",
   "metadata": {},
   "outputs": [
    {
     "name": "stdout",
     "output_type": "stream",
     "text": [
      "Processing: D:/01 서울시립대학교/03 5학년 2학기/03 컴퓨터종합설계/008.소음 환경 음성인식 데이터\n"
     ]
    },
    {
     "name": "stderr",
     "output_type": "stream",
     "text": [
      "Rasampling files in progress: 0it [00:00, ?it/s]\n"
     ]
    },
    {
     "name": "stdout",
     "output_type": "stream",
     "text": [
      "Processing: D:/01 서울시립대학교/03 5학년 2학기/03 컴퓨터종합설계/008.소음 환경 음성인식 데이터\\01.데이터\n"
     ]
    },
    {
     "name": "stderr",
     "output_type": "stream",
     "text": [
      "Rasampling files in progress: 0it [00:00, ?it/s]\n"
     ]
    },
    {
     "name": "stdout",
     "output_type": "stream",
     "text": [
      "Processing: D:/01 서울시립대학교/03 5학년 2학기/03 컴퓨터종합설계/008.소음 환경 음성인식 데이터\\01.데이터\\2.Validation\n"
     ]
    },
    {
     "name": "stderr",
     "output_type": "stream",
     "text": [
      "Rasampling files in progress: 0it [00:00, ?it/s]\n"
     ]
    },
    {
     "name": "stdout",
     "output_type": "stream",
     "text": [
      "Processing: D:/01 서울시립대학교/03 5학년 2학기/03 컴퓨터종합설계/008.소음 환경 음성인식 데이터\\01.데이터\\2.Validation\\라벨링데이터\n"
     ]
    },
    {
     "name": "stderr",
     "output_type": "stream",
     "text": [
      "Rasampling files in progress: 100%|█████████████████████████████████████████████████████| 1/1 [00:00<00:00, 999.60it/s]\n"
     ]
    },
    {
     "name": "stdout",
     "output_type": "stream",
     "text": [
      "Processing: D:/01 서울시립대학교/03 5학년 2학기/03 컴퓨터종합설계/008.소음 환경 음성인식 데이터\\01.데이터\\2.Validation\\라벨링데이터\\01.가전소음\n"
     ]
    },
    {
     "name": "stderr",
     "output_type": "stream",
     "text": [
      "Rasampling files in progress: 0it [00:00, ?it/s]\n"
     ]
    },
    {
     "name": "stdout",
     "output_type": "stream",
     "text": [
      "Processing: D:/01 서울시립대학교/03 5학년 2학기/03 컴퓨터종합설계/008.소음 환경 음성인식 데이터\\01.데이터\\2.Validation\\라벨링데이터\\01.가전소음\\01.세탁기,건조기\n"
     ]
    },
    {
     "name": "stderr",
     "output_type": "stream",
     "text": [
      "Rasampling files in progress: 100%|██████████████████████████████████████████████████| 766/766 [14:29<00:00,  1.13s/it]\n"
     ]
    },
    {
     "name": "stdout",
     "output_type": "stream",
     "text": [
      "Processing: D:/01 서울시립대학교/03 5학년 2학기/03 컴퓨터종합설계/008.소음 환경 음성인식 데이터\\01.데이터\\2.Validation\\라벨링데이터\\01.가전소음\\02.청소기\n"
     ]
    },
    {
     "name": "stderr",
     "output_type": "stream",
     "text": [
      "Rasampling files in progress: 100%|██████████████████████████████████████████████████| 300/300 [05:33<00:00,  1.11s/it]\n"
     ]
    },
    {
     "name": "stdout",
     "output_type": "stream",
     "text": [
      "Processing: D:/01 서울시립대학교/03 5학년 2학기/03 컴퓨터종합설계/008.소음 환경 음성인식 데이터\\01.데이터\\2.Validation\\라벨링데이터\\01.가전소음\\03.가전소음_기타소음\n"
     ]
    },
    {
     "name": "stderr",
     "output_type": "stream",
     "text": [
      "Rasampling files in progress: 100%|████████████████████████████████████████████████| 1896/1896 [36:37<00:00,  1.16s/it]\n"
     ]
    },
    {
     "name": "stdout",
     "output_type": "stream",
     "text": [
      "Processing: D:/01 서울시립대학교/03 5학년 2학기/03 컴퓨터종합설계/008.소음 환경 음성인식 데이터\\01.데이터\\2.Validation\\라벨링데이터\\02.교통수단\n"
     ]
    },
    {
     "name": "stderr",
     "output_type": "stream",
     "text": [
      "Rasampling files in progress: 0it [00:00, ?it/s]\n"
     ]
    },
    {
     "name": "stdout",
     "output_type": "stream",
     "text": [
      "Processing: D:/01 서울시립대학교/03 5학년 2학기/03 컴퓨터종합설계/008.소음 환경 음성인식 데이터\\01.데이터\\2.Validation\\라벨링데이터\\02.교통수단\\01.바이크\n"
     ]
    },
    {
     "name": "stderr",
     "output_type": "stream",
     "text": [
      "Rasampling files in progress: 100%|██████████████████████████████████████████████████| 106/106 [02:04<00:00,  1.17s/it]\n"
     ]
    },
    {
     "name": "stdout",
     "output_type": "stream",
     "text": [
      "Processing: D:/01 서울시립대학교/03 5학년 2학기/03 컴퓨터종합설계/008.소음 환경 음성인식 데이터\\01.데이터\\2.Validation\\라벨링데이터\\02.교통수단\\02.싸이렌\n"
     ]
    },
    {
     "name": "stderr",
     "output_type": "stream",
     "text": [
      "Rasampling files in progress: 100%|████████████████████████████████████████████████████| 98/98 [01:45<00:00,  1.08s/it]\n"
     ]
    },
    {
     "name": "stdout",
     "output_type": "stream",
     "text": [
      "Processing: D:/01 서울시립대학교/03 5학년 2학기/03 컴퓨터종합설계/008.소음 환경 음성인식 데이터\\01.데이터\\2.Validation\\라벨링데이터\\02.교통수단\\03.경적\n"
     ]
    },
    {
     "name": "stderr",
     "output_type": "stream",
     "text": [
      "Rasampling files in progress: 100%|██████████████████████████████████████████████████| 112/112 [02:06<00:00,  1.13s/it]\n"
     ]
    },
    {
     "name": "stdout",
     "output_type": "stream",
     "text": [
      "Processing: D:/01 서울시립대학교/03 5학년 2학기/03 컴퓨터종합설계/008.소음 환경 음성인식 데이터\\01.데이터\\2.Validation\\라벨링데이터\\02.교통수단\\04.교통수단_기타소음\n"
     ]
    },
    {
     "name": "stderr",
     "output_type": "stream",
     "text": [
      "Rasampling files in progress: 100%|██████████████████████████████████████████████████| 204/204 [03:26<00:00,  1.01s/it]\n"
     ]
    },
    {
     "name": "stdout",
     "output_type": "stream",
     "text": [
      "Processing: D:/01 서울시립대학교/03 5학년 2학기/03 컴퓨터종합설계/008.소음 환경 음성인식 데이터\\01.데이터\\2.Validation\\라벨링데이터\\03.길거리\n"
     ]
    },
    {
     "name": "stderr",
     "output_type": "stream",
     "text": [
      "Rasampling files in progress: 0it [00:00, ?it/s]\n"
     ]
    },
    {
     "name": "stdout",
     "output_type": "stream",
     "text": [
      "Processing: D:/01 서울시립대학교/03 5학년 2학기/03 컴퓨터종합설계/008.소음 환경 음성인식 데이터\\01.데이터\\2.Validation\\라벨링데이터\\03.길거리\\01.도로변\n"
     ]
    },
    {
     "name": "stderr",
     "output_type": "stream",
     "text": [
      "Rasampling files in progress: 100%|██████████████████████████████████████████████████| 608/608 [09:24<00:00,  1.08it/s]\n"
     ]
    },
    {
     "name": "stdout",
     "output_type": "stream",
     "text": [
      "Processing: D:/01 서울시립대학교/03 5학년 2학기/03 컴퓨터종합설계/008.소음 환경 음성인식 데이터\\01.데이터\\2.Validation\\라벨링데이터\\03.길거리\\02.인파\n"
     ]
    },
    {
     "name": "stderr",
     "output_type": "stream",
     "text": [
      "Rasampling files in progress: 100%|██████████████████████████████████████████████████| 108/108 [01:37<00:00,  1.10it/s]\n"
     ]
    },
    {
     "name": "stdout",
     "output_type": "stream",
     "text": [
      "Processing: D:/01 서울시립대학교/03 5학년 2학기/03 컴퓨터종합설계/008.소음 환경 음성인식 데이터\\01.데이터\\2.Validation\\라벨링데이터\\03.길거리\\03.길거리_기타소음\n"
     ]
    },
    {
     "name": "stderr",
     "output_type": "stream",
     "text": [
      "Rasampling files in progress: 100%|██████████████████████████████████████████████████| 292/292 [05:07<00:00,  1.05s/it]\n"
     ]
    },
    {
     "name": "stdout",
     "output_type": "stream",
     "text": [
      "Processing: D:/01 서울시립대학교/03 5학년 2학기/03 컴퓨터종합설계/008.소음 환경 음성인식 데이터\\01.데이터\\2.Validation\\라벨링데이터\\04.카페,음식점\n"
     ]
    },
    {
     "name": "stderr",
     "output_type": "stream",
     "text": [
      "Rasampling files in progress: 0it [00:00, ?it/s]\n"
     ]
    },
    {
     "name": "stdout",
     "output_type": "stream",
     "text": [
      "Processing: D:/01 서울시립대학교/03 5학년 2학기/03 컴퓨터종합설계/008.소음 환경 음성인식 데이터\\01.데이터\\2.Validation\\라벨링데이터\\04.카페,음식점\\01.대화소음\n"
     ]
    },
    {
     "name": "stderr",
     "output_type": "stream",
     "text": [
      "Rasampling files in progress: 100%|████████████████████████████████████████████████| 1190/1190 [15:31<00:00,  1.28it/s]\n"
     ]
    },
    {
     "name": "stdout",
     "output_type": "stream",
     "text": [
      "Processing: D:/01 서울시립대학교/03 5학년 2학기/03 컴퓨터종합설계/008.소음 환경 음성인식 데이터\\01.데이터\\2.Validation\\라벨링데이터\\04.카페,음식점\\02.업소소음\n"
     ]
    },
    {
     "name": "stderr",
     "output_type": "stream",
     "text": [
      "Rasampling files in progress: 100%|████████████████████████████████████████████████| 1310/1310 [23:19<00:00,  1.07s/it]\n"
     ]
    },
    {
     "name": "stdout",
     "output_type": "stream",
     "text": [
      "Processing: D:/01 서울시립대학교/03 5학년 2학기/03 컴퓨터종합설계/008.소음 환경 음성인식 데이터\\01.데이터\\2.Validation\\라벨링데이터\\04.카페,음식점\\03.카페,음식점_기타소음\n"
     ]
    },
    {
     "name": "stderr",
     "output_type": "stream",
     "text": [
      "Rasampling files in progress: 100%|██████████████████████████████████████████████████| 442/442 [06:03<00:00,  1.22it/s]\n"
     ]
    },
    {
     "name": "stdout",
     "output_type": "stream",
     "text": [
      "Processing: D:/01 서울시립대학교/03 5학년 2학기/03 컴퓨터종합설계/008.소음 환경 음성인식 데이터\\01.데이터\\2.Validation\\라벨링데이터\\05.시장,쇼핑몰\n"
     ]
    },
    {
     "name": "stderr",
     "output_type": "stream",
     "text": [
      "Rasampling files in progress: 0it [00:00, ?it/s]\n"
     ]
    },
    {
     "name": "stdout",
     "output_type": "stream",
     "text": [
      "Processing: D:/01 서울시립대학교/03 5학년 2학기/03 컴퓨터종합설계/008.소음 환경 음성인식 데이터\\01.데이터\\2.Validation\\라벨링데이터\\05.시장,쇼핑몰\\01.전통시장\n"
     ]
    },
    {
     "name": "stderr",
     "output_type": "stream",
     "text": [
      "Rasampling files in progress: 100%|██████████████████████████████████████████████████| 296/296 [04:51<00:00,  1.02it/s]\n"
     ]
    },
    {
     "name": "stdout",
     "output_type": "stream",
     "text": [
      "Processing: D:/01 서울시립대학교/03 5학년 2학기/03 컴퓨터종합설계/008.소음 환경 음성인식 데이터\\01.데이터\\2.Validation\\라벨링데이터\\05.시장,쇼핑몰\\02.복합쇼핑몰\n"
     ]
    },
    {
     "name": "stderr",
     "output_type": "stream",
     "text": [
      "Rasampling files in progress: 100%|████████████████████████████████████████████████| 2374/2374 [37:38<00:00,  1.05it/s]\n"
     ]
    },
    {
     "name": "stdout",
     "output_type": "stream",
     "text": [
      "Processing: D:/01 서울시립대학교/03 5학년 2학기/03 컴퓨터종합설계/008.소음 환경 음성인식 데이터\\01.데이터\\2.Validation\\라벨링데이터\\05.시장,쇼핑몰\\03.시장,쇼핑몰_기타소음\n"
     ]
    },
    {
     "name": "stderr",
     "output_type": "stream",
     "text": [
      "Rasampling files in progress: 100%|██████████████████████████████████████████████████| 334/334 [04:13<00:00,  1.32it/s]\n"
     ]
    },
    {
     "name": "stdout",
     "output_type": "stream",
     "text": [
      "Processing: D:/01 서울시립대학교/03 5학년 2학기/03 컴퓨터종합설계/008.소음 환경 음성인식 데이터\\01.데이터\\2.Validation\\라벨링데이터\\06.지하철,버스\n"
     ]
    },
    {
     "name": "stderr",
     "output_type": "stream",
     "text": [
      "Rasampling files in progress: 0it [00:00, ?it/s]\n"
     ]
    },
    {
     "name": "stdout",
     "output_type": "stream",
     "text": [
      "Processing: D:/01 서울시립대학교/03 5학년 2학기/03 컴퓨터종합설계/008.소음 환경 음성인식 데이터\\01.데이터\\2.Validation\\라벨링데이터\\06.지하철,버스\\01.지하철플랫폼\n"
     ]
    },
    {
     "name": "stderr",
     "output_type": "stream",
     "text": [
      "Rasampling files in progress: 100%|██████████████████████████████████████████████████| 334/334 [04:33<00:00,  1.22it/s]\n"
     ]
    },
    {
     "name": "stdout",
     "output_type": "stream",
     "text": [
      "Processing: D:/01 서울시립대학교/03 5학년 2학기/03 컴퓨터종합설계/008.소음 환경 음성인식 데이터\\01.데이터\\2.Validation\\라벨링데이터\\06.지하철,버스\\02.지하철안\n"
     ]
    },
    {
     "name": "stderr",
     "output_type": "stream",
     "text": [
      "Rasampling files in progress: 100%|██████████████████████████████████████████████████| 556/556 [07:01<00:00,  1.32it/s]\n"
     ]
    },
    {
     "name": "stdout",
     "output_type": "stream",
     "text": [
      "Processing: D:/01 서울시립대학교/03 5학년 2학기/03 컴퓨터종합설계/008.소음 환경 음성인식 데이터\\01.데이터\\2.Validation\\라벨링데이터\\06.지하철,버스\\03.기차안\n"
     ]
    },
    {
     "name": "stderr",
     "output_type": "stream",
     "text": [
      "Rasampling files in progress: 100%|██████████████████████████████████████████████████| 176/176 [02:04<00:00,  1.42it/s]\n"
     ]
    },
    {
     "name": "stdout",
     "output_type": "stream",
     "text": [
      "Processing: D:/01 서울시립대학교/03 5학년 2학기/03 컴퓨터종합설계/008.소음 환경 음성인식 데이터\\01.데이터\\2.Validation\\라벨링데이터\\06.지하철,버스\\04.버스안\n"
     ]
    },
    {
     "name": "stderr",
     "output_type": "stream",
     "text": [
      "Rasampling files in progress: 100%|██████████████████████████████████████████████████| 594/594 [07:35<00:00,  1.30it/s]\n"
     ]
    },
    {
     "name": "stdout",
     "output_type": "stream",
     "text": [
      "Processing: D:/01 서울시립대학교/03 5학년 2학기/03 컴퓨터종합설계/008.소음 환경 음성인식 데이터\\01.데이터\\2.Validation\\라벨링데이터\\07.터미널\n"
     ]
    },
    {
     "name": "stderr",
     "output_type": "stream",
     "text": [
      "Rasampling files in progress: 0it [00:00, ?it/s]\n"
     ]
    },
    {
     "name": "stdout",
     "output_type": "stream",
     "text": [
      "Processing: D:/01 서울시립대학교/03 5학년 2학기/03 컴퓨터종합설계/008.소음 환경 음성인식 데이터\\01.데이터\\2.Validation\\라벨링데이터\\07.터미널\\01.기차역대합실\n"
     ]
    },
    {
     "name": "stderr",
     "output_type": "stream",
     "text": [
      "Rasampling files in progress: 100%|██████████████████████████████████████████████████| 526/526 [08:16<00:00,  1.06it/s]\n"
     ]
    },
    {
     "name": "stdout",
     "output_type": "stream",
     "text": [
      "Processing: D:/01 서울시립대학교/03 5학년 2학기/03 컴퓨터종합설계/008.소음 환경 음성인식 데이터\\01.데이터\\2.Validation\\라벨링데이터\\07.터미널\\02.버스터미널대합실\n"
     ]
    },
    {
     "name": "stderr",
     "output_type": "stream",
     "text": [
      "Rasampling files in progress: 100%|██████████████████████████████████████████████████| 534/534 [07:45<00:00,  1.15it/s]\n"
     ]
    },
    {
     "name": "stdout",
     "output_type": "stream",
     "text": [
      "Processing: D:/01 서울시립대학교/03 5학년 2학기/03 컴퓨터종합설계/008.소음 환경 음성인식 데이터\\01.데이터\\2.Validation\\라벨링데이터\\07.터미널\\03.터미널_기타소음\n"
     ]
    },
    {
     "name": "stderr",
     "output_type": "stream",
     "text": [
      "Rasampling files in progress: 100%|██████████████████████████████████████████████████| 450/450 [07:05<00:00,  1.06it/s]\n"
     ]
    },
    {
     "name": "stdout",
     "output_type": "stream",
     "text": [
      "Processing: D:/01 서울시립대학교/03 5학년 2학기/03 컴퓨터종합설계/008.소음 환경 음성인식 데이터\\01.데이터\\2.Validation\\라벨링데이터\\08.공사장\n"
     ]
    },
    {
     "name": "stderr",
     "output_type": "stream",
     "text": [
      "Rasampling files in progress: 0it [00:00, ?it/s]\n"
     ]
    },
    {
     "name": "stdout",
     "output_type": "stream",
     "text": [
      "Processing: D:/01 서울시립대학교/03 5학년 2학기/03 컴퓨터종합설계/008.소음 환경 음성인식 데이터\\01.데이터\\2.Validation\\라벨링데이터\\08.공사장\\01.실외공사장\n"
     ]
    },
    {
     "name": "stderr",
     "output_type": "stream",
     "text": [
      "Rasampling files in progress: 100%|██████████████████████████████████████████████████| 404/404 [05:17<00:00,  1.27it/s]\n"
     ]
    },
    {
     "name": "stdout",
     "output_type": "stream",
     "text": [
      "Processing: D:/01 서울시립대학교/03 5학년 2학기/03 컴퓨터종합설계/008.소음 환경 음성인식 데이터\\01.데이터\\2.Validation\\라벨링데이터\\08.공사장\\02.실내공사장\n"
     ]
    },
    {
     "name": "stderr",
     "output_type": "stream",
     "text": [
      "Rasampling files in progress: 100%|██████████████████████████████████████████████████| 186/186 [02:04<00:00,  1.49it/s]\n"
     ]
    },
    {
     "name": "stdout",
     "output_type": "stream",
     "text": [
      "Processing: D:/01 서울시립대학교/03 5학년 2학기/03 컴퓨터종합설계/008.소음 환경 음성인식 데이터\\01.데이터\\2.Validation\\라벨링데이터\\08.공사장\\03.공사장_기타소음\n"
     ]
    },
    {
     "name": "stderr",
     "output_type": "stream",
     "text": [
      "Rasampling files in progress: 100%|██████████████████████████████████████████████████| 326/326 [04:17<00:00,  1.27it/s]\n"
     ]
    },
    {
     "name": "stdout",
     "output_type": "stream",
     "text": [
      "Processing: D:/01 서울시립대학교/03 5학년 2학기/03 컴퓨터종합설계/008.소음 환경 음성인식 데이터\\01.데이터\\2.Validation\\라벨링데이터\\09.공장\n"
     ]
    },
    {
     "name": "stderr",
     "output_type": "stream",
     "text": [
      "Rasampling files in progress: 0it [00:00, ?it/s]\n"
     ]
    },
    {
     "name": "stdout",
     "output_type": "stream",
     "text": [
      "Processing: D:/01 서울시립대학교/03 5학년 2학기/03 컴퓨터종합설계/008.소음 환경 음성인식 데이터\\01.데이터\\2.Validation\\라벨링데이터\\09.공장\\01.가공공정\n"
     ]
    },
    {
     "name": "stderr",
     "output_type": "stream",
     "text": [
      "Rasampling files in progress: 100%|██████████████████████████████████████████████████| 154/154 [02:07<00:00,  1.20it/s]\n"
     ]
    },
    {
     "name": "stdout",
     "output_type": "stream",
     "text": [
      "Processing: D:/01 서울시립대학교/03 5학년 2학기/03 컴퓨터종합설계/008.소음 환경 음성인식 데이터\\01.데이터\\2.Validation\\라벨링데이터\\09.공장\\02.조립공정\n"
     ]
    },
    {
     "name": "stderr",
     "output_type": "stream",
     "text": [
      "Rasampling files in progress: 100%|██████████████████████████████████████████████████| 246/246 [02:48<00:00,  1.46it/s]\n"
     ]
    },
    {
     "name": "stdout",
     "output_type": "stream",
     "text": [
      "Processing: D:/01 서울시립대학교/03 5학년 2학기/03 컴퓨터종합설계/008.소음 환경 음성인식 데이터\\01.데이터\\2.Validation\\라벨링데이터\\09.공장\\03.공장_기타소음\n"
     ]
    },
    {
     "name": "stderr",
     "output_type": "stream",
     "text": [
      "Rasampling files in progress: 100%|██████████████████████████████████████████████████| 612/612 [10:04<00:00,  1.01it/s]\n"
     ]
    },
    {
     "name": "stdout",
     "output_type": "stream",
     "text": [
      "Processing: D:/01 서울시립대학교/03 5학년 2학기/03 컴퓨터종합설계/008.소음 환경 음성인식 데이터\\01.데이터\\2.Validation\\라벨링데이터\\10.일반자연\n"
     ]
    },
    {
     "name": "stderr",
     "output_type": "stream",
     "text": [
      "Rasampling files in progress: 0it [00:00, ?it/s]\n"
     ]
    },
    {
     "name": "stdout",
     "output_type": "stream",
     "text": [
      "Processing: D:/01 서울시립대학교/03 5학년 2학기/03 컴퓨터종합설계/008.소음 환경 음성인식 데이터\\01.데이터\\2.Validation\\라벨링데이터\\10.일반자연\\01.빗소리\n"
     ]
    },
    {
     "name": "stderr",
     "output_type": "stream",
     "text": [
      "Rasampling files in progress: 100%|██████████████████████████████████████████████████| 704/704 [10:56<00:00,  1.07it/s]\n"
     ]
    },
    {
     "name": "stdout",
     "output_type": "stream",
     "text": [
      "Processing: D:/01 서울시립대학교/03 5학년 2학기/03 컴퓨터종합설계/008.소음 환경 음성인식 데이터\\01.데이터\\2.Validation\\라벨링데이터\\10.일반자연\\02.파도\n"
     ]
    },
    {
     "name": "stderr",
     "output_type": "stream",
     "text": [
      "Rasampling files in progress: 100%|██████████████████████████████████████████████████| 250/250 [03:56<00:00,  1.06it/s]\n"
     ]
    },
    {
     "name": "stdout",
     "output_type": "stream",
     "text": [
      "Processing: D:/01 서울시립대학교/03 5학년 2학기/03 컴퓨터종합설계/008.소음 환경 음성인식 데이터\\01.데이터\\2.Validation\\라벨링데이터\\10.일반자연\\03.일반자연_기타소음\n"
     ]
    },
    {
     "name": "stderr",
     "output_type": "stream",
     "text": [
      "Rasampling files in progress: 100%|██████████████████████████████████████████████████| 146/146 [02:05<00:00,  1.17it/s]\n"
     ]
    },
    {
     "name": "stdout",
     "output_type": "stream",
     "text": [
      "Processing: D:/01 서울시립대학교/03 5학년 2학기/03 컴퓨터종합설계/008.소음 환경 음성인식 데이터\\01.데이터\\2.Validation\\라벨링데이터\\11.복합소음\n"
     ]
    },
    {
     "name": "stderr",
     "output_type": "stream",
     "text": [
      "Rasampling files in progress: 0it [00:00, ?it/s]\n"
     ]
    },
    {
     "name": "stdout",
     "output_type": "stream",
     "text": [
      "Processing: D:/01 서울시립대학교/03 5학년 2학기/03 컴퓨터종합설계/008.소음 환경 음성인식 데이터\\01.데이터\\2.Validation\\라벨링데이터\\11.복합소음\\01.2가지이상소음원\n"
     ]
    },
    {
     "name": "stderr",
     "output_type": "stream",
     "text": [
      "Rasampling files in progress: 100%|████████████████████████████████████████████████| 2758/2758 [29:32<00:00,  1.56it/s]\n"
     ]
    },
    {
     "name": "stdout",
     "output_type": "stream",
     "text": [
      "Processing: D:/01 서울시립대학교/03 5학년 2학기/03 컴퓨터종합설계/008.소음 환경 음성인식 데이터\\01.데이터\\2.Validation\\원천데이터\n"
     ]
    },
    {
     "name": "stderr",
     "output_type": "stream",
     "text": [
      "Rasampling files in progress: 100%|████████████████████████████████████████████████████████████| 11/11 [00:00<?, ?it/s]\n"
     ]
    },
    {
     "name": "stdout",
     "output_type": "stream",
     "text": [
      "Processing: D:/01 서울시립대학교/03 5학년 2학기/03 컴퓨터종합설계/008.소음 환경 음성인식 데이터\\01.데이터\\2.Validation\\원천데이터\\01.가전소음\n"
     ]
    },
    {
     "name": "stderr",
     "output_type": "stream",
     "text": [
      "Rasampling files in progress: 0it [00:00, ?it/s]\n"
     ]
    },
    {
     "name": "stdout",
     "output_type": "stream",
     "text": [
      "Processing: D:/01 서울시립대학교/03 5학년 2학기/03 컴퓨터종합설계/008.소음 환경 음성인식 데이터\\01.데이터\\2.Validation\\원천데이터\\01.가전소음\\01.세탁기,건조기\n"
     ]
    },
    {
     "name": "stderr",
     "output_type": "stream",
     "text": [
      "Rasampling files in progress: 100%|██████████████████████████████████████████████████████████| 766/766 [00:00<?, ?it/s]\n"
     ]
    },
    {
     "name": "stdout",
     "output_type": "stream",
     "text": [
      "Processing: D:/01 서울시립대학교/03 5학년 2학기/03 컴퓨터종합설계/008.소음 환경 음성인식 데이터\\01.데이터\\2.Validation\\원천데이터\\01.가전소음\\02.청소기\n"
     ]
    },
    {
     "name": "stderr",
     "output_type": "stream",
     "text": [
      "Rasampling files in progress: 100%|██████████████████████████████████████████████████████████| 300/300 [00:00<?, ?it/s]\n"
     ]
    },
    {
     "name": "stdout",
     "output_type": "stream",
     "text": [
      "Processing: D:/01 서울시립대학교/03 5학년 2학기/03 컴퓨터종합설계/008.소음 환경 음성인식 데이터\\01.데이터\\2.Validation\\원천데이터\\01.가전소음\\03.가전소음_기타소음\n"
     ]
    },
    {
     "name": "stderr",
     "output_type": "stream",
     "text": [
      "Rasampling files in progress: 100%|███████████████████████████████████████████| 1896/1896 [00:00<00:00, 1895233.65it/s]\n"
     ]
    },
    {
     "name": "stdout",
     "output_type": "stream",
     "text": [
      "Processing: D:/01 서울시립대학교/03 5학년 2학기/03 컴퓨터종합설계/008.소음 환경 음성인식 데이터\\01.데이터\\2.Validation\\원천데이터\\02.교통수단\n"
     ]
    },
    {
     "name": "stderr",
     "output_type": "stream",
     "text": [
      "Rasampling files in progress: 0it [00:00, ?it/s]\n"
     ]
    },
    {
     "name": "stdout",
     "output_type": "stream",
     "text": [
      "Processing: D:/01 서울시립대학교/03 5학년 2학기/03 컴퓨터종합설계/008.소음 환경 음성인식 데이터\\01.데이터\\2.Validation\\원천데이터\\02.교통수단\\01.바이크\n"
     ]
    },
    {
     "name": "stderr",
     "output_type": "stream",
     "text": [
      "Rasampling files in progress: 100%|██████████████████████████████████████████████████████████| 106/106 [00:00<?, ?it/s]\n"
     ]
    },
    {
     "name": "stdout",
     "output_type": "stream",
     "text": [
      "Processing: D:/01 서울시립대학교/03 5학년 2학기/03 컴퓨터종합설계/008.소음 환경 음성인식 데이터\\01.데이터\\2.Validation\\원천데이터\\02.교통수단\\02.싸이렌\n"
     ]
    },
    {
     "name": "stderr",
     "output_type": "stream",
     "text": [
      "Rasampling files in progress: 100%|████████████████████████████████████████████████████████████| 98/98 [00:00<?, ?it/s]\n"
     ]
    },
    {
     "name": "stdout",
     "output_type": "stream",
     "text": [
      "Processing: D:/01 서울시립대학교/03 5학년 2학기/03 컴퓨터종합설계/008.소음 환경 음성인식 데이터\\01.데이터\\2.Validation\\원천데이터\\02.교통수단\\03.경적\n"
     ]
    },
    {
     "name": "stderr",
     "output_type": "stream",
     "text": [
      "Rasampling files in progress: 100%|██████████████████████████████████████████████| 112/112 [00:00<00:00, 111954.73it/s]\n"
     ]
    },
    {
     "name": "stdout",
     "output_type": "stream",
     "text": [
      "Processing: D:/01 서울시립대학교/03 5학년 2학기/03 컴퓨터종합설계/008.소음 환경 음성인식 데이터\\01.데이터\\2.Validation\\원천데이터\\02.교통수단\\04.교통수단_기타소음\n"
     ]
    },
    {
     "name": "stderr",
     "output_type": "stream",
     "text": [
      "Rasampling files in progress: 100%|██████████████████████████████████████████████████████████| 204/204 [00:00<?, ?it/s]\n"
     ]
    },
    {
     "name": "stdout",
     "output_type": "stream",
     "text": [
      "Processing: D:/01 서울시립대학교/03 5학년 2학기/03 컴퓨터종합설계/008.소음 환경 음성인식 데이터\\01.데이터\\2.Validation\\원천데이터\\03.길거리\n"
     ]
    },
    {
     "name": "stderr",
     "output_type": "stream",
     "text": [
      "Rasampling files in progress: 0it [00:00, ?it/s]\n"
     ]
    },
    {
     "name": "stdout",
     "output_type": "stream",
     "text": [
      "Processing: D:/01 서울시립대학교/03 5학년 2학기/03 컴퓨터종합설계/008.소음 환경 음성인식 데이터\\01.데이터\\2.Validation\\원천데이터\\03.길거리\\01.도로변\n"
     ]
    },
    {
     "name": "stderr",
     "output_type": "stream",
     "text": [
      "Rasampling files in progress: 100%|██████████████████████████████████████████████████████████| 608/608 [00:00<?, ?it/s]\n"
     ]
    },
    {
     "name": "stdout",
     "output_type": "stream",
     "text": [
      "Processing: D:/01 서울시립대학교/03 5학년 2학기/03 컴퓨터종합설계/008.소음 환경 음성인식 데이터\\01.데이터\\2.Validation\\원천데이터\\03.길거리\\02.인파\n"
     ]
    },
    {
     "name": "stderr",
     "output_type": "stream",
     "text": [
      "Rasampling files in progress: 100%|██████████████████████████████████████████████████████████| 108/108 [00:00<?, ?it/s]\n"
     ]
    },
    {
     "name": "stdout",
     "output_type": "stream",
     "text": [
      "Processing: D:/01 서울시립대학교/03 5학년 2학기/03 컴퓨터종합설계/008.소음 환경 음성인식 데이터\\01.데이터\\2.Validation\\원천데이터\\03.길거리\\03.길거리_기타소음\n"
     ]
    },
    {
     "name": "stderr",
     "output_type": "stream",
     "text": [
      "Rasampling files in progress: 100%|██████████████████████████████████████████████████████████| 292/292 [00:00<?, ?it/s]\n"
     ]
    },
    {
     "name": "stdout",
     "output_type": "stream",
     "text": [
      "Processing: D:/01 서울시립대학교/03 5학년 2학기/03 컴퓨터종합설계/008.소음 환경 음성인식 데이터\\01.데이터\\2.Validation\\원천데이터\\04.카페,음식점\n"
     ]
    },
    {
     "name": "stderr",
     "output_type": "stream",
     "text": [
      "Rasampling files in progress: 0it [00:00, ?it/s]\n"
     ]
    },
    {
     "name": "stdout",
     "output_type": "stream",
     "text": [
      "Processing: D:/01 서울시립대학교/03 5학년 2학기/03 컴퓨터종합설계/008.소음 환경 음성인식 데이터\\01.데이터\\2.Validation\\원천데이터\\04.카페,음식점\\01.대화소음\n"
     ]
    },
    {
     "name": "stderr",
     "output_type": "stream",
     "text": [
      "Rasampling files in progress: 100%|███████████████████████████████████████████| 1190/1190 [00:00<00:00, 1189519.01it/s]\n"
     ]
    },
    {
     "name": "stdout",
     "output_type": "stream",
     "text": [
      "Processing: D:/01 서울시립대학교/03 5학년 2학기/03 컴퓨터종합설계/008.소음 환경 음성인식 데이터\\01.데이터\\2.Validation\\원천데이터\\04.카페,음식점\\02.업소소음\n"
     ]
    },
    {
     "name": "stderr",
     "output_type": "stream",
     "text": [
      "Rasampling files in progress: 100%|███████████████████████████████████████████| 1310/1310 [00:00<00:00, 1307289.61it/s]\n"
     ]
    },
    {
     "name": "stdout",
     "output_type": "stream",
     "text": [
      "Processing: D:/01 서울시립대학교/03 5학년 2학기/03 컴퓨터종합설계/008.소음 환경 음성인식 데이터\\01.데이터\\2.Validation\\원천데이터\\04.카페,음식점\\03.카페,음식점_기타소음\n"
     ]
    },
    {
     "name": "stderr",
     "output_type": "stream",
     "text": [
      "Rasampling files in progress: 100%|██████████████████████████████████████████████████████████| 442/442 [00:00<?, ?it/s]\n"
     ]
    },
    {
     "name": "stdout",
     "output_type": "stream",
     "text": [
      "Processing: D:/01 서울시립대학교/03 5학년 2학기/03 컴퓨터종합설계/008.소음 환경 음성인식 데이터\\01.데이터\\2.Validation\\원천데이터\\05.시장,쇼핑몰\n"
     ]
    },
    {
     "name": "stderr",
     "output_type": "stream",
     "text": [
      "Rasampling files in progress: 0it [00:00, ?it/s]\n"
     ]
    },
    {
     "name": "stdout",
     "output_type": "stream",
     "text": [
      "Processing: D:/01 서울시립대학교/03 5학년 2학기/03 컴퓨터종합설계/008.소음 환경 음성인식 데이터\\01.데이터\\2.Validation\\원천데이터\\05.시장,쇼핑몰\\01.전통시장\n"
     ]
    },
    {
     "name": "stderr",
     "output_type": "stream",
     "text": [
      "Rasampling files in progress: 100%|██████████████████████████████████████████████████████████| 296/296 [00:00<?, ?it/s]\n"
     ]
    },
    {
     "name": "stdout",
     "output_type": "stream",
     "text": [
      "Processing: D:/01 서울시립대학교/03 5학년 2학기/03 컴퓨터종합설계/008.소음 환경 음성인식 데이터\\01.데이터\\2.Validation\\원천데이터\\05.시장,쇼핑몰\\02.복합쇼핑몰\n"
     ]
    },
    {
     "name": "stderr",
     "output_type": "stream",
     "text": [
      "Rasampling files in progress: 100%|███████████████████████████████████████████| 2374/2374 [00:00<00:00, 2373606.13it/s]\n"
     ]
    },
    {
     "name": "stdout",
     "output_type": "stream",
     "text": [
      "Processing: D:/01 서울시립대학교/03 5학년 2학기/03 컴퓨터종합설계/008.소음 환경 음성인식 데이터\\01.데이터\\2.Validation\\원천데이터\\05.시장,쇼핑몰\\03.시장,쇼핑몰_기타소음\n"
     ]
    },
    {
     "name": "stderr",
     "output_type": "stream",
     "text": [
      "Rasampling files in progress: 100%|██████████████████████████████████████████████████████████| 334/334 [00:00<?, ?it/s]\n"
     ]
    },
    {
     "name": "stdout",
     "output_type": "stream",
     "text": [
      "Processing: D:/01 서울시립대학교/03 5학년 2학기/03 컴퓨터종합설계/008.소음 환경 음성인식 데이터\\01.데이터\\2.Validation\\원천데이터\\06.지하철,버스\n"
     ]
    },
    {
     "name": "stderr",
     "output_type": "stream",
     "text": [
      "Rasampling files in progress: 0it [00:00, ?it/s]\n"
     ]
    },
    {
     "name": "stdout",
     "output_type": "stream",
     "text": [
      "Processing: D:/01 서울시립대학교/03 5학년 2학기/03 컴퓨터종합설계/008.소음 환경 음성인식 데이터\\01.데이터\\2.Validation\\원천데이터\\06.지하철,버스\\01.지하철플랫폼\n"
     ]
    },
    {
     "name": "stderr",
     "output_type": "stream",
     "text": [
      "Rasampling files in progress: 100%|██████████████████████████████████████████████████████████| 334/334 [00:00<?, ?it/s]\n"
     ]
    },
    {
     "name": "stdout",
     "output_type": "stream",
     "text": [
      "Processing: D:/01 서울시립대학교/03 5학년 2학기/03 컴퓨터종합설계/008.소음 환경 음성인식 데이터\\01.데이터\\2.Validation\\원천데이터\\06.지하철,버스\\02.지하철안\n"
     ]
    },
    {
     "name": "stderr",
     "output_type": "stream",
     "text": [
      "Rasampling files in progress: 100%|██████████████████████████████████████████████████████████| 556/556 [00:00<?, ?it/s]\n"
     ]
    },
    {
     "name": "stdout",
     "output_type": "stream",
     "text": [
      "Processing: D:/01 서울시립대학교/03 5학년 2학기/03 컴퓨터종합설계/008.소음 환경 음성인식 데이터\\01.데이터\\2.Validation\\원천데이터\\06.지하철,버스\\03.기차안\n"
     ]
    },
    {
     "name": "stderr",
     "output_type": "stream",
     "text": [
      "Rasampling files in progress: 100%|██████████████████████████████████████████████████████████| 176/176 [00:00<?, ?it/s]\n"
     ]
    },
    {
     "name": "stdout",
     "output_type": "stream",
     "text": [
      "Processing: D:/01 서울시립대학교/03 5학년 2학기/03 컴퓨터종합설계/008.소음 환경 음성인식 데이터\\01.데이터\\2.Validation\\원천데이터\\06.지하철,버스\\04.버스안\n"
     ]
    },
    {
     "name": "stderr",
     "output_type": "stream",
     "text": [
      "Rasampling files in progress: 100%|██████████████████████████████████████████████████████████| 594/594 [00:00<?, ?it/s]\n"
     ]
    },
    {
     "name": "stdout",
     "output_type": "stream",
     "text": [
      "Processing: D:/01 서울시립대학교/03 5학년 2학기/03 컴퓨터종합설계/008.소음 환경 음성인식 데이터\\01.데이터\\2.Validation\\원천데이터\\07.터미널\n"
     ]
    },
    {
     "name": "stderr",
     "output_type": "stream",
     "text": [
      "Rasampling files in progress: 0it [00:00, ?it/s]\n"
     ]
    },
    {
     "name": "stdout",
     "output_type": "stream",
     "text": [
      "Processing: D:/01 서울시립대학교/03 5학년 2학기/03 컴퓨터종합설계/008.소음 환경 음성인식 데이터\\01.데이터\\2.Validation\\원천데이터\\07.터미널\\01.기차역대합실\n"
     ]
    },
    {
     "name": "stderr",
     "output_type": "stream",
     "text": [
      "Rasampling files in progress: 100%|██████████████████████████████████████████████████████████| 526/526 [00:00<?, ?it/s]\n"
     ]
    },
    {
     "name": "stdout",
     "output_type": "stream",
     "text": [
      "Processing: D:/01 서울시립대학교/03 5학년 2학기/03 컴퓨터종합설계/008.소음 환경 음성인식 데이터\\01.데이터\\2.Validation\\원천데이터\\07.터미널\\02.버스터미널대합실\n"
     ]
    },
    {
     "name": "stderr",
     "output_type": "stream",
     "text": [
      "Rasampling files in progress: 100%|██████████████████████████████████████████████████████████| 534/534 [00:00<?, ?it/s]\n"
     ]
    },
    {
     "name": "stdout",
     "output_type": "stream",
     "text": [
      "Processing: D:/01 서울시립대학교/03 5학년 2학기/03 컴퓨터종합설계/008.소음 환경 음성인식 데이터\\01.데이터\\2.Validation\\원천데이터\\07.터미널\\03.터미널_기타소음\n"
     ]
    },
    {
     "name": "stderr",
     "output_type": "stream",
     "text": [
      "Rasampling files in progress: 100%|██████████████████████████████████████████████████████████| 450/450 [00:00<?, ?it/s]\n"
     ]
    },
    {
     "name": "stdout",
     "output_type": "stream",
     "text": [
      "Processing: D:/01 서울시립대학교/03 5학년 2학기/03 컴퓨터종합설계/008.소음 환경 음성인식 데이터\\01.데이터\\2.Validation\\원천데이터\\08.공사장\n"
     ]
    },
    {
     "name": "stderr",
     "output_type": "stream",
     "text": [
      "Rasampling files in progress: 0it [00:00, ?it/s]\n"
     ]
    },
    {
     "name": "stdout",
     "output_type": "stream",
     "text": [
      "Processing: D:/01 서울시립대학교/03 5학년 2학기/03 컴퓨터종합설계/008.소음 환경 음성인식 데이터\\01.데이터\\2.Validation\\원천데이터\\08.공사장\\01.실외공사장\n"
     ]
    },
    {
     "name": "stderr",
     "output_type": "stream",
     "text": [
      "Rasampling files in progress: 100%|██████████████████████████████████████████████████████████| 404/404 [00:00<?, ?it/s]\n"
     ]
    },
    {
     "name": "stdout",
     "output_type": "stream",
     "text": [
      "Processing: D:/01 서울시립대학교/03 5학년 2학기/03 컴퓨터종합설계/008.소음 환경 음성인식 데이터\\01.데이터\\2.Validation\\원천데이터\\08.공사장\\02.실내공사장\n"
     ]
    },
    {
     "name": "stderr",
     "output_type": "stream",
     "text": [
      "Rasampling files in progress: 100%|██████████████████████████████████████████████████████████| 186/186 [00:00<?, ?it/s]\n"
     ]
    },
    {
     "name": "stdout",
     "output_type": "stream",
     "text": [
      "Processing: D:/01 서울시립대학교/03 5학년 2학기/03 컴퓨터종합설계/008.소음 환경 음성인식 데이터\\01.데이터\\2.Validation\\원천데이터\\08.공사장\\03.공사장_기타소음\n"
     ]
    },
    {
     "name": "stderr",
     "output_type": "stream",
     "text": [
      "Rasampling files in progress: 100%|██████████████████████████████████████████████| 326/326 [00:00<00:00, 325480.39it/s]\n"
     ]
    },
    {
     "name": "stdout",
     "output_type": "stream",
     "text": [
      "Processing: D:/01 서울시립대학교/03 5학년 2학기/03 컴퓨터종합설계/008.소음 환경 음성인식 데이터\\01.데이터\\2.Validation\\원천데이터\\09.공장\n"
     ]
    },
    {
     "name": "stderr",
     "output_type": "stream",
     "text": [
      "Rasampling files in progress: 0it [00:00, ?it/s]\n"
     ]
    },
    {
     "name": "stdout",
     "output_type": "stream",
     "text": [
      "Processing: D:/01 서울시립대학교/03 5학년 2학기/03 컴퓨터종합설계/008.소음 환경 음성인식 데이터\\01.데이터\\2.Validation\\원천데이터\\09.공장\\01.가공공정\n"
     ]
    },
    {
     "name": "stderr",
     "output_type": "stream",
     "text": [
      "Rasampling files in progress: 100%|██████████████████████████████████████████████| 154/154 [00:00<00:00, 153316.60it/s]\n"
     ]
    },
    {
     "name": "stdout",
     "output_type": "stream",
     "text": [
      "Processing: D:/01 서울시립대학교/03 5학년 2학기/03 컴퓨터종합설계/008.소음 환경 음성인식 데이터\\01.데이터\\2.Validation\\원천데이터\\09.공장\\02.조립공정\n"
     ]
    },
    {
     "name": "stderr",
     "output_type": "stream",
     "text": [
      "Rasampling files in progress: 100%|██████████████████████████████████████████████████████████| 246/246 [00:00<?, ?it/s]\n"
     ]
    },
    {
     "name": "stdout",
     "output_type": "stream",
     "text": [
      "Processing: D:/01 서울시립대학교/03 5학년 2학기/03 컴퓨터종합설계/008.소음 환경 음성인식 데이터\\01.데이터\\2.Validation\\원천데이터\\09.공장\\03.공장_기타소음\n"
     ]
    },
    {
     "name": "stderr",
     "output_type": "stream",
     "text": [
      "Rasampling files in progress: 100%|█████████████████████████████████████████████| 612/612 [00:00<00:00, 1220016.18it/s]\n"
     ]
    },
    {
     "name": "stdout",
     "output_type": "stream",
     "text": [
      "Processing: D:/01 서울시립대학교/03 5학년 2학기/03 컴퓨터종합설계/008.소음 환경 음성인식 데이터\\01.데이터\\2.Validation\\원천데이터\\10.일반자연\n"
     ]
    },
    {
     "name": "stderr",
     "output_type": "stream",
     "text": [
      "Rasampling files in progress: 0it [00:00, ?it/s]\n"
     ]
    },
    {
     "name": "stdout",
     "output_type": "stream",
     "text": [
      "Processing: D:/01 서울시립대학교/03 5학년 2학기/03 컴퓨터종합설계/008.소음 환경 음성인식 데이터\\01.데이터\\2.Validation\\원천데이터\\10.일반자연\\01.빗소리\n"
     ]
    },
    {
     "name": "stderr",
     "output_type": "stream",
     "text": [
      "Rasampling files in progress: 100%|██████████████████████████████████████████████| 704/704 [00:00<00:00, 703883.20it/s]\n"
     ]
    },
    {
     "name": "stdout",
     "output_type": "stream",
     "text": [
      "Processing: D:/01 서울시립대학교/03 5학년 2학기/03 컴퓨터종합설계/008.소음 환경 음성인식 데이터\\01.데이터\\2.Validation\\원천데이터\\10.일반자연\\02.파도\n"
     ]
    },
    {
     "name": "stderr",
     "output_type": "stream",
     "text": [
      "Rasampling files in progress: 100%|██████████████████████████████████████████████| 250/250 [00:00<00:00, 249839.41it/s]\n"
     ]
    },
    {
     "name": "stdout",
     "output_type": "stream",
     "text": [
      "Processing: D:/01 서울시립대학교/03 5학년 2학기/03 컴퓨터종합설계/008.소음 환경 음성인식 데이터\\01.데이터\\2.Validation\\원천데이터\\10.일반자연\\03.일반자연_기타소음\n"
     ]
    },
    {
     "name": "stderr",
     "output_type": "stream",
     "text": [
      "Rasampling files in progress: 100%|██████████████████████████████████████████████| 146/146 [00:00<00:00, 145871.46it/s]\n"
     ]
    },
    {
     "name": "stdout",
     "output_type": "stream",
     "text": [
      "Processing: D:/01 서울시립대학교/03 5학년 2학기/03 컴퓨터종합설계/008.소음 환경 음성인식 데이터\\01.데이터\\2.Validation\\원천데이터\\11.복합소음\n"
     ]
    },
    {
     "name": "stderr",
     "output_type": "stream",
     "text": [
      "Rasampling files in progress: 0it [00:00, ?it/s]\n"
     ]
    },
    {
     "name": "stdout",
     "output_type": "stream",
     "text": [
      "Processing: D:/01 서울시립대학교/03 5학년 2학기/03 컴퓨터종합설계/008.소음 환경 음성인식 데이터\\01.데이터\\2.Validation\\원천데이터\\11.복합소음\\01.2가지이상소음원\n"
     ]
    },
    {
     "name": "stderr",
     "output_type": "stream",
     "text": [
      "Rasampling files in progress: 100%|███████████████████████████████████████████| 2758/2758 [00:00<00:00, 2758199.91it/s]"
     ]
    },
    {
     "name": "stdout",
     "output_type": "stream",
     "text": [
      "Done!\n"
     ]
    },
    {
     "name": "stderr",
     "output_type": "stream",
     "text": [
      "\n"
     ]
    }
   ],
   "source": [
    "root_directory = \"D:/01 서울시립대학교/03 5학년 2학기/03 컴퓨터종합설계/008.소음 환경 음성인식 데이터\"\n",
    "save_directory = \"D:/01 서울시립대학교/03 5학년 2학기/03 컴퓨터종합설계/Saveset\"\n",
    "resample_data(root_directory, save_directory)"
   ]
  },
  {
   "cell_type": "markdown",
   "id": "d36e3666-9386-434c-aa75-cb028222e32c",
   "metadata": {},
   "source": [
    "## 1.1. num_files_check"
   ]
  },
  {
   "cell_type": "code",
   "execution_count": 13,
   "id": "031f0981-885e-40ce-9175-8bbcaf4052df",
   "metadata": {},
   "outputs": [],
   "source": [
    "def num_files_check(root_dir):\n",
    "    for dirpath, dirnames, filenames in os.walk(root_dir):\n",
    "        print(f\"dir_path: {dirpath}\")\n",
    "        print(f\"num_files: {len(filenames)}\")"
   ]
  },
  {
   "cell_type": "code",
   "execution_count": 14,
   "id": "67bf37c1-f217-4e38-a703-dfe698b1f83e",
   "metadata": {},
   "outputs": [
    {
     "name": "stdout",
     "output_type": "stream",
     "text": [
      "dir_path: D:/01 서울시립대학교/03 5학년 2학기/03 컴퓨터종합설계/Saveset\n",
      "num_files: 0\n",
      "dir_path: D:/01 서울시립대학교/03 5학년 2학기/03 컴퓨터종합설계/Saveset\\01.데이터\n",
      "num_files: 0\n",
      "dir_path: D:/01 서울시립대학교/03 5학년 2학기/03 컴퓨터종합설계/Saveset\\01.데이터\\2.Validation\n",
      "num_files: 0\n",
      "dir_path: D:/01 서울시립대학교/03 5학년 2학기/03 컴퓨터종합설계/Saveset\\01.데이터\\2.Validation\\라벨링데이터\n",
      "num_files: 0\n",
      "dir_path: D:/01 서울시립대학교/03 5학년 2학기/03 컴퓨터종합설계/Saveset\\01.데이터\\2.Validation\\라벨링데이터\\01.가전소음\n",
      "num_files: 0\n",
      "dir_path: D:/01 서울시립대학교/03 5학년 2학기/03 컴퓨터종합설계/Saveset\\01.데이터\\2.Validation\\라벨링데이터\\01.가전소음\\01.세탁기,건조기\n",
      "num_files: 10554\n",
      "dir_path: D:/01 서울시립대학교/03 5학년 2학기/03 컴퓨터종합설계/Saveset\\01.데이터\\2.Validation\\라벨링데이터\\01.가전소음\\02.청소기\n",
      "num_files: 4594\n",
      "dir_path: D:/01 서울시립대학교/03 5학년 2학기/03 컴퓨터종합설계/Saveset\\01.데이터\\2.Validation\\라벨링데이터\\01.가전소음\\03.가전소음_기타소음\n",
      "num_files: 31620\n",
      "dir_path: D:/01 서울시립대학교/03 5학년 2학기/03 컴퓨터종합설계/Saveset\\01.데이터\\2.Validation\\라벨링데이터\\02.교통수단\n",
      "num_files: 0\n",
      "dir_path: D:/01 서울시립대학교/03 5학년 2학기/03 컴퓨터종합설계/Saveset\\01.데이터\\2.Validation\\라벨링데이터\\02.교통수단\\01.바이크\n",
      "num_files: 1908\n",
      "dir_path: D:/01 서울시립대학교/03 5학년 2학기/03 컴퓨터종합설계/Saveset\\01.데이터\\2.Validation\\라벨링데이터\\02.교통수단\\02.싸이렌\n",
      "num_files: 1712\n",
      "dir_path: D:/01 서울시립대학교/03 5학년 2학기/03 컴퓨터종합설계/Saveset\\01.데이터\\2.Validation\\라벨링데이터\\02.교통수단\\03.경적\n",
      "num_files: 2090\n",
      "dir_path: D:/01 서울시립대학교/03 5학년 2학기/03 컴퓨터종합설계/Saveset\\01.데이터\\2.Validation\\라벨링데이터\\02.교통수단\\04.교통수단_기타소음\n",
      "num_files: 3330\n",
      "dir_path: D:/01 서울시립대학교/03 5학년 2학기/03 컴퓨터종합설계/Saveset\\01.데이터\\2.Validation\\라벨링데이터\\03.길거리\n",
      "num_files: 0\n",
      "dir_path: D:/01 서울시립대학교/03 5학년 2학기/03 컴퓨터종합설계/Saveset\\01.데이터\\2.Validation\\라벨링데이터\\03.길거리\\01.도로변\n",
      "num_files: 8918\n",
      "dir_path: D:/01 서울시립대학교/03 5학년 2학기/03 컴퓨터종합설계/Saveset\\01.데이터\\2.Validation\\라벨링데이터\\03.길거리\\02.인파\n",
      "num_files: 1648\n",
      "dir_path: D:/01 서울시립대학교/03 5학년 2학기/03 컴퓨터종합설계/Saveset\\01.데이터\\2.Validation\\라벨링데이터\\03.길거리\\03.길거리_기타소음\n",
      "num_files: 5032\n",
      "dir_path: D:/01 서울시립대학교/03 5학년 2학기/03 컴퓨터종합설계/Saveset\\01.데이터\\2.Validation\\라벨링데이터\\04.카페,음식점\n",
      "num_files: 0\n",
      "dir_path: D:/01 서울시립대학교/03 5학년 2학기/03 컴퓨터종합설계/Saveset\\01.데이터\\2.Validation\\라벨링데이터\\04.카페,음식점\\01.대화소음\n",
      "num_files: 16548\n",
      "dir_path: D:/01 서울시립대학교/03 5학년 2학기/03 컴퓨터종합설계/Saveset\\01.데이터\\2.Validation\\라벨링데이터\\04.카페,음식점\\02.업소소음\n",
      "num_files: 23310\n",
      "dir_path: D:/01 서울시립대학교/03 5학년 2학기/03 컴퓨터종합설계/Saveset\\01.데이터\\2.Validation\\라벨링데이터\\04.카페,음식점\\03.카페,음식점_기타소음\n",
      "num_files: 5788\n",
      "dir_path: D:/01 서울시립대학교/03 5학년 2학기/03 컴퓨터종합설계/Saveset\\01.데이터\\2.Validation\\라벨링데이터\\05.시장,쇼핑몰\n",
      "num_files: 0\n",
      "dir_path: D:/01 서울시립대학교/03 5학년 2학기/03 컴퓨터종합설계/Saveset\\01.데이터\\2.Validation\\라벨링데이터\\05.시장,쇼핑몰\\01.전통시장\n",
      "num_files: 5068\n",
      "dir_path: D:/01 서울시립대학교/03 5학년 2학기/03 컴퓨터종합설계/Saveset\\01.데이터\\2.Validation\\라벨링데이터\\05.시장,쇼핑몰\\02.복합쇼핑몰\n",
      "num_files: 36208\n",
      "dir_path: D:/01 서울시립대학교/03 5학년 2학기/03 컴퓨터종합설계/Saveset\\01.데이터\\2.Validation\\라벨링데이터\\05.시장,쇼핑몰\\03.시장,쇼핑몰_기타소음\n",
      "num_files: 3976\n",
      "dir_path: D:/01 서울시립대학교/03 5학년 2학기/03 컴퓨터종합설계/Saveset\\01.데이터\\2.Validation\\라벨링데이터\\06.지하철,버스\n",
      "num_files: 0\n",
      "dir_path: D:/01 서울시립대학교/03 5학년 2학기/03 컴퓨터종합설계/Saveset\\01.데이터\\2.Validation\\라벨링데이터\\06.지하철,버스\\01.지하철플랫폼\n",
      "num_files: 4826\n",
      "dir_path: D:/01 서울시립대학교/03 5학년 2학기/03 컴퓨터종합설계/Saveset\\01.데이터\\2.Validation\\라벨링데이터\\06.지하철,버스\\02.지하철안\n",
      "num_files: 6670\n",
      "dir_path: D:/01 서울시립대학교/03 5학년 2학기/03 컴퓨터종합설계/Saveset\\01.데이터\\2.Validation\\라벨링데이터\\06.지하철,버스\\03.기차안\n",
      "num_files: 1844\n",
      "dir_path: D:/01 서울시립대학교/03 5학년 2학기/03 컴퓨터종합설계/Saveset\\01.데이터\\2.Validation\\라벨링데이터\\06.지하철,버스\\04.버스안\n",
      "num_files: 7188\n",
      "dir_path: D:/01 서울시립대학교/03 5학년 2학기/03 컴퓨터종합설계/Saveset\\01.데이터\\2.Validation\\라벨링데이터\\07.터미널\n",
      "num_files: 0\n",
      "dir_path: D:/01 서울시립대학교/03 5학년 2학기/03 컴퓨터종합설계/Saveset\\01.데이터\\2.Validation\\라벨링데이터\\07.터미널\\01.기차역대합실\n",
      "num_files: 7976\n",
      "dir_path: D:/01 서울시립대학교/03 5학년 2학기/03 컴퓨터종합설계/Saveset\\01.데이터\\2.Validation\\라벨링데이터\\07.터미널\\02.버스터미널대합실\n",
      "num_files: 7644\n",
      "dir_path: D:/01 서울시립대학교/03 5학년 2학기/03 컴퓨터종합설계/Saveset\\01.데이터\\2.Validation\\라벨링데이터\\07.터미널\\03.터미널_기타소음\n",
      "num_files: 7142\n",
      "dir_path: D:/01 서울시립대학교/03 5학년 2학기/03 컴퓨터종합설계/Saveset\\01.데이터\\2.Validation\\라벨링데이터\\08.공사장\n",
      "num_files: 0\n",
      "dir_path: D:/01 서울시립대학교/03 5학년 2학기/03 컴퓨터종합설계/Saveset\\01.데이터\\2.Validation\\라벨링데이터\\08.공사장\\01.실외공사장\n",
      "num_files: 4508\n",
      "dir_path: D:/01 서울시립대학교/03 5학년 2학기/03 컴퓨터종합설계/Saveset\\01.데이터\\2.Validation\\라벨링데이터\\08.공사장\\02.실내공사장\n",
      "num_files: 1606\n",
      "dir_path: D:/01 서울시립대학교/03 5학년 2학기/03 컴퓨터종합설계/Saveset\\01.데이터\\2.Validation\\라벨링데이터\\08.공사장\\03.공사장_기타소음\n",
      "num_files: 3768\n",
      "dir_path: D:/01 서울시립대학교/03 5학년 2학기/03 컴퓨터종합설계/Saveset\\01.데이터\\2.Validation\\라벨링데이터\\09.공장\n",
      "num_files: 0\n",
      "dir_path: D:/01 서울시립대학교/03 5학년 2학기/03 컴퓨터종합설계/Saveset\\01.데이터\\2.Validation\\라벨링데이터\\09.공장\\01.가공공정\n",
      "num_files: 2110\n",
      "dir_path: D:/01 서울시립대학교/03 5학년 2학기/03 컴퓨터종합설계/Saveset\\01.데이터\\2.Validation\\라벨링데이터\\09.공장\\02.조립공정\n",
      "num_files: 2742\n",
      "dir_path: D:/01 서울시립대학교/03 5학년 2학기/03 컴퓨터종합설계/Saveset\\01.데이터\\2.Validation\\라벨링데이터\\09.공장\\03.공장_기타소음\n",
      "num_files: 9536\n",
      "dir_path: D:/01 서울시립대학교/03 5학년 2학기/03 컴퓨터종합설계/Saveset\\01.데이터\\2.Validation\\라벨링데이터\\10.일반자연\n",
      "num_files: 0\n",
      "dir_path: D:/01 서울시립대학교/03 5학년 2학기/03 컴퓨터종합설계/Saveset\\01.데이터\\2.Validation\\라벨링데이터\\10.일반자연\\01.빗소리\n",
      "num_files: 10456\n",
      "dir_path: D:/01 서울시립대학교/03 5학년 2학기/03 컴퓨터종합설계/Saveset\\01.데이터\\2.Validation\\라벨링데이터\\10.일반자연\\02.파도\n",
      "num_files: 3760\n",
      "dir_path: D:/01 서울시립대학교/03 5학년 2학기/03 컴퓨터종합설계/Saveset\\01.데이터\\2.Validation\\라벨링데이터\\10.일반자연\\03.일반자연_기타소음\n",
      "num_files: 2078\n",
      "dir_path: D:/01 서울시립대학교/03 5학년 2학기/03 컴퓨터종합설계/Saveset\\01.데이터\\2.Validation\\라벨링데이터\\11.복합소음\n",
      "num_files: 0\n",
      "dir_path: D:/01 서울시립대학교/03 5학년 2학기/03 컴퓨터종합설계/Saveset\\01.데이터\\2.Validation\\라벨링데이터\\11.복합소음\\01.2가지이상소음원\n",
      "num_files: 26624\n",
      "dir_path: D:/01 서울시립대학교/03 5학년 2학기/03 컴퓨터종합설계/Saveset\\01.데이터\\2.Validation\\원천데이터\n",
      "num_files: 0\n",
      "dir_path: D:/01 서울시립대학교/03 5학년 2학기/03 컴퓨터종합설계/Saveset\\01.데이터\\2.Validation\\원천데이터\\01.가전소음\n",
      "num_files: 0\n",
      "dir_path: D:/01 서울시립대학교/03 5학년 2학기/03 컴퓨터종합설계/Saveset\\01.데이터\\2.Validation\\원천데이터\\01.가전소음\\01.세탁기,건조기\n",
      "num_files: 10554\n",
      "dir_path: D:/01 서울시립대학교/03 5학년 2학기/03 컴퓨터종합설계/Saveset\\01.데이터\\2.Validation\\원천데이터\\01.가전소음\\02.청소기\n",
      "num_files: 4594\n",
      "dir_path: D:/01 서울시립대학교/03 5학년 2학기/03 컴퓨터종합설계/Saveset\\01.데이터\\2.Validation\\원천데이터\\01.가전소음\\03.가전소음_기타소음\n",
      "num_files: 31620\n",
      "dir_path: D:/01 서울시립대학교/03 5학년 2학기/03 컴퓨터종합설계/Saveset\\01.데이터\\2.Validation\\원천데이터\\02.교통수단\n",
      "num_files: 0\n",
      "dir_path: D:/01 서울시립대학교/03 5학년 2학기/03 컴퓨터종합설계/Saveset\\01.데이터\\2.Validation\\원천데이터\\02.교통수단\\01.바이크\n",
      "num_files: 1908\n",
      "dir_path: D:/01 서울시립대학교/03 5학년 2학기/03 컴퓨터종합설계/Saveset\\01.데이터\\2.Validation\\원천데이터\\02.교통수단\\02.싸이렌\n",
      "num_files: 1712\n",
      "dir_path: D:/01 서울시립대학교/03 5학년 2학기/03 컴퓨터종합설계/Saveset\\01.데이터\\2.Validation\\원천데이터\\02.교통수단\\03.경적\n",
      "num_files: 2090\n",
      "dir_path: D:/01 서울시립대학교/03 5학년 2학기/03 컴퓨터종합설계/Saveset\\01.데이터\\2.Validation\\원천데이터\\02.교통수단\\04.교통수단_기타소음\n",
      "num_files: 3330\n",
      "dir_path: D:/01 서울시립대학교/03 5학년 2학기/03 컴퓨터종합설계/Saveset\\01.데이터\\2.Validation\\원천데이터\\03.길거리\n",
      "num_files: 0\n",
      "dir_path: D:/01 서울시립대학교/03 5학년 2학기/03 컴퓨터종합설계/Saveset\\01.데이터\\2.Validation\\원천데이터\\03.길거리\\01.도로변\n",
      "num_files: 8918\n",
      "dir_path: D:/01 서울시립대학교/03 5학년 2학기/03 컴퓨터종합설계/Saveset\\01.데이터\\2.Validation\\원천데이터\\03.길거리\\02.인파\n",
      "num_files: 1648\n",
      "dir_path: D:/01 서울시립대학교/03 5학년 2학기/03 컴퓨터종합설계/Saveset\\01.데이터\\2.Validation\\원천데이터\\03.길거리\\03.길거리_기타소음\n",
      "num_files: 5032\n",
      "dir_path: D:/01 서울시립대학교/03 5학년 2학기/03 컴퓨터종합설계/Saveset\\01.데이터\\2.Validation\\원천데이터\\04.카페,음식점\n",
      "num_files: 0\n",
      "dir_path: D:/01 서울시립대학교/03 5학년 2학기/03 컴퓨터종합설계/Saveset\\01.데이터\\2.Validation\\원천데이터\\04.카페,음식점\\01.대화소음\n",
      "num_files: 16548\n",
      "dir_path: D:/01 서울시립대학교/03 5학년 2학기/03 컴퓨터종합설계/Saveset\\01.데이터\\2.Validation\\원천데이터\\04.카페,음식점\\02.업소소음\n",
      "num_files: 23310\n",
      "dir_path: D:/01 서울시립대학교/03 5학년 2학기/03 컴퓨터종합설계/Saveset\\01.데이터\\2.Validation\\원천데이터\\04.카페,음식점\\03.카페,음식점_기타소음\n",
      "num_files: 5788\n",
      "dir_path: D:/01 서울시립대학교/03 5학년 2학기/03 컴퓨터종합설계/Saveset\\01.데이터\\2.Validation\\원천데이터\\05.시장,쇼핑몰\n",
      "num_files: 0\n",
      "dir_path: D:/01 서울시립대학교/03 5학년 2학기/03 컴퓨터종합설계/Saveset\\01.데이터\\2.Validation\\원천데이터\\05.시장,쇼핑몰\\01.전통시장\n",
      "num_files: 5068\n",
      "dir_path: D:/01 서울시립대학교/03 5학년 2학기/03 컴퓨터종합설계/Saveset\\01.데이터\\2.Validation\\원천데이터\\05.시장,쇼핑몰\\02.복합쇼핑몰\n",
      "num_files: 36208\n",
      "dir_path: D:/01 서울시립대학교/03 5학년 2학기/03 컴퓨터종합설계/Saveset\\01.데이터\\2.Validation\\원천데이터\\05.시장,쇼핑몰\\03.시장,쇼핑몰_기타소음\n",
      "num_files: 3976\n",
      "dir_path: D:/01 서울시립대학교/03 5학년 2학기/03 컴퓨터종합설계/Saveset\\01.데이터\\2.Validation\\원천데이터\\06.지하철,버스\n",
      "num_files: 0\n",
      "dir_path: D:/01 서울시립대학교/03 5학년 2학기/03 컴퓨터종합설계/Saveset\\01.데이터\\2.Validation\\원천데이터\\06.지하철,버스\\01.지하철플랫폼\n",
      "num_files: 4826\n",
      "dir_path: D:/01 서울시립대학교/03 5학년 2학기/03 컴퓨터종합설계/Saveset\\01.데이터\\2.Validation\\원천데이터\\06.지하철,버스\\02.지하철안\n",
      "num_files: 6670\n",
      "dir_path: D:/01 서울시립대학교/03 5학년 2학기/03 컴퓨터종합설계/Saveset\\01.데이터\\2.Validation\\원천데이터\\06.지하철,버스\\03.기차안\n",
      "num_files: 1844\n",
      "dir_path: D:/01 서울시립대학교/03 5학년 2학기/03 컴퓨터종합설계/Saveset\\01.데이터\\2.Validation\\원천데이터\\06.지하철,버스\\04.버스안\n",
      "num_files: 7188\n",
      "dir_path: D:/01 서울시립대학교/03 5학년 2학기/03 컴퓨터종합설계/Saveset\\01.데이터\\2.Validation\\원천데이터\\07.터미널\n",
      "num_files: 0\n",
      "dir_path: D:/01 서울시립대학교/03 5학년 2학기/03 컴퓨터종합설계/Saveset\\01.데이터\\2.Validation\\원천데이터\\07.터미널\\01.기차역대합실\n",
      "num_files: 7976\n",
      "dir_path: D:/01 서울시립대학교/03 5학년 2학기/03 컴퓨터종합설계/Saveset\\01.데이터\\2.Validation\\원천데이터\\07.터미널\\02.버스터미널대합실\n",
      "num_files: 7644\n",
      "dir_path: D:/01 서울시립대학교/03 5학년 2학기/03 컴퓨터종합설계/Saveset\\01.데이터\\2.Validation\\원천데이터\\07.터미널\\03.터미널_기타소음\n",
      "num_files: 7142\n",
      "dir_path: D:/01 서울시립대학교/03 5학년 2학기/03 컴퓨터종합설계/Saveset\\01.데이터\\2.Validation\\원천데이터\\08.공사장\n",
      "num_files: 0\n",
      "dir_path: D:/01 서울시립대학교/03 5학년 2학기/03 컴퓨터종합설계/Saveset\\01.데이터\\2.Validation\\원천데이터\\08.공사장\\01.실외공사장\n",
      "num_files: 4508\n",
      "dir_path: D:/01 서울시립대학교/03 5학년 2학기/03 컴퓨터종합설계/Saveset\\01.데이터\\2.Validation\\원천데이터\\08.공사장\\02.실내공사장\n",
      "num_files: 1606\n",
      "dir_path: D:/01 서울시립대학교/03 5학년 2학기/03 컴퓨터종합설계/Saveset\\01.데이터\\2.Validation\\원천데이터\\08.공사장\\03.공사장_기타소음\n",
      "num_files: 3768\n",
      "dir_path: D:/01 서울시립대학교/03 5학년 2학기/03 컴퓨터종합설계/Saveset\\01.데이터\\2.Validation\\원천데이터\\09.공장\n",
      "num_files: 0\n",
      "dir_path: D:/01 서울시립대학교/03 5학년 2학기/03 컴퓨터종합설계/Saveset\\01.데이터\\2.Validation\\원천데이터\\09.공장\\01.가공공정\n",
      "num_files: 2110\n",
      "dir_path: D:/01 서울시립대학교/03 5학년 2학기/03 컴퓨터종합설계/Saveset\\01.데이터\\2.Validation\\원천데이터\\09.공장\\02.조립공정\n",
      "num_files: 2742\n",
      "dir_path: D:/01 서울시립대학교/03 5학년 2학기/03 컴퓨터종합설계/Saveset\\01.데이터\\2.Validation\\원천데이터\\09.공장\\03.공장_기타소음\n",
      "num_files: 9536\n",
      "dir_path: D:/01 서울시립대학교/03 5학년 2학기/03 컴퓨터종합설계/Saveset\\01.데이터\\2.Validation\\원천데이터\\10.일반자연\n",
      "num_files: 0\n",
      "dir_path: D:/01 서울시립대학교/03 5학년 2학기/03 컴퓨터종합설계/Saveset\\01.데이터\\2.Validation\\원천데이터\\10.일반자연\\01.빗소리\n",
      "num_files: 10456\n",
      "dir_path: D:/01 서울시립대학교/03 5학년 2학기/03 컴퓨터종합설계/Saveset\\01.데이터\\2.Validation\\원천데이터\\10.일반자연\\02.파도\n",
      "num_files: 3760\n",
      "dir_path: D:/01 서울시립대학교/03 5학년 2학기/03 컴퓨터종합설계/Saveset\\01.데이터\\2.Validation\\원천데이터\\10.일반자연\\03.일반자연_기타소음\n",
      "num_files: 2078\n",
      "dir_path: D:/01 서울시립대학교/03 5학년 2학기/03 컴퓨터종합설계/Saveset\\01.데이터\\2.Validation\\원천데이터\\11.복합소음\n",
      "num_files: 0\n",
      "dir_path: D:/01 서울시립대학교/03 5학년 2학기/03 컴퓨터종합설계/Saveset\\01.데이터\\2.Validation\\원천데이터\\11.복합소음\\01.2가지이상소음원\n",
      "num_files: 26624\n"
     ]
    }
   ],
   "source": [
    "root_directory = \"D:/01 서울시립대학교/03 5학년 2학기/03 컴퓨터종합설계/Saveset\"\n",
    "num_files_check(root_directory)"
   ]
  },
  {
   "cell_type": "markdown",
   "id": "45b88a21-b469-4dd1-bade-dbdf1f3a4311",
   "metadata": {},
   "source": [
    "## 2. Deletion"
   ]
  },
  {
   "cell_type": "code",
   "execution_count": 2,
   "id": "4cd2b927-6158-4eb3-8e14-8ee2ef99884e",
   "metadata": {},
   "outputs": [],
   "source": [
    "import os\n",
    "import random\n",
    "import shutil\n",
    "from tqdm import tqdm\n",
    "\n",
    "def delete_data(directory_path, delete_rate=None, left_num=3000):\n",
    "    file_list = os.listdir(directory_path)\n",
    "    if delete_rate != None:\n",
    "        print(f\"directory path: {directory_path}\")\n",
    "        print(f\"delete rate: {int(len(file_list)*delete_rate)}/{len(file_list)} ({delete_rate*100}%)\")\n",
    "        print(f\"left rate: {len(file_list) - int(len(file_list)*delete_rate)}/{len(file_list)} ({100 - delete_rate*100}%)\")\n",
    "        num_files_to_delete = int(len(file_list)*delete_rate)\n",
    "    else:\n",
    "        print(f\"directory path: {directory_path}\")\n",
    "        print(f\"delete rate: {len(file_list) - left_num}/{len(file_list)}\")\n",
    "        print(f\"left rate: {left_num}/{len(file_list)}\")\n",
    "        num_files_to_delete = int(len(file_list) - left_num)\n",
    "\n",
    "    files_to_delete = random.sample(file_list, num_files_to_delete)\n",
    "    \n",
    "    with tqdm(total=num_files_to_delete, desc=\"Deleting files in progress\") as pbar:\n",
    "        for file_name in files_to_delete:\n",
    "            file_path = os.path.join(directory_path, file_name)\n",
    "            if os.path.isfile(file_path):\n",
    "                os.remove(file_path)\n",
    "                pbar.update(1)\n",
    "        print(\"Deletion completed\")"
   ]
  },
  {
   "cell_type": "code",
   "execution_count": 3,
   "id": "aa858b16-57a2-4f1c-a40d-24ac39b15ff8",
   "metadata": {},
   "outputs": [],
   "source": [
    "delete_list = ['01.가전소음/01.세탁기,건조기', '01.가전소음/02.청소기', '01.가전소음/03.가전소음_기타소음',\n",
    "               '02.교통수단/01.바이크', '02.교통수단/02.싸이렌', '02.교통수단/03.경적', '02.교통수단/04.교통수단_기타소음', \n",
    "               '03.길거리/01.도로변', '03.길거리/02.인파', '03.길거리/03.길거리_기타소음', \n",
    "               '04.카페,음식점/01.대화소음', '04.카페,음식점/02.업소소음', '04.카페,음식점/03.카페,음식점_기타소음', \n",
    "               '05.시장,쇼핑몰/01.전통시장', '05.시장,쇼핑몰/02.복합쇼핑몰', '05.시장,쇼핑몰/03.시장,쇼핑몰_기타소음', \n",
    "               '06.지하철,버스/01.지하철플랫폼', '06.지하철,버스/02.지하철안', '06.지하철,버스/03.기차안', '06.지하철,버스/04.버스안', \n",
    "               '07.터미널/01.기차역대합실', '07.터미널/02.버스터미널대합실', '07.터미널/03.터미널_기타소음', \n",
    "               '08.공사장/01.실외공사장', '08.공사장/02.실내공사장', '08.공사장/03.공사장_기타소음', \n",
    "               '09.공장/01.가공공정', '09.공장/02.조립공정', '09.공장/03.공장_기타소음', \n",
    "               '10.일반자연/01.빗소리', '10.일반자연/02.파도', '10.일반자연/03.일반자연_기타소음', \n",
    "               '11.복합소음/01.2가지이상소음원']"
   ]
  },
  {
   "cell_type": "code",
   "execution_count": 4,
   "id": "96dd3398-6007-4771-96e9-f1d37e5b7b1b",
   "metadata": {},
   "outputs": [
    {
     "data": {
      "text/plain": [
       "33"
      ]
     },
     "execution_count": 4,
     "metadata": {},
     "output_type": "execute_result"
    }
   ],
   "source": [
    "len(delete_list)"
   ]
  },
  {
   "cell_type": "code",
   "execution_count": 5,
   "id": "00c3a815-3d59-4e36-97bc-22c2ae908df4",
   "metadata": {},
   "outputs": [
    {
     "name": "stdout",
     "output_type": "stream",
     "text": [
      "directory path: D:/01 서울시립대학교/03 5학년 2학기/03 컴퓨터종합설계/Saveset/01.데이터/2.Validation/원천데이터/01.가전소음/01.세탁기,건조기\n",
      "delete rate: 8150/9150\n",
      "left rate: 1000/9150\n"
     ]
    },
    {
     "name": "stderr",
     "output_type": "stream",
     "text": [
      "Deleting files in progress: 100%|██████████████████████████████████████████████████| 8150/8150 [03:03<00:00, 44.30it/s]\n"
     ]
    },
    {
     "name": "stdout",
     "output_type": "stream",
     "text": [
      "Deletion completed\n",
      "directory path: D:/01 서울시립대학교/03 5학년 2학기/03 컴퓨터종합설계/Saveset/01.데이터/2.Validation/원천데이터/01.가전소음/02.청소기\n",
      "delete rate: 3594/4594\n",
      "left rate: 1000/4594\n"
     ]
    },
    {
     "name": "stderr",
     "output_type": "stream",
     "text": [
      "Deleting files in progress: 100%|██████████████████████████████████████████████████| 3594/3594 [01:25<00:00, 42.18it/s]\n"
     ]
    },
    {
     "name": "stdout",
     "output_type": "stream",
     "text": [
      "Deletion completed\n",
      "directory path: D:/01 서울시립대학교/03 5학년 2학기/03 컴퓨터종합설계/Saveset/01.데이터/2.Validation/원천데이터/01.가전소음/03.가전소음_기타소음\n",
      "delete rate: 30620/31620\n",
      "left rate: 1000/31620\n"
     ]
    },
    {
     "name": "stderr",
     "output_type": "stream",
     "text": [
      "Deleting files in progress: 100%|████████████████████████████████████████████████| 30620/30620 [14:58<00:00, 34.09it/s]\n"
     ]
    },
    {
     "name": "stdout",
     "output_type": "stream",
     "text": [
      "Deletion completed\n",
      "directory path: D:/01 서울시립대학교/03 5학년 2학기/03 컴퓨터종합설계/Saveset/01.데이터/2.Validation/원천데이터/02.교통수단/01.바이크\n",
      "delete rate: 908/1908\n",
      "left rate: 1000/1908\n"
     ]
    },
    {
     "name": "stderr",
     "output_type": "stream",
     "text": [
      "Deleting files in progress: 100%|████████████████████████████████████████████████████| 908/908 [00:18<00:00, 48.32it/s]\n"
     ]
    },
    {
     "name": "stdout",
     "output_type": "stream",
     "text": [
      "Deletion completed\n",
      "directory path: D:/01 서울시립대학교/03 5학년 2학기/03 컴퓨터종합설계/Saveset/01.데이터/2.Validation/원천데이터/02.교통수단/02.싸이렌\n",
      "delete rate: 712/1712\n",
      "left rate: 1000/1712\n"
     ]
    },
    {
     "name": "stderr",
     "output_type": "stream",
     "text": [
      "Deleting files in progress: 100%|████████████████████████████████████████████████████| 712/712 [00:14<00:00, 47.75it/s]\n"
     ]
    },
    {
     "name": "stdout",
     "output_type": "stream",
     "text": [
      "Deletion completed\n",
      "directory path: D:/01 서울시립대학교/03 5학년 2학기/03 컴퓨터종합설계/Saveset/01.데이터/2.Validation/원천데이터/02.교통수단/03.경적\n",
      "delete rate: 1090/2090\n",
      "left rate: 1000/2090\n"
     ]
    },
    {
     "name": "stderr",
     "output_type": "stream",
     "text": [
      "Deleting files in progress: 100%|██████████████████████████████████████████████████| 1090/1090 [00:21<00:00, 51.81it/s]\n"
     ]
    },
    {
     "name": "stdout",
     "output_type": "stream",
     "text": [
      "Deletion completed\n",
      "directory path: D:/01 서울시립대학교/03 5학년 2학기/03 컴퓨터종합설계/Saveset/01.데이터/2.Validation/원천데이터/02.교통수단/04.교통수단_기타소음\n",
      "delete rate: 2330/3330\n",
      "left rate: 1000/3330\n"
     ]
    },
    {
     "name": "stderr",
     "output_type": "stream",
     "text": [
      "Deleting files in progress: 100%|██████████████████████████████████████████████████| 2330/2330 [00:51<00:00, 45.50it/s]\n"
     ]
    },
    {
     "name": "stdout",
     "output_type": "stream",
     "text": [
      "Deletion completed\n",
      "directory path: D:/01 서울시립대학교/03 5학년 2학기/03 컴퓨터종합설계/Saveset/01.데이터/2.Validation/원천데이터/03.길거리/01.도로변\n",
      "delete rate: 7918/8918\n",
      "left rate: 1000/8918\n"
     ]
    },
    {
     "name": "stderr",
     "output_type": "stream",
     "text": [
      "Deleting files in progress: 100%|██████████████████████████████████████████████████| 7918/7918 [03:18<00:00, 39.97it/s]\n"
     ]
    },
    {
     "name": "stdout",
     "output_type": "stream",
     "text": [
      "Deletion completed\n",
      "directory path: D:/01 서울시립대학교/03 5학년 2학기/03 컴퓨터종합설계/Saveset/01.데이터/2.Validation/원천데이터/03.길거리/02.인파\n",
      "delete rate: 648/1648\n",
      "left rate: 1000/1648\n"
     ]
    },
    {
     "name": "stderr",
     "output_type": "stream",
     "text": [
      "Deleting files in progress: 100%|████████████████████████████████████████████████████| 648/648 [00:12<00:00, 52.07it/s]\n"
     ]
    },
    {
     "name": "stdout",
     "output_type": "stream",
     "text": [
      "Deletion completed\n",
      "directory path: D:/01 서울시립대학교/03 5학년 2학기/03 컴퓨터종합설계/Saveset/01.데이터/2.Validation/원천데이터/03.길거리/03.길거리_기타소음\n",
      "delete rate: 4032/5032\n",
      "left rate: 1000/5032\n"
     ]
    },
    {
     "name": "stderr",
     "output_type": "stream",
     "text": [
      "Deleting files in progress: 100%|██████████████████████████████████████████████████| 4032/4032 [01:36<00:00, 41.60it/s]\n"
     ]
    },
    {
     "name": "stdout",
     "output_type": "stream",
     "text": [
      "Deletion completed\n",
      "directory path: D:/01 서울시립대학교/03 5학년 2학기/03 컴퓨터종합설계/Saveset/01.데이터/2.Validation/원천데이터/04.카페,음식점/01.대화소음\n",
      "delete rate: 15548/16548\n",
      "left rate: 1000/16548\n"
     ]
    },
    {
     "name": "stderr",
     "output_type": "stream",
     "text": [
      "Deleting files in progress: 100%|████████████████████████████████████████████████| 15548/15548 [07:06<00:00, 36.49it/s]\n"
     ]
    },
    {
     "name": "stdout",
     "output_type": "stream",
     "text": [
      "Deletion completed\n",
      "directory path: D:/01 서울시립대학교/03 5학년 2학기/03 컴퓨터종합설계/Saveset/01.데이터/2.Validation/원천데이터/04.카페,음식점/02.업소소음\n",
      "delete rate: 22310/23310\n",
      "left rate: 1000/23310\n"
     ]
    },
    {
     "name": "stderr",
     "output_type": "stream",
     "text": [
      "Deleting files in progress: 100%|████████████████████████████████████████████████| 22310/22310 [10:45<00:00, 34.58it/s]\n"
     ]
    },
    {
     "name": "stdout",
     "output_type": "stream",
     "text": [
      "Deletion completed\n",
      "directory path: D:/01 서울시립대학교/03 5학년 2학기/03 컴퓨터종합설계/Saveset/01.데이터/2.Validation/원천데이터/04.카페,음식점/03.카페,음식점_기타소음\n",
      "delete rate: 4788/5788\n",
      "left rate: 1000/5788\n"
     ]
    },
    {
     "name": "stderr",
     "output_type": "stream",
     "text": [
      "Deleting files in progress: 100%|██████████████████████████████████████████████████| 4788/4788 [01:51<00:00, 42.97it/s]\n"
     ]
    },
    {
     "name": "stdout",
     "output_type": "stream",
     "text": [
      "Deletion completed\n",
      "directory path: D:/01 서울시립대학교/03 5학년 2학기/03 컴퓨터종합설계/Saveset/01.데이터/2.Validation/원천데이터/05.시장,쇼핑몰/01.전통시장\n",
      "delete rate: 4068/5068\n",
      "left rate: 1000/5068\n"
     ]
    },
    {
     "name": "stderr",
     "output_type": "stream",
     "text": [
      "Deleting files in progress: 100%|██████████████████████████████████████████████████| 4068/4068 [01:33<00:00, 43.60it/s]\n"
     ]
    },
    {
     "name": "stdout",
     "output_type": "stream",
     "text": [
      "Deletion completed\n",
      "directory path: D:/01 서울시립대학교/03 5학년 2학기/03 컴퓨터종합설계/Saveset/01.데이터/2.Validation/원천데이터/05.시장,쇼핑몰/02.복합쇼핑몰\n",
      "delete rate: 35208/36208\n",
      "left rate: 1000/36208\n"
     ]
    },
    {
     "name": "stderr",
     "output_type": "stream",
     "text": [
      "Deleting files in progress: 100%|████████████████████████████████████████████████| 35208/35208 [16:17<00:00, 36.03it/s]\n"
     ]
    },
    {
     "name": "stdout",
     "output_type": "stream",
     "text": [
      "Deletion completed\n",
      "directory path: D:/01 서울시립대학교/03 5학년 2학기/03 컴퓨터종합설계/Saveset/01.데이터/2.Validation/원천데이터/05.시장,쇼핑몰/03.시장,쇼핑몰_기타소음\n",
      "delete rate: 2976/3976\n",
      "left rate: 1000/3976\n"
     ]
    },
    {
     "name": "stderr",
     "output_type": "stream",
     "text": [
      "Deleting files in progress: 100%|██████████████████████████████████████████████████| 2976/2976 [01:06<00:00, 44.63it/s]\n"
     ]
    },
    {
     "name": "stdout",
     "output_type": "stream",
     "text": [
      "Deletion completed\n",
      "directory path: D:/01 서울시립대학교/03 5학년 2학기/03 컴퓨터종합설계/Saveset/01.데이터/2.Validation/원천데이터/06.지하철,버스/01.지하철플랫폼\n",
      "delete rate: 3826/4826\n",
      "left rate: 1000/4826\n"
     ]
    },
    {
     "name": "stderr",
     "output_type": "stream",
     "text": [
      "Deleting files in progress: 100%|██████████████████████████████████████████████████| 3826/3826 [01:25<00:00, 44.56it/s]\n"
     ]
    },
    {
     "name": "stdout",
     "output_type": "stream",
     "text": [
      "Deletion completed\n",
      "directory path: D:/01 서울시립대학교/03 5학년 2학기/03 컴퓨터종합설계/Saveset/01.데이터/2.Validation/원천데이터/06.지하철,버스/02.지하철안\n",
      "delete rate: 5670/6670\n",
      "left rate: 1000/6670\n"
     ]
    },
    {
     "name": "stderr",
     "output_type": "stream",
     "text": [
      "Deleting files in progress: 100%|██████████████████████████████████████████████████| 5670/5670 [02:11<00:00, 43.23it/s]\n"
     ]
    },
    {
     "name": "stdout",
     "output_type": "stream",
     "text": [
      "Deletion completed\n",
      "directory path: D:/01 서울시립대학교/03 5학년 2학기/03 컴퓨터종합설계/Saveset/01.데이터/2.Validation/원천데이터/06.지하철,버스/03.기차안\n",
      "delete rate: 844/1844\n",
      "left rate: 1000/1844\n"
     ]
    },
    {
     "name": "stderr",
     "output_type": "stream",
     "text": [
      "Deleting files in progress: 100%|████████████████████████████████████████████████████| 844/844 [00:16<00:00, 52.14it/s]\n"
     ]
    },
    {
     "name": "stdout",
     "output_type": "stream",
     "text": [
      "Deletion completed\n",
      "directory path: D:/01 서울시립대학교/03 5학년 2학기/03 컴퓨터종합설계/Saveset/01.데이터/2.Validation/원천데이터/06.지하철,버스/04.버스안\n",
      "delete rate: 6188/7188\n",
      "left rate: 1000/7188\n"
     ]
    },
    {
     "name": "stderr",
     "output_type": "stream",
     "text": [
      "Deleting files in progress: 100%|██████████████████████████████████████████████████| 6188/6188 [02:25<00:00, 42.42it/s]\n"
     ]
    },
    {
     "name": "stdout",
     "output_type": "stream",
     "text": [
      "Deletion completed\n",
      "directory path: D:/01 서울시립대학교/03 5학년 2학기/03 컴퓨터종합설계/Saveset/01.데이터/2.Validation/원천데이터/07.터미널/01.기차역대합실\n",
      "delete rate: 6976/7976\n",
      "left rate: 1000/7976\n"
     ]
    },
    {
     "name": "stderr",
     "output_type": "stream",
     "text": [
      "Deleting files in progress: 100%|██████████████████████████████████████████████████| 6976/6976 [02:51<00:00, 40.76it/s]\n"
     ]
    },
    {
     "name": "stdout",
     "output_type": "stream",
     "text": [
      "Deletion completed\n",
      "directory path: D:/01 서울시립대학교/03 5학년 2학기/03 컴퓨터종합설계/Saveset/01.데이터/2.Validation/원천데이터/07.터미널/02.버스터미널대합실\n",
      "delete rate: 6644/7644\n",
      "left rate: 1000/7644\n"
     ]
    },
    {
     "name": "stderr",
     "output_type": "stream",
     "text": [
      "Deleting files in progress: 100%|██████████████████████████████████████████████████| 6644/6644 [02:38<00:00, 42.04it/s]\n"
     ]
    },
    {
     "name": "stdout",
     "output_type": "stream",
     "text": [
      "Deletion completed\n",
      "directory path: D:/01 서울시립대학교/03 5학년 2학기/03 컴퓨터종합설계/Saveset/01.데이터/2.Validation/원천데이터/07.터미널/03.터미널_기타소음\n",
      "delete rate: 6142/7142\n",
      "left rate: 1000/7142\n"
     ]
    },
    {
     "name": "stderr",
     "output_type": "stream",
     "text": [
      "Deleting files in progress: 100%|██████████████████████████████████████████████████| 6142/6142 [02:24<00:00, 42.54it/s]\n"
     ]
    },
    {
     "name": "stdout",
     "output_type": "stream",
     "text": [
      "Deletion completed\n",
      "directory path: D:/01 서울시립대학교/03 5학년 2학기/03 컴퓨터종합설계/Saveset/01.데이터/2.Validation/원천데이터/08.공사장/01.실외공사장\n",
      "delete rate: 3508/4508\n",
      "left rate: 1000/4508\n"
     ]
    },
    {
     "name": "stderr",
     "output_type": "stream",
     "text": [
      "Deleting files in progress: 100%|██████████████████████████████████████████████████| 3508/3508 [01:20<00:00, 43.57it/s]\n"
     ]
    },
    {
     "name": "stdout",
     "output_type": "stream",
     "text": [
      "Deletion completed\n",
      "directory path: D:/01 서울시립대학교/03 5학년 2학기/03 컴퓨터종합설계/Saveset/01.데이터/2.Validation/원천데이터/08.공사장/02.실내공사장\n",
      "delete rate: 606/1606\n",
      "left rate: 1000/1606\n"
     ]
    },
    {
     "name": "stderr",
     "output_type": "stream",
     "text": [
      "Deleting files in progress: 100%|████████████████████████████████████████████████████| 606/606 [00:12<00:00, 49.41it/s]\n"
     ]
    },
    {
     "name": "stdout",
     "output_type": "stream",
     "text": [
      "Deletion completed\n",
      "directory path: D:/01 서울시립대학교/03 5학년 2학기/03 컴퓨터종합설계/Saveset/01.데이터/2.Validation/원천데이터/08.공사장/03.공사장_기타소음\n",
      "delete rate: 2768/3768\n",
      "left rate: 1000/3768\n"
     ]
    },
    {
     "name": "stderr",
     "output_type": "stream",
     "text": [
      "Deleting files in progress: 100%|██████████████████████████████████████████████████| 2768/2768 [01:00<00:00, 45.45it/s]\n"
     ]
    },
    {
     "name": "stdout",
     "output_type": "stream",
     "text": [
      "Deletion completed\n",
      "directory path: D:/01 서울시립대학교/03 5학년 2학기/03 컴퓨터종합설계/Saveset/01.데이터/2.Validation/원천데이터/09.공장/01.가공공정\n",
      "delete rate: 1110/2110\n",
      "left rate: 1000/2110\n"
     ]
    },
    {
     "name": "stderr",
     "output_type": "stream",
     "text": [
      "Deleting files in progress: 100%|██████████████████████████████████████████████████| 1110/1110 [00:17<00:00, 63.27it/s]\n"
     ]
    },
    {
     "name": "stdout",
     "output_type": "stream",
     "text": [
      "Deletion completed\n",
      "directory path: D:/01 서울시립대학교/03 5학년 2학기/03 컴퓨터종합설계/Saveset/01.데이터/2.Validation/원천데이터/09.공장/02.조립공정\n",
      "delete rate: 1742/2742\n",
      "left rate: 1000/2742\n"
     ]
    },
    {
     "name": "stderr",
     "output_type": "stream",
     "text": [
      "Deleting files in progress: 100%|██████████████████████████████████████████████████| 1742/1742 [00:26<00:00, 65.33it/s]\n"
     ]
    },
    {
     "name": "stdout",
     "output_type": "stream",
     "text": [
      "Deletion completed\n",
      "directory path: D:/01 서울시립대학교/03 5학년 2학기/03 컴퓨터종합설계/Saveset/01.데이터/2.Validation/원천데이터/09.공장/03.공장_기타소음\n",
      "delete rate: 8536/9536\n",
      "left rate: 1000/9536\n"
     ]
    },
    {
     "name": "stderr",
     "output_type": "stream",
     "text": [
      "Deleting files in progress: 100%|██████████████████████████████████████████████████| 8536/8536 [02:24<00:00, 58.90it/s]\n"
     ]
    },
    {
     "name": "stdout",
     "output_type": "stream",
     "text": [
      "Deletion completed\n",
      "directory path: D:/01 서울시립대학교/03 5학년 2학기/03 컴퓨터종합설계/Saveset/01.데이터/2.Validation/원천데이터/10.일반자연/01.빗소리\n",
      "delete rate: 9456/10456\n",
      "left rate: 1000/10456\n"
     ]
    },
    {
     "name": "stderr",
     "output_type": "stream",
     "text": [
      "Deleting files in progress: 100%|██████████████████████████████████████████████████| 9456/9456 [02:34<00:00, 61.36it/s]\n"
     ]
    },
    {
     "name": "stdout",
     "output_type": "stream",
     "text": [
      "Deletion completed\n",
      "directory path: D:/01 서울시립대학교/03 5학년 2학기/03 컴퓨터종합설계/Saveset/01.데이터/2.Validation/원천데이터/10.일반자연/02.파도\n",
      "delete rate: 2760/3760\n",
      "left rate: 1000/3760\n"
     ]
    },
    {
     "name": "stderr",
     "output_type": "stream",
     "text": [
      "Deleting files in progress: 100%|██████████████████████████████████████████████████| 2760/2760 [00:40<00:00, 67.63it/s]\n"
     ]
    },
    {
     "name": "stdout",
     "output_type": "stream",
     "text": [
      "Deletion completed\n",
      "directory path: D:/01 서울시립대학교/03 5학년 2학기/03 컴퓨터종합설계/Saveset/01.데이터/2.Validation/원천데이터/10.일반자연/03.일반자연_기타소음\n",
      "delete rate: 1078/2078\n",
      "left rate: 1000/2078\n"
     ]
    },
    {
     "name": "stderr",
     "output_type": "stream",
     "text": [
      "Deleting files in progress: 100%|██████████████████████████████████████████████████| 1078/1078 [00:15<00:00, 70.48it/s]\n"
     ]
    },
    {
     "name": "stdout",
     "output_type": "stream",
     "text": [
      "Deletion completed\n",
      "directory path: D:/01 서울시립대학교/03 5학년 2학기/03 컴퓨터종합설계/Saveset/01.데이터/2.Validation/원천데이터/11.복합소음/01.2가지이상소음원\n",
      "delete rate: 23624/26624\n",
      "left rate: 3000/26624\n"
     ]
    },
    {
     "name": "stderr",
     "output_type": "stream",
     "text": [
      "Deleting files in progress: 100%|███████████████████████████████████████████████| 23624/23624 [02:45<00:00, 142.33it/s]"
     ]
    },
    {
     "name": "stdout",
     "output_type": "stream",
     "text": [
      "Deletion completed\n"
     ]
    },
    {
     "name": "stderr",
     "output_type": "stream",
     "text": [
      "\n"
     ]
    }
   ],
   "source": [
    "for i in range(len(delete_list)-1):\n",
    "    delete_data(f\"D:/01 서울시립대학교/03 5학년 2학기/03 컴퓨터종합설계/Saveset/01.데이터/2.Validation/원천데이터/{delete_list[i]}\", None, 1000)\n",
    "delete_data(f\"D:/01 서울시립대학교/03 5학년 2학기/03 컴퓨터종합설계/Saveset/01.데이터/2.Validation/원천데이터/{delete_list[-1]}\", None, 3000)"
   ]
  },
  {
   "cell_type": "markdown",
   "id": "292162f3-3e40-40d7-a73e-84e32a26c237",
   "metadata": {},
   "source": [
    "## 2.1. Selection SD without SN"
   ]
  },
  {
   "cell_type": "code",
   "execution_count": 8,
   "id": "8c7e632c-a9ca-40b1-bbea-d2eaa970494b",
   "metadata": {},
   "outputs": [],
   "source": [
    "import os\n",
    "import random\n",
    "import shutil\n",
    "from tqdm import tqdm\n",
    "\n",
    "def delete_SN_data(directory_path):\n",
    "    file_list = os.listdir(directory_path)\n",
    "    with tqdm(total=len(file_list), desc=\"Deleting files in progress\") as pbar:\n",
    "        for file_name in file_list:\n",
    "            file_path = os.path.join(directory_path, file_name)\n",
    "            if \"SD\" in file_path:\n",
    "                pbar.update(1)\n",
    "                continue\n",
    "            if os.path.isfile(file_path):\n",
    "                os.remove(file_path)\n",
    "                pbar.update(1)\n",
    "        print(\"Deletion completed\")"
   ]
  },
  {
   "cell_type": "code",
   "execution_count": 9,
   "id": "871c446f-f81e-4397-8c88-699edb776519",
   "metadata": {},
   "outputs": [],
   "source": [
    "delete_list = ['01.가전소음/01.세탁기,건조기', '01.가전소음/02.청소기', '01.가전소음/03.가전소음_기타소음',\n",
    "               '02.교통수단/01.바이크', '02.교통수단/02.싸이렌', '02.교통수단/03.경적', '02.교통수단/04.교통수단_기타소음', \n",
    "               '03.길거리/01.도로변', '03.길거리/02.인파', '03.길거리/03.길거리_기타소음', \n",
    "               '04.카페,음식점/01.대화소음', '04.카페,음식점/02.업소소음', '04.카페,음식점/03.카페,음식점_기타소음', \n",
    "               '05.시장,쇼핑몰/01.전통시장', '05.시장,쇼핑몰/02.복합쇼핑몰', '05.시장,쇼핑몰/03.시장,쇼핑몰_기타소음', \n",
    "               '06.지하철,버스/01.지하철플랫폼', '06.지하철,버스/02.지하철안', '06.지하철,버스/03.기차안', '06.지하철,버스/04.버스안', \n",
    "               '07.터미널/01.기차역대합실', '07.터미널/02.버스터미널대합실', '07.터미널/03.터미널_기타소음', \n",
    "               '08.공사장/01.실외공사장', '08.공사장/02.실내공사장', '08.공사장/03.공사장_기타소음', \n",
    "               '09.공장/01.가공공정', '09.공장/02.조립공정', '09.공장/03.공장_기타소음', \n",
    "               '10.일반자연/01.빗소리', '10.일반자연/02.파도', '10.일반자연/03.일반자연_기타소음', \n",
    "               '11.복합소음/01.2가지이상소음원']"
   ]
  },
  {
   "cell_type": "code",
   "execution_count": 10,
   "id": "fb81bee3-4bbd-4214-a74f-89436efef827",
   "metadata": {},
   "outputs": [
    {
     "name": "stderr",
     "output_type": "stream",
     "text": [
      "Deleting files in progress: 100%|█████████████████████████████████████████████████| 1000/1000 [00:06<00:00, 163.71it/s]\n"
     ]
    },
    {
     "name": "stdout",
     "output_type": "stream",
     "text": [
      "Deletion completed\n"
     ]
    },
    {
     "name": "stderr",
     "output_type": "stream",
     "text": [
      "Deleting files in progress: 100%|█████████████████████████████████████████████████| 1000/1000 [00:06<00:00, 161.91it/s]\n"
     ]
    },
    {
     "name": "stdout",
     "output_type": "stream",
     "text": [
      "Deletion completed\n"
     ]
    },
    {
     "name": "stderr",
     "output_type": "stream",
     "text": [
      "Deleting files in progress: 100%|█████████████████████████████████████████████████| 1000/1000 [00:07<00:00, 134.49it/s]\n"
     ]
    },
    {
     "name": "stdout",
     "output_type": "stream",
     "text": [
      "Deletion completed\n"
     ]
    },
    {
     "name": "stderr",
     "output_type": "stream",
     "text": [
      "Deleting files in progress: 100%|█████████████████████████████████████████████████| 1000/1000 [00:06<00:00, 156.40it/s]\n"
     ]
    },
    {
     "name": "stdout",
     "output_type": "stream",
     "text": [
      "Deletion completed\n"
     ]
    },
    {
     "name": "stderr",
     "output_type": "stream",
     "text": [
      "Deleting files in progress: 100%|█████████████████████████████████████████████████| 1000/1000 [00:05<00:00, 172.79it/s]\n"
     ]
    },
    {
     "name": "stdout",
     "output_type": "stream",
     "text": [
      "Deletion completed\n"
     ]
    },
    {
     "name": "stderr",
     "output_type": "stream",
     "text": [
      "Deleting files in progress: 100%|█████████████████████████████████████████████████| 1000/1000 [00:05<00:00, 174.64it/s]\n"
     ]
    },
    {
     "name": "stdout",
     "output_type": "stream",
     "text": [
      "Deletion completed\n"
     ]
    },
    {
     "name": "stderr",
     "output_type": "stream",
     "text": [
      "Deleting files in progress: 100%|█████████████████████████████████████████████████| 1000/1000 [00:05<00:00, 168.16it/s]\n"
     ]
    },
    {
     "name": "stdout",
     "output_type": "stream",
     "text": [
      "Deletion completed\n"
     ]
    },
    {
     "name": "stderr",
     "output_type": "stream",
     "text": [
      "Deleting files in progress: 100%|█████████████████████████████████████████████████| 1000/1000 [00:06<00:00, 166.52it/s]\n"
     ]
    },
    {
     "name": "stdout",
     "output_type": "stream",
     "text": [
      "Deletion completed\n"
     ]
    },
    {
     "name": "stderr",
     "output_type": "stream",
     "text": [
      "Deleting files in progress: 100%|█████████████████████████████████████████████████| 1000/1000 [00:05<00:00, 172.68it/s]\n"
     ]
    },
    {
     "name": "stdout",
     "output_type": "stream",
     "text": [
      "Deletion completed\n"
     ]
    },
    {
     "name": "stderr",
     "output_type": "stream",
     "text": [
      "Deleting files in progress: 100%|█████████████████████████████████████████████████| 1000/1000 [00:05<00:00, 170.50it/s]\n"
     ]
    },
    {
     "name": "stdout",
     "output_type": "stream",
     "text": [
      "Deletion completed\n"
     ]
    },
    {
     "name": "stderr",
     "output_type": "stream",
     "text": [
      "Deleting files in progress: 100%|█████████████████████████████████████████████████| 1000/1000 [00:06<00:00, 159.39it/s]\n"
     ]
    },
    {
     "name": "stdout",
     "output_type": "stream",
     "text": [
      "Deletion completed\n"
     ]
    },
    {
     "name": "stderr",
     "output_type": "stream",
     "text": [
      "Deleting files in progress: 100%|█████████████████████████████████████████████████| 1000/1000 [00:06<00:00, 151.15it/s]\n"
     ]
    },
    {
     "name": "stdout",
     "output_type": "stream",
     "text": [
      "Deletion completed\n"
     ]
    },
    {
     "name": "stderr",
     "output_type": "stream",
     "text": [
      "Deleting files in progress: 100%|█████████████████████████████████████████████████| 1000/1000 [00:06<00:00, 163.77it/s]\n"
     ]
    },
    {
     "name": "stdout",
     "output_type": "stream",
     "text": [
      "Deletion completed\n"
     ]
    },
    {
     "name": "stderr",
     "output_type": "stream",
     "text": [
      "Deleting files in progress: 100%|█████████████████████████████████████████████████| 1000/1000 [00:05<00:00, 168.73it/s]\n"
     ]
    },
    {
     "name": "stdout",
     "output_type": "stream",
     "text": [
      "Deletion completed\n"
     ]
    },
    {
     "name": "stderr",
     "output_type": "stream",
     "text": [
      "Deleting files in progress: 100%|█████████████████████████████████████████████████| 1000/1000 [00:07<00:00, 137.89it/s]\n"
     ]
    },
    {
     "name": "stdout",
     "output_type": "stream",
     "text": [
      "Deletion completed\n"
     ]
    },
    {
     "name": "stderr",
     "output_type": "stream",
     "text": [
      "Deleting files in progress: 100%|█████████████████████████████████████████████████| 1000/1000 [00:05<00:00, 179.75it/s]\n"
     ]
    },
    {
     "name": "stdout",
     "output_type": "stream",
     "text": [
      "Deletion completed\n"
     ]
    },
    {
     "name": "stderr",
     "output_type": "stream",
     "text": [
      "Deleting files in progress: 100%|█████████████████████████████████████████████████| 1000/1000 [00:05<00:00, 189.55it/s]\n"
     ]
    },
    {
     "name": "stdout",
     "output_type": "stream",
     "text": [
      "Deletion completed\n"
     ]
    },
    {
     "name": "stderr",
     "output_type": "stream",
     "text": [
      "Deleting files in progress: 100%|█████████████████████████████████████████████████| 1000/1000 [00:05<00:00, 186.24it/s]\n"
     ]
    },
    {
     "name": "stdout",
     "output_type": "stream",
     "text": [
      "Deletion completed\n"
     ]
    },
    {
     "name": "stderr",
     "output_type": "stream",
     "text": [
      "Deleting files in progress: 100%|█████████████████████████████████████████████████| 1000/1000 [00:04<00:00, 203.19it/s]\n"
     ]
    },
    {
     "name": "stdout",
     "output_type": "stream",
     "text": [
      "Deletion completed\n"
     ]
    },
    {
     "name": "stderr",
     "output_type": "stream",
     "text": [
      "Deleting files in progress: 100%|█████████████████████████████████████████████████| 1000/1000 [00:05<00:00, 172.10it/s]\n"
     ]
    },
    {
     "name": "stdout",
     "output_type": "stream",
     "text": [
      "Deletion completed\n"
     ]
    },
    {
     "name": "stderr",
     "output_type": "stream",
     "text": [
      "Deleting files in progress: 100%|█████████████████████████████████████████████████| 1000/1000 [00:06<00:00, 162.09it/s]\n"
     ]
    },
    {
     "name": "stdout",
     "output_type": "stream",
     "text": [
      "Deletion completed\n"
     ]
    },
    {
     "name": "stderr",
     "output_type": "stream",
     "text": [
      "Deleting files in progress: 100%|█████████████████████████████████████████████████| 1000/1000 [00:05<00:00, 175.61it/s]\n"
     ]
    },
    {
     "name": "stdout",
     "output_type": "stream",
     "text": [
      "Deletion completed\n"
     ]
    },
    {
     "name": "stderr",
     "output_type": "stream",
     "text": [
      "Deleting files in progress: 100%|█████████████████████████████████████████████████| 1000/1000 [00:05<00:00, 177.35it/s]\n"
     ]
    },
    {
     "name": "stdout",
     "output_type": "stream",
     "text": [
      "Deletion completed\n"
     ]
    },
    {
     "name": "stderr",
     "output_type": "stream",
     "text": [
      "Deleting files in progress: 100%|█████████████████████████████████████████████████| 1000/1000 [00:05<00:00, 187.47it/s]\n"
     ]
    },
    {
     "name": "stdout",
     "output_type": "stream",
     "text": [
      "Deletion completed\n"
     ]
    },
    {
     "name": "stderr",
     "output_type": "stream",
     "text": [
      "Deleting files in progress: 100%|█████████████████████████████████████████████████| 1000/1000 [00:05<00:00, 196.73it/s]\n"
     ]
    },
    {
     "name": "stdout",
     "output_type": "stream",
     "text": [
      "Deletion completed\n"
     ]
    },
    {
     "name": "stderr",
     "output_type": "stream",
     "text": [
      "Deleting files in progress: 100%|█████████████████████████████████████████████████| 1000/1000 [00:05<00:00, 186.00it/s]\n"
     ]
    },
    {
     "name": "stdout",
     "output_type": "stream",
     "text": [
      "Deletion completed\n"
     ]
    },
    {
     "name": "stderr",
     "output_type": "stream",
     "text": [
      "Deleting files in progress: 100%|█████████████████████████████████████████████████| 1000/1000 [00:04<00:00, 219.93it/s]\n"
     ]
    },
    {
     "name": "stdout",
     "output_type": "stream",
     "text": [
      "Deletion completed\n"
     ]
    },
    {
     "name": "stderr",
     "output_type": "stream",
     "text": [
      "Deleting files in progress: 100%|█████████████████████████████████████████████████| 1000/1000 [00:05<00:00, 197.42it/s]\n"
     ]
    },
    {
     "name": "stdout",
     "output_type": "stream",
     "text": [
      "Deletion completed\n"
     ]
    },
    {
     "name": "stderr",
     "output_type": "stream",
     "text": [
      "Deleting files in progress: 100%|█████████████████████████████████████████████████| 1000/1000 [00:05<00:00, 188.78it/s]\n"
     ]
    },
    {
     "name": "stdout",
     "output_type": "stream",
     "text": [
      "Deletion completed\n"
     ]
    },
    {
     "name": "stderr",
     "output_type": "stream",
     "text": [
      "Deleting files in progress: 100%|█████████████████████████████████████████████████| 1000/1000 [00:05<00:00, 172.70it/s]\n"
     ]
    },
    {
     "name": "stdout",
     "output_type": "stream",
     "text": [
      "Deletion completed\n"
     ]
    },
    {
     "name": "stderr",
     "output_type": "stream",
     "text": [
      "Deleting files in progress: 100%|█████████████████████████████████████████████████| 1000/1000 [00:05<00:00, 188.93it/s]\n"
     ]
    },
    {
     "name": "stdout",
     "output_type": "stream",
     "text": [
      "Deletion completed\n"
     ]
    },
    {
     "name": "stderr",
     "output_type": "stream",
     "text": [
      "Deleting files in progress: 100%|█████████████████████████████████████████████████| 1000/1000 [00:05<00:00, 189.50it/s]\n"
     ]
    },
    {
     "name": "stdout",
     "output_type": "stream",
     "text": [
      "Deletion completed\n"
     ]
    },
    {
     "name": "stderr",
     "output_type": "stream",
     "text": [
      "Deleting files in progress: 100%|█████████████████████████████████████████████████| 3000/3000 [00:16<00:00, 179.94it/s]"
     ]
    },
    {
     "name": "stdout",
     "output_type": "stream",
     "text": [
      "Deletion completed\n"
     ]
    },
    {
     "name": "stderr",
     "output_type": "stream",
     "text": [
      "\n"
     ]
    }
   ],
   "source": [
    "for i in range(len(delete_list)-1):\n",
    "    delete_SN_data(f\"D:/01 서울시립대학교/03 5학년 2학기/03 컴퓨터종합설계/Saveset/01.데이터/2.Validation/원천데이터/{delete_list[i]}\")\n",
    "delete_SN_data(f\"D:/01 서울시립대학교/03 5학년 2학기/03 컴퓨터종합설계/Saveset/01.데이터/2.Validation/원천데이터/{delete_list[-1]}\")"
   ]
  },
  {
   "cell_type": "markdown",
   "id": "c3315480-b9cb-4f09-bdd9-6d684f5b0ddc",
   "metadata": {},
   "source": [
    "# 3. Transcription"
   ]
  },
  {
   "cell_type": "markdown",
   "id": "8f451e8a-7a2a-46a8-ad83-fb2525168ea3",
   "metadata": {},
   "source": [
    "- Reference: `https://blog.naver.com/PostView.nhn?blogId=sooftware&logNo=221821797852`"
   ]
  },
  {
   "cell_type": "code",
   "execution_count": 6,
   "id": "9d00014d-c52b-4e5f-88a6-b1e91c8a2129",
   "metadata": {},
   "outputs": [
    {
     "name": "stdout",
     "output_type": "stream",
     "text": [
      "o/ 근데 70%가 커 보이긴 하는데 200 벌다 140 벌면 빡셀걸? b/\n",
      "근데 3학년 때 까지는 국가장학금 바+ 받으면서 다녔던 건가?\n"
     ]
    }
   ],
   "source": [
    "test1 = \"o/ 근데 (70%)/(칠십 퍼센트)가 커 보이긴 하는데 (200)/(이백) 벌다 (140)/(백 사십) 벌면 빡셀걸? b/\"\n",
    "test2 = \"근데 (3학년)/(삼 학년) 때 까지는 국가장학금 바+ 받으면서 다녔던 건가?\"\n",
    "\n",
    "# Whisper 전처리는 Reference와 다르므로 약간의 수정이 필요하다.\n",
    "def bracket_filter(sentence):\n",
    "    new_sentence = str()\n",
    "    \"\"\"\n",
    "    (left_bracket, right_bracket)\n",
    "    (0, 0) -> 출력\n",
    "    (1, 0) -> 출력\n",
    "    (1, 1) -> 미출력\n",
    "    (0, 1) -> 미출력\n",
    "    --> right_bracket을 기준으로 flag 설정\n",
    "    \"\"\"\n",
    "    flag = False\n",
    "    \n",
    "    for ch in sentence:\n",
    "        if ch == ')' and flag == False:\n",
    "            flag = True\n",
    "            continue\n",
    "        if ch == ')' and flag == True:\n",
    "            flag = False\n",
    "            continue\n",
    "        if ch != '(' and flag == False:\n",
    "            new_sentence += ch\n",
    "    return new_sentence\n",
    "\n",
    "test1 = bracket_filter(test1)\n",
    "test2 = bracket_filter(test2)\n",
    "print(test1)\n",
    "print(test2)"
   ]
  },
  {
   "cell_type": "code",
   "execution_count": 7,
   "id": "ba749c1d-2759-4300-9444-4629571fadd2",
   "metadata": {},
   "outputs": [
    {
     "name": "stdout",
     "output_type": "stream",
     "text": [
      "근데 70%가 커 보이긴 하는데 200 벌다 140 벌면 빡셀걸?\n",
      "근데 3학년 때 까지는 국가장학금 바 받으면서 다녔던 건가?\n"
     ]
    }
   ],
   "source": [
    "import re\n",
    "\n",
    "def special_filter(sentence):\n",
    "    SENTENCE_MASK = ['.', '?', ',', '!']\n",
    "    NOISE = ['o', 'n', 'u', 'b', 'l']\n",
    "    EXCEPT = ['/', '+', '*', '-', '@', '$', '^', '&', '[', ']', '~', ':', ';']\n",
    "    new_sentence = str()\n",
    "    for idx, ch in enumerate(sentence):\n",
    "        if ch not in SENTENCE_MASK:\n",
    "            if idx + 1 < len(sentence) and ch in NOISE and sentence[idx+1] == '/':\n",
    "                continue\n",
    "        if ch == '#':\n",
    "            new_sentence += '샵'\n",
    "        elif ch not in EXCEPT:\n",
    "            new_sentence += ch\n",
    "\n",
    "    pattern = re.compile(r'\\s\\s+')\n",
    "    new_sentence = re.sub(pattern, ' ', new_sentence.strip())\n",
    "    return new_sentence\n",
    "\n",
    "print(special_filter(test1))\n",
    "print(special_filter(test2))"
   ]
  },
  {
   "cell_type": "code",
   "execution_count": 8,
   "id": "99c90516-4955-4688-80b9-405a8424a57d",
   "metadata": {},
   "outputs": [],
   "source": [
    "import os\n",
    "import json\n",
    "import librosa\n",
    "import soundfile as sf\n",
    "from tqdm import tqdm\n",
    "\n",
    "def is_json(filename):\n",
    "    return filename[-4:] == 'json'\n",
    "\n",
    "# Whisper 모델의 전사 규칙에 알맞게 변환\n",
    "def transcription(root_dir):\n",
    "    len_root_dir = len(root_dir)\n",
    "    for dirpath, dirnames, filenames in os.walk(root_dir):\n",
    "        print(\"Processing:\", dirpath)\n",
    "        num_files = len(filenames)\n",
    "        with tqdm(total=num_files, desc=\"Rasampling files in progress\") as pbar:\n",
    "            for filename in filenames:\n",
    "                if is_json(filename):\n",
    "                    filepath = os.path.join(dirpath, filename)\n",
    "                    with open(filepath, \"r\", encoding=\"utf-8\") as json_file:\n",
    "                        data = json.load(json_file)\n",
    "                        text = data[\"annotations\"][\"note\"]\n",
    "    \n",
    "                        # 전사 규칙 처리\n",
    "                        text = bracket_filter(text)\n",
    "                        text = special_filter(text)\n",
    "                        \n",
    "                        new_data = {\n",
    "                            \"annotations\" : {\n",
    "                                \"note\" : text\n",
    "                            }\n",
    "                        }\n",
    "                        \n",
    "                        with open(filepath, 'w', encoding='utf-8') as file:\n",
    "                            json.dump(new_data, file, ensure_ascii=False)\n",
    "                pbar.update(1)\n",
    "                \n",
    "    print(\"Done!\")"
   ]
  },
  {
   "cell_type": "code",
   "execution_count": 9,
   "id": "0f7e5a6b-b579-46b0-bdcc-5384b3171dec",
   "metadata": {},
   "outputs": [
    {
     "name": "stdout",
     "output_type": "stream",
     "text": [
      "Processing: D:/01 서울시립대학교/03 5학년 2학기/03 컴퓨터종합설계/Saveset\n"
     ]
    },
    {
     "name": "stderr",
     "output_type": "stream",
     "text": [
      "Rasampling files in progress: 0it [00:00, ?it/s]\n"
     ]
    },
    {
     "name": "stdout",
     "output_type": "stream",
     "text": [
      "Processing: D:/01 서울시립대학교/03 5학년 2학기/03 컴퓨터종합설계/Saveset\\01.데이터\n"
     ]
    },
    {
     "name": "stderr",
     "output_type": "stream",
     "text": [
      "Rasampling files in progress: 0it [00:00, ?it/s]\n"
     ]
    },
    {
     "name": "stdout",
     "output_type": "stream",
     "text": [
      "Processing: D:/01 서울시립대학교/03 5학년 2학기/03 컴퓨터종합설계/Saveset\\01.데이터\\2.Validation\n"
     ]
    },
    {
     "name": "stderr",
     "output_type": "stream",
     "text": [
      "Rasampling files in progress: 0it [00:00, ?it/s]\n"
     ]
    },
    {
     "name": "stdout",
     "output_type": "stream",
     "text": [
      "Processing: D:/01 서울시립대학교/03 5학년 2학기/03 컴퓨터종합설계/Saveset\\01.데이터\\2.Validation\\라벨링데이터\n"
     ]
    },
    {
     "name": "stderr",
     "output_type": "stream",
     "text": [
      "Rasampling files in progress: 0it [00:00, ?it/s]\n"
     ]
    },
    {
     "name": "stdout",
     "output_type": "stream",
     "text": [
      "Processing: D:/01 서울시립대학교/03 5학년 2학기/03 컴퓨터종합설계/Saveset\\01.데이터\\2.Validation\\라벨링데이터\\01.가전소음\n"
     ]
    },
    {
     "name": "stderr",
     "output_type": "stream",
     "text": [
      "Rasampling files in progress: 0it [00:00, ?it/s]\n"
     ]
    },
    {
     "name": "stdout",
     "output_type": "stream",
     "text": [
      "Processing: D:/01 서울시립대학교/03 5학년 2학기/03 컴퓨터종합설계/Saveset\\01.데이터\\2.Validation\\라벨링데이터\\01.가전소음\\01.세탁기,건조기\n"
     ]
    },
    {
     "name": "stderr",
     "output_type": "stream",
     "text": [
      "Rasampling files in progress: 100%|█████████████████████████████████████████████| 10554/10554 [00:11<00:00, 903.14it/s]\n"
     ]
    },
    {
     "name": "stdout",
     "output_type": "stream",
     "text": [
      "Processing: D:/01 서울시립대학교/03 5학년 2학기/03 컴퓨터종합설계/Saveset\\01.데이터\\2.Validation\\라벨링데이터\\01.가전소음\\02.청소기\n"
     ]
    },
    {
     "name": "stderr",
     "output_type": "stream",
     "text": [
      "Rasampling files in progress: 100%|███████████████████████████████████████████████| 4594/4594 [00:04<00:00, 935.31it/s]\n"
     ]
    },
    {
     "name": "stdout",
     "output_type": "stream",
     "text": [
      "Processing: D:/01 서울시립대학교/03 5학년 2학기/03 컴퓨터종합설계/Saveset\\01.데이터\\2.Validation\\라벨링데이터\\01.가전소음\\03.가전소음_기타소음\n"
     ]
    },
    {
     "name": "stderr",
     "output_type": "stream",
     "text": [
      "Rasampling files in progress: 100%|█████████████████████████████████████████████| 31620/31620 [00:33<00:00, 955.16it/s]\n"
     ]
    },
    {
     "name": "stdout",
     "output_type": "stream",
     "text": [
      "Processing: D:/01 서울시립대학교/03 5학년 2학기/03 컴퓨터종합설계/Saveset\\01.데이터\\2.Validation\\라벨링데이터\\02.교통수단\n"
     ]
    },
    {
     "name": "stderr",
     "output_type": "stream",
     "text": [
      "Rasampling files in progress: 0it [00:00, ?it/s]\n"
     ]
    },
    {
     "name": "stdout",
     "output_type": "stream",
     "text": [
      "Processing: D:/01 서울시립대학교/03 5학년 2학기/03 컴퓨터종합설계/Saveset\\01.데이터\\2.Validation\\라벨링데이터\\02.교통수단\\01.바이크\n"
     ]
    },
    {
     "name": "stderr",
     "output_type": "stream",
     "text": [
      "Rasampling files in progress: 100%|██████████████████████████████████████████████| 1908/1908 [00:01<00:00, 1077.43it/s]\n"
     ]
    },
    {
     "name": "stdout",
     "output_type": "stream",
     "text": [
      "Processing: D:/01 서울시립대학교/03 5학년 2학기/03 컴퓨터종합설계/Saveset\\01.데이터\\2.Validation\\라벨링데이터\\02.교통수단\\02.싸이렌\n"
     ]
    },
    {
     "name": "stderr",
     "output_type": "stream",
     "text": [
      "Rasampling files in progress: 100%|██████████████████████████████████████████████| 1712/1712 [00:01<00:00, 1003.78it/s]\n"
     ]
    },
    {
     "name": "stdout",
     "output_type": "stream",
     "text": [
      "Processing: D:/01 서울시립대학교/03 5학년 2학기/03 컴퓨터종합설계/Saveset\\01.데이터\\2.Validation\\라벨링데이터\\02.교통수단\\03.경적\n"
     ]
    },
    {
     "name": "stderr",
     "output_type": "stream",
     "text": [
      "Rasampling files in progress: 100%|███████████████████████████████████████████████| 2090/2090 [00:02<00:00, 998.10it/s]\n"
     ]
    },
    {
     "name": "stdout",
     "output_type": "stream",
     "text": [
      "Processing: D:/01 서울시립대학교/03 5학년 2학기/03 컴퓨터종합설계/Saveset\\01.데이터\\2.Validation\\라벨링데이터\\02.교통수단\\04.교통수단_기타소음\n"
     ]
    },
    {
     "name": "stderr",
     "output_type": "stream",
     "text": [
      "Rasampling files in progress: 100%|██████████████████████████████████████████████| 3330/3330 [00:03<00:00, 1035.34it/s]\n"
     ]
    },
    {
     "name": "stdout",
     "output_type": "stream",
     "text": [
      "Processing: D:/01 서울시립대학교/03 5학년 2학기/03 컴퓨터종합설계/Saveset\\01.데이터\\2.Validation\\라벨링데이터\\03.길거리\n"
     ]
    },
    {
     "name": "stderr",
     "output_type": "stream",
     "text": [
      "Rasampling files in progress: 0it [00:00, ?it/s]\n"
     ]
    },
    {
     "name": "stdout",
     "output_type": "stream",
     "text": [
      "Processing: D:/01 서울시립대학교/03 5학년 2학기/03 컴퓨터종합설계/Saveset\\01.데이터\\2.Validation\\라벨링데이터\\03.길거리\\01.도로변\n"
     ]
    },
    {
     "name": "stderr",
     "output_type": "stream",
     "text": [
      "Rasampling files in progress: 100%|███████████████████████████████████████████████| 8918/8918 [00:09<00:00, 962.29it/s]\n"
     ]
    },
    {
     "name": "stdout",
     "output_type": "stream",
     "text": [
      "Processing: D:/01 서울시립대학교/03 5학년 2학기/03 컴퓨터종합설계/Saveset\\01.데이터\\2.Validation\\라벨링데이터\\03.길거리\\02.인파\n"
     ]
    },
    {
     "name": "stderr",
     "output_type": "stream",
     "text": [
      "Rasampling files in progress: 100%|██████████████████████████████████████████████| 1648/1648 [00:01<00:00, 1068.39it/s]\n"
     ]
    },
    {
     "name": "stdout",
     "output_type": "stream",
     "text": [
      "Processing: D:/01 서울시립대학교/03 5학년 2학기/03 컴퓨터종합설계/Saveset\\01.데이터\\2.Validation\\라벨링데이터\\03.길거리\\03.길거리_기타소음\n"
     ]
    },
    {
     "name": "stderr",
     "output_type": "stream",
     "text": [
      "Rasampling files in progress: 100%|██████████████████████████████████████████████| 5032/5032 [00:04<00:00, 1039.90it/s]\n"
     ]
    },
    {
     "name": "stdout",
     "output_type": "stream",
     "text": [
      "Processing: D:/01 서울시립대학교/03 5학년 2학기/03 컴퓨터종합설계/Saveset\\01.데이터\\2.Validation\\라벨링데이터\\04.카페,음식점\n"
     ]
    },
    {
     "name": "stderr",
     "output_type": "stream",
     "text": [
      "Rasampling files in progress: 0it [00:00, ?it/s]\n"
     ]
    },
    {
     "name": "stdout",
     "output_type": "stream",
     "text": [
      "Processing: D:/01 서울시립대학교/03 5학년 2학기/03 컴퓨터종합설계/Saveset\\01.데이터\\2.Validation\\라벨링데이터\\04.카페,음식점\\01.대화소음\n"
     ]
    },
    {
     "name": "stderr",
     "output_type": "stream",
     "text": [
      "Rasampling files in progress: 100%|████████████████████████████████████████████| 16548/16548 [00:16<00:00, 1007.75it/s]\n"
     ]
    },
    {
     "name": "stdout",
     "output_type": "stream",
     "text": [
      "Processing: D:/01 서울시립대학교/03 5학년 2학기/03 컴퓨터종합설계/Saveset\\01.데이터\\2.Validation\\라벨링데이터\\04.카페,음식점\\02.업소소음\n"
     ]
    },
    {
     "name": "stderr",
     "output_type": "stream",
     "text": [
      "Rasampling files in progress: 100%|█████████████████████████████████████████████| 23310/23310 [00:25<00:00, 918.54it/s]\n"
     ]
    },
    {
     "name": "stdout",
     "output_type": "stream",
     "text": [
      "Processing: D:/01 서울시립대학교/03 5학년 2학기/03 컴퓨터종합설계/Saveset\\01.데이터\\2.Validation\\라벨링데이터\\04.카페,음식점\\03.카페,음식점_기타소음\n"
     ]
    },
    {
     "name": "stderr",
     "output_type": "stream",
     "text": [
      "Rasampling files in progress: 100%|███████████████████████████████████████████████| 5788/5788 [00:06<00:00, 917.25it/s]\n"
     ]
    },
    {
     "name": "stdout",
     "output_type": "stream",
     "text": [
      "Processing: D:/01 서울시립대학교/03 5학년 2학기/03 컴퓨터종합설계/Saveset\\01.데이터\\2.Validation\\라벨링데이터\\05.시장,쇼핑몰\n"
     ]
    },
    {
     "name": "stderr",
     "output_type": "stream",
     "text": [
      "Rasampling files in progress: 0it [00:00, ?it/s]\n"
     ]
    },
    {
     "name": "stdout",
     "output_type": "stream",
     "text": [
      "Processing: D:/01 서울시립대학교/03 5학년 2학기/03 컴퓨터종합설계/Saveset\\01.데이터\\2.Validation\\라벨링데이터\\05.시장,쇼핑몰\\01.전통시장\n"
     ]
    },
    {
     "name": "stderr",
     "output_type": "stream",
     "text": [
      "Rasampling files in progress: 100%|███████████████████████████████████████████████| 5068/5068 [00:05<00:00, 935.91it/s]\n"
     ]
    },
    {
     "name": "stdout",
     "output_type": "stream",
     "text": [
      "Processing: D:/01 서울시립대학교/03 5학년 2학기/03 컴퓨터종합설계/Saveset\\01.데이터\\2.Validation\\라벨링데이터\\05.시장,쇼핑몰\\02.복합쇼핑몰\n"
     ]
    },
    {
     "name": "stderr",
     "output_type": "stream",
     "text": [
      "Rasampling files in progress: 100%|█████████████████████████████████████████████| 36208/36208 [00:38<00:00, 930.52it/s]\n"
     ]
    },
    {
     "name": "stdout",
     "output_type": "stream",
     "text": [
      "Processing: D:/01 서울시립대학교/03 5학년 2학기/03 컴퓨터종합설계/Saveset\\01.데이터\\2.Validation\\라벨링데이터\\05.시장,쇼핑몰\\03.시장,쇼핑몰_기타소음\n"
     ]
    },
    {
     "name": "stderr",
     "output_type": "stream",
     "text": [
      "Rasampling files in progress: 100%|███████████████████████████████████████████████| 3976/3976 [00:04<00:00, 945.29it/s]\n"
     ]
    },
    {
     "name": "stdout",
     "output_type": "stream",
     "text": [
      "Processing: D:/01 서울시립대학교/03 5학년 2학기/03 컴퓨터종합설계/Saveset\\01.데이터\\2.Validation\\라벨링데이터\\06.지하철,버스\n"
     ]
    },
    {
     "name": "stderr",
     "output_type": "stream",
     "text": [
      "Rasampling files in progress: 0it [00:00, ?it/s]\n"
     ]
    },
    {
     "name": "stdout",
     "output_type": "stream",
     "text": [
      "Processing: D:/01 서울시립대학교/03 5학년 2학기/03 컴퓨터종합설계/Saveset\\01.데이터\\2.Validation\\라벨링데이터\\06.지하철,버스\\01.지하철플랫폼\n"
     ]
    },
    {
     "name": "stderr",
     "output_type": "stream",
     "text": [
      "Rasampling files in progress: 100%|███████████████████████████████████████████████| 4826/4826 [00:05<00:00, 900.93it/s]\n"
     ]
    },
    {
     "name": "stdout",
     "output_type": "stream",
     "text": [
      "Processing: D:/01 서울시립대학교/03 5학년 2학기/03 컴퓨터종합설계/Saveset\\01.데이터\\2.Validation\\라벨링데이터\\06.지하철,버스\\02.지하철안\n"
     ]
    },
    {
     "name": "stderr",
     "output_type": "stream",
     "text": [
      "Rasampling files in progress: 100%|███████████████████████████████████████████████| 6670/6670 [00:07<00:00, 929.42it/s]\n"
     ]
    },
    {
     "name": "stdout",
     "output_type": "stream",
     "text": [
      "Processing: D:/01 서울시립대학교/03 5학년 2학기/03 컴퓨터종합설계/Saveset\\01.데이터\\2.Validation\\라벨링데이터\\06.지하철,버스\\03.기차안\n"
     ]
    },
    {
     "name": "stderr",
     "output_type": "stream",
     "text": [
      "Rasampling files in progress: 100%|███████████████████████████████████████████████| 1844/1844 [00:01<00:00, 981.92it/s]\n"
     ]
    },
    {
     "name": "stdout",
     "output_type": "stream",
     "text": [
      "Processing: D:/01 서울시립대학교/03 5학년 2학기/03 컴퓨터종합설계/Saveset\\01.데이터\\2.Validation\\라벨링데이터\\06.지하철,버스\\04.버스안\n"
     ]
    },
    {
     "name": "stderr",
     "output_type": "stream",
     "text": [
      "Rasampling files in progress: 100%|███████████████████████████████████████████████| 7188/7188 [00:07<00:00, 973.98it/s]\n"
     ]
    },
    {
     "name": "stdout",
     "output_type": "stream",
     "text": [
      "Processing: D:/01 서울시립대학교/03 5학년 2학기/03 컴퓨터종합설계/Saveset\\01.데이터\\2.Validation\\라벨링데이터\\07.터미널\n"
     ]
    },
    {
     "name": "stderr",
     "output_type": "stream",
     "text": [
      "Rasampling files in progress: 0it [00:00, ?it/s]\n"
     ]
    },
    {
     "name": "stdout",
     "output_type": "stream",
     "text": [
      "Processing: D:/01 서울시립대학교/03 5학년 2학기/03 컴퓨터종합설계/Saveset\\01.데이터\\2.Validation\\라벨링데이터\\07.터미널\\01.기차역대합실\n"
     ]
    },
    {
     "name": "stderr",
     "output_type": "stream",
     "text": [
      "Rasampling files in progress: 100%|███████████████████████████████████████████████| 7976/7976 [00:08<00:00, 910.23it/s]\n"
     ]
    },
    {
     "name": "stdout",
     "output_type": "stream",
     "text": [
      "Processing: D:/01 서울시립대학교/03 5학년 2학기/03 컴퓨터종합설계/Saveset\\01.데이터\\2.Validation\\라벨링데이터\\07.터미널\\02.버스터미널대합실\n"
     ]
    },
    {
     "name": "stderr",
     "output_type": "stream",
     "text": [
      "Rasampling files in progress: 100%|███████████████████████████████████████████████| 7644/7644 [00:07<00:00, 974.12it/s]\n"
     ]
    },
    {
     "name": "stdout",
     "output_type": "stream",
     "text": [
      "Processing: D:/01 서울시립대학교/03 5학년 2학기/03 컴퓨터종합설계/Saveset\\01.데이터\\2.Validation\\라벨링데이터\\07.터미널\\03.터미널_기타소음\n"
     ]
    },
    {
     "name": "stderr",
     "output_type": "stream",
     "text": [
      "Rasampling files in progress: 100%|███████████████████████████████████████████████| 7142/7142 [00:07<00:00, 957.30it/s]\n"
     ]
    },
    {
     "name": "stdout",
     "output_type": "stream",
     "text": [
      "Processing: D:/01 서울시립대학교/03 5학년 2학기/03 컴퓨터종합설계/Saveset\\01.데이터\\2.Validation\\라벨링데이터\\08.공사장\n"
     ]
    },
    {
     "name": "stderr",
     "output_type": "stream",
     "text": [
      "Rasampling files in progress: 0it [00:00, ?it/s]\n"
     ]
    },
    {
     "name": "stdout",
     "output_type": "stream",
     "text": [
      "Processing: D:/01 서울시립대학교/03 5학년 2학기/03 컴퓨터종합설계/Saveset\\01.데이터\\2.Validation\\라벨링데이터\\08.공사장\\01.실외공사장\n"
     ]
    },
    {
     "name": "stderr",
     "output_type": "stream",
     "text": [
      "Rasampling files in progress: 100%|███████████████████████████████████████████████| 4508/4508 [00:04<00:00, 952.62it/s]\n"
     ]
    },
    {
     "name": "stdout",
     "output_type": "stream",
     "text": [
      "Processing: D:/01 서울시립대학교/03 5학년 2학기/03 컴퓨터종합설계/Saveset\\01.데이터\\2.Validation\\라벨링데이터\\08.공사장\\02.실내공사장\n"
     ]
    },
    {
     "name": "stderr",
     "output_type": "stream",
     "text": [
      "Rasampling files in progress: 100%|███████████████████████████████████████████████| 1606/1606 [00:01<00:00, 959.21it/s]\n"
     ]
    },
    {
     "name": "stdout",
     "output_type": "stream",
     "text": [
      "Processing: D:/01 서울시립대학교/03 5학년 2학기/03 컴퓨터종합설계/Saveset\\01.데이터\\2.Validation\\라벨링데이터\\08.공사장\\03.공사장_기타소음\n"
     ]
    },
    {
     "name": "stderr",
     "output_type": "stream",
     "text": [
      "Rasampling files in progress: 100%|███████████████████████████████████████████████| 3768/3768 [00:04<00:00, 939.38it/s]\n"
     ]
    },
    {
     "name": "stdout",
     "output_type": "stream",
     "text": [
      "Processing: D:/01 서울시립대학교/03 5학년 2학기/03 컴퓨터종합설계/Saveset\\01.데이터\\2.Validation\\라벨링데이터\\09.공장\n"
     ]
    },
    {
     "name": "stderr",
     "output_type": "stream",
     "text": [
      "Rasampling files in progress: 0it [00:00, ?it/s]\n"
     ]
    },
    {
     "name": "stdout",
     "output_type": "stream",
     "text": [
      "Processing: D:/01 서울시립대학교/03 5학년 2학기/03 컴퓨터종합설계/Saveset\\01.데이터\\2.Validation\\라벨링데이터\\09.공장\\01.가공공정\n"
     ]
    },
    {
     "name": "stderr",
     "output_type": "stream",
     "text": [
      "Rasampling files in progress: 100%|███████████████████████████████████████████████| 2110/2110 [00:02<00:00, 951.39it/s]\n"
     ]
    },
    {
     "name": "stdout",
     "output_type": "stream",
     "text": [
      "Processing: D:/01 서울시립대학교/03 5학년 2학기/03 컴퓨터종합설계/Saveset\\01.데이터\\2.Validation\\라벨링데이터\\09.공장\\02.조립공정\n"
     ]
    },
    {
     "name": "stderr",
     "output_type": "stream",
     "text": [
      "Rasampling files in progress: 100%|███████████████████████████████████████████████| 2742/2742 [00:02<00:00, 938.71it/s]\n"
     ]
    },
    {
     "name": "stdout",
     "output_type": "stream",
     "text": [
      "Processing: D:/01 서울시립대학교/03 5학년 2학기/03 컴퓨터종합설계/Saveset\\01.데이터\\2.Validation\\라벨링데이터\\09.공장\\03.공장_기타소음\n"
     ]
    },
    {
     "name": "stderr",
     "output_type": "stream",
     "text": [
      "Rasampling files in progress: 100%|███████████████████████████████████████████████| 9536/9536 [00:09<00:00, 976.80it/s]\n"
     ]
    },
    {
     "name": "stdout",
     "output_type": "stream",
     "text": [
      "Processing: D:/01 서울시립대학교/03 5학년 2학기/03 컴퓨터종합설계/Saveset\\01.데이터\\2.Validation\\라벨링데이터\\10.일반자연\n"
     ]
    },
    {
     "name": "stderr",
     "output_type": "stream",
     "text": [
      "Rasampling files in progress: 0it [00:00, ?it/s]\n"
     ]
    },
    {
     "name": "stdout",
     "output_type": "stream",
     "text": [
      "Processing: D:/01 서울시립대학교/03 5학년 2학기/03 컴퓨터종합설계/Saveset\\01.데이터\\2.Validation\\라벨링데이터\\10.일반자연\\01.빗소리\n"
     ]
    },
    {
     "name": "stderr",
     "output_type": "stream",
     "text": [
      "Rasampling files in progress: 100%|█████████████████████████████████████████████| 10456/10456 [00:10<00:00, 969.27it/s]\n"
     ]
    },
    {
     "name": "stdout",
     "output_type": "stream",
     "text": [
      "Processing: D:/01 서울시립대학교/03 5학년 2학기/03 컴퓨터종합설계/Saveset\\01.데이터\\2.Validation\\라벨링데이터\\10.일반자연\\02.파도\n"
     ]
    },
    {
     "name": "stderr",
     "output_type": "stream",
     "text": [
      "Rasampling files in progress: 100%|███████████████████████████████████████████████| 3760/3760 [00:04<00:00, 933.69it/s]\n"
     ]
    },
    {
     "name": "stdout",
     "output_type": "stream",
     "text": [
      "Processing: D:/01 서울시립대학교/03 5학년 2학기/03 컴퓨터종합설계/Saveset\\01.데이터\\2.Validation\\라벨링데이터\\10.일반자연\\03.일반자연_기타소음\n"
     ]
    },
    {
     "name": "stderr",
     "output_type": "stream",
     "text": [
      "Rasampling files in progress: 100%|██████████████████████████████████████████████| 2078/2078 [00:02<00:00, 1031.23it/s]\n"
     ]
    },
    {
     "name": "stdout",
     "output_type": "stream",
     "text": [
      "Processing: D:/01 서울시립대학교/03 5학년 2학기/03 컴퓨터종합설계/Saveset\\01.데이터\\2.Validation\\라벨링데이터\\11.복합소음\n"
     ]
    },
    {
     "name": "stderr",
     "output_type": "stream",
     "text": [
      "Rasampling files in progress: 0it [00:00, ?it/s]\n"
     ]
    },
    {
     "name": "stdout",
     "output_type": "stream",
     "text": [
      "Processing: D:/01 서울시립대학교/03 5학년 2학기/03 컴퓨터종합설계/Saveset\\01.데이터\\2.Validation\\라벨링데이터\\11.복합소음\\01.2가지이상소음원\n"
     ]
    },
    {
     "name": "stderr",
     "output_type": "stream",
     "text": [
      "Rasampling files in progress: 100%|████████████████████████████████████████████| 26624/26624 [00:26<00:00, 1000.26it/s]\n"
     ]
    },
    {
     "name": "stdout",
     "output_type": "stream",
     "text": [
      "Processing: D:/01 서울시립대학교/03 5학년 2학기/03 컴퓨터종합설계/Saveset\\01.데이터\\2.Validation\\원천데이터\n"
     ]
    },
    {
     "name": "stderr",
     "output_type": "stream",
     "text": [
      "Rasampling files in progress: 0it [00:00, ?it/s]\n"
     ]
    },
    {
     "name": "stdout",
     "output_type": "stream",
     "text": [
      "Processing: D:/01 서울시립대학교/03 5학년 2학기/03 컴퓨터종합설계/Saveset\\01.데이터\\2.Validation\\원천데이터\\01.가전소음\n"
     ]
    },
    {
     "name": "stderr",
     "output_type": "stream",
     "text": [
      "Rasampling files in progress: 0it [00:00, ?it/s]\n"
     ]
    },
    {
     "name": "stdout",
     "output_type": "stream",
     "text": [
      "Processing: D:/01 서울시립대학교/03 5학년 2학기/03 컴퓨터종합설계/Saveset\\01.데이터\\2.Validation\\원천데이터\\01.가전소음\\01.세탁기,건조기\n"
     ]
    },
    {
     "name": "stderr",
     "output_type": "stream",
     "text": [
      "Rasampling files in progress: 100%|████████████████████████████████████████████████████████| 1000/1000 [00:00<?, ?it/s]\n"
     ]
    },
    {
     "name": "stdout",
     "output_type": "stream",
     "text": [
      "Processing: D:/01 서울시립대학교/03 5학년 2학기/03 컴퓨터종합설계/Saveset\\01.데이터\\2.Validation\\원천데이터\\01.가전소음\\02.청소기\n"
     ]
    },
    {
     "name": "stderr",
     "output_type": "stream",
     "text": [
      "Rasampling files in progress: 100%|███████████████████████████████████████████| 1000/1000 [00:00<00:00, 1003182.01it/s]\n"
     ]
    },
    {
     "name": "stdout",
     "output_type": "stream",
     "text": [
      "Processing: D:/01 서울시립대학교/03 5학년 2학기/03 컴퓨터종합설계/Saveset\\01.데이터\\2.Validation\\원천데이터\\01.가전소음\\03.가전소음_기타소음\n"
     ]
    },
    {
     "name": "stderr",
     "output_type": "stream",
     "text": [
      "Rasampling files in progress: 100%|████████████████████████████████████████████| 1000/1000 [00:00<00:00, 665445.66it/s]\n"
     ]
    },
    {
     "name": "stdout",
     "output_type": "stream",
     "text": [
      "Processing: D:/01 서울시립대학교/03 5학년 2학기/03 컴퓨터종합설계/Saveset\\01.데이터\\2.Validation\\원천데이터\\02.교통수단\n"
     ]
    },
    {
     "name": "stderr",
     "output_type": "stream",
     "text": [
      "Rasampling files in progress: 0it [00:00, ?it/s]\n"
     ]
    },
    {
     "name": "stdout",
     "output_type": "stream",
     "text": [
      "Processing: D:/01 서울시립대학교/03 5학년 2학기/03 컴퓨터종합설계/Saveset\\01.데이터\\2.Validation\\원천데이터\\02.교통수단\\01.바이크\n"
     ]
    },
    {
     "name": "stderr",
     "output_type": "stream",
     "text": [
      "Rasampling files in progress: 100%|███████████████████████████████████████████| 1000/1000 [00:00<00:00, 1003902.35it/s]\n"
     ]
    },
    {
     "name": "stdout",
     "output_type": "stream",
     "text": [
      "Processing: D:/01 서울시립대학교/03 5학년 2학기/03 컴퓨터종합설계/Saveset\\01.데이터\\2.Validation\\원천데이터\\02.교통수단\\02.싸이렌\n"
     ]
    },
    {
     "name": "stderr",
     "output_type": "stream",
     "text": [
      "Rasampling files in progress: 100%|███████████████████████████████████████████| 1000/1000 [00:00<00:00, 1003182.01it/s]\n"
     ]
    },
    {
     "name": "stdout",
     "output_type": "stream",
     "text": [
      "Processing: D:/01 서울시립대학교/03 5학년 2학기/03 컴퓨터종합설계/Saveset\\01.데이터\\2.Validation\\원천데이터\\02.교통수단\\03.경적\n"
     ]
    },
    {
     "name": "stderr",
     "output_type": "stream",
     "text": [
      "Rasampling files in progress: 100%|████████████████████████████████████████████████████████| 1000/1000 [00:00<?, ?it/s]\n"
     ]
    },
    {
     "name": "stdout",
     "output_type": "stream",
     "text": [
      "Processing: D:/01 서울시립대학교/03 5학년 2학기/03 컴퓨터종합설계/Saveset\\01.데이터\\2.Validation\\원천데이터\\02.교통수단\\04.교통수단_기타소음\n"
     ]
    },
    {
     "name": "stderr",
     "output_type": "stream",
     "text": [
      "Rasampling files in progress: 100%|███████████████████████████████████████████| 1000/1000 [00:00<00:00, 1003422.01it/s]\n"
     ]
    },
    {
     "name": "stdout",
     "output_type": "stream",
     "text": [
      "Processing: D:/01 서울시립대학교/03 5학년 2학기/03 컴퓨터종합설계/Saveset\\01.데이터\\2.Validation\\원천데이터\\03.길거리\n"
     ]
    },
    {
     "name": "stderr",
     "output_type": "stream",
     "text": [
      "Rasampling files in progress: 0it [00:00, ?it/s]\n"
     ]
    },
    {
     "name": "stdout",
     "output_type": "stream",
     "text": [
      "Processing: D:/01 서울시립대학교/03 5학년 2학기/03 컴퓨터종합설계/Saveset\\01.데이터\\2.Validation\\원천데이터\\03.길거리\\01.도로변\n"
     ]
    },
    {
     "name": "stderr",
     "output_type": "stream",
     "text": [
      "Rasampling files in progress: 100%|████████████████████████████████████████████████████████| 1000/1000 [00:00<?, ?it/s]\n"
     ]
    },
    {
     "name": "stdout",
     "output_type": "stream",
     "text": [
      "Processing: D:/01 서울시립대학교/03 5학년 2학기/03 컴퓨터종합설계/Saveset\\01.데이터\\2.Validation\\원천데이터\\03.길거리\\02.인파\n"
     ]
    },
    {
     "name": "stderr",
     "output_type": "stream",
     "text": [
      "Rasampling files in progress: 100%|███████████████████████████████████████████| 1000/1000 [00:00<00:00, 1004623.71it/s]\n"
     ]
    },
    {
     "name": "stdout",
     "output_type": "stream",
     "text": [
      "Processing: D:/01 서울시립대학교/03 5학년 2학기/03 컴퓨터종합설계/Saveset\\01.데이터\\2.Validation\\원천데이터\\03.길거리\\03.길거리_기타소음\n"
     ]
    },
    {
     "name": "stderr",
     "output_type": "stream",
     "text": [
      "Rasampling files in progress: 100%|███████████████████████████████████████████| 1000/1000 [00:00<00:00, 1003182.01it/s]\n"
     ]
    },
    {
     "name": "stdout",
     "output_type": "stream",
     "text": [
      "Processing: D:/01 서울시립대학교/03 5학년 2학기/03 컴퓨터종합설계/Saveset\\01.데이터\\2.Validation\\원천데이터\\04.카페,음식점\n"
     ]
    },
    {
     "name": "stderr",
     "output_type": "stream",
     "text": [
      "Rasampling files in progress: 0it [00:00, ?it/s]\n"
     ]
    },
    {
     "name": "stdout",
     "output_type": "stream",
     "text": [
      "Processing: D:/01 서울시립대학교/03 5학년 2학기/03 컴퓨터종합설계/Saveset\\01.데이터\\2.Validation\\원천데이터\\04.카페,음식점\\01.대화소음\n"
     ]
    },
    {
     "name": "stderr",
     "output_type": "stream",
     "text": [
      "Rasampling files in progress: 100%|████████████████████████████████████████████████████████| 1000/1000 [00:00<?, ?it/s]\n"
     ]
    },
    {
     "name": "stdout",
     "output_type": "stream",
     "text": [
      "Processing: D:/01 서울시립대학교/03 5학년 2학기/03 컴퓨터종합설계/Saveset\\01.데이터\\2.Validation\\원천데이터\\04.카페,음식점\\02.업소소음\n"
     ]
    },
    {
     "name": "stderr",
     "output_type": "stream",
     "text": [
      "Rasampling files in progress: 100%|████████████████████████████████████████████| 1000/1000 [00:00<00:00, 665445.66it/s]\n"
     ]
    },
    {
     "name": "stdout",
     "output_type": "stream",
     "text": [
      "Processing: D:/01 서울시립대학교/03 5학년 2학기/03 컴퓨터종합설계/Saveset\\01.데이터\\2.Validation\\원천데이터\\04.카페,음식점\\03.카페,음식점_기타소음\n"
     ]
    },
    {
     "name": "stderr",
     "output_type": "stream",
     "text": [
      "Rasampling files in progress: 100%|███████████████████████████████████████████| 1000/1000 [00:00<00:00, 1002942.13it/s]\n"
     ]
    },
    {
     "name": "stdout",
     "output_type": "stream",
     "text": [
      "Processing: D:/01 서울시립대학교/03 5학년 2학기/03 컴퓨터종합설계/Saveset\\01.데이터\\2.Validation\\원천데이터\\05.시장,쇼핑몰\n"
     ]
    },
    {
     "name": "stderr",
     "output_type": "stream",
     "text": [
      "Rasampling files in progress: 0it [00:00, ?it/s]\n"
     ]
    },
    {
     "name": "stdout",
     "output_type": "stream",
     "text": [
      "Processing: D:/01 서울시립대학교/03 5학년 2학기/03 컴퓨터종합설계/Saveset\\01.데이터\\2.Validation\\원천데이터\\05.시장,쇼핑몰\\01.전통시장\n"
     ]
    },
    {
     "name": "stderr",
     "output_type": "stream",
     "text": [
      "Rasampling files in progress: 100%|████████████████████████████████████████████████████████| 1000/1000 [00:00<?, ?it/s]\n"
     ]
    },
    {
     "name": "stdout",
     "output_type": "stream",
     "text": [
      "Processing: D:/01 서울시립대학교/03 5학년 2학기/03 컴퓨터종합설계/Saveset\\01.데이터\\2.Validation\\원천데이터\\05.시장,쇼핑몰\\02.복합쇼핑몰\n"
     ]
    },
    {
     "name": "stderr",
     "output_type": "stream",
     "text": [
      "Rasampling files in progress: 100%|███████████████████████████████████████████| 1000/1000 [00:00<00:00, 1003422.01it/s]\n"
     ]
    },
    {
     "name": "stdout",
     "output_type": "stream",
     "text": [
      "Processing: D:/01 서울시립대학교/03 5학년 2학기/03 컴퓨터종합설계/Saveset\\01.데이터\\2.Validation\\원천데이터\\05.시장,쇼핑몰\\03.시장,쇼핑몰_기타소음\n"
     ]
    },
    {
     "name": "stderr",
     "output_type": "stream",
     "text": [
      "Rasampling files in progress: 100%|███████████████████████████████████████████| 1000/1000 [00:00<00:00, 1003422.01it/s]\n"
     ]
    },
    {
     "name": "stdout",
     "output_type": "stream",
     "text": [
      "Processing: D:/01 서울시립대학교/03 5학년 2학기/03 컴퓨터종합설계/Saveset\\01.데이터\\2.Validation\\원천데이터\\06.지하철,버스\n"
     ]
    },
    {
     "name": "stderr",
     "output_type": "stream",
     "text": [
      "Rasampling files in progress: 0it [00:00, ?it/s]\n"
     ]
    },
    {
     "name": "stdout",
     "output_type": "stream",
     "text": [
      "Processing: D:/01 서울시립대학교/03 5학년 2학기/03 컴퓨터종합설계/Saveset\\01.데이터\\2.Validation\\원천데이터\\06.지하철,버스\\01.지하철플랫폼\n"
     ]
    },
    {
     "name": "stderr",
     "output_type": "stream",
     "text": [
      "Rasampling files in progress: 100%|███████████████████████████████████████████| 1000/1000 [00:00<00:00, 1004142.69it/s]\n"
     ]
    },
    {
     "name": "stdout",
     "output_type": "stream",
     "text": [
      "Processing: D:/01 서울시립대학교/03 5학년 2학기/03 컴퓨터종합설계/Saveset\\01.데이터\\2.Validation\\원천데이터\\06.지하철,버스\\02.지하철안\n"
     ]
    },
    {
     "name": "stderr",
     "output_type": "stream",
     "text": [
      "Rasampling files in progress: 100%|███████████████████████████████████████████| 1000/1000 [00:00<00:00, 1003902.35it/s]\n"
     ]
    },
    {
     "name": "stdout",
     "output_type": "stream",
     "text": [
      "Processing: D:/01 서울시립대학교/03 5학년 2학기/03 컴퓨터종합설계/Saveset\\01.데이터\\2.Validation\\원천데이터\\06.지하철,버스\\03.기차안\n"
     ]
    },
    {
     "name": "stderr",
     "output_type": "stream",
     "text": [
      "Rasampling files in progress: 100%|███████████████████████████████████████████| 1000/1000 [00:00<00:00, 1990652.11it/s]\n"
     ]
    },
    {
     "name": "stdout",
     "output_type": "stream",
     "text": [
      "Processing: D:/01 서울시립대학교/03 5학년 2학기/03 컴퓨터종합설계/Saveset\\01.데이터\\2.Validation\\원천데이터\\06.지하철,버스\\04.버스안\n"
     ]
    },
    {
     "name": "stderr",
     "output_type": "stream",
     "text": [
      "Rasampling files in progress: 100%|███████████████████████████████████████████| 1000/1000 [00:00<00:00, 1002223.18it/s]\n"
     ]
    },
    {
     "name": "stdout",
     "output_type": "stream",
     "text": [
      "Processing: D:/01 서울시립대학교/03 5학년 2학기/03 컴퓨터종합설계/Saveset\\01.데이터\\2.Validation\\원천데이터\\07.터미널\n"
     ]
    },
    {
     "name": "stderr",
     "output_type": "stream",
     "text": [
      "Rasampling files in progress: 0it [00:00, ?it/s]\n"
     ]
    },
    {
     "name": "stdout",
     "output_type": "stream",
     "text": [
      "Processing: D:/01 서울시립대학교/03 5학년 2학기/03 컴퓨터종합설계/Saveset\\01.데이터\\2.Validation\\원천데이터\\07.터미널\\01.기차역대합실\n"
     ]
    },
    {
     "name": "stderr",
     "output_type": "stream",
     "text": [
      "Rasampling files in progress: 100%|████████████████████████████████████████████████████████| 1000/1000 [00:00<?, ?it/s]\n"
     ]
    },
    {
     "name": "stdout",
     "output_type": "stream",
     "text": [
      "Processing: D:/01 서울시립대학교/03 5학년 2학기/03 컴퓨터종합설계/Saveset\\01.데이터\\2.Validation\\원천데이터\\07.터미널\\02.버스터미널대합실\n"
     ]
    },
    {
     "name": "stderr",
     "output_type": "stream",
     "text": [
      "Rasampling files in progress: 100%|████████████████████████████████████████████████████████| 1000/1000 [00:00<?, ?it/s]\n"
     ]
    },
    {
     "name": "stdout",
     "output_type": "stream",
     "text": [
      "Processing: D:/01 서울시립대학교/03 5학년 2학기/03 컴퓨터종합설계/Saveset\\01.데이터\\2.Validation\\원천데이터\\07.터미널\\03.터미널_기타소음\n"
     ]
    },
    {
     "name": "stderr",
     "output_type": "stream",
     "text": [
      "Rasampling files in progress: 100%|███████████████████████████████████████████| 1000/1000 [00:00<00:00, 1003422.01it/s]\n"
     ]
    },
    {
     "name": "stdout",
     "output_type": "stream",
     "text": [
      "Processing: D:/01 서울시립대학교/03 5학년 2학기/03 컴퓨터종합설계/Saveset\\01.데이터\\2.Validation\\원천데이터\\08.공사장\n"
     ]
    },
    {
     "name": "stderr",
     "output_type": "stream",
     "text": [
      "Rasampling files in progress: 0it [00:00, ?it/s]\n"
     ]
    },
    {
     "name": "stdout",
     "output_type": "stream",
     "text": [
      "Processing: D:/01 서울시립대학교/03 5학년 2학기/03 컴퓨터종합설계/Saveset\\01.데이터\\2.Validation\\원천데이터\\08.공사장\\01.실외공사장\n"
     ]
    },
    {
     "name": "stderr",
     "output_type": "stream",
     "text": [
      "Rasampling files in progress: 100%|████████████████████████████████████████████████████████| 1000/1000 [00:00<?, ?it/s]\n"
     ]
    },
    {
     "name": "stdout",
     "output_type": "stream",
     "text": [
      "Processing: D:/01 서울시립대학교/03 5학년 2학기/03 컴퓨터종합설계/Saveset\\01.데이터\\2.Validation\\원천데이터\\08.공사장\\02.실내공사장\n"
     ]
    },
    {
     "name": "stderr",
     "output_type": "stream",
     "text": [
      "Rasampling files in progress: 100%|███████████████████████████████████████████| 1000/1000 [00:00<00:00, 1002702.37it/s]\n"
     ]
    },
    {
     "name": "stdout",
     "output_type": "stream",
     "text": [
      "Processing: D:/01 서울시립대학교/03 5학년 2학기/03 컴퓨터종합설계/Saveset\\01.데이터\\2.Validation\\원천데이터\\08.공사장\\03.공사장_기타소음\n"
     ]
    },
    {
     "name": "stderr",
     "output_type": "stream",
     "text": [
      "Rasampling files in progress: 100%|████████████████████████████████████████████████████████| 1000/1000 [00:00<?, ?it/s]\n"
     ]
    },
    {
     "name": "stdout",
     "output_type": "stream",
     "text": [
      "Processing: D:/01 서울시립대학교/03 5학년 2학기/03 컴퓨터종합설계/Saveset\\01.데이터\\2.Validation\\원천데이터\\09.공장\n"
     ]
    },
    {
     "name": "stderr",
     "output_type": "stream",
     "text": [
      "Rasampling files in progress: 0it [00:00, ?it/s]\n"
     ]
    },
    {
     "name": "stdout",
     "output_type": "stream",
     "text": [
      "Processing: D:/01 서울시립대학교/03 5학년 2학기/03 컴퓨터종합설계/Saveset\\01.데이터\\2.Validation\\원천데이터\\09.공장\\01.가공공정\n"
     ]
    },
    {
     "name": "stderr",
     "output_type": "stream",
     "text": [
      "Rasampling files in progress: 100%|███████████████████████████████████████████| 1000/1000 [00:00<00:00, 1002702.37it/s]\n"
     ]
    },
    {
     "name": "stdout",
     "output_type": "stream",
     "text": [
      "Processing: D:/01 서울시립대학교/03 5학년 2학기/03 컴퓨터종합설계/Saveset\\01.데이터\\2.Validation\\원천데이터\\09.공장\\02.조립공정\n"
     ]
    },
    {
     "name": "stderr",
     "output_type": "stream",
     "text": [
      "Rasampling files in progress: 100%|████████████████████████████████████████████████████████| 1000/1000 [00:00<?, ?it/s]\n"
     ]
    },
    {
     "name": "stdout",
     "output_type": "stream",
     "text": [
      "Processing: D:/01 서울시립대학교/03 5학년 2학기/03 컴퓨터종합설계/Saveset\\01.데이터\\2.Validation\\원천데이터\\09.공장\\03.공장_기타소음\n"
     ]
    },
    {
     "name": "stderr",
     "output_type": "stream",
     "text": [
      "Rasampling files in progress: 100%|████████████████████████████████████████████████████████| 1000/1000 [00:00<?, ?it/s]\n"
     ]
    },
    {
     "name": "stdout",
     "output_type": "stream",
     "text": [
      "Processing: D:/01 서울시립대학교/03 5학년 2학기/03 컴퓨터종합설계/Saveset\\01.데이터\\2.Validation\\원천데이터\\10.일반자연\n"
     ]
    },
    {
     "name": "stderr",
     "output_type": "stream",
     "text": [
      "Rasampling files in progress: 0it [00:00, ?it/s]\n"
     ]
    },
    {
     "name": "stdout",
     "output_type": "stream",
     "text": [
      "Processing: D:/01 서울시립대학교/03 5학년 2학기/03 컴퓨터종합설계/Saveset\\01.데이터\\2.Validation\\원천데이터\\10.일반자연\\01.빗소리\n"
     ]
    },
    {
     "name": "stderr",
     "output_type": "stream",
     "text": [
      "Rasampling files in progress: 100%|████████████████████████████████████████████████████████| 1000/1000 [00:00<?, ?it/s]\n"
     ]
    },
    {
     "name": "stdout",
     "output_type": "stream",
     "text": [
      "Processing: D:/01 서울시립대학교/03 5학년 2학기/03 컴퓨터종합설계/Saveset\\01.데이터\\2.Validation\\원천데이터\\10.일반자연\\02.파도\n"
     ]
    },
    {
     "name": "stderr",
     "output_type": "stream",
     "text": [
      "Rasampling files in progress: 100%|████████████████████████████████████████████████████████| 1000/1000 [00:00<?, ?it/s]\n"
     ]
    },
    {
     "name": "stdout",
     "output_type": "stream",
     "text": [
      "Processing: D:/01 서울시립대학교/03 5학년 2학기/03 컴퓨터종합설계/Saveset\\01.데이터\\2.Validation\\원천데이터\\10.일반자연\\03.일반자연_기타소음\n"
     ]
    },
    {
     "name": "stderr",
     "output_type": "stream",
     "text": [
      "Rasampling files in progress: 100%|███████████████████████████████████████████| 1000/1000 [00:00<00:00, 1002462.72it/s]\n"
     ]
    },
    {
     "name": "stdout",
     "output_type": "stream",
     "text": [
      "Processing: D:/01 서울시립대학교/03 5학년 2학기/03 컴퓨터종합설계/Saveset\\01.데이터\\2.Validation\\원천데이터\\11.복합소음\n"
     ]
    },
    {
     "name": "stderr",
     "output_type": "stream",
     "text": [
      "Rasampling files in progress: 0it [00:00, ?it/s]\n"
     ]
    },
    {
     "name": "stdout",
     "output_type": "stream",
     "text": [
      "Processing: D:/01 서울시립대학교/03 5학년 2학기/03 컴퓨터종합설계/Saveset\\01.데이터\\2.Validation\\원천데이터\\11.복합소음\\01.2가지이상소음원\n"
     ]
    },
    {
     "name": "stderr",
     "output_type": "stream",
     "text": [
      "Rasampling files in progress: 100%|███████████████████████████████████████████| 3000/3000 [00:00<00:00, 3007388.15it/s]"
     ]
    },
    {
     "name": "stdout",
     "output_type": "stream",
     "text": [
      "Done!\n"
     ]
    },
    {
     "name": "stderr",
     "output_type": "stream",
     "text": [
      "\n"
     ]
    }
   ],
   "source": [
    "root_directory = \"D:/01 서울시립대학교/03 5학년 2학기/03 컴퓨터종합설계/Saveset\"\n",
    "transcription(root_directory)"
   ]
  },
  {
   "cell_type": "code",
   "execution_count": null,
   "id": "4a6b72ce-b729-4397-ae88-0968bac2eb17",
   "metadata": {},
   "outputs": [],
   "source": [
    "root_directory = \"D:/01 서울시립대학교/03 5학년 2학기/03 컴퓨터종합설계/Saveset/01.데이터/2.Validation/원천데이터/01.가전소음\"\n",
    "transcription(root_directory)"
   ]
  },
  {
   "cell_type": "markdown",
   "id": "fe2f97f6-8cf2-4205-afc2-74684cc441d3",
   "metadata": {},
   "source": [
    "# 4. Construct Dataset"
   ]
  },
  {
   "cell_type": "code",
   "execution_count": 11,
   "id": "5c5ad868-f714-438c-8b4b-0d22f1158016",
   "metadata": {},
   "outputs": [],
   "source": [
    "import os\n",
    "import json\n",
    "\n",
    "def is_json(filename):\n",
    "    return filename[-4:] == 'json'\n",
    "\n",
    "def list_files_and_directories(root_dir):\n",
    "    wav_filepath_list = []\n",
    "    text_list = []\n",
    "    root_dir_len = len(root_dir)\n",
    "    for dirpath, dirnames, filenames in os.walk(root_dir):\n",
    "        print(\"Processing:\", dirpath)\n",
    "        num_files = len(filenames)\n",
    "        with tqdm(total=num_files, desc=\"Rasampling files in progress\") as pbar:\n",
    "            n = 0\n",
    "            for filename in filenames:\n",
    "                if is_json(filename):\n",
    "                    filepath = os.path.join(dirpath, filename)\n",
    "                    with open(filepath, \"r\", encoding=\"utf-8\") as json_file:\n",
    "                        data = json.load(json_file)\n",
    "                        text = data[\"annotations\"][\"note\"]\n",
    "                    \n",
    "                    wav_filename = filename.replace('.json', '.wav')\n",
    "                    wav_filepath = dirpath.replace('라벨링', '원천')\n",
    "                    wav_filepath = os.path.join(wav_filepath, wav_filename)\n",
    "                    \n",
    "                    if os.path.exists(wav_filepath):\n",
    "                        wav_filepath_list.append(wav_filepath[root_dir_len+1:])\n",
    "                        text_list.append(text)\n",
    "                        n += 1\n",
    "                pbar.update(1)\n",
    "            print(f\"Success: {n}/{len(filenames)}\")\n",
    "                    \n",
    "    print(\"Done!\")\n",
    "    return wav_filepath_list, text_list"
   ]
  },
  {
   "cell_type": "code",
   "execution_count": 12,
   "id": "473af39d-ffe6-489b-88c5-e80db3710afe",
   "metadata": {},
   "outputs": [
    {
     "name": "stdout",
     "output_type": "stream",
     "text": [
      "Processing: D:/01 서울시립대학교/03 5학년 2학기/03 컴퓨터종합설계/Saveset\n"
     ]
    },
    {
     "name": "stderr",
     "output_type": "stream",
     "text": [
      "Rasampling files in progress: 100%|██████████████████████████████████████████████████████████████| 1/1 [00:00<?, ?it/s]\n"
     ]
    },
    {
     "name": "stdout",
     "output_type": "stream",
     "text": [
      "Success: 0/1\n",
      "Processing: D:/01 서울시립대학교/03 5학년 2학기/03 컴퓨터종합설계/Saveset\\01.데이터\n"
     ]
    },
    {
     "name": "stderr",
     "output_type": "stream",
     "text": [
      "Rasampling files in progress: 0it [00:00, ?it/s]\n"
     ]
    },
    {
     "name": "stdout",
     "output_type": "stream",
     "text": [
      "Success: 0/0\n",
      "Processing: D:/01 서울시립대학교/03 5학년 2학기/03 컴퓨터종합설계/Saveset\\01.데이터\\2.Validation\n"
     ]
    },
    {
     "name": "stderr",
     "output_type": "stream",
     "text": [
      "Rasampling files in progress: 0it [00:00, ?it/s]\n"
     ]
    },
    {
     "name": "stdout",
     "output_type": "stream",
     "text": [
      "Success: 0/0\n",
      "Processing: D:/01 서울시립대학교/03 5학년 2학기/03 컴퓨터종합설계/Saveset\\01.데이터\\2.Validation\\라벨링데이터\n"
     ]
    },
    {
     "name": "stderr",
     "output_type": "stream",
     "text": [
      "Rasampling files in progress: 0it [00:00, ?it/s]\n"
     ]
    },
    {
     "name": "stdout",
     "output_type": "stream",
     "text": [
      "Success: 0/0\n",
      "Processing: D:/01 서울시립대학교/03 5학년 2학기/03 컴퓨터종합설계/Saveset\\01.데이터\\2.Validation\\라벨링데이터\\01.가전소음\n"
     ]
    },
    {
     "name": "stderr",
     "output_type": "stream",
     "text": [
      "Rasampling files in progress: 0it [00:00, ?it/s]\n"
     ]
    },
    {
     "name": "stdout",
     "output_type": "stream",
     "text": [
      "Success: 0/0\n",
      "Processing: D:/01 서울시립대학교/03 5학년 2학기/03 컴퓨터종합설계/Saveset\\01.데이터\\2.Validation\\라벨링데이터\\01.가전소음\\01.세탁기,건조기\n"
     ]
    },
    {
     "name": "stderr",
     "output_type": "stream",
     "text": [
      "Rasampling files in progress: 100%|████████████████████████████████████████████| 10554/10554 [00:07<00:00, 1474.05it/s]\n"
     ]
    },
    {
     "name": "stdout",
     "output_type": "stream",
     "text": [
      "Success: 508/10554\n",
      "Processing: D:/01 서울시립대학교/03 5학년 2학기/03 컴퓨터종합설계/Saveset\\01.데이터\\2.Validation\\라벨링데이터\\01.가전소음\\02.청소기\n"
     ]
    },
    {
     "name": "stderr",
     "output_type": "stream",
     "text": [
      "Rasampling files in progress: 100%|██████████████████████████████████████████████| 4594/4594 [00:03<00:00, 1492.89it/s]\n"
     ]
    },
    {
     "name": "stdout",
     "output_type": "stream",
     "text": [
      "Success: 492/4594\n",
      "Processing: D:/01 서울시립대학교/03 5학년 2학기/03 컴퓨터종합설계/Saveset\\01.데이터\\2.Validation\\라벨링데이터\\01.가전소음\\03.가전소음_기타소음\n"
     ]
    },
    {
     "name": "stderr",
     "output_type": "stream",
     "text": [
      "Rasampling files in progress: 100%|████████████████████████████████████████████| 31620/31620 [00:20<00:00, 1519.16it/s]\n"
     ]
    },
    {
     "name": "stdout",
     "output_type": "stream",
     "text": [
      "Success: 500/31620\n",
      "Processing: D:/01 서울시립대학교/03 5학년 2학기/03 컴퓨터종합설계/Saveset\\01.데이터\\2.Validation\\라벨링데이터\\02.교통수단\n"
     ]
    },
    {
     "name": "stderr",
     "output_type": "stream",
     "text": [
      "Rasampling files in progress: 0it [00:00, ?it/s]\n"
     ]
    },
    {
     "name": "stdout",
     "output_type": "stream",
     "text": [
      "Success: 0/0\n",
      "Processing: D:/01 서울시립대학교/03 5학년 2학기/03 컴퓨터종합설계/Saveset\\01.데이터\\2.Validation\\라벨링데이터\\02.교통수단\\01.바이크\n"
     ]
    },
    {
     "name": "stderr",
     "output_type": "stream",
     "text": [
      "Rasampling files in progress: 100%|██████████████████████████████████████████████| 1908/1908 [00:01<00:00, 1561.46it/s]\n"
     ]
    },
    {
     "name": "stdout",
     "output_type": "stream",
     "text": [
      "Success: 502/1908\n",
      "Processing: D:/01 서울시립대학교/03 5학년 2학기/03 컴퓨터종합설계/Saveset\\01.데이터\\2.Validation\\라벨링데이터\\02.교통수단\\02.싸이렌\n"
     ]
    },
    {
     "name": "stderr",
     "output_type": "stream",
     "text": [
      "Rasampling files in progress: 100%|██████████████████████████████████████████████| 1712/1712 [00:01<00:00, 1501.86it/s]\n"
     ]
    },
    {
     "name": "stdout",
     "output_type": "stream",
     "text": [
      "Success: 510/1712\n",
      "Processing: D:/01 서울시립대학교/03 5학년 2학기/03 컴퓨터종합설계/Saveset\\01.데이터\\2.Validation\\라벨링데이터\\02.교통수단\\03.경적\n"
     ]
    },
    {
     "name": "stderr",
     "output_type": "stream",
     "text": [
      "Rasampling files in progress: 100%|██████████████████████████████████████████████| 2090/2090 [00:01<00:00, 1468.26it/s]\n"
     ]
    },
    {
     "name": "stdout",
     "output_type": "stream",
     "text": [
      "Success: 508/2090\n",
      "Processing: D:/01 서울시립대학교/03 5학년 2학기/03 컴퓨터종합설계/Saveset\\01.데이터\\2.Validation\\라벨링데이터\\02.교통수단\\04.교통수단_기타소음\n"
     ]
    },
    {
     "name": "stderr",
     "output_type": "stream",
     "text": [
      "Rasampling files in progress: 100%|██████████████████████████████████████████████| 3330/3330 [00:02<00:00, 1550.06it/s]\n"
     ]
    },
    {
     "name": "stdout",
     "output_type": "stream",
     "text": [
      "Success: 502/3330\n",
      "Processing: D:/01 서울시립대학교/03 5학년 2학기/03 컴퓨터종합설계/Saveset\\01.데이터\\2.Validation\\라벨링데이터\\03.길거리\n"
     ]
    },
    {
     "name": "stderr",
     "output_type": "stream",
     "text": [
      "Rasampling files in progress: 0it [00:00, ?it/s]\n"
     ]
    },
    {
     "name": "stdout",
     "output_type": "stream",
     "text": [
      "Success: 0/0\n",
      "Processing: D:/01 서울시립대학교/03 5학년 2학기/03 컴퓨터종합설계/Saveset\\01.데이터\\2.Validation\\라벨링데이터\\03.길거리\\01.도로변\n"
     ]
    },
    {
     "name": "stderr",
     "output_type": "stream",
     "text": [
      "Rasampling files in progress: 100%|██████████████████████████████████████████████| 8918/8918 [00:05<00:00, 1549.28it/s]\n"
     ]
    },
    {
     "name": "stdout",
     "output_type": "stream",
     "text": [
      "Success: 508/8918\n",
      "Processing: D:/01 서울시립대학교/03 5학년 2학기/03 컴퓨터종합설계/Saveset\\01.데이터\\2.Validation\\라벨링데이터\\03.길거리\\02.인파\n"
     ]
    },
    {
     "name": "stderr",
     "output_type": "stream",
     "text": [
      "Rasampling files in progress: 100%|██████████████████████████████████████████████| 1648/1648 [00:01<00:00, 1561.37it/s]\n"
     ]
    },
    {
     "name": "stdout",
     "output_type": "stream",
     "text": [
      "Success: 488/1648\n",
      "Processing: D:/01 서울시립대학교/03 5학년 2학기/03 컴퓨터종합설계/Saveset\\01.데이터\\2.Validation\\라벨링데이터\\03.길거리\\03.길거리_기타소음\n"
     ]
    },
    {
     "name": "stderr",
     "output_type": "stream",
     "text": [
      "Rasampling files in progress: 100%|██████████████████████████████████████████████| 5032/5032 [00:03<00:00, 1464.37it/s]\n"
     ]
    },
    {
     "name": "stdout",
     "output_type": "stream",
     "text": [
      "Success: 502/5032\n",
      "Processing: D:/01 서울시립대학교/03 5학년 2학기/03 컴퓨터종합설계/Saveset\\01.데이터\\2.Validation\\라벨링데이터\\04.카페,음식점\n"
     ]
    },
    {
     "name": "stderr",
     "output_type": "stream",
     "text": [
      "Rasampling files in progress: 0it [00:00, ?it/s]\n"
     ]
    },
    {
     "name": "stdout",
     "output_type": "stream",
     "text": [
      "Success: 0/0\n",
      "Processing: D:/01 서울시립대학교/03 5학년 2학기/03 컴퓨터종합설계/Saveset\\01.데이터\\2.Validation\\라벨링데이터\\04.카페,음식점\\01.대화소음\n"
     ]
    },
    {
     "name": "stderr",
     "output_type": "stream",
     "text": [
      "Rasampling files in progress: 100%|████████████████████████████████████████████| 16548/16548 [00:10<00:00, 1508.23it/s]\n"
     ]
    },
    {
     "name": "stdout",
     "output_type": "stream",
     "text": [
      "Success: 512/16548\n",
      "Processing: D:/01 서울시립대학교/03 5학년 2학기/03 컴퓨터종합설계/Saveset\\01.데이터\\2.Validation\\라벨링데이터\\04.카페,음식점\\02.업소소음\n"
     ]
    },
    {
     "name": "stderr",
     "output_type": "stream",
     "text": [
      "Rasampling files in progress: 100%|████████████████████████████████████████████| 23310/23310 [00:15<00:00, 1512.43it/s]\n"
     ]
    },
    {
     "name": "stdout",
     "output_type": "stream",
     "text": [
      "Success: 510/23310\n",
      "Processing: D:/01 서울시립대학교/03 5학년 2학기/03 컴퓨터종합설계/Saveset\\01.데이터\\2.Validation\\라벨링데이터\\04.카페,음식점\\03.카페,음식점_기타소음\n"
     ]
    },
    {
     "name": "stderr",
     "output_type": "stream",
     "text": [
      "Rasampling files in progress: 100%|██████████████████████████████████████████████| 5788/5788 [00:04<00:00, 1439.17it/s]\n"
     ]
    },
    {
     "name": "stdout",
     "output_type": "stream",
     "text": [
      "Success: 487/5788\n",
      "Processing: D:/01 서울시립대학교/03 5학년 2학기/03 컴퓨터종합설계/Saveset\\01.데이터\\2.Validation\\라벨링데이터\\05.시장,쇼핑몰\n"
     ]
    },
    {
     "name": "stderr",
     "output_type": "stream",
     "text": [
      "Rasampling files in progress: 0it [00:00, ?it/s]\n"
     ]
    },
    {
     "name": "stdout",
     "output_type": "stream",
     "text": [
      "Success: 0/0\n",
      "Processing: D:/01 서울시립대학교/03 5학년 2학기/03 컴퓨터종합설계/Saveset\\01.데이터\\2.Validation\\라벨링데이터\\05.시장,쇼핑몰\\01.전통시장\n"
     ]
    },
    {
     "name": "stderr",
     "output_type": "stream",
     "text": [
      "Rasampling files in progress: 100%|██████████████████████████████████████████████| 5068/5068 [00:03<00:00, 1433.65it/s]\n"
     ]
    },
    {
     "name": "stdout",
     "output_type": "stream",
     "text": [
      "Success: 486/5068\n",
      "Processing: D:/01 서울시립대학교/03 5학년 2학기/03 컴퓨터종합설계/Saveset\\01.데이터\\2.Validation\\라벨링데이터\\05.시장,쇼핑몰\\02.복합쇼핑몰\n"
     ]
    },
    {
     "name": "stderr",
     "output_type": "stream",
     "text": [
      "Rasampling files in progress: 100%|████████████████████████████████████████████| 36208/36208 [00:24<00:00, 1472.81it/s]\n"
     ]
    },
    {
     "name": "stdout",
     "output_type": "stream",
     "text": [
      "Success: 477/36208\n",
      "Processing: D:/01 서울시립대학교/03 5학년 2학기/03 컴퓨터종합설계/Saveset\\01.데이터\\2.Validation\\라벨링데이터\\05.시장,쇼핑몰\\03.시장,쇼핑몰_기타소음\n"
     ]
    },
    {
     "name": "stderr",
     "output_type": "stream",
     "text": [
      "Rasampling files in progress: 100%|██████████████████████████████████████████████| 3976/3976 [00:02<00:00, 1680.60it/s]\n"
     ]
    },
    {
     "name": "stdout",
     "output_type": "stream",
     "text": [
      "Success: 504/3976\n",
      "Processing: D:/01 서울시립대학교/03 5학년 2학기/03 컴퓨터종합설계/Saveset\\01.데이터\\2.Validation\\라벨링데이터\\06.지하철,버스\n"
     ]
    },
    {
     "name": "stderr",
     "output_type": "stream",
     "text": [
      "Rasampling files in progress: 0it [00:00, ?it/s]\n"
     ]
    },
    {
     "name": "stdout",
     "output_type": "stream",
     "text": [
      "Success: 0/0\n",
      "Processing: D:/01 서울시립대학교/03 5학년 2학기/03 컴퓨터종합설계/Saveset\\01.데이터\\2.Validation\\라벨링데이터\\06.지하철,버스\\01.지하철플랫폼\n"
     ]
    },
    {
     "name": "stderr",
     "output_type": "stream",
     "text": [
      "Rasampling files in progress: 100%|██████████████████████████████████████████████| 4826/4826 [00:02<00:00, 1652.21it/s]\n"
     ]
    },
    {
     "name": "stdout",
     "output_type": "stream",
     "text": [
      "Success: 496/4826\n",
      "Processing: D:/01 서울시립대학교/03 5학년 2학기/03 컴퓨터종합설계/Saveset\\01.데이터\\2.Validation\\라벨링데이터\\06.지하철,버스\\02.지하철안\n"
     ]
    },
    {
     "name": "stderr",
     "output_type": "stream",
     "text": [
      "Rasampling files in progress: 100%|██████████████████████████████████████████████| 6670/6670 [00:03<00:00, 1717.79it/s]\n"
     ]
    },
    {
     "name": "stdout",
     "output_type": "stream",
     "text": [
      "Success: 496/6670\n",
      "Processing: D:/01 서울시립대학교/03 5학년 2학기/03 컴퓨터종합설계/Saveset\\01.데이터\\2.Validation\\라벨링데이터\\06.지하철,버스\\03.기차안\n"
     ]
    },
    {
     "name": "stderr",
     "output_type": "stream",
     "text": [
      "Rasampling files in progress: 100%|██████████████████████████████████████████████| 1844/1844 [00:01<00:00, 1590.69it/s]\n"
     ]
    },
    {
     "name": "stdout",
     "output_type": "stream",
     "text": [
      "Success: 507/1844\n",
      "Processing: D:/01 서울시립대학교/03 5학년 2학기/03 컴퓨터종합설계/Saveset\\01.데이터\\2.Validation\\라벨링데이터\\06.지하철,버스\\04.버스안\n"
     ]
    },
    {
     "name": "stderr",
     "output_type": "stream",
     "text": [
      "Rasampling files in progress: 100%|██████████████████████████████████████████████| 7188/7188 [00:04<00:00, 1651.27it/s]\n"
     ]
    },
    {
     "name": "stdout",
     "output_type": "stream",
     "text": [
      "Success: 514/7188\n",
      "Processing: D:/01 서울시립대학교/03 5학년 2학기/03 컴퓨터종합설계/Saveset\\01.데이터\\2.Validation\\라벨링데이터\\07.터미널\n"
     ]
    },
    {
     "name": "stderr",
     "output_type": "stream",
     "text": [
      "Rasampling files in progress: 0it [00:00, ?it/s]\n"
     ]
    },
    {
     "name": "stdout",
     "output_type": "stream",
     "text": [
      "Success: 0/0\n",
      "Processing: D:/01 서울시립대학교/03 5학년 2학기/03 컴퓨터종합설계/Saveset\\01.데이터\\2.Validation\\라벨링데이터\\07.터미널\\01.기차역대합실\n"
     ]
    },
    {
     "name": "stderr",
     "output_type": "stream",
     "text": [
      "Rasampling files in progress: 100%|██████████████████████████████████████████████| 7976/7976 [00:04<00:00, 1715.54it/s]\n"
     ]
    },
    {
     "name": "stdout",
     "output_type": "stream",
     "text": [
      "Success: 495/7976\n",
      "Processing: D:/01 서울시립대학교/03 5학년 2학기/03 컴퓨터종합설계/Saveset\\01.데이터\\2.Validation\\라벨링데이터\\07.터미널\\02.버스터미널대합실\n"
     ]
    },
    {
     "name": "stderr",
     "output_type": "stream",
     "text": [
      "Rasampling files in progress: 100%|██████████████████████████████████████████████| 7644/7644 [00:04<00:00, 1704.74it/s]\n"
     ]
    },
    {
     "name": "stdout",
     "output_type": "stream",
     "text": [
      "Success: 489/7644\n",
      "Processing: D:/01 서울시립대학교/03 5학년 2학기/03 컴퓨터종합설계/Saveset\\01.데이터\\2.Validation\\라벨링데이터\\07.터미널\\03.터미널_기타소음\n"
     ]
    },
    {
     "name": "stderr",
     "output_type": "stream",
     "text": [
      "Rasampling files in progress: 100%|██████████████████████████████████████████████| 7142/7142 [00:04<00:00, 1725.24it/s]\n"
     ]
    },
    {
     "name": "stdout",
     "output_type": "stream",
     "text": [
      "Success: 486/7142\n",
      "Processing: D:/01 서울시립대학교/03 5학년 2학기/03 컴퓨터종합설계/Saveset\\01.데이터\\2.Validation\\라벨링데이터\\08.공사장\n"
     ]
    },
    {
     "name": "stderr",
     "output_type": "stream",
     "text": [
      "Rasampling files in progress: 0it [00:00, ?it/s]\n"
     ]
    },
    {
     "name": "stdout",
     "output_type": "stream",
     "text": [
      "Success: 0/0\n",
      "Processing: D:/01 서울시립대학교/03 5학년 2학기/03 컴퓨터종합설계/Saveset\\01.데이터\\2.Validation\\라벨링데이터\\08.공사장\\01.실외공사장\n"
     ]
    },
    {
     "name": "stderr",
     "output_type": "stream",
     "text": [
      "Rasampling files in progress: 100%|██████████████████████████████████████████████| 4508/4508 [00:02<00:00, 1751.82it/s]\n"
     ]
    },
    {
     "name": "stdout",
     "output_type": "stream",
     "text": [
      "Success: 486/4508\n",
      "Processing: D:/01 서울시립대학교/03 5학년 2학기/03 컴퓨터종합설계/Saveset\\01.데이터\\2.Validation\\라벨링데이터\\08.공사장\\02.실내공사장\n"
     ]
    },
    {
     "name": "stderr",
     "output_type": "stream",
     "text": [
      "Rasampling files in progress: 100%|██████████████████████████████████████████████| 1606/1606 [00:00<00:00, 1666.40it/s]\n"
     ]
    },
    {
     "name": "stdout",
     "output_type": "stream",
     "text": [
      "Success: 482/1606\n",
      "Processing: D:/01 서울시립대학교/03 5학년 2학기/03 컴퓨터종합설계/Saveset\\01.데이터\\2.Validation\\라벨링데이터\\08.공사장\\03.공사장_기타소음\n"
     ]
    },
    {
     "name": "stderr",
     "output_type": "stream",
     "text": [
      "Rasampling files in progress: 100%|██████████████████████████████████████████████| 3768/3768 [00:02<00:00, 1833.22it/s]\n"
     ]
    },
    {
     "name": "stdout",
     "output_type": "stream",
     "text": [
      "Success: 507/3768\n",
      "Processing: D:/01 서울시립대학교/03 5학년 2학기/03 컴퓨터종합설계/Saveset\\01.데이터\\2.Validation\\라벨링데이터\\09.공장\n"
     ]
    },
    {
     "name": "stderr",
     "output_type": "stream",
     "text": [
      "Rasampling files in progress: 0it [00:00, ?it/s]\n"
     ]
    },
    {
     "name": "stdout",
     "output_type": "stream",
     "text": [
      "Success: 0/0\n",
      "Processing: D:/01 서울시립대학교/03 5학년 2학기/03 컴퓨터종합설계/Saveset\\01.데이터\\2.Validation\\라벨링데이터\\09.공장\\01.가공공정\n"
     ]
    },
    {
     "name": "stderr",
     "output_type": "stream",
     "text": [
      "Rasampling files in progress: 100%|██████████████████████████████████████████████| 2110/2110 [00:01<00:00, 1872.77it/s]\n"
     ]
    },
    {
     "name": "stdout",
     "output_type": "stream",
     "text": [
      "Success: 509/2110\n",
      "Processing: D:/01 서울시립대학교/03 5학년 2학기/03 컴퓨터종합설계/Saveset\\01.데이터\\2.Validation\\라벨링데이터\\09.공장\\02.조립공정\n"
     ]
    },
    {
     "name": "stderr",
     "output_type": "stream",
     "text": [
      "Rasampling files in progress: 100%|██████████████████████████████████████████████| 2742/2742 [00:01<00:00, 1770.49it/s]\n"
     ]
    },
    {
     "name": "stdout",
     "output_type": "stream",
     "text": [
      "Success: 486/2742\n",
      "Processing: D:/01 서울시립대학교/03 5학년 2학기/03 컴퓨터종합설계/Saveset\\01.데이터\\2.Validation\\라벨링데이터\\09.공장\\03.공장_기타소음\n"
     ]
    },
    {
     "name": "stderr",
     "output_type": "stream",
     "text": [
      "Rasampling files in progress: 100%|██████████████████████████████████████████████| 9536/9536 [00:04<00:00, 1918.59it/s]\n"
     ]
    },
    {
     "name": "stdout",
     "output_type": "stream",
     "text": [
      "Success: 510/9536\n",
      "Processing: D:/01 서울시립대학교/03 5학년 2학기/03 컴퓨터종합설계/Saveset\\01.데이터\\2.Validation\\라벨링데이터\\10.일반자연\n"
     ]
    },
    {
     "name": "stderr",
     "output_type": "stream",
     "text": [
      "Rasampling files in progress: 0it [00:00, ?it/s]\n"
     ]
    },
    {
     "name": "stdout",
     "output_type": "stream",
     "text": [
      "Success: 0/0\n",
      "Processing: D:/01 서울시립대학교/03 5학년 2학기/03 컴퓨터종합설계/Saveset\\01.데이터\\2.Validation\\라벨링데이터\\10.일반자연\\01.빗소리\n"
     ]
    },
    {
     "name": "stderr",
     "output_type": "stream",
     "text": [
      "Rasampling files in progress: 100%|████████████████████████████████████████████| 10456/10456 [00:05<00:00, 1886.79it/s]\n"
     ]
    },
    {
     "name": "stdout",
     "output_type": "stream",
     "text": [
      "Success: 507/10456\n",
      "Processing: D:/01 서울시립대학교/03 5학년 2학기/03 컴퓨터종합설계/Saveset\\01.데이터\\2.Validation\\라벨링데이터\\10.일반자연\\02.파도\n"
     ]
    },
    {
     "name": "stderr",
     "output_type": "stream",
     "text": [
      "Rasampling files in progress: 100%|██████████████████████████████████████████████| 3760/3760 [00:01<00:00, 1948.05it/s]\n"
     ]
    },
    {
     "name": "stdout",
     "output_type": "stream",
     "text": [
      "Success: 487/3760\n",
      "Processing: D:/01 서울시립대학교/03 5학년 2학기/03 컴퓨터종합설계/Saveset\\01.데이터\\2.Validation\\라벨링데이터\\10.일반자연\\03.일반자연_기타소음\n"
     ]
    },
    {
     "name": "stderr",
     "output_type": "stream",
     "text": [
      "Rasampling files in progress: 100%|██████████████████████████████████████████████| 2078/2078 [00:01<00:00, 2033.72it/s]\n"
     ]
    },
    {
     "name": "stdout",
     "output_type": "stream",
     "text": [
      "Success: 488/2078\n",
      "Processing: D:/01 서울시립대학교/03 5학년 2학기/03 컴퓨터종합설계/Saveset\\01.데이터\\2.Validation\\라벨링데이터\\11.복합소음\n"
     ]
    },
    {
     "name": "stderr",
     "output_type": "stream",
     "text": [
      "Rasampling files in progress: 0it [00:00, ?it/s]\n"
     ]
    },
    {
     "name": "stdout",
     "output_type": "stream",
     "text": [
      "Success: 0/0\n",
      "Processing: D:/01 서울시립대학교/03 5학년 2학기/03 컴퓨터종합설계/Saveset\\01.데이터\\2.Validation\\라벨링데이터\\11.복합소음\\01.2가지이상소음원\n"
     ]
    },
    {
     "name": "stderr",
     "output_type": "stream",
     "text": [
      "Rasampling files in progress: 100%|████████████████████████████████████████████| 26624/26624 [00:14<00:00, 1854.12it/s]\n"
     ]
    },
    {
     "name": "stdout",
     "output_type": "stream",
     "text": [
      "Success: 1528/26624\n",
      "Processing: D:/01 서울시립대학교/03 5학년 2학기/03 컴퓨터종합설계/Saveset\\01.데이터\\2.Validation\\원천데이터\n"
     ]
    },
    {
     "name": "stderr",
     "output_type": "stream",
     "text": [
      "Rasampling files in progress: 0it [00:00, ?it/s]\n"
     ]
    },
    {
     "name": "stdout",
     "output_type": "stream",
     "text": [
      "Success: 0/0\n",
      "Processing: D:/01 서울시립대학교/03 5학년 2학기/03 컴퓨터종합설계/Saveset\\01.데이터\\2.Validation\\원천데이터\\01.가전소음\n"
     ]
    },
    {
     "name": "stderr",
     "output_type": "stream",
     "text": [
      "Rasampling files in progress: 0it [00:00, ?it/s]\n"
     ]
    },
    {
     "name": "stdout",
     "output_type": "stream",
     "text": [
      "Success: 0/0\n",
      "Processing: D:/01 서울시립대학교/03 5학년 2학기/03 컴퓨터종합설계/Saveset\\01.데이터\\2.Validation\\원천데이터\\01.가전소음\\01.세탁기,건조기\n"
     ]
    },
    {
     "name": "stderr",
     "output_type": "stream",
     "text": [
      "Rasampling files in progress: 100%|██████████████████████████████████████████████████████████| 508/508 [00:00<?, ?it/s]\n"
     ]
    },
    {
     "name": "stdout",
     "output_type": "stream",
     "text": [
      "Success: 0/508\n",
      "Processing: D:/01 서울시립대학교/03 5학년 2학기/03 컴퓨터종합설계/Saveset\\01.데이터\\2.Validation\\원천데이터\\01.가전소음\\02.청소기\n"
     ]
    },
    {
     "name": "stderr",
     "output_type": "stream",
     "text": [
      "Rasampling files in progress: 100%|██████████████████████████████████████████████| 492/492 [00:00<00:00, 493683.63it/s]\n"
     ]
    },
    {
     "name": "stdout",
     "output_type": "stream",
     "text": [
      "Success: 0/492\n",
      "Processing: D:/01 서울시립대학교/03 5학년 2학기/03 컴퓨터종합설계/Saveset\\01.데이터\\2.Validation\\원천데이터\\01.가전소음\\03.가전소음_기타소음\n"
     ]
    },
    {
     "name": "stderr",
     "output_type": "stream",
     "text": [
      "Rasampling files in progress: 100%|██████████████████████████████████████████████████████████| 500/500 [00:00<?, ?it/s]\n"
     ]
    },
    {
     "name": "stdout",
     "output_type": "stream",
     "text": [
      "Success: 0/500\n",
      "Processing: D:/01 서울시립대학교/03 5학년 2학기/03 컴퓨터종합설계/Saveset\\01.데이터\\2.Validation\\원천데이터\\02.교통수단\n"
     ]
    },
    {
     "name": "stderr",
     "output_type": "stream",
     "text": [
      "Rasampling files in progress: 0it [00:00, ?it/s]\n"
     ]
    },
    {
     "name": "stdout",
     "output_type": "stream",
     "text": [
      "Success: 0/0\n",
      "Processing: D:/01 서울시립대학교/03 5학년 2학기/03 컴퓨터종합설계/Saveset\\01.데이터\\2.Validation\\원천데이터\\02.교통수단\\01.바이크\n"
     ]
    },
    {
     "name": "stderr",
     "output_type": "stream",
     "text": [
      "Rasampling files in progress: 100%|██████████████████████████████████████████████| 502/502 [00:00<00:00, 503597.37it/s]\n"
     ]
    },
    {
     "name": "stdout",
     "output_type": "stream",
     "text": [
      "Success: 0/502\n",
      "Processing: D:/01 서울시립대학교/03 5학년 2학기/03 컴퓨터종합설계/Saveset\\01.데이터\\2.Validation\\원천데이터\\02.교통수단\\02.싸이렌\n"
     ]
    },
    {
     "name": "stderr",
     "output_type": "stream",
     "text": [
      "Rasampling files in progress: 100%|██████████████████████████████████████████████| 510/510 [00:00<00:00, 511867.68it/s]\n"
     ]
    },
    {
     "name": "stdout",
     "output_type": "stream",
     "text": [
      "Success: 0/510\n",
      "Processing: D:/01 서울시립대학교/03 5학년 2학기/03 컴퓨터종합설계/Saveset\\01.데이터\\2.Validation\\원천데이터\\02.교통수단\\03.경적\n"
     ]
    },
    {
     "name": "stderr",
     "output_type": "stream",
     "text": [
      "Rasampling files in progress: 100%|██████████████████████████████████████████████████████████| 508/508 [00:00<?, ?it/s]\n"
     ]
    },
    {
     "name": "stdout",
     "output_type": "stream",
     "text": [
      "Success: 0/508\n",
      "Processing: D:/01 서울시립대학교/03 5학년 2학기/03 컴퓨터종합설계/Saveset\\01.데이터\\2.Validation\\원천데이터\\02.교통수단\\04.교통수단_기타소음\n"
     ]
    },
    {
     "name": "stderr",
     "output_type": "stream",
     "text": [
      "Rasampling files in progress: 100%|██████████████████████████████████████████████████████████| 502/502 [00:00<?, ?it/s]\n"
     ]
    },
    {
     "name": "stdout",
     "output_type": "stream",
     "text": [
      "Success: 0/502\n",
      "Processing: D:/01 서울시립대학교/03 5학년 2학기/03 컴퓨터종합설계/Saveset\\01.데이터\\2.Validation\\원천데이터\\03.길거리\n"
     ]
    },
    {
     "name": "stderr",
     "output_type": "stream",
     "text": [
      "Rasampling files in progress: 0it [00:00, ?it/s]\n"
     ]
    },
    {
     "name": "stdout",
     "output_type": "stream",
     "text": [
      "Success: 0/0\n",
      "Processing: D:/01 서울시립대학교/03 5학년 2학기/03 컴퓨터종합설계/Saveset\\01.데이터\\2.Validation\\원천데이터\\03.길거리\\01.도로변\n"
     ]
    },
    {
     "name": "stderr",
     "output_type": "stream",
     "text": [
      "Rasampling files in progress: 100%|██████████████████████████████████████████████████████████| 508/508 [00:00<?, ?it/s]\n"
     ]
    },
    {
     "name": "stdout",
     "output_type": "stream",
     "text": [
      "Success: 0/508\n",
      "Processing: D:/01 서울시립대학교/03 5학년 2학기/03 컴퓨터종합설계/Saveset\\01.데이터\\2.Validation\\원천데이터\\03.길거리\\02.인파\n"
     ]
    },
    {
     "name": "stderr",
     "output_type": "stream",
     "text": [
      "Rasampling files in progress: 100%|██████████████████████████████████████████████████████████| 488/488 [00:00<?, ?it/s]\n"
     ]
    },
    {
     "name": "stdout",
     "output_type": "stream",
     "text": [
      "Success: 0/488\n",
      "Processing: D:/01 서울시립대학교/03 5학년 2학기/03 컴퓨터종합설계/Saveset\\01.데이터\\2.Validation\\원천데이터\\03.길거리\\03.길거리_기타소음\n"
     ]
    },
    {
     "name": "stderr",
     "output_type": "stream",
     "text": [
      "Rasampling files in progress: 100%|██████████████████████████████████████████████████████████| 502/502 [00:00<?, ?it/s]\n"
     ]
    },
    {
     "name": "stdout",
     "output_type": "stream",
     "text": [
      "Success: 0/502\n",
      "Processing: D:/01 서울시립대학교/03 5학년 2학기/03 컴퓨터종합설계/Saveset\\01.데이터\\2.Validation\\원천데이터\\04.카페,음식점\n"
     ]
    },
    {
     "name": "stderr",
     "output_type": "stream",
     "text": [
      "Rasampling files in progress: 0it [00:00, ?it/s]\n"
     ]
    },
    {
     "name": "stdout",
     "output_type": "stream",
     "text": [
      "Success: 0/0\n",
      "Processing: D:/01 서울시립대학교/03 5학년 2학기/03 컴퓨터종합설계/Saveset\\01.데이터\\2.Validation\\원천데이터\\04.카페,음식점\\01.대화소음\n"
     ]
    },
    {
     "name": "stderr",
     "output_type": "stream",
     "text": [
      "Rasampling files in progress: 100%|█████████████████████████████████████████████| 512/512 [00:00<00:00, 1021152.47it/s]\n"
     ]
    },
    {
     "name": "stdout",
     "output_type": "stream",
     "text": [
      "Success: 0/512\n",
      "Processing: D:/01 서울시립대학교/03 5학년 2학기/03 컴퓨터종합설계/Saveset\\01.데이터\\2.Validation\\원천데이터\\04.카페,음식점\\02.업소소음\n"
     ]
    },
    {
     "name": "stderr",
     "output_type": "stream",
     "text": [
      "Rasampling files in progress: 100%|██████████████████████████████████████████████████████████| 510/510 [00:00<?, ?it/s]\n"
     ]
    },
    {
     "name": "stdout",
     "output_type": "stream",
     "text": [
      "Success: 0/510\n",
      "Processing: D:/01 서울시립대학교/03 5학년 2학기/03 컴퓨터종합설계/Saveset\\01.데이터\\2.Validation\\원천데이터\\04.카페,음식점\\03.카페,음식점_기타소음\n"
     ]
    },
    {
     "name": "stderr",
     "output_type": "stream",
     "text": [
      "Rasampling files in progress: 100%|██████████████████████████████████████████████| 487/487 [00:00<00:00, 487966.09it/s]\n"
     ]
    },
    {
     "name": "stdout",
     "output_type": "stream",
     "text": [
      "Success: 0/487\n",
      "Processing: D:/01 서울시립대학교/03 5학년 2학기/03 컴퓨터종합설계/Saveset\\01.데이터\\2.Validation\\원천데이터\\05.시장,쇼핑몰\n"
     ]
    },
    {
     "name": "stderr",
     "output_type": "stream",
     "text": [
      "Rasampling files in progress: 0it [00:00, ?it/s]\n"
     ]
    },
    {
     "name": "stdout",
     "output_type": "stream",
     "text": [
      "Success: 0/0\n",
      "Processing: D:/01 서울시립대학교/03 5학년 2학기/03 컴퓨터종합설계/Saveset\\01.데이터\\2.Validation\\원천데이터\\05.시장,쇼핑몰\\01.전통시장\n"
     ]
    },
    {
     "name": "stderr",
     "output_type": "stream",
     "text": [
      "Rasampling files in progress: 100%|██████████████████████████████████████████████████████████| 486/486 [00:00<?, ?it/s]\n"
     ]
    },
    {
     "name": "stdout",
     "output_type": "stream",
     "text": [
      "Success: 0/486\n",
      "Processing: D:/01 서울시립대학교/03 5학년 2학기/03 컴퓨터종합설계/Saveset\\01.데이터\\2.Validation\\원천데이터\\05.시장,쇼핑몰\\02.복합쇼핑몰\n"
     ]
    },
    {
     "name": "stderr",
     "output_type": "stream",
     "text": [
      "Rasampling files in progress: 100%|██████████████████████████████████████████████████████████| 477/477 [00:00<?, ?it/s]\n"
     ]
    },
    {
     "name": "stdout",
     "output_type": "stream",
     "text": [
      "Success: 0/477\n",
      "Processing: D:/01 서울시립대학교/03 5학년 2학기/03 컴퓨터종합설계/Saveset\\01.데이터\\2.Validation\\원천데이터\\05.시장,쇼핑몰\\03.시장,쇼핑몰_기타소음\n"
     ]
    },
    {
     "name": "stderr",
     "output_type": "stream",
     "text": [
      "Rasampling files in progress: 100%|██████████████████████████████████████████████████████████| 504/504 [00:00<?, ?it/s]\n"
     ]
    },
    {
     "name": "stdout",
     "output_type": "stream",
     "text": [
      "Success: 0/504\n",
      "Processing: D:/01 서울시립대학교/03 5학년 2학기/03 컴퓨터종합설계/Saveset\\01.데이터\\2.Validation\\원천데이터\\06.지하철,버스\n"
     ]
    },
    {
     "name": "stderr",
     "output_type": "stream",
     "text": [
      "Rasampling files in progress: 0it [00:00, ?it/s]\n"
     ]
    },
    {
     "name": "stdout",
     "output_type": "stream",
     "text": [
      "Success: 0/0\n",
      "Processing: D:/01 서울시립대학교/03 5학년 2학기/03 컴퓨터종합설계/Saveset\\01.데이터\\2.Validation\\원천데이터\\06.지하철,버스\\01.지하철플랫폼\n"
     ]
    },
    {
     "name": "stderr",
     "output_type": "stream",
     "text": [
      "Rasampling files in progress: 100%|██████████████████████████████████████████████████████████| 496/496 [00:00<?, ?it/s]\n"
     ]
    },
    {
     "name": "stdout",
     "output_type": "stream",
     "text": [
      "Success: 0/496\n",
      "Processing: D:/01 서울시립대학교/03 5학년 2학기/03 컴퓨터종합설계/Saveset\\01.데이터\\2.Validation\\원천데이터\\06.지하철,버스\\02.지하철안\n"
     ]
    },
    {
     "name": "stderr",
     "output_type": "stream",
     "text": [
      "Rasampling files in progress: 100%|██████████████████████████████████████████████████████████| 496/496 [00:00<?, ?it/s]\n"
     ]
    },
    {
     "name": "stdout",
     "output_type": "stream",
     "text": [
      "Success: 0/496\n",
      "Processing: D:/01 서울시립대학교/03 5학년 2학기/03 컴퓨터종합설계/Saveset\\01.데이터\\2.Validation\\원천데이터\\06.지하철,버스\\03.기차안\n"
     ]
    },
    {
     "name": "stderr",
     "output_type": "stream",
     "text": [
      "Rasampling files in progress: 100%|██████████████████████████████████████████████████████████| 507/507 [00:00<?, ?it/s]\n"
     ]
    },
    {
     "name": "stdout",
     "output_type": "stream",
     "text": [
      "Success: 0/507\n",
      "Processing: D:/01 서울시립대학교/03 5학년 2학기/03 컴퓨터종합설계/Saveset\\01.데이터\\2.Validation\\원천데이터\\06.지하철,버스\\04.버스안\n"
     ]
    },
    {
     "name": "stderr",
     "output_type": "stream",
     "text": [
      "Rasampling files in progress: 100%|██████████████████████████████████████████████████████████| 514/514 [00:00<?, ?it/s]\n"
     ]
    },
    {
     "name": "stdout",
     "output_type": "stream",
     "text": [
      "Success: 0/514\n",
      "Processing: D:/01 서울시립대학교/03 5학년 2학기/03 컴퓨터종합설계/Saveset\\01.데이터\\2.Validation\\원천데이터\\07.터미널\n"
     ]
    },
    {
     "name": "stderr",
     "output_type": "stream",
     "text": [
      "Rasampling files in progress: 0it [00:00, ?it/s]\n"
     ]
    },
    {
     "name": "stdout",
     "output_type": "stream",
     "text": [
      "Success: 0/0\n",
      "Processing: D:/01 서울시립대학교/03 5학년 2학기/03 컴퓨터종합설계/Saveset\\01.데이터\\2.Validation\\원천데이터\\07.터미널\\01.기차역대합실\n"
     ]
    },
    {
     "name": "stderr",
     "output_type": "stream",
     "text": [
      "Rasampling files in progress: 100%|██████████████████████████████████████████████| 495/495 [00:00<00:00, 496337.67it/s]\n"
     ]
    },
    {
     "name": "stdout",
     "output_type": "stream",
     "text": [
      "Success: 0/495\n",
      "Processing: D:/01 서울시립대학교/03 5학년 2학기/03 컴퓨터종합설계/Saveset\\01.데이터\\2.Validation\\원천데이터\\07.터미널\\02.버스터미널대합실\n"
     ]
    },
    {
     "name": "stderr",
     "output_type": "stream",
     "text": [
      "Rasampling files in progress: 100%|██████████████████████████████████████████████| 489/489 [00:00<00:00, 491143.36it/s]\n"
     ]
    },
    {
     "name": "stdout",
     "output_type": "stream",
     "text": [
      "Success: 0/489\n",
      "Processing: D:/01 서울시립대학교/03 5학년 2학기/03 컴퓨터종합설계/Saveset\\01.데이터\\2.Validation\\원천데이터\\07.터미널\\03.터미널_기타소음\n"
     ]
    },
    {
     "name": "stderr",
     "output_type": "stream",
     "text": [
      "Rasampling files in progress: 100%|██████████████████████████████████████████████| 486/486 [00:00<00:00, 487663.10it/s]\n"
     ]
    },
    {
     "name": "stdout",
     "output_type": "stream",
     "text": [
      "Success: 0/486\n",
      "Processing: D:/01 서울시립대학교/03 5학년 2학기/03 컴퓨터종합설계/Saveset\\01.데이터\\2.Validation\\원천데이터\\08.공사장\n"
     ]
    },
    {
     "name": "stderr",
     "output_type": "stream",
     "text": [
      "Rasampling files in progress: 0it [00:00, ?it/s]\n"
     ]
    },
    {
     "name": "stdout",
     "output_type": "stream",
     "text": [
      "Success: 0/0\n",
      "Processing: D:/01 서울시립대학교/03 5학년 2학기/03 컴퓨터종합설계/Saveset\\01.데이터\\2.Validation\\원천데이터\\08.공사장\\01.실외공사장\n"
     ]
    },
    {
     "name": "stderr",
     "output_type": "stream",
     "text": [
      "Rasampling files in progress: 100%|██████████████████████████████████████████████| 486/486 [00:00<00:00, 487779.79it/s]\n"
     ]
    },
    {
     "name": "stdout",
     "output_type": "stream",
     "text": [
      "Success: 0/486\n",
      "Processing: D:/01 서울시립대학교/03 5학년 2학기/03 컴퓨터종합설계/Saveset\\01.데이터\\2.Validation\\원천데이터\\08.공사장\\02.실내공사장\n"
     ]
    },
    {
     "name": "stderr",
     "output_type": "stream",
     "text": [
      "Rasampling files in progress: 100%|██████████████████████████████████████████████████████████| 482/482 [00:00<?, ?it/s]\n"
     ]
    },
    {
     "name": "stdout",
     "output_type": "stream",
     "text": [
      "Success: 0/482\n",
      "Processing: D:/01 서울시립대학교/03 5학년 2학기/03 컴퓨터종합설계/Saveset\\01.데이터\\2.Validation\\원천데이터\\08.공사장\\03.공사장_기타소음\n"
     ]
    },
    {
     "name": "stderr",
     "output_type": "stream",
     "text": [
      "Rasampling files in progress: 100%|██████████████████████████████████████████████| 507/507 [00:00<00:00, 508856.69it/s]\n"
     ]
    },
    {
     "name": "stdout",
     "output_type": "stream",
     "text": [
      "Success: 0/507\n",
      "Processing: D:/01 서울시립대학교/03 5학년 2학기/03 컴퓨터종합설계/Saveset\\01.데이터\\2.Validation\\원천데이터\\09.공장\n"
     ]
    },
    {
     "name": "stderr",
     "output_type": "stream",
     "text": [
      "Rasampling files in progress: 0it [00:00, ?it/s]\n"
     ]
    },
    {
     "name": "stdout",
     "output_type": "stream",
     "text": [
      "Success: 0/0\n",
      "Processing: D:/01 서울시립대학교/03 5학년 2학기/03 컴퓨터종합설계/Saveset\\01.데이터\\2.Validation\\원천데이터\\09.공장\\01.가공공정\n"
     ]
    },
    {
     "name": "stderr",
     "output_type": "stream",
     "text": [
      "Rasampling files in progress: 100%|██████████████████████████████████████████████████████████| 509/509 [00:00<?, ?it/s]\n"
     ]
    },
    {
     "name": "stdout",
     "output_type": "stream",
     "text": [
      "Success: 0/509\n",
      "Processing: D:/01 서울시립대학교/03 5학년 2학기/03 컴퓨터종합설계/Saveset\\01.데이터\\2.Validation\\원천데이터\\09.공장\\02.조립공정\n"
     ]
    },
    {
     "name": "stderr",
     "output_type": "stream",
     "text": [
      "Rasampling files in progress: 100%|██████████████████████████████████████████████████████████| 486/486 [00:00<?, ?it/s]\n"
     ]
    },
    {
     "name": "stdout",
     "output_type": "stream",
     "text": [
      "Success: 0/486\n",
      "Processing: D:/01 서울시립대학교/03 5학년 2학기/03 컴퓨터종합설계/Saveset\\01.데이터\\2.Validation\\원천데이터\\09.공장\\03.공장_기타소음\n"
     ]
    },
    {
     "name": "stderr",
     "output_type": "stream",
     "text": [
      "Rasampling files in progress: 100%|██████████████████████████████████████████████████████████| 510/510 [00:00<?, ?it/s]\n"
     ]
    },
    {
     "name": "stdout",
     "output_type": "stream",
     "text": [
      "Success: 0/510\n",
      "Processing: D:/01 서울시립대학교/03 5학년 2학기/03 컴퓨터종합설계/Saveset\\01.데이터\\2.Validation\\원천데이터\\10.일반자연\n"
     ]
    },
    {
     "name": "stderr",
     "output_type": "stream",
     "text": [
      "Rasampling files in progress: 0it [00:00, ?it/s]\n"
     ]
    },
    {
     "name": "stdout",
     "output_type": "stream",
     "text": [
      "Success: 0/0\n",
      "Processing: D:/01 서울시립대학교/03 5학년 2학기/03 컴퓨터종합설계/Saveset\\01.데이터\\2.Validation\\원천데이터\\10.일반자연\\01.빗소리\n"
     ]
    },
    {
     "name": "stderr",
     "output_type": "stream",
     "text": [
      "Rasampling files in progress: 100%|██████████████████████████████████████████████| 507/507 [00:00<00:00, 508734.96it/s]\n"
     ]
    },
    {
     "name": "stdout",
     "output_type": "stream",
     "text": [
      "Success: 0/507\n",
      "Processing: D:/01 서울시립대학교/03 5학년 2학기/03 컴퓨터종합설계/Saveset\\01.데이터\\2.Validation\\원천데이터\\10.일반자연\\02.파도\n"
     ]
    },
    {
     "name": "stderr",
     "output_type": "stream",
     "text": [
      "Rasampling files in progress: 100%|██████████████████████████████████████████████████████████| 487/487 [00:00<?, ?it/s]\n"
     ]
    },
    {
     "name": "stdout",
     "output_type": "stream",
     "text": [
      "Success: 0/487\n",
      "Processing: D:/01 서울시립대학교/03 5학년 2학기/03 컴퓨터종합설계/Saveset\\01.데이터\\2.Validation\\원천데이터\\10.일반자연\\03.일반자연_기타소음\n"
     ]
    },
    {
     "name": "stderr",
     "output_type": "stream",
     "text": [
      "Rasampling files in progress: 100%|██████████████████████████████████████████████| 488/488 [00:00<00:00, 489669.94it/s]\n"
     ]
    },
    {
     "name": "stdout",
     "output_type": "stream",
     "text": [
      "Success: 0/488\n",
      "Processing: D:/01 서울시립대학교/03 5학년 2학기/03 컴퓨터종합설계/Saveset\\01.데이터\\2.Validation\\원천데이터\\11.복합소음\n"
     ]
    },
    {
     "name": "stderr",
     "output_type": "stream",
     "text": [
      "Rasampling files in progress: 0it [00:00, ?it/s]\n"
     ]
    },
    {
     "name": "stdout",
     "output_type": "stream",
     "text": [
      "Success: 0/0\n",
      "Processing: D:/01 서울시립대학교/03 5학년 2학기/03 컴퓨터종합설계/Saveset\\01.데이터\\2.Validation\\원천데이터\\11.복합소음\\01.2가지이상소음원\n"
     ]
    },
    {
     "name": "stderr",
     "output_type": "stream",
     "text": [
      "Rasampling files in progress: 100%|███████████████████████████████████████████| 1528/1528 [00:00<00:00, 1532862.12it/s]"
     ]
    },
    {
     "name": "stdout",
     "output_type": "stream",
     "text": [
      "Success: 0/1528\n",
      "Done!\n"
     ]
    },
    {
     "name": "stderr",
     "output_type": "stream",
     "text": [
      "\n"
     ]
    }
   ],
   "source": [
    "root_directory = \"D:/01 서울시립대학교/03 5학년 2학기/03 컴퓨터종합설계/Saveset\"\n",
    "wav_filepath_list, text_list = list_files_and_directories(root_directory)"
   ]
  },
  {
   "cell_type": "code",
   "execution_count": 13,
   "id": "09f5d292-e4c2-422a-a99d-0bebcf8d2c3f",
   "metadata": {},
   "outputs": [],
   "source": [
    "import pandas as pd\n",
    "\n",
    "# Data\n",
    "data = {\n",
    "    'file_name': wav_filepath_list,\n",
    "    'text': text_list\n",
    "}\n",
    "\n",
    "# Dataframe\n",
    "df = pd.DataFrame(data)\n",
    "\n",
    "# Save CSV file\n",
    "df.to_csv('D:/01 서울시립대학교/03 5학년 2학기/03 컴퓨터종합설계/Saveset/metadata.csv', index=False)"
   ]
  },
  {
   "cell_type": "code",
   "execution_count": 14,
   "id": "0b5109c6-1c85-41ad-b0f4-97f0e3157b7d",
   "metadata": {},
   "outputs": [
    {
     "data": {
      "text/html": [
       "<div>\n",
       "<style scoped>\n",
       "    .dataframe tbody tr th:only-of-type {\n",
       "        vertical-align: middle;\n",
       "    }\n",
       "\n",
       "    .dataframe tbody tr th {\n",
       "        vertical-align: top;\n",
       "    }\n",
       "\n",
       "    .dataframe thead th {\n",
       "        text-align: right;\n",
       "    }\n",
       "</style>\n",
       "<table border=\"1\" class=\"dataframe\">\n",
       "  <thead>\n",
       "    <tr style=\"text-align: right;\">\n",
       "      <th></th>\n",
       "      <th>file_name</th>\n",
       "      <th>text</th>\n",
       "    </tr>\n",
       "  </thead>\n",
       "  <tbody>\n",
       "    <tr>\n",
       "      <th>0</th>\n",
       "      <td>01.데이터\\2.Validation\\원천데이터\\01.가전소음\\01.세탁기,건조기\\0...</td>\n",
       "      <td>와 진짜. 아니 근데 썸머 그 사람 여자친구 있었어? 아니 무슨 맨날 뭐 인터뷰하고...</td>\n",
       "    </tr>\n",
       "    <tr>\n",
       "      <th>1</th>\n",
       "      <td>01.데이터\\2.Validation\\원천데이터\\01.가전소음\\01.세탁기,건조기\\0...</td>\n",
       "      <td>아니 나는 불만 같은 거 없어. 그리고 이 에르메스 커피 잔. 내가 귀하게 마련한 ...</td>\n",
       "    </tr>\n",
       "    <tr>\n",
       "      <th>2</th>\n",
       "      <td>01.데이터\\2.Validation\\원천데이터\\01.가전소음\\01.세탁기,건조기\\0...</td>\n",
       "      <td>혹시 그 과목이 프로이트와 관련된 과목은 아니겠죠?</td>\n",
       "    </tr>\n",
       "    <tr>\n",
       "      <th>3</th>\n",
       "      <td>01.데이터\\2.Validation\\원천데이터\\01.가전소음\\01.세탁기,건조기\\0...</td>\n",
       "      <td>그 꿈 제가 응원할게요. 그리고 대게 꼭 사줘요.</td>\n",
       "    </tr>\n",
       "    <tr>\n",
       "      <th>4</th>\n",
       "      <td>01.데이터\\2.Validation\\원천데이터\\01.가전소음\\01.세탁기,건조기\\0...</td>\n",
       "      <td>갯벌 체험은 그렇고 혹시 해외 여행은 어딜 가고 싶어?</td>\n",
       "    </tr>\n",
       "    <tr>\n",
       "      <th>...</th>\n",
       "      <td>...</td>\n",
       "      <td>...</td>\n",
       "    </tr>\n",
       "    <tr>\n",
       "      <th>17464</th>\n",
       "      <td>01.데이터\\2.Validation\\원천데이터\\11.복합소음\\01.2가지이상소음원\\...</td>\n",
       "      <td>네 맞습니다. 제가 그 장소를 굉장히 좋아하거든요. 제가 높은 데를 좋아해서 갤러리...</td>\n",
       "    </tr>\n",
       "    <tr>\n",
       "      <th>17465</th>\n",
       "      <td>01.데이터\\2.Validation\\원천데이터\\11.복합소음\\01.2가지이상소음원\\...</td>\n",
       "      <td>그렇구나. 나는 거의 그 시간에 딱 맞춰 나가는 타입이야. 남을 기다리게 하는 것도...</td>\n",
       "    </tr>\n",
       "    <tr>\n",
       "      <th>17466</th>\n",
       "      <td>01.데이터\\2.Validation\\원천데이터\\11.복합소음\\01.2가지이상소음원\\...</td>\n",
       "      <td>예전에 100 일도 잔치를 했었잖아요. 이제는 아이가 태어난 지 100 일이 되어도...</td>\n",
       "    </tr>\n",
       "    <tr>\n",
       "      <th>17467</th>\n",
       "      <td>01.데이터\\2.Validation\\원천데이터\\11.복합소음\\01.2가지이상소음원\\...</td>\n",
       "      <td>가지치기라는 말이 어떤 의미인 거예요?</td>\n",
       "    </tr>\n",
       "    <tr>\n",
       "      <th>17468</th>\n",
       "      <td>01.데이터\\2.Validation\\원천데이터\\11.복합소음\\01.2가지이상소음원\\...</td>\n",
       "      <td>가맹점 단합대회니까.</td>\n",
       "    </tr>\n",
       "  </tbody>\n",
       "</table>\n",
       "<p>17469 rows × 2 columns</p>\n",
       "</div>"
      ],
      "text/plain": [
       "                                               file_name  \\\n",
       "0      01.데이터\\2.Validation\\원천데이터\\01.가전소음\\01.세탁기,건조기\\0...   \n",
       "1      01.데이터\\2.Validation\\원천데이터\\01.가전소음\\01.세탁기,건조기\\0...   \n",
       "2      01.데이터\\2.Validation\\원천데이터\\01.가전소음\\01.세탁기,건조기\\0...   \n",
       "3      01.데이터\\2.Validation\\원천데이터\\01.가전소음\\01.세탁기,건조기\\0...   \n",
       "4      01.데이터\\2.Validation\\원천데이터\\01.가전소음\\01.세탁기,건조기\\0...   \n",
       "...                                                  ...   \n",
       "17464  01.데이터\\2.Validation\\원천데이터\\11.복합소음\\01.2가지이상소음원\\...   \n",
       "17465  01.데이터\\2.Validation\\원천데이터\\11.복합소음\\01.2가지이상소음원\\...   \n",
       "17466  01.데이터\\2.Validation\\원천데이터\\11.복합소음\\01.2가지이상소음원\\...   \n",
       "17467  01.데이터\\2.Validation\\원천데이터\\11.복합소음\\01.2가지이상소음원\\...   \n",
       "17468  01.데이터\\2.Validation\\원천데이터\\11.복합소음\\01.2가지이상소음원\\...   \n",
       "\n",
       "                                                    text  \n",
       "0      와 진짜. 아니 근데 썸머 그 사람 여자친구 있었어? 아니 무슨 맨날 뭐 인터뷰하고...  \n",
       "1      아니 나는 불만 같은 거 없어. 그리고 이 에르메스 커피 잔. 내가 귀하게 마련한 ...  \n",
       "2                           혹시 그 과목이 프로이트와 관련된 과목은 아니겠죠?  \n",
       "3                            그 꿈 제가 응원할게요. 그리고 대게 꼭 사줘요.  \n",
       "4                         갯벌 체험은 그렇고 혹시 해외 여행은 어딜 가고 싶어?  \n",
       "...                                                  ...  \n",
       "17464  네 맞습니다. 제가 그 장소를 굉장히 좋아하거든요. 제가 높은 데를 좋아해서 갤러리...  \n",
       "17465  그렇구나. 나는 거의 그 시간에 딱 맞춰 나가는 타입이야. 남을 기다리게 하는 것도...  \n",
       "17466  예전에 100 일도 잔치를 했었잖아요. 이제는 아이가 태어난 지 100 일이 되어도...  \n",
       "17467                              가지치기라는 말이 어떤 의미인 거예요?  \n",
       "17468                                        가맹점 단합대회니까.  \n",
       "\n",
       "[17469 rows x 2 columns]"
      ]
     },
     "execution_count": 14,
     "metadata": {},
     "output_type": "execute_result"
    }
   ],
   "source": [
    "df"
   ]
  },
  {
   "cell_type": "code",
   "execution_count": 1,
   "id": "c9ec8ec0-312c-4aa7-bc90-193685778126",
   "metadata": {},
   "outputs": [],
   "source": [
    "from transformers import WhisperTokenizer"
   ]
  },
  {
   "cell_type": "code",
   "execution_count": 2,
   "id": "79bd51e3-b5e5-414d-b499-f29e3fb1f7c3",
   "metadata": {},
   "outputs": [],
   "source": [
    "tokenizer = WhisperTokenizer.from_pretrained(\"openai/whisper-small\", language=\"Korean\", task=\"transcribe\")"
   ]
  },
  {
   "cell_type": "code",
   "execution_count": 3,
   "id": "bc3e399f-e53c-4a06-9f09-62aea28c9240",
   "metadata": {},
   "outputs": [
    {
     "data": {
      "text/plain": [
       "[50258,\n",
       " 50264,\n",
       " 50359,\n",
       " 50363,\n",
       " 5792,\n",
       " 1870,\n",
       " 2336,\n",
       " 5285,\n",
       " 4,\n",
       " 1453,\n",
       " 21548,\n",
       " 7307,\n",
       " 2457,\n",
       " 2708,\n",
       " 5005,\n",
       " 94,\n",
       " 6961,\n",
       " 222,\n",
       " 14562,\n",
       " 30,\n",
       " 50257]"
      ]
     },
     "execution_count": 3,
     "metadata": {},
     "output_type": "execute_result"
    }
   ],
   "source": [
    "tokenizer(\"근데 70%가 140 벌면 빡셀걸?\").input_ids"
   ]
  },
  {
   "cell_type": "markdown",
   "id": "d4d9730f-2f9f-481e-b010-0c9d04234e54",
   "metadata": {},
   "source": []
  }
 ],
 "metadata": {
  "kernelspec": {
   "display_name": "Python 3 (ipykernel)",
   "language": "python",
   "name": "python3"
  },
  "language_info": {
   "codemirror_mode": {
    "name": "ipython",
    "version": 3
   },
   "file_extension": ".py",
   "mimetype": "text/x-python",
   "name": "python",
   "nbconvert_exporter": "python",
   "pygments_lexer": "ipython3",
   "version": "3.11.4"
  }
 },
 "nbformat": 4,
 "nbformat_minor": 5
}
