{
 "cells": [
  {
   "cell_type": "code",
   "execution_count": 2,
   "id": "1fdbbefd-36af-49c0-b753-9a79de6f0c26",
   "metadata": {},
   "outputs": [],
   "source": [
    "import os\n",
    "import librosa\n",
    "import shutil\n",
    "import random\n",
    "from tqdm import tqdm\n",
    "\n",
    "def is_json(filename):\n",
    "    return filename[-4:] == 'json'\n",
    "    \n",
    "def is_wav(filename):\n",
    "    return filename[-3:] == 'wav'\n",
    "\n",
    "def denoising(root_dir, save_dir):\n",
    "    len_root_dir = len(root_dir)\n",
    "    for dirpath, dirnames, filenames in os.walk(root_dir):\n",
    "        print(\"Processing:\", dirpath)\n",
    "        num_files = len(filenames)\n",
    "        with tqdm(total=num_files, desc=\"Denoising\") as pbar:\n",
    "            filenames = random.sample(filenames, num_files)\n",
    "            for filename in filenames:\n",
    "                filepath = os.path.join(dirpath, filename)\n",
    "                newpath = filepath.replace(root_dir, save_dir)\n",
    "                directory, _ = os.path.split(newpath)\n",
    "                if not os.path.exists(directory):\n",
    "                    os.makedirs(directory)\n",
    "                if is_wav(filename):\n",
    "                    # 파일 경로를 포맷팅하여 명령어 문자열을 생성\n",
    "                    command = f\"python ./noise-reduction-master/denoise.py --model=./noise-reduction-master\\\n",
    "                                /models/tscn --noisy={filepath} --denoise={newpath}\"\n",
    "                    # 명령어 실행\n",
    "                    exit_code = os.system(command)\n",
    "                    # 종료 코드 확인\n",
    "                    if exit_code != 0:\n",
    "                        print(f\"Error: [Errno {exit_code}]\")\n",
    "                    \n",
    "                #elif is_json(filename):\n",
    "                #    shutil.copy(filepath, newpath)\n",
    "                pbar.update(1)\n",
    "    print(\"Done!\")"
   ]
  },
  {
   "cell_type": "code",
   "execution_count": 3,
   "id": "e91b2c6c-a991-470d-bce8-f7570dea1804",
   "metadata": {
    "scrolled": true
   },
   "outputs": [
    {
     "name": "stdout",
     "output_type": "stream",
     "text": [
      "Processing: ./New_Testset\n"
     ]
    },
    {
     "name": "stderr",
     "output_type": "stream",
     "text": [
      "Denoising: 100%|██████████████████████████████████████████████████████| 1/1 [00:00<00:00, 998.64it/s]\n"
     ]
    },
    {
     "name": "stdout",
     "output_type": "stream",
     "text": [
      "Processing: ./New_Testset\\01.데이터\n"
     ]
    },
    {
     "name": "stderr",
     "output_type": "stream",
     "text": [
      "Denoising: 0it [00:00, ?it/s]\n"
     ]
    },
    {
     "name": "stdout",
     "output_type": "stream",
     "text": [
      "Processing: ./New_Testset\\01.데이터\\2.Validation\n"
     ]
    },
    {
     "name": "stderr",
     "output_type": "stream",
     "text": [
      "Denoising: 0it [00:00, ?it/s]\n"
     ]
    },
    {
     "name": "stdout",
     "output_type": "stream",
     "text": [
      "Processing: ./New_Testset\\01.데이터\\2.Validation\\라벨링데이터\n"
     ]
    },
    {
     "name": "stderr",
     "output_type": "stream",
     "text": [
      "Denoising: 0it [00:00, ?it/s]\n"
     ]
    },
    {
     "name": "stdout",
     "output_type": "stream",
     "text": [
      "Processing: ./New_Testset\\01.데이터\\2.Validation\\라벨링데이터\\01.가전소음\n"
     ]
    },
    {
     "name": "stderr",
     "output_type": "stream",
     "text": [
      "Denoising: 0it [00:00, ?it/s]\n"
     ]
    },
    {
     "name": "stdout",
     "output_type": "stream",
     "text": [
      "Processing: ./New_Testset\\01.데이터\\2.Validation\\라벨링데이터\\01.가전소음\\01.세탁기,건조기\n"
     ]
    },
    {
     "name": "stderr",
     "output_type": "stream",
     "text": [
      "Denoising: 100%|████████████████████████████████████████████| 10736/10736 [00:00<00:00, 13079.23it/s]\n"
     ]
    },
    {
     "name": "stdout",
     "output_type": "stream",
     "text": [
      "Processing: ./New_Testset\\01.데이터\\2.Validation\\라벨링데이터\\01.가전소음\\02.청소기\n"
     ]
    },
    {
     "name": "stderr",
     "output_type": "stream",
     "text": [
      "Denoising: 100%|██████████████████████████████████████████████| 4640/4640 [00:00<00:00, 12772.88it/s]\n"
     ]
    },
    {
     "name": "stdout",
     "output_type": "stream",
     "text": [
      "Processing: ./New_Testset\\01.데이터\\2.Validation\\라벨링데이터\\01.가전소음\\03.가전소음_기타소음\n"
     ]
    },
    {
     "name": "stderr",
     "output_type": "stream",
     "text": [
      "Denoising: 100%|████████████████████████████████████████████| 32044/32044 [00:02<00:00, 13179.17it/s]\n"
     ]
    },
    {
     "name": "stdout",
     "output_type": "stream",
     "text": [
      "Processing: ./New_Testset\\01.데이터\\2.Validation\\라벨링데이터\\02.교통수단\n"
     ]
    },
    {
     "name": "stderr",
     "output_type": "stream",
     "text": [
      "Denoising: 0it [00:00, ?it/s]\n"
     ]
    },
    {
     "name": "stdout",
     "output_type": "stream",
     "text": [
      "Processing: ./New_Testset\\01.데이터\\2.Validation\\라벨링데이터\\02.교통수단\\01.바이크\n"
     ]
    },
    {
     "name": "stderr",
     "output_type": "stream",
     "text": [
      "Denoising: 100%|██████████████████████████████████████████████| 1950/1950 [00:00<00:00, 12188.07it/s]\n"
     ]
    },
    {
     "name": "stdout",
     "output_type": "stream",
     "text": [
      "Processing: ./New_Testset\\01.데이터\\2.Validation\\라벨링데이터\\02.교통수단\\02.싸이렌\n"
     ]
    },
    {
     "name": "stderr",
     "output_type": "stream",
     "text": [
      "Denoising: 100%|██████████████████████████████████████████████| 1738/1738 [00:00<00:00, 13472.95it/s]\n"
     ]
    },
    {
     "name": "stdout",
     "output_type": "stream",
     "text": [
      "Processing: ./New_Testset\\01.데이터\\2.Validation\\라벨링데이터\\02.교통수단\\03.경적\n"
     ]
    },
    {
     "name": "stderr",
     "output_type": "stream",
     "text": [
      "Denoising: 100%|██████████████████████████████████████████████| 2110/2110 [00:00<00:00, 13254.15it/s]\n"
     ]
    },
    {
     "name": "stdout",
     "output_type": "stream",
     "text": [
      "Processing: ./New_Testset\\01.데이터\\2.Validation\\라벨링데이터\\02.교통수단\\04.교통수단_기타소음\n"
     ]
    },
    {
     "name": "stderr",
     "output_type": "stream",
     "text": [
      "Denoising: 100%|██████████████████████████████████████████████| 3372/3372 [00:00<00:00, 12578.92it/s]\n"
     ]
    },
    {
     "name": "stdout",
     "output_type": "stream",
     "text": [
      "Processing: ./New_Testset\\01.데이터\\2.Validation\\라벨링데이터\\03.길거리\n"
     ]
    },
    {
     "name": "stderr",
     "output_type": "stream",
     "text": [
      "Denoising: 0it [00:00, ?it/s]\n"
     ]
    },
    {
     "name": "stdout",
     "output_type": "stream",
     "text": [
      "Processing: ./New_Testset\\01.데이터\\2.Validation\\라벨링데이터\\03.길거리\\01.도로변\n"
     ]
    },
    {
     "name": "stderr",
     "output_type": "stream",
     "text": [
      "Denoising: 100%|██████████████████████████████████████████████| 9066/9066 [00:00<00:00, 15029.99it/s]\n"
     ]
    },
    {
     "name": "stdout",
     "output_type": "stream",
     "text": [
      "Processing: ./New_Testset\\01.데이터\\2.Validation\\라벨링데이터\\03.길거리\\02.인파\n"
     ]
    },
    {
     "name": "stderr",
     "output_type": "stream",
     "text": [
      "Denoising: 100%|██████████████████████████████████████████████| 1664/1664 [00:00<00:00, 21610.68it/s]\n"
     ]
    },
    {
     "name": "stdout",
     "output_type": "stream",
     "text": [
      "Processing: ./New_Testset\\01.데이터\\2.Validation\\라벨링데이터\\03.길거리\\03.길거리_기타소음\n"
     ]
    },
    {
     "name": "stderr",
     "output_type": "stream",
     "text": [
      "Denoising: 100%|██████████████████████████████████████████████| 5110/5110 [00:00<00:00, 12749.87it/s]\n"
     ]
    },
    {
     "name": "stdout",
     "output_type": "stream",
     "text": [
      "Processing: ./New_Testset\\01.데이터\\2.Validation\\라벨링데이터\\04.카페,음식점\n"
     ]
    },
    {
     "name": "stderr",
     "output_type": "stream",
     "text": [
      "Denoising: 0it [00:00, ?it/s]\n"
     ]
    },
    {
     "name": "stdout",
     "output_type": "stream",
     "text": [
      "Processing: ./New_Testset\\01.데이터\\2.Validation\\라벨링데이터\\04.카페,음식점\\01.대화소음\n"
     ]
    },
    {
     "name": "stderr",
     "output_type": "stream",
     "text": [
      "Denoising: 100%|████████████████████████████████████████████| 16758/16758 [00:01<00:00, 13125.08it/s]\n"
     ]
    },
    {
     "name": "stdout",
     "output_type": "stream",
     "text": [
      "Processing: ./New_Testset\\01.데이터\\2.Validation\\라벨링데이터\\04.카페,음식점\\02.업소소음\n"
     ]
    },
    {
     "name": "stderr",
     "output_type": "stream",
     "text": [
      "Denoising: 100%|████████████████████████████████████████████| 23602/23602 [00:01<00:00, 13170.37it/s]\n"
     ]
    },
    {
     "name": "stdout",
     "output_type": "stream",
     "text": [
      "Processing: ./New_Testset\\01.데이터\\2.Validation\\라벨링데이터\\04.카페,음식점\\03.카페,음식점_기타소음\n"
     ]
    },
    {
     "name": "stderr",
     "output_type": "stream",
     "text": [
      "Denoising: 100%|██████████████████████████████████████████████| 5904/5904 [00:00<00:00, 13067.53it/s]\n"
     ]
    },
    {
     "name": "stdout",
     "output_type": "stream",
     "text": [
      "Processing: ./New_Testset\\01.데이터\\2.Validation\\라벨링데이터\\05.시장,쇼핑몰\n"
     ]
    },
    {
     "name": "stderr",
     "output_type": "stream",
     "text": [
      "Denoising: 0it [00:00, ?it/s]\n"
     ]
    },
    {
     "name": "stdout",
     "output_type": "stream",
     "text": [
      "Processing: ./New_Testset\\01.데이터\\2.Validation\\라벨링데이터\\05.시장,쇼핑몰\\01.전통시장\n"
     ]
    },
    {
     "name": "stderr",
     "output_type": "stream",
     "text": [
      "Denoising: 100%|██████████████████████████████████████████████| 5120/5120 [00:00<00:00, 13442.32it/s]\n"
     ]
    },
    {
     "name": "stdout",
     "output_type": "stream",
     "text": [
      "Processing: ./New_Testset\\01.데이터\\2.Validation\\라벨링데이터\\05.시장,쇼핑몰\\02.복합쇼핑몰\n"
     ]
    },
    {
     "name": "stderr",
     "output_type": "stream",
     "text": [
      "Denoising: 100%|████████████████████████████████████████████| 36686/36686 [00:02<00:00, 13290.56it/s]\n"
     ]
    },
    {
     "name": "stdout",
     "output_type": "stream",
     "text": [
      "Processing: ./New_Testset\\01.데이터\\2.Validation\\라벨링데이터\\05.시장,쇼핑몰\\03.시장,쇼핑몰_기타소음\n"
     ]
    },
    {
     "name": "stderr",
     "output_type": "stream",
     "text": [
      "Denoising: 100%|██████████████████████████████████████████████| 4042/4042 [00:00<00:00, 13326.13it/s]\n"
     ]
    },
    {
     "name": "stdout",
     "output_type": "stream",
     "text": [
      "Processing: ./New_Testset\\01.데이터\\2.Validation\\라벨링데이터\\06.지하철,버스\n"
     ]
    },
    {
     "name": "stderr",
     "output_type": "stream",
     "text": [
      "Denoising: 0it [00:00, ?it/s]\n"
     ]
    },
    {
     "name": "stdout",
     "output_type": "stream",
     "text": [
      "Processing: ./New_Testset\\01.데이터\\2.Validation\\라벨링데이터\\06.지하철,버스\\01.지하철플랫폼\n"
     ]
    },
    {
     "name": "stderr",
     "output_type": "stream",
     "text": [
      "Denoising: 100%|██████████████████████████████████████████████| 4878/4878 [00:00<00:00, 14347.05it/s]\n"
     ]
    },
    {
     "name": "stdout",
     "output_type": "stream",
     "text": [
      "Processing: ./New_Testset\\01.데이터\\2.Validation\\라벨링데이터\\06.지하철,버스\\02.지하철안\n"
     ]
    },
    {
     "name": "stderr",
     "output_type": "stream",
     "text": [
      "Denoising: 100%|██████████████████████████████████████████████| 6748/6748 [00:00<00:00, 12947.86it/s]\n"
     ]
    },
    {
     "name": "stdout",
     "output_type": "stream",
     "text": [
      "Processing: ./New_Testset\\01.데이터\\2.Validation\\라벨링데이터\\06.지하철,버스\\03.기차안\n"
     ]
    },
    {
     "name": "stderr",
     "output_type": "stream",
     "text": [
      "Denoising: 100%|██████████████████████████████████████████████| 1880/1880 [00:00<00:00, 13144.23it/s]\n"
     ]
    },
    {
     "name": "stdout",
     "output_type": "stream",
     "text": [
      "Processing: ./New_Testset\\01.데이터\\2.Validation\\라벨링데이터\\06.지하철,버스\\04.버스안\n"
     ]
    },
    {
     "name": "stderr",
     "output_type": "stream",
     "text": [
      "Denoising: 100%|██████████████████████████████████████████████| 7292/7292 [00:00<00:00, 15144.74it/s]\n"
     ]
    },
    {
     "name": "stdout",
     "output_type": "stream",
     "text": [
      "Processing: ./New_Testset\\01.데이터\\2.Validation\\라벨링데이터\\07.터미널\n"
     ]
    },
    {
     "name": "stderr",
     "output_type": "stream",
     "text": [
      "Denoising: 0it [00:00, ?it/s]\n"
     ]
    },
    {
     "name": "stdout",
     "output_type": "stream",
     "text": [
      "Processing: ./New_Testset\\01.데이터\\2.Validation\\라벨링데이터\\07.터미널\\01.기차역대합실\n"
     ]
    },
    {
     "name": "stderr",
     "output_type": "stream",
     "text": [
      "Denoising: 100%|██████████████████████████████████████████████| 8102/8102 [00:00<00:00, 13046.82it/s]\n"
     ]
    },
    {
     "name": "stdout",
     "output_type": "stream",
     "text": [
      "Processing: ./New_Testset\\01.데이터\\2.Validation\\라벨링데이터\\07.터미널\\02.버스터미널대합실\n"
     ]
    },
    {
     "name": "stderr",
     "output_type": "stream",
     "text": [
      "Denoising: 100%|██████████████████████████████████████████████| 7764/7764 [00:00<00:00, 12638.75it/s]\n"
     ]
    },
    {
     "name": "stdout",
     "output_type": "stream",
     "text": [
      "Processing: ./New_Testset\\01.데이터\\2.Validation\\라벨링데이터\\07.터미널\\03.터미널_기타소음\n"
     ]
    },
    {
     "name": "stderr",
     "output_type": "stream",
     "text": [
      "Denoising: 100%|██████████████████████████████████████████████| 7230/7230 [00:00<00:00, 12946.40it/s]\n"
     ]
    },
    {
     "name": "stdout",
     "output_type": "stream",
     "text": [
      "Processing: ./New_Testset\\01.데이터\\2.Validation\\라벨링데이터\\08.공사장\n"
     ]
    },
    {
     "name": "stderr",
     "output_type": "stream",
     "text": [
      "Denoising: 0it [00:00, ?it/s]\n"
     ]
    },
    {
     "name": "stdout",
     "output_type": "stream",
     "text": [
      "Processing: ./New_Testset\\01.데이터\\2.Validation\\라벨링데이터\\08.공사장\\01.실외공사장\n"
     ]
    },
    {
     "name": "stderr",
     "output_type": "stream",
     "text": [
      "Denoising: 100%|██████████████████████████████████████████████| 4600/4600 [00:00<00:00, 12962.48it/s]\n"
     ]
    },
    {
     "name": "stdout",
     "output_type": "stream",
     "text": [
      "Processing: ./New_Testset\\01.데이터\\2.Validation\\라벨링데이터\\08.공사장\\02.실내공사장\n"
     ]
    },
    {
     "name": "stderr",
     "output_type": "stream",
     "text": [
      "Denoising: 100%|██████████████████████████████████████████████| 1634/1634 [00:00<00:00, 12765.86it/s]\n"
     ]
    },
    {
     "name": "stdout",
     "output_type": "stream",
     "text": [
      "Processing: ./New_Testset\\01.데이터\\2.Validation\\라벨링데이터\\08.공사장\\03.공사장_기타소음\n"
     ]
    },
    {
     "name": "stderr",
     "output_type": "stream",
     "text": [
      "Denoising: 100%|██████████████████████████████████████████████| 3856/3856 [00:00<00:00, 13556.61it/s]\n"
     ]
    },
    {
     "name": "stdout",
     "output_type": "stream",
     "text": [
      "Processing: ./New_Testset\\01.데이터\\2.Validation\\라벨링데이터\\09.공장\n"
     ]
    },
    {
     "name": "stderr",
     "output_type": "stream",
     "text": [
      "Denoising: 0it [00:00, ?it/s]\n"
     ]
    },
    {
     "name": "stdout",
     "output_type": "stream",
     "text": [
      "Processing: ./New_Testset\\01.데이터\\2.Validation\\라벨링데이터\\09.공장\\01.가공공정\n"
     ]
    },
    {
     "name": "stderr",
     "output_type": "stream",
     "text": [
      "Denoising: 100%|██████████████████████████████████████████████| 2158/2158 [00:00<00:00, 12922.21it/s]\n"
     ]
    },
    {
     "name": "stdout",
     "output_type": "stream",
     "text": [
      "Processing: ./New_Testset\\01.데이터\\2.Validation\\라벨링데이터\\09.공장\\02.조립공정\n"
     ]
    },
    {
     "name": "stderr",
     "output_type": "stream",
     "text": [
      "Denoising: 100%|██████████████████████████████████████████████| 2778/2778 [00:00<00:00, 12339.18it/s]\n"
     ]
    },
    {
     "name": "stdout",
     "output_type": "stream",
     "text": [
      "Processing: ./New_Testset\\01.데이터\\2.Validation\\라벨링데이터\\09.공장\\03.공장_기타소음\n"
     ]
    },
    {
     "name": "stderr",
     "output_type": "stream",
     "text": [
      "Denoising: 100%|██████████████████████████████████████████████| 9696/9696 [00:00<00:00, 13180.36it/s]\n"
     ]
    },
    {
     "name": "stdout",
     "output_type": "stream",
     "text": [
      "Processing: ./New_Testset\\01.데이터\\2.Validation\\라벨링데이터\\10.일반자연\n"
     ]
    },
    {
     "name": "stderr",
     "output_type": "stream",
     "text": [
      "Denoising: 0it [00:00, ?it/s]\n"
     ]
    },
    {
     "name": "stdout",
     "output_type": "stream",
     "text": [
      "Processing: ./New_Testset\\01.데이터\\2.Validation\\라벨링데이터\\10.일반자연\\01.빗소리\n"
     ]
    },
    {
     "name": "stderr",
     "output_type": "stream",
     "text": [
      "Denoising: 100%|████████████████████████████████████████████| 10598/10598 [00:00<00:00, 14233.88it/s]\n"
     ]
    },
    {
     "name": "stdout",
     "output_type": "stream",
     "text": [
      "Processing: ./New_Testset\\01.데이터\\2.Validation\\라벨링데이터\\10.일반자연\\02.파도\n"
     ]
    },
    {
     "name": "stderr",
     "output_type": "stream",
     "text": [
      "Denoising: 100%|██████████████████████████████████████████████| 3822/3822 [00:00<00:00, 12956.23it/s]\n"
     ]
    },
    {
     "name": "stdout",
     "output_type": "stream",
     "text": [
      "Processing: ./New_Testset\\01.데이터\\2.Validation\\라벨링데이터\\10.일반자연\\03.일반자연_기타소음\n"
     ]
    },
    {
     "name": "stderr",
     "output_type": "stream",
     "text": [
      "Denoising: 100%|██████████████████████████████████████████████| 2102/2102 [00:00<00:00, 12012.07it/s]\n"
     ]
    },
    {
     "name": "stdout",
     "output_type": "stream",
     "text": [
      "Processing: ./New_Testset\\01.데이터\\2.Validation\\라벨링데이터\\11.복합소음\n"
     ]
    },
    {
     "name": "stderr",
     "output_type": "stream",
     "text": [
      "Denoising: 0it [00:00, ?it/s]\n"
     ]
    },
    {
     "name": "stdout",
     "output_type": "stream",
     "text": [
      "Processing: ./New_Testset\\01.데이터\\2.Validation\\라벨링데이터\\11.복합소음\\01.2가지이상소음원\n"
     ]
    },
    {
     "name": "stderr",
     "output_type": "stream",
     "text": [
      "Denoising: 100%|████████████████████████████████████████████| 27040/27040 [00:01<00:00, 13594.68it/s]\n"
     ]
    },
    {
     "name": "stdout",
     "output_type": "stream",
     "text": [
      "Processing: ./New_Testset\\01.데이터\\2.Validation\\원천데이터\n"
     ]
    },
    {
     "name": "stderr",
     "output_type": "stream",
     "text": [
      "Denoising: 0it [00:00, ?it/s]\n"
     ]
    },
    {
     "name": "stdout",
     "output_type": "stream",
     "text": [
      "Processing: ./New_Testset\\01.데이터\\2.Validation\\원천데이터\\01.가전소음\n"
     ]
    },
    {
     "name": "stderr",
     "output_type": "stream",
     "text": [
      "Denoising: 0it [00:00, ?it/s]\n"
     ]
    },
    {
     "name": "stdout",
     "output_type": "stream",
     "text": [
      "Processing: ./New_Testset\\01.데이터\\2.Validation\\원천데이터\\01.가전소음\\01.세탁기,건조기\n"
     ]
    },
    {
     "name": "stderr",
     "output_type": "stream",
     "text": [
      "Denoising: 100%|███████████████████████████████████████████████████| 100/100 [12:42<00:00,  7.63s/it]\n"
     ]
    },
    {
     "name": "stdout",
     "output_type": "stream",
     "text": [
      "Processing: ./New_Testset\\01.데이터\\2.Validation\\원천데이터\\01.가전소음\\02.청소기\n"
     ]
    },
    {
     "name": "stderr",
     "output_type": "stream",
     "text": [
      "Denoising: 100%|███████████████████████████████████████████████████| 100/100 [12:04<00:00,  7.24s/it]\n"
     ]
    },
    {
     "name": "stdout",
     "output_type": "stream",
     "text": [
      "Processing: ./New_Testset\\01.데이터\\2.Validation\\원천데이터\\01.가전소음\\03.가전소음_기타소음\n"
     ]
    },
    {
     "name": "stderr",
     "output_type": "stream",
     "text": [
      "Denoising: 100%|███████████████████████████████████████████████████| 100/100 [11:53<00:00,  7.13s/it]\n"
     ]
    },
    {
     "name": "stdout",
     "output_type": "stream",
     "text": [
      "Processing: ./New_Testset\\01.데이터\\2.Validation\\원천데이터\\02.교통수단\n"
     ]
    },
    {
     "name": "stderr",
     "output_type": "stream",
     "text": [
      "Denoising: 0it [00:00, ?it/s]\n"
     ]
    },
    {
     "name": "stdout",
     "output_type": "stream",
     "text": [
      "Processing: ./New_Testset\\01.데이터\\2.Validation\\원천데이터\\02.교통수단\\01.바이크\n"
     ]
    },
    {
     "name": "stderr",
     "output_type": "stream",
     "text": [
      "Denoising: 100%|███████████████████████████████████████████████████| 100/100 [11:53<00:00,  7.14s/it]\n"
     ]
    },
    {
     "name": "stdout",
     "output_type": "stream",
     "text": [
      "Processing: ./New_Testset\\01.데이터\\2.Validation\\원천데이터\\02.교통수단\\02.싸이렌\n"
     ]
    },
    {
     "name": "stderr",
     "output_type": "stream",
     "text": [
      "Denoising: 100%|███████████████████████████████████████████████████| 100/100 [12:01<00:00,  7.21s/it]\n"
     ]
    },
    {
     "name": "stdout",
     "output_type": "stream",
     "text": [
      "Processing: ./New_Testset\\01.데이터\\2.Validation\\원천데이터\\02.교통수단\\03.경적\n"
     ]
    },
    {
     "name": "stderr",
     "output_type": "stream",
     "text": [
      "Denoising: 100%|███████████████████████████████████████████████████| 100/100 [11:54<00:00,  7.14s/it]\n"
     ]
    },
    {
     "name": "stdout",
     "output_type": "stream",
     "text": [
      "Processing: ./New_Testset\\01.데이터\\2.Validation\\원천데이터\\02.교통수단\\04.교통수단_기타소음\n"
     ]
    },
    {
     "name": "stderr",
     "output_type": "stream",
     "text": [
      "Denoising: 100%|███████████████████████████████████████████████████| 100/100 [12:05<00:00,  7.26s/it]\n"
     ]
    },
    {
     "name": "stdout",
     "output_type": "stream",
     "text": [
      "Processing: ./New_Testset\\01.데이터\\2.Validation\\원천데이터\\03.길거리\n"
     ]
    },
    {
     "name": "stderr",
     "output_type": "stream",
     "text": [
      "Denoising: 0it [00:00, ?it/s]\n"
     ]
    },
    {
     "name": "stdout",
     "output_type": "stream",
     "text": [
      "Processing: ./New_Testset\\01.데이터\\2.Validation\\원천데이터\\03.길거리\\01.도로변\n"
     ]
    },
    {
     "name": "stderr",
     "output_type": "stream",
     "text": [
      "Denoising: 100%|███████████████████████████████████████████████████| 100/100 [12:12<00:00,  7.33s/it]\n"
     ]
    },
    {
     "name": "stdout",
     "output_type": "stream",
     "text": [
      "Processing: ./New_Testset\\01.데이터\\2.Validation\\원천데이터\\03.길거리\\02.인파\n"
     ]
    },
    {
     "name": "stderr",
     "output_type": "stream",
     "text": [
      "Denoising: 100%|███████████████████████████████████████████████████| 100/100 [12:46<00:00,  7.67s/it]\n"
     ]
    },
    {
     "name": "stdout",
     "output_type": "stream",
     "text": [
      "Processing: ./New_Testset\\01.데이터\\2.Validation\\원천데이터\\03.길거리\\03.길거리_기타소음\n"
     ]
    },
    {
     "name": "stderr",
     "output_type": "stream",
     "text": [
      "Denoising: 100%|███████████████████████████████████████████████████| 100/100 [12:19<00:00,  7.39s/it]\n"
     ]
    },
    {
     "name": "stdout",
     "output_type": "stream",
     "text": [
      "Processing: ./New_Testset\\01.데이터\\2.Validation\\원천데이터\\04.카페,음식점\n"
     ]
    },
    {
     "name": "stderr",
     "output_type": "stream",
     "text": [
      "Denoising: 0it [00:00, ?it/s]\n"
     ]
    },
    {
     "name": "stdout",
     "output_type": "stream",
     "text": [
      "Processing: ./New_Testset\\01.데이터\\2.Validation\\원천데이터\\04.카페,음식점\\01.대화소음\n"
     ]
    },
    {
     "name": "stderr",
     "output_type": "stream",
     "text": [
      "Denoising: 100%|███████████████████████████████████████████████████| 100/100 [12:18<00:00,  7.38s/it]\n"
     ]
    },
    {
     "name": "stdout",
     "output_type": "stream",
     "text": [
      "Processing: ./New_Testset\\01.데이터\\2.Validation\\원천데이터\\04.카페,음식점\\02.업소소음\n"
     ]
    },
    {
     "name": "stderr",
     "output_type": "stream",
     "text": [
      "Denoising: 100%|███████████████████████████████████████████████████| 100/100 [12:15<00:00,  7.35s/it]\n"
     ]
    },
    {
     "name": "stdout",
     "output_type": "stream",
     "text": [
      "Processing: ./New_Testset\\01.데이터\\2.Validation\\원천데이터\\04.카페,음식점\\03.카페,음식점_기타소음\n"
     ]
    },
    {
     "name": "stderr",
     "output_type": "stream",
     "text": [
      "Denoising: 100%|███████████████████████████████████████████████████| 100/100 [12:16<00:00,  7.36s/it]\n"
     ]
    },
    {
     "name": "stdout",
     "output_type": "stream",
     "text": [
      "Processing: ./New_Testset\\01.데이터\\2.Validation\\원천데이터\\05.시장,쇼핑몰\n"
     ]
    },
    {
     "name": "stderr",
     "output_type": "stream",
     "text": [
      "Denoising: 0it [00:00, ?it/s]\n"
     ]
    },
    {
     "name": "stdout",
     "output_type": "stream",
     "text": [
      "Processing: ./New_Testset\\01.데이터\\2.Validation\\원천데이터\\05.시장,쇼핑몰\\01.전통시장\n"
     ]
    },
    {
     "name": "stderr",
     "output_type": "stream",
     "text": [
      "Denoising: 100%|███████████████████████████████████████████████████| 100/100 [12:26<00:00,  7.47s/it]\n"
     ]
    },
    {
     "name": "stdout",
     "output_type": "stream",
     "text": [
      "Processing: ./New_Testset\\01.데이터\\2.Validation\\원천데이터\\05.시장,쇼핑몰\\02.복합쇼핑몰\n"
     ]
    },
    {
     "name": "stderr",
     "output_type": "stream",
     "text": [
      "Denoising: 100%|███████████████████████████████████████████████████| 100/100 [12:33<00:00,  7.54s/it]\n"
     ]
    },
    {
     "name": "stdout",
     "output_type": "stream",
     "text": [
      "Processing: ./New_Testset\\01.데이터\\2.Validation\\원천데이터\\05.시장,쇼핑몰\\03.시장,쇼핑몰_기타소음\n"
     ]
    },
    {
     "name": "stderr",
     "output_type": "stream",
     "text": [
      "Denoising: 100%|███████████████████████████████████████████████████| 100/100 [12:42<00:00,  7.62s/it]\n"
     ]
    },
    {
     "name": "stdout",
     "output_type": "stream",
     "text": [
      "Processing: ./New_Testset\\01.데이터\\2.Validation\\원천데이터\\06.지하철,버스\n"
     ]
    },
    {
     "name": "stderr",
     "output_type": "stream",
     "text": [
      "Denoising: 0it [00:00, ?it/s]\n"
     ]
    },
    {
     "name": "stdout",
     "output_type": "stream",
     "text": [
      "Processing: ./New_Testset\\01.데이터\\2.Validation\\원천데이터\\06.지하철,버스\\01.지하철플랫폼\n"
     ]
    },
    {
     "name": "stderr",
     "output_type": "stream",
     "text": [
      "Denoising: 100%|███████████████████████████████████████████████████| 100/100 [12:50<00:00,  7.71s/it]\n"
     ]
    },
    {
     "name": "stdout",
     "output_type": "stream",
     "text": [
      "Processing: ./New_Testset\\01.데이터\\2.Validation\\원천데이터\\06.지하철,버스\\02.지하철안\n"
     ]
    },
    {
     "name": "stderr",
     "output_type": "stream",
     "text": [
      "Denoising: 100%|███████████████████████████████████████████████████| 100/100 [13:02<00:00,  7.82s/it]\n"
     ]
    },
    {
     "name": "stdout",
     "output_type": "stream",
     "text": [
      "Processing: ./New_Testset\\01.데이터\\2.Validation\\원천데이터\\06.지하철,버스\\03.기차안\n"
     ]
    },
    {
     "name": "stderr",
     "output_type": "stream",
     "text": [
      "Denoising: 100%|███████████████████████████████████████████████████| 100/100 [12:37<00:00,  7.57s/it]\n"
     ]
    },
    {
     "name": "stdout",
     "output_type": "stream",
     "text": [
      "Processing: ./New_Testset\\01.데이터\\2.Validation\\원천데이터\\06.지하철,버스\\04.버스안\n"
     ]
    },
    {
     "name": "stderr",
     "output_type": "stream",
     "text": [
      "Denoising: 100%|███████████████████████████████████████████████████| 100/100 [12:47<00:00,  7.67s/it]\n"
     ]
    },
    {
     "name": "stdout",
     "output_type": "stream",
     "text": [
      "Processing: ./New_Testset\\01.데이터\\2.Validation\\원천데이터\\07.터미널\n"
     ]
    },
    {
     "name": "stderr",
     "output_type": "stream",
     "text": [
      "Denoising: 0it [00:00, ?it/s]\n"
     ]
    },
    {
     "name": "stdout",
     "output_type": "stream",
     "text": [
      "Processing: ./New_Testset\\01.데이터\\2.Validation\\원천데이터\\07.터미널\\01.기차역대합실\n"
     ]
    },
    {
     "name": "stderr",
     "output_type": "stream",
     "text": [
      "Denoising: 100%|███████████████████████████████████████████████████| 100/100 [13:08<00:00,  7.89s/it]\n"
     ]
    },
    {
     "name": "stdout",
     "output_type": "stream",
     "text": [
      "Processing: ./New_Testset\\01.데이터\\2.Validation\\원천데이터\\07.터미널\\02.버스터미널대합실\n"
     ]
    },
    {
     "name": "stderr",
     "output_type": "stream",
     "text": [
      "Denoising: 100%|███████████████████████████████████████████████████| 100/100 [12:58<00:00,  7.79s/it]\n"
     ]
    },
    {
     "name": "stdout",
     "output_type": "stream",
     "text": [
      "Processing: ./New_Testset\\01.데이터\\2.Validation\\원천데이터\\07.터미널\\03.터미널_기타소음\n"
     ]
    },
    {
     "name": "stderr",
     "output_type": "stream",
     "text": [
      "Denoising: 100%|███████████████████████████████████████████████████| 100/100 [13:00<00:00,  7.81s/it]\n"
     ]
    },
    {
     "name": "stdout",
     "output_type": "stream",
     "text": [
      "Processing: ./New_Testset\\01.데이터\\2.Validation\\원천데이터\\08.공사장\n"
     ]
    },
    {
     "name": "stderr",
     "output_type": "stream",
     "text": [
      "Denoising: 0it [00:00, ?it/s]\n"
     ]
    },
    {
     "name": "stdout",
     "output_type": "stream",
     "text": [
      "Processing: ./New_Testset\\01.데이터\\2.Validation\\원천데이터\\08.공사장\\01.실외공사장\n"
     ]
    },
    {
     "name": "stderr",
     "output_type": "stream",
     "text": [
      "Denoising: 100%|███████████████████████████████████████████████████| 100/100 [12:48<00:00,  7.69s/it]\n"
     ]
    },
    {
     "name": "stdout",
     "output_type": "stream",
     "text": [
      "Processing: ./New_Testset\\01.데이터\\2.Validation\\원천데이터\\08.공사장\\02.실내공사장\n"
     ]
    },
    {
     "name": "stderr",
     "output_type": "stream",
     "text": [
      "Denoising: 100%|███████████████████████████████████████████████████| 100/100 [12:54<00:00,  7.74s/it]\n"
     ]
    },
    {
     "name": "stdout",
     "output_type": "stream",
     "text": [
      "Processing: ./New_Testset\\01.데이터\\2.Validation\\원천데이터\\08.공사장\\03.공사장_기타소음\n"
     ]
    },
    {
     "name": "stderr",
     "output_type": "stream",
     "text": [
      "Denoising: 100%|███████████████████████████████████████████████████| 100/100 [12:28<00:00,  7.48s/it]\n"
     ]
    },
    {
     "name": "stdout",
     "output_type": "stream",
     "text": [
      "Processing: ./New_Testset\\01.데이터\\2.Validation\\원천데이터\\09.공장\n"
     ]
    },
    {
     "name": "stderr",
     "output_type": "stream",
     "text": [
      "Denoising: 0it [00:00, ?it/s]\n"
     ]
    },
    {
     "name": "stdout",
     "output_type": "stream",
     "text": [
      "Processing: ./New_Testset\\01.데이터\\2.Validation\\원천데이터\\09.공장\\01.가공공정\n"
     ]
    },
    {
     "name": "stderr",
     "output_type": "stream",
     "text": [
      "Denoising: 100%|███████████████████████████████████████████████████| 100/100 [12:22<00:00,  7.42s/it]\n"
     ]
    },
    {
     "name": "stdout",
     "output_type": "stream",
     "text": [
      "Processing: ./New_Testset\\01.데이터\\2.Validation\\원천데이터\\09.공장\\02.조립공정\n"
     ]
    },
    {
     "name": "stderr",
     "output_type": "stream",
     "text": [
      "Denoising: 100%|███████████████████████████████████████████████████| 100/100 [12:06<00:00,  7.27s/it]\n"
     ]
    },
    {
     "name": "stdout",
     "output_type": "stream",
     "text": [
      "Processing: ./New_Testset\\01.데이터\\2.Validation\\원천데이터\\09.공장\\03.공장_기타소음\n"
     ]
    },
    {
     "name": "stderr",
     "output_type": "stream",
     "text": [
      "Denoising: 100%|███████████████████████████████████████████████████| 100/100 [11:54<00:00,  7.14s/it]\n"
     ]
    },
    {
     "name": "stdout",
     "output_type": "stream",
     "text": [
      "Processing: ./New_Testset\\01.데이터\\2.Validation\\원천데이터\\10.일반자연\n"
     ]
    },
    {
     "name": "stderr",
     "output_type": "stream",
     "text": [
      "Denoising: 0it [00:00, ?it/s]\n"
     ]
    },
    {
     "name": "stdout",
     "output_type": "stream",
     "text": [
      "Processing: ./New_Testset\\01.데이터\\2.Validation\\원천데이터\\10.일반자연\\01.빗소리\n"
     ]
    },
    {
     "name": "stderr",
     "output_type": "stream",
     "text": [
      "Denoising: 100%|███████████████████████████████████████████████████| 100/100 [11:57<00:00,  7.17s/it]\n"
     ]
    },
    {
     "name": "stdout",
     "output_type": "stream",
     "text": [
      "Processing: ./New_Testset\\01.데이터\\2.Validation\\원천데이터\\10.일반자연\\02.파도\n"
     ]
    },
    {
     "name": "stderr",
     "output_type": "stream",
     "text": [
      "Denoising: 100%|███████████████████████████████████████████████████| 100/100 [12:00<00:00,  7.21s/it]\n"
     ]
    },
    {
     "name": "stdout",
     "output_type": "stream",
     "text": [
      "Processing: ./New_Testset\\01.데이터\\2.Validation\\원천데이터\\10.일반자연\\03.일반자연_기타소음\n"
     ]
    },
    {
     "name": "stderr",
     "output_type": "stream",
     "text": [
      "Denoising: 100%|███████████████████████████████████████████████████| 100/100 [12:00<00:00,  7.21s/it]\n"
     ]
    },
    {
     "name": "stdout",
     "output_type": "stream",
     "text": [
      "Processing: ./New_Testset\\01.데이터\\2.Validation\\원천데이터\\11.복합소음\n"
     ]
    },
    {
     "name": "stderr",
     "output_type": "stream",
     "text": [
      "Denoising: 0it [00:00, ?it/s]\n"
     ]
    },
    {
     "name": "stdout",
     "output_type": "stream",
     "text": [
      "Processing: ./New_Testset\\01.데이터\\2.Validation\\원천데이터\\11.복합소음\\01.2가지이상소음원\n"
     ]
    },
    {
     "name": "stderr",
     "output_type": "stream",
     "text": [
      "Denoising: 100%|███████████████████████████████████████████████████| 300/300 [36:03<00:00,  7.21s/it]"
     ]
    },
    {
     "name": "stdout",
     "output_type": "stream",
     "text": [
      "Done!\n"
     ]
    },
    {
     "name": "stderr",
     "output_type": "stream",
     "text": [
      "\n"
     ]
    }
   ],
   "source": [
    "denoising(\"./New_Testset\", \"./New_Testset_Denoising\")"
   ]
  },
  {
   "cell_type": "code",
   "execution_count": 6,
   "id": "86b76da2-57e7-4db4-a9f5-efdeb4cf4ba3",
   "metadata": {},
   "outputs": [
    {
     "name": "stdout",
     "output_type": "stream",
     "text": [
      "Processing: ./Dataset/01.데이터/2.Validation/원천데이터\n"
     ]
    },
    {
     "name": "stderr",
     "output_type": "stream",
     "text": [
      "Denoising: 0it [00:00, ?it/s]\n"
     ]
    },
    {
     "name": "stdout",
     "output_type": "stream",
     "text": [
      "Processing: ./Dataset/01.데이터/2.Validation/원천데이터\\01.가전소음\n"
     ]
    },
    {
     "name": "stderr",
     "output_type": "stream",
     "text": [
      "Denoising: 0it [00:00, ?it/s]\n"
     ]
    },
    {
     "name": "stdout",
     "output_type": "stream",
     "text": [
      "Processing: ./Dataset/01.데이터/2.Validation/원천데이터\\01.가전소음\\01.세탁기,건조기\n"
     ]
    },
    {
     "name": "stderr",
     "output_type": "stream",
     "text": [
      "Denoising: 100%|█████████████████████████████████████████████████████████████████████| 120/120 [11:28<00:00,  5.74s/it]\n"
     ]
    },
    {
     "name": "stdout",
     "output_type": "stream",
     "text": [
      "Processing: ./Dataset/01.데이터/2.Validation/원천데이터\\01.가전소음\\02.청소기\n"
     ]
    },
    {
     "name": "stderr",
     "output_type": "stream",
     "text": [
      "Denoising: 100%|███████████████████████████████████████████████████| 120/120 [10:58<00:00,  5.49s/it]\n"
     ]
    },
    {
     "name": "stdout",
     "output_type": "stream",
     "text": [
      "Processing: ./Dataset/01.데이터/2.Validation/원천데이터\\01.가전소음\\03.가전소음_기타소음\n"
     ]
    },
    {
     "name": "stderr",
     "output_type": "stream",
     "text": [
      "Denoising: 100%|███████████████████████████████████████████████████| 120/120 [10:52<00:00,  5.44s/it]\n"
     ]
    },
    {
     "name": "stdout",
     "output_type": "stream",
     "text": [
      "Processing: ./Dataset/01.데이터/2.Validation/원천데이터\\02.교통수단\n"
     ]
    },
    {
     "name": "stderr",
     "output_type": "stream",
     "text": [
      "Denoising: 0it [00:00, ?it/s]\n"
     ]
    },
    {
     "name": "stdout",
     "output_type": "stream",
     "text": [
      "Processing: ./Dataset/01.데이터/2.Validation/원천데이터\\02.교통수단\\01.바이크\n"
     ]
    },
    {
     "name": "stderr",
     "output_type": "stream",
     "text": [
      "Denoising: 100%|███████████████████████████████████████████████████| 120/120 [10:51<00:00,  5.43s/it]\n"
     ]
    },
    {
     "name": "stdout",
     "output_type": "stream",
     "text": [
      "Processing: ./Dataset/01.데이터/2.Validation/원천데이터\\02.교통수단\\02.싸이렌\n"
     ]
    },
    {
     "name": "stderr",
     "output_type": "stream",
     "text": [
      "Denoising: 100%|███████████████████████████████████████████████████| 120/120 [10:50<00:00,  5.42s/it]\n"
     ]
    },
    {
     "name": "stdout",
     "output_type": "stream",
     "text": [
      "Processing: ./Dataset/01.데이터/2.Validation/원천데이터\\02.교통수단\\03.경적\n"
     ]
    },
    {
     "name": "stderr",
     "output_type": "stream",
     "text": [
      "Denoising: 100%|███████████████████████████████████████████████████| 120/120 [10:50<00:00,  5.42s/it]\n"
     ]
    },
    {
     "name": "stdout",
     "output_type": "stream",
     "text": [
      "Processing: ./Dataset/01.데이터/2.Validation/원천데이터\\02.교통수단\\04.교통수단_기타소음\n"
     ]
    },
    {
     "name": "stderr",
     "output_type": "stream",
     "text": [
      "Denoising: 100%|███████████████████████████████████████████████████| 120/120 [10:56<00:00,  5.47s/it]\n"
     ]
    },
    {
     "name": "stdout",
     "output_type": "stream",
     "text": [
      "Processing: ./Dataset/01.데이터/2.Validation/원천데이터\\03.길거리\n"
     ]
    },
    {
     "name": "stderr",
     "output_type": "stream",
     "text": [
      "Denoising: 0it [00:00, ?it/s]\n"
     ]
    },
    {
     "name": "stdout",
     "output_type": "stream",
     "text": [
      "Processing: ./Dataset/01.데이터/2.Validation/원천데이터\\03.길거리\\01.도로변\n"
     ]
    },
    {
     "name": "stderr",
     "output_type": "stream",
     "text": [
      "Denoising: 100%|███████████████████████████████████████████████████| 120/120 [11:09<00:00,  5.58s/it]\n"
     ]
    },
    {
     "name": "stdout",
     "output_type": "stream",
     "text": [
      "Processing: ./Dataset/01.데이터/2.Validation/원천데이터\\03.길거리\\02.인파\n"
     ]
    },
    {
     "name": "stderr",
     "output_type": "stream",
     "text": [
      "Denoising: 100%|███████████████████████████████████████████████████| 120/120 [11:09<00:00,  5.58s/it]\n"
     ]
    },
    {
     "name": "stdout",
     "output_type": "stream",
     "text": [
      "Processing: ./Dataset/01.데이터/2.Validation/원천데이터\\03.길거리\\03.길거리_기타소음\n"
     ]
    },
    {
     "name": "stderr",
     "output_type": "stream",
     "text": [
      "Denoising: 100%|███████████████████████████████████████████████████| 120/120 [11:09<00:00,  5.58s/it]\n"
     ]
    },
    {
     "name": "stdout",
     "output_type": "stream",
     "text": [
      "Processing: ./Dataset/01.데이터/2.Validation/원천데이터\\04.카페,음식점\n"
     ]
    },
    {
     "name": "stderr",
     "output_type": "stream",
     "text": [
      "Denoising: 0it [00:00, ?it/s]\n"
     ]
    },
    {
     "name": "stdout",
     "output_type": "stream",
     "text": [
      "Processing: ./Dataset/01.데이터/2.Validation/원천데이터\\04.카페,음식점\\01.대화소음\n"
     ]
    },
    {
     "name": "stderr",
     "output_type": "stream",
     "text": [
      "Denoising: 100%|███████████████████████████████████████████████████| 120/120 [11:11<00:00,  5.60s/it]\n"
     ]
    },
    {
     "name": "stdout",
     "output_type": "stream",
     "text": [
      "Processing: ./Dataset/01.데이터/2.Validation/원천데이터\\04.카페,음식점\\02.업소소음\n"
     ]
    },
    {
     "name": "stderr",
     "output_type": "stream",
     "text": [
      "Denoising: 100%|███████████████████████████████████████████████████| 120/120 [11:09<00:00,  5.58s/it]\n"
     ]
    },
    {
     "name": "stdout",
     "output_type": "stream",
     "text": [
      "Processing: ./Dataset/01.데이터/2.Validation/원천데이터\\04.카페,음식점\\03.카페,음식점_기타소음\n"
     ]
    },
    {
     "name": "stderr",
     "output_type": "stream",
     "text": [
      "Denoising: 100%|███████████████████████████████████████████████████| 120/120 [11:11<00:00,  5.60s/it]\n"
     ]
    },
    {
     "name": "stdout",
     "output_type": "stream",
     "text": [
      "Processing: ./Dataset/01.데이터/2.Validation/원천데이터\\05.시장,쇼핑몰\n"
     ]
    },
    {
     "name": "stderr",
     "output_type": "stream",
     "text": [
      "Denoising: 0it [00:00, ?it/s]\n"
     ]
    },
    {
     "name": "stdout",
     "output_type": "stream",
     "text": [
      "Processing: ./Dataset/01.데이터/2.Validation/원천데이터\\05.시장,쇼핑몰\\01.전통시장\n"
     ]
    },
    {
     "name": "stderr",
     "output_type": "stream",
     "text": [
      "Denoising: 100%|███████████████████████████████████████████████████| 120/120 [11:10<00:00,  5.59s/it]\n"
     ]
    },
    {
     "name": "stdout",
     "output_type": "stream",
     "text": [
      "Processing: ./Dataset/01.데이터/2.Validation/원천데이터\\05.시장,쇼핑몰\\02.복합쇼핑몰\n"
     ]
    },
    {
     "name": "stderr",
     "output_type": "stream",
     "text": [
      "Denoising: 100%|███████████████████████████████████████████████████| 120/120 [11:08<00:00,  5.57s/it]\n"
     ]
    },
    {
     "name": "stdout",
     "output_type": "stream",
     "text": [
      "Processing: ./Dataset/01.데이터/2.Validation/원천데이터\\05.시장,쇼핑몰\\03.시장,쇼핑몰_기타소음\n"
     ]
    },
    {
     "name": "stderr",
     "output_type": "stream",
     "text": [
      "Denoising: 100%|███████████████████████████████████████████████████| 120/120 [10:54<00:00,  5.45s/it]\n"
     ]
    },
    {
     "name": "stdout",
     "output_type": "stream",
     "text": [
      "Processing: ./Dataset/01.데이터/2.Validation/원천데이터\\06.지하철,버스\n"
     ]
    },
    {
     "name": "stderr",
     "output_type": "stream",
     "text": [
      "Denoising: 0it [00:00, ?it/s]\n"
     ]
    },
    {
     "name": "stdout",
     "output_type": "stream",
     "text": [
      "Processing: ./Dataset/01.데이터/2.Validation/원천데이터\\06.지하철,버스\\01.지하철플랫폼\n"
     ]
    },
    {
     "name": "stderr",
     "output_type": "stream",
     "text": [
      "Denoising: 100%|███████████████████████████████████████████████████| 120/120 [10:44<00:00,  5.37s/it]\n"
     ]
    },
    {
     "name": "stdout",
     "output_type": "stream",
     "text": [
      "Processing: ./Dataset/01.데이터/2.Validation/원천데이터\\06.지하철,버스\\02.지하철안\n"
     ]
    },
    {
     "name": "stderr",
     "output_type": "stream",
     "text": [
      "Denoising: 100%|███████████████████████████████████████████████████| 120/120 [10:45<00:00,  5.38s/it]\n"
     ]
    },
    {
     "name": "stdout",
     "output_type": "stream",
     "text": [
      "Processing: ./Dataset/01.데이터/2.Validation/원천데이터\\06.지하철,버스\\03.기차안\n"
     ]
    },
    {
     "name": "stderr",
     "output_type": "stream",
     "text": [
      "Denoising: 100%|███████████████████████████████████████████████████| 120/120 [10:46<00:00,  5.39s/it]\n"
     ]
    },
    {
     "name": "stdout",
     "output_type": "stream",
     "text": [
      "Processing: ./Dataset/01.데이터/2.Validation/원천데이터\\06.지하철,버스\\04.버스안\n"
     ]
    },
    {
     "name": "stderr",
     "output_type": "stream",
     "text": [
      "Denoising: 100%|███████████████████████████████████████████████████| 120/120 [10:46<00:00,  5.39s/it]\n"
     ]
    },
    {
     "name": "stdout",
     "output_type": "stream",
     "text": [
      "Processing: ./Dataset/01.데이터/2.Validation/원천데이터\\07.터미널\n"
     ]
    },
    {
     "name": "stderr",
     "output_type": "stream",
     "text": [
      "Denoising: 0it [00:00, ?it/s]\n"
     ]
    },
    {
     "name": "stdout",
     "output_type": "stream",
     "text": [
      "Processing: ./Dataset/01.데이터/2.Validation/원천데이터\\07.터미널\\01.기차역대합실\n"
     ]
    },
    {
     "name": "stderr",
     "output_type": "stream",
     "text": [
      "Denoising: 100%|███████████████████████████████████████████████████| 120/120 [10:57<00:00,  5.48s/it]\n"
     ]
    },
    {
     "name": "stdout",
     "output_type": "stream",
     "text": [
      "Processing: ./Dataset/01.데이터/2.Validation/원천데이터\\07.터미널\\02.버스터미널대합실\n"
     ]
    },
    {
     "name": "stderr",
     "output_type": "stream",
     "text": [
      "Denoising: 100%|███████████████████████████████████████████████████| 120/120 [11:05<00:00,  5.54s/it]\n"
     ]
    },
    {
     "name": "stdout",
     "output_type": "stream",
     "text": [
      "Processing: ./Dataset/01.데이터/2.Validation/원천데이터\\07.터미널\\03.터미널_기타소음\n"
     ]
    },
    {
     "name": "stderr",
     "output_type": "stream",
     "text": [
      "Denoising: 100%|███████████████████████████████████████████████████| 120/120 [11:06<00:00,  5.55s/it]\n"
     ]
    },
    {
     "name": "stdout",
     "output_type": "stream",
     "text": [
      "Processing: ./Dataset/01.데이터/2.Validation/원천데이터\\08.공사장\n"
     ]
    },
    {
     "name": "stderr",
     "output_type": "stream",
     "text": [
      "Denoising: 0it [00:00, ?it/s]\n"
     ]
    },
    {
     "name": "stdout",
     "output_type": "stream",
     "text": [
      "Processing: ./Dataset/01.데이터/2.Validation/원천데이터\\08.공사장\\01.실외공사장\n"
     ]
    },
    {
     "name": "stderr",
     "output_type": "stream",
     "text": [
      "Denoising: 100%|███████████████████████████████████████████████████| 120/120 [11:06<00:00,  5.56s/it]\n"
     ]
    },
    {
     "name": "stdout",
     "output_type": "stream",
     "text": [
      "Processing: ./Dataset/01.데이터/2.Validation/원천데이터\\08.공사장\\02.실내공사장\n"
     ]
    },
    {
     "name": "stderr",
     "output_type": "stream",
     "text": [
      "Denoising: 100%|███████████████████████████████████████████████████| 120/120 [11:06<00:00,  5.55s/it]\n"
     ]
    },
    {
     "name": "stdout",
     "output_type": "stream",
     "text": [
      "Processing: ./Dataset/01.데이터/2.Validation/원천데이터\\08.공사장\\03.공사장_기타소음\n"
     ]
    },
    {
     "name": "stderr",
     "output_type": "stream",
     "text": [
      "Denoising: 100%|███████████████████████████████████████████████████| 120/120 [11:06<00:00,  5.55s/it]\n"
     ]
    },
    {
     "name": "stdout",
     "output_type": "stream",
     "text": [
      "Processing: ./Dataset/01.데이터/2.Validation/원천데이터\\09.공장\n"
     ]
    },
    {
     "name": "stderr",
     "output_type": "stream",
     "text": [
      "Denoising: 0it [00:00, ?it/s]\n"
     ]
    },
    {
     "name": "stdout",
     "output_type": "stream",
     "text": [
      "Processing: ./Dataset/01.데이터/2.Validation/원천데이터\\09.공장\\01.가공공정\n"
     ]
    },
    {
     "name": "stderr",
     "output_type": "stream",
     "text": [
      "Denoising: 100%|███████████████████████████████████████████████████| 120/120 [11:08<00:00,  5.57s/it]\n"
     ]
    },
    {
     "name": "stdout",
     "output_type": "stream",
     "text": [
      "Processing: ./Dataset/01.데이터/2.Validation/원천데이터\\09.공장\\02.조립공정\n"
     ]
    },
    {
     "name": "stderr",
     "output_type": "stream",
     "text": [
      "Denoising: 100%|███████████████████████████████████████████████████| 120/120 [10:59<00:00,  5.49s/it]\n"
     ]
    },
    {
     "name": "stdout",
     "output_type": "stream",
     "text": [
      "Processing: ./Dataset/01.데이터/2.Validation/원천데이터\\09.공장\\03.공장_기타소음\n"
     ]
    },
    {
     "name": "stderr",
     "output_type": "stream",
     "text": [
      "Denoising: 100%|███████████████████████████████████████████████████| 120/120 [10:47<00:00,  5.40s/it]\n"
     ]
    },
    {
     "name": "stdout",
     "output_type": "stream",
     "text": [
      "Processing: ./Dataset/01.데이터/2.Validation/원천데이터\\10.일반자연\n"
     ]
    },
    {
     "name": "stderr",
     "output_type": "stream",
     "text": [
      "Denoising: 0it [00:00, ?it/s]\n"
     ]
    },
    {
     "name": "stdout",
     "output_type": "stream",
     "text": [
      "Processing: ./Dataset/01.데이터/2.Validation/원천데이터\\10.일반자연\\01.빗소리\n"
     ]
    },
    {
     "name": "stderr",
     "output_type": "stream",
     "text": [
      "Denoising: 100%|███████████████████████████████████████████████████| 120/120 [10:47<00:00,  5.40s/it]\n"
     ]
    },
    {
     "name": "stdout",
     "output_type": "stream",
     "text": [
      "Processing: ./Dataset/01.데이터/2.Validation/원천데이터\\10.일반자연\\02.파도\n"
     ]
    },
    {
     "name": "stderr",
     "output_type": "stream",
     "text": [
      "Denoising: 100%|███████████████████████████████████████████████████| 120/120 [10:48<00:00,  5.40s/it]\n"
     ]
    },
    {
     "name": "stdout",
     "output_type": "stream",
     "text": [
      "Processing: ./Dataset/01.데이터/2.Validation/원천데이터\\10.일반자연\\03.일반자연_기타소음\n"
     ]
    },
    {
     "name": "stderr",
     "output_type": "stream",
     "text": [
      "Denoising: 100%|███████████████████████████████████████████████████| 120/120 [10:48<00:00,  5.40s/it]\n"
     ]
    },
    {
     "name": "stdout",
     "output_type": "stream",
     "text": [
      "Processing: ./Dataset/01.데이터/2.Validation/원천데이터\\11.복합소음\n"
     ]
    },
    {
     "name": "stderr",
     "output_type": "stream",
     "text": [
      "Denoising: 0it [00:00, ?it/s]\n"
     ]
    },
    {
     "name": "stdout",
     "output_type": "stream",
     "text": [
      "Processing: ./Dataset/01.데이터/2.Validation/원천데이터\\11.복합소음\\01.2가지이상소음원\n"
     ]
    },
    {
     "name": "stderr",
     "output_type": "stream",
     "text": [
      "Denoising: 100%|███████████████████████████████████████████████████| 120/120 [10:51<00:00,  5.43s/it]"
     ]
    },
    {
     "name": "stdout",
     "output_type": "stream",
     "text": [
      "Done!\n"
     ]
    },
    {
     "name": "stderr",
     "output_type": "stream",
     "text": [
      "\n"
     ]
    }
   ],
   "source": [
    "denoising(\"./Dataset/01.데이터/2.Validation/원천데이터\", \"./Saveset/01.데이터/2.Validation/원천데이터\")"
   ]
  },
  {
   "cell_type": "code",
   "execution_count": 4,
   "id": "8c8f5011-f31f-448d-8998-ecac2aea1560",
   "metadata": {},
   "outputs": [],
   "source": [
    "import os\n",
    "import json\n",
    "from tqdm import tqdm\n",
    "\n",
    "def is_json(filename):\n",
    "    return filename[-4:] == 'json'\n",
    "\n",
    "def list_files_and_directories(root_dir):\n",
    "    wav_filepath_list = []\n",
    "    text_list = []\n",
    "    root_dir_len = len(root_dir)\n",
    "    for dirpath, dirnames, filenames in os.walk(root_dir):\n",
    "        print(\"Processing:\", dirpath)\n",
    "        num_files = len(filenames)\n",
    "        with tqdm(total=num_files, desc=\"Rasampling files in progress\") as pbar:\n",
    "            n = 0\n",
    "            for filename in filenames:\n",
    "                if is_json(filename):\n",
    "                    filepath = os.path.join(dirpath, filename)\n",
    "                    with open(filepath, \"r\", encoding=\"utf-8\") as json_file:\n",
    "                        data = json.load(json_file)\n",
    "                        text = data[\"annotations\"][\"note\"]\n",
    "                    \n",
    "                    wav_filename = filename.replace('.json', '.wav')\n",
    "                    wav_filepath = dirpath.replace('라벨링', '원천')\n",
    "                    wav_filepath = os.path.join(wav_filepath, wav_filename)\n",
    "                    \n",
    "                    if os.path.exists(wav_filepath):\n",
    "                        wav_filepath_list.append(wav_filepath[root_dir_len+1:])\n",
    "                        text_list.append(text)\n",
    "                        n += 1\n",
    "                pbar.update(1)\n",
    "            print(f\"Success: {n}/{len(filenames)}\")\n",
    "                    \n",
    "    print(\"Done!\")\n",
    "    return wav_filepath_list, text_list"
   ]
  },
  {
   "cell_type": "code",
   "execution_count": 5,
   "id": "5d95f165-5916-4a54-993e-2dbc9475a240",
   "metadata": {},
   "outputs": [
    {
     "name": "stdout",
     "output_type": "stream",
     "text": [
      "Processing: ./Saveset\n"
     ]
    },
    {
     "name": "stderr",
     "output_type": "stream",
     "text": [
      "Rasampling files in progress: 0it [00:00, ?it/s]\n"
     ]
    },
    {
     "name": "stdout",
     "output_type": "stream",
     "text": [
      "Success: 0/0\n",
      "Processing: ./Saveset\\01.데이터\n"
     ]
    },
    {
     "name": "stderr",
     "output_type": "stream",
     "text": [
      "Rasampling files in progress: 0it [00:00, ?it/s]\n"
     ]
    },
    {
     "name": "stdout",
     "output_type": "stream",
     "text": [
      "Success: 0/0\n",
      "Processing: ./Saveset\\01.데이터\\2.Validation\n"
     ]
    },
    {
     "name": "stderr",
     "output_type": "stream",
     "text": [
      "Rasampling files in progress: 0it [00:00, ?it/s]\n"
     ]
    },
    {
     "name": "stdout",
     "output_type": "stream",
     "text": [
      "Success: 0/0\n",
      "Processing: ./Saveset\\01.데이터\\2.Validation\\라벨링데이터\n"
     ]
    },
    {
     "name": "stderr",
     "output_type": "stream",
     "text": [
      "Rasampling files in progress: 0it [00:00, ?it/s]\n"
     ]
    },
    {
     "name": "stdout",
     "output_type": "stream",
     "text": [
      "Success: 0/0\n",
      "Processing: ./Saveset\\01.데이터\\2.Validation\\라벨링데이터\\01.가전소음\n"
     ]
    },
    {
     "name": "stderr",
     "output_type": "stream",
     "text": [
      "Rasampling files in progress: 0it [00:00, ?it/s]\n"
     ]
    },
    {
     "name": "stdout",
     "output_type": "stream",
     "text": [
      "Success: 0/0\n",
      "Processing: ./Saveset\\01.데이터\\2.Validation\\라벨링데이터\\01.가전소음\\01.세탁기,건조기\n"
     ]
    },
    {
     "name": "stderr",
     "output_type": "stream",
     "text": [
      "Rasampling files in progress: 100%|██████████████████████████| 10554/10554 [00:07<00:00, 1392.55it/s]\n"
     ]
    },
    {
     "name": "stdout",
     "output_type": "stream",
     "text": [
      "Success: 120/10554\n",
      "Processing: ./Saveset\\01.데이터\\2.Validation\\라벨링데이터\\01.가전소음\\02.청소기\n"
     ]
    },
    {
     "name": "stderr",
     "output_type": "stream",
     "text": [
      "Rasampling files in progress: 100%|████████████████████████████| 4594/4594 [00:03<00:00, 1377.37it/s]\n"
     ]
    },
    {
     "name": "stdout",
     "output_type": "stream",
     "text": [
      "Success: 120/4594\n",
      "Processing: ./Saveset\\01.데이터\\2.Validation\\라벨링데이터\\01.가전소음\\03.가전소음_기타소음\n"
     ]
    },
    {
     "name": "stderr",
     "output_type": "stream",
     "text": [
      "Rasampling files in progress: 100%|██████████████████████████| 31620/31620 [00:22<00:00, 1381.47it/s]\n"
     ]
    },
    {
     "name": "stdout",
     "output_type": "stream",
     "text": [
      "Success: 120/31620\n",
      "Processing: ./Saveset\\01.데이터\\2.Validation\\라벨링데이터\\02.교통수단\n"
     ]
    },
    {
     "name": "stderr",
     "output_type": "stream",
     "text": [
      "Rasampling files in progress: 0it [00:00, ?it/s]\n"
     ]
    },
    {
     "name": "stdout",
     "output_type": "stream",
     "text": [
      "Success: 0/0\n",
      "Processing: ./Saveset\\01.데이터\\2.Validation\\라벨링데이터\\02.교통수단\\01.바이크\n"
     ]
    },
    {
     "name": "stderr",
     "output_type": "stream",
     "text": [
      "Rasampling files in progress: 100%|████████████████████████████| 1908/1908 [00:01<00:00, 1435.32it/s]\n"
     ]
    },
    {
     "name": "stdout",
     "output_type": "stream",
     "text": [
      "Success: 120/1908\n",
      "Processing: ./Saveset\\01.데이터\\2.Validation\\라벨링데이터\\02.교통수단\\02.싸이렌\n"
     ]
    },
    {
     "name": "stderr",
     "output_type": "stream",
     "text": [
      "Rasampling files in progress: 100%|████████████████████████████| 1712/1712 [00:01<00:00, 1416.93it/s]\n"
     ]
    },
    {
     "name": "stdout",
     "output_type": "stream",
     "text": [
      "Success: 120/1712\n",
      "Processing: ./Saveset\\01.데이터\\2.Validation\\라벨링데이터\\02.교통수단\\03.경적\n"
     ]
    },
    {
     "name": "stderr",
     "output_type": "stream",
     "text": [
      "Rasampling files in progress: 100%|████████████████████████████| 2090/2090 [00:01<00:00, 1407.99it/s]\n"
     ]
    },
    {
     "name": "stdout",
     "output_type": "stream",
     "text": [
      "Success: 120/2090\n",
      "Processing: ./Saveset\\01.데이터\\2.Validation\\라벨링데이터\\02.교통수단\\04.교통수단_기타소음\n"
     ]
    },
    {
     "name": "stderr",
     "output_type": "stream",
     "text": [
      "Rasampling files in progress: 100%|████████████████████████████| 3330/3330 [00:02<00:00, 1432.92it/s]\n"
     ]
    },
    {
     "name": "stdout",
     "output_type": "stream",
     "text": [
      "Success: 120/3330\n",
      "Processing: ./Saveset\\01.데이터\\2.Validation\\라벨링데이터\\03.길거리\n"
     ]
    },
    {
     "name": "stderr",
     "output_type": "stream",
     "text": [
      "Rasampling files in progress: 0it [00:00, ?it/s]\n"
     ]
    },
    {
     "name": "stdout",
     "output_type": "stream",
     "text": [
      "Success: 0/0\n",
      "Processing: ./Saveset\\01.데이터\\2.Validation\\라벨링데이터\\03.길거리\\01.도로변\n"
     ]
    },
    {
     "name": "stderr",
     "output_type": "stream",
     "text": [
      "Rasampling files in progress: 100%|████████████████████████████| 8918/8918 [00:06<00:00, 1398.17it/s]\n"
     ]
    },
    {
     "name": "stdout",
     "output_type": "stream",
     "text": [
      "Success: 120/8918\n",
      "Processing: ./Saveset\\01.데이터\\2.Validation\\라벨링데이터\\03.길거리\\02.인파\n"
     ]
    },
    {
     "name": "stderr",
     "output_type": "stream",
     "text": [
      "Rasampling files in progress: 100%|████████████████████████████| 1648/1648 [00:01<00:00, 1357.40it/s]\n"
     ]
    },
    {
     "name": "stdout",
     "output_type": "stream",
     "text": [
      "Success: 120/1648\n",
      "Processing: ./Saveset\\01.데이터\\2.Validation\\라벨링데이터\\03.길거리\\03.길거리_기타소음\n"
     ]
    },
    {
     "name": "stderr",
     "output_type": "stream",
     "text": [
      "Rasampling files in progress: 100%|████████████████████████████| 5032/5032 [00:03<00:00, 1356.37it/s]\n"
     ]
    },
    {
     "name": "stdout",
     "output_type": "stream",
     "text": [
      "Success: 120/5032\n",
      "Processing: ./Saveset\\01.데이터\\2.Validation\\라벨링데이터\\04.카페,음식점\n"
     ]
    },
    {
     "name": "stderr",
     "output_type": "stream",
     "text": [
      "Rasampling files in progress: 0it [00:00, ?it/s]\n"
     ]
    },
    {
     "name": "stdout",
     "output_type": "stream",
     "text": [
      "Success: 0/0\n",
      "Processing: ./Saveset\\01.데이터\\2.Validation\\라벨링데이터\\04.카페,음식점\\01.대화소음\n"
     ]
    },
    {
     "name": "stderr",
     "output_type": "stream",
     "text": [
      "Rasampling files in progress: 100%|██████████████████████████| 16548/16548 [00:12<00:00, 1306.75it/s]\n"
     ]
    },
    {
     "name": "stdout",
     "output_type": "stream",
     "text": [
      "Success: 120/16548\n",
      "Processing: ./Saveset\\01.데이터\\2.Validation\\라벨링데이터\\04.카페,음식점\\02.업소소음\n"
     ]
    },
    {
     "name": "stderr",
     "output_type": "stream",
     "text": [
      "Rasampling files in progress: 100%|██████████████████████████| 23310/23310 [00:17<00:00, 1317.55it/s]\n"
     ]
    },
    {
     "name": "stdout",
     "output_type": "stream",
     "text": [
      "Success: 120/23310\n",
      "Processing: ./Saveset\\01.데이터\\2.Validation\\라벨링데이터\\04.카페,음식점\\03.카페,음식점_기타소음\n"
     ]
    },
    {
     "name": "stderr",
     "output_type": "stream",
     "text": [
      "Rasampling files in progress: 100%|████████████████████████████| 5788/5788 [00:04<00:00, 1313.96it/s]\n"
     ]
    },
    {
     "name": "stdout",
     "output_type": "stream",
     "text": [
      "Success: 120/5788\n",
      "Processing: ./Saveset\\01.데이터\\2.Validation\\라벨링데이터\\05.시장,쇼핑몰\n"
     ]
    },
    {
     "name": "stderr",
     "output_type": "stream",
     "text": [
      "Rasampling files in progress: 0it [00:00, ?it/s]\n"
     ]
    },
    {
     "name": "stdout",
     "output_type": "stream",
     "text": [
      "Success: 0/0\n",
      "Processing: ./Saveset\\01.데이터\\2.Validation\\라벨링데이터\\05.시장,쇼핑몰\\01.전통시장\n"
     ]
    },
    {
     "name": "stderr",
     "output_type": "stream",
     "text": [
      "Rasampling files in progress: 100%|████████████████████████████| 5068/5068 [00:03<00:00, 1290.01it/s]\n"
     ]
    },
    {
     "name": "stdout",
     "output_type": "stream",
     "text": [
      "Success: 120/5068\n",
      "Processing: ./Saveset\\01.데이터\\2.Validation\\라벨링데이터\\05.시장,쇼핑몰\\02.복합쇼핑몰\n"
     ]
    },
    {
     "name": "stderr",
     "output_type": "stream",
     "text": [
      "Rasampling files in progress: 100%|██████████████████████████| 36208/36208 [00:27<00:00, 1327.02it/s]\n"
     ]
    },
    {
     "name": "stdout",
     "output_type": "stream",
     "text": [
      "Success: 120/36208\n",
      "Processing: ./Saveset\\01.데이터\\2.Validation\\라벨링데이터\\05.시장,쇼핑몰\\03.시장,쇼핑몰_기타소음\n"
     ]
    },
    {
     "name": "stderr",
     "output_type": "stream",
     "text": [
      "Rasampling files in progress: 100%|████████████████████████████| 3976/3976 [00:03<00:00, 1319.10it/s]\n"
     ]
    },
    {
     "name": "stdout",
     "output_type": "stream",
     "text": [
      "Success: 120/3976\n",
      "Processing: ./Saveset\\01.데이터\\2.Validation\\라벨링데이터\\06.지하철,버스\n"
     ]
    },
    {
     "name": "stderr",
     "output_type": "stream",
     "text": [
      "Rasampling files in progress: 0it [00:00, ?it/s]\n"
     ]
    },
    {
     "name": "stdout",
     "output_type": "stream",
     "text": [
      "Success: 0/0\n",
      "Processing: ./Saveset\\01.데이터\\2.Validation\\라벨링데이터\\06.지하철,버스\\01.지하철플랫폼\n"
     ]
    },
    {
     "name": "stderr",
     "output_type": "stream",
     "text": [
      "Rasampling files in progress: 100%|████████████████████████████| 4826/4826 [00:03<00:00, 1313.36it/s]\n"
     ]
    },
    {
     "name": "stdout",
     "output_type": "stream",
     "text": [
      "Success: 120/4826\n",
      "Processing: ./Saveset\\01.데이터\\2.Validation\\라벨링데이터\\06.지하철,버스\\02.지하철안\n"
     ]
    },
    {
     "name": "stderr",
     "output_type": "stream",
     "text": [
      "Rasampling files in progress: 100%|████████████████████████████| 6670/6670 [00:04<00:00, 1360.86it/s]\n"
     ]
    },
    {
     "name": "stdout",
     "output_type": "stream",
     "text": [
      "Success: 120/6670\n",
      "Processing: ./Saveset\\01.데이터\\2.Validation\\라벨링데이터\\06.지하철,버스\\03.기차안\n"
     ]
    },
    {
     "name": "stderr",
     "output_type": "stream",
     "text": [
      "Rasampling files in progress: 100%|████████████████████████████| 1844/1844 [00:01<00:00, 1292.14it/s]\n"
     ]
    },
    {
     "name": "stdout",
     "output_type": "stream",
     "text": [
      "Success: 120/1844\n",
      "Processing: ./Saveset\\01.데이터\\2.Validation\\라벨링데이터\\06.지하철,버스\\04.버스안\n"
     ]
    },
    {
     "name": "stderr",
     "output_type": "stream",
     "text": [
      "Rasampling files in progress: 100%|████████████████████████████| 7188/7188 [00:05<00:00, 1360.94it/s]\n"
     ]
    },
    {
     "name": "stdout",
     "output_type": "stream",
     "text": [
      "Success: 120/7188\n",
      "Processing: ./Saveset\\01.데이터\\2.Validation\\라벨링데이터\\07.터미널\n"
     ]
    },
    {
     "name": "stderr",
     "output_type": "stream",
     "text": [
      "Rasampling files in progress: 0it [00:00, ?it/s]\n"
     ]
    },
    {
     "name": "stdout",
     "output_type": "stream",
     "text": [
      "Success: 0/0\n",
      "Processing: ./Saveset\\01.데이터\\2.Validation\\라벨링데이터\\07.터미널\\01.기차역대합실\n"
     ]
    },
    {
     "name": "stderr",
     "output_type": "stream",
     "text": [
      "Rasampling files in progress: 100%|████████████████████████████| 7976/7976 [00:05<00:00, 1342.09it/s]\n"
     ]
    },
    {
     "name": "stdout",
     "output_type": "stream",
     "text": [
      "Success: 120/7976\n",
      "Processing: ./Saveset\\01.데이터\\2.Validation\\라벨링데이터\\07.터미널\\02.버스터미널대합실\n"
     ]
    },
    {
     "name": "stderr",
     "output_type": "stream",
     "text": [
      "Rasampling files in progress: 100%|████████████████████████████| 7644/7644 [00:05<00:00, 1293.52it/s]\n"
     ]
    },
    {
     "name": "stdout",
     "output_type": "stream",
     "text": [
      "Success: 120/7644\n",
      "Processing: ./Saveset\\01.데이터\\2.Validation\\라벨링데이터\\07.터미널\\03.터미널_기타소음\n"
     ]
    },
    {
     "name": "stderr",
     "output_type": "stream",
     "text": [
      "Rasampling files in progress: 100%|████████████████████████████| 7142/7142 [00:05<00:00, 1318.22it/s]\n"
     ]
    },
    {
     "name": "stdout",
     "output_type": "stream",
     "text": [
      "Success: 120/7142\n",
      "Processing: ./Saveset\\01.데이터\\2.Validation\\라벨링데이터\\08.공사장\n"
     ]
    },
    {
     "name": "stderr",
     "output_type": "stream",
     "text": [
      "Rasampling files in progress: 0it [00:00, ?it/s]\n"
     ]
    },
    {
     "name": "stdout",
     "output_type": "stream",
     "text": [
      "Success: 0/0\n",
      "Processing: ./Saveset\\01.데이터\\2.Validation\\라벨링데이터\\08.공사장\\01.실외공사장\n"
     ]
    },
    {
     "name": "stderr",
     "output_type": "stream",
     "text": [
      "Rasampling files in progress: 100%|████████████████████████████| 4508/4508 [00:03<00:00, 1342.72it/s]\n"
     ]
    },
    {
     "name": "stdout",
     "output_type": "stream",
     "text": [
      "Success: 120/4508\n",
      "Processing: ./Saveset\\01.데이터\\2.Validation\\라벨링데이터\\08.공사장\\02.실내공사장\n"
     ]
    },
    {
     "name": "stderr",
     "output_type": "stream",
     "text": [
      "Rasampling files in progress: 100%|████████████████████████████| 1606/1606 [00:01<00:00, 1292.23it/s]\n"
     ]
    },
    {
     "name": "stdout",
     "output_type": "stream",
     "text": [
      "Success: 120/1606\n",
      "Processing: ./Saveset\\01.데이터\\2.Validation\\라벨링데이터\\08.공사장\\03.공사장_기타소음\n"
     ]
    },
    {
     "name": "stderr",
     "output_type": "stream",
     "text": [
      "Rasampling files in progress: 100%|████████████████████████████| 3768/3768 [00:02<00:00, 1290.50it/s]\n"
     ]
    },
    {
     "name": "stdout",
     "output_type": "stream",
     "text": [
      "Success: 120/3768\n",
      "Processing: ./Saveset\\01.데이터\\2.Validation\\라벨링데이터\\09.공장\n"
     ]
    },
    {
     "name": "stderr",
     "output_type": "stream",
     "text": [
      "Rasampling files in progress: 0it [00:00, ?it/s]\n"
     ]
    },
    {
     "name": "stdout",
     "output_type": "stream",
     "text": [
      "Success: 0/0\n",
      "Processing: ./Saveset\\01.데이터\\2.Validation\\라벨링데이터\\09.공장\\01.가공공정\n"
     ]
    },
    {
     "name": "stderr",
     "output_type": "stream",
     "text": [
      "Rasampling files in progress: 100%|████████████████████████████| 2110/2110 [00:01<00:00, 1321.32it/s]\n"
     ]
    },
    {
     "name": "stdout",
     "output_type": "stream",
     "text": [
      "Success: 120/2110\n",
      "Processing: ./Saveset\\01.데이터\\2.Validation\\라벨링데이터\\09.공장\\02.조립공정\n"
     ]
    },
    {
     "name": "stderr",
     "output_type": "stream",
     "text": [
      "Rasampling files in progress: 100%|████████████████████████████| 2742/2742 [00:02<00:00, 1263.81it/s]\n"
     ]
    },
    {
     "name": "stdout",
     "output_type": "stream",
     "text": [
      "Success: 120/2742\n",
      "Processing: ./Saveset\\01.데이터\\2.Validation\\라벨링데이터\\09.공장\\03.공장_기타소음\n"
     ]
    },
    {
     "name": "stderr",
     "output_type": "stream",
     "text": [
      "Rasampling files in progress: 100%|████████████████████████████| 9536/9536 [00:07<00:00, 1319.05it/s]\n"
     ]
    },
    {
     "name": "stdout",
     "output_type": "stream",
     "text": [
      "Success: 120/9536\n",
      "Processing: ./Saveset\\01.데이터\\2.Validation\\라벨링데이터\\10.일반자연\n"
     ]
    },
    {
     "name": "stderr",
     "output_type": "stream",
     "text": [
      "Rasampling files in progress: 0it [00:00, ?it/s]\n"
     ]
    },
    {
     "name": "stdout",
     "output_type": "stream",
     "text": [
      "Success: 0/0\n",
      "Processing: ./Saveset\\01.데이터\\2.Validation\\라벨링데이터\\10.일반자연\\01.빗소리\n"
     ]
    },
    {
     "name": "stderr",
     "output_type": "stream",
     "text": [
      "Rasampling files in progress: 100%|██████████████████████████| 10456/10456 [00:08<00:00, 1302.92it/s]\n"
     ]
    },
    {
     "name": "stdout",
     "output_type": "stream",
     "text": [
      "Success: 120/10456\n",
      "Processing: ./Saveset\\01.데이터\\2.Validation\\라벨링데이터\\10.일반자연\\02.파도\n"
     ]
    },
    {
     "name": "stderr",
     "output_type": "stream",
     "text": [
      "Rasampling files in progress: 100%|████████████████████████████| 3760/3760 [00:02<00:00, 1319.07it/s]\n"
     ]
    },
    {
     "name": "stdout",
     "output_type": "stream",
     "text": [
      "Success: 120/3760\n",
      "Processing: ./Saveset\\01.데이터\\2.Validation\\라벨링데이터\\10.일반자연\\03.일반자연_기타소음\n"
     ]
    },
    {
     "name": "stderr",
     "output_type": "stream",
     "text": [
      "Rasampling files in progress: 100%|████████████████████████████| 2078/2078 [00:01<00:00, 1304.54it/s]\n"
     ]
    },
    {
     "name": "stdout",
     "output_type": "stream",
     "text": [
      "Success: 120/2078\n",
      "Processing: ./Saveset\\01.데이터\\2.Validation\\라벨링데이터\\11.복합소음\n"
     ]
    },
    {
     "name": "stderr",
     "output_type": "stream",
     "text": [
      "Rasampling files in progress: 0it [00:00, ?it/s]\n"
     ]
    },
    {
     "name": "stdout",
     "output_type": "stream",
     "text": [
      "Success: 0/0\n",
      "Processing: ./Saveset\\01.데이터\\2.Validation\\라벨링데이터\\11.복합소음\\01.2가지이상소음원\n"
     ]
    },
    {
     "name": "stderr",
     "output_type": "stream",
     "text": [
      "Rasampling files in progress: 100%|██████████████████████████| 26624/26624 [00:19<00:00, 1378.27it/s]\n"
     ]
    },
    {
     "name": "stdout",
     "output_type": "stream",
     "text": [
      "Success: 120/26624\n",
      "Processing: ./Saveset\\01.데이터\\2.Validation\\원천데이터\n"
     ]
    },
    {
     "name": "stderr",
     "output_type": "stream",
     "text": [
      "Rasampling files in progress: 0it [00:00, ?it/s]\n"
     ]
    },
    {
     "name": "stdout",
     "output_type": "stream",
     "text": [
      "Success: 0/0\n",
      "Processing: ./Saveset\\01.데이터\\2.Validation\\원천데이터\\01.가전소음\n"
     ]
    },
    {
     "name": "stderr",
     "output_type": "stream",
     "text": [
      "Rasampling files in progress: 0it [00:00, ?it/s]\n"
     ]
    },
    {
     "name": "stdout",
     "output_type": "stream",
     "text": [
      "Success: 0/0\n",
      "Processing: ./Saveset\\01.데이터\\2.Validation\\원천데이터\\01.가전소음\\01.세탁기,건조기\n"
     ]
    },
    {
     "name": "stderr",
     "output_type": "stream",
     "text": [
      "Rasampling files in progress: 100%|████████████████████████████████████████| 120/120 [00:00<?, ?it/s]\n"
     ]
    },
    {
     "name": "stdout",
     "output_type": "stream",
     "text": [
      "Success: 0/120\n",
      "Processing: ./Saveset\\01.데이터\\2.Validation\\원천데이터\\01.가전소음\\02.청소기\n"
     ]
    },
    {
     "name": "stderr",
     "output_type": "stream",
     "text": [
      "Rasampling files in progress: 100%|████████████████████████████████████████| 120/120 [00:00<?, ?it/s]\n"
     ]
    },
    {
     "name": "stdout",
     "output_type": "stream",
     "text": [
      "Success: 0/120\n",
      "Processing: ./Saveset\\01.데이터\\2.Validation\\원천데이터\\01.가전소음\\03.가전소음_기타소음\n"
     ]
    },
    {
     "name": "stderr",
     "output_type": "stream",
     "text": [
      "Rasampling files in progress: 100%|████████████████████████████████████████| 120/120 [00:00<?, ?it/s]\n"
     ]
    },
    {
     "name": "stdout",
     "output_type": "stream",
     "text": [
      "Success: 0/120\n",
      "Processing: ./Saveset\\01.데이터\\2.Validation\\원천데이터\\02.교통수단\n"
     ]
    },
    {
     "name": "stderr",
     "output_type": "stream",
     "text": [
      "Rasampling files in progress: 0it [00:00, ?it/s]\n"
     ]
    },
    {
     "name": "stdout",
     "output_type": "stream",
     "text": [
      "Success: 0/0\n",
      "Processing: ./Saveset\\01.데이터\\2.Validation\\원천데이터\\02.교통수단\\01.바이크\n"
     ]
    },
    {
     "name": "stderr",
     "output_type": "stream",
     "text": [
      "Rasampling files in progress: 100%|████████████████████████████████████████| 120/120 [00:00<?, ?it/s]\n"
     ]
    },
    {
     "name": "stdout",
     "output_type": "stream",
     "text": [
      "Success: 0/120\n",
      "Processing: ./Saveset\\01.데이터\\2.Validation\\원천데이터\\02.교통수단\\02.싸이렌\n"
     ]
    },
    {
     "name": "stderr",
     "output_type": "stream",
     "text": [
      "Rasampling files in progress: 100%|████████████████████████████████████████| 120/120 [00:00<?, ?it/s]\n"
     ]
    },
    {
     "name": "stdout",
     "output_type": "stream",
     "text": [
      "Success: 0/120\n",
      "Processing: ./Saveset\\01.데이터\\2.Validation\\원천데이터\\02.교통수단\\03.경적\n"
     ]
    },
    {
     "name": "stderr",
     "output_type": "stream",
     "text": [
      "Rasampling files in progress: 100%|████████████████████████████████████████| 120/120 [00:00<?, ?it/s]\n"
     ]
    },
    {
     "name": "stdout",
     "output_type": "stream",
     "text": [
      "Success: 0/120\n",
      "Processing: ./Saveset\\01.데이터\\2.Validation\\원천데이터\\02.교통수단\\04.교통수단_기타소음\n"
     ]
    },
    {
     "name": "stderr",
     "output_type": "stream",
     "text": [
      "Rasampling files in progress: 100%|████████████████████████████████████████| 120/120 [00:00<?, ?it/s]\n"
     ]
    },
    {
     "name": "stdout",
     "output_type": "stream",
     "text": [
      "Success: 0/120\n",
      "Processing: ./Saveset\\01.데이터\\2.Validation\\원천데이터\\03.길거리\n"
     ]
    },
    {
     "name": "stderr",
     "output_type": "stream",
     "text": [
      "Rasampling files in progress: 0it [00:00, ?it/s]\n"
     ]
    },
    {
     "name": "stdout",
     "output_type": "stream",
     "text": [
      "Success: 0/0\n",
      "Processing: ./Saveset\\01.데이터\\2.Validation\\원천데이터\\03.길거리\\01.도로변\n"
     ]
    },
    {
     "name": "stderr",
     "output_type": "stream",
     "text": [
      "Rasampling files in progress: 100%|████████████████████████████████████████| 120/120 [00:00<?, ?it/s]\n"
     ]
    },
    {
     "name": "stdout",
     "output_type": "stream",
     "text": [
      "Success: 0/120\n",
      "Processing: ./Saveset\\01.데이터\\2.Validation\\원천데이터\\03.길거리\\02.인파\n"
     ]
    },
    {
     "name": "stderr",
     "output_type": "stream",
     "text": [
      "Rasampling files in progress: 100%|████████████████████████████████████████| 120/120 [00:00<?, ?it/s]\n"
     ]
    },
    {
     "name": "stdout",
     "output_type": "stream",
     "text": [
      "Success: 0/120\n",
      "Processing: ./Saveset\\01.데이터\\2.Validation\\원천데이터\\03.길거리\\03.길거리_기타소음\n"
     ]
    },
    {
     "name": "stderr",
     "output_type": "stream",
     "text": [
      "Rasampling files in progress: 100%|████████████████████████████████████████| 120/120 [00:00<?, ?it/s]\n"
     ]
    },
    {
     "name": "stdout",
     "output_type": "stream",
     "text": [
      "Success: 0/120\n",
      "Processing: ./Saveset\\01.데이터\\2.Validation\\원천데이터\\04.카페,음식점\n"
     ]
    },
    {
     "name": "stderr",
     "output_type": "stream",
     "text": [
      "Rasampling files in progress: 0it [00:00, ?it/s]\n"
     ]
    },
    {
     "name": "stdout",
     "output_type": "stream",
     "text": [
      "Success: 0/0\n",
      "Processing: ./Saveset\\01.데이터\\2.Validation\\원천데이터\\04.카페,음식점\\01.대화소음\n"
     ]
    },
    {
     "name": "stderr",
     "output_type": "stream",
     "text": [
      "Rasampling files in progress: 100%|████████████████████████████| 120/120 [00:00<00:00, 120439.45it/s]\n"
     ]
    },
    {
     "name": "stdout",
     "output_type": "stream",
     "text": [
      "Success: 0/120\n",
      "Processing: ./Saveset\\01.데이터\\2.Validation\\원천데이터\\04.카페,음식점\\02.업소소음\n"
     ]
    },
    {
     "name": "stderr",
     "output_type": "stream",
     "text": [
      "Rasampling files in progress: 100%|████████████████████████████████████████| 120/120 [00:00<?, ?it/s]\n"
     ]
    },
    {
     "name": "stdout",
     "output_type": "stream",
     "text": [
      "Success: 0/120\n",
      "Processing: ./Saveset\\01.데이터\\2.Validation\\원천데이터\\04.카페,음식점\\03.카페,음식점_기타소음\n"
     ]
    },
    {
     "name": "stderr",
     "output_type": "stream",
     "text": [
      "Rasampling files in progress: 100%|████████████████████████████████████████| 120/120 [00:00<?, ?it/s]\n"
     ]
    },
    {
     "name": "stdout",
     "output_type": "stream",
     "text": [
      "Success: 0/120\n",
      "Processing: ./Saveset\\01.데이터\\2.Validation\\원천데이터\\05.시장,쇼핑몰\n"
     ]
    },
    {
     "name": "stderr",
     "output_type": "stream",
     "text": [
      "Rasampling files in progress: 0it [00:00, ?it/s]\n"
     ]
    },
    {
     "name": "stdout",
     "output_type": "stream",
     "text": [
      "Success: 0/0\n",
      "Processing: ./Saveset\\01.데이터\\2.Validation\\원천데이터\\05.시장,쇼핑몰\\01.전통시장\n"
     ]
    },
    {
     "name": "stderr",
     "output_type": "stream",
     "text": [
      "Rasampling files in progress: 100%|████████████████████████████| 120/120 [00:00<00:00, 120410.64it/s]\n"
     ]
    },
    {
     "name": "stdout",
     "output_type": "stream",
     "text": [
      "Success: 0/120\n",
      "Processing: ./Saveset\\01.데이터\\2.Validation\\원천데이터\\05.시장,쇼핑몰\\02.복합쇼핑몰\n"
     ]
    },
    {
     "name": "stderr",
     "output_type": "stream",
     "text": [
      "Rasampling files in progress: 100%|████████████████████████████████████████| 120/120 [00:00<?, ?it/s]\n"
     ]
    },
    {
     "name": "stdout",
     "output_type": "stream",
     "text": [
      "Success: 0/120\n",
      "Processing: ./Saveset\\01.데이터\\2.Validation\\원천데이터\\05.시장,쇼핑몰\\03.시장,쇼핑몰_기타소음\n"
     ]
    },
    {
     "name": "stderr",
     "output_type": "stream",
     "text": [
      "Rasampling files in progress: 100%|████████████████████████████████████████| 120/120 [00:00<?, ?it/s]\n"
     ]
    },
    {
     "name": "stdout",
     "output_type": "stream",
     "text": [
      "Success: 0/120\n",
      "Processing: ./Saveset\\01.데이터\\2.Validation\\원천데이터\\06.지하철,버스\n"
     ]
    },
    {
     "name": "stderr",
     "output_type": "stream",
     "text": [
      "Rasampling files in progress: 0it [00:00, ?it/s]\n"
     ]
    },
    {
     "name": "stdout",
     "output_type": "stream",
     "text": [
      "Success: 0/0\n",
      "Processing: ./Saveset\\01.데이터\\2.Validation\\원천데이터\\06.지하철,버스\\01.지하철플랫폼\n"
     ]
    },
    {
     "name": "stderr",
     "output_type": "stream",
     "text": [
      "Rasampling files in progress: 100%|████████████████████████████████████████| 120/120 [00:00<?, ?it/s]\n"
     ]
    },
    {
     "name": "stdout",
     "output_type": "stream",
     "text": [
      "Success: 0/120\n",
      "Processing: ./Saveset\\01.데이터\\2.Validation\\원천데이터\\06.지하철,버스\\02.지하철안\n"
     ]
    },
    {
     "name": "stderr",
     "output_type": "stream",
     "text": [
      "Rasampling files in progress: 100%|████████████████████████████████████████| 120/120 [00:00<?, ?it/s]\n"
     ]
    },
    {
     "name": "stdout",
     "output_type": "stream",
     "text": [
      "Success: 0/120\n",
      "Processing: ./Saveset\\01.데이터\\2.Validation\\원천데이터\\06.지하철,버스\\03.기차안\n"
     ]
    },
    {
     "name": "stderr",
     "output_type": "stream",
     "text": [
      "Rasampling files in progress: 100%|████████████████████████████████████████| 120/120 [00:00<?, ?it/s]\n"
     ]
    },
    {
     "name": "stdout",
     "output_type": "stream",
     "text": [
      "Success: 0/120\n",
      "Processing: ./Saveset\\01.데이터\\2.Validation\\원천데이터\\06.지하철,버스\\04.버스안\n"
     ]
    },
    {
     "name": "stderr",
     "output_type": "stream",
     "text": [
      "Rasampling files in progress: 100%|████████████████████████████████████████| 120/120 [00:00<?, ?it/s]\n"
     ]
    },
    {
     "name": "stdout",
     "output_type": "stream",
     "text": [
      "Success: 0/120\n",
      "Processing: ./Saveset\\01.데이터\\2.Validation\\원천데이터\\07.터미널\n"
     ]
    },
    {
     "name": "stderr",
     "output_type": "stream",
     "text": [
      "Rasampling files in progress: 0it [00:00, ?it/s]\n"
     ]
    },
    {
     "name": "stdout",
     "output_type": "stream",
     "text": [
      "Success: 0/0\n",
      "Processing: ./Saveset\\01.데이터\\2.Validation\\원천데이터\\07.터미널\\01.기차역대합실\n"
     ]
    },
    {
     "name": "stderr",
     "output_type": "stream",
     "text": [
      "Rasampling files in progress: 100%|████████████████████████████| 120/120 [00:00<00:00, 120381.84it/s]\n"
     ]
    },
    {
     "name": "stdout",
     "output_type": "stream",
     "text": [
      "Success: 0/120\n",
      "Processing: ./Saveset\\01.데이터\\2.Validation\\원천데이터\\07.터미널\\02.버스터미널대합실\n"
     ]
    },
    {
     "name": "stderr",
     "output_type": "stream",
     "text": [
      "Rasampling files in progress: 100%|████████████████████████████████████████| 120/120 [00:00<?, ?it/s]\n"
     ]
    },
    {
     "name": "stdout",
     "output_type": "stream",
     "text": [
      "Success: 0/120\n",
      "Processing: ./Saveset\\01.데이터\\2.Validation\\원천데이터\\07.터미널\\03.터미널_기타소음\n"
     ]
    },
    {
     "name": "stderr",
     "output_type": "stream",
     "text": [
      "Rasampling files in progress: 100%|████████████████████████████████████████| 120/120 [00:00<?, ?it/s]\n"
     ]
    },
    {
     "name": "stdout",
     "output_type": "stream",
     "text": [
      "Success: 0/120\n",
      "Processing: ./Saveset\\01.데이터\\2.Validation\\원천데이터\\08.공사장\n"
     ]
    },
    {
     "name": "stderr",
     "output_type": "stream",
     "text": [
      "Rasampling files in progress: 0it [00:00, ?it/s]\n"
     ]
    },
    {
     "name": "stdout",
     "output_type": "stream",
     "text": [
      "Success: 0/0\n",
      "Processing: ./Saveset\\01.데이터\\2.Validation\\원천데이터\\08.공사장\\01.실외공사장\n"
     ]
    },
    {
     "name": "stderr",
     "output_type": "stream",
     "text": [
      "Rasampling files in progress: 100%|████████████████████████████████████████| 120/120 [00:00<?, ?it/s]\n"
     ]
    },
    {
     "name": "stdout",
     "output_type": "stream",
     "text": [
      "Success: 0/120\n",
      "Processing: ./Saveset\\01.데이터\\2.Validation\\원천데이터\\08.공사장\\02.실내공사장\n"
     ]
    },
    {
     "name": "stderr",
     "output_type": "stream",
     "text": [
      "Rasampling files in progress: 100%|████████████████████████████████████████| 120/120 [00:00<?, ?it/s]\n"
     ]
    },
    {
     "name": "stdout",
     "output_type": "stream",
     "text": [
      "Success: 0/120\n",
      "Processing: ./Saveset\\01.데이터\\2.Validation\\원천데이터\\08.공사장\\03.공사장_기타소음\n"
     ]
    },
    {
     "name": "stderr",
     "output_type": "stream",
     "text": [
      "Rasampling files in progress: 100%|████████████████████████████████████████| 120/120 [00:00<?, ?it/s]\n"
     ]
    },
    {
     "name": "stdout",
     "output_type": "stream",
     "text": [
      "Success: 0/120\n",
      "Processing: ./Saveset\\01.데이터\\2.Validation\\원천데이터\\09.공장\n"
     ]
    },
    {
     "name": "stderr",
     "output_type": "stream",
     "text": [
      "Rasampling files in progress: 0it [00:00, ?it/s]\n"
     ]
    },
    {
     "name": "stdout",
     "output_type": "stream",
     "text": [
      "Success: 0/0\n",
      "Processing: ./Saveset\\01.데이터\\2.Validation\\원천데이터\\09.공장\\01.가공공정\n"
     ]
    },
    {
     "name": "stderr",
     "output_type": "stream",
     "text": [
      "Rasampling files in progress: 100%|████████████████████████████| 120/120 [00:00<00:00, 120410.64it/s]\n"
     ]
    },
    {
     "name": "stdout",
     "output_type": "stream",
     "text": [
      "Success: 0/120\n",
      "Processing: ./Saveset\\01.데이터\\2.Validation\\원천데이터\\09.공장\\02.조립공정\n"
     ]
    },
    {
     "name": "stderr",
     "output_type": "stream",
     "text": [
      "Rasampling files in progress: 100%|████████████████████████████████████████| 120/120 [00:00<?, ?it/s]\n"
     ]
    },
    {
     "name": "stdout",
     "output_type": "stream",
     "text": [
      "Success: 0/120\n",
      "Processing: ./Saveset\\01.데이터\\2.Validation\\원천데이터\\09.공장\\03.공장_기타소음\n"
     ]
    },
    {
     "name": "stderr",
     "output_type": "stream",
     "text": [
      "Rasampling files in progress: 100%|████████████████████████████████████████| 120/120 [00:00<?, ?it/s]\n"
     ]
    },
    {
     "name": "stdout",
     "output_type": "stream",
     "text": [
      "Success: 0/120\n",
      "Processing: ./Saveset\\01.데이터\\2.Validation\\원천데이터\\10.일반자연\n"
     ]
    },
    {
     "name": "stderr",
     "output_type": "stream",
     "text": [
      "Rasampling files in progress: 0it [00:00, ?it/s]\n"
     ]
    },
    {
     "name": "stdout",
     "output_type": "stream",
     "text": [
      "Success: 0/0\n",
      "Processing: ./Saveset\\01.데이터\\2.Validation\\원천데이터\\10.일반자연\\01.빗소리\n"
     ]
    },
    {
     "name": "stderr",
     "output_type": "stream",
     "text": [
      "Rasampling files in progress: 100%|████████████████████████████████████████| 120/120 [00:00<?, ?it/s]\n"
     ]
    },
    {
     "name": "stdout",
     "output_type": "stream",
     "text": [
      "Success: 0/120\n",
      "Processing: ./Saveset\\01.데이터\\2.Validation\\원천데이터\\10.일반자연\\02.파도\n"
     ]
    },
    {
     "name": "stderr",
     "output_type": "stream",
     "text": [
      "Rasampling files in progress: 100%|████████████████████████████████████████| 120/120 [00:00<?, ?it/s]\n"
     ]
    },
    {
     "name": "stdout",
     "output_type": "stream",
     "text": [
      "Success: 0/120\n",
      "Processing: ./Saveset\\01.데이터\\2.Validation\\원천데이터\\10.일반자연\\03.일반자연_기타소음\n"
     ]
    },
    {
     "name": "stderr",
     "output_type": "stream",
     "text": [
      "Rasampling files in progress: 100%|████████████████████████████████████████| 120/120 [00:00<?, ?it/s]\n"
     ]
    },
    {
     "name": "stdout",
     "output_type": "stream",
     "text": [
      "Success: 0/120\n",
      "Processing: ./Saveset\\01.데이터\\2.Validation\\원천데이터\\11.복합소음\n"
     ]
    },
    {
     "name": "stderr",
     "output_type": "stream",
     "text": [
      "Rasampling files in progress: 0it [00:00, ?it/s]\n"
     ]
    },
    {
     "name": "stdout",
     "output_type": "stream",
     "text": [
      "Success: 0/0\n",
      "Processing: ./Saveset\\01.데이터\\2.Validation\\원천데이터\\11.복합소음\\01.2가지이상소음원\n"
     ]
    },
    {
     "name": "stderr",
     "output_type": "stream",
     "text": [
      "Rasampling files in progress: 100%|████████████████████████████████████████| 120/120 [00:00<?, ?it/s]"
     ]
    },
    {
     "name": "stdout",
     "output_type": "stream",
     "text": [
      "Success: 0/120\n",
      "Done!\n"
     ]
    },
    {
     "name": "stderr",
     "output_type": "stream",
     "text": [
      "\n"
     ]
    }
   ],
   "source": [
    "root_directory = \"./Saveset\"\n",
    "wav_filepath_list, text_list = list_files_and_directories(root_directory)"
   ]
  },
  {
   "cell_type": "code",
   "execution_count": 6,
   "id": "d5599286-fdcd-4f42-abdc-8c83a2aab087",
   "metadata": {},
   "outputs": [],
   "source": [
    "import pandas as pd\n",
    "\n",
    "# Data\n",
    "data = {\n",
    "    'file_name': wav_filepath_list,\n",
    "    'text': text_list\n",
    "}\n",
    "\n",
    "# Dataframe\n",
    "df = pd.DataFrame(data)\n",
    "\n",
    "# Save CSV file\n",
    "df.to_csv('./Saveset/metadata.csv', index=False)"
   ]
  },
  {
   "cell_type": "code",
   "execution_count": 7,
   "id": "36de7e45-497b-4b1f-9baf-f14a4f4d4353",
   "metadata": {},
   "outputs": [
    {
     "data": {
      "text/html": [
       "<div>\n",
       "<style scoped>\n",
       "    .dataframe tbody tr th:only-of-type {\n",
       "        vertical-align: middle;\n",
       "    }\n",
       "\n",
       "    .dataframe tbody tr th {\n",
       "        vertical-align: top;\n",
       "    }\n",
       "\n",
       "    .dataframe thead th {\n",
       "        text-align: right;\n",
       "    }\n",
       "</style>\n",
       "<table border=\"1\" class=\"dataframe\">\n",
       "  <thead>\n",
       "    <tr style=\"text-align: right;\">\n",
       "      <th></th>\n",
       "      <th>file_name</th>\n",
       "      <th>text</th>\n",
       "    </tr>\n",
       "  </thead>\n",
       "  <tbody>\n",
       "    <tr>\n",
       "      <th>0</th>\n",
       "      <td>01.데이터\\2.Validation\\원천데이터\\01.가전소음\\01.세탁기,건조기\\0...</td>\n",
       "      <td>맞아. 이제 돈도 많은 사람으로 오해할 수도 있잖아.그 여자분은. 우리도 가끔 고 ...</td>\n",
       "    </tr>\n",
       "    <tr>\n",
       "      <th>1</th>\n",
       "      <td>01.데이터\\2.Validation\\원천데이터\\01.가전소음\\01.세탁기,건조기\\0...</td>\n",
       "      <td>나도 우리 오빠가 여자 안 좋아하는 줄 알았거든. 나 그래서 거짓말 안 치고 오빠한...</td>\n",
       "    </tr>\n",
       "    <tr>\n",
       "      <th>2</th>\n",
       "      <td>01.데이터\\2.Validation\\원천데이터\\01.가전소음\\01.세탁기,건조기\\0...</td>\n",
       "      <td>그러면 학창 시절에는 어땠어요?</td>\n",
       "    </tr>\n",
       "    <tr>\n",
       "      <th>3</th>\n",
       "      <td>01.데이터\\2.Validation\\원천데이터\\01.가전소음\\01.세탁기,건조기\\0...</td>\n",
       "      <td>제가 너무 많은 걸 생각하느라 생각이 조금 말이 잘못 나왔네요. 제가 허세 부렸을 ...</td>\n",
       "    </tr>\n",
       "    <tr>\n",
       "      <th>4</th>\n",
       "      <td>01.데이터\\2.Validation\\원천데이터\\01.가전소음\\01.세탁기,건조기\\0...</td>\n",
       "      <td>눈뽕 감사합니다.</td>\n",
       "    </tr>\n",
       "    <tr>\n",
       "      <th>...</th>\n",
       "      <td>...</td>\n",
       "      <td>...</td>\n",
       "    </tr>\n",
       "    <tr>\n",
       "      <th>3955</th>\n",
       "      <td>01.데이터\\2.Validation\\원천데이터\\11.복합소음\\01.2가지이상소음원\\...</td>\n",
       "      <td>저는 레모네이드가 좋아요.</td>\n",
       "    </tr>\n",
       "    <tr>\n",
       "      <th>3956</th>\n",
       "      <td>01.데이터\\2.Validation\\원천데이터\\11.복합소음\\01.2가지이상소음원\\...</td>\n",
       "      <td>느낌 많이 다르지. 근데 걔네도 그 안에서 뭔가 좀 외로움을 느껴야 다음에 좀 더 ...</td>\n",
       "    </tr>\n",
       "    <tr>\n",
       "      <th>3957</th>\n",
       "      <td>01.데이터\\2.Validation\\원천데이터\\11.복합소음\\01.2가지이상소음원\\...</td>\n",
       "      <td>노년은 오히려 일생에서 단 한 번만 겪는 일이 아닌가.</td>\n",
       "    </tr>\n",
       "    <tr>\n",
       "      <th>3958</th>\n",
       "      <td>01.데이터\\2.Validation\\원천데이터\\11.복합소음\\01.2가지이상소음원\\...</td>\n",
       "      <td>사실은 그 불꽃 축제라고 하는 것이 처음에는 뭐 그렇게 인기가 있었나요. 어디 별로...</td>\n",
       "    </tr>\n",
       "    <tr>\n",
       "      <th>3959</th>\n",
       "      <td>01.데이터\\2.Validation\\원천데이터\\11.복합소음\\01.2가지이상소음원\\...</td>\n",
       "      <td>가맹점 단합대회니까.</td>\n",
       "    </tr>\n",
       "  </tbody>\n",
       "</table>\n",
       "<p>3960 rows × 2 columns</p>\n",
       "</div>"
      ],
      "text/plain": [
       "                                              file_name  \\\n",
       "0     01.데이터\\2.Validation\\원천데이터\\01.가전소음\\01.세탁기,건조기\\0...   \n",
       "1     01.데이터\\2.Validation\\원천데이터\\01.가전소음\\01.세탁기,건조기\\0...   \n",
       "2     01.데이터\\2.Validation\\원천데이터\\01.가전소음\\01.세탁기,건조기\\0...   \n",
       "3     01.데이터\\2.Validation\\원천데이터\\01.가전소음\\01.세탁기,건조기\\0...   \n",
       "4     01.데이터\\2.Validation\\원천데이터\\01.가전소음\\01.세탁기,건조기\\0...   \n",
       "...                                                 ...   \n",
       "3955  01.데이터\\2.Validation\\원천데이터\\11.복합소음\\01.2가지이상소음원\\...   \n",
       "3956  01.데이터\\2.Validation\\원천데이터\\11.복합소음\\01.2가지이상소음원\\...   \n",
       "3957  01.데이터\\2.Validation\\원천데이터\\11.복합소음\\01.2가지이상소음원\\...   \n",
       "3958  01.데이터\\2.Validation\\원천데이터\\11.복합소음\\01.2가지이상소음원\\...   \n",
       "3959  01.데이터\\2.Validation\\원천데이터\\11.복합소음\\01.2가지이상소음원\\...   \n",
       "\n",
       "                                                   text  \n",
       "0     맞아. 이제 돈도 많은 사람으로 오해할 수도 있잖아.그 여자분은. 우리도 가끔 고 ...  \n",
       "1     나도 우리 오빠가 여자 안 좋아하는 줄 알았거든. 나 그래서 거짓말 안 치고 오빠한...  \n",
       "2                                     그러면 학창 시절에는 어땠어요?  \n",
       "3     제가 너무 많은 걸 생각하느라 생각이 조금 말이 잘못 나왔네요. 제가 허세 부렸을 ...  \n",
       "4                                             눈뽕 감사합니다.  \n",
       "...                                                 ...  \n",
       "3955                                     저는 레모네이드가 좋아요.  \n",
       "3956  느낌 많이 다르지. 근데 걔네도 그 안에서 뭔가 좀 외로움을 느껴야 다음에 좀 더 ...  \n",
       "3957                     노년은 오히려 일생에서 단 한 번만 겪는 일이 아닌가.  \n",
       "3958  사실은 그 불꽃 축제라고 하는 것이 처음에는 뭐 그렇게 인기가 있었나요. 어디 별로...  \n",
       "3959                                        가맹점 단합대회니까.  \n",
       "\n",
       "[3960 rows x 2 columns]"
      ]
     },
     "execution_count": 7,
     "metadata": {},
     "output_type": "execute_result"
    }
   ],
   "source": [
    "df"
   ]
  },
  {
   "cell_type": "code",
   "execution_count": 1,
   "id": "afc4f7b9-74bd-481f-98d7-79ee8b918bb0",
   "metadata": {},
   "outputs": [],
   "source": [
    "import os\n",
    "import librosa\n",
    "import shutil\n",
    "import random\n",
    "from tqdm import tqdm\n",
    "\n",
    "def is_json(filename):\n",
    "    return filename[-4:] == 'json'\n",
    "    \n",
    "def is_wav(filename):\n",
    "    return filename[-3:] == 'wav'\n",
    "\n",
    "def denoising(root_dir, save_dir):\n",
    "    len_root_dir = len(root_dir)\n",
    "    for dirpath, dirnames, filenames in os.walk(root_dir):\n",
    "        print(\"Processing:\", dirpath)\n",
    "        num_files = len(filenames)\n",
    "        with tqdm(total=num_files, desc=\"Denoising\") as pbar:\n",
    "            for filename in filenames:\n",
    "                filepath = os.path.join(dirpath, filename)\n",
    "                newpath = filepath.replace(root_dir, save_dir)\n",
    "                directory, _ = os.path.split(newpath)\n",
    "                if not os.path.exists(directory):\n",
    "                    os.makedirs(directory)\n",
    "                if is_wav(filename):\n",
    "                    # 파일 경로를 포맷팅하여 명령어 문자열을 생성\n",
    "                    command = f\"python ./noise-reduction-master/denoise.py --model=./noise-reduction-master/models/tscn --noisy={filepath} --denoise={newpath}\"\n",
    "\n",
    "                    # 명령어 실행\n",
    "                    exit_code = os.system(command)\n",
    "                    \n",
    "                    # 종료 코드 확인\n",
    "                    if exit_code != 0:\n",
    "                        print(f\"Error: [Errno {exit_code}]\")\n",
    "                    \n",
    "                #elif is_json(filename):\n",
    "                #    shutil.copy(filepath, newpath)\n",
    "                pbar.update(1)\n",
    "    print(\"Done!\")"
   ]
  },
  {
   "cell_type": "code",
   "execution_count": 2,
   "id": "4d92bfea-2b89-4b07-9bd6-ec354ea14470",
   "metadata": {},
   "outputs": [
    {
     "name": "stdout",
     "output_type": "stream",
     "text": [
      "Processing: ./Dataset/01.데이터/2.Validation/원천데이터\n"
     ]
    },
    {
     "name": "stderr",
     "output_type": "stream",
     "text": [
      "Denoising: 0it [00:00, ?it/s]\n"
     ]
    },
    {
     "name": "stdout",
     "output_type": "stream",
     "text": [
      "Processing: ./Dataset/01.데이터/2.Validation/원천데이터\\01.가전소음\n"
     ]
    },
    {
     "name": "stderr",
     "output_type": "stream",
     "text": [
      "Denoising: 0it [00:00, ?it/s]\n"
     ]
    },
    {
     "name": "stdout",
     "output_type": "stream",
     "text": [
      "Processing: ./Dataset/01.데이터/2.Validation/원천데이터\\01.가전소음\\01.세탁기,건조기\n"
     ]
    },
    {
     "name": "stderr",
     "output_type": "stream",
     "text": [
      "Denoising: 100%|█████████████████████████████████████████████████████████████████| 1000/1000 [2:07:58<00:00,  7.68s/it]\n"
     ]
    },
    {
     "name": "stdout",
     "output_type": "stream",
     "text": [
      "Processing: ./Dataset/01.데이터/2.Validation/원천데이터\\01.가전소음\\02.청소기\n"
     ]
    },
    {
     "name": "stderr",
     "output_type": "stream",
     "text": [
      "Denoising: 100%|███████████████████████████████████████████████| 1000/1000 [1:57:34<00:00,  7.05s/it]\n"
     ]
    },
    {
     "name": "stdout",
     "output_type": "stream",
     "text": [
      "Processing: ./Dataset/01.데이터/2.Validation/원천데이터\\01.가전소음\\03.가전소음_기타소음\n"
     ]
    },
    {
     "name": "stderr",
     "output_type": "stream",
     "text": [
      "Denoising: 100%|███████████████████████████████████████████████| 1000/1000 [1:57:46<00:00,  7.07s/it]\n"
     ]
    },
    {
     "name": "stdout",
     "output_type": "stream",
     "text": [
      "Processing: ./Dataset/01.데이터/2.Validation/원천데이터\\02.교통수단\n"
     ]
    },
    {
     "name": "stderr",
     "output_type": "stream",
     "text": [
      "Denoising: 0it [00:00, ?it/s]\n"
     ]
    },
    {
     "name": "stdout",
     "output_type": "stream",
     "text": [
      "Processing: ./Dataset/01.데이터/2.Validation/원천데이터\\02.교통수단\\01.바이크\n"
     ]
    },
    {
     "name": "stderr",
     "output_type": "stream",
     "text": [
      "Denoising: 100%|███████████████████████████████████████████████| 1000/1000 [1:57:32<00:00,  7.05s/it]\n"
     ]
    },
    {
     "name": "stdout",
     "output_type": "stream",
     "text": [
      "Processing: ./Dataset/01.데이터/2.Validation/원천데이터\\02.교통수단\\02.싸이렌\n"
     ]
    },
    {
     "name": "stderr",
     "output_type": "stream",
     "text": [
      "Denoising: 100%|███████████████████████████████████████████████| 1000/1000 [1:57:25<00:00,  7.05s/it]\n"
     ]
    },
    {
     "name": "stdout",
     "output_type": "stream",
     "text": [
      "Processing: ./Dataset/01.데이터/2.Validation/원천데이터\\02.교통수단\\03.경적\n"
     ]
    },
    {
     "name": "stderr",
     "output_type": "stream",
     "text": [
      "Denoising: 100%|███████████████████████████████████████████████| 1000/1000 [1:57:25<00:00,  7.05s/it]\n"
     ]
    },
    {
     "name": "stdout",
     "output_type": "stream",
     "text": [
      "Processing: ./Dataset/01.데이터/2.Validation/원천데이터\\02.교통수단\\04.교통수단_기타소음\n"
     ]
    },
    {
     "name": "stderr",
     "output_type": "stream",
     "text": [
      "Denoising: 100%|███████████████████████████████████████████████| 1000/1000 [2:00:30<00:00,  7.23s/it]\n"
     ]
    },
    {
     "name": "stdout",
     "output_type": "stream",
     "text": [
      "Processing: ./Dataset/01.데이터/2.Validation/원천데이터\\03.길거리\n"
     ]
    },
    {
     "name": "stderr",
     "output_type": "stream",
     "text": [
      "Denoising: 0it [00:00, ?it/s]\n"
     ]
    },
    {
     "name": "stdout",
     "output_type": "stream",
     "text": [
      "Processing: ./Dataset/01.데이터/2.Validation/원천데이터\\03.길거리\\01.도로변\n"
     ]
    },
    {
     "name": "stderr",
     "output_type": "stream",
     "text": [
      "Denoising: 100%|███████████████████████████████████████████████| 1000/1000 [1:58:29<00:00,  7.11s/it]\n"
     ]
    },
    {
     "name": "stdout",
     "output_type": "stream",
     "text": [
      "Processing: ./Dataset/01.데이터/2.Validation/원천데이터\\03.길거리\\02.인파\n"
     ]
    },
    {
     "name": "stderr",
     "output_type": "stream",
     "text": [
      "Denoising: 100%|███████████████████████████████████████████████| 1000/1000 [1:57:22<00:00,  7.04s/it]\n"
     ]
    },
    {
     "name": "stdout",
     "output_type": "stream",
     "text": [
      "Processing: ./Dataset/01.데이터/2.Validation/원천데이터\\03.길거리\\03.길거리_기타소음\n"
     ]
    },
    {
     "name": "stderr",
     "output_type": "stream",
     "text": [
      "Denoising: 100%|███████████████████████████████████████████████| 1000/1000 [1:57:53<00:00,  7.07s/it]\n"
     ]
    },
    {
     "name": "stdout",
     "output_type": "stream",
     "text": [
      "Processing: ./Dataset/01.데이터/2.Validation/원천데이터\\04.카페,음식점\n"
     ]
    },
    {
     "name": "stderr",
     "output_type": "stream",
     "text": [
      "Denoising: 0it [00:00, ?it/s]\n"
     ]
    },
    {
     "name": "stdout",
     "output_type": "stream",
     "text": [
      "Processing: ./Dataset/01.데이터/2.Validation/원천데이터\\04.카페,음식점\\01.대화소음\n"
     ]
    },
    {
     "name": "stderr",
     "output_type": "stream",
     "text": [
      "Denoising: 100%|███████████████████████████████████████████████| 1000/1000 [1:57:59<00:00,  7.08s/it]\n"
     ]
    },
    {
     "name": "stdout",
     "output_type": "stream",
     "text": [
      "Processing: ./Dataset/01.데이터/2.Validation/원천데이터\\04.카페,음식점\\02.업소소음\n"
     ]
    },
    {
     "name": "stderr",
     "output_type": "stream",
     "text": [
      "Denoising: 100%|███████████████████████████████████████████████| 1000/1000 [1:58:15<00:00,  7.10s/it]\n"
     ]
    },
    {
     "name": "stdout",
     "output_type": "stream",
     "text": [
      "Processing: ./Dataset/01.데이터/2.Validation/원천데이터\\04.카페,음식점\\03.카페,음식점_기타소음\n"
     ]
    },
    {
     "name": "stderr",
     "output_type": "stream",
     "text": [
      "Denoising: 100%|███████████████████████████████████████████████| 1000/1000 [1:58:52<00:00,  7.13s/it]\n"
     ]
    },
    {
     "name": "stdout",
     "output_type": "stream",
     "text": [
      "Processing: ./Dataset/01.데이터/2.Validation/원천데이터\\05.시장,쇼핑몰\n"
     ]
    },
    {
     "name": "stderr",
     "output_type": "stream",
     "text": [
      "Denoising: 0it [00:00, ?it/s]\n"
     ]
    },
    {
     "name": "stdout",
     "output_type": "stream",
     "text": [
      "Processing: ./Dataset/01.데이터/2.Validation/원천데이터\\05.시장,쇼핑몰\\01.전통시장\n"
     ]
    },
    {
     "name": "stderr",
     "output_type": "stream",
     "text": [
      "Denoising: 100%|███████████████████████████████████████████████| 1000/1000 [2:00:10<00:00,  7.21s/it]\n"
     ]
    },
    {
     "name": "stdout",
     "output_type": "stream",
     "text": [
      "Processing: ./Dataset/01.데이터/2.Validation/원천데이터\\05.시장,쇼핑몰\\02.복합쇼핑몰\n"
     ]
    },
    {
     "name": "stderr",
     "output_type": "stream",
     "text": [
      "Denoising: 100%|███████████████████████████████████████████████| 1000/1000 [2:03:08<00:00,  7.39s/it]\n"
     ]
    },
    {
     "name": "stdout",
     "output_type": "stream",
     "text": [
      "Processing: ./Dataset/01.데이터/2.Validation/원천데이터\\05.시장,쇼핑몰\\03.시장,쇼핑몰_기타소음\n"
     ]
    },
    {
     "name": "stderr",
     "output_type": "stream",
     "text": [
      "Denoising: 100%|███████████████████████████████████████████████| 1000/1000 [2:04:20<00:00,  7.46s/it]\n"
     ]
    },
    {
     "name": "stdout",
     "output_type": "stream",
     "text": [
      "Processing: ./Dataset/01.데이터/2.Validation/원천데이터\\06.지하철,버스\n"
     ]
    },
    {
     "name": "stderr",
     "output_type": "stream",
     "text": [
      "Denoising: 0it [00:00, ?it/s]\n"
     ]
    },
    {
     "name": "stdout",
     "output_type": "stream",
     "text": [
      "Processing: ./Dataset/01.데이터/2.Validation/원천데이터\\06.지하철,버스\\01.지하철플랫폼\n"
     ]
    },
    {
     "name": "stderr",
     "output_type": "stream",
     "text": [
      "Denoising: 100%|███████████████████████████████████████████████| 1000/1000 [2:01:53<00:00,  7.31s/it]\n"
     ]
    },
    {
     "name": "stdout",
     "output_type": "stream",
     "text": [
      "Processing: ./Dataset/01.데이터/2.Validation/원천데이터\\06.지하철,버스\\02.지하철안\n"
     ]
    },
    {
     "name": "stderr",
     "output_type": "stream",
     "text": [
      "Denoising: 100%|███████████████████████████████████████████████| 1000/1000 [2:02:17<00:00,  7.34s/it]\n"
     ]
    },
    {
     "name": "stdout",
     "output_type": "stream",
     "text": [
      "Processing: ./Dataset/01.데이터/2.Validation/원천데이터\\06.지하철,버스\\03.기차안\n"
     ]
    },
    {
     "name": "stderr",
     "output_type": "stream",
     "text": [
      "Denoising: 100%|███████████████████████████████████████████████| 1000/1000 [2:04:37<00:00,  7.48s/it]\n"
     ]
    },
    {
     "name": "stdout",
     "output_type": "stream",
     "text": [
      "Processing: ./Dataset/01.데이터/2.Validation/원천데이터\\06.지하철,버스\\04.버스안\n"
     ]
    },
    {
     "name": "stderr",
     "output_type": "stream",
     "text": [
      "Denoising: 100%|███████████████████████████████████████████████| 1000/1000 [2:02:35<00:00,  7.36s/it]\n"
     ]
    },
    {
     "name": "stdout",
     "output_type": "stream",
     "text": [
      "Processing: ./Dataset/01.데이터/2.Validation/원천데이터\\07.터미널\n"
     ]
    },
    {
     "name": "stderr",
     "output_type": "stream",
     "text": [
      "Denoising: 0it [00:00, ?it/s]\n"
     ]
    },
    {
     "name": "stdout",
     "output_type": "stream",
     "text": [
      "Processing: ./Dataset/01.데이터/2.Validation/원천데이터\\07.터미널\\01.기차역대합실\n"
     ]
    },
    {
     "name": "stderr",
     "output_type": "stream",
     "text": [
      "Denoising: 100%|███████████████████████████████████████████████| 1000/1000 [2:01:00<00:00,  7.26s/it]\n"
     ]
    },
    {
     "name": "stdout",
     "output_type": "stream",
     "text": [
      "Processing: ./Dataset/01.데이터/2.Validation/원천데이터\\07.터미널\\02.버스터미널대합실\n"
     ]
    },
    {
     "name": "stderr",
     "output_type": "stream",
     "text": [
      "Denoising: 100%|███████████████████████████████████████████████| 1000/1000 [2:01:10<00:00,  7.27s/it]\n"
     ]
    },
    {
     "name": "stdout",
     "output_type": "stream",
     "text": [
      "Processing: ./Dataset/01.데이터/2.Validation/원천데이터\\07.터미널\\03.터미널_기타소음\n"
     ]
    },
    {
     "name": "stderr",
     "output_type": "stream",
     "text": [
      "Denoising: 100%|███████████████████████████████████████████████| 1000/1000 [2:01:23<00:00,  7.28s/it]\n"
     ]
    },
    {
     "name": "stdout",
     "output_type": "stream",
     "text": [
      "Processing: ./Dataset/01.데이터/2.Validation/원천데이터\\08.공사장\n"
     ]
    },
    {
     "name": "stderr",
     "output_type": "stream",
     "text": [
      "Denoising: 0it [00:00, ?it/s]\n"
     ]
    },
    {
     "name": "stdout",
     "output_type": "stream",
     "text": [
      "Processing: ./Dataset/01.데이터/2.Validation/원천데이터\\08.공사장\\01.실외공사장\n"
     ]
    },
    {
     "name": "stderr",
     "output_type": "stream",
     "text": [
      "Denoising: 100%|███████████████████████████████████████████████| 1000/1000 [2:01:00<00:00,  7.26s/it]\n"
     ]
    },
    {
     "name": "stdout",
     "output_type": "stream",
     "text": [
      "Processing: ./Dataset/01.데이터/2.Validation/원천데이터\\08.공사장\\02.실내공사장\n"
     ]
    },
    {
     "name": "stderr",
     "output_type": "stream",
     "text": [
      "Denoising: 100%|███████████████████████████████████████████████| 1000/1000 [2:03:32<00:00,  7.41s/it]\n"
     ]
    },
    {
     "name": "stdout",
     "output_type": "stream",
     "text": [
      "Processing: ./Dataset/01.데이터/2.Validation/원천데이터\\08.공사장\\03.공사장_기타소음\n"
     ]
    },
    {
     "name": "stderr",
     "output_type": "stream",
     "text": [
      "Denoising: 100%|███████████████████████████████████████████████| 1000/1000 [2:03:32<00:00,  7.41s/it]\n"
     ]
    },
    {
     "name": "stdout",
     "output_type": "stream",
     "text": [
      "Processing: ./Dataset/01.데이터/2.Validation/원천데이터\\09.공장\n"
     ]
    },
    {
     "name": "stderr",
     "output_type": "stream",
     "text": [
      "Denoising: 0it [00:00, ?it/s]\n"
     ]
    },
    {
     "name": "stdout",
     "output_type": "stream",
     "text": [
      "Processing: ./Dataset/01.데이터/2.Validation/원천데이터\\09.공장\\01.가공공정\n"
     ]
    },
    {
     "name": "stderr",
     "output_type": "stream",
     "text": [
      "Denoising: 100%|███████████████████████████████████████████████| 1000/1000 [2:00:54<00:00,  7.25s/it]\n"
     ]
    },
    {
     "name": "stdout",
     "output_type": "stream",
     "text": [
      "Processing: ./Dataset/01.데이터/2.Validation/원천데이터\\09.공장\\02.조립공정\n"
     ]
    },
    {
     "name": "stderr",
     "output_type": "stream",
     "text": [
      "Denoising: 100%|███████████████████████████████████████████████| 1000/1000 [2:00:26<00:00,  7.23s/it]\n"
     ]
    },
    {
     "name": "stdout",
     "output_type": "stream",
     "text": [
      "Processing: ./Dataset/01.데이터/2.Validation/원천데이터\\09.공장\\03.공장_기타소음\n"
     ]
    },
    {
     "name": "stderr",
     "output_type": "stream",
     "text": [
      "Denoising: 100%|███████████████████████████████████████████████| 1000/1000 [2:01:06<00:00,  7.27s/it]\n"
     ]
    },
    {
     "name": "stdout",
     "output_type": "stream",
     "text": [
      "Processing: ./Dataset/01.데이터/2.Validation/원천데이터\\10.일반자연\n"
     ]
    },
    {
     "name": "stderr",
     "output_type": "stream",
     "text": [
      "Denoising: 0it [00:00, ?it/s]\n"
     ]
    },
    {
     "name": "stdout",
     "output_type": "stream",
     "text": [
      "Processing: ./Dataset/01.데이터/2.Validation/원천데이터\\10.일반자연\\01.빗소리\n"
     ]
    },
    {
     "name": "stderr",
     "output_type": "stream",
     "text": [
      "Denoising: 100%|███████████████████████████████████████████████| 1000/1000 [2:01:46<00:00,  7.31s/it]\n"
     ]
    },
    {
     "name": "stdout",
     "output_type": "stream",
     "text": [
      "Processing: ./Dataset/01.데이터/2.Validation/원천데이터\\10.일반자연\\02.파도\n"
     ]
    },
    {
     "name": "stderr",
     "output_type": "stream",
     "text": [
      "Denoising: 100%|███████████████████████████████████████████████| 1000/1000 [2:04:03<00:00,  7.44s/it]\n"
     ]
    },
    {
     "name": "stdout",
     "output_type": "stream",
     "text": [
      "Processing: ./Dataset/01.데이터/2.Validation/원천데이터\\10.일반자연\\03.일반자연_기타소음\n"
     ]
    },
    {
     "name": "stderr",
     "output_type": "stream",
     "text": [
      "Denoising: 100%|███████████████████████████████████████████████| 1000/1000 [2:04:56<00:00,  7.50s/it]\n"
     ]
    },
    {
     "name": "stdout",
     "output_type": "stream",
     "text": [
      "Processing: ./Dataset/01.데이터/2.Validation/원천데이터\\11.복합소음\n"
     ]
    },
    {
     "name": "stderr",
     "output_type": "stream",
     "text": [
      "Denoising: 0it [00:00, ?it/s]\n"
     ]
    },
    {
     "name": "stdout",
     "output_type": "stream",
     "text": [
      "Processing: ./Dataset/01.데이터/2.Validation/원천데이터\\11.복합소음\\01.2가지이상소음원\n"
     ]
    },
    {
     "name": "stderr",
     "output_type": "stream",
     "text": [
      "Denoising: 100%|███████████████████████████████████████████████| 3000/3000 [6:13:00<00:00,  7.46s/it]"
     ]
    },
    {
     "name": "stdout",
     "output_type": "stream",
     "text": [
      "Done!\n"
     ]
    },
    {
     "name": "stderr",
     "output_type": "stream",
     "text": [
      "\n"
     ]
    }
   ],
   "source": [
    "denoising(\"./Dataset/01.데이터/2.Validation/원천데이터\", \"./Saveset/01.데이터/2.Validation/원천데이터\")"
   ]
  },
  {
   "cell_type": "code",
   "execution_count": 8,
   "id": "9d4252fb-e414-4768-bf20-a2fce74eaa75",
   "metadata": {},
   "outputs": [
    {
     "name": "stdout",
     "output_type": "stream",
     "text": [
      "Processing: ./Saveset\n"
     ]
    },
    {
     "name": "stderr",
     "output_type": "stream",
     "text": [
      "Rasampling files in progress: 100%|████████████████████████████████████████████| 1/1 [00:00<?, ?it/s]\n"
     ]
    },
    {
     "name": "stdout",
     "output_type": "stream",
     "text": [
      "Success: 0/1\n",
      "Processing: ./Saveset\\01.데이터\n"
     ]
    },
    {
     "name": "stderr",
     "output_type": "stream",
     "text": [
      "Rasampling files in progress: 0it [00:00, ?it/s]\n"
     ]
    },
    {
     "name": "stdout",
     "output_type": "stream",
     "text": [
      "Success: 0/0\n",
      "Processing: ./Saveset\\01.데이터\\2.Validation\n"
     ]
    },
    {
     "name": "stderr",
     "output_type": "stream",
     "text": [
      "Rasampling files in progress: 0it [00:00, ?it/s]\n"
     ]
    },
    {
     "name": "stdout",
     "output_type": "stream",
     "text": [
      "Success: 0/0\n",
      "Processing: ./Saveset\\01.데이터\\2.Validation\\라벨링데이터\n"
     ]
    },
    {
     "name": "stderr",
     "output_type": "stream",
     "text": [
      "Rasampling files in progress: 0it [00:00, ?it/s]\n"
     ]
    },
    {
     "name": "stdout",
     "output_type": "stream",
     "text": [
      "Success: 0/0\n",
      "Processing: ./Saveset\\01.데이터\\2.Validation\\라벨링데이터\\01.가전소음\n"
     ]
    },
    {
     "name": "stderr",
     "output_type": "stream",
     "text": [
      "Rasampling files in progress: 0it [00:00, ?it/s]"
     ]
    },
    {
     "name": "stdout",
     "output_type": "stream",
     "text": [
      "Success: 0/0\n"
     ]
    },
    {
     "name": "stderr",
     "output_type": "stream",
     "text": [
      "\n"
     ]
    },
    {
     "name": "stdout",
     "output_type": "stream",
     "text": [
      "Processing: ./Saveset\\01.데이터\\2.Validation\\라벨링데이터\\01.가전소음\\01.세탁기,건조기\n"
     ]
    },
    {
     "name": "stderr",
     "output_type": "stream",
     "text": [
      "Rasampling files in progress: 100%|██████████████████████████| 10554/10554 [00:08<00:00, 1238.63it/s]\n"
     ]
    },
    {
     "name": "stdout",
     "output_type": "stream",
     "text": [
      "Success: 1000/10554\n",
      "Processing: ./Saveset\\01.데이터\\2.Validation\\라벨링데이터\\01.가전소음\\02.청소기\n"
     ]
    },
    {
     "name": "stderr",
     "output_type": "stream",
     "text": [
      "Rasampling files in progress: 100%|████████████████████████████| 4594/4594 [00:03<00:00, 1290.59it/s]\n"
     ]
    },
    {
     "name": "stdout",
     "output_type": "stream",
     "text": [
      "Success: 1000/4594\n",
      "Processing: ./Saveset\\01.데이터\\2.Validation\\라벨링데이터\\01.가전소음\\03.가전소음_기타소음\n"
     ]
    },
    {
     "name": "stderr",
     "output_type": "stream",
     "text": [
      "Rasampling files in progress: 100%|██████████████████████████| 31620/31620 [00:23<00:00, 1347.14it/s]\n"
     ]
    },
    {
     "name": "stdout",
     "output_type": "stream",
     "text": [
      "Success: 1000/31620\n",
      "Processing: ./Saveset\\01.데이터\\2.Validation\\라벨링데이터\\02.교통수단\n"
     ]
    },
    {
     "name": "stderr",
     "output_type": "stream",
     "text": [
      "Rasampling files in progress: 0it [00:00, ?it/s]\n"
     ]
    },
    {
     "name": "stdout",
     "output_type": "stream",
     "text": [
      "Success: 0/0\n",
      "Processing: ./Saveset\\01.데이터\\2.Validation\\라벨링데이터\\02.교통수단\\01.바이크\n"
     ]
    },
    {
     "name": "stderr",
     "output_type": "stream",
     "text": [
      "Rasampling files in progress: 100%|████████████████████████████| 1908/1908 [00:01<00:00, 1328.41it/s]\n"
     ]
    },
    {
     "name": "stdout",
     "output_type": "stream",
     "text": [
      "Success: 1000/1908\n",
      "Processing: ./Saveset\\01.데이터\\2.Validation\\라벨링데이터\\02.교통수단\\02.싸이렌\n"
     ]
    },
    {
     "name": "stderr",
     "output_type": "stream",
     "text": [
      "Rasampling files in progress: 100%|████████████████████████████| 1712/1712 [00:01<00:00, 1150.86it/s]\n"
     ]
    },
    {
     "name": "stdout",
     "output_type": "stream",
     "text": [
      "Success: 1000/1712\n",
      "Processing: ./Saveset\\01.데이터\\2.Validation\\라벨링데이터\\02.교통수단\\03.경적\n"
     ]
    },
    {
     "name": "stderr",
     "output_type": "stream",
     "text": [
      "Rasampling files in progress: 100%|████████████████████████████| 2090/2090 [00:01<00:00, 1212.20it/s]\n"
     ]
    },
    {
     "name": "stdout",
     "output_type": "stream",
     "text": [
      "Success: 1000/2090\n",
      "Processing: ./Saveset\\01.데이터\\2.Validation\\라벨링데이터\\02.교통수단\\04.교통수단_기타소음\n"
     ]
    },
    {
     "name": "stderr",
     "output_type": "stream",
     "text": [
      "Rasampling files in progress: 100%|████████████████████████████| 3330/3330 [00:02<00:00, 1304.53it/s]\n"
     ]
    },
    {
     "name": "stdout",
     "output_type": "stream",
     "text": [
      "Success: 1000/3330\n",
      "Processing: ./Saveset\\01.데이터\\2.Validation\\라벨링데이터\\03.길거리\n"
     ]
    },
    {
     "name": "stderr",
     "output_type": "stream",
     "text": [
      "Rasampling files in progress: 0it [00:00, ?it/s]\n"
     ]
    },
    {
     "name": "stdout",
     "output_type": "stream",
     "text": [
      "Success: 0/0\n",
      "Processing: ./Saveset\\01.데이터\\2.Validation\\라벨링데이터\\03.길거리\\01.도로변\n"
     ]
    },
    {
     "name": "stderr",
     "output_type": "stream",
     "text": [
      "Rasampling files in progress: 100%|████████████████████████████| 8918/8918 [00:06<00:00, 1319.50it/s]\n"
     ]
    },
    {
     "name": "stdout",
     "output_type": "stream",
     "text": [
      "Success: 1000/8918\n",
      "Processing: ./Saveset\\01.데이터\\2.Validation\\라벨링데이터\\03.길거리\\02.인파\n"
     ]
    },
    {
     "name": "stderr",
     "output_type": "stream",
     "text": [
      "Rasampling files in progress: 100%|████████████████████████████| 1648/1648 [00:01<00:00, 1186.42it/s]\n"
     ]
    },
    {
     "name": "stdout",
     "output_type": "stream",
     "text": [
      "Success: 1000/1648\n",
      "Processing: ./Saveset\\01.데이터\\2.Validation\\라벨링데이터\\03.길거리\\03.길거리_기타소음\n"
     ]
    },
    {
     "name": "stderr",
     "output_type": "stream",
     "text": [
      "Rasampling files in progress: 100%|████████████████████████████| 5032/5032 [00:03<00:00, 1297.29it/s]\n"
     ]
    },
    {
     "name": "stdout",
     "output_type": "stream",
     "text": [
      "Success: 1000/5032\n",
      "Processing: ./Saveset\\01.데이터\\2.Validation\\라벨링데이터\\04.카페,음식점\n"
     ]
    },
    {
     "name": "stderr",
     "output_type": "stream",
     "text": [
      "Rasampling files in progress: 0it [00:00, ?it/s]\n"
     ]
    },
    {
     "name": "stdout",
     "output_type": "stream",
     "text": [
      "Success: 0/0\n",
      "Processing: ./Saveset\\01.데이터\\2.Validation\\라벨링데이터\\04.카페,음식점\\01.대화소음\n"
     ]
    },
    {
     "name": "stderr",
     "output_type": "stream",
     "text": [
      "Rasampling files in progress: 100%|██████████████████████████| 16548/16548 [00:12<00:00, 1327.45it/s]\n"
     ]
    },
    {
     "name": "stdout",
     "output_type": "stream",
     "text": [
      "Success: 1000/16548\n",
      "Processing: ./Saveset\\01.데이터\\2.Validation\\라벨링데이터\\04.카페,음식점\\02.업소소음\n"
     ]
    },
    {
     "name": "stderr",
     "output_type": "stream",
     "text": [
      "Rasampling files in progress: 100%|██████████████████████████| 23310/23310 [00:17<00:00, 1324.47it/s]\n"
     ]
    },
    {
     "name": "stdout",
     "output_type": "stream",
     "text": [
      "Success: 1000/23310\n",
      "Processing: ./Saveset\\01.데이터\\2.Validation\\라벨링데이터\\04.카페,음식점\\03.카페,음식점_기타소음\n"
     ]
    },
    {
     "name": "stderr",
     "output_type": "stream",
     "text": [
      "Rasampling files in progress: 100%|████████████████████████████| 5788/5788 [00:04<00:00, 1289.59it/s]\n"
     ]
    },
    {
     "name": "stdout",
     "output_type": "stream",
     "text": [
      "Success: 1000/5788\n",
      "Processing: ./Saveset\\01.데이터\\2.Validation\\라벨링데이터\\05.시장,쇼핑몰\n"
     ]
    },
    {
     "name": "stderr",
     "output_type": "stream",
     "text": [
      "Rasampling files in progress: 0it [00:00, ?it/s]\n"
     ]
    },
    {
     "name": "stdout",
     "output_type": "stream",
     "text": [
      "Success: 0/0\n",
      "Processing: ./Saveset\\01.데이터\\2.Validation\\라벨링데이터\\05.시장,쇼핑몰\\01.전통시장\n"
     ]
    },
    {
     "name": "stderr",
     "output_type": "stream",
     "text": [
      "Rasampling files in progress: 100%|████████████████████████████| 5068/5068 [00:03<00:00, 1290.85it/s]\n"
     ]
    },
    {
     "name": "stdout",
     "output_type": "stream",
     "text": [
      "Success: 1000/5068\n",
      "Processing: ./Saveset\\01.데이터\\2.Validation\\라벨링데이터\\05.시장,쇼핑몰\\02.복합쇼핑몰\n"
     ]
    },
    {
     "name": "stderr",
     "output_type": "stream",
     "text": [
      "Rasampling files in progress: 100%|██████████████████████████| 36208/36208 [00:28<00:00, 1285.26it/s]\n"
     ]
    },
    {
     "name": "stdout",
     "output_type": "stream",
     "text": [
      "Success: 1000/36208\n",
      "Processing: ./Saveset\\01.데이터\\2.Validation\\라벨링데이터\\05.시장,쇼핑몰\\03.시장,쇼핑몰_기타소음\n"
     ]
    },
    {
     "name": "stderr",
     "output_type": "stream",
     "text": [
      "Rasampling files in progress: 100%|████████████████████████████| 3976/3976 [00:03<00:00, 1248.45it/s]\n"
     ]
    },
    {
     "name": "stdout",
     "output_type": "stream",
     "text": [
      "Success: 1000/3976\n",
      "Processing: ./Saveset\\01.데이터\\2.Validation\\라벨링데이터\\06.지하철,버스\n"
     ]
    },
    {
     "name": "stderr",
     "output_type": "stream",
     "text": [
      "Rasampling files in progress: 0it [00:00, ?it/s]\n"
     ]
    },
    {
     "name": "stdout",
     "output_type": "stream",
     "text": [
      "Success: 0/0\n",
      "Processing: ./Saveset\\01.데이터\\2.Validation\\라벨링데이터\\06.지하철,버스\\01.지하철플랫폼\n"
     ]
    },
    {
     "name": "stderr",
     "output_type": "stream",
     "text": [
      "Rasampling files in progress: 100%|████████████████████████████| 4826/4826 [00:03<00:00, 1249.91it/s]\n"
     ]
    },
    {
     "name": "stdout",
     "output_type": "stream",
     "text": [
      "Success: 1000/4826\n",
      "Processing: ./Saveset\\01.데이터\\2.Validation\\라벨링데이터\\06.지하철,버스\\02.지하철안\n"
     ]
    },
    {
     "name": "stderr",
     "output_type": "stream",
     "text": [
      "Rasampling files in progress: 100%|████████████████████████████| 6670/6670 [00:05<00:00, 1245.85it/s]\n"
     ]
    },
    {
     "name": "stdout",
     "output_type": "stream",
     "text": [
      "Success: 1000/6670\n",
      "Processing: ./Saveset\\01.데이터\\2.Validation\\라벨링데이터\\06.지하철,버스\\03.기차안\n"
     ]
    },
    {
     "name": "stderr",
     "output_type": "stream",
     "text": [
      "Rasampling files in progress: 100%|████████████████████████████| 1844/1844 [00:01<00:00, 1271.66it/s]\n"
     ]
    },
    {
     "name": "stdout",
     "output_type": "stream",
     "text": [
      "Success: 1000/1844\n",
      "Processing: ./Saveset\\01.데이터\\2.Validation\\라벨링데이터\\06.지하철,버스\\04.버스안\n"
     ]
    },
    {
     "name": "stderr",
     "output_type": "stream",
     "text": [
      "Rasampling files in progress: 100%|████████████████████████████| 7188/7188 [00:05<00:00, 1257.85it/s]\n"
     ]
    },
    {
     "name": "stdout",
     "output_type": "stream",
     "text": [
      "Success: 1000/7188\n",
      "Processing: ./Saveset\\01.데이터\\2.Validation\\라벨링데이터\\07.터미널\n"
     ]
    },
    {
     "name": "stderr",
     "output_type": "stream",
     "text": [
      "Rasampling files in progress: 0it [00:00, ?it/s]\n"
     ]
    },
    {
     "name": "stdout",
     "output_type": "stream",
     "text": [
      "Success: 0/0\n",
      "Processing: ./Saveset\\01.데이터\\2.Validation\\라벨링데이터\\07.터미널\\01.기차역대합실\n"
     ]
    },
    {
     "name": "stderr",
     "output_type": "stream",
     "text": [
      "Rasampling files in progress: 100%|████████████████████████████| 7976/7976 [00:06<00:00, 1279.42it/s]\n"
     ]
    },
    {
     "name": "stdout",
     "output_type": "stream",
     "text": [
      "Success: 1000/7976\n",
      "Processing: ./Saveset\\01.데이터\\2.Validation\\라벨링데이터\\07.터미널\\02.버스터미널대합실\n"
     ]
    },
    {
     "name": "stderr",
     "output_type": "stream",
     "text": [
      "Rasampling files in progress: 100%|████████████████████████████| 7644/7644 [00:05<00:00, 1298.56it/s]\n"
     ]
    },
    {
     "name": "stdout",
     "output_type": "stream",
     "text": [
      "Success: 1000/7644\n",
      "Processing: ./Saveset\\01.데이터\\2.Validation\\라벨링데이터\\07.터미널\\03.터미널_기타소음\n"
     ]
    },
    {
     "name": "stderr",
     "output_type": "stream",
     "text": [
      "Rasampling files in progress: 100%|████████████████████████████| 7142/7142 [00:05<00:00, 1282.69it/s]\n"
     ]
    },
    {
     "name": "stdout",
     "output_type": "stream",
     "text": [
      "Success: 1000/7142\n",
      "Processing: ./Saveset\\01.데이터\\2.Validation\\라벨링데이터\\08.공사장\n"
     ]
    },
    {
     "name": "stderr",
     "output_type": "stream",
     "text": [
      "Rasampling files in progress: 0it [00:00, ?it/s]\n"
     ]
    },
    {
     "name": "stdout",
     "output_type": "stream",
     "text": [
      "Success: 0/0\n",
      "Processing: ./Saveset\\01.데이터\\2.Validation\\라벨링데이터\\08.공사장\\01.실외공사장\n"
     ]
    },
    {
     "name": "stderr",
     "output_type": "stream",
     "text": [
      "Rasampling files in progress: 100%|████████████████████████████| 4508/4508 [00:03<00:00, 1293.30it/s]\n"
     ]
    },
    {
     "name": "stdout",
     "output_type": "stream",
     "text": [
      "Success: 1000/4508\n",
      "Processing: ./Saveset\\01.데이터\\2.Validation\\라벨링데이터\\08.공사장\\02.실내공사장\n"
     ]
    },
    {
     "name": "stderr",
     "output_type": "stream",
     "text": [
      "Rasampling files in progress: 100%|████████████████████████████| 1606/1606 [00:01<00:00, 1274.03it/s]\n"
     ]
    },
    {
     "name": "stdout",
     "output_type": "stream",
     "text": [
      "Success: 1000/1606\n",
      "Processing: ./Saveset\\01.데이터\\2.Validation\\라벨링데이터\\08.공사장\\03.공사장_기타소음\n"
     ]
    },
    {
     "name": "stderr",
     "output_type": "stream",
     "text": [
      "Rasampling files in progress: 100%|████████████████████████████| 3768/3768 [00:02<00:00, 1292.78it/s]\n"
     ]
    },
    {
     "name": "stdout",
     "output_type": "stream",
     "text": [
      "Success: 1000/3768\n",
      "Processing: ./Saveset\\01.데이터\\2.Validation\\라벨링데이터\\09.공장\n"
     ]
    },
    {
     "name": "stderr",
     "output_type": "stream",
     "text": [
      "Rasampling files in progress: 0it [00:00, ?it/s]\n"
     ]
    },
    {
     "name": "stdout",
     "output_type": "stream",
     "text": [
      "Success: 0/0\n",
      "Processing: ./Saveset\\01.데이터\\2.Validation\\라벨링데이터\\09.공장\\01.가공공정\n"
     ]
    },
    {
     "name": "stderr",
     "output_type": "stream",
     "text": [
      "Rasampling files in progress: 100%|████████████████████████████| 2110/2110 [00:01<00:00, 1334.09it/s]\n"
     ]
    },
    {
     "name": "stdout",
     "output_type": "stream",
     "text": [
      "Success: 1000/2110\n",
      "Processing: ./Saveset\\01.데이터\\2.Validation\\라벨링데이터\\09.공장\\02.조립공정\n"
     ]
    },
    {
     "name": "stderr",
     "output_type": "stream",
     "text": [
      "Rasampling files in progress: 100%|████████████████████████████| 2742/2742 [00:01<00:00, 1400.61it/s]\n"
     ]
    },
    {
     "name": "stdout",
     "output_type": "stream",
     "text": [
      "Success: 1000/2742\n",
      "Processing: ./Saveset\\01.데이터\\2.Validation\\라벨링데이터\\09.공장\\03.공장_기타소음\n"
     ]
    },
    {
     "name": "stderr",
     "output_type": "stream",
     "text": [
      "Rasampling files in progress: 100%|████████████████████████████| 9536/9536 [00:07<00:00, 1341.12it/s]\n"
     ]
    },
    {
     "name": "stdout",
     "output_type": "stream",
     "text": [
      "Success: 1000/9536\n",
      "Processing: ./Saveset\\01.데이터\\2.Validation\\라벨링데이터\\10.일반자연\n"
     ]
    },
    {
     "name": "stderr",
     "output_type": "stream",
     "text": [
      "Rasampling files in progress: 0it [00:00, ?it/s]\n"
     ]
    },
    {
     "name": "stdout",
     "output_type": "stream",
     "text": [
      "Success: 0/0\n",
      "Processing: ./Saveset\\01.데이터\\2.Validation\\라벨링데이터\\10.일반자연\\01.빗소리\n"
     ]
    },
    {
     "name": "stderr",
     "output_type": "stream",
     "text": [
      "Rasampling files in progress: 100%|██████████████████████████| 10456/10456 [00:07<00:00, 1352.79it/s]\n"
     ]
    },
    {
     "name": "stdout",
     "output_type": "stream",
     "text": [
      "Success: 1000/10456\n",
      "Processing: ./Saveset\\01.데이터\\2.Validation\\라벨링데이터\\10.일반자연\\02.파도\n"
     ]
    },
    {
     "name": "stderr",
     "output_type": "stream",
     "text": [
      "Rasampling files in progress: 100%|████████████████████████████| 3760/3760 [00:02<00:00, 1283.37it/s]\n"
     ]
    },
    {
     "name": "stdout",
     "output_type": "stream",
     "text": [
      "Success: 1000/3760\n",
      "Processing: ./Saveset\\01.데이터\\2.Validation\\라벨링데이터\\10.일반자연\\03.일반자연_기타소음\n"
     ]
    },
    {
     "name": "stderr",
     "output_type": "stream",
     "text": [
      "Rasampling files in progress: 100%|████████████████████████████| 2078/2078 [00:01<00:00, 1318.29it/s]\n"
     ]
    },
    {
     "name": "stdout",
     "output_type": "stream",
     "text": [
      "Success: 1000/2078\n",
      "Processing: ./Saveset\\01.데이터\\2.Validation\\라벨링데이터\\11.복합소음\n"
     ]
    },
    {
     "name": "stderr",
     "output_type": "stream",
     "text": [
      "Rasampling files in progress: 0it [00:00, ?it/s]\n"
     ]
    },
    {
     "name": "stdout",
     "output_type": "stream",
     "text": [
      "Success: 0/0\n",
      "Processing: ./Saveset\\01.데이터\\2.Validation\\라벨링데이터\\11.복합소음\\01.2가지이상소음원\n"
     ]
    },
    {
     "name": "stderr",
     "output_type": "stream",
     "text": [
      "Rasampling files in progress: 100%|██████████████████████████| 26624/26624 [00:19<00:00, 1365.88it/s]\n"
     ]
    },
    {
     "name": "stdout",
     "output_type": "stream",
     "text": [
      "Success: 3000/26624\n",
      "Processing: ./Saveset\\01.데이터\\2.Validation\\원천데이터\n"
     ]
    },
    {
     "name": "stderr",
     "output_type": "stream",
     "text": [
      "Rasampling files in progress: 0it [00:00, ?it/s]\n"
     ]
    },
    {
     "name": "stdout",
     "output_type": "stream",
     "text": [
      "Success: 0/0\n",
      "Processing: ./Saveset\\01.데이터\\2.Validation\\원천데이터\\01.가전소음\n"
     ]
    },
    {
     "name": "stderr",
     "output_type": "stream",
     "text": [
      "Rasampling files in progress: 0it [00:00, ?it/s]\n"
     ]
    },
    {
     "name": "stdout",
     "output_type": "stream",
     "text": [
      "Success: 0/0\n",
      "Processing: ./Saveset\\01.데이터\\2.Validation\\원천데이터\\01.가전소음\\01.세탁기,건조기\n"
     ]
    },
    {
     "name": "stderr",
     "output_type": "stream",
     "text": [
      "Rasampling files in progress: 100%|█████████████████████████| 1000/1000 [00:00<00:00, 1000310.99it/s]\n"
     ]
    },
    {
     "name": "stdout",
     "output_type": "stream",
     "text": [
      "Success: 0/1000\n",
      "Processing: ./Saveset\\01.데이터\\2.Validation\\원천데이터\\01.가전소음\\02.청소기\n"
     ]
    },
    {
     "name": "stderr",
     "output_type": "stream",
     "text": [
      "Rasampling files in progress: 100%|█████████████████████████| 1000/1000 [00:00<00:00, 1000310.99it/s]\n"
     ]
    },
    {
     "name": "stdout",
     "output_type": "stream",
     "text": [
      "Success: 0/1000\n",
      "Processing: ./Saveset\\01.데이터\\2.Validation\\원천데이터\\01.가전소음\\03.가전소음_기타소음\n"
     ]
    },
    {
     "name": "stderr",
     "output_type": "stream",
     "text": [
      "Rasampling files in progress: 100%|██████████████████████████| 1000/1000 [00:00<00:00, 999834.09it/s]\n"
     ]
    },
    {
     "name": "stdout",
     "output_type": "stream",
     "text": [
      "Success: 0/1000\n",
      "Processing: ./Saveset\\01.데이터\\2.Validation\\원천데이터\\02.교통수단\n"
     ]
    },
    {
     "name": "stderr",
     "output_type": "stream",
     "text": [
      "Rasampling files in progress: 0it [00:00, ?it/s]\n"
     ]
    },
    {
     "name": "stdout",
     "output_type": "stream",
     "text": [
      "Success: 0/0\n",
      "Processing: ./Saveset\\01.데이터\\2.Validation\\원천데이터\\02.교통수단\\01.바이크\n"
     ]
    },
    {
     "name": "stderr",
     "output_type": "stream",
     "text": [
      "Rasampling files in progress: 100%|██████████████████████████████████████| 1000/1000 [00:00<?, ?it/s]\n"
     ]
    },
    {
     "name": "stdout",
     "output_type": "stream",
     "text": [
      "Success: 0/1000\n",
      "Processing: ./Saveset\\01.데이터\\2.Validation\\원천데이터\\02.교통수단\\02.싸이렌\n"
     ]
    },
    {
     "name": "stderr",
     "output_type": "stream",
     "text": [
      "Rasampling files in progress: 100%|██████████████████████████████████████| 1000/1000 [00:00<?, ?it/s]\n"
     ]
    },
    {
     "name": "stdout",
     "output_type": "stream",
     "text": [
      "Success: 0/1000\n",
      "Processing: ./Saveset\\01.데이터\\2.Validation\\원천데이터\\02.교통수단\\03.경적\n"
     ]
    },
    {
     "name": "stderr",
     "output_type": "stream",
     "text": [
      "Rasampling files in progress: 100%|██████████████████████████████████████| 1000/1000 [00:00<?, ?it/s]\n"
     ]
    },
    {
     "name": "stdout",
     "output_type": "stream",
     "text": [
      "Success: 0/1000\n",
      "Processing: ./Saveset\\01.데이터\\2.Validation\\원천데이터\\02.교통수단\\04.교통수단_기타소음\n"
     ]
    },
    {
     "name": "stderr",
     "output_type": "stream",
     "text": [
      "Rasampling files in progress: 100%|█████████████████████████| 1000/1000 [00:00<00:00, 1000310.99it/s]\n"
     ]
    },
    {
     "name": "stdout",
     "output_type": "stream",
     "text": [
      "Success: 0/1000\n",
      "Processing: ./Saveset\\01.데이터\\2.Validation\\원천데이터\\03.길거리\n"
     ]
    },
    {
     "name": "stderr",
     "output_type": "stream",
     "text": [
      "Rasampling files in progress: 0it [00:00, ?it/s]\n"
     ]
    },
    {
     "name": "stdout",
     "output_type": "stream",
     "text": [
      "Success: 0/0\n",
      "Processing: ./Saveset\\01.데이터\\2.Validation\\원천데이터\\03.길거리\\01.도로변\n"
     ]
    },
    {
     "name": "stderr",
     "output_type": "stream",
     "text": [
      "Rasampling files in progress: 100%|██████████████████████████| 1000/1000 [00:00<00:00, 999834.09it/s]\n"
     ]
    },
    {
     "name": "stdout",
     "output_type": "stream",
     "text": [
      "Success: 0/1000\n",
      "Processing: ./Saveset\\01.데이터\\2.Validation\\원천데이터\\03.길거리\\02.인파\n"
     ]
    },
    {
     "name": "stderr",
     "output_type": "stream",
     "text": [
      "Rasampling files in progress: 100%|█████████████████████████| 1000/1000 [00:00<00:00, 1001027.21it/s]\n"
     ]
    },
    {
     "name": "stdout",
     "output_type": "stream",
     "text": [
      "Success: 0/1000\n",
      "Processing: ./Saveset\\01.데이터\\2.Validation\\원천데이터\\03.길거리\\03.길거리_기타소음\n"
     ]
    },
    {
     "name": "stderr",
     "output_type": "stream",
     "text": [
      "Rasampling files in progress: 100%|██████████████████████████████████████| 1000/1000 [00:00<?, ?it/s]\n"
     ]
    },
    {
     "name": "stdout",
     "output_type": "stream",
     "text": [
      "Success: 0/1000\n",
      "Processing: ./Saveset\\01.데이터\\2.Validation\\원천데이터\\04.카페,음식점\n"
     ]
    },
    {
     "name": "stderr",
     "output_type": "stream",
     "text": [
      "Rasampling files in progress: 0it [00:00, ?it/s]\n"
     ]
    },
    {
     "name": "stdout",
     "output_type": "stream",
     "text": [
      "Success: 0/0\n",
      "Processing: ./Saveset\\01.데이터\\2.Validation\\원천데이터\\04.카페,음식점\\01.대화소음\n"
     ]
    },
    {
     "name": "stderr",
     "output_type": "stream",
     "text": [
      "Rasampling files in progress: 100%|██████████████████████████████████████| 1000/1000 [00:00<?, ?it/s]\n"
     ]
    },
    {
     "name": "stdout",
     "output_type": "stream",
     "text": [
      "Success: 0/1000\n",
      "Processing: ./Saveset\\01.데이터\\2.Validation\\원천데이터\\04.카페,음식점\\02.업소소음\n"
     ]
    },
    {
     "name": "stderr",
     "output_type": "stream",
     "text": [
      "Rasampling files in progress: 100%|██████████████████████████████████████| 1000/1000 [00:00<?, ?it/s]\n"
     ]
    },
    {
     "name": "stdout",
     "output_type": "stream",
     "text": [
      "Success: 0/1000\n",
      "Processing: ./Saveset\\01.데이터\\2.Validation\\원천데이터\\04.카페,음식점\\03.카페,음식점_기타소음\n"
     ]
    },
    {
     "name": "stderr",
     "output_type": "stream",
     "text": [
      "Rasampling files in progress: 100%|██████████████████████████| 1000/1000 [00:00<00:00, 998406.09it/s]\n"
     ]
    },
    {
     "name": "stdout",
     "output_type": "stream",
     "text": [
      "Success: 0/1000\n",
      "Processing: ./Saveset\\01.데이터\\2.Validation\\원천데이터\\05.시장,쇼핑몰\n"
     ]
    },
    {
     "name": "stderr",
     "output_type": "stream",
     "text": [
      "Rasampling files in progress: 0it [00:00, ?it/s]\n"
     ]
    },
    {
     "name": "stdout",
     "output_type": "stream",
     "text": [
      "Success: 0/0\n",
      "Processing: ./Saveset\\01.데이터\\2.Validation\\원천데이터\\05.시장,쇼핑몰\\01.전통시장\n"
     ]
    },
    {
     "name": "stderr",
     "output_type": "stream",
     "text": [
      "Rasampling files in progress: 100%|██████████████████████████████████████| 1000/1000 [00:00<?, ?it/s]\n"
     ]
    },
    {
     "name": "stdout",
     "output_type": "stream",
     "text": [
      "Success: 0/1000\n",
      "Processing: ./Saveset\\01.데이터\\2.Validation\\원천데이터\\05.시장,쇼핑몰\\02.복합쇼핑몰\n"
     ]
    },
    {
     "name": "stderr",
     "output_type": "stream",
     "text": [
      "Rasampling files in progress: 100%|█████████████████████████| 1000/1000 [00:00<00:00, 1000549.62it/s]\n"
     ]
    },
    {
     "name": "stdout",
     "output_type": "stream",
     "text": [
      "Success: 0/1000\n",
      "Processing: ./Saveset\\01.데이터\\2.Validation\\원천데이터\\05.시장,쇼핑몰\\03.시장,쇼핑몰_기타소음\n"
     ]
    },
    {
     "name": "stderr",
     "output_type": "stream",
     "text": [
      "Rasampling files in progress: 100%|██████████████████████████████████████| 1000/1000 [00:00<?, ?it/s]\n"
     ]
    },
    {
     "name": "stdout",
     "output_type": "stream",
     "text": [
      "Success: 0/1000\n",
      "Processing: ./Saveset\\01.데이터\\2.Validation\\원천데이터\\06.지하철,버스\n"
     ]
    },
    {
     "name": "stderr",
     "output_type": "stream",
     "text": [
      "Rasampling files in progress: 0it [00:00, ?it/s]\n"
     ]
    },
    {
     "name": "stdout",
     "output_type": "stream",
     "text": [
      "Success: 0/0\n",
      "Processing: ./Saveset\\01.데이터\\2.Validation\\원천데이터\\06.지하철,버스\\01.지하철플랫폼\n"
     ]
    },
    {
     "name": "stderr",
     "output_type": "stream",
     "text": [
      "Rasampling files in progress: 100%|█████████████████████████| 1000/1000 [00:00<00:00, 1000072.48it/s]\n"
     ]
    },
    {
     "name": "stdout",
     "output_type": "stream",
     "text": [
      "Success: 0/1000\n",
      "Processing: ./Saveset\\01.데이터\\2.Validation\\원천데이터\\06.지하철,버스\\02.지하철안\n"
     ]
    },
    {
     "name": "stderr",
     "output_type": "stream",
     "text": [
      "Rasampling files in progress: 100%|█████████████████████████| 1000/1000 [00:00<00:00, 1000549.62it/s]\n"
     ]
    },
    {
     "name": "stdout",
     "output_type": "stream",
     "text": [
      "Success: 0/1000\n",
      "Processing: ./Saveset\\01.데이터\\2.Validation\\원천데이터\\06.지하철,버스\\03.기차안\n"
     ]
    },
    {
     "name": "stderr",
     "output_type": "stream",
     "text": [
      "Rasampling files in progress: 100%|██████████████████████████████████████| 1000/1000 [00:00<?, ?it/s]\n"
     ]
    },
    {
     "name": "stdout",
     "output_type": "stream",
     "text": [
      "Success: 0/1000\n",
      "Processing: ./Saveset\\01.데이터\\2.Validation\\원천데이터\\06.지하철,버스\\04.버스안\n"
     ]
    },
    {
     "name": "stderr",
     "output_type": "stream",
     "text": [
      "Rasampling files in progress: 100%|██████████████████████████████████████| 1000/1000 [00:00<?, ?it/s]\n"
     ]
    },
    {
     "name": "stdout",
     "output_type": "stream",
     "text": [
      "Success: 0/1000\n",
      "Processing: ./Saveset\\01.데이터\\2.Validation\\원천데이터\\07.터미널\n"
     ]
    },
    {
     "name": "stderr",
     "output_type": "stream",
     "text": [
      "Rasampling files in progress: 0it [00:00, ?it/s]\n"
     ]
    },
    {
     "name": "stdout",
     "output_type": "stream",
     "text": [
      "Success: 0/0\n",
      "Processing: ./Saveset\\01.데이터\\2.Validation\\원천데이터\\07.터미널\\01.기차역대합실\n"
     ]
    },
    {
     "name": "stderr",
     "output_type": "stream",
     "text": [
      "Rasampling files in progress: 100%|█████████████████████████| 1000/1000 [00:00<00:00, 1000072.48it/s]\n"
     ]
    },
    {
     "name": "stdout",
     "output_type": "stream",
     "text": [
      "Success: 0/1000\n",
      "Processing: ./Saveset\\01.데이터\\2.Validation\\원천데이터\\07.터미널\\02.버스터미널대합실\n"
     ]
    },
    {
     "name": "stderr",
     "output_type": "stream",
     "text": [
      "Rasampling files in progress: 100%|██████████████████████████| 1000/1000 [00:00<00:00, 999595.81it/s]\n"
     ]
    },
    {
     "name": "stdout",
     "output_type": "stream",
     "text": [
      "Success: 0/1000\n",
      "Processing: ./Saveset\\01.데이터\\2.Validation\\원천데이터\\07.터미널\\03.터미널_기타소음\n"
     ]
    },
    {
     "name": "stderr",
     "output_type": "stream",
     "text": [
      "Rasampling files in progress: 100%|█████████████████████████| 1000/1000 [00:00<00:00, 1000549.62it/s]\n"
     ]
    },
    {
     "name": "stdout",
     "output_type": "stream",
     "text": [
      "Success: 0/1000\n",
      "Processing: ./Saveset\\01.데이터\\2.Validation\\원천데이터\\08.공사장\n"
     ]
    },
    {
     "name": "stderr",
     "output_type": "stream",
     "text": [
      "Rasampling files in progress: 0it [00:00, ?it/s]\n"
     ]
    },
    {
     "name": "stdout",
     "output_type": "stream",
     "text": [
      "Success: 0/0\n",
      "Processing: ./Saveset\\01.데이터\\2.Validation\\원천데이터\\08.공사장\\01.실외공사장\n"
     ]
    },
    {
     "name": "stderr",
     "output_type": "stream",
     "text": [
      "Rasampling files in progress: 100%|█████████████████████████| 1000/1000 [00:00<00:00, 1000072.48it/s]\n"
     ]
    },
    {
     "name": "stdout",
     "output_type": "stream",
     "text": [
      "Success: 0/1000\n",
      "Processing: ./Saveset\\01.데이터\\2.Validation\\원천데이터\\08.공사장\\02.실내공사장\n"
     ]
    },
    {
     "name": "stderr",
     "output_type": "stream",
     "text": [
      "Rasampling files in progress: 100%|██████████████████████████████████████| 1000/1000 [00:00<?, ?it/s]\n"
     ]
    },
    {
     "name": "stdout",
     "output_type": "stream",
     "text": [
      "Success: 0/1000\n",
      "Processing: ./Saveset\\01.데이터\\2.Validation\\원천데이터\\08.공사장\\03.공사장_기타소음\n"
     ]
    },
    {
     "name": "stderr",
     "output_type": "stream",
     "text": [
      "Rasampling files in progress: 100%|██████████████████████████████████████| 1000/1000 [00:00<?, ?it/s]\n"
     ]
    },
    {
     "name": "stdout",
     "output_type": "stream",
     "text": [
      "Success: 0/1000\n",
      "Processing: ./Saveset\\01.데이터\\2.Validation\\원천데이터\\09.공장\n"
     ]
    },
    {
     "name": "stderr",
     "output_type": "stream",
     "text": [
      "Rasampling files in progress: 0it [00:00, ?it/s]\n"
     ]
    },
    {
     "name": "stdout",
     "output_type": "stream",
     "text": [
      "Success: 0/0\n",
      "Processing: ./Saveset\\01.데이터\\2.Validation\\원천데이터\\09.공장\\01.가공공정\n"
     ]
    },
    {
     "name": "stderr",
     "output_type": "stream",
     "text": [
      "Rasampling files in progress: 100%|█████████████████████████| 1000/1000 [00:00<00:00, 1000310.99it/s]\n"
     ]
    },
    {
     "name": "stdout",
     "output_type": "stream",
     "text": [
      "Success: 0/1000\n",
      "Processing: ./Saveset\\01.데이터\\2.Validation\\원천데이터\\09.공장\\02.조립공정\n"
     ]
    },
    {
     "name": "stderr",
     "output_type": "stream",
     "text": [
      "Rasampling files in progress: 100%|█████████████████████████| 1000/1000 [00:00<00:00, 1000072.48it/s]\n"
     ]
    },
    {
     "name": "stdout",
     "output_type": "stream",
     "text": [
      "Success: 0/1000\n",
      "Processing: ./Saveset\\01.데이터\\2.Validation\\원천데이터\\09.공장\\03.공장_기타소음\n"
     ]
    },
    {
     "name": "stderr",
     "output_type": "stream",
     "text": [
      "Rasampling files in progress: 100%|█████████████████████████| 1000/1000 [00:00<00:00, 1000072.48it/s]\n"
     ]
    },
    {
     "name": "stdout",
     "output_type": "stream",
     "text": [
      "Success: 0/1000\n",
      "Processing: ./Saveset\\01.데이터\\2.Validation\\원천데이터\\10.일반자연\n"
     ]
    },
    {
     "name": "stderr",
     "output_type": "stream",
     "text": [
      "Rasampling files in progress: 0it [00:00, ?it/s]\n"
     ]
    },
    {
     "name": "stdout",
     "output_type": "stream",
     "text": [
      "Success: 0/0\n",
      "Processing: ./Saveset\\01.데이터\\2.Validation\\원천데이터\\10.일반자연\\01.빗소리\n"
     ]
    },
    {
     "name": "stderr",
     "output_type": "stream",
     "text": [
      "Rasampling files in progress: 100%|██████████████████████████| 1000/1000 [00:00<00:00, 999834.09it/s]\n"
     ]
    },
    {
     "name": "stdout",
     "output_type": "stream",
     "text": [
      "Success: 0/1000\n",
      "Processing: ./Saveset\\01.데이터\\2.Validation\\원천데이터\\10.일반자연\\02.파도\n"
     ]
    },
    {
     "name": "stderr",
     "output_type": "stream",
     "text": [
      "Rasampling files in progress: 100%|██████████████████████████| 1000/1000 [00:00<00:00, 999834.09it/s]\n"
     ]
    },
    {
     "name": "stdout",
     "output_type": "stream",
     "text": [
      "Success: 0/1000\n",
      "Processing: ./Saveset\\01.데이터\\2.Validation\\원천데이터\\10.일반자연\\03.일반자연_기타소음\n"
     ]
    },
    {
     "name": "stderr",
     "output_type": "stream",
     "text": [
      "Rasampling files in progress: 100%|██████████████████████████████████████| 1000/1000 [00:00<?, ?it/s]\n"
     ]
    },
    {
     "name": "stdout",
     "output_type": "stream",
     "text": [
      "Success: 0/1000\n",
      "Processing: ./Saveset\\01.데이터\\2.Validation\\원천데이터\\11.복합소음\n"
     ]
    },
    {
     "name": "stderr",
     "output_type": "stream",
     "text": [
      "Rasampling files in progress: 0it [00:00, ?it/s]\n"
     ]
    },
    {
     "name": "stdout",
     "output_type": "stream",
     "text": [
      "Success: 0/0\n",
      "Processing: ./Saveset\\01.데이터\\2.Validation\\원천데이터\\11.복합소음\\01.2가지이상소음원\n"
     ]
    },
    {
     "name": "stderr",
     "output_type": "stream",
     "text": [
      "Rasampling files in progress: 100%|█████████████████████████| 3000/3000 [00:00<00:00, 1500287.59it/s]"
     ]
    },
    {
     "name": "stdout",
     "output_type": "stream",
     "text": [
      "Success: 0/3000\n",
      "Done!\n"
     ]
    },
    {
     "name": "stderr",
     "output_type": "stream",
     "text": [
      "\n"
     ]
    }
   ],
   "source": [
    "root_directory = \"./Saveset\"\n",
    "wav_filepath_list, text_list = list_files_and_directories(root_directory)"
   ]
  },
  {
   "cell_type": "code",
   "execution_count": 9,
   "id": "9828dba2-b5c6-4c93-8427-9a0c891b20bd",
   "metadata": {},
   "outputs": [],
   "source": [
    "import pandas as pd\n",
    "\n",
    "# Data\n",
    "data = {\n",
    "    'file_name': wav_filepath_list,\n",
    "    'text': text_list\n",
    "}\n",
    "\n",
    "# Dataframe\n",
    "df = pd.DataFrame(data)\n",
    "\n",
    "# Save CSV file\n",
    "df.to_csv('./Saveset/metadata.csv', index=False)"
   ]
  },
  {
   "cell_type": "code",
   "execution_count": 10,
   "id": "7350d07f-e86b-4b38-9800-239511517786",
   "metadata": {},
   "outputs": [
    {
     "data": {
      "text/html": [
       "<div>\n",
       "<style scoped>\n",
       "    .dataframe tbody tr th:only-of-type {\n",
       "        vertical-align: middle;\n",
       "    }\n",
       "\n",
       "    .dataframe tbody tr th {\n",
       "        vertical-align: top;\n",
       "    }\n",
       "\n",
       "    .dataframe thead th {\n",
       "        text-align: right;\n",
       "    }\n",
       "</style>\n",
       "<table border=\"1\" class=\"dataframe\">\n",
       "  <thead>\n",
       "    <tr style=\"text-align: right;\">\n",
       "      <th></th>\n",
       "      <th>file_name</th>\n",
       "      <th>text</th>\n",
       "    </tr>\n",
       "  </thead>\n",
       "  <tbody>\n",
       "    <tr>\n",
       "      <th>0</th>\n",
       "      <td>01.데이터\\2.Validation\\원천데이터\\01.가전소음\\01.세탁기,건조기\\0...</td>\n",
       "      <td>미안한데 네가 무슨 말 하는지 잘 모르겠어. 그리고 네가 학교 생활을 어떻게 해야 ...</td>\n",
       "    </tr>\n",
       "    <tr>\n",
       "      <th>1</th>\n",
       "      <td>01.데이터\\2.Validation\\원천데이터\\01.가전소음\\01.세탁기,건조기\\0...</td>\n",
       "      <td>와 진짜. 아니 근데 썸머 그 사람 여자친구 있었어? 아니 무슨 맨날 뭐 인터뷰하고...</td>\n",
       "    </tr>\n",
       "    <tr>\n",
       "      <th>2</th>\n",
       "      <td>01.데이터\\2.Validation\\원천데이터\\01.가전소음\\01.세탁기,건조기\\0...</td>\n",
       "      <td>와 진짜. 아니 근데 썸머 그 사람 여자친구 있었어? 아니 무슨 맨날 뭐 인터뷰하고...</td>\n",
       "    </tr>\n",
       "    <tr>\n",
       "      <th>3</th>\n",
       "      <td>01.데이터\\2.Validation\\원천데이터\\01.가전소음\\01.세탁기,건조기\\0...</td>\n",
       "      <td>아니 나는 불만 같은 거 없어. 그리고 이 에르메스 커피 잔. 내가 귀하게 마련한 ...</td>\n",
       "    </tr>\n",
       "    <tr>\n",
       "      <th>4</th>\n",
       "      <td>01.데이터\\2.Validation\\원천데이터\\01.가전소음\\01.세탁기,건조기\\0...</td>\n",
       "      <td>정말 미안하지만 너의 속내가 은연 중에 드러난 게 아닐까 싶어. 네가 나를 원래 하...</td>\n",
       "    </tr>\n",
       "    <tr>\n",
       "      <th>...</th>\n",
       "      <td>...</td>\n",
       "      <td>...</td>\n",
       "    </tr>\n",
       "    <tr>\n",
       "      <th>34995</th>\n",
       "      <td>01.데이터\\2.Validation\\원천데이터\\11.복합소음\\01.2가지이상소음원\\...</td>\n",
       "      <td>예전에 100 일도 잔치를 했었잖아요. 이제는 아이가 태어난 지 100 일이 되어도...</td>\n",
       "    </tr>\n",
       "    <tr>\n",
       "      <th>34996</th>\n",
       "      <td>01.데이터\\2.Validation\\원천데이터\\11.복합소음\\01.2가지이상소음원\\...</td>\n",
       "      <td>가지치기라는 말이 어떤 의미인 거예요?</td>\n",
       "    </tr>\n",
       "    <tr>\n",
       "      <th>34997</th>\n",
       "      <td>01.데이터\\2.Validation\\원천데이터\\11.복합소음\\01.2가지이상소음원\\...</td>\n",
       "      <td>예전에 100 일도 잔치를 했었잖아요. 이제는 아이가 태어난 지 100 일이 되어도...</td>\n",
       "    </tr>\n",
       "    <tr>\n",
       "      <th>34998</th>\n",
       "      <td>01.데이터\\2.Validation\\원천데이터\\11.복합소음\\01.2가지이상소음원\\...</td>\n",
       "      <td>가맹점 단합대회니까.</td>\n",
       "    </tr>\n",
       "    <tr>\n",
       "      <th>34999</th>\n",
       "      <td>01.데이터\\2.Validation\\원천데이터\\11.복합소음\\01.2가지이상소음원\\...</td>\n",
       "      <td>가맹점 단합대회니까.</td>\n",
       "    </tr>\n",
       "  </tbody>\n",
       "</table>\n",
       "<p>35000 rows × 2 columns</p>\n",
       "</div>"
      ],
      "text/plain": [
       "                                               file_name  \\\n",
       "0      01.데이터\\2.Validation\\원천데이터\\01.가전소음\\01.세탁기,건조기\\0...   \n",
       "1      01.데이터\\2.Validation\\원천데이터\\01.가전소음\\01.세탁기,건조기\\0...   \n",
       "2      01.데이터\\2.Validation\\원천데이터\\01.가전소음\\01.세탁기,건조기\\0...   \n",
       "3      01.데이터\\2.Validation\\원천데이터\\01.가전소음\\01.세탁기,건조기\\0...   \n",
       "4      01.데이터\\2.Validation\\원천데이터\\01.가전소음\\01.세탁기,건조기\\0...   \n",
       "...                                                  ...   \n",
       "34995  01.데이터\\2.Validation\\원천데이터\\11.복합소음\\01.2가지이상소음원\\...   \n",
       "34996  01.데이터\\2.Validation\\원천데이터\\11.복합소음\\01.2가지이상소음원\\...   \n",
       "34997  01.데이터\\2.Validation\\원천데이터\\11.복합소음\\01.2가지이상소음원\\...   \n",
       "34998  01.데이터\\2.Validation\\원천데이터\\11.복합소음\\01.2가지이상소음원\\...   \n",
       "34999  01.데이터\\2.Validation\\원천데이터\\11.복합소음\\01.2가지이상소음원\\...   \n",
       "\n",
       "                                                    text  \n",
       "0      미안한데 네가 무슨 말 하는지 잘 모르겠어. 그리고 네가 학교 생활을 어떻게 해야 ...  \n",
       "1      와 진짜. 아니 근데 썸머 그 사람 여자친구 있었어? 아니 무슨 맨날 뭐 인터뷰하고...  \n",
       "2      와 진짜. 아니 근데 썸머 그 사람 여자친구 있었어? 아니 무슨 맨날 뭐 인터뷰하고...  \n",
       "3      아니 나는 불만 같은 거 없어. 그리고 이 에르메스 커피 잔. 내가 귀하게 마련한 ...  \n",
       "4      정말 미안하지만 너의 속내가 은연 중에 드러난 게 아닐까 싶어. 네가 나를 원래 하...  \n",
       "...                                                  ...  \n",
       "34995  예전에 100 일도 잔치를 했었잖아요. 이제는 아이가 태어난 지 100 일이 되어도...  \n",
       "34996                              가지치기라는 말이 어떤 의미인 거예요?  \n",
       "34997  예전에 100 일도 잔치를 했었잖아요. 이제는 아이가 태어난 지 100 일이 되어도...  \n",
       "34998                                        가맹점 단합대회니까.  \n",
       "34999                                        가맹점 단합대회니까.  \n",
       "\n",
       "[35000 rows x 2 columns]"
      ]
     },
     "execution_count": 10,
     "metadata": {},
     "output_type": "execute_result"
    }
   ],
   "source": [
    "df"
   ]
  },
  {
   "cell_type": "code",
   "execution_count": 18,
   "id": "3e2d0bdb-cccf-4bda-a99e-a8977cb2000f",
   "metadata": {},
   "outputs": [
    {
     "data": {
      "text/plain": [
       "0"
      ]
     },
     "execution_count": 18,
     "metadata": {},
     "output_type": "execute_result"
    }
   ],
   "source": [
    "import os\n",
    "\n",
    "filepath = \"C:/Users/Poco/Jupyter/03_2023_Fall/03_CapstonDesignInComputerScience/4.wav\"\n",
    "newpath = \"C:/Users/Poco/Jupyter/03_2023_Fall/03_CapstonDesignInComputerScience/4_DNS.wav\"\n",
    "command = f\"python ./noise-reduction-master/denoise.py --model=./noise-reduction-master/models/tscn --noisy={filepath} --denoise={newpath}\"\n",
    "os.system(command)"
   ]
  }
 ],
 "metadata": {
  "kernelspec": {
   "display_name": "Python 3 (ipykernel)",
   "language": "python",
   "name": "python3"
  },
  "language_info": {
   "codemirror_mode": {
    "name": "ipython",
    "version": 3
   },
   "file_extension": ".py",
   "mimetype": "text/x-python",
   "name": "python",
   "nbconvert_exporter": "python",
   "pygments_lexer": "ipython3",
   "version": "3.11.4"
  }
 },
 "nbformat": 4,
 "nbformat_minor": 5
}
