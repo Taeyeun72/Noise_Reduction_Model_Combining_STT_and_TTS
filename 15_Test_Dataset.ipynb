{
 "cells": [
  {
   "cell_type": "markdown",
   "id": "904d8b13-a755-4509-a666-837c5b569792",
   "metadata": {},
   "source": [
    "# Test Dataset Preprocessing"
   ]
  },
  {
   "cell_type": "markdown",
   "id": "f97b2dab-d642-428a-9684-79422f46c8ce",
   "metadata": {},
   "source": [
    "## 1. Resampling"
   ]
  },
  {
   "cell_type": "code",
   "execution_count": 1,
   "id": "66c5907b-0e2d-4bed-8ca6-8352cd40b635",
   "metadata": {},
   "outputs": [],
   "source": [
    "import os\n",
    "import json\n",
    "import librosa\n",
    "import soundfile as sf\n",
    "from tqdm import tqdm\n",
    "\n",
    "def is_json(filename):\n",
    "    return filename[-4:] == 'json'\n",
    "\n",
    "def resample_data(root_dir, save_dir):\n",
    "    len_root_dir = len(root_dir)\n",
    "    for dirpath, dirnames, filenames in os.walk(root_dir):\n",
    "        print(\"Processing:\", dirpath)\n",
    "        num_files = len(filenames)\n",
    "        with tqdm(total=num_files, desc=\"Rasampling files in progress\") as pbar:\n",
    "            for filename in filenames:\n",
    "                if is_json(filename):\n",
    "                    filepath = os.path.join(dirpath, filename)\n",
    "                    with open(filepath, \"r\", encoding=\"utf-8\") as json_file:\n",
    "                        data = json.load(json_file)\n",
    "    \n",
    "                        # wav file (1)\n",
    "                        wav_filename = filename.replace('.json', '.wav')\n",
    "                        wav_filepath = dirpath.replace('라벨링', '원천')\n",
    "                        wav_filepath_SD = os.path.join(wav_filepath, wav_filename)\n",
    "                        wav_filepath_SN = wav_filepath_SD.replace('SD', 'SN')\n",
    "                        \n",
    "                        if os.path.exists(wav_filepath_SD):\n",
    "                            y_SD, sr = librosa.load(wav_filepath_SD, sr=16000)\n",
    "                        if os.path.exists(wav_filepath_SN):\n",
    "                            y_SN, _ = librosa.load(wav_filepath_SN, sr=16000)\n",
    "                        \n",
    "                        for i in range(len(data['dialogs'])):\n",
    "                            # json file\n",
    "                            text = data[\"dialogs\"][i][\"speakerText\"]\n",
    "                            start = int(data[\"dialogs\"][i][\"startTime\"])\n",
    "                            end = int(data[\"dialogs\"][i][\"endTime\"]) + 1\n",
    "    \n",
    "                            if end-start > 30: # 30초 이상 음성은 제거한다.\n",
    "                                continue\n",
    "    \n",
    "                            new_data = {\n",
    "                                \"annotations\" : {\n",
    "                                    \"note\" : text\n",
    "                                }\n",
    "                            }\n",
    "    \n",
    "                            new_json_path_SD = save_dir + filepath[len_root_dir:-5] + '_' + str(i) + '.json'\n",
    "                            new_json_path_SN = new_json_path_SD.replace('SD', 'SN')\n",
    "                            os.makedirs(os.path.split(new_json_path_SD)[0], exist_ok=True)\n",
    "                            if os.path.exists(wav_filepath_SD):\n",
    "                                with open(new_json_path_SD, 'w', encoding='utf-8') as file:\n",
    "                                    json.dump(new_data, file, ensure_ascii=False)\n",
    "                            if os.path.exists(wav_filepath_SN):\n",
    "                                with open(new_json_path_SN, 'w', encoding='utf-8') as file:\n",
    "                                    json.dump(new_data, file, ensure_ascii=False)\n",
    "    \n",
    "                            # wav file (2)\n",
    "                            new_wav_path_SD = save_dir + wav_filepath_SD[len_root_dir:-4] + '_' + str(i) + '.wav'\n",
    "                            new_wav_path_SN = save_dir + wav_filepath_SN[len_root_dir:-4] + '_' + str(i) + '.wav'\n",
    "    \n",
    "                            os.makedirs(os.path.split(new_wav_path_SD)[0], exist_ok=True)\n",
    "                            if os.path.exists(wav_filepath_SD):\n",
    "                                sf.write(new_wav_path_SD, y_SD[int(start*16000):int(end*16000 - 1)], sr)\n",
    "                            if os.path.exists(wav_filepath_SN):\n",
    "                                sf.write(new_wav_path_SN, y_SN[int(start*16000):int(end*16000 - 1)], sr)\n",
    "                pbar.update(1)\n",
    "    print(\"Done!\")"
   ]
  },
  {
   "cell_type": "code",
   "execution_count": 2,
   "id": "4b37e47d-d6a4-40d4-ae17-769a72472396",
   "metadata": {},
   "outputs": [
    {
     "name": "stdout",
     "output_type": "stream",
     "text": [
      "Processing: D:/01 서울시립대학교/03 5학년 2학기/03 컴퓨터종합설계/008.소음 환경 음성인식 데이터\n"
     ]
    },
    {
     "name": "stderr",
     "output_type": "stream",
     "text": [
      "Rasampling files in progress: 0it [00:00, ?it/s]\n"
     ]
    },
    {
     "name": "stdout",
     "output_type": "stream",
     "text": [
      "Processing: D:/01 서울시립대학교/03 5학년 2학기/03 컴퓨터종합설계/008.소음 환경 음성인식 데이터\\01.데이터\n"
     ]
    },
    {
     "name": "stderr",
     "output_type": "stream",
     "text": [
      "Rasampling files in progress: 0it [00:00, ?it/s]\n"
     ]
    },
    {
     "name": "stdout",
     "output_type": "stream",
     "text": [
      "Processing: D:/01 서울시립대학교/03 5학년 2학기/03 컴퓨터종합설계/008.소음 환경 음성인식 데이터\\01.데이터\\2.Validation\n"
     ]
    },
    {
     "name": "stderr",
     "output_type": "stream",
     "text": [
      "Rasampling files in progress: 0it [00:00, ?it/s]\n"
     ]
    },
    {
     "name": "stdout",
     "output_type": "stream",
     "text": [
      "Processing: D:/01 서울시립대학교/03 5학년 2학기/03 컴퓨터종합설계/008.소음 환경 음성인식 데이터\\01.데이터\\2.Validation\\라벨링데이터\n"
     ]
    },
    {
     "name": "stderr",
     "output_type": "stream",
     "text": [
      "Rasampling files in progress: 100%|█████████████████████████████████████████████████████| 1/1 [00:00<00:00, 999.60it/s]\n"
     ]
    },
    {
     "name": "stdout",
     "output_type": "stream",
     "text": [
      "Processing: D:/01 서울시립대학교/03 5학년 2학기/03 컴퓨터종합설계/008.소음 환경 음성인식 데이터\\01.데이터\\2.Validation\\라벨링데이터\\01.가전소음\n"
     ]
    },
    {
     "name": "stderr",
     "output_type": "stream",
     "text": [
      "Rasampling files in progress: 0it [00:00, ?it/s]\n"
     ]
    },
    {
     "name": "stdout",
     "output_type": "stream",
     "text": [
      "Processing: D:/01 서울시립대학교/03 5학년 2학기/03 컴퓨터종합설계/008.소음 환경 음성인식 데이터\\01.데이터\\2.Validation\\라벨링데이터\\01.가전소음\\01.세탁기,건조기\n"
     ]
    },
    {
     "name": "stderr",
     "output_type": "stream",
     "text": [
      "Rasampling files in progress: 100%|██████████████████████████████████████████████████| 766/766 [14:29<00:00,  1.13s/it]\n"
     ]
    },
    {
     "name": "stdout",
     "output_type": "stream",
     "text": [
      "Processing: D:/01 서울시립대학교/03 5학년 2학기/03 컴퓨터종합설계/008.소음 환경 음성인식 데이터\\01.데이터\\2.Validation\\라벨링데이터\\01.가전소음\\02.청소기\n"
     ]
    },
    {
     "name": "stderr",
     "output_type": "stream",
     "text": [
      "Rasampling files in progress: 100%|██████████████████████████████████████████████████| 300/300 [05:33<00:00,  1.11s/it]\n"
     ]
    },
    {
     "name": "stdout",
     "output_type": "stream",
     "text": [
      "Processing: D:/01 서울시립대학교/03 5학년 2학기/03 컴퓨터종합설계/008.소음 환경 음성인식 데이터\\01.데이터\\2.Validation\\라벨링데이터\\01.가전소음\\03.가전소음_기타소음\n"
     ]
    },
    {
     "name": "stderr",
     "output_type": "stream",
     "text": [
      "Rasampling files in progress: 100%|████████████████████████████████████████████████| 1896/1896 [36:37<00:00,  1.16s/it]\n"
     ]
    },
    {
     "name": "stdout",
     "output_type": "stream",
     "text": [
      "Processing: D:/01 서울시립대학교/03 5학년 2학기/03 컴퓨터종합설계/008.소음 환경 음성인식 데이터\\01.데이터\\2.Validation\\라벨링데이터\\02.교통수단\n"
     ]
    },
    {
     "name": "stderr",
     "output_type": "stream",
     "text": [
      "Rasampling files in progress: 0it [00:00, ?it/s]\n"
     ]
    },
    {
     "name": "stdout",
     "output_type": "stream",
     "text": [
      "Processing: D:/01 서울시립대학교/03 5학년 2학기/03 컴퓨터종합설계/008.소음 환경 음성인식 데이터\\01.데이터\\2.Validation\\라벨링데이터\\02.교통수단\\01.바이크\n"
     ]
    },
    {
     "name": "stderr",
     "output_type": "stream",
     "text": [
      "Rasampling files in progress: 100%|██████████████████████████████████████████████████| 106/106 [02:04<00:00,  1.17s/it]\n"
     ]
    },
    {
     "name": "stdout",
     "output_type": "stream",
     "text": [
      "Processing: D:/01 서울시립대학교/03 5학년 2학기/03 컴퓨터종합설계/008.소음 환경 음성인식 데이터\\01.데이터\\2.Validation\\라벨링데이터\\02.교통수단\\02.싸이렌\n"
     ]
    },
    {
     "name": "stderr",
     "output_type": "stream",
     "text": [
      "Rasampling files in progress: 100%|████████████████████████████████████████████████████| 98/98 [01:45<00:00,  1.08s/it]\n"
     ]
    },
    {
     "name": "stdout",
     "output_type": "stream",
     "text": [
      "Processing: D:/01 서울시립대학교/03 5학년 2학기/03 컴퓨터종합설계/008.소음 환경 음성인식 데이터\\01.데이터\\2.Validation\\라벨링데이터\\02.교통수단\\03.경적\n"
     ]
    },
    {
     "name": "stderr",
     "output_type": "stream",
     "text": [
      "Rasampling files in progress: 100%|██████████████████████████████████████████████████| 112/112 [02:06<00:00,  1.13s/it]\n"
     ]
    },
    {
     "name": "stdout",
     "output_type": "stream",
     "text": [
      "Processing: D:/01 서울시립대학교/03 5학년 2학기/03 컴퓨터종합설계/008.소음 환경 음성인식 데이터\\01.데이터\\2.Validation\\라벨링데이터\\02.교통수단\\04.교통수단_기타소음\n"
     ]
    },
    {
     "name": "stderr",
     "output_type": "stream",
     "text": [
      "Rasampling files in progress: 100%|██████████████████████████████████████████████████| 204/204 [03:26<00:00,  1.01s/it]\n"
     ]
    },
    {
     "name": "stdout",
     "output_type": "stream",
     "text": [
      "Processing: D:/01 서울시립대학교/03 5학년 2학기/03 컴퓨터종합설계/008.소음 환경 음성인식 데이터\\01.데이터\\2.Validation\\라벨링데이터\\03.길거리\n"
     ]
    },
    {
     "name": "stderr",
     "output_type": "stream",
     "text": [
      "Rasampling files in progress: 0it [00:00, ?it/s]\n"
     ]
    },
    {
     "name": "stdout",
     "output_type": "stream",
     "text": [
      "Processing: D:/01 서울시립대학교/03 5학년 2학기/03 컴퓨터종합설계/008.소음 환경 음성인식 데이터\\01.데이터\\2.Validation\\라벨링데이터\\03.길거리\\01.도로변\n"
     ]
    },
    {
     "name": "stderr",
     "output_type": "stream",
     "text": [
      "Rasampling files in progress: 100%|██████████████████████████████████████████████████| 608/608 [09:24<00:00,  1.08it/s]\n"
     ]
    },
    {
     "name": "stdout",
     "output_type": "stream",
     "text": [
      "Processing: D:/01 서울시립대학교/03 5학년 2학기/03 컴퓨터종합설계/008.소음 환경 음성인식 데이터\\01.데이터\\2.Validation\\라벨링데이터\\03.길거리\\02.인파\n"
     ]
    },
    {
     "name": "stderr",
     "output_type": "stream",
     "text": [
      "Rasampling files in progress: 100%|██████████████████████████████████████████████████| 108/108 [01:37<00:00,  1.10it/s]\n"
     ]
    },
    {
     "name": "stdout",
     "output_type": "stream",
     "text": [
      "Processing: D:/01 서울시립대학교/03 5학년 2학기/03 컴퓨터종합설계/008.소음 환경 음성인식 데이터\\01.데이터\\2.Validation\\라벨링데이터\\03.길거리\\03.길거리_기타소음\n"
     ]
    },
    {
     "name": "stderr",
     "output_type": "stream",
     "text": [
      "Rasampling files in progress: 100%|██████████████████████████████████████████████████| 292/292 [05:07<00:00,  1.05s/it]\n"
     ]
    },
    {
     "name": "stdout",
     "output_type": "stream",
     "text": [
      "Processing: D:/01 서울시립대학교/03 5학년 2학기/03 컴퓨터종합설계/008.소음 환경 음성인식 데이터\\01.데이터\\2.Validation\\라벨링데이터\\04.카페,음식점\n"
     ]
    },
    {
     "name": "stderr",
     "output_type": "stream",
     "text": [
      "Rasampling files in progress: 0it [00:00, ?it/s]\n"
     ]
    },
    {
     "name": "stdout",
     "output_type": "stream",
     "text": [
      "Processing: D:/01 서울시립대학교/03 5학년 2학기/03 컴퓨터종합설계/008.소음 환경 음성인식 데이터\\01.데이터\\2.Validation\\라벨링데이터\\04.카페,음식점\\01.대화소음\n"
     ]
    },
    {
     "name": "stderr",
     "output_type": "stream",
     "text": [
      "Rasampling files in progress: 100%|████████████████████████████████████████████████| 1190/1190 [15:31<00:00,  1.28it/s]\n"
     ]
    },
    {
     "name": "stdout",
     "output_type": "stream",
     "text": [
      "Processing: D:/01 서울시립대학교/03 5학년 2학기/03 컴퓨터종합설계/008.소음 환경 음성인식 데이터\\01.데이터\\2.Validation\\라벨링데이터\\04.카페,음식점\\02.업소소음\n"
     ]
    },
    {
     "name": "stderr",
     "output_type": "stream",
     "text": [
      "Rasampling files in progress: 100%|████████████████████████████████████████████████| 1310/1310 [23:19<00:00,  1.07s/it]\n"
     ]
    },
    {
     "name": "stdout",
     "output_type": "stream",
     "text": [
      "Processing: D:/01 서울시립대학교/03 5학년 2학기/03 컴퓨터종합설계/008.소음 환경 음성인식 데이터\\01.데이터\\2.Validation\\라벨링데이터\\04.카페,음식점\\03.카페,음식점_기타소음\n"
     ]
    },
    {
     "name": "stderr",
     "output_type": "stream",
     "text": [
      "Rasampling files in progress: 100%|██████████████████████████████████████████████████| 442/442 [06:03<00:00,  1.22it/s]\n"
     ]
    },
    {
     "name": "stdout",
     "output_type": "stream",
     "text": [
      "Processing: D:/01 서울시립대학교/03 5학년 2학기/03 컴퓨터종합설계/008.소음 환경 음성인식 데이터\\01.데이터\\2.Validation\\라벨링데이터\\05.시장,쇼핑몰\n"
     ]
    },
    {
     "name": "stderr",
     "output_type": "stream",
     "text": [
      "Rasampling files in progress: 0it [00:00, ?it/s]\n"
     ]
    },
    {
     "name": "stdout",
     "output_type": "stream",
     "text": [
      "Processing: D:/01 서울시립대학교/03 5학년 2학기/03 컴퓨터종합설계/008.소음 환경 음성인식 데이터\\01.데이터\\2.Validation\\라벨링데이터\\05.시장,쇼핑몰\\01.전통시장\n"
     ]
    },
    {
     "name": "stderr",
     "output_type": "stream",
     "text": [
      "Rasampling files in progress: 100%|██████████████████████████████████████████████████| 296/296 [04:51<00:00,  1.02it/s]\n"
     ]
    },
    {
     "name": "stdout",
     "output_type": "stream",
     "text": [
      "Processing: D:/01 서울시립대학교/03 5학년 2학기/03 컴퓨터종합설계/008.소음 환경 음성인식 데이터\\01.데이터\\2.Validation\\라벨링데이터\\05.시장,쇼핑몰\\02.복합쇼핑몰\n"
     ]
    },
    {
     "name": "stderr",
     "output_type": "stream",
     "text": [
      "Rasampling files in progress: 100%|████████████████████████████████████████████████| 2374/2374 [37:38<00:00,  1.05it/s]\n"
     ]
    },
    {
     "name": "stdout",
     "output_type": "stream",
     "text": [
      "Processing: D:/01 서울시립대학교/03 5학년 2학기/03 컴퓨터종합설계/008.소음 환경 음성인식 데이터\\01.데이터\\2.Validation\\라벨링데이터\\05.시장,쇼핑몰\\03.시장,쇼핑몰_기타소음\n"
     ]
    },
    {
     "name": "stderr",
     "output_type": "stream",
     "text": [
      "Rasampling files in progress: 100%|██████████████████████████████████████████████████| 334/334 [04:13<00:00,  1.32it/s]\n"
     ]
    },
    {
     "name": "stdout",
     "output_type": "stream",
     "text": [
      "Processing: D:/01 서울시립대학교/03 5학년 2학기/03 컴퓨터종합설계/008.소음 환경 음성인식 데이터\\01.데이터\\2.Validation\\라벨링데이터\\06.지하철,버스\n"
     ]
    },
    {
     "name": "stderr",
     "output_type": "stream",
     "text": [
      "Rasampling files in progress: 0it [00:00, ?it/s]\n"
     ]
    },
    {
     "name": "stdout",
     "output_type": "stream",
     "text": [
      "Processing: D:/01 서울시립대학교/03 5학년 2학기/03 컴퓨터종합설계/008.소음 환경 음성인식 데이터\\01.데이터\\2.Validation\\라벨링데이터\\06.지하철,버스\\01.지하철플랫폼\n"
     ]
    },
    {
     "name": "stderr",
     "output_type": "stream",
     "text": [
      "Rasampling files in progress: 100%|██████████████████████████████████████████████████| 334/334 [04:33<00:00,  1.22it/s]\n"
     ]
    },
    {
     "name": "stdout",
     "output_type": "stream",
     "text": [
      "Processing: D:/01 서울시립대학교/03 5학년 2학기/03 컴퓨터종합설계/008.소음 환경 음성인식 데이터\\01.데이터\\2.Validation\\라벨링데이터\\06.지하철,버스\\02.지하철안\n"
     ]
    },
    {
     "name": "stderr",
     "output_type": "stream",
     "text": [
      "Rasampling files in progress: 100%|██████████████████████████████████████████████████| 556/556 [07:01<00:00,  1.32it/s]\n"
     ]
    },
    {
     "name": "stdout",
     "output_type": "stream",
     "text": [
      "Processing: D:/01 서울시립대학교/03 5학년 2학기/03 컴퓨터종합설계/008.소음 환경 음성인식 데이터\\01.데이터\\2.Validation\\라벨링데이터\\06.지하철,버스\\03.기차안\n"
     ]
    },
    {
     "name": "stderr",
     "output_type": "stream",
     "text": [
      "Rasampling files in progress: 100%|██████████████████████████████████████████████████| 176/176 [02:04<00:00,  1.42it/s]\n"
     ]
    },
    {
     "name": "stdout",
     "output_type": "stream",
     "text": [
      "Processing: D:/01 서울시립대학교/03 5학년 2학기/03 컴퓨터종합설계/008.소음 환경 음성인식 데이터\\01.데이터\\2.Validation\\라벨링데이터\\06.지하철,버스\\04.버스안\n"
     ]
    },
    {
     "name": "stderr",
     "output_type": "stream",
     "text": [
      "Rasampling files in progress: 100%|██████████████████████████████████████████████████| 594/594 [07:35<00:00,  1.30it/s]\n"
     ]
    },
    {
     "name": "stdout",
     "output_type": "stream",
     "text": [
      "Processing: D:/01 서울시립대학교/03 5학년 2학기/03 컴퓨터종합설계/008.소음 환경 음성인식 데이터\\01.데이터\\2.Validation\\라벨링데이터\\07.터미널\n"
     ]
    },
    {
     "name": "stderr",
     "output_type": "stream",
     "text": [
      "Rasampling files in progress: 0it [00:00, ?it/s]\n"
     ]
    },
    {
     "name": "stdout",
     "output_type": "stream",
     "text": [
      "Processing: D:/01 서울시립대학교/03 5학년 2학기/03 컴퓨터종합설계/008.소음 환경 음성인식 데이터\\01.데이터\\2.Validation\\라벨링데이터\\07.터미널\\01.기차역대합실\n"
     ]
    },
    {
     "name": "stderr",
     "output_type": "stream",
     "text": [
      "Rasampling files in progress: 100%|██████████████████████████████████████████████████| 526/526 [08:16<00:00,  1.06it/s]\n"
     ]
    },
    {
     "name": "stdout",
     "output_type": "stream",
     "text": [
      "Processing: D:/01 서울시립대학교/03 5학년 2학기/03 컴퓨터종합설계/008.소음 환경 음성인식 데이터\\01.데이터\\2.Validation\\라벨링데이터\\07.터미널\\02.버스터미널대합실\n"
     ]
    },
    {
     "name": "stderr",
     "output_type": "stream",
     "text": [
      "Rasampling files in progress: 100%|██████████████████████████████████████████████████| 534/534 [07:45<00:00,  1.15it/s]\n"
     ]
    },
    {
     "name": "stdout",
     "output_type": "stream",
     "text": [
      "Processing: D:/01 서울시립대학교/03 5학년 2학기/03 컴퓨터종합설계/008.소음 환경 음성인식 데이터\\01.데이터\\2.Validation\\라벨링데이터\\07.터미널\\03.터미널_기타소음\n"
     ]
    },
    {
     "name": "stderr",
     "output_type": "stream",
     "text": [
      "Rasampling files in progress: 100%|██████████████████████████████████████████████████| 450/450 [07:05<00:00,  1.06it/s]\n"
     ]
    },
    {
     "name": "stdout",
     "output_type": "stream",
     "text": [
      "Processing: D:/01 서울시립대학교/03 5학년 2학기/03 컴퓨터종합설계/008.소음 환경 음성인식 데이터\\01.데이터\\2.Validation\\라벨링데이터\\08.공사장\n"
     ]
    },
    {
     "name": "stderr",
     "output_type": "stream",
     "text": [
      "Rasampling files in progress: 0it [00:00, ?it/s]\n"
     ]
    },
    {
     "name": "stdout",
     "output_type": "stream",
     "text": [
      "Processing: D:/01 서울시립대학교/03 5학년 2학기/03 컴퓨터종합설계/008.소음 환경 음성인식 데이터\\01.데이터\\2.Validation\\라벨링데이터\\08.공사장\\01.실외공사장\n"
     ]
    },
    {
     "name": "stderr",
     "output_type": "stream",
     "text": [
      "Rasampling files in progress: 100%|██████████████████████████████████████████████████| 404/404 [05:17<00:00,  1.27it/s]\n"
     ]
    },
    {
     "name": "stdout",
     "output_type": "stream",
     "text": [
      "Processing: D:/01 서울시립대학교/03 5학년 2학기/03 컴퓨터종합설계/008.소음 환경 음성인식 데이터\\01.데이터\\2.Validation\\라벨링데이터\\08.공사장\\02.실내공사장\n"
     ]
    },
    {
     "name": "stderr",
     "output_type": "stream",
     "text": [
      "Rasampling files in progress: 100%|██████████████████████████████████████████████████| 186/186 [02:04<00:00,  1.49it/s]\n"
     ]
    },
    {
     "name": "stdout",
     "output_type": "stream",
     "text": [
      "Processing: D:/01 서울시립대학교/03 5학년 2학기/03 컴퓨터종합설계/008.소음 환경 음성인식 데이터\\01.데이터\\2.Validation\\라벨링데이터\\08.공사장\\03.공사장_기타소음\n"
     ]
    },
    {
     "name": "stderr",
     "output_type": "stream",
     "text": [
      "Rasampling files in progress: 100%|██████████████████████████████████████████████████| 326/326 [04:17<00:00,  1.27it/s]\n"
     ]
    },
    {
     "name": "stdout",
     "output_type": "stream",
     "text": [
      "Processing: D:/01 서울시립대학교/03 5학년 2학기/03 컴퓨터종합설계/008.소음 환경 음성인식 데이터\\01.데이터\\2.Validation\\라벨링데이터\\09.공장\n"
     ]
    },
    {
     "name": "stderr",
     "output_type": "stream",
     "text": [
      "Rasampling files in progress: 0it [00:00, ?it/s]\n"
     ]
    },
    {
     "name": "stdout",
     "output_type": "stream",
     "text": [
      "Processing: D:/01 서울시립대학교/03 5학년 2학기/03 컴퓨터종합설계/008.소음 환경 음성인식 데이터\\01.데이터\\2.Validation\\라벨링데이터\\09.공장\\01.가공공정\n"
     ]
    },
    {
     "name": "stderr",
     "output_type": "stream",
     "text": [
      "Rasampling files in progress: 100%|██████████████████████████████████████████████████| 154/154 [02:07<00:00,  1.20it/s]\n"
     ]
    },
    {
     "name": "stdout",
     "output_type": "stream",
     "text": [
      "Processing: D:/01 서울시립대학교/03 5학년 2학기/03 컴퓨터종합설계/008.소음 환경 음성인식 데이터\\01.데이터\\2.Validation\\라벨링데이터\\09.공장\\02.조립공정\n"
     ]
    },
    {
     "name": "stderr",
     "output_type": "stream",
     "text": [
      "Rasampling files in progress: 100%|██████████████████████████████████████████████████| 246/246 [02:48<00:00,  1.46it/s]\n"
     ]
    },
    {
     "name": "stdout",
     "output_type": "stream",
     "text": [
      "Processing: D:/01 서울시립대학교/03 5학년 2학기/03 컴퓨터종합설계/008.소음 환경 음성인식 데이터\\01.데이터\\2.Validation\\라벨링데이터\\09.공장\\03.공장_기타소음\n"
     ]
    },
    {
     "name": "stderr",
     "output_type": "stream",
     "text": [
      "Rasampling files in progress: 100%|██████████████████████████████████████████████████| 612/612 [10:04<00:00,  1.01it/s]\n"
     ]
    },
    {
     "name": "stdout",
     "output_type": "stream",
     "text": [
      "Processing: D:/01 서울시립대학교/03 5학년 2학기/03 컴퓨터종합설계/008.소음 환경 음성인식 데이터\\01.데이터\\2.Validation\\라벨링데이터\\10.일반자연\n"
     ]
    },
    {
     "name": "stderr",
     "output_type": "stream",
     "text": [
      "Rasampling files in progress: 0it [00:00, ?it/s]\n"
     ]
    },
    {
     "name": "stdout",
     "output_type": "stream",
     "text": [
      "Processing: D:/01 서울시립대학교/03 5학년 2학기/03 컴퓨터종합설계/008.소음 환경 음성인식 데이터\\01.데이터\\2.Validation\\라벨링데이터\\10.일반자연\\01.빗소리\n"
     ]
    },
    {
     "name": "stderr",
     "output_type": "stream",
     "text": [
      "Rasampling files in progress: 100%|██████████████████████████████████████████████████| 704/704 [10:56<00:00,  1.07it/s]\n"
     ]
    },
    {
     "name": "stdout",
     "output_type": "stream",
     "text": [
      "Processing: D:/01 서울시립대학교/03 5학년 2학기/03 컴퓨터종합설계/008.소음 환경 음성인식 데이터\\01.데이터\\2.Validation\\라벨링데이터\\10.일반자연\\02.파도\n"
     ]
    },
    {
     "name": "stderr",
     "output_type": "stream",
     "text": [
      "Rasampling files in progress: 100%|██████████████████████████████████████████████████| 250/250 [03:56<00:00,  1.06it/s]\n"
     ]
    },
    {
     "name": "stdout",
     "output_type": "stream",
     "text": [
      "Processing: D:/01 서울시립대학교/03 5학년 2학기/03 컴퓨터종합설계/008.소음 환경 음성인식 데이터\\01.데이터\\2.Validation\\라벨링데이터\\10.일반자연\\03.일반자연_기타소음\n"
     ]
    },
    {
     "name": "stderr",
     "output_type": "stream",
     "text": [
      "Rasampling files in progress: 100%|██████████████████████████████████████████████████| 146/146 [02:05<00:00,  1.17it/s]\n"
     ]
    },
    {
     "name": "stdout",
     "output_type": "stream",
     "text": [
      "Processing: D:/01 서울시립대학교/03 5학년 2학기/03 컴퓨터종합설계/008.소음 환경 음성인식 데이터\\01.데이터\\2.Validation\\라벨링데이터\\11.복합소음\n"
     ]
    },
    {
     "name": "stderr",
     "output_type": "stream",
     "text": [
      "Rasampling files in progress: 0it [00:00, ?it/s]\n"
     ]
    },
    {
     "name": "stdout",
     "output_type": "stream",
     "text": [
      "Processing: D:/01 서울시립대학교/03 5학년 2학기/03 컴퓨터종합설계/008.소음 환경 음성인식 데이터\\01.데이터\\2.Validation\\라벨링데이터\\11.복합소음\\01.2가지이상소음원\n"
     ]
    },
    {
     "name": "stderr",
     "output_type": "stream",
     "text": [
      "Rasampling files in progress: 100%|████████████████████████████████████████████████| 2758/2758 [29:32<00:00,  1.56it/s]\n"
     ]
    },
    {
     "name": "stdout",
     "output_type": "stream",
     "text": [
      "Processing: D:/01 서울시립대학교/03 5학년 2학기/03 컴퓨터종합설계/008.소음 환경 음성인식 데이터\\01.데이터\\2.Validation\\원천데이터\n"
     ]
    },
    {
     "name": "stderr",
     "output_type": "stream",
     "text": [
      "Rasampling files in progress: 100%|████████████████████████████████████████████████████████████| 11/11 [00:00<?, ?it/s]\n"
     ]
    },
    {
     "name": "stdout",
     "output_type": "stream",
     "text": [
      "Processing: D:/01 서울시립대학교/03 5학년 2학기/03 컴퓨터종합설계/008.소음 환경 음성인식 데이터\\01.데이터\\2.Validation\\원천데이터\\01.가전소음\n"
     ]
    },
    {
     "name": "stderr",
     "output_type": "stream",
     "text": [
      "Rasampling files in progress: 0it [00:00, ?it/s]\n"
     ]
    },
    {
     "name": "stdout",
     "output_type": "stream",
     "text": [
      "Processing: D:/01 서울시립대학교/03 5학년 2학기/03 컴퓨터종합설계/008.소음 환경 음성인식 데이터\\01.데이터\\2.Validation\\원천데이터\\01.가전소음\\01.세탁기,건조기\n"
     ]
    },
    {
     "name": "stderr",
     "output_type": "stream",
     "text": [
      "Rasampling files in progress: 100%|██████████████████████████████████████████████████████████| 766/766 [00:00<?, ?it/s]\n"
     ]
    },
    {
     "name": "stdout",
     "output_type": "stream",
     "text": [
      "Processing: D:/01 서울시립대학교/03 5학년 2학기/03 컴퓨터종합설계/008.소음 환경 음성인식 데이터\\01.데이터\\2.Validation\\원천데이터\\01.가전소음\\02.청소기\n"
     ]
    },
    {
     "name": "stderr",
     "output_type": "stream",
     "text": [
      "Rasampling files in progress: 100%|██████████████████████████████████████████████████████████| 300/300 [00:00<?, ?it/s]\n"
     ]
    },
    {
     "name": "stdout",
     "output_type": "stream",
     "text": [
      "Processing: D:/01 서울시립대학교/03 5학년 2학기/03 컴퓨터종합설계/008.소음 환경 음성인식 데이터\\01.데이터\\2.Validation\\원천데이터\\01.가전소음\\03.가전소음_기타소음\n"
     ]
    },
    {
     "name": "stderr",
     "output_type": "stream",
     "text": [
      "Rasampling files in progress: 100%|███████████████████████████████████████████| 1896/1896 [00:00<00:00, 1895233.65it/s]\n"
     ]
    },
    {
     "name": "stdout",
     "output_type": "stream",
     "text": [
      "Processing: D:/01 서울시립대학교/03 5학년 2학기/03 컴퓨터종합설계/008.소음 환경 음성인식 데이터\\01.데이터\\2.Validation\\원천데이터\\02.교통수단\n"
     ]
    },
    {
     "name": "stderr",
     "output_type": "stream",
     "text": [
      "Rasampling files in progress: 0it [00:00, ?it/s]\n"
     ]
    },
    {
     "name": "stdout",
     "output_type": "stream",
     "text": [
      "Processing: D:/01 서울시립대학교/03 5학년 2학기/03 컴퓨터종합설계/008.소음 환경 음성인식 데이터\\01.데이터\\2.Validation\\원천데이터\\02.교통수단\\01.바이크\n"
     ]
    },
    {
     "name": "stderr",
     "output_type": "stream",
     "text": [
      "Rasampling files in progress: 100%|██████████████████████████████████████████████████████████| 106/106 [00:00<?, ?it/s]\n"
     ]
    },
    {
     "name": "stdout",
     "output_type": "stream",
     "text": [
      "Processing: D:/01 서울시립대학교/03 5학년 2학기/03 컴퓨터종합설계/008.소음 환경 음성인식 데이터\\01.데이터\\2.Validation\\원천데이터\\02.교통수단\\02.싸이렌\n"
     ]
    },
    {
     "name": "stderr",
     "output_type": "stream",
     "text": [
      "Rasampling files in progress: 100%|████████████████████████████████████████████████████████████| 98/98 [00:00<?, ?it/s]\n"
     ]
    },
    {
     "name": "stdout",
     "output_type": "stream",
     "text": [
      "Processing: D:/01 서울시립대학교/03 5학년 2학기/03 컴퓨터종합설계/008.소음 환경 음성인식 데이터\\01.데이터\\2.Validation\\원천데이터\\02.교통수단\\03.경적\n"
     ]
    },
    {
     "name": "stderr",
     "output_type": "stream",
     "text": [
      "Rasampling files in progress: 100%|██████████████████████████████████████████████| 112/112 [00:00<00:00, 111954.73it/s]\n"
     ]
    },
    {
     "name": "stdout",
     "output_type": "stream",
     "text": [
      "Processing: D:/01 서울시립대학교/03 5학년 2학기/03 컴퓨터종합설계/008.소음 환경 음성인식 데이터\\01.데이터\\2.Validation\\원천데이터\\02.교통수단\\04.교통수단_기타소음\n"
     ]
    },
    {
     "name": "stderr",
     "output_type": "stream",
     "text": [
      "Rasampling files in progress: 100%|██████████████████████████████████████████████████████████| 204/204 [00:00<?, ?it/s]\n"
     ]
    },
    {
     "name": "stdout",
     "output_type": "stream",
     "text": [
      "Processing: D:/01 서울시립대학교/03 5학년 2학기/03 컴퓨터종합설계/008.소음 환경 음성인식 데이터\\01.데이터\\2.Validation\\원천데이터\\03.길거리\n"
     ]
    },
    {
     "name": "stderr",
     "output_type": "stream",
     "text": [
      "Rasampling files in progress: 0it [00:00, ?it/s]\n"
     ]
    },
    {
     "name": "stdout",
     "output_type": "stream",
     "text": [
      "Processing: D:/01 서울시립대학교/03 5학년 2학기/03 컴퓨터종합설계/008.소음 환경 음성인식 데이터\\01.데이터\\2.Validation\\원천데이터\\03.길거리\\01.도로변\n"
     ]
    },
    {
     "name": "stderr",
     "output_type": "stream",
     "text": [
      "Rasampling files in progress: 100%|██████████████████████████████████████████████████████████| 608/608 [00:00<?, ?it/s]\n"
     ]
    },
    {
     "name": "stdout",
     "output_type": "stream",
     "text": [
      "Processing: D:/01 서울시립대학교/03 5학년 2학기/03 컴퓨터종합설계/008.소음 환경 음성인식 데이터\\01.데이터\\2.Validation\\원천데이터\\03.길거리\\02.인파\n"
     ]
    },
    {
     "name": "stderr",
     "output_type": "stream",
     "text": [
      "Rasampling files in progress: 100%|██████████████████████████████████████████████████████████| 108/108 [00:00<?, ?it/s]\n"
     ]
    },
    {
     "name": "stdout",
     "output_type": "stream",
     "text": [
      "Processing: D:/01 서울시립대학교/03 5학년 2학기/03 컴퓨터종합설계/008.소음 환경 음성인식 데이터\\01.데이터\\2.Validation\\원천데이터\\03.길거리\\03.길거리_기타소음\n"
     ]
    },
    {
     "name": "stderr",
     "output_type": "stream",
     "text": [
      "Rasampling files in progress: 100%|██████████████████████████████████████████████████████████| 292/292 [00:00<?, ?it/s]\n"
     ]
    },
    {
     "name": "stdout",
     "output_type": "stream",
     "text": [
      "Processing: D:/01 서울시립대학교/03 5학년 2학기/03 컴퓨터종합설계/008.소음 환경 음성인식 데이터\\01.데이터\\2.Validation\\원천데이터\\04.카페,음식점\n"
     ]
    },
    {
     "name": "stderr",
     "output_type": "stream",
     "text": [
      "Rasampling files in progress: 0it [00:00, ?it/s]\n"
     ]
    },
    {
     "name": "stdout",
     "output_type": "stream",
     "text": [
      "Processing: D:/01 서울시립대학교/03 5학년 2학기/03 컴퓨터종합설계/008.소음 환경 음성인식 데이터\\01.데이터\\2.Validation\\원천데이터\\04.카페,음식점\\01.대화소음\n"
     ]
    },
    {
     "name": "stderr",
     "output_type": "stream",
     "text": [
      "Rasampling files in progress: 100%|███████████████████████████████████████████| 1190/1190 [00:00<00:00, 1189519.01it/s]\n"
     ]
    },
    {
     "name": "stdout",
     "output_type": "stream",
     "text": [
      "Processing: D:/01 서울시립대학교/03 5학년 2학기/03 컴퓨터종합설계/008.소음 환경 음성인식 데이터\\01.데이터\\2.Validation\\원천데이터\\04.카페,음식점\\02.업소소음\n"
     ]
    },
    {
     "name": "stderr",
     "output_type": "stream",
     "text": [
      "Rasampling files in progress: 100%|███████████████████████████████████████████| 1310/1310 [00:00<00:00, 1307289.61it/s]\n"
     ]
    },
    {
     "name": "stdout",
     "output_type": "stream",
     "text": [
      "Processing: D:/01 서울시립대학교/03 5학년 2학기/03 컴퓨터종합설계/008.소음 환경 음성인식 데이터\\01.데이터\\2.Validation\\원천데이터\\04.카페,음식점\\03.카페,음식점_기타소음\n"
     ]
    },
    {
     "name": "stderr",
     "output_type": "stream",
     "text": [
      "Rasampling files in progress: 100%|██████████████████████████████████████████████████████████| 442/442 [00:00<?, ?it/s]\n"
     ]
    },
    {
     "name": "stdout",
     "output_type": "stream",
     "text": [
      "Processing: D:/01 서울시립대학교/03 5학년 2학기/03 컴퓨터종합설계/008.소음 환경 음성인식 데이터\\01.데이터\\2.Validation\\원천데이터\\05.시장,쇼핑몰\n"
     ]
    },
    {
     "name": "stderr",
     "output_type": "stream",
     "text": [
      "Rasampling files in progress: 0it [00:00, ?it/s]\n"
     ]
    },
    {
     "name": "stdout",
     "output_type": "stream",
     "text": [
      "Processing: D:/01 서울시립대학교/03 5학년 2학기/03 컴퓨터종합설계/008.소음 환경 음성인식 데이터\\01.데이터\\2.Validation\\원천데이터\\05.시장,쇼핑몰\\01.전통시장\n"
     ]
    },
    {
     "name": "stderr",
     "output_type": "stream",
     "text": [
      "Rasampling files in progress: 100%|██████████████████████████████████████████████████████████| 296/296 [00:00<?, ?it/s]\n"
     ]
    },
    {
     "name": "stdout",
     "output_type": "stream",
     "text": [
      "Processing: D:/01 서울시립대학교/03 5학년 2학기/03 컴퓨터종합설계/008.소음 환경 음성인식 데이터\\01.데이터\\2.Validation\\원천데이터\\05.시장,쇼핑몰\\02.복합쇼핑몰\n"
     ]
    },
    {
     "name": "stderr",
     "output_type": "stream",
     "text": [
      "Rasampling files in progress: 100%|███████████████████████████████████████████| 2374/2374 [00:00<00:00, 2373606.13it/s]\n"
     ]
    },
    {
     "name": "stdout",
     "output_type": "stream",
     "text": [
      "Processing: D:/01 서울시립대학교/03 5학년 2학기/03 컴퓨터종합설계/008.소음 환경 음성인식 데이터\\01.데이터\\2.Validation\\원천데이터\\05.시장,쇼핑몰\\03.시장,쇼핑몰_기타소음\n"
     ]
    },
    {
     "name": "stderr",
     "output_type": "stream",
     "text": [
      "Rasampling files in progress: 100%|██████████████████████████████████████████████████████████| 334/334 [00:00<?, ?it/s]\n"
     ]
    },
    {
     "name": "stdout",
     "output_type": "stream",
     "text": [
      "Processing: D:/01 서울시립대학교/03 5학년 2학기/03 컴퓨터종합설계/008.소음 환경 음성인식 데이터\\01.데이터\\2.Validation\\원천데이터\\06.지하철,버스\n"
     ]
    },
    {
     "name": "stderr",
     "output_type": "stream",
     "text": [
      "Rasampling files in progress: 0it [00:00, ?it/s]\n"
     ]
    },
    {
     "name": "stdout",
     "output_type": "stream",
     "text": [
      "Processing: D:/01 서울시립대학교/03 5학년 2학기/03 컴퓨터종합설계/008.소음 환경 음성인식 데이터\\01.데이터\\2.Validation\\원천데이터\\06.지하철,버스\\01.지하철플랫폼\n"
     ]
    },
    {
     "name": "stderr",
     "output_type": "stream",
     "text": [
      "Rasampling files in progress: 100%|██████████████████████████████████████████████████████████| 334/334 [00:00<?, ?it/s]\n"
     ]
    },
    {
     "name": "stdout",
     "output_type": "stream",
     "text": [
      "Processing: D:/01 서울시립대학교/03 5학년 2학기/03 컴퓨터종합설계/008.소음 환경 음성인식 데이터\\01.데이터\\2.Validation\\원천데이터\\06.지하철,버스\\02.지하철안\n"
     ]
    },
    {
     "name": "stderr",
     "output_type": "stream",
     "text": [
      "Rasampling files in progress: 100%|██████████████████████████████████████████████████████████| 556/556 [00:00<?, ?it/s]\n"
     ]
    },
    {
     "name": "stdout",
     "output_type": "stream",
     "text": [
      "Processing: D:/01 서울시립대학교/03 5학년 2학기/03 컴퓨터종합설계/008.소음 환경 음성인식 데이터\\01.데이터\\2.Validation\\원천데이터\\06.지하철,버스\\03.기차안\n"
     ]
    },
    {
     "name": "stderr",
     "output_type": "stream",
     "text": [
      "Rasampling files in progress: 100%|██████████████████████████████████████████████████████████| 176/176 [00:00<?, ?it/s]\n"
     ]
    },
    {
     "name": "stdout",
     "output_type": "stream",
     "text": [
      "Processing: D:/01 서울시립대학교/03 5학년 2학기/03 컴퓨터종합설계/008.소음 환경 음성인식 데이터\\01.데이터\\2.Validation\\원천데이터\\06.지하철,버스\\04.버스안\n"
     ]
    },
    {
     "name": "stderr",
     "output_type": "stream",
     "text": [
      "Rasampling files in progress: 100%|██████████████████████████████████████████████████████████| 594/594 [00:00<?, ?it/s]\n"
     ]
    },
    {
     "name": "stdout",
     "output_type": "stream",
     "text": [
      "Processing: D:/01 서울시립대학교/03 5학년 2학기/03 컴퓨터종합설계/008.소음 환경 음성인식 데이터\\01.데이터\\2.Validation\\원천데이터\\07.터미널\n"
     ]
    },
    {
     "name": "stderr",
     "output_type": "stream",
     "text": [
      "Rasampling files in progress: 0it [00:00, ?it/s]\n"
     ]
    },
    {
     "name": "stdout",
     "output_type": "stream",
     "text": [
      "Processing: D:/01 서울시립대학교/03 5학년 2학기/03 컴퓨터종합설계/008.소음 환경 음성인식 데이터\\01.데이터\\2.Validation\\원천데이터\\07.터미널\\01.기차역대합실\n"
     ]
    },
    {
     "name": "stderr",
     "output_type": "stream",
     "text": [
      "Rasampling files in progress: 100%|██████████████████████████████████████████████████████████| 526/526 [00:00<?, ?it/s]\n"
     ]
    },
    {
     "name": "stdout",
     "output_type": "stream",
     "text": [
      "Processing: D:/01 서울시립대학교/03 5학년 2학기/03 컴퓨터종합설계/008.소음 환경 음성인식 데이터\\01.데이터\\2.Validation\\원천데이터\\07.터미널\\02.버스터미널대합실\n"
     ]
    },
    {
     "name": "stderr",
     "output_type": "stream",
     "text": [
      "Rasampling files in progress: 100%|██████████████████████████████████████████████████████████| 534/534 [00:00<?, ?it/s]\n"
     ]
    },
    {
     "name": "stdout",
     "output_type": "stream",
     "text": [
      "Processing: D:/01 서울시립대학교/03 5학년 2학기/03 컴퓨터종합설계/008.소음 환경 음성인식 데이터\\01.데이터\\2.Validation\\원천데이터\\07.터미널\\03.터미널_기타소음\n"
     ]
    },
    {
     "name": "stderr",
     "output_type": "stream",
     "text": [
      "Rasampling files in progress: 100%|██████████████████████████████████████████████████████████| 450/450 [00:00<?, ?it/s]\n"
     ]
    },
    {
     "name": "stdout",
     "output_type": "stream",
     "text": [
      "Processing: D:/01 서울시립대학교/03 5학년 2학기/03 컴퓨터종합설계/008.소음 환경 음성인식 데이터\\01.데이터\\2.Validation\\원천데이터\\08.공사장\n"
     ]
    },
    {
     "name": "stderr",
     "output_type": "stream",
     "text": [
      "Rasampling files in progress: 0it [00:00, ?it/s]\n"
     ]
    },
    {
     "name": "stdout",
     "output_type": "stream",
     "text": [
      "Processing: D:/01 서울시립대학교/03 5학년 2학기/03 컴퓨터종합설계/008.소음 환경 음성인식 데이터\\01.데이터\\2.Validation\\원천데이터\\08.공사장\\01.실외공사장\n"
     ]
    },
    {
     "name": "stderr",
     "output_type": "stream",
     "text": [
      "Rasampling files in progress: 100%|██████████████████████████████████████████████████████████| 404/404 [00:00<?, ?it/s]\n"
     ]
    },
    {
     "name": "stdout",
     "output_type": "stream",
     "text": [
      "Processing: D:/01 서울시립대학교/03 5학년 2학기/03 컴퓨터종합설계/008.소음 환경 음성인식 데이터\\01.데이터\\2.Validation\\원천데이터\\08.공사장\\02.실내공사장\n"
     ]
    },
    {
     "name": "stderr",
     "output_type": "stream",
     "text": [
      "Rasampling files in progress: 100%|██████████████████████████████████████████████████████████| 186/186 [00:00<?, ?it/s]\n"
     ]
    },
    {
     "name": "stdout",
     "output_type": "stream",
     "text": [
      "Processing: D:/01 서울시립대학교/03 5학년 2학기/03 컴퓨터종합설계/008.소음 환경 음성인식 데이터\\01.데이터\\2.Validation\\원천데이터\\08.공사장\\03.공사장_기타소음\n"
     ]
    },
    {
     "name": "stderr",
     "output_type": "stream",
     "text": [
      "Rasampling files in progress: 100%|██████████████████████████████████████████████| 326/326 [00:00<00:00, 325480.39it/s]\n"
     ]
    },
    {
     "name": "stdout",
     "output_type": "stream",
     "text": [
      "Processing: D:/01 서울시립대학교/03 5학년 2학기/03 컴퓨터종합설계/008.소음 환경 음성인식 데이터\\01.데이터\\2.Validation\\원천데이터\\09.공장\n"
     ]
    },
    {
     "name": "stderr",
     "output_type": "stream",
     "text": [
      "Rasampling files in progress: 0it [00:00, ?it/s]\n"
     ]
    },
    {
     "name": "stdout",
     "output_type": "stream",
     "text": [
      "Processing: D:/01 서울시립대학교/03 5학년 2학기/03 컴퓨터종합설계/008.소음 환경 음성인식 데이터\\01.데이터\\2.Validation\\원천데이터\\09.공장\\01.가공공정\n"
     ]
    },
    {
     "name": "stderr",
     "output_type": "stream",
     "text": [
      "Rasampling files in progress: 100%|██████████████████████████████████████████████| 154/154 [00:00<00:00, 153316.60it/s]\n"
     ]
    },
    {
     "name": "stdout",
     "output_type": "stream",
     "text": [
      "Processing: D:/01 서울시립대학교/03 5학년 2학기/03 컴퓨터종합설계/008.소음 환경 음성인식 데이터\\01.데이터\\2.Validation\\원천데이터\\09.공장\\02.조립공정\n"
     ]
    },
    {
     "name": "stderr",
     "output_type": "stream",
     "text": [
      "Rasampling files in progress: 100%|██████████████████████████████████████████████████████████| 246/246 [00:00<?, ?it/s]\n"
     ]
    },
    {
     "name": "stdout",
     "output_type": "stream",
     "text": [
      "Processing: D:/01 서울시립대학교/03 5학년 2학기/03 컴퓨터종합설계/008.소음 환경 음성인식 데이터\\01.데이터\\2.Validation\\원천데이터\\09.공장\\03.공장_기타소음\n"
     ]
    },
    {
     "name": "stderr",
     "output_type": "stream",
     "text": [
      "Rasampling files in progress: 100%|█████████████████████████████████████████████| 612/612 [00:00<00:00, 1220016.18it/s]\n"
     ]
    },
    {
     "name": "stdout",
     "output_type": "stream",
     "text": [
      "Processing: D:/01 서울시립대학교/03 5학년 2학기/03 컴퓨터종합설계/008.소음 환경 음성인식 데이터\\01.데이터\\2.Validation\\원천데이터\\10.일반자연\n"
     ]
    },
    {
     "name": "stderr",
     "output_type": "stream",
     "text": [
      "Rasampling files in progress: 0it [00:00, ?it/s]\n"
     ]
    },
    {
     "name": "stdout",
     "output_type": "stream",
     "text": [
      "Processing: D:/01 서울시립대학교/03 5학년 2학기/03 컴퓨터종합설계/008.소음 환경 음성인식 데이터\\01.데이터\\2.Validation\\원천데이터\\10.일반자연\\01.빗소리\n"
     ]
    },
    {
     "name": "stderr",
     "output_type": "stream",
     "text": [
      "Rasampling files in progress: 100%|██████████████████████████████████████████████| 704/704 [00:00<00:00, 703883.20it/s]\n"
     ]
    },
    {
     "name": "stdout",
     "output_type": "stream",
     "text": [
      "Processing: D:/01 서울시립대학교/03 5학년 2학기/03 컴퓨터종합설계/008.소음 환경 음성인식 데이터\\01.데이터\\2.Validation\\원천데이터\\10.일반자연\\02.파도\n"
     ]
    },
    {
     "name": "stderr",
     "output_type": "stream",
     "text": [
      "Rasampling files in progress: 100%|██████████████████████████████████████████████| 250/250 [00:00<00:00, 249839.41it/s]\n"
     ]
    },
    {
     "name": "stdout",
     "output_type": "stream",
     "text": [
      "Processing: D:/01 서울시립대학교/03 5학년 2학기/03 컴퓨터종합설계/008.소음 환경 음성인식 데이터\\01.데이터\\2.Validation\\원천데이터\\10.일반자연\\03.일반자연_기타소음\n"
     ]
    },
    {
     "name": "stderr",
     "output_type": "stream",
     "text": [
      "Rasampling files in progress: 100%|██████████████████████████████████████████████| 146/146 [00:00<00:00, 145871.46it/s]\n"
     ]
    },
    {
     "name": "stdout",
     "output_type": "stream",
     "text": [
      "Processing: D:/01 서울시립대학교/03 5학년 2학기/03 컴퓨터종합설계/008.소음 환경 음성인식 데이터\\01.데이터\\2.Validation\\원천데이터\\11.복합소음\n"
     ]
    },
    {
     "name": "stderr",
     "output_type": "stream",
     "text": [
      "Rasampling files in progress: 0it [00:00, ?it/s]\n"
     ]
    },
    {
     "name": "stdout",
     "output_type": "stream",
     "text": [
      "Processing: D:/01 서울시립대학교/03 5학년 2학기/03 컴퓨터종합설계/008.소음 환경 음성인식 데이터\\01.데이터\\2.Validation\\원천데이터\\11.복합소음\\01.2가지이상소음원\n"
     ]
    },
    {
     "name": "stderr",
     "output_type": "stream",
     "text": [
      "Rasampling files in progress: 100%|███████████████████████████████████████████| 2758/2758 [00:00<00:00, 2758199.91it/s]"
     ]
    },
    {
     "name": "stdout",
     "output_type": "stream",
     "text": [
      "Done!\n"
     ]
    },
    {
     "name": "stderr",
     "output_type": "stream",
     "text": [
      "\n"
     ]
    }
   ],
   "source": [
    "root_directory = \"D:/01 서울시립대학교/03 5학년 2학기/03 컴퓨터종합설계/008.소음 환경 음성인식 데이터\"\n",
    "save_directory = \"D:/01 서울시립대학교/03 5학년 2학기/03 컴퓨터종합설계/Saveset\"\n",
    "resample_data(root_directory, save_directory)"
   ]
  },
  {
   "cell_type": "markdown",
   "id": "d36e3666-9386-434c-aa75-cb028222e32c",
   "metadata": {},
   "source": [
    "## 1.1. num_files_check"
   ]
  },
  {
   "cell_type": "code",
   "execution_count": 13,
   "id": "031f0981-885e-40ce-9175-8bbcaf4052df",
   "metadata": {},
   "outputs": [],
   "source": [
    "def num_files_check(root_dir):\n",
    "    for dirpath, dirnames, filenames in os.walk(root_dir):\n",
    "        print(f\"dir_path: {dirpath}\")\n",
    "        print(f\"num_files: {len(filenames)}\")"
   ]
  },
  {
   "cell_type": "code",
   "execution_count": 14,
   "id": "67bf37c1-f217-4e38-a703-dfe698b1f83e",
   "metadata": {},
   "outputs": [
    {
     "name": "stdout",
     "output_type": "stream",
     "text": [
      "dir_path: D:/01 서울시립대학교/03 5학년 2학기/03 컴퓨터종합설계/Saveset\n",
      "num_files: 0\n",
      "dir_path: D:/01 서울시립대학교/03 5학년 2학기/03 컴퓨터종합설계/Saveset\\01.데이터\n",
      "num_files: 0\n",
      "dir_path: D:/01 서울시립대학교/03 5학년 2학기/03 컴퓨터종합설계/Saveset\\01.데이터\\2.Validation\n",
      "num_files: 0\n",
      "dir_path: D:/01 서울시립대학교/03 5학년 2학기/03 컴퓨터종합설계/Saveset\\01.데이터\\2.Validation\\라벨링데이터\n",
      "num_files: 0\n",
      "dir_path: D:/01 서울시립대학교/03 5학년 2학기/03 컴퓨터종합설계/Saveset\\01.데이터\\2.Validation\\라벨링데이터\\01.가전소음\n",
      "num_files: 0\n",
      "dir_path: D:/01 서울시립대학교/03 5학년 2학기/03 컴퓨터종합설계/Saveset\\01.데이터\\2.Validation\\라벨링데이터\\01.가전소음\\01.세탁기,건조기\n",
      "num_files: 10554\n",
      "dir_path: D:/01 서울시립대학교/03 5학년 2학기/03 컴퓨터종합설계/Saveset\\01.데이터\\2.Validation\\라벨링데이터\\01.가전소음\\02.청소기\n",
      "num_files: 4594\n",
      "dir_path: D:/01 서울시립대학교/03 5학년 2학기/03 컴퓨터종합설계/Saveset\\01.데이터\\2.Validation\\라벨링데이터\\01.가전소음\\03.가전소음_기타소음\n",
      "num_files: 31620\n",
      "dir_path: D:/01 서울시립대학교/03 5학년 2학기/03 컴퓨터종합설계/Saveset\\01.데이터\\2.Validation\\라벨링데이터\\02.교통수단\n",
      "num_files: 0\n",
      "dir_path: D:/01 서울시립대학교/03 5학년 2학기/03 컴퓨터종합설계/Saveset\\01.데이터\\2.Validation\\라벨링데이터\\02.교통수단\\01.바이크\n",
      "num_files: 1908\n",
      "dir_path: D:/01 서울시립대학교/03 5학년 2학기/03 컴퓨터종합설계/Saveset\\01.데이터\\2.Validation\\라벨링데이터\\02.교통수단\\02.싸이렌\n",
      "num_files: 1712\n",
      "dir_path: D:/01 서울시립대학교/03 5학년 2학기/03 컴퓨터종합설계/Saveset\\01.데이터\\2.Validation\\라벨링데이터\\02.교통수단\\03.경적\n",
      "num_files: 2090\n",
      "dir_path: D:/01 서울시립대학교/03 5학년 2학기/03 컴퓨터종합설계/Saveset\\01.데이터\\2.Validation\\라벨링데이터\\02.교통수단\\04.교통수단_기타소음\n",
      "num_files: 3330\n",
      "dir_path: D:/01 서울시립대학교/03 5학년 2학기/03 컴퓨터종합설계/Saveset\\01.데이터\\2.Validation\\라벨링데이터\\03.길거리\n",
      "num_files: 0\n",
      "dir_path: D:/01 서울시립대학교/03 5학년 2학기/03 컴퓨터종합설계/Saveset\\01.데이터\\2.Validation\\라벨링데이터\\03.길거리\\01.도로변\n",
      "num_files: 8918\n",
      "dir_path: D:/01 서울시립대학교/03 5학년 2학기/03 컴퓨터종합설계/Saveset\\01.데이터\\2.Validation\\라벨링데이터\\03.길거리\\02.인파\n",
      "num_files: 1648\n",
      "dir_path: D:/01 서울시립대학교/03 5학년 2학기/03 컴퓨터종합설계/Saveset\\01.데이터\\2.Validation\\라벨링데이터\\03.길거리\\03.길거리_기타소음\n",
      "num_files: 5032\n",
      "dir_path: D:/01 서울시립대학교/03 5학년 2학기/03 컴퓨터종합설계/Saveset\\01.데이터\\2.Validation\\라벨링데이터\\04.카페,음식점\n",
      "num_files: 0\n",
      "dir_path: D:/01 서울시립대학교/03 5학년 2학기/03 컴퓨터종합설계/Saveset\\01.데이터\\2.Validation\\라벨링데이터\\04.카페,음식점\\01.대화소음\n",
      "num_files: 16548\n",
      "dir_path: D:/01 서울시립대학교/03 5학년 2학기/03 컴퓨터종합설계/Saveset\\01.데이터\\2.Validation\\라벨링데이터\\04.카페,음식점\\02.업소소음\n",
      "num_files: 23310\n",
      "dir_path: D:/01 서울시립대학교/03 5학년 2학기/03 컴퓨터종합설계/Saveset\\01.데이터\\2.Validation\\라벨링데이터\\04.카페,음식점\\03.카페,음식점_기타소음\n",
      "num_files: 5788\n",
      "dir_path: D:/01 서울시립대학교/03 5학년 2학기/03 컴퓨터종합설계/Saveset\\01.데이터\\2.Validation\\라벨링데이터\\05.시장,쇼핑몰\n",
      "num_files: 0\n",
      "dir_path: D:/01 서울시립대학교/03 5학년 2학기/03 컴퓨터종합설계/Saveset\\01.데이터\\2.Validation\\라벨링데이터\\05.시장,쇼핑몰\\01.전통시장\n",
      "num_files: 5068\n",
      "dir_path: D:/01 서울시립대학교/03 5학년 2학기/03 컴퓨터종합설계/Saveset\\01.데이터\\2.Validation\\라벨링데이터\\05.시장,쇼핑몰\\02.복합쇼핑몰\n",
      "num_files: 36208\n",
      "dir_path: D:/01 서울시립대학교/03 5학년 2학기/03 컴퓨터종합설계/Saveset\\01.데이터\\2.Validation\\라벨링데이터\\05.시장,쇼핑몰\\03.시장,쇼핑몰_기타소음\n",
      "num_files: 3976\n",
      "dir_path: D:/01 서울시립대학교/03 5학년 2학기/03 컴퓨터종합설계/Saveset\\01.데이터\\2.Validation\\라벨링데이터\\06.지하철,버스\n",
      "num_files: 0\n",
      "dir_path: D:/01 서울시립대학교/03 5학년 2학기/03 컴퓨터종합설계/Saveset\\01.데이터\\2.Validation\\라벨링데이터\\06.지하철,버스\\01.지하철플랫폼\n",
      "num_files: 4826\n",
      "dir_path: D:/01 서울시립대학교/03 5학년 2학기/03 컴퓨터종합설계/Saveset\\01.데이터\\2.Validation\\라벨링데이터\\06.지하철,버스\\02.지하철안\n",
      "num_files: 6670\n",
      "dir_path: D:/01 서울시립대학교/03 5학년 2학기/03 컴퓨터종합설계/Saveset\\01.데이터\\2.Validation\\라벨링데이터\\06.지하철,버스\\03.기차안\n",
      "num_files: 1844\n",
      "dir_path: D:/01 서울시립대학교/03 5학년 2학기/03 컴퓨터종합설계/Saveset\\01.데이터\\2.Validation\\라벨링데이터\\06.지하철,버스\\04.버스안\n",
      "num_files: 7188\n",
      "dir_path: D:/01 서울시립대학교/03 5학년 2학기/03 컴퓨터종합설계/Saveset\\01.데이터\\2.Validation\\라벨링데이터\\07.터미널\n",
      "num_files: 0\n",
      "dir_path: D:/01 서울시립대학교/03 5학년 2학기/03 컴퓨터종합설계/Saveset\\01.데이터\\2.Validation\\라벨링데이터\\07.터미널\\01.기차역대합실\n",
      "num_files: 7976\n",
      "dir_path: D:/01 서울시립대학교/03 5학년 2학기/03 컴퓨터종합설계/Saveset\\01.데이터\\2.Validation\\라벨링데이터\\07.터미널\\02.버스터미널대합실\n",
      "num_files: 7644\n",
      "dir_path: D:/01 서울시립대학교/03 5학년 2학기/03 컴퓨터종합설계/Saveset\\01.데이터\\2.Validation\\라벨링데이터\\07.터미널\\03.터미널_기타소음\n",
      "num_files: 7142\n",
      "dir_path: D:/01 서울시립대학교/03 5학년 2학기/03 컴퓨터종합설계/Saveset\\01.데이터\\2.Validation\\라벨링데이터\\08.공사장\n",
      "num_files: 0\n",
      "dir_path: D:/01 서울시립대학교/03 5학년 2학기/03 컴퓨터종합설계/Saveset\\01.데이터\\2.Validation\\라벨링데이터\\08.공사장\\01.실외공사장\n",
      "num_files: 4508\n",
      "dir_path: D:/01 서울시립대학교/03 5학년 2학기/03 컴퓨터종합설계/Saveset\\01.데이터\\2.Validation\\라벨링데이터\\08.공사장\\02.실내공사장\n",
      "num_files: 1606\n",
      "dir_path: D:/01 서울시립대학교/03 5학년 2학기/03 컴퓨터종합설계/Saveset\\01.데이터\\2.Validation\\라벨링데이터\\08.공사장\\03.공사장_기타소음\n",
      "num_files: 3768\n",
      "dir_path: D:/01 서울시립대학교/03 5학년 2학기/03 컴퓨터종합설계/Saveset\\01.데이터\\2.Validation\\라벨링데이터\\09.공장\n",
      "num_files: 0\n",
      "dir_path: D:/01 서울시립대학교/03 5학년 2학기/03 컴퓨터종합설계/Saveset\\01.데이터\\2.Validation\\라벨링데이터\\09.공장\\01.가공공정\n",
      "num_files: 2110\n",
      "dir_path: D:/01 서울시립대학교/03 5학년 2학기/03 컴퓨터종합설계/Saveset\\01.데이터\\2.Validation\\라벨링데이터\\09.공장\\02.조립공정\n",
      "num_files: 2742\n",
      "dir_path: D:/01 서울시립대학교/03 5학년 2학기/03 컴퓨터종합설계/Saveset\\01.데이터\\2.Validation\\라벨링데이터\\09.공장\\03.공장_기타소음\n",
      "num_files: 9536\n",
      "dir_path: D:/01 서울시립대학교/03 5학년 2학기/03 컴퓨터종합설계/Saveset\\01.데이터\\2.Validation\\라벨링데이터\\10.일반자연\n",
      "num_files: 0\n",
      "dir_path: D:/01 서울시립대학교/03 5학년 2학기/03 컴퓨터종합설계/Saveset\\01.데이터\\2.Validation\\라벨링데이터\\10.일반자연\\01.빗소리\n",
      "num_files: 10456\n",
      "dir_path: D:/01 서울시립대학교/03 5학년 2학기/03 컴퓨터종합설계/Saveset\\01.데이터\\2.Validation\\라벨링데이터\\10.일반자연\\02.파도\n",
      "num_files: 3760\n",
      "dir_path: D:/01 서울시립대학교/03 5학년 2학기/03 컴퓨터종합설계/Saveset\\01.데이터\\2.Validation\\라벨링데이터\\10.일반자연\\03.일반자연_기타소음\n",
      "num_files: 2078\n",
      "dir_path: D:/01 서울시립대학교/03 5학년 2학기/03 컴퓨터종합설계/Saveset\\01.데이터\\2.Validation\\라벨링데이터\\11.복합소음\n",
      "num_files: 0\n",
      "dir_path: D:/01 서울시립대학교/03 5학년 2학기/03 컴퓨터종합설계/Saveset\\01.데이터\\2.Validation\\라벨링데이터\\11.복합소음\\01.2가지이상소음원\n",
      "num_files: 26624\n",
      "dir_path: D:/01 서울시립대학교/03 5학년 2학기/03 컴퓨터종합설계/Saveset\\01.데이터\\2.Validation\\원천데이터\n",
      "num_files: 0\n",
      "dir_path: D:/01 서울시립대학교/03 5학년 2학기/03 컴퓨터종합설계/Saveset\\01.데이터\\2.Validation\\원천데이터\\01.가전소음\n",
      "num_files: 0\n",
      "dir_path: D:/01 서울시립대학교/03 5학년 2학기/03 컴퓨터종합설계/Saveset\\01.데이터\\2.Validation\\원천데이터\\01.가전소음\\01.세탁기,건조기\n",
      "num_files: 10554\n",
      "dir_path: D:/01 서울시립대학교/03 5학년 2학기/03 컴퓨터종합설계/Saveset\\01.데이터\\2.Validation\\원천데이터\\01.가전소음\\02.청소기\n",
      "num_files: 4594\n",
      "dir_path: D:/01 서울시립대학교/03 5학년 2학기/03 컴퓨터종합설계/Saveset\\01.데이터\\2.Validation\\원천데이터\\01.가전소음\\03.가전소음_기타소음\n",
      "num_files: 31620\n",
      "dir_path: D:/01 서울시립대학교/03 5학년 2학기/03 컴퓨터종합설계/Saveset\\01.데이터\\2.Validation\\원천데이터\\02.교통수단\n",
      "num_files: 0\n",
      "dir_path: D:/01 서울시립대학교/03 5학년 2학기/03 컴퓨터종합설계/Saveset\\01.데이터\\2.Validation\\원천데이터\\02.교통수단\\01.바이크\n",
      "num_files: 1908\n",
      "dir_path: D:/01 서울시립대학교/03 5학년 2학기/03 컴퓨터종합설계/Saveset\\01.데이터\\2.Validation\\원천데이터\\02.교통수단\\02.싸이렌\n",
      "num_files: 1712\n",
      "dir_path: D:/01 서울시립대학교/03 5학년 2학기/03 컴퓨터종합설계/Saveset\\01.데이터\\2.Validation\\원천데이터\\02.교통수단\\03.경적\n",
      "num_files: 2090\n",
      "dir_path: D:/01 서울시립대학교/03 5학년 2학기/03 컴퓨터종합설계/Saveset\\01.데이터\\2.Validation\\원천데이터\\02.교통수단\\04.교통수단_기타소음\n",
      "num_files: 3330\n",
      "dir_path: D:/01 서울시립대학교/03 5학년 2학기/03 컴퓨터종합설계/Saveset\\01.데이터\\2.Validation\\원천데이터\\03.길거리\n",
      "num_files: 0\n",
      "dir_path: D:/01 서울시립대학교/03 5학년 2학기/03 컴퓨터종합설계/Saveset\\01.데이터\\2.Validation\\원천데이터\\03.길거리\\01.도로변\n",
      "num_files: 8918\n",
      "dir_path: D:/01 서울시립대학교/03 5학년 2학기/03 컴퓨터종합설계/Saveset\\01.데이터\\2.Validation\\원천데이터\\03.길거리\\02.인파\n",
      "num_files: 1648\n",
      "dir_path: D:/01 서울시립대학교/03 5학년 2학기/03 컴퓨터종합설계/Saveset\\01.데이터\\2.Validation\\원천데이터\\03.길거리\\03.길거리_기타소음\n",
      "num_files: 5032\n",
      "dir_path: D:/01 서울시립대학교/03 5학년 2학기/03 컴퓨터종합설계/Saveset\\01.데이터\\2.Validation\\원천데이터\\04.카페,음식점\n",
      "num_files: 0\n",
      "dir_path: D:/01 서울시립대학교/03 5학년 2학기/03 컴퓨터종합설계/Saveset\\01.데이터\\2.Validation\\원천데이터\\04.카페,음식점\\01.대화소음\n",
      "num_files: 16548\n",
      "dir_path: D:/01 서울시립대학교/03 5학년 2학기/03 컴퓨터종합설계/Saveset\\01.데이터\\2.Validation\\원천데이터\\04.카페,음식점\\02.업소소음\n",
      "num_files: 23310\n",
      "dir_path: D:/01 서울시립대학교/03 5학년 2학기/03 컴퓨터종합설계/Saveset\\01.데이터\\2.Validation\\원천데이터\\04.카페,음식점\\03.카페,음식점_기타소음\n",
      "num_files: 5788\n",
      "dir_path: D:/01 서울시립대학교/03 5학년 2학기/03 컴퓨터종합설계/Saveset\\01.데이터\\2.Validation\\원천데이터\\05.시장,쇼핑몰\n",
      "num_files: 0\n",
      "dir_path: D:/01 서울시립대학교/03 5학년 2학기/03 컴퓨터종합설계/Saveset\\01.데이터\\2.Validation\\원천데이터\\05.시장,쇼핑몰\\01.전통시장\n",
      "num_files: 5068\n",
      "dir_path: D:/01 서울시립대학교/03 5학년 2학기/03 컴퓨터종합설계/Saveset\\01.데이터\\2.Validation\\원천데이터\\05.시장,쇼핑몰\\02.복합쇼핑몰\n",
      "num_files: 36208\n",
      "dir_path: D:/01 서울시립대학교/03 5학년 2학기/03 컴퓨터종합설계/Saveset\\01.데이터\\2.Validation\\원천데이터\\05.시장,쇼핑몰\\03.시장,쇼핑몰_기타소음\n",
      "num_files: 3976\n",
      "dir_path: D:/01 서울시립대학교/03 5학년 2학기/03 컴퓨터종합설계/Saveset\\01.데이터\\2.Validation\\원천데이터\\06.지하철,버스\n",
      "num_files: 0\n",
      "dir_path: D:/01 서울시립대학교/03 5학년 2학기/03 컴퓨터종합설계/Saveset\\01.데이터\\2.Validation\\원천데이터\\06.지하철,버스\\01.지하철플랫폼\n",
      "num_files: 4826\n",
      "dir_path: D:/01 서울시립대학교/03 5학년 2학기/03 컴퓨터종합설계/Saveset\\01.데이터\\2.Validation\\원천데이터\\06.지하철,버스\\02.지하철안\n",
      "num_files: 6670\n",
      "dir_path: D:/01 서울시립대학교/03 5학년 2학기/03 컴퓨터종합설계/Saveset\\01.데이터\\2.Validation\\원천데이터\\06.지하철,버스\\03.기차안\n",
      "num_files: 1844\n",
      "dir_path: D:/01 서울시립대학교/03 5학년 2학기/03 컴퓨터종합설계/Saveset\\01.데이터\\2.Validation\\원천데이터\\06.지하철,버스\\04.버스안\n",
      "num_files: 7188\n",
      "dir_path: D:/01 서울시립대학교/03 5학년 2학기/03 컴퓨터종합설계/Saveset\\01.데이터\\2.Validation\\원천데이터\\07.터미널\n",
      "num_files: 0\n",
      "dir_path: D:/01 서울시립대학교/03 5학년 2학기/03 컴퓨터종합설계/Saveset\\01.데이터\\2.Validation\\원천데이터\\07.터미널\\01.기차역대합실\n",
      "num_files: 7976\n",
      "dir_path: D:/01 서울시립대학교/03 5학년 2학기/03 컴퓨터종합설계/Saveset\\01.데이터\\2.Validation\\원천데이터\\07.터미널\\02.버스터미널대합실\n",
      "num_files: 7644\n",
      "dir_path: D:/01 서울시립대학교/03 5학년 2학기/03 컴퓨터종합설계/Saveset\\01.데이터\\2.Validation\\원천데이터\\07.터미널\\03.터미널_기타소음\n",
      "num_files: 7142\n",
      "dir_path: D:/01 서울시립대학교/03 5학년 2학기/03 컴퓨터종합설계/Saveset\\01.데이터\\2.Validation\\원천데이터\\08.공사장\n",
      "num_files: 0\n",
      "dir_path: D:/01 서울시립대학교/03 5학년 2학기/03 컴퓨터종합설계/Saveset\\01.데이터\\2.Validation\\원천데이터\\08.공사장\\01.실외공사장\n",
      "num_files: 4508\n",
      "dir_path: D:/01 서울시립대학교/03 5학년 2학기/03 컴퓨터종합설계/Saveset\\01.데이터\\2.Validation\\원천데이터\\08.공사장\\02.실내공사장\n",
      "num_files: 1606\n",
      "dir_path: D:/01 서울시립대학교/03 5학년 2학기/03 컴퓨터종합설계/Saveset\\01.데이터\\2.Validation\\원천데이터\\08.공사장\\03.공사장_기타소음\n",
      "num_files: 3768\n",
      "dir_path: D:/01 서울시립대학교/03 5학년 2학기/03 컴퓨터종합설계/Saveset\\01.데이터\\2.Validation\\원천데이터\\09.공장\n",
      "num_files: 0\n",
      "dir_path: D:/01 서울시립대학교/03 5학년 2학기/03 컴퓨터종합설계/Saveset\\01.데이터\\2.Validation\\원천데이터\\09.공장\\01.가공공정\n",
      "num_files: 2110\n",
      "dir_path: D:/01 서울시립대학교/03 5학년 2학기/03 컴퓨터종합설계/Saveset\\01.데이터\\2.Validation\\원천데이터\\09.공장\\02.조립공정\n",
      "num_files: 2742\n",
      "dir_path: D:/01 서울시립대학교/03 5학년 2학기/03 컴퓨터종합설계/Saveset\\01.데이터\\2.Validation\\원천데이터\\09.공장\\03.공장_기타소음\n",
      "num_files: 9536\n",
      "dir_path: D:/01 서울시립대학교/03 5학년 2학기/03 컴퓨터종합설계/Saveset\\01.데이터\\2.Validation\\원천데이터\\10.일반자연\n",
      "num_files: 0\n",
      "dir_path: D:/01 서울시립대학교/03 5학년 2학기/03 컴퓨터종합설계/Saveset\\01.데이터\\2.Validation\\원천데이터\\10.일반자연\\01.빗소리\n",
      "num_files: 10456\n",
      "dir_path: D:/01 서울시립대학교/03 5학년 2학기/03 컴퓨터종합설계/Saveset\\01.데이터\\2.Validation\\원천데이터\\10.일반자연\\02.파도\n",
      "num_files: 3760\n",
      "dir_path: D:/01 서울시립대학교/03 5학년 2학기/03 컴퓨터종합설계/Saveset\\01.데이터\\2.Validation\\원천데이터\\10.일반자연\\03.일반자연_기타소음\n",
      "num_files: 2078\n",
      "dir_path: D:/01 서울시립대학교/03 5학년 2학기/03 컴퓨터종합설계/Saveset\\01.데이터\\2.Validation\\원천데이터\\11.복합소음\n",
      "num_files: 0\n",
      "dir_path: D:/01 서울시립대학교/03 5학년 2학기/03 컴퓨터종합설계/Saveset\\01.데이터\\2.Validation\\원천데이터\\11.복합소음\\01.2가지이상소음원\n",
      "num_files: 26624\n"
     ]
    }
   ],
   "source": [
    "root_directory = \"D:/01 서울시립대학교/03 5학년 2학기/03 컴퓨터종합설계/Saveset\"\n",
    "num_files_check(root_directory)"
   ]
  },
  {
   "cell_type": "markdown",
   "id": "c3315480-b9cb-4f09-bdd9-6d684f5b0ddc",
   "metadata": {},
   "source": [
    "# 2. Transcription"
   ]
  },
  {
   "cell_type": "markdown",
   "id": "8f451e8a-7a2a-46a8-ad83-fb2525168ea3",
   "metadata": {},
   "source": [
    "- Reference: `https://blog.naver.com/PostView.nhn?blogId=sooftware&logNo=221821797852`"
   ]
  },
  {
   "cell_type": "code",
   "execution_count": 6,
   "id": "9d00014d-c52b-4e5f-88a6-b1e91c8a2129",
   "metadata": {},
   "outputs": [
    {
     "name": "stdout",
     "output_type": "stream",
     "text": [
      "o/ 근데 70%가 커 보이긴 하는데 200 벌다 140 벌면 빡셀걸? b/\n",
      "근데 3학년 때 까지는 국가장학금 바+ 받으면서 다녔던 건가?\n"
     ]
    }
   ],
   "source": [
    "test1 = \"o/ 근데 (70%)/(칠십 퍼센트)가 커 보이긴 하는데 (200)/(이백) 벌다 (140)/(백 사십) 벌면 빡셀걸? b/\"\n",
    "test2 = \"근데 (3학년)/(삼 학년) 때 까지는 국가장학금 바+ 받으면서 다녔던 건가?\"\n",
    "\n",
    "# Whisper 전처리는 Reference와 다르므로 약간의 수정이 필요하다.\n",
    "def bracket_filter(sentence):\n",
    "    new_sentence = str()\n",
    "    \"\"\"\n",
    "    (left_bracket, right_bracket)\n",
    "    (0, 0) -> 출력\n",
    "    (1, 0) -> 출력\n",
    "    (1, 1) -> 미출력\n",
    "    (0, 1) -> 미출력\n",
    "    --> right_bracket을 기준으로 flag 설정\n",
    "    \"\"\"\n",
    "    flag = False\n",
    "    \n",
    "    for ch in sentence:\n",
    "        if ch == ')' and flag == False:\n",
    "            flag = True\n",
    "            continue\n",
    "        if ch == ')' and flag == True:\n",
    "            flag = False\n",
    "            continue\n",
    "        if ch != '(' and flag == False:\n",
    "            new_sentence += ch\n",
    "    return new_sentence\n",
    "\n",
    "test1 = bracket_filter(test1)\n",
    "test2 = bracket_filter(test2)\n",
    "print(test1)\n",
    "print(test2)"
   ]
  },
  {
   "cell_type": "code",
   "execution_count": 7,
   "id": "ba749c1d-2759-4300-9444-4629571fadd2",
   "metadata": {},
   "outputs": [
    {
     "name": "stdout",
     "output_type": "stream",
     "text": [
      "근데 70%가 커 보이긴 하는데 200 벌다 140 벌면 빡셀걸?\n",
      "근데 3학년 때 까지는 국가장학금 바 받으면서 다녔던 건가?\n"
     ]
    }
   ],
   "source": [
    "import re\n",
    "\n",
    "def special_filter(sentence):\n",
    "    SENTENCE_MASK = ['.', '?', ',', '!']\n",
    "    NOISE = ['o', 'n', 'u', 'b', 'l']\n",
    "    EXCEPT = ['/', '+', '*', '-', '@', '$', '^', '&', '[', ']', '~', ':', ';']\n",
    "    new_sentence = str()\n",
    "    for idx, ch in enumerate(sentence):\n",
    "        if ch not in SENTENCE_MASK:\n",
    "            if idx + 1 < len(sentence) and ch in NOISE and sentence[idx+1] == '/':\n",
    "                continue\n",
    "        if ch == '#':\n",
    "            new_sentence += '샵'\n",
    "        elif ch not in EXCEPT:\n",
    "            new_sentence += ch\n",
    "\n",
    "    pattern = re.compile(r'\\s\\s+')\n",
    "    new_sentence = re.sub(pattern, ' ', new_sentence.strip())\n",
    "    return new_sentence\n",
    "\n",
    "print(special_filter(test1))\n",
    "print(special_filter(test2))"
   ]
  },
  {
   "cell_type": "code",
   "execution_count": 8,
   "id": "99c90516-4955-4688-80b9-405a8424a57d",
   "metadata": {},
   "outputs": [],
   "source": [
    "import os\n",
    "import json\n",
    "import librosa\n",
    "import soundfile as sf\n",
    "from tqdm import tqdm\n",
    "\n",
    "def is_json(filename):\n",
    "    return filename[-4:] == 'json'\n",
    "\n",
    "# Whisper 모델의 전사 규칙에 알맞게 변환\n",
    "def transcription(root_dir):\n",
    "    len_root_dir = len(root_dir)\n",
    "    for dirpath, dirnames, filenames in os.walk(root_dir):\n",
    "        print(\"Processing:\", dirpath)\n",
    "        num_files = len(filenames)\n",
    "        with tqdm(total=num_files, desc=\"Rasampling files in progress\") as pbar:\n",
    "            for filename in filenames:\n",
    "                if is_json(filename):\n",
    "                    filepath = os.path.join(dirpath, filename)\n",
    "                    with open(filepath, \"r\", encoding=\"utf-8\") as json_file:\n",
    "                        data = json.load(json_file)\n",
    "                        text = data[\"annotations\"][\"note\"]\n",
    "    \n",
    "                        # 전사 규칙 처리\n",
    "                        text = bracket_filter(text)\n",
    "                        text = special_filter(text)\n",
    "                        \n",
    "                        new_data = {\n",
    "                            \"annotations\" : {\n",
    "                                \"note\" : text\n",
    "                            }\n",
    "                        }\n",
    "                        \n",
    "                        with open(filepath, 'w', encoding='utf-8') as file:\n",
    "                            json.dump(new_data, file, ensure_ascii=False)\n",
    "                pbar.update(1)\n",
    "                \n",
    "    print(\"Done!\")"
   ]
  },
  {
   "cell_type": "code",
   "execution_count": 9,
   "id": "0f7e5a6b-b579-46b0-bdcc-5384b3171dec",
   "metadata": {},
   "outputs": [
    {
     "name": "stdout",
     "output_type": "stream",
     "text": [
      "Processing: D:/01 서울시립대학교/03 5학년 2학기/03 컴퓨터종합설계/Saveset\n"
     ]
    },
    {
     "name": "stderr",
     "output_type": "stream",
     "text": [
      "Rasampling files in progress: 0it [00:00, ?it/s]\n"
     ]
    },
    {
     "name": "stdout",
     "output_type": "stream",
     "text": [
      "Processing: D:/01 서울시립대학교/03 5학년 2학기/03 컴퓨터종합설계/Saveset\\01.데이터\n"
     ]
    },
    {
     "name": "stderr",
     "output_type": "stream",
     "text": [
      "Rasampling files in progress: 0it [00:00, ?it/s]\n"
     ]
    },
    {
     "name": "stdout",
     "output_type": "stream",
     "text": [
      "Processing: D:/01 서울시립대학교/03 5학년 2학기/03 컴퓨터종합설계/Saveset\\01.데이터\\2.Validation\n"
     ]
    },
    {
     "name": "stderr",
     "output_type": "stream",
     "text": [
      "Rasampling files in progress: 0it [00:00, ?it/s]\n"
     ]
    },
    {
     "name": "stdout",
     "output_type": "stream",
     "text": [
      "Processing: D:/01 서울시립대학교/03 5학년 2학기/03 컴퓨터종합설계/Saveset\\01.데이터\\2.Validation\\라벨링데이터\n"
     ]
    },
    {
     "name": "stderr",
     "output_type": "stream",
     "text": [
      "Rasampling files in progress: 0it [00:00, ?it/s]\n"
     ]
    },
    {
     "name": "stdout",
     "output_type": "stream",
     "text": [
      "Processing: D:/01 서울시립대학교/03 5학년 2학기/03 컴퓨터종합설계/Saveset\\01.데이터\\2.Validation\\라벨링데이터\\01.가전소음\n"
     ]
    },
    {
     "name": "stderr",
     "output_type": "stream",
     "text": [
      "Rasampling files in progress: 0it [00:00, ?it/s]\n"
     ]
    },
    {
     "name": "stdout",
     "output_type": "stream",
     "text": [
      "Processing: D:/01 서울시립대학교/03 5학년 2학기/03 컴퓨터종합설계/Saveset\\01.데이터\\2.Validation\\라벨링데이터\\01.가전소음\\01.세탁기,건조기\n"
     ]
    },
    {
     "name": "stderr",
     "output_type": "stream",
     "text": [
      "Rasampling files in progress: 100%|█████████████████████████████████████████████| 10736/10736 [00:46<00:00, 231.36it/s]\n"
     ]
    },
    {
     "name": "stdout",
     "output_type": "stream",
     "text": [
      "Processing: D:/01 서울시립대학교/03 5학년 2학기/03 컴퓨터종합설계/Saveset\\01.데이터\\2.Validation\\라벨링데이터\\01.가전소음\\02.청소기\n"
     ]
    },
    {
     "name": "stderr",
     "output_type": "stream",
     "text": [
      "Rasampling files in progress: 100%|███████████████████████████████████████████████| 4640/4640 [00:08<00:00, 548.87it/s]\n"
     ]
    },
    {
     "name": "stdout",
     "output_type": "stream",
     "text": [
      "Processing: D:/01 서울시립대학교/03 5학년 2학기/03 컴퓨터종합설계/Saveset\\01.데이터\\2.Validation\\라벨링데이터\\01.가전소음\\03.가전소음_기타소음\n"
     ]
    },
    {
     "name": "stderr",
     "output_type": "stream",
     "text": [
      "Rasampling files in progress: 100%|█████████████████████████████████████████████| 32044/32044 [01:06<00:00, 483.52it/s]\n"
     ]
    },
    {
     "name": "stdout",
     "output_type": "stream",
     "text": [
      "Processing: D:/01 서울시립대학교/03 5학년 2학기/03 컴퓨터종합설계/Saveset\\01.데이터\\2.Validation\\라벨링데이터\\02.교통수단\n"
     ]
    },
    {
     "name": "stderr",
     "output_type": "stream",
     "text": [
      "Rasampling files in progress: 0it [00:00, ?it/s]\n"
     ]
    },
    {
     "name": "stdout",
     "output_type": "stream",
     "text": [
      "Processing: D:/01 서울시립대학교/03 5학년 2학기/03 컴퓨터종합설계/Saveset\\01.데이터\\2.Validation\\라벨링데이터\\02.교통수단\\01.바이크\n"
     ]
    },
    {
     "name": "stderr",
     "output_type": "stream",
     "text": [
      "Rasampling files in progress: 100%|███████████████████████████████████████████████| 1950/1950 [00:03<00:00, 551.13it/s]\n"
     ]
    },
    {
     "name": "stdout",
     "output_type": "stream",
     "text": [
      "Processing: D:/01 서울시립대학교/03 5학년 2학기/03 컴퓨터종합설계/Saveset\\01.데이터\\2.Validation\\라벨링데이터\\02.교통수단\\02.싸이렌\n"
     ]
    },
    {
     "name": "stderr",
     "output_type": "stream",
     "text": [
      "Rasampling files in progress: 100%|███████████████████████████████████████████████| 1738/1738 [00:03<00:00, 527.70it/s]\n"
     ]
    },
    {
     "name": "stdout",
     "output_type": "stream",
     "text": [
      "Processing: D:/01 서울시립대학교/03 5학년 2학기/03 컴퓨터종합설계/Saveset\\01.데이터\\2.Validation\\라벨링데이터\\02.교통수단\\03.경적\n"
     ]
    },
    {
     "name": "stderr",
     "output_type": "stream",
     "text": [
      "Rasampling files in progress: 100%|███████████████████████████████████████████████| 2110/2110 [00:03<00:00, 557.02it/s]\n"
     ]
    },
    {
     "name": "stdout",
     "output_type": "stream",
     "text": [
      "Processing: D:/01 서울시립대학교/03 5학년 2학기/03 컴퓨터종합설계/Saveset\\01.데이터\\2.Validation\\라벨링데이터\\02.교통수단\\04.교통수단_기타소음\n"
     ]
    },
    {
     "name": "stderr",
     "output_type": "stream",
     "text": [
      "Rasampling files in progress: 100%|███████████████████████████████████████████████| 3372/3372 [00:06<00:00, 554.24it/s]\n"
     ]
    },
    {
     "name": "stdout",
     "output_type": "stream",
     "text": [
      "Processing: D:/01 서울시립대학교/03 5학년 2학기/03 컴퓨터종합설계/Saveset\\01.데이터\\2.Validation\\라벨링데이터\\03.길거리\n"
     ]
    },
    {
     "name": "stderr",
     "output_type": "stream",
     "text": [
      "Rasampling files in progress: 0it [00:00, ?it/s]\n"
     ]
    },
    {
     "name": "stdout",
     "output_type": "stream",
     "text": [
      "Processing: D:/01 서울시립대학교/03 5학년 2학기/03 컴퓨터종합설계/Saveset\\01.데이터\\2.Validation\\라벨링데이터\\03.길거리\\01.도로변\n"
     ]
    },
    {
     "name": "stderr",
     "output_type": "stream",
     "text": [
      "Rasampling files in progress: 100%|███████████████████████████████████████████████| 9066/9066 [00:15<00:00, 580.77it/s]\n"
     ]
    },
    {
     "name": "stdout",
     "output_type": "stream",
     "text": [
      "Processing: D:/01 서울시립대학교/03 5학년 2학기/03 컴퓨터종합설계/Saveset\\01.데이터\\2.Validation\\라벨링데이터\\03.길거리\\02.인파\n"
     ]
    },
    {
     "name": "stderr",
     "output_type": "stream",
     "text": [
      "Rasampling files in progress: 100%|███████████████████████████████████████████████| 1664/1664 [00:03<00:00, 518.16it/s]\n"
     ]
    },
    {
     "name": "stdout",
     "output_type": "stream",
     "text": [
      "Processing: D:/01 서울시립대학교/03 5학년 2학기/03 컴퓨터종합설계/Saveset\\01.데이터\\2.Validation\\라벨링데이터\\03.길거리\\03.길거리_기타소음\n"
     ]
    },
    {
     "name": "stderr",
     "output_type": "stream",
     "text": [
      "Rasampling files in progress: 100%|███████████████████████████████████████████████| 5110/5110 [00:09<00:00, 557.00it/s]\n"
     ]
    },
    {
     "name": "stdout",
     "output_type": "stream",
     "text": [
      "Processing: D:/01 서울시립대학교/03 5학년 2학기/03 컴퓨터종합설계/Saveset\\01.데이터\\2.Validation\\라벨링데이터\\04.카페,음식점\n"
     ]
    },
    {
     "name": "stderr",
     "output_type": "stream",
     "text": [
      "Rasampling files in progress: 0it [00:00, ?it/s]\n"
     ]
    },
    {
     "name": "stdout",
     "output_type": "stream",
     "text": [
      "Processing: D:/01 서울시립대학교/03 5학년 2학기/03 컴퓨터종합설계/Saveset\\01.데이터\\2.Validation\\라벨링데이터\\04.카페,음식점\\01.대화소음\n"
     ]
    },
    {
     "name": "stderr",
     "output_type": "stream",
     "text": [
      "Rasampling files in progress: 100%|█████████████████████████████████████████████| 16758/16758 [00:30<00:00, 555.69it/s]\n"
     ]
    },
    {
     "name": "stdout",
     "output_type": "stream",
     "text": [
      "Processing: D:/01 서울시립대학교/03 5학년 2학기/03 컴퓨터종합설계/Saveset\\01.데이터\\2.Validation\\라벨링데이터\\04.카페,음식점\\02.업소소음\n"
     ]
    },
    {
     "name": "stderr",
     "output_type": "stream",
     "text": [
      "Rasampling files in progress: 100%|█████████████████████████████████████████████| 23602/23602 [00:40<00:00, 580.04it/s]\n"
     ]
    },
    {
     "name": "stdout",
     "output_type": "stream",
     "text": [
      "Processing: D:/01 서울시립대학교/03 5학년 2학기/03 컴퓨터종합설계/Saveset\\01.데이터\\2.Validation\\라벨링데이터\\04.카페,음식점\\03.카페,음식점_기타소음\n"
     ]
    },
    {
     "name": "stderr",
     "output_type": "stream",
     "text": [
      "Rasampling files in progress: 100%|███████████████████████████████████████████████| 5904/5904 [00:10<00:00, 571.04it/s]\n"
     ]
    },
    {
     "name": "stdout",
     "output_type": "stream",
     "text": [
      "Processing: D:/01 서울시립대학교/03 5학년 2학기/03 컴퓨터종합설계/Saveset\\01.데이터\\2.Validation\\라벨링데이터\\05.시장,쇼핑몰\n"
     ]
    },
    {
     "name": "stderr",
     "output_type": "stream",
     "text": [
      "Rasampling files in progress: 0it [00:00, ?it/s]\n"
     ]
    },
    {
     "name": "stdout",
     "output_type": "stream",
     "text": [
      "Processing: D:/01 서울시립대학교/03 5학년 2학기/03 컴퓨터종합설계/Saveset\\01.데이터\\2.Validation\\라벨링데이터\\05.시장,쇼핑몰\\01.전통시장\n"
     ]
    },
    {
     "name": "stderr",
     "output_type": "stream",
     "text": [
      "Rasampling files in progress: 100%|███████████████████████████████████████████████| 5120/5120 [00:08<00:00, 580.92it/s]\n"
     ]
    },
    {
     "name": "stdout",
     "output_type": "stream",
     "text": [
      "Processing: D:/01 서울시립대학교/03 5학년 2학기/03 컴퓨터종합설계/Saveset\\01.데이터\\2.Validation\\라벨링데이터\\05.시장,쇼핑몰\\02.복합쇼핑몰\n"
     ]
    },
    {
     "name": "stderr",
     "output_type": "stream",
     "text": [
      "Rasampling files in progress: 100%|█████████████████████████████████████████████| 36686/36686 [01:01<00:00, 591.96it/s]\n"
     ]
    },
    {
     "name": "stdout",
     "output_type": "stream",
     "text": [
      "Processing: D:/01 서울시립대학교/03 5학년 2학기/03 컴퓨터종합설계/Saveset\\01.데이터\\2.Validation\\라벨링데이터\\05.시장,쇼핑몰\\03.시장,쇼핑몰_기타소음\n"
     ]
    },
    {
     "name": "stderr",
     "output_type": "stream",
     "text": [
      "Rasampling files in progress: 100%|███████████████████████████████████████████████| 4042/4042 [00:06<00:00, 656.96it/s]\n"
     ]
    },
    {
     "name": "stdout",
     "output_type": "stream",
     "text": [
      "Processing: D:/01 서울시립대학교/03 5학년 2학기/03 컴퓨터종합설계/Saveset\\01.데이터\\2.Validation\\라벨링데이터\\06.지하철,버스\n"
     ]
    },
    {
     "name": "stderr",
     "output_type": "stream",
     "text": [
      "Rasampling files in progress: 0it [00:00, ?it/s]\n"
     ]
    },
    {
     "name": "stdout",
     "output_type": "stream",
     "text": [
      "Processing: D:/01 서울시립대학교/03 5학년 2학기/03 컴퓨터종합설계/Saveset\\01.데이터\\2.Validation\\라벨링데이터\\06.지하철,버스\\01.지하철플랫폼\n"
     ]
    },
    {
     "name": "stderr",
     "output_type": "stream",
     "text": [
      "Rasampling files in progress: 100%|███████████████████████████████████████████████| 4878/4878 [00:07<00:00, 642.65it/s]\n"
     ]
    },
    {
     "name": "stdout",
     "output_type": "stream",
     "text": [
      "Processing: D:/01 서울시립대학교/03 5학년 2학기/03 컴퓨터종합설계/Saveset\\01.데이터\\2.Validation\\라벨링데이터\\06.지하철,버스\\02.지하철안\n"
     ]
    },
    {
     "name": "stderr",
     "output_type": "stream",
     "text": [
      "Rasampling files in progress: 100%|███████████████████████████████████████████████| 6748/6748 [00:10<00:00, 627.14it/s]\n"
     ]
    },
    {
     "name": "stdout",
     "output_type": "stream",
     "text": [
      "Processing: D:/01 서울시립대학교/03 5학년 2학기/03 컴퓨터종합설계/Saveset\\01.데이터\\2.Validation\\라벨링데이터\\06.지하철,버스\\03.기차안\n"
     ]
    },
    {
     "name": "stderr",
     "output_type": "stream",
     "text": [
      "Rasampling files in progress: 100%|███████████████████████████████████████████████| 1880/1880 [00:03<00:00, 574.67it/s]\n"
     ]
    },
    {
     "name": "stdout",
     "output_type": "stream",
     "text": [
      "Processing: D:/01 서울시립대학교/03 5학년 2학기/03 컴퓨터종합설계/Saveset\\01.데이터\\2.Validation\\라벨링데이터\\06.지하철,버스\\04.버스안\n"
     ]
    },
    {
     "name": "stderr",
     "output_type": "stream",
     "text": [
      "Rasampling files in progress: 100%|███████████████████████████████████████████████| 7292/7292 [00:11<00:00, 612.90it/s]\n"
     ]
    },
    {
     "name": "stdout",
     "output_type": "stream",
     "text": [
      "Processing: D:/01 서울시립대학교/03 5학년 2학기/03 컴퓨터종합설계/Saveset\\01.데이터\\2.Validation\\라벨링데이터\\07.터미널\n"
     ]
    },
    {
     "name": "stderr",
     "output_type": "stream",
     "text": [
      "Rasampling files in progress: 0it [00:00, ?it/s]\n"
     ]
    },
    {
     "name": "stdout",
     "output_type": "stream",
     "text": [
      "Processing: D:/01 서울시립대학교/03 5학년 2학기/03 컴퓨터종합설계/Saveset\\01.데이터\\2.Validation\\라벨링데이터\\07.터미널\\01.기차역대합실\n"
     ]
    },
    {
     "name": "stderr",
     "output_type": "stream",
     "text": [
      "Rasampling files in progress: 100%|███████████████████████████████████████████████| 8102/8102 [00:13<00:00, 587.96it/s]\n"
     ]
    },
    {
     "name": "stdout",
     "output_type": "stream",
     "text": [
      "Processing: D:/01 서울시립대학교/03 5학년 2학기/03 컴퓨터종합설계/Saveset\\01.데이터\\2.Validation\\라벨링데이터\\07.터미널\\02.버스터미널대합실\n"
     ]
    },
    {
     "name": "stderr",
     "output_type": "stream",
     "text": [
      "Rasampling files in progress: 100%|███████████████████████████████████████████████| 7764/7764 [00:14<00:00, 544.39it/s]\n"
     ]
    },
    {
     "name": "stdout",
     "output_type": "stream",
     "text": [
      "Processing: D:/01 서울시립대학교/03 5학년 2학기/03 컴퓨터종합설계/Saveset\\01.데이터\\2.Validation\\라벨링데이터\\07.터미널\\03.터미널_기타소음\n"
     ]
    },
    {
     "name": "stderr",
     "output_type": "stream",
     "text": [
      "Rasampling files in progress: 100%|███████████████████████████████████████████████| 7230/7230 [00:11<00:00, 612.96it/s]\n"
     ]
    },
    {
     "name": "stdout",
     "output_type": "stream",
     "text": [
      "Processing: D:/01 서울시립대학교/03 5학년 2학기/03 컴퓨터종합설계/Saveset\\01.데이터\\2.Validation\\라벨링데이터\\08.공사장\n"
     ]
    },
    {
     "name": "stderr",
     "output_type": "stream",
     "text": [
      "Rasampling files in progress: 0it [00:00, ?it/s]\n"
     ]
    },
    {
     "name": "stdout",
     "output_type": "stream",
     "text": [
      "Processing: D:/01 서울시립대학교/03 5학년 2학기/03 컴퓨터종합설계/Saveset\\01.데이터\\2.Validation\\라벨링데이터\\08.공사장\\01.실외공사장\n"
     ]
    },
    {
     "name": "stderr",
     "output_type": "stream",
     "text": [
      "Rasampling files in progress: 100%|███████████████████████████████████████████████| 4600/4600 [00:07<00:00, 613.02it/s]\n"
     ]
    },
    {
     "name": "stdout",
     "output_type": "stream",
     "text": [
      "Processing: D:/01 서울시립대학교/03 5학년 2학기/03 컴퓨터종합설계/Saveset\\01.데이터\\2.Validation\\라벨링데이터\\08.공사장\\02.실내공사장\n"
     ]
    },
    {
     "name": "stderr",
     "output_type": "stream",
     "text": [
      "Rasampling files in progress: 100%|███████████████████████████████████████████████| 1634/1634 [00:02<00:00, 604.08it/s]\n"
     ]
    },
    {
     "name": "stdout",
     "output_type": "stream",
     "text": [
      "Processing: D:/01 서울시립대학교/03 5학년 2학기/03 컴퓨터종합설계/Saveset\\01.데이터\\2.Validation\\라벨링데이터\\08.공사장\\03.공사장_기타소음\n"
     ]
    },
    {
     "name": "stderr",
     "output_type": "stream",
     "text": [
      "Rasampling files in progress: 100%|███████████████████████████████████████████████| 3856/3856 [00:06<00:00, 640.57it/s]\n"
     ]
    },
    {
     "name": "stdout",
     "output_type": "stream",
     "text": [
      "Processing: D:/01 서울시립대학교/03 5학년 2학기/03 컴퓨터종합설계/Saveset\\01.데이터\\2.Validation\\라벨링데이터\\09.공장\n"
     ]
    },
    {
     "name": "stderr",
     "output_type": "stream",
     "text": [
      "Rasampling files in progress: 0it [00:00, ?it/s]\n"
     ]
    },
    {
     "name": "stdout",
     "output_type": "stream",
     "text": [
      "Processing: D:/01 서울시립대학교/03 5학년 2학기/03 컴퓨터종합설계/Saveset\\01.데이터\\2.Validation\\라벨링데이터\\09.공장\\01.가공공정\n"
     ]
    },
    {
     "name": "stderr",
     "output_type": "stream",
     "text": [
      "Rasampling files in progress: 100%|███████████████████████████████████████████████| 2158/2158 [00:03<00:00, 620.79it/s]\n"
     ]
    },
    {
     "name": "stdout",
     "output_type": "stream",
     "text": [
      "Processing: D:/01 서울시립대학교/03 5학년 2학기/03 컴퓨터종합설계/Saveset\\01.데이터\\2.Validation\\라벨링데이터\\09.공장\\02.조립공정\n"
     ]
    },
    {
     "name": "stderr",
     "output_type": "stream",
     "text": [
      "Rasampling files in progress: 100%|███████████████████████████████████████████████| 2778/2778 [00:04<00:00, 657.20it/s]\n"
     ]
    },
    {
     "name": "stdout",
     "output_type": "stream",
     "text": [
      "Processing: D:/01 서울시립대학교/03 5학년 2학기/03 컴퓨터종합설계/Saveset\\01.데이터\\2.Validation\\라벨링데이터\\09.공장\\03.공장_기타소음\n"
     ]
    },
    {
     "name": "stderr",
     "output_type": "stream",
     "text": [
      "Rasampling files in progress: 100%|███████████████████████████████████████████████| 9696/9696 [00:13<00:00, 739.76it/s]\n"
     ]
    },
    {
     "name": "stdout",
     "output_type": "stream",
     "text": [
      "Processing: D:/01 서울시립대학교/03 5학년 2학기/03 컴퓨터종합설계/Saveset\\01.데이터\\2.Validation\\라벨링데이터\\10.일반자연\n"
     ]
    },
    {
     "name": "stderr",
     "output_type": "stream",
     "text": [
      "Rasampling files in progress: 0it [00:00, ?it/s]\n"
     ]
    },
    {
     "name": "stdout",
     "output_type": "stream",
     "text": [
      "Processing: D:/01 서울시립대학교/03 5학년 2학기/03 컴퓨터종합설계/Saveset\\01.데이터\\2.Validation\\라벨링데이터\\10.일반자연\\01.빗소리\n"
     ]
    },
    {
     "name": "stderr",
     "output_type": "stream",
     "text": [
      "Rasampling files in progress: 100%|█████████████████████████████████████████████| 10598/10598 [00:10<00:00, 974.09it/s]\n"
     ]
    },
    {
     "name": "stdout",
     "output_type": "stream",
     "text": [
      "Processing: D:/01 서울시립대학교/03 5학년 2학기/03 컴퓨터종합설계/Saveset\\01.데이터\\2.Validation\\라벨링데이터\\10.일반자연\\02.파도\n"
     ]
    },
    {
     "name": "stderr",
     "output_type": "stream",
     "text": [
      "Rasampling files in progress: 100%|██████████████████████████████████████████████| 3822/3822 [00:03<00:00, 1001.08it/s]\n"
     ]
    },
    {
     "name": "stdout",
     "output_type": "stream",
     "text": [
      "Processing: D:/01 서울시립대학교/03 5학년 2학기/03 컴퓨터종합설계/Saveset\\01.데이터\\2.Validation\\라벨링데이터\\10.일반자연\\03.일반자연_기타소음\n"
     ]
    },
    {
     "name": "stderr",
     "output_type": "stream",
     "text": [
      "Rasampling files in progress: 100%|██████████████████████████████████████████████| 2102/2102 [00:01<00:00, 1057.77it/s]\n"
     ]
    },
    {
     "name": "stdout",
     "output_type": "stream",
     "text": [
      "Processing: D:/01 서울시립대학교/03 5학년 2학기/03 컴퓨터종합설계/Saveset\\01.데이터\\2.Validation\\라벨링데이터\\11.복합소음\n"
     ]
    },
    {
     "name": "stderr",
     "output_type": "stream",
     "text": [
      "Rasampling files in progress: 0it [00:00, ?it/s]\n"
     ]
    },
    {
     "name": "stdout",
     "output_type": "stream",
     "text": [
      "Processing: D:/01 서울시립대학교/03 5학년 2학기/03 컴퓨터종합설계/Saveset\\01.데이터\\2.Validation\\라벨링데이터\\11.복합소음\\01.2가지이상소음원\n"
     ]
    },
    {
     "name": "stderr",
     "output_type": "stream",
     "text": [
      "Rasampling files in progress: 100%|████████████████████████████████████████████| 27040/27040 [00:26<00:00, 1006.26it/s]\n"
     ]
    },
    {
     "name": "stdout",
     "output_type": "stream",
     "text": [
      "Processing: D:/01 서울시립대학교/03 5학년 2학기/03 컴퓨터종합설계/Saveset\\01.데이터\\2.Validation\\원천데이터\n"
     ]
    },
    {
     "name": "stderr",
     "output_type": "stream",
     "text": [
      "Rasampling files in progress: 0it [00:00, ?it/s]\n"
     ]
    },
    {
     "name": "stdout",
     "output_type": "stream",
     "text": [
      "Processing: D:/01 서울시립대학교/03 5학년 2학기/03 컴퓨터종합설계/Saveset\\01.데이터\\2.Validation\\원천데이터\\02.교통수단\n"
     ]
    },
    {
     "name": "stderr",
     "output_type": "stream",
     "text": [
      "Rasampling files in progress: 0it [00:00, ?it/s]\n"
     ]
    },
    {
     "name": "stdout",
     "output_type": "stream",
     "text": [
      "Processing: D:/01 서울시립대학교/03 5학년 2학기/03 컴퓨터종합설계/Saveset\\01.데이터\\2.Validation\\원천데이터\\02.교통수단\\01.바이크\n"
     ]
    },
    {
     "name": "stderr",
     "output_type": "stream",
     "text": [
      "Rasampling files in progress: 100%|████████████████████████████████████████████████████████| 1950/1950 [00:00<?, ?it/s]\n"
     ]
    },
    {
     "name": "stdout",
     "output_type": "stream",
     "text": [
      "Processing: D:/01 서울시립대학교/03 5학년 2학기/03 컴퓨터종합설계/Saveset\\01.데이터\\2.Validation\\원천데이터\\02.교통수단\\02.싸이렌\n"
     ]
    },
    {
     "name": "stderr",
     "output_type": "stream",
     "text": [
      "Rasampling files in progress: 100%|███████████████████████████████████████████| 1738/1738 [00:00<00:00, 1738540.51it/s]\n"
     ]
    },
    {
     "name": "stdout",
     "output_type": "stream",
     "text": [
      "Processing: D:/01 서울시립대학교/03 5학년 2학기/03 컴퓨터종합설계/Saveset\\01.데이터\\2.Validation\\원천데이터\\02.교통수단\\03.경적\n"
     ]
    },
    {
     "name": "stderr",
     "output_type": "stream",
     "text": [
      "Rasampling files in progress: 100%|███████████████████████████████████████████| 2110/2110 [00:00<00:00, 2110152.94it/s]\n"
     ]
    },
    {
     "name": "stdout",
     "output_type": "stream",
     "text": [
      "Processing: D:/01 서울시립대학교/03 5학년 2학기/03 컴퓨터종합설계/Saveset\\01.데이터\\2.Validation\\원천데이터\\02.교통수단\\04.교통수단_기타소음\n"
     ]
    },
    {
     "name": "stderr",
     "output_type": "stream",
     "text": [
      "Rasampling files in progress: 100%|███████████████████████████████████████████| 3372/3372 [00:00<00:00, 3369031.23it/s]\n"
     ]
    },
    {
     "name": "stdout",
     "output_type": "stream",
     "text": [
      "Processing: D:/01 서울시립대학교/03 5학년 2학기/03 컴퓨터종합설계/Saveset\\01.데이터\\2.Validation\\원천데이터\\03.길거리\n"
     ]
    },
    {
     "name": "stderr",
     "output_type": "stream",
     "text": [
      "Rasampling files in progress: 0it [00:00, ?it/s]\n"
     ]
    },
    {
     "name": "stdout",
     "output_type": "stream",
     "text": [
      "Processing: D:/01 서울시립대학교/03 5학년 2학기/03 컴퓨터종합설계/Saveset\\01.데이터\\2.Validation\\원천데이터\\03.길거리\\01.도로변\n"
     ]
    },
    {
     "name": "stderr",
     "output_type": "stream",
     "text": [
      "Rasampling files in progress: 100%|███████████████████████████████████████████| 9066/9066 [00:00<00:00, 2266529.18it/s]\n"
     ]
    },
    {
     "name": "stdout",
     "output_type": "stream",
     "text": [
      "Processing: D:/01 서울시립대학교/03 5학년 2학기/03 컴퓨터종합설계/Saveset\\01.데이터\\2.Validation\\원천데이터\\03.길거리\\02.인파\n"
     ]
    },
    {
     "name": "stderr",
     "output_type": "stream",
     "text": [
      "Rasampling files in progress: 100%|███████████████████████████████████████████| 1664/1664 [00:00<00:00, 1664914.56it/s]\n"
     ]
    },
    {
     "name": "stdout",
     "output_type": "stream",
     "text": [
      "Processing: D:/01 서울시립대학교/03 5학년 2학기/03 컴퓨터종합설계/Saveset\\01.데이터\\2.Validation\\원천데이터\\03.길거리\\03.길거리_기타소음\n"
     ]
    },
    {
     "name": "stderr",
     "output_type": "stream",
     "text": [
      "Rasampling files in progress: 100%|███████████████████████████████████████████| 5110/5110 [00:00<00:00, 1703727.62it/s]\n"
     ]
    },
    {
     "name": "stdout",
     "output_type": "stream",
     "text": [
      "Processing: D:/01 서울시립대학교/03 5학년 2학기/03 컴퓨터종합설계/Saveset\\01.데이터\\2.Validation\\원천데이터\\04.카페,음식점\n"
     ]
    },
    {
     "name": "stderr",
     "output_type": "stream",
     "text": [
      "Rasampling files in progress: 0it [00:00, ?it/s]\n"
     ]
    },
    {
     "name": "stdout",
     "output_type": "stream",
     "text": [
      "Processing: D:/01 서울시립대학교/03 5학년 2학기/03 컴퓨터종합설계/Saveset\\01.데이터\\2.Validation\\원천데이터\\04.카페,음식점\\01.대화소음\n"
     ]
    },
    {
     "name": "stderr",
     "output_type": "stream",
     "text": [
      "Rasampling files in progress: 100%|█████████████████████████████████████████| 16758/16758 [00:00<00:00, 2394091.98it/s]\n"
     ]
    },
    {
     "name": "stdout",
     "output_type": "stream",
     "text": [
      "Processing: D:/01 서울시립대학교/03 5학년 2학기/03 컴퓨터종합설계/Saveset\\01.데이터\\2.Validation\\원천데이터\\04.카페,음식점\\02.업소소음\n"
     ]
    },
    {
     "name": "stderr",
     "output_type": "stream",
     "text": [
      "Rasampling files in progress: 100%|█████████████████████████████████████████| 23602/23602 [00:00<00:00, 2359920.93it/s]\n"
     ]
    },
    {
     "name": "stdout",
     "output_type": "stream",
     "text": [
      "Processing: D:/01 서울시립대학교/03 5학년 2학기/03 컴퓨터종합설계/Saveset\\01.데이터\\2.Validation\\원천데이터\\04.카페,음식점\\03.카페,음식점_기타소음\n"
     ]
    },
    {
     "name": "stderr",
     "output_type": "stream",
     "text": [
      "Rasampling files in progress: 100%|███████████████████████████████████████████| 5904/5904 [00:00<00:00, 2952918.06it/s]\n"
     ]
    },
    {
     "name": "stdout",
     "output_type": "stream",
     "text": [
      "Processing: D:/01 서울시립대학교/03 5학년 2학기/03 컴퓨터종합설계/Saveset\\01.데이터\\2.Validation\\원천데이터\\05.시장,쇼핑몰\n"
     ]
    },
    {
     "name": "stderr",
     "output_type": "stream",
     "text": [
      "Rasampling files in progress: 0it [00:00, ?it/s]\n"
     ]
    },
    {
     "name": "stdout",
     "output_type": "stream",
     "text": [
      "Processing: D:/01 서울시립대학교/03 5학년 2학기/03 컴퓨터종합설계/Saveset\\01.데이터\\2.Validation\\원천데이터\\05.시장,쇼핑몰\\01.전통시장\n"
     ]
    },
    {
     "name": "stderr",
     "output_type": "stream",
     "text": [
      "Rasampling files in progress: 100%|███████████████████████████████████████████| 5120/5120 [00:00<00:00, 1705570.37it/s]\n"
     ]
    },
    {
     "name": "stdout",
     "output_type": "stream",
     "text": [
      "Processing: D:/01 서울시립대학교/03 5학년 2학기/03 컴퓨터종합설계/Saveset\\01.데이터\\2.Validation\\원천데이터\\05.시장,쇼핑몰\\02.복합쇼핑몰\n"
     ]
    },
    {
     "name": "stderr",
     "output_type": "stream",
     "text": [
      "Rasampling files in progress: 100%|█████████████████████████████████████████| 36686/36686 [00:00<00:00, 2292904.52it/s]"
     ]
    },
    {
     "name": "stdout",
     "output_type": "stream",
     "text": [
      "Processing:"
     ]
    },
    {
     "name": "stderr",
     "output_type": "stream",
     "text": [
      "\n"
     ]
    },
    {
     "name": "stdout",
     "output_type": "stream",
     "text": [
      " D:/01 서울시립대학교/03 5학년 2학기/03 컴퓨터종합설계/Saveset\\01.데이터\\2.Validation\\원천데이터\\05.시장,쇼핑몰\\03.시장,쇼핑몰_기타소음\n"
     ]
    },
    {
     "name": "stderr",
     "output_type": "stream",
     "text": [
      "Rasampling files in progress: 100%|███████████████████████████████████████████| 4042/4042 [00:00<00:00, 2020664.69it/s]\n"
     ]
    },
    {
     "name": "stdout",
     "output_type": "stream",
     "text": [
      "Processing: D:/01 서울시립대학교/03 5학년 2학기/03 컴퓨터종합설계/Saveset\\01.데이터\\2.Validation\\원천데이터\\06.지하철,버스\n"
     ]
    },
    {
     "name": "stderr",
     "output_type": "stream",
     "text": [
      "Rasampling files in progress: 0it [00:00, ?it/s]\n"
     ]
    },
    {
     "name": "stdout",
     "output_type": "stream",
     "text": [
      "Processing: D:/01 서울시립대학교/03 5학년 2학기/03 컴퓨터종합설계/Saveset\\01.데이터\\2.Validation\\원천데이터\\06.지하철,버스\\01.지하철플랫폼\n"
     ]
    },
    {
     "name": "stderr",
     "output_type": "stream",
     "text": [
      "Rasampling files in progress: 100%|███████████████████████████████████████████| 4878/4878 [00:00<00:00, 1624955.52it/s]\n"
     ]
    },
    {
     "name": "stdout",
     "output_type": "stream",
     "text": [
      "Processing: D:/01 서울시립대학교/03 5학년 2학기/03 컴퓨터종합설계/Saveset\\01.데이터\\2.Validation\\원천데이터\\06.지하철,버스\\02.지하철안\n"
     ]
    },
    {
     "name": "stderr",
     "output_type": "stream",
     "text": [
      "Rasampling files in progress: 100%|███████████████████████████████████████████| 6748/6748 [00:00<00:00, 2249317.60it/s]\n"
     ]
    },
    {
     "name": "stdout",
     "output_type": "stream",
     "text": [
      "Processing: D:/01 서울시립대학교/03 5학년 2학기/03 컴퓨터종합설계/Saveset\\01.데이터\\2.Validation\\원천데이터\\06.지하철,버스\\03.기차안\n"
     ]
    },
    {
     "name": "stderr",
     "output_type": "stream",
     "text": [
      "Rasampling files in progress: 100%|████████████████████████████████████████████████████████| 1880/1880 [00:00<?, ?it/s]\n"
     ]
    },
    {
     "name": "stdout",
     "output_type": "stream",
     "text": [
      "Processing: D:/01 서울시립대학교/03 5학년 2학기/03 컴퓨터종합설계/Saveset\\01.데이터\\2.Validation\\원천데이터\\06.지하철,버스\\04.버스안\n"
     ]
    },
    {
     "name": "stderr",
     "output_type": "stream",
     "text": [
      "Rasampling files in progress: 100%|███████████████████████████████████████████| 7292/7292 [00:00<00:00, 1822371.73it/s]\n"
     ]
    },
    {
     "name": "stdout",
     "output_type": "stream",
     "text": [
      "Processing: D:/01 서울시립대학교/03 5학년 2학기/03 컴퓨터종합설계/Saveset\\01.데이터\\2.Validation\\원천데이터\\07.터미널\n"
     ]
    },
    {
     "name": "stderr",
     "output_type": "stream",
     "text": [
      "Rasampling files in progress: 0it [00:00, ?it/s]\n"
     ]
    },
    {
     "name": "stdout",
     "output_type": "stream",
     "text": [
      "Processing: D:/01 서울시립대학교/03 5학년 2학기/03 컴퓨터종합설계/Saveset\\01.데이터\\2.Validation\\원천데이터\\07.터미널\\01.기차역대합실\n"
     ]
    },
    {
     "name": "stderr",
     "output_type": "stream",
     "text": [
      "Rasampling files in progress: 100%|███████████████████████████████████████████| 8102/8102 [00:00<00:00, 2025526.08it/s]\n"
     ]
    },
    {
     "name": "stdout",
     "output_type": "stream",
     "text": [
      "Processing: D:/01 서울시립대학교/03 5학년 2학기/03 컴퓨터종합설계/Saveset\\01.데이터\\2.Validation\\원천데이터\\07.터미널\\02.버스터미널대합실\n"
     ]
    },
    {
     "name": "stderr",
     "output_type": "stream",
     "text": [
      "Rasampling files in progress: 100%|███████████████████████████████████████████| 7764/7764 [00:00<00:00, 1941140.69it/s]\n"
     ]
    },
    {
     "name": "stdout",
     "output_type": "stream",
     "text": [
      "Processing: D:/01 서울시립대학교/03 5학년 2학기/03 컴퓨터종합설계/Saveset\\01.데이터\\2.Validation\\원천데이터\\07.터미널\\03.터미널_기타소음\n"
     ]
    },
    {
     "name": "stderr",
     "output_type": "stream",
     "text": [
      "Rasampling files in progress: 100%|███████████████████████████████████████████| 7230/7230 [00:00<00:00, 1807200.11it/s]\n"
     ]
    },
    {
     "name": "stdout",
     "output_type": "stream",
     "text": [
      "Processing: D:/01 서울시립대학교/03 5학년 2학기/03 컴퓨터종합설계/Saveset\\01.데이터\\2.Validation\\원천데이터\\08.공사장\n"
     ]
    },
    {
     "name": "stderr",
     "output_type": "stream",
     "text": [
      "Rasampling files in progress: 0it [00:00, ?it/s]\n"
     ]
    },
    {
     "name": "stdout",
     "output_type": "stream",
     "text": [
      "Processing: D:/01 서울시립대학교/03 5학년 2학기/03 컴퓨터종합설계/Saveset\\01.데이터\\2.Validation\\원천데이터\\08.공사장\\01.실외공사장\n"
     ]
    },
    {
     "name": "stderr",
     "output_type": "stream",
     "text": [
      "Rasampling files in progress: 100%|███████████████████████████████████████████| 4600/4600 [00:00<00:00, 2299892.53it/s]\n"
     ]
    },
    {
     "name": "stdout",
     "output_type": "stream",
     "text": [
      "Processing: D:/01 서울시립대학교/03 5학년 2학기/03 컴퓨터종합설계/Saveset\\01.데이터\\2.Validation\\원천데이터\\08.공사장\\02.실내공사장\n"
     ]
    },
    {
     "name": "stderr",
     "output_type": "stream",
     "text": [
      "Rasampling files in progress: 100%|███████████████████████████████████████████| 1634/1634 [00:00<00:00, 1630619.26it/s]\n"
     ]
    },
    {
     "name": "stdout",
     "output_type": "stream",
     "text": [
      "Processing: D:/01 서울시립대학교/03 5학년 2학기/03 컴퓨터종합설계/Saveset\\01.데이터\\2.Validation\\원천데이터\\08.공사장\\03.공사장_기타소음\n"
     ]
    },
    {
     "name": "stderr",
     "output_type": "stream",
     "text": [
      "Rasampling files in progress: 100%|███████████████████████████████████████████| 3856/3856 [00:00<00:00, 1927450.39it/s]\n"
     ]
    },
    {
     "name": "stdout",
     "output_type": "stream",
     "text": [
      "Processing: D:/01 서울시립대학교/03 5학년 2학기/03 컴퓨터종합설계/Saveset\\01.데이터\\2.Validation\\원천데이터\\09.공장\n"
     ]
    },
    {
     "name": "stderr",
     "output_type": "stream",
     "text": [
      "Rasampling files in progress: 0it [00:00, ?it/s]\n"
     ]
    },
    {
     "name": "stdout",
     "output_type": "stream",
     "text": [
      "Processing: D:/01 서울시립대학교/03 5학년 2학기/03 컴퓨터종합설계/Saveset\\01.데이터\\2.Validation\\원천데이터\\09.공장\\01.가공공정\n"
     ]
    },
    {
     "name": "stderr",
     "output_type": "stream",
     "text": [
      "Rasampling files in progress: 100%|███████████████████████████████████████████| 2158/2158 [00:00<00:00, 2154560.35it/s]\n"
     ]
    },
    {
     "name": "stdout",
     "output_type": "stream",
     "text": [
      "Processing: D:/01 서울시립대학교/03 5학년 2학기/03 컴퓨터종합설계/Saveset\\01.데이터\\2.Validation\\원천데이터\\09.공장\\02.조립공정\n"
     ]
    },
    {
     "name": "stderr",
     "output_type": "stream",
     "text": [
      "Rasampling files in progress: 100%|████████████████████████████████████████████████████████| 2778/2778 [00:00<?, ?it/s]\n"
     ]
    },
    {
     "name": "stdout",
     "output_type": "stream",
     "text": [
      "Processing: D:/01 서울시립대학교/03 5학년 2학기/03 컴퓨터종합설계/Saveset\\01.데이터\\2.Validation\\원천데이터\\09.공장\\03.공장_기타소음\n"
     ]
    },
    {
     "name": "stderr",
     "output_type": "stream",
     "text": [
      "Rasampling files in progress: 100%|███████████████████████████████████████████| 9696/9696 [00:00<00:00, 3230950.31it/s]\n"
     ]
    },
    {
     "name": "stdout",
     "output_type": "stream",
     "text": [
      "Processing: D:/01 서울시립대학교/03 5학년 2학기/03 컴퓨터종합설계/Saveset\\01.데이터\\2.Validation\\원천데이터\\10.일반자연\n"
     ]
    },
    {
     "name": "stderr",
     "output_type": "stream",
     "text": [
      "Rasampling files in progress: 0it [00:00, ?it/s]\n"
     ]
    },
    {
     "name": "stdout",
     "output_type": "stream",
     "text": [
      "Processing: D:/01 서울시립대학교/03 5학년 2학기/03 컴퓨터종합설계/Saveset\\01.데이터\\2.Validation\\원천데이터\\10.일반자연\\01.빗소리\n"
     ]
    },
    {
     "name": "stderr",
     "output_type": "stream",
     "text": [
      "Rasampling files in progress: 100%|█████████████████████████████████████████| 10598/10598 [00:00<00:00, 2119046.28it/s]\n"
     ]
    },
    {
     "name": "stdout",
     "output_type": "stream",
     "text": [
      "Processing: D:/01 서울시립대학교/03 5학년 2학기/03 컴퓨터종합설계/Saveset\\01.데이터\\2.Validation\\원천데이터\\10.일반자연\\02.파도\n"
     ]
    },
    {
     "name": "stderr",
     "output_type": "stream",
     "text": [
      "Rasampling files in progress: 100%|███████████████████████████████████████████| 3822/3822 [00:00<00:00, 1909544.95it/s]\n"
     ]
    },
    {
     "name": "stdout",
     "output_type": "stream",
     "text": [
      "Processing: D:/01 서울시립대학교/03 5학년 2학기/03 컴퓨터종합설계/Saveset\\01.데이터\\2.Validation\\원천데이터\\10.일반자연\\03.일반자연_기타소음\n"
     ]
    },
    {
     "name": "stderr",
     "output_type": "stream",
     "text": [
      "Rasampling files in progress: 100%|███████████████████████████████████████████| 2102/2102 [00:00<00:00, 2103155.30it/s]\n"
     ]
    },
    {
     "name": "stdout",
     "output_type": "stream",
     "text": [
      "Processing: D:/01 서울시립대학교/03 5학년 2학기/03 컴퓨터종합설계/Saveset\\01.데이터\\2.Validation\\원천데이터\\11.복합소음\n"
     ]
    },
    {
     "name": "stderr",
     "output_type": "stream",
     "text": [
      "Rasampling files in progress: 0it [00:00, ?it/s]\n"
     ]
    },
    {
     "name": "stdout",
     "output_type": "stream",
     "text": [
      "Processing: D:/01 서울시립대학교/03 5학년 2학기/03 컴퓨터종합설계/Saveset\\01.데이터\\2.Validation\\원천데이터\\11.복합소음\\01.2가지이상소음원\n"
     ]
    },
    {
     "name": "stderr",
     "output_type": "stream",
     "text": [
      "Rasampling files in progress: 100%|█████████████████████████████████████████| 27040/27040 [00:00<00:00, 2079921.88it/s]"
     ]
    },
    {
     "name": "stdout",
     "output_type": "stream",
     "text": [
      "Done!\n"
     ]
    },
    {
     "name": "stderr",
     "output_type": "stream",
     "text": [
      "\n"
     ]
    }
   ],
   "source": [
    "root_directory = \"D:/01 서울시립대학교/03 5학년 2학기/03 컴퓨터종합설계/Saveset\"\n",
    "transcription(root_directory)"
   ]
  },
  {
   "cell_type": "markdown",
   "id": "58e555a9-8a5c-49d0-b7bb-d50a868a391f",
   "metadata": {},
   "source": [
    "# 3. Move"
   ]
  },
  {
   "cell_type": "code",
   "execution_count": 56,
   "id": "499bd4d5-5295-4da4-9cd8-8b105bb36894",
   "metadata": {},
   "outputs": [],
   "source": [
    "import os\n",
    "import json\n",
    "import shutil\n",
    "\n",
    "def is_json(filename):\n",
    "    return filename[-4:] == 'json'\n",
    "\n",
    "def is_wav(filename):\n",
    "    return filename[-3:] == 'wav'\n",
    "\n",
    "def move(root_dir, num_to_select, save_dir):\n",
    "    wav_filepath_list = []\n",
    "    text_list = []\n",
    "    root_dir_len = len(root_dir)\n",
    "    for dirpath, dirnames, filenames in os.walk(root_dir):\n",
    "        print(\"Processing:\", dirpath)\n",
    "        if len(filenames) < num_to_select:\n",
    "            files_to_select = filenames\n",
    "        else:\n",
    "            files_to_select = random.sample(filenames, num_to_select)\n",
    "        num_files = len(files_to_select)\n",
    "        with tqdm(total=num_files, desc=\"Progression\") as pbar:\n",
    "            n = 0\n",
    "            for filename in files_to_select:\n",
    "                if is_json(filename):\n",
    "                    filepath = os.path.join(dirpath, filename)\n",
    "                    newpath = filepath.replace(root_dir, save_dir)\n",
    "    \n",
    "                    directory, _ = os.path.split(newpath)\n",
    "                    if not os.path.exists(directory):\n",
    "                        os.makedirs(directory)\n",
    "                    \n",
    "                    shutil.copy(filepath, newpath)\n",
    "\n",
    "                    filepath = filepath.replace('.json', '.wav')\n",
    "                    filepath = filepath.replace('라벨링', '원천')\n",
    "                    newpath = filepath.replace(root_dir, save_dir)\n",
    "\n",
    "                    directory, _ = os.path.split(newpath)\n",
    "                    if not os.path.exists(directory):\n",
    "                        os.makedirs(directory)\n",
    "\n",
    "                    shutil.copy(filepath, newpath)\n",
    "                pbar.update(1)\n",
    "            print(f\"Success: {n}/{len(filenames)}\")\n",
    "                    \n",
    "    print(\"Done!\")"
   ]
  },
  {
   "cell_type": "code",
   "execution_count": 57,
   "id": "9f433b4d-350c-4b62-9dd4-2f137edec69d",
   "metadata": {
    "scrolled": true
   },
   "outputs": [
    {
     "name": "stdout",
     "output_type": "stream",
     "text": [
      "Processing: D:\\01 서울시립대학교\\03 5학년 2학기\\03 컴퓨터종합설계\\Saveset\n"
     ]
    },
    {
     "name": "stderr",
     "output_type": "stream",
     "text": [
      "Progression: 100%|███████| 1/1 [00:00<?, ?it/s]\n"
     ]
    },
    {
     "name": "stdout",
     "output_type": "stream",
     "text": [
      "Success: 0/1\n",
      "Processing: D:\\01 서울시립대학교\\03 5학년 2학기\\03 컴퓨터종합설계\\Saveset\\01.데이터\n"
     ]
    },
    {
     "name": "stderr",
     "output_type": "stream",
     "text": [
      "Progression: 0it [00:00, ?it/s]\n"
     ]
    },
    {
     "name": "stdout",
     "output_type": "stream",
     "text": [
      "Success: 0/0\n",
      "Processing: D:\\01 서울시립대학교\\03 5학년 2학기\\03 컴퓨터종합설계\\Saveset\\01.데이터\\2.Validation\n"
     ]
    },
    {
     "name": "stderr",
     "output_type": "stream",
     "text": [
      "Progression: 0it [00:00, ?it/s]\n"
     ]
    },
    {
     "name": "stdout",
     "output_type": "stream",
     "text": [
      "Success: 0/0\n",
      "Processing: D:\\01 서울시립대학교\\03 5학년 2학기\\03 컴퓨터종합설계\\Saveset\\01.데이터\\2.Validation\\라벨링데이터\n"
     ]
    },
    {
     "name": "stderr",
     "output_type": "stream",
     "text": [
      "Progression: 0it [00:00, ?it/s]\n"
     ]
    },
    {
     "name": "stdout",
     "output_type": "stream",
     "text": [
      "Success: 0/0\n",
      "Processing: D:\\01 서울시립대학교\\03 5학년 2학기\\03 컴퓨터종합설계\\Saveset\\01.데이터\\2.Validation\\라벨링데이터\\01.가전소음\n"
     ]
    },
    {
     "name": "stderr",
     "output_type": "stream",
     "text": [
      "Progression: 0it [00:00, ?it/s]\n"
     ]
    },
    {
     "name": "stdout",
     "output_type": "stream",
     "text": [
      "Success: 0/0\n",
      "Processing: D:\\01 서울시립대학교\\03 5학년 2학기\\03 컴퓨터종합설계\\Saveset\\01.데이터\\2.Validation\\라벨링데이터\\01.가전소음\\01.세탁기,건조기\n"
     ]
    },
    {
     "name": "stderr",
     "output_type": "stream",
     "text": [
      "Progression: 100%|█| 10/10 [00:00<00:00, 60.02i"
     ]
    },
    {
     "name": "stdout",
     "output_type": "stream",
     "text": [
      "Success: 0/10736\n"
     ]
    },
    {
     "name": "stderr",
     "output_type": "stream",
     "text": [
      "\n"
     ]
    },
    {
     "name": "stdout",
     "output_type": "stream",
     "text": [
      "Processing: D:\\01 서울시립대학교\\03 5학년 2학기\\03 컴퓨터종합설계\\Saveset\\01.데이터\\2.Validation\\라벨링데이터\\01.가전소음\\02.청소기\n"
     ]
    },
    {
     "name": "stderr",
     "output_type": "stream",
     "text": [
      "Progression: 100%|█| 10/10 [00:00<00:00, 62.85i\n"
     ]
    },
    {
     "name": "stdout",
     "output_type": "stream",
     "text": [
      "Success: 0/4640\n",
      "Processing: D:\\01 서울시립대학교\\03 5학년 2학기\\03 컴퓨터종합설계\\Saveset\\01.데이터\\2.Validation\\라벨링데이터\\01.가전소음\\03.가전소음_기타소음\n"
     ]
    },
    {
     "name": "stderr",
     "output_type": "stream",
     "text": [
      "Progression: 100%|█| 10/10 [00:00<00:00, 57.87i"
     ]
    },
    {
     "name": "stdout",
     "output_type": "stream",
     "text": [
      "Success: 0/32044\n"
     ]
    },
    {
     "name": "stderr",
     "output_type": "stream",
     "text": [
      "\n"
     ]
    },
    {
     "name": "stdout",
     "output_type": "stream",
     "text": [
      "Processing: D:\\01 서울시립대학교\\03 5학년 2학기\\03 컴퓨터종합설계\\Saveset\\01.데이터\\2.Validation\\라벨링데이터\\02.교통수단\n"
     ]
    },
    {
     "name": "stderr",
     "output_type": "stream",
     "text": [
      "Progression: 0it [00:00, ?it/s]\n"
     ]
    },
    {
     "name": "stdout",
     "output_type": "stream",
     "text": [
      "Success: 0/0\n",
      "Processing: D:\\01 서울시립대학교\\03 5학년 2학기\\03 컴퓨터종합설계\\Saveset\\01.데이터\\2.Validation\\라벨링데이터\\02.교통수단\\01.바이크\n"
     ]
    },
    {
     "name": "stderr",
     "output_type": "stream",
     "text": [
      "Progression: 100%|█| 10/10 [00:00<00:00, 55.47i"
     ]
    },
    {
     "name": "stdout",
     "output_type": "stream",
     "text": [
      "Success: 0/1950\n"
     ]
    },
    {
     "name": "stderr",
     "output_type": "stream",
     "text": [
      "\n"
     ]
    },
    {
     "name": "stdout",
     "output_type": "stream",
     "text": [
      "Processing: D:\\01 서울시립대학교\\03 5학년 2학기\\03 컴퓨터종합설계\\Saveset\\01.데이터\\2.Validation\\라벨링데이터\\02.교통수단\\02.싸이렌\n"
     ]
    },
    {
     "name": "stderr",
     "output_type": "stream",
     "text": [
      "Progression: 100%|█| 10/10 [00:00<00:00, 41.13i\n"
     ]
    },
    {
     "name": "stdout",
     "output_type": "stream",
     "text": [
      "Success: 0/1738\n",
      "Processing: D:\\01 서울시립대학교\\03 5학년 2학기\\03 컴퓨터종합설계\\Saveset\\01.데이터\\2.Validation\\라벨링데이터\\02.교통수단\\03.경적\n"
     ]
    },
    {
     "name": "stderr",
     "output_type": "stream",
     "text": [
      "Progression: 100%|█| 10/10 [00:00<00:00, 43.65i\n"
     ]
    },
    {
     "name": "stdout",
     "output_type": "stream",
     "text": [
      "Success: 0/2110\n",
      "Processing: D:\\01 서울시립대학교\\03 5학년 2학기\\03 컴퓨터종합설계\\Saveset\\01.데이터\\2.Validation\\라벨링데이터\\02.교통수단\\04.교통수단_기타소음\n"
     ]
    },
    {
     "name": "stderr",
     "output_type": "stream",
     "text": [
      "Progression: 100%|█| 10/10 [00:00<00:00, 43.43i\n"
     ]
    },
    {
     "name": "stdout",
     "output_type": "stream",
     "text": [
      "Success: 0/3372\n",
      "Processing: D:\\01 서울시립대학교\\03 5학년 2학기\\03 컴퓨터종합설계\\Saveset\\01.데이터\\2.Validation\\라벨링데이터\\03.길거리\n"
     ]
    },
    {
     "name": "stderr",
     "output_type": "stream",
     "text": [
      "Progression: 0it [00:00, ?it/s]\n"
     ]
    },
    {
     "name": "stdout",
     "output_type": "stream",
     "text": [
      "Success: 0/0\n",
      "Processing: D:\\01 서울시립대학교\\03 5학년 2학기\\03 컴퓨터종합설계\\Saveset\\01.데이터\\2.Validation\\라벨링데이터\\03.길거리\\01.도로변\n"
     ]
    },
    {
     "name": "stderr",
     "output_type": "stream",
     "text": [
      "Progression: 100%|█| 10/10 [00:00<00:00, 54.80i"
     ]
    },
    {
     "name": "stdout",
     "output_type": "stream",
     "text": [
      "Success: 0/9066\n"
     ]
    },
    {
     "name": "stderr",
     "output_type": "stream",
     "text": [
      "\n"
     ]
    },
    {
     "name": "stdout",
     "output_type": "stream",
     "text": [
      "Processing: D:\\01 서울시립대학교\\03 5학년 2학기\\03 컴퓨터종합설계\\Saveset\\01.데이터\\2.Validation\\라벨링데이터\\03.길거리\\02.인파\n"
     ]
    },
    {
     "name": "stderr",
     "output_type": "stream",
     "text": [
      "Progression: 100%|█| 10/10 [00:00<00:00, 27.78i\n"
     ]
    },
    {
     "name": "stdout",
     "output_type": "stream",
     "text": [
      "Success: 0/1664\n",
      "Processing: D:\\01 서울시립대학교\\03 5학년 2학기\\03 컴퓨터종합설계\\Saveset\\01.데이터\\2.Validation\\라벨링데이터\\03.길거리\\03.길거리_기타소음\n"
     ]
    },
    {
     "name": "stderr",
     "output_type": "stream",
     "text": [
      "Progression: 100%|█| 10/10 [00:00<00:00, 37.48i\n"
     ]
    },
    {
     "name": "stdout",
     "output_type": "stream",
     "text": [
      "Success: 0/5110\n",
      "Processing: D:\\01 서울시립대학교\\03 5학년 2학기\\03 컴퓨터종합설계\\Saveset\\01.데이터\\2.Validation\\라벨링데이터\\04.카페,음식점\n"
     ]
    },
    {
     "name": "stderr",
     "output_type": "stream",
     "text": [
      "Progression: 0it [00:00, ?it/s]\n"
     ]
    },
    {
     "name": "stdout",
     "output_type": "stream",
     "text": [
      "Success: 0/0\n",
      "Processing: D:\\01 서울시립대학교\\03 5학년 2학기\\03 컴퓨터종합설계\\Saveset\\01.데이터\\2.Validation\\라벨링데이터\\04.카페,음식점\\01.대화소음\n"
     ]
    },
    {
     "name": "stderr",
     "output_type": "stream",
     "text": [
      "Progression: 100%|█| 10/10 [00:00<00:00, 47.43i\n"
     ]
    },
    {
     "name": "stdout",
     "output_type": "stream",
     "text": [
      "Success: 0/16758\n",
      "Processing: D:\\01 서울시립대학교\\03 5학년 2학기\\03 컴퓨터종합설계\\Saveset\\01.데이터\\2.Validation\\라벨링데이터\\04.카페,음식점\\02.업소소음\n"
     ]
    },
    {
     "name": "stderr",
     "output_type": "stream",
     "text": [
      "Progression: 100%|█| 10/10 [00:00<00:00, 37.94i\n"
     ]
    },
    {
     "name": "stdout",
     "output_type": "stream",
     "text": [
      "Success: 0/23602\n",
      "Processing: D:\\01 서울시립대학교\\03 5학년 2학기\\03 컴퓨터종합설계\\Saveset\\01.데이터\\2.Validation\\라벨링데이터\\04.카페,음식점\\03.카페,음식점_기타소음\n"
     ]
    },
    {
     "name": "stderr",
     "output_type": "stream",
     "text": [
      "Progression: 100%|█| 10/10 [00:00<00:00, 52.67i\n"
     ]
    },
    {
     "name": "stdout",
     "output_type": "stream",
     "text": [
      "Success: 0/5904\n",
      "Processing: D:\\01 서울시립대학교\\03 5학년 2학기\\03 컴퓨터종합설계\\Saveset\\01.데이터\\2.Validation\\라벨링데이터\\05.시장,쇼핑몰\n"
     ]
    },
    {
     "name": "stderr",
     "output_type": "stream",
     "text": [
      "Progression: 0it [00:00, ?it/s]\n"
     ]
    },
    {
     "name": "stdout",
     "output_type": "stream",
     "text": [
      "Success: 0/0\n",
      "Processing: D:\\01 서울시립대학교\\03 5학년 2학기\\03 컴퓨터종합설계\\Saveset\\01.데이터\\2.Validation\\라벨링데이터\\05.시장,쇼핑몰\\01.전통시장\n"
     ]
    },
    {
     "name": "stderr",
     "output_type": "stream",
     "text": [
      "Progression: 100%|█| 10/10 [00:00<00:00, 25.09i\n"
     ]
    },
    {
     "name": "stdout",
     "output_type": "stream",
     "text": [
      "Success: 0/5120\n",
      "Processing: D:\\01 서울시립대학교\\03 5학년 2학기\\03 컴퓨터종합설계\\Saveset\\01.데이터\\2.Validation\\라벨링데이터\\05.시장,쇼핑몰\\02.복합쇼핑몰\n"
     ]
    },
    {
     "name": "stderr",
     "output_type": "stream",
     "text": [
      "Progression: 100%|█| 10/10 [00:00<00:00, 40.27i\n"
     ]
    },
    {
     "name": "stdout",
     "output_type": "stream",
     "text": [
      "Success: 0/36686\n",
      "Processing: D:\\01 서울시립대학교\\03 5학년 2학기\\03 컴퓨터종합설계\\Saveset\\01.데이터\\2.Validation\\라벨링데이터\\05.시장,쇼핑몰\\03.시장,쇼핑몰_기타소음\n"
     ]
    },
    {
     "name": "stderr",
     "output_type": "stream",
     "text": [
      "Progression: 100%|█| 10/10 [00:00<00:00, 51.09i"
     ]
    },
    {
     "name": "stdout",
     "output_type": "stream",
     "text": [
      "Success: 0/4042\n"
     ]
    },
    {
     "name": "stderr",
     "output_type": "stream",
     "text": [
      "\n"
     ]
    },
    {
     "name": "stdout",
     "output_type": "stream",
     "text": [
      "Processing: D:\\01 서울시립대학교\\03 5학년 2학기\\03 컴퓨터종합설계\\Saveset\\01.데이터\\2.Validation\\라벨링데이터\\06.지하철,버스\n"
     ]
    },
    {
     "name": "stderr",
     "output_type": "stream",
     "text": [
      "Progression: 0it [00:00, ?it/s]\n"
     ]
    },
    {
     "name": "stdout",
     "output_type": "stream",
     "text": [
      "Success: 0/0\n",
      "Processing: D:\\01 서울시립대학교\\03 5학년 2학기\\03 컴퓨터종합설계\\Saveset\\01.데이터\\2.Validation\\라벨링데이터\\06.지하철,버스\\01.지하철플랫폼\n"
     ]
    },
    {
     "name": "stderr",
     "output_type": "stream",
     "text": [
      "Progression: 100%|█| 10/10 [00:00<00:00, 42.73i\n"
     ]
    },
    {
     "name": "stdout",
     "output_type": "stream",
     "text": [
      "Success: 0/4878\n",
      "Processing: D:\\01 서울시립대학교\\03 5학년 2학기\\03 컴퓨터종합설계\\Saveset\\01.데이터\\2.Validation\\라벨링데이터\\06.지하철,버스\\02.지하철안\n"
     ]
    },
    {
     "name": "stderr",
     "output_type": "stream",
     "text": [
      "Progression: 100%|█| 10/10 [00:00<00:00, 33.89i\n"
     ]
    },
    {
     "name": "stdout",
     "output_type": "stream",
     "text": [
      "Success: 0/6748\n",
      "Processing: D:\\01 서울시립대학교\\03 5학년 2학기\\03 컴퓨터종합설계\\Saveset\\01.데이터\\2.Validation\\라벨링데이터\\06.지하철,버스\\03.기차안\n"
     ]
    },
    {
     "name": "stderr",
     "output_type": "stream",
     "text": [
      "Progression: 100%|█| 10/10 [00:00<00:00, 31.08i\n"
     ]
    },
    {
     "name": "stdout",
     "output_type": "stream",
     "text": [
      "Success: 0/1880\n",
      "Processing: D:\\01 서울시립대학교\\03 5학년 2학기\\03 컴퓨터종합설계\\Saveset\\01.데이터\\2.Validation\\라벨링데이터\\06.지하철,버스\\04.버스안\n"
     ]
    },
    {
     "name": "stderr",
     "output_type": "stream",
     "text": [
      "Progression: 100%|█| 10/10 [00:00<00:00, 29.56i\n"
     ]
    },
    {
     "name": "stdout",
     "output_type": "stream",
     "text": [
      "Success: 0/7292\n",
      "Processing: D:\\01 서울시립대학교\\03 5학년 2학기\\03 컴퓨터종합설계\\Saveset\\01.데이터\\2.Validation\\라벨링데이터\\07.터미널\n"
     ]
    },
    {
     "name": "stderr",
     "output_type": "stream",
     "text": [
      "Progression: 0it [00:00, ?it/s]\n"
     ]
    },
    {
     "name": "stdout",
     "output_type": "stream",
     "text": [
      "Success: 0/0\n",
      "Processing: D:\\01 서울시립대학교\\03 5학년 2학기\\03 컴퓨터종합설계\\Saveset\\01.데이터\\2.Validation\\라벨링데이터\\07.터미널\\01.기차역대합실\n"
     ]
    },
    {
     "name": "stderr",
     "output_type": "stream",
     "text": [
      "Progression: 100%|█| 10/10 [00:00<00:00, 37.99i\n"
     ]
    },
    {
     "name": "stdout",
     "output_type": "stream",
     "text": [
      "Success: 0/8102\n",
      "Processing: D:\\01 서울시립대학교\\03 5학년 2학기\\03 컴퓨터종합설계\\Saveset\\01.데이터\\2.Validation\\라벨링데이터\\07.터미널\\02.버스터미널대합실\n"
     ]
    },
    {
     "name": "stderr",
     "output_type": "stream",
     "text": [
      "Progression: 100%|█| 10/10 [00:00<00:00, 48.73i\n"
     ]
    },
    {
     "name": "stdout",
     "output_type": "stream",
     "text": [
      "Success: 0/7764\n",
      "Processing: D:\\01 서울시립대학교\\03 5학년 2학기\\03 컴퓨터종합설계\\Saveset\\01.데이터\\2.Validation\\라벨링데이터\\07.터미널\\03.터미널_기타소음\n"
     ]
    },
    {
     "name": "stderr",
     "output_type": "stream",
     "text": [
      "Progression: 100%|█| 10/10 [00:00<00:00, 41.09i\n"
     ]
    },
    {
     "name": "stdout",
     "output_type": "stream",
     "text": [
      "Success: 0/7230\n",
      "Processing: D:\\01 서울시립대학교\\03 5학년 2학기\\03 컴퓨터종합설계\\Saveset\\01.데이터\\2.Validation\\라벨링데이터\\08.공사장\n"
     ]
    },
    {
     "name": "stderr",
     "output_type": "stream",
     "text": [
      "Progression: 0it [00:00, ?it/s]\n"
     ]
    },
    {
     "name": "stdout",
     "output_type": "stream",
     "text": [
      "Success: 0/0\n",
      "Processing: D:\\01 서울시립대학교\\03 5학년 2학기\\03 컴퓨터종합설계\\Saveset\\01.데이터\\2.Validation\\라벨링데이터\\08.공사장\\01.실외공사장\n"
     ]
    },
    {
     "name": "stderr",
     "output_type": "stream",
     "text": [
      "Progression: 100%|█| 10/10 [00:00<00:00, 56.91i"
     ]
    },
    {
     "name": "stdout",
     "output_type": "stream",
     "text": [
      "Success: 0/4600\n"
     ]
    },
    {
     "name": "stderr",
     "output_type": "stream",
     "text": [
      "\n"
     ]
    },
    {
     "name": "stdout",
     "output_type": "stream",
     "text": [
      "Processing: D:\\01 서울시립대학교\\03 5학년 2학기\\03 컴퓨터종합설계\\Saveset\\01.데이터\\2.Validation\\라벨링데이터\\08.공사장\\02.실내공사장\n"
     ]
    },
    {
     "name": "stderr",
     "output_type": "stream",
     "text": [
      "Progression: 100%|█| 10/10 [00:00<00:00, 52.73i"
     ]
    },
    {
     "name": "stdout",
     "output_type": "stream",
     "text": [
      "Success: 0/1634\n"
     ]
    },
    {
     "name": "stderr",
     "output_type": "stream",
     "text": [
      "\n"
     ]
    },
    {
     "name": "stdout",
     "output_type": "stream",
     "text": [
      "Processing: D:\\01 서울시립대학교\\03 5학년 2학기\\03 컴퓨터종합설계\\Saveset\\01.데이터\\2.Validation\\라벨링데이터\\08.공사장\\03.공사장_기타소음\n"
     ]
    },
    {
     "name": "stderr",
     "output_type": "stream",
     "text": [
      "Progression: 100%|█| 10/10 [00:00<00:00, 53.29i"
     ]
    },
    {
     "name": "stdout",
     "output_type": "stream",
     "text": [
      "Success: 0/3856\n"
     ]
    },
    {
     "name": "stderr",
     "output_type": "stream",
     "text": [
      "\n"
     ]
    },
    {
     "name": "stdout",
     "output_type": "stream",
     "text": [
      "Processing: D:\\01 서울시립대학교\\03 5학년 2학기\\03 컴퓨터종합설계\\Saveset\\01.데이터\\2.Validation\\라벨링데이터\\09.공장\n"
     ]
    },
    {
     "name": "stderr",
     "output_type": "stream",
     "text": [
      "Progression: 0it [00:00, ?it/s]\n"
     ]
    },
    {
     "name": "stdout",
     "output_type": "stream",
     "text": [
      "Success: 0/0\n",
      "Processing: D:\\01 서울시립대학교\\03 5학년 2학기\\03 컴퓨터종합설계\\Saveset\\01.데이터\\2.Validation\\라벨링데이터\\09.공장\\01.가공공정\n"
     ]
    },
    {
     "name": "stderr",
     "output_type": "stream",
     "text": [
      "Progression: 100%|█| 10/10 [00:00<00:00, 57.54i\n"
     ]
    },
    {
     "name": "stdout",
     "output_type": "stream",
     "text": [
      "Success: 0/2158\n",
      "Processing: D:\\01 서울시립대학교\\03 5학년 2학기\\03 컴퓨터종합설계\\Saveset\\01.데이터\\2.Validation\\라벨링데이터\\09.공장\\02.조립공정\n"
     ]
    },
    {
     "name": "stderr",
     "output_type": "stream",
     "text": [
      "Progression: 100%|█| 10/10 [00:00<00:00, 52.09i\n"
     ]
    },
    {
     "name": "stdout",
     "output_type": "stream",
     "text": [
      "Success: 0/2778\n",
      "Processing: D:\\01 서울시립대학교\\03 5학년 2학기\\03 컴퓨터종합설계\\Saveset\\01.데이터\\2.Validation\\라벨링데이터\\09.공장\\03.공장_기타소음\n"
     ]
    },
    {
     "name": "stderr",
     "output_type": "stream",
     "text": [
      "Progression: 100%|█| 10/10 [00:00<00:00, 47.98i"
     ]
    },
    {
     "name": "stdout",
     "output_type": "stream",
     "text": [
      "Success: 0/9696\n"
     ]
    },
    {
     "name": "stderr",
     "output_type": "stream",
     "text": [
      "\n"
     ]
    },
    {
     "name": "stdout",
     "output_type": "stream",
     "text": [
      "Processing: D:\\01 서울시립대학교\\03 5학년 2학기\\03 컴퓨터종합설계\\Saveset\\01.데이터\\2.Validation\\라벨링데이터\\10.일반자연\n"
     ]
    },
    {
     "name": "stderr",
     "output_type": "stream",
     "text": [
      "Progression: 0it [00:00, ?it/s]\n"
     ]
    },
    {
     "name": "stdout",
     "output_type": "stream",
     "text": [
      "Success: 0/0\n",
      "Processing: D:\\01 서울시립대학교\\03 5학년 2학기\\03 컴퓨터종합설계\\Saveset\\01.데이터\\2.Validation\\라벨링데이터\\10.일반자연\\01.빗소리\n"
     ]
    },
    {
     "name": "stderr",
     "output_type": "stream",
     "text": [
      "Progression: 100%|█| 10/10 [00:00<00:00, 32.53i\n"
     ]
    },
    {
     "name": "stdout",
     "output_type": "stream",
     "text": [
      "Success: 0/10598\n",
      "Processing: D:\\01 서울시립대학교\\03 5학년 2학기\\03 컴퓨터종합설계\\Saveset\\01.데이터\\2.Validation\\라벨링데이터\\10.일반자연\\02.파도\n"
     ]
    },
    {
     "name": "stderr",
     "output_type": "stream",
     "text": [
      "Progression: 100%|█| 10/10 [00:00<00:00, 34.63i\n"
     ]
    },
    {
     "name": "stdout",
     "output_type": "stream",
     "text": [
      "Success: 0/3822\n",
      "Processing: D:\\01 서울시립대학교\\03 5학년 2학기\\03 컴퓨터종합설계\\Saveset\\01.데이터\\2.Validation\\라벨링데이터\\10.일반자연\\03.일반자연_기타소음\n"
     ]
    },
    {
     "name": "stderr",
     "output_type": "stream",
     "text": [
      "Progression: 100%|█| 10/10 [00:00<00:00, 36.57i\n"
     ]
    },
    {
     "name": "stdout",
     "output_type": "stream",
     "text": [
      "Success: 0/2102\n",
      "Processing: D:\\01 서울시립대학교\\03 5학년 2학기\\03 컴퓨터종합설계\\Saveset\\01.데이터\\2.Validation\\라벨링데이터\\11.복합소음\n"
     ]
    },
    {
     "name": "stderr",
     "output_type": "stream",
     "text": [
      "Progression: 0it [00:00, ?it/s]\n"
     ]
    },
    {
     "name": "stdout",
     "output_type": "stream",
     "text": [
      "Success: 0/0\n",
      "Processing: D:\\01 서울시립대학교\\03 5학년 2학기\\03 컴퓨터종합설계\\Saveset\\01.데이터\\2.Validation\\라벨링데이터\\11.복합소음\\01.2가지이상소음원\n"
     ]
    },
    {
     "name": "stderr",
     "output_type": "stream",
     "text": [
      "Progression: 100%|█| 10/10 [00:00<00:00, 53.51i\n"
     ]
    },
    {
     "name": "stdout",
     "output_type": "stream",
     "text": [
      "Success: 0/27040\n",
      "Processing: D:\\01 서울시립대학교\\03 5학년 2학기\\03 컴퓨터종합설계\\Saveset\\01.데이터\\2.Validation\\원천데이터\n"
     ]
    },
    {
     "name": "stderr",
     "output_type": "stream",
     "text": [
      "Progression: 0it [00:00, ?it/s]\n"
     ]
    },
    {
     "name": "stdout",
     "output_type": "stream",
     "text": [
      "Success: 0/0\n",
      "Processing: D:\\01 서울시립대학교\\03 5학년 2학기\\03 컴퓨터종합설계\\Saveset\\01.데이터\\2.Validation\\원천데이터\\01.가전소음\n"
     ]
    },
    {
     "name": "stderr",
     "output_type": "stream",
     "text": [
      "Progression: 0it [00:00, ?it/s]\n"
     ]
    },
    {
     "name": "stdout",
     "output_type": "stream",
     "text": [
      "Success: 0/0\n",
      "Processing: D:\\01 서울시립대학교\\03 5학년 2학기\\03 컴퓨터종합설계\\Saveset\\01.데이터\\2.Validation\\원천데이터\\01.가전소음\\01.세탁기,건조기\n"
     ]
    },
    {
     "name": "stderr",
     "output_type": "stream",
     "text": [
      "Progression: 100%|█████| 10/10 [00:00<?, ?it/s]\n"
     ]
    },
    {
     "name": "stdout",
     "output_type": "stream",
     "text": [
      "Success: 0/10736\n",
      "Processing: D:\\01 서울시립대학교\\03 5학년 2학기\\03 컴퓨터종합설계\\Saveset\\01.데이터\\2.Validation\\원천데이터\\01.가전소음\\02.청소기\n"
     ]
    },
    {
     "name": "stderr",
     "output_type": "stream",
     "text": [
      "Progression: 100%|█████| 10/10 [00:00<?, ?it/s]\n"
     ]
    },
    {
     "name": "stdout",
     "output_type": "stream",
     "text": [
      "Success: 0/4640\n",
      "Processing: D:\\01 서울시립대학교\\03 5학년 2학기\\03 컴퓨터종합설계\\Saveset\\01.데이터\\2.Validation\\원천데이터\\01.가전소음\\03.가전소음_기타소음\n"
     ]
    },
    {
     "name": "stderr",
     "output_type": "stream",
     "text": [
      "Progression: 100%|█████| 10/10 [00:00<?, ?it/s]\n"
     ]
    },
    {
     "name": "stdout",
     "output_type": "stream",
     "text": [
      "Success: 0/32044\n",
      "Processing: D:\\01 서울시립대학교\\03 5학년 2학기\\03 컴퓨터종합설계\\Saveset\\01.데이터\\2.Validation\\원천데이터\\02.교통수단\n"
     ]
    },
    {
     "name": "stderr",
     "output_type": "stream",
     "text": [
      "Progression: 0it [00:00, ?it/s]\n"
     ]
    },
    {
     "name": "stdout",
     "output_type": "stream",
     "text": [
      "Success: 0/0\n",
      "Processing: D:\\01 서울시립대학교\\03 5학년 2학기\\03 컴퓨터종합설계\\Saveset\\01.데이터\\2.Validation\\원천데이터\\02.교통수단\\01.바이크\n"
     ]
    },
    {
     "name": "stderr",
     "output_type": "stream",
     "text": [
      "Progression: 100%|█████| 10/10 [00:00<?, ?it/s]\n"
     ]
    },
    {
     "name": "stdout",
     "output_type": "stream",
     "text": [
      "Success: 0/1950\n",
      "Processing: D:\\01 서울시립대학교\\03 5학년 2학기\\03 컴퓨터종합설계\\Saveset\\01.데이터\\2.Validation\\원천데이터\\02.교통수단\\02.싸이렌\n"
     ]
    },
    {
     "name": "stderr",
     "output_type": "stream",
     "text": [
      "Progression: 100%|█████| 10/10 [00:00<?, ?it/s]\n"
     ]
    },
    {
     "name": "stdout",
     "output_type": "stream",
     "text": [
      "Success: 0/1738\n",
      "Processing: D:\\01 서울시립대학교\\03 5학년 2학기\\03 컴퓨터종합설계\\Saveset\\01.데이터\\2.Validation\\원천데이터\\02.교통수단\\03.경적\n"
     ]
    },
    {
     "name": "stderr",
     "output_type": "stream",
     "text": [
      "Progression: 100%|█████| 10/10 [00:00<?, ?it/s]\n"
     ]
    },
    {
     "name": "stdout",
     "output_type": "stream",
     "text": [
      "Success: 0/2110\n",
      "Processing: D:\\01 서울시립대학교\\03 5학년 2학기\\03 컴퓨터종합설계\\Saveset\\01.데이터\\2.Validation\\원천데이터\\02.교통수단\\04.교통수단_기타소음\n"
     ]
    },
    {
     "name": "stderr",
     "output_type": "stream",
     "text": [
      "Progression: 100%|█████| 10/10 [00:00<?, ?it/s]\n"
     ]
    },
    {
     "name": "stdout",
     "output_type": "stream",
     "text": [
      "Success: 0/3372\n",
      "Processing: D:\\01 서울시립대학교\\03 5학년 2학기\\03 컴퓨터종합설계\\Saveset\\01.데이터\\2.Validation\\원천데이터\\03.길거리\n"
     ]
    },
    {
     "name": "stderr",
     "output_type": "stream",
     "text": [
      "Progression: 0it [00:00, ?it/s]\n"
     ]
    },
    {
     "name": "stdout",
     "output_type": "stream",
     "text": [
      "Success: 0/0\n",
      "Processing: D:\\01 서울시립대학교\\03 5학년 2학기\\03 컴퓨터종합설계\\Saveset\\01.데이터\\2.Validation\\원천데이터\\03.길거리\\01.도로변\n"
     ]
    },
    {
     "name": "stderr",
     "output_type": "stream",
     "text": [
      "Progression: 100%|█████| 10/10 [00:00<?, ?it/s]\n"
     ]
    },
    {
     "name": "stdout",
     "output_type": "stream",
     "text": [
      "Success: 0/9066\n",
      "Processing: D:\\01 서울시립대학교\\03 5학년 2학기\\03 컴퓨터종합설계\\Saveset\\01.데이터\\2.Validation\\원천데이터\\03.길거리\\02.인파\n"
     ]
    },
    {
     "name": "stderr",
     "output_type": "stream",
     "text": [
      "Progression: 100%|█████| 10/10 [00:00<?, ?it/s]\n"
     ]
    },
    {
     "name": "stdout",
     "output_type": "stream",
     "text": [
      "Success: 0/1664\n",
      "Processing: D:\\01 서울시립대학교\\03 5학년 2학기\\03 컴퓨터종합설계\\Saveset\\01.데이터\\2.Validation\\원천데이터\\03.길거리\\03.길거리_기타소음\n"
     ]
    },
    {
     "name": "stderr",
     "output_type": "stream",
     "text": [
      "Progression: 100%|█████| 10/10 [00:00<?, ?it/s]\n"
     ]
    },
    {
     "name": "stdout",
     "output_type": "stream",
     "text": [
      "Success: 0/5110\n",
      "Processing: D:\\01 서울시립대학교\\03 5학년 2학기\\03 컴퓨터종합설계\\Saveset\\01.데이터\\2.Validation\\원천데이터\\04.카페,음식점\n"
     ]
    },
    {
     "name": "stderr",
     "output_type": "stream",
     "text": [
      "Progression: 0it [00:00, ?it/s]\n"
     ]
    },
    {
     "name": "stdout",
     "output_type": "stream",
     "text": [
      "Success: 0/0\n",
      "Processing: D:\\01 서울시립대학교\\03 5학년 2학기\\03 컴퓨터종합설계\\Saveset\\01.데이터\\2.Validation\\원천데이터\\04.카페,음식점\\01.대화소음\n"
     ]
    },
    {
     "name": "stderr",
     "output_type": "stream",
     "text": [
      "Progression: 100%|█████| 10/10 [00:00<?, ?it/s]\n"
     ]
    },
    {
     "name": "stdout",
     "output_type": "stream",
     "text": [
      "Success: 0/16758\n",
      "Processing: D:\\01 서울시립대학교\\03 5학년 2학기\\03 컴퓨터종합설계\\Saveset\\01.데이터\\2.Validation\\원천데이터\\04.카페,음식점\\02.업소소음\n"
     ]
    },
    {
     "name": "stderr",
     "output_type": "stream",
     "text": [
      "Progression: 100%|█████| 10/10 [00:00<?, ?it/s]\n"
     ]
    },
    {
     "name": "stdout",
     "output_type": "stream",
     "text": [
      "Success: 0/23602\n",
      "Processing: D:\\01 서울시립대학교\\03 5학년 2학기\\03 컴퓨터종합설계\\Saveset\\01.데이터\\2.Validation\\원천데이터\\04.카페,음식점\\03.카페,음식점_기타소음\n"
     ]
    },
    {
     "name": "stderr",
     "output_type": "stream",
     "text": [
      "Progression: 100%|█████| 10/10 [00:00<?, ?it/s]\n"
     ]
    },
    {
     "name": "stdout",
     "output_type": "stream",
     "text": [
      "Success: 0/5904\n",
      "Processing: D:\\01 서울시립대학교\\03 5학년 2학기\\03 컴퓨터종합설계\\Saveset\\01.데이터\\2.Validation\\원천데이터\\05.시장,쇼핑몰\n"
     ]
    },
    {
     "name": "stderr",
     "output_type": "stream",
     "text": [
      "Progression: 0it [00:00, ?it/s]\n"
     ]
    },
    {
     "name": "stdout",
     "output_type": "stream",
     "text": [
      "Success: 0/0\n",
      "Processing: D:\\01 서울시립대학교\\03 5학년 2학기\\03 컴퓨터종합설계\\Saveset\\01.데이터\\2.Validation\\원천데이터\\05.시장,쇼핑몰\\01.전통시장\n"
     ]
    },
    {
     "name": "stderr",
     "output_type": "stream",
     "text": [
      "Progression: 100%|█████| 10/10 [00:00<?, ?it/s]"
     ]
    },
    {
     "name": "stdout",
     "output_type": "stream",
     "text": [
      "Success: 0/5120\n"
     ]
    },
    {
     "name": "stderr",
     "output_type": "stream",
     "text": [
      "\n"
     ]
    },
    {
     "name": "stdout",
     "output_type": "stream",
     "text": [
      "Processing: D:\\01 서울시립대학교\\03 5학년 2학기\\03 컴퓨터종합설계\\Saveset\\01.데이터\\2.Validation\\원천데이터\\05.시장,쇼핑몰\\02.복합쇼핑몰\n"
     ]
    },
    {
     "name": "stderr",
     "output_type": "stream",
     "text": [
      "Progression: 100%|█████| 10/10 [00:00<?, ?it/s]\n"
     ]
    },
    {
     "name": "stdout",
     "output_type": "stream",
     "text": [
      "Success: 0/36686\n",
      "Processing: D:\\01 서울시립대학교\\03 5학년 2학기\\03 컴퓨터종합설계\\Saveset\\01.데이터\\2.Validation\\원천데이터\\05.시장,쇼핑몰\\03.시장,쇼핑몰_기타소음\n"
     ]
    },
    {
     "name": "stderr",
     "output_type": "stream",
     "text": [
      "Progression: 100%|█████| 10/10 [00:00<?, ?it/s]\n"
     ]
    },
    {
     "name": "stdout",
     "output_type": "stream",
     "text": [
      "Success: 0/4042\n",
      "Processing: D:\\01 서울시립대학교\\03 5학년 2학기\\03 컴퓨터종합설계\\Saveset\\01.데이터\\2.Validation\\원천데이터\\06.지하철,버스\n"
     ]
    },
    {
     "name": "stderr",
     "output_type": "stream",
     "text": [
      "Progression: 0it [00:00, ?it/s]\n"
     ]
    },
    {
     "name": "stdout",
     "output_type": "stream",
     "text": [
      "Success: 0/0\n",
      "Processing: D:\\01 서울시립대학교\\03 5학년 2학기\\03 컴퓨터종합설계\\Saveset\\01.데이터\\2.Validation\\원천데이터\\06.지하철,버스\\01.지하철플랫폼\n"
     ]
    },
    {
     "name": "stderr",
     "output_type": "stream",
     "text": [
      "Progression: 100%|█████| 10/10 [00:00<?, ?it/s]\n"
     ]
    },
    {
     "name": "stdout",
     "output_type": "stream",
     "text": [
      "Success: 0/4878\n",
      "Processing: D:\\01 서울시립대학교\\03 5학년 2학기\\03 컴퓨터종합설계\\Saveset\\01.데이터\\2.Validation\\원천데이터\\06.지하철,버스\\02.지하철안\n"
     ]
    },
    {
     "name": "stderr",
     "output_type": "stream",
     "text": [
      "Progression: 100%|█████| 10/10 [00:00<?, ?it/s]\n"
     ]
    },
    {
     "name": "stdout",
     "output_type": "stream",
     "text": [
      "Success: 0/6748\n",
      "Processing: D:\\01 서울시립대학교\\03 5학년 2학기\\03 컴퓨터종합설계\\Saveset\\01.데이터\\2.Validation\\원천데이터\\06.지하철,버스\\03.기차안\n"
     ]
    },
    {
     "name": "stderr",
     "output_type": "stream",
     "text": [
      "Progression: 100%|█████| 10/10 [00:00<?, ?it/s]\n"
     ]
    },
    {
     "name": "stdout",
     "output_type": "stream",
     "text": [
      "Success: 0/1880\n",
      "Processing: D:\\01 서울시립대학교\\03 5학년 2학기\\03 컴퓨터종합설계\\Saveset\\01.데이터\\2.Validation\\원천데이터\\06.지하철,버스\\04.버스안\n"
     ]
    },
    {
     "name": "stderr",
     "output_type": "stream",
     "text": [
      "Progression: 100%|█████| 10/10 [00:00<?, ?it/s]\n"
     ]
    },
    {
     "name": "stdout",
     "output_type": "stream",
     "text": [
      "Success: 0/7292\n",
      "Processing: D:\\01 서울시립대학교\\03 5학년 2학기\\03 컴퓨터종합설계\\Saveset\\01.데이터\\2.Validation\\원천데이터\\07.터미널\n"
     ]
    },
    {
     "name": "stderr",
     "output_type": "stream",
     "text": [
      "Progression: 0it [00:00, ?it/s]\n"
     ]
    },
    {
     "name": "stdout",
     "output_type": "stream",
     "text": [
      "Success: 0/0\n",
      "Processing: D:\\01 서울시립대학교\\03 5학년 2학기\\03 컴퓨터종합설계\\Saveset\\01.데이터\\2.Validation\\원천데이터\\07.터미널\\01.기차역대합실\n"
     ]
    },
    {
     "name": "stderr",
     "output_type": "stream",
     "text": [
      "Progression: 100%|█████| 10/10 [00:00<?, ?it/s]\n"
     ]
    },
    {
     "name": "stdout",
     "output_type": "stream",
     "text": [
      "Success: 0/8102\n",
      "Processing: D:\\01 서울시립대학교\\03 5학년 2학기\\03 컴퓨터종합설계\\Saveset\\01.데이터\\2.Validation\\원천데이터\\07.터미널\\02.버스터미널대합실\n"
     ]
    },
    {
     "name": "stderr",
     "output_type": "stream",
     "text": [
      "Progression: 100%|█████| 10/10 [00:00<?, ?it/s]\n"
     ]
    },
    {
     "name": "stdout",
     "output_type": "stream",
     "text": [
      "Success: 0/7764\n",
      "Processing: D:\\01 서울시립대학교\\03 5학년 2학기\\03 컴퓨터종합설계\\Saveset\\01.데이터\\2.Validation\\원천데이터\\07.터미널\\03.터미널_기타소음\n"
     ]
    },
    {
     "name": "stderr",
     "output_type": "stream",
     "text": [
      "Progression: 100%|█████| 10/10 [00:00<?, ?it/s]\n"
     ]
    },
    {
     "name": "stdout",
     "output_type": "stream",
     "text": [
      "Success: 0/7230\n",
      "Processing: D:\\01 서울시립대학교\\03 5학년 2학기\\03 컴퓨터종합설계\\Saveset\\01.데이터\\2.Validation\\원천데이터\\08.공사장\n"
     ]
    },
    {
     "name": "stderr",
     "output_type": "stream",
     "text": [
      "Progression: 0it [00:00, ?it/s]\n"
     ]
    },
    {
     "name": "stdout",
     "output_type": "stream",
     "text": [
      "Success: 0/0\n",
      "Processing: D:\\01 서울시립대학교\\03 5학년 2학기\\03 컴퓨터종합설계\\Saveset\\01.데이터\\2.Validation\\원천데이터\\08.공사장\\01.실외공사장\n"
     ]
    },
    {
     "name": "stderr",
     "output_type": "stream",
     "text": [
      "Progression: 100%|█████| 10/10 [00:00<?, ?it/s]\n"
     ]
    },
    {
     "name": "stdout",
     "output_type": "stream",
     "text": [
      "Success: 0/4600\n",
      "Processing: D:\\01 서울시립대학교\\03 5학년 2학기\\03 컴퓨터종합설계\\Saveset\\01.데이터\\2.Validation\\원천데이터\\08.공사장\\02.실내공사장\n"
     ]
    },
    {
     "name": "stderr",
     "output_type": "stream",
     "text": [
      "Progression: 100%|█| 10/10 [00:00<00:00, 9998.3\n"
     ]
    },
    {
     "name": "stdout",
     "output_type": "stream",
     "text": [
      "Success: 0/1634\n",
      "Processing: D:\\01 서울시립대학교\\03 5학년 2학기\\03 컴퓨터종합설계\\Saveset\\01.데이터\\2.Validation\\원천데이터\\08.공사장\\03.공사장_기타소음\n"
     ]
    },
    {
     "name": "stderr",
     "output_type": "stream",
     "text": [
      "Progression: 100%|█████| 10/10 [00:00<?, ?it/s]\n"
     ]
    },
    {
     "name": "stdout",
     "output_type": "stream",
     "text": [
      "Success: 0/3856\n",
      "Processing: D:\\01 서울시립대학교\\03 5학년 2학기\\03 컴퓨터종합설계\\Saveset\\01.데이터\\2.Validation\\원천데이터\\09.공장\n"
     ]
    },
    {
     "name": "stderr",
     "output_type": "stream",
     "text": [
      "Progression: 0it [00:00, ?it/s]\n"
     ]
    },
    {
     "name": "stdout",
     "output_type": "stream",
     "text": [
      "Success: 0/0\n",
      "Processing: D:\\01 서울시립대학교\\03 5학년 2학기\\03 컴퓨터종합설계\\Saveset\\01.데이터\\2.Validation\\원천데이터\\09.공장\\01.가공공정\n"
     ]
    },
    {
     "name": "stderr",
     "output_type": "stream",
     "text": [
      "Progression: 100%|█████| 10/10 [00:00<?, ?it/s]\n"
     ]
    },
    {
     "name": "stdout",
     "output_type": "stream",
     "text": [
      "Success: 0/2158\n",
      "Processing: D:\\01 서울시립대학교\\03 5학년 2학기\\03 컴퓨터종합설계\\Saveset\\01.데이터\\2.Validation\\원천데이터\\09.공장\\02.조립공정\n"
     ]
    },
    {
     "name": "stderr",
     "output_type": "stream",
     "text": [
      "Progression: 100%|█████| 10/10 [00:00<?, ?it/s]\n"
     ]
    },
    {
     "name": "stdout",
     "output_type": "stream",
     "text": [
      "Success: 0/2778\n",
      "Processing: D:\\01 서울시립대학교\\03 5학년 2학기\\03 컴퓨터종합설계\\Saveset\\01.데이터\\2.Validation\\원천데이터\\09.공장\\03.공장_기타소음\n"
     ]
    },
    {
     "name": "stderr",
     "output_type": "stream",
     "text": [
      "Progression: 100%|█████| 10/10 [00:00<?, ?it/s]\n"
     ]
    },
    {
     "name": "stdout",
     "output_type": "stream",
     "text": [
      "Success: 0/9696\n",
      "Processing: D:\\01 서울시립대학교\\03 5학년 2학기\\03 컴퓨터종합설계\\Saveset\\01.데이터\\2.Validation\\원천데이터\\10.일반자연\n"
     ]
    },
    {
     "name": "stderr",
     "output_type": "stream",
     "text": [
      "Progression: 0it [00:00, ?it/s]\n"
     ]
    },
    {
     "name": "stdout",
     "output_type": "stream",
     "text": [
      "Success: 0/0\n",
      "Processing: D:\\01 서울시립대학교\\03 5학년 2학기\\03 컴퓨터종합설계\\Saveset\\01.데이터\\2.Validation\\원천데이터\\10.일반자연\\01.빗소리\n"
     ]
    },
    {
     "name": "stderr",
     "output_type": "stream",
     "text": [
      "Progression: 100%|█████| 10/10 [00:00<?, ?it/s]\n"
     ]
    },
    {
     "name": "stdout",
     "output_type": "stream",
     "text": [
      "Success: 0/10598\n",
      "Processing: D:\\01 서울시립대학교\\03 5학년 2학기\\03 컴퓨터종합설계\\Saveset\\01.데이터\\2.Validation\\원천데이터\\10.일반자연\\02.파도\n"
     ]
    },
    {
     "name": "stderr",
     "output_type": "stream",
     "text": [
      "Progression: 100%|█████| 10/10 [00:00<?, ?it/s]\n"
     ]
    },
    {
     "name": "stdout",
     "output_type": "stream",
     "text": [
      "Success: 0/3822\n",
      "Processing: D:\\01 서울시립대학교\\03 5학년 2학기\\03 컴퓨터종합설계\\Saveset\\01.데이터\\2.Validation\\원천데이터\\10.일반자연\\03.일반자연_기타소음\n"
     ]
    },
    {
     "name": "stderr",
     "output_type": "stream",
     "text": [
      "Progression: 100%|█████| 10/10 [00:00<?, ?it/s]\n"
     ]
    },
    {
     "name": "stdout",
     "output_type": "stream",
     "text": [
      "Success: 0/2102\n",
      "Processing: D:\\01 서울시립대학교\\03 5학년 2학기\\03 컴퓨터종합설계\\Saveset\\01.데이터\\2.Validation\\원천데이터\\11.복합소음\n"
     ]
    },
    {
     "name": "stderr",
     "output_type": "stream",
     "text": [
      "Progression: 0it [00:00, ?it/s]\n"
     ]
    },
    {
     "name": "stdout",
     "output_type": "stream",
     "text": [
      "Success: 0/0\n",
      "Processing: D:\\01 서울시립대학교\\03 5학년 2학기\\03 컴퓨터종합설계\\Saveset\\01.데이터\\2.Validation\\원천데이터\\11.복합소음\\01.2가지이상소음원\n"
     ]
    },
    {
     "name": "stderr",
     "output_type": "stream",
     "text": [
      "Progression: 100%|█| 10/10 [00:00<00:00, 9998.3"
     ]
    },
    {
     "name": "stdout",
     "output_type": "stream",
     "text": [
      "Success: 0/27040\n",
      "Done!\n"
     ]
    },
    {
     "name": "stderr",
     "output_type": "stream",
     "text": [
      "\n"
     ]
    }
   ],
   "source": [
    "root_directory = \"D:\\\\01 서울시립대학교\\\\03 5학년 2학기\\\\03 컴퓨터종합설계\\\\Saveset\"\n",
    "save_directory = \"D:\\\\01 서울시립대학교\\\\03 5학년 2학기\\\\03 컴퓨터종합설계\\\\Testset\"\n",
    "move(root_directory, 10, save_directory)"
   ]
  },
  {
   "cell_type": "markdown",
   "id": "3af5fdc4-25a2-4642-9cb5-8a1e26b13412",
   "metadata": {},
   "source": [
    "# 4. Deduplication"
   ]
  },
  {
   "cell_type": "code",
   "execution_count": 25,
   "id": "26639a13-af73-41f8-9e3c-ebc7dcc61884",
   "metadata": {},
   "outputs": [],
   "source": [
    "import os\n",
    "import json\n",
    "from tqdm import tqdm\n",
    "\n",
    "def is_json(filename):\n",
    "    return filename[-4:] == 'json'\n",
    "\n",
    "def is_wav(filename):\n",
    "    return filename[-3:] == 'wav'\n",
    "\n",
    "def deduplicate(root_dir, compare_dir):\n",
    "    file_list = []\n",
    "    remove_list = []\n",
    "    for dirpath, dirnames, filenames in os.walk(compare_dir):\n",
    "        print(\"Processing:\", dirpath)\n",
    "        file_list.extend(filenames)\n",
    "        \n",
    "    for dirpath, dirnames, filenames in os.walk(root_dir):\n",
    "        print(\"Processing:\", dirpath)\n",
    "        for filename in filenames:\n",
    "            if is_wav(filename): \n",
    "                if filename in file_list:\n",
    "                    file_path = os.path.join(dirpath, filename)\n",
    "                    os.remove(file_path)\n",
    "                    remove_list.append(filename)\n",
    "                    \n",
    "    print(\"Done!\")\n",
    "    return remove_list"
   ]
  },
  {
   "cell_type": "code",
   "execution_count": 26,
   "id": "adab6959-96b7-4c30-ac7e-605e677f62df",
   "metadata": {},
   "outputs": [
    {
     "name": "stdout",
     "output_type": "stream",
     "text": [
      "Processing: ./Dataset\n",
      "Processing: ./Dataset\\01.데이터\n",
      "Processing: ./Dataset\\01.데이터\\2.Validation\n",
      "Processing: ./Dataset\\01.데이터\\2.Validation\\라벨링데이터\n",
      "Processing: ./Dataset\\01.데이터\\2.Validation\\라벨링데이터\\01.가전소음\n",
      "Processing: ./Dataset\\01.데이터\\2.Validation\\라벨링데이터\\01.가전소음\\01.세탁기,건조기\n",
      "Processing: ./Dataset\\01.데이터\\2.Validation\\라벨링데이터\\01.가전소음\\02.청소기\n",
      "Processing: ./Dataset\\01.데이터\\2.Validation\\라벨링데이터\\01.가전소음\\03.가전소음_기타소음\n",
      "Processing: ./Dataset\\01.데이터\\2.Validation\\라벨링데이터\\02.교통수단\n",
      "Processing: ./Dataset\\01.데이터\\2.Validation\\라벨링데이터\\02.교통수단\\01.바이크\n",
      "Processing: ./Dataset\\01.데이터\\2.Validation\\라벨링데이터\\02.교통수단\\02.싸이렌\n",
      "Processing: ./Dataset\\01.데이터\\2.Validation\\라벨링데이터\\02.교통수단\\03.경적\n",
      "Processing: ./Dataset\\01.데이터\\2.Validation\\라벨링데이터\\02.교통수단\\04.교통수단_기타소음\n",
      "Processing: ./Dataset\\01.데이터\\2.Validation\\라벨링데이터\\03.길거리\n",
      "Processing: ./Dataset\\01.데이터\\2.Validation\\라벨링데이터\\03.길거리\\01.도로변\n",
      "Processing: ./Dataset\\01.데이터\\2.Validation\\라벨링데이터\\03.길거리\\02.인파\n",
      "Processing: ./Dataset\\01.데이터\\2.Validation\\라벨링데이터\\03.길거리\\03.길거리_기타소음\n",
      "Processing: ./Dataset\\01.데이터\\2.Validation\\라벨링데이터\\04.카페,음식점\n",
      "Processing: ./Dataset\\01.데이터\\2.Validation\\라벨링데이터\\04.카페,음식점\\01.대화소음\n",
      "Processing: ./Dataset\\01.데이터\\2.Validation\\라벨링데이터\\04.카페,음식점\\02.업소소음\n",
      "Processing: ./Dataset\\01.데이터\\2.Validation\\라벨링데이터\\04.카페,음식점\\03.카페,음식점_기타소음\n",
      "Processing: ./Dataset\\01.데이터\\2.Validation\\라벨링데이터\\05.시장,쇼핑몰\n",
      "Processing: ./Dataset\\01.데이터\\2.Validation\\라벨링데이터\\05.시장,쇼핑몰\\01.전통시장\n",
      "Processing: ./Dataset\\01.데이터\\2.Validation\\라벨링데이터\\05.시장,쇼핑몰\\02.복합쇼핑몰\n",
      "Processing: ./Dataset\\01.데이터\\2.Validation\\라벨링데이터\\05.시장,쇼핑몰\\03.시장,쇼핑몰_기타소음\n",
      "Processing: ./Dataset\\01.데이터\\2.Validation\\라벨링데이터\\06.지하철,버스\n",
      "Processing: ./Dataset\\01.데이터\\2.Validation\\라벨링데이터\\06.지하철,버스\\01.지하철플랫폼\n",
      "Processing: ./Dataset\\01.데이터\\2.Validation\\라벨링데이터\\06.지하철,버스\\02.지하철안\n",
      "Processing: ./Dataset\\01.데이터\\2.Validation\\라벨링데이터\\06.지하철,버스\\03.기차안\n",
      "Processing: ./Dataset\\01.데이터\\2.Validation\\라벨링데이터\\06.지하철,버스\\04.버스안\n",
      "Processing: ./Dataset\\01.데이터\\2.Validation\\라벨링데이터\\07.터미널\n",
      "Processing: ./Dataset\\01.데이터\\2.Validation\\라벨링데이터\\07.터미널\\01.기차역대합실\n",
      "Processing: ./Dataset\\01.데이터\\2.Validation\\라벨링데이터\\07.터미널\\02.버스터미널대합실\n",
      "Processing: ./Dataset\\01.데이터\\2.Validation\\라벨링데이터\\07.터미널\\03.터미널_기타소음\n",
      "Processing: ./Dataset\\01.데이터\\2.Validation\\라벨링데이터\\08.공사장\n",
      "Processing: ./Dataset\\01.데이터\\2.Validation\\라벨링데이터\\08.공사장\\01.실외공사장\n",
      "Processing: ./Dataset\\01.데이터\\2.Validation\\라벨링데이터\\08.공사장\\02.실내공사장\n",
      "Processing: ./Dataset\\01.데이터\\2.Validation\\라벨링데이터\\08.공사장\\03.공사장_기타소음\n",
      "Processing: ./Dataset\\01.데이터\\2.Validation\\라벨링데이터\\09.공장\n",
      "Processing: ./Dataset\\01.데이터\\2.Validation\\라벨링데이터\\09.공장\\01.가공공정\n",
      "Processing: ./Dataset\\01.데이터\\2.Validation\\라벨링데이터\\09.공장\\02.조립공정\n",
      "Processing: ./Dataset\\01.데이터\\2.Validation\\라벨링데이터\\09.공장\\03.공장_기타소음\n",
      "Processing: ./Dataset\\01.데이터\\2.Validation\\라벨링데이터\\10.일반자연\n",
      "Processing: ./Dataset\\01.데이터\\2.Validation\\라벨링데이터\\10.일반자연\\01.빗소리\n",
      "Processing: ./Dataset\\01.데이터\\2.Validation\\라벨링데이터\\10.일반자연\\02.파도\n",
      "Processing: ./Dataset\\01.데이터\\2.Validation\\라벨링데이터\\10.일반자연\\03.일반자연_기타소음\n",
      "Processing: ./Dataset\\01.데이터\\2.Validation\\라벨링데이터\\11.복합소음\n",
      "Processing: ./Dataset\\01.데이터\\2.Validation\\라벨링데이터\\11.복합소음\\01.2가지이상소음원\n",
      "Processing: ./Dataset\\01.데이터\\2.Validation\\원천데이터\n",
      "Processing: ./Dataset\\01.데이터\\2.Validation\\원천데이터\\01.가전소음\n",
      "Processing: ./Dataset\\01.데이터\\2.Validation\\원천데이터\\01.가전소음\\01.세탁기,건조기\n",
      "Processing: ./Dataset\\01.데이터\\2.Validation\\원천데이터\\01.가전소음\\02.청소기\n",
      "Processing: ./Dataset\\01.데이터\\2.Validation\\원천데이터\\01.가전소음\\03.가전소음_기타소음\n",
      "Processing: ./Dataset\\01.데이터\\2.Validation\\원천데이터\\02.교통수단\n",
      "Processing: ./Dataset\\01.데이터\\2.Validation\\원천데이터\\02.교통수단\\01.바이크\n",
      "Processing: ./Dataset\\01.데이터\\2.Validation\\원천데이터\\02.교통수단\\02.싸이렌\n",
      "Processing: ./Dataset\\01.데이터\\2.Validation\\원천데이터\\02.교통수단\\03.경적\n",
      "Processing: ./Dataset\\01.데이터\\2.Validation\\원천데이터\\02.교통수단\\04.교통수단_기타소음\n",
      "Processing: ./Dataset\\01.데이터\\2.Validation\\원천데이터\\03.길거리\n",
      "Processing: ./Dataset\\01.데이터\\2.Validation\\원천데이터\\03.길거리\\01.도로변\n",
      "Processing: ./Dataset\\01.데이터\\2.Validation\\원천데이터\\03.길거리\\02.인파\n",
      "Processing: ./Dataset\\01.데이터\\2.Validation\\원천데이터\\03.길거리\\03.길거리_기타소음\n",
      "Processing: ./Dataset\\01.데이터\\2.Validation\\원천데이터\\04.카페,음식점\n",
      "Processing: ./Dataset\\01.데이터\\2.Validation\\원천데이터\\04.카페,음식점\\01.대화소음\n",
      "Processing: ./Dataset\\01.데이터\\2.Validation\\원천데이터\\04.카페,음식점\\02.업소소음\n",
      "Processing: ./Dataset\\01.데이터\\2.Validation\\원천데이터\\04.카페,음식점\\03.카페,음식점_기타소음\n",
      "Processing: ./Dataset\\01.데이터\\2.Validation\\원천데이터\\05.시장,쇼핑몰\n",
      "Processing: ./Dataset\\01.데이터\\2.Validation\\원천데이터\\05.시장,쇼핑몰\\01.전통시장\n",
      "Processing: ./Dataset\\01.데이터\\2.Validation\\원천데이터\\05.시장,쇼핑몰\\02.복합쇼핑몰\n",
      "Processing: ./Dataset\\01.데이터\\2.Validation\\원천데이터\\05.시장,쇼핑몰\\03.시장,쇼핑몰_기타소음\n",
      "Processing: ./Dataset\\01.데이터\\2.Validation\\원천데이터\\06.지하철,버스\n",
      "Processing: ./Dataset\\01.데이터\\2.Validation\\원천데이터\\06.지하철,버스\\01.지하철플랫폼\n",
      "Processing: ./Dataset\\01.데이터\\2.Validation\\원천데이터\\06.지하철,버스\\02.지하철안\n",
      "Processing: ./Dataset\\01.데이터\\2.Validation\\원천데이터\\06.지하철,버스\\03.기차안\n",
      "Processing: ./Dataset\\01.데이터\\2.Validation\\원천데이터\\06.지하철,버스\\04.버스안\n",
      "Processing: ./Dataset\\01.데이터\\2.Validation\\원천데이터\\07.터미널\n",
      "Processing: ./Dataset\\01.데이터\\2.Validation\\원천데이터\\07.터미널\\01.기차역대합실\n",
      "Processing: ./Dataset\\01.데이터\\2.Validation\\원천데이터\\07.터미널\\02.버스터미널대합실\n",
      "Processing: ./Dataset\\01.데이터\\2.Validation\\원천데이터\\07.터미널\\03.터미널_기타소음\n",
      "Processing: ./Dataset\\01.데이터\\2.Validation\\원천데이터\\08.공사장\n",
      "Processing: ./Dataset\\01.데이터\\2.Validation\\원천데이터\\08.공사장\\01.실외공사장\n",
      "Processing: ./Dataset\\01.데이터\\2.Validation\\원천데이터\\08.공사장\\02.실내공사장\n",
      "Processing: ./Dataset\\01.데이터\\2.Validation\\원천데이터\\08.공사장\\03.공사장_기타소음\n",
      "Processing: ./Dataset\\01.데이터\\2.Validation\\원천데이터\\09.공장\n",
      "Processing: ./Dataset\\01.데이터\\2.Validation\\원천데이터\\09.공장\\01.가공공정\n",
      "Processing: ./Dataset\\01.데이터\\2.Validation\\원천데이터\\09.공장\\02.조립공정\n",
      "Processing: ./Dataset\\01.데이터\\2.Validation\\원천데이터\\09.공장\\03.공장_기타소음\n",
      "Processing: ./Dataset\\01.데이터\\2.Validation\\원천데이터\\10.일반자연\n",
      "Processing: ./Dataset\\01.데이터\\2.Validation\\원천데이터\\10.일반자연\\01.빗소리\n",
      "Processing: ./Dataset\\01.데이터\\2.Validation\\원천데이터\\10.일반자연\\02.파도\n",
      "Processing: ./Dataset\\01.데이터\\2.Validation\\원천데이터\\10.일반자연\\03.일반자연_기타소음\n",
      "Processing: ./Dataset\\01.데이터\\2.Validation\\원천데이터\\11.복합소음\n",
      "Processing: ./Dataset\\01.데이터\\2.Validation\\원천데이터\\11.복합소음\\01.2가지이상소음원\n",
      "Processing: ./Testset\n",
      "Processing: ./Testset\\01.데이터\n",
      "Processing: ./Testset\\01.데이터\\2.Validation\n",
      "Processing: ./Testset\\01.데이터\\2.Validation\\라벨링데이터\n",
      "Processing: ./Testset\\01.데이터\\2.Validation\\라벨링데이터\\01.가전소음\n",
      "Processing: ./Testset\\01.데이터\\2.Validation\\라벨링데이터\\01.가전소음\\01.세탁기,건조기\n",
      "Processing: ./Testset\\01.데이터\\2.Validation\\라벨링데이터\\01.가전소음\\02.청소기\n",
      "Processing: ./Testset\\01.데이터\\2.Validation\\라벨링데이터\\01.가전소음\\03.가전소음_기타소음\n",
      "Processing: ./Testset\\01.데이터\\2.Validation\\라벨링데이터\\02.교통수단\n",
      "Processing: ./Testset\\01.데이터\\2.Validation\\라벨링데이터\\02.교통수단\\01.바이크\n",
      "Processing: ./Testset\\01.데이터\\2.Validation\\라벨링데이터\\02.교통수단\\02.싸이렌\n",
      "Processing: ./Testset\\01.데이터\\2.Validation\\라벨링데이터\\02.교통수단\\03.경적\n",
      "Processing: ./Testset\\01.데이터\\2.Validation\\라벨링데이터\\02.교통수단\\04.교통수단_기타소음\n",
      "Processing: ./Testset\\01.데이터\\2.Validation\\라벨링데이터\\03.길거리\n",
      "Processing: ./Testset\\01.데이터\\2.Validation\\라벨링데이터\\03.길거리\\01.도로변\n",
      "Processing: ./Testset\\01.데이터\\2.Validation\\라벨링데이터\\03.길거리\\02.인파\n",
      "Processing: ./Testset\\01.데이터\\2.Validation\\라벨링데이터\\03.길거리\\03.길거리_기타소음\n",
      "Processing: ./Testset\\01.데이터\\2.Validation\\라벨링데이터\\04.카페,음식점\n",
      "Processing: ./Testset\\01.데이터\\2.Validation\\라벨링데이터\\04.카페,음식점\\01.대화소음\n",
      "Processing: ./Testset\\01.데이터\\2.Validation\\라벨링데이터\\04.카페,음식점\\02.업소소음\n",
      "Processing: ./Testset\\01.데이터\\2.Validation\\라벨링데이터\\04.카페,음식점\\03.카페,음식점_기타소음\n",
      "Processing: ./Testset\\01.데이터\\2.Validation\\라벨링데이터\\05.시장,쇼핑몰\n",
      "Processing: ./Testset\\01.데이터\\2.Validation\\라벨링데이터\\05.시장,쇼핑몰\\01.전통시장\n",
      "Processing: ./Testset\\01.데이터\\2.Validation\\라벨링데이터\\05.시장,쇼핑몰\\02.복합쇼핑몰\n",
      "Processing: ./Testset\\01.데이터\\2.Validation\\라벨링데이터\\05.시장,쇼핑몰\\03.시장,쇼핑몰_기타소음\n",
      "Processing: ./Testset\\01.데이터\\2.Validation\\라벨링데이터\\06.지하철,버스\n",
      "Processing: ./Testset\\01.데이터\\2.Validation\\라벨링데이터\\06.지하철,버스\\01.지하철플랫폼\n",
      "Processing: ./Testset\\01.데이터\\2.Validation\\라벨링데이터\\06.지하철,버스\\02.지하철안\n",
      "Processing: ./Testset\\01.데이터\\2.Validation\\라벨링데이터\\06.지하철,버스\\03.기차안\n",
      "Processing: ./Testset\\01.데이터\\2.Validation\\라벨링데이터\\06.지하철,버스\\04.버스안\n",
      "Processing: ./Testset\\01.데이터\\2.Validation\\라벨링데이터\\07.터미널\n",
      "Processing: ./Testset\\01.데이터\\2.Validation\\라벨링데이터\\07.터미널\\01.기차역대합실\n",
      "Processing: ./Testset\\01.데이터\\2.Validation\\라벨링데이터\\07.터미널\\02.버스터미널대합실\n",
      "Processing: ./Testset\\01.데이터\\2.Validation\\라벨링데이터\\07.터미널\\03.터미널_기타소음\n",
      "Processing: ./Testset\\01.데이터\\2.Validation\\라벨링데이터\\08.공사장\n",
      "Processing: ./Testset\\01.데이터\\2.Validation\\라벨링데이터\\08.공사장\\01.실외공사장\n",
      "Processing: ./Testset\\01.데이터\\2.Validation\\라벨링데이터\\08.공사장\\02.실내공사장\n",
      "Processing: ./Testset\\01.데이터\\2.Validation\\라벨링데이터\\08.공사장\\03.공사장_기타소음\n",
      "Processing: ./Testset\\01.데이터\\2.Validation\\라벨링데이터\\09.공장\n",
      "Processing: ./Testset\\01.데이터\\2.Validation\\라벨링데이터\\09.공장\\01.가공공정\n",
      "Processing: ./Testset\\01.데이터\\2.Validation\\라벨링데이터\\09.공장\\02.조립공정\n",
      "Processing: ./Testset\\01.데이터\\2.Validation\\라벨링데이터\\09.공장\\03.공장_기타소음\n",
      "Processing: ./Testset\\01.데이터\\2.Validation\\라벨링데이터\\10.일반자연\n",
      "Processing: ./Testset\\01.데이터\\2.Validation\\라벨링데이터\\10.일반자연\\01.빗소리\n",
      "Processing: ./Testset\\01.데이터\\2.Validation\\라벨링데이터\\10.일반자연\\02.파도\n",
      "Processing: ./Testset\\01.데이터\\2.Validation\\라벨링데이터\\10.일반자연\\03.일반자연_기타소음\n",
      "Processing: ./Testset\\01.데이터\\2.Validation\\라벨링데이터\\11.복합소음\n",
      "Processing: ./Testset\\01.데이터\\2.Validation\\라벨링데이터\\11.복합소음\\01.2가지이상소음원\n",
      "Processing: ./Testset\\01.데이터\\2.Validation\\원천데이터\n",
      "Processing: ./Testset\\01.데이터\\2.Validation\\원천데이터\\01.가전소음\n",
      "Processing: ./Testset\\01.데이터\\2.Validation\\원천데이터\\01.가전소음\\01.세탁기,건조기\n",
      "Processing: ./Testset\\01.데이터\\2.Validation\\원천데이터\\01.가전소음\\02.청소기\n",
      "Processing: ./Testset\\01.데이터\\2.Validation\\원천데이터\\01.가전소음\\03.가전소음_기타소음\n",
      "Processing: ./Testset\\01.데이터\\2.Validation\\원천데이터\\02.교통수단\n",
      "Processing: ./Testset\\01.데이터\\2.Validation\\원천데이터\\02.교통수단\\01.바이크\n",
      "Processing: ./Testset\\01.데이터\\2.Validation\\원천데이터\\02.교통수단\\02.싸이렌\n",
      "Processing: ./Testset\\01.데이터\\2.Validation\\원천데이터\\02.교통수단\\03.경적\n",
      "Processing: ./Testset\\01.데이터\\2.Validation\\원천데이터\\02.교통수단\\04.교통수단_기타소음\n",
      "Processing: ./Testset\\01.데이터\\2.Validation\\원천데이터\\03.길거리\n",
      "Processing: ./Testset\\01.데이터\\2.Validation\\원천데이터\\03.길거리\\01.도로변\n",
      "Processing: ./Testset\\01.데이터\\2.Validation\\원천데이터\\03.길거리\\02.인파\n",
      "Processing: ./Testset\\01.데이터\\2.Validation\\원천데이터\\03.길거리\\03.길거리_기타소음\n",
      "Processing: ./Testset\\01.데이터\\2.Validation\\원천데이터\\04.카페,음식점\n",
      "Processing: ./Testset\\01.데이터\\2.Validation\\원천데이터\\04.카페,음식점\\01.대화소음\n",
      "Processing: ./Testset\\01.데이터\\2.Validation\\원천데이터\\04.카페,음식점\\02.업소소음\n",
      "Processing: ./Testset\\01.데이터\\2.Validation\\원천데이터\\04.카페,음식점\\03.카페,음식점_기타소음\n",
      "Processing: ./Testset\\01.데이터\\2.Validation\\원천데이터\\05.시장,쇼핑몰\n",
      "Processing: ./Testset\\01.데이터\\2.Validation\\원천데이터\\05.시장,쇼핑몰\\01.전통시장\n",
      "Processing: ./Testset\\01.데이터\\2.Validation\\원천데이터\\05.시장,쇼핑몰\\02.복합쇼핑몰\n",
      "Processing: ./Testset\\01.데이터\\2.Validation\\원천데이터\\05.시장,쇼핑몰\\03.시장,쇼핑몰_기타소음\n",
      "Processing: ./Testset\\01.데이터\\2.Validation\\원천데이터\\06.지하철,버스\n",
      "Processing: ./Testset\\01.데이터\\2.Validation\\원천데이터\\06.지하철,버스\\01.지하철플랫폼\n",
      "Processing: ./Testset\\01.데이터\\2.Validation\\원천데이터\\06.지하철,버스\\02.지하철안\n",
      "Processing: ./Testset\\01.데이터\\2.Validation\\원천데이터\\06.지하철,버스\\03.기차안\n",
      "Processing: ./Testset\\01.데이터\\2.Validation\\원천데이터\\06.지하철,버스\\04.버스안\n",
      "Processing: ./Testset\\01.데이터\\2.Validation\\원천데이터\\07.터미널\n",
      "Processing: ./Testset\\01.데이터\\2.Validation\\원천데이터\\07.터미널\\01.기차역대합실\n",
      "Processing: ./Testset\\01.데이터\\2.Validation\\원천데이터\\07.터미널\\02.버스터미널대합실\n",
      "Processing: ./Testset\\01.데이터\\2.Validation\\원천데이터\\07.터미널\\03.터미널_기타소음\n",
      "Processing: ./Testset\\01.데이터\\2.Validation\\원천데이터\\08.공사장\n",
      "Processing: ./Testset\\01.데이터\\2.Validation\\원천데이터\\08.공사장\\01.실외공사장\n",
      "Processing: ./Testset\\01.데이터\\2.Validation\\원천데이터\\08.공사장\\02.실내공사장\n",
      "Processing: ./Testset\\01.데이터\\2.Validation\\원천데이터\\08.공사장\\03.공사장_기타소음\n",
      "Processing: ./Testset\\01.데이터\\2.Validation\\원천데이터\\09.공장\n",
      "Processing: ./Testset\\01.데이터\\2.Validation\\원천데이터\\09.공장\\01.가공공정\n",
      "Processing: ./Testset\\01.데이터\\2.Validation\\원천데이터\\09.공장\\02.조립공정\n",
      "Processing: ./Testset\\01.데이터\\2.Validation\\원천데이터\\09.공장\\03.공장_기타소음\n",
      "Processing: ./Testset\\01.데이터\\2.Validation\\원천데이터\\10.일반자연\n",
      "Processing: ./Testset\\01.데이터\\2.Validation\\원천데이터\\10.일반자연\\01.빗소리\n",
      "Processing: ./Testset\\01.데이터\\2.Validation\\원천데이터\\10.일반자연\\02.파도\n",
      "Processing: ./Testset\\01.데이터\\2.Validation\\원천데이터\\10.일반자연\\03.일반자연_기타소음\n",
      "Processing: ./Testset\\01.데이터\\2.Validation\\원천데이터\\11.복합소음\n",
      "Processing: ./Testset\\01.데이터\\2.Validation\\원천데이터\\11.복합소음\\01.2가지이상소음원\n",
      "Done!\n"
     ]
    },
    {
     "data": {
      "text/plain": [
       "['02_06_051879_211114_SD_7.wav',\n",
       " '02_06_053417_211119_SD_15.wav',\n",
       " '02_06_056205_211122_SD_11.wav',\n",
       " '02_06_096863_211112_SN_0.wav',\n",
       " '02_08_055400_211121_SN_15.wav',\n",
       " '02_02_063954_211124_SN_2.wav',\n",
       " '02_02_064005_211124_SD_9.wav',\n",
       " '02_04_063012_211117_SD_13.wav',\n",
       " '02_04_063029_211117_SD_11.wav',\n",
       " '02_04_064274_211125_SD_19.wav',\n",
       " '02_04_064722_211126_SN_21.wav',\n",
       " '02_06_063694_211123_SN_14.wav',\n",
       " '02_06_052665_211116_SD_12.wav',\n",
       " '02_06_054332_211120_SN_3.wav',\n",
       " '02_07_042605_211109_SD_0.wav',\n",
       " '02_08_048785_211120_SD_2.wav',\n",
       " '02_01_044620_211105_SD_6.wav',\n",
       " '02_01_081166_211112_SD_9.wav',\n",
       " '02_07_079854_211108_SN_14.wav',\n",
       " '02_08_080426_211110_SD_9.wav',\n",
       " '03_01_077504_211119_SN_17.wav',\n",
       " '03_01_045589_211110_SD_3.wav',\n",
       " '03_02_045937_211111_SN_18.wav',\n",
       " '03_02_045948_211111_SD_10.wav',\n",
       " '03_04_039318_211025_SD_1.wav',\n",
       " '03_04_042501_211107_SN_22.wav',\n",
       " '03_04_046212_211114_SN_10.wav',\n",
       " '03_04_053728_211119_SN_9.wav',\n",
       " '03_06_078220_211119_SD_3.wav',\n",
       " '04_01_000730_210806_SD_0.wav',\n",
       " '04_07_009941_210912_SD_13.wav',\n",
       " '05_03_057517_211116_SD_2.wav',\n",
       " '05_04_031968_211101_SN_12.wav',\n",
       " '05_04_056869_211114_SN_19.wav',\n",
       " '05_03_034965_211025_SN_21.wav',\n",
       " '06_02_015662_211002_SD_18.wav',\n",
       " '06_05_007505_210912_SN_7.wav',\n",
       " '06_01_011329_210921_SD_0.wav',\n",
       " '06_01_022102_211010_SN_0.wav',\n",
       " '06_01_029296_211015_SN_3.wav',\n",
       " '06_01_033057_211021_SN_0.wav',\n",
       " '06_06_032640_211018_SD_1.wav',\n",
       " '06_06_032841_211019_SD_18.wav',\n",
       " '06_07_009491_210922_SD_26.wav',\n",
       " '06_02_021343_211018_SD_1.wav',\n",
       " '06_05_014436_210922_SD_6.wav',\n",
       " '07_04_042341_211105_SN_14.wav',\n",
       " '07_04_046039_211106_SN_14.wav',\n",
       " '07_07_053698_211107_SD_11.wav',\n",
       " '07_07_091465_211001_SN_3.wav',\n",
       " '08_01_036442_211103_SD_18.wav',\n",
       " '08_03_032540_211015_SN_1.wav',\n",
       " '08_01_012180_211006_SN_4.wav',\n",
       " '08_03_026486_211022_SN_2.wav',\n",
       " '08_04_035082_211025_SD_5.wav',\n",
       " '08_06_034198_211023_SD_18.wav',\n",
       " '08_06_034198_211023_SD_7.wav',\n",
       " '08_08_020918_211016_SN_9.wav',\n",
       " '08_06_061930_211125_SD_8.wav',\n",
       " '08_07_032007_211015_SD_17.wav',\n",
       " '08_08_034900_211024_SN_22.wav',\n",
       " '09_01_013025_210909_SN_14.wav',\n",
       " '09_01_032127_211017_SD_20.wav',\n",
       " '09_01_032041_211015_SD_7.wav',\n",
       " '09_07_016723_211002_SN_4.wav',\n",
       " '09_07_019016_211003_SN_6.wav',\n",
       " '09_01_027069_211024_SD_13.wav',\n",
       " '10_03_046497_211010_SD_15.wav',\n",
       " '10_08_078529_211119_SD_18.wav',\n",
       " '10_02_043629_211104_SN_4.wav',\n",
       " '10_04_045307_211105_SD_13.wav',\n",
       " '10_04_047674_211107_SN_4.wav',\n",
       " '10_06_046712_211106_SD_22.wav',\n",
       " '10_06_046719_211106_SN_10.wav',\n",
       " '10_07_046754_211106_SN_35.wav',\n",
       " '11_06_072800_211126_SD_13.wav']"
      ]
     },
     "execution_count": 26,
     "metadata": {},
     "output_type": "execute_result"
    }
   ],
   "source": [
    "remove_list = deduplicate('./Testset', './Dataset')\n",
    "remove_list"
   ]
  },
  {
   "cell_type": "code",
   "execution_count": 27,
   "id": "78e88ec5-2f9e-4537-ba02-75adee24db50",
   "metadata": {},
   "outputs": [
    {
     "data": {
      "text/plain": [
       "76"
      ]
     },
     "execution_count": 27,
     "metadata": {},
     "output_type": "execute_result"
    }
   ],
   "source": [
    "len(remove_list)"
   ]
  },
  {
   "cell_type": "code",
   "execution_count": 28,
   "id": "9fd19012-15be-4066-b2f2-e3ca9c47086e",
   "metadata": {},
   "outputs": [
    {
     "data": {
      "text/plain": [
       "['02_06_051879_211114_SD_7.wav',\n",
       " '02_06_053417_211119_SD_15.wav',\n",
       " '02_06_056205_211122_SD_11.wav',\n",
       " '02_06_096863_211112_SN_0.wav',\n",
       " '02_08_055400_211121_SN_15.wav',\n",
       " '02_02_063954_211124_SN_2.wav',\n",
       " '02_02_064005_211124_SD_9.wav',\n",
       " '02_04_063012_211117_SD_13.wav',\n",
       " '02_04_063029_211117_SD_11.wav',\n",
       " '02_04_064274_211125_SD_19.wav',\n",
       " '02_04_064722_211126_SN_21.wav',\n",
       " '02_06_063694_211123_SN_14.wav',\n",
       " '02_06_052665_211116_SD_12.wav',\n",
       " '02_06_054332_211120_SN_3.wav',\n",
       " '02_07_042605_211109_SD_0.wav',\n",
       " '02_08_048785_211120_SD_2.wav',\n",
       " '02_01_044620_211105_SD_6.wav',\n",
       " '02_01_081166_211112_SD_9.wav',\n",
       " '02_07_079854_211108_SN_14.wav',\n",
       " '02_08_080426_211110_SD_9.wav',\n",
       " '03_01_077504_211119_SN_17.wav',\n",
       " '03_01_045589_211110_SD_3.wav',\n",
       " '03_02_045937_211111_SN_18.wav',\n",
       " '03_02_045948_211111_SD_10.wav',\n",
       " '03_04_039318_211025_SD_1.wav',\n",
       " '03_04_042501_211107_SN_22.wav',\n",
       " '03_04_046212_211114_SN_10.wav',\n",
       " '03_04_053728_211119_SN_9.wav',\n",
       " '03_06_078220_211119_SD_3.wav',\n",
       " '04_01_000730_210806_SD_0.wav',\n",
       " '04_07_009941_210912_SD_13.wav',\n",
       " '05_03_057517_211116_SD_2.wav',\n",
       " '05_04_031968_211101_SN_12.wav',\n",
       " '05_04_056869_211114_SN_19.wav',\n",
       " '05_03_034965_211025_SN_21.wav',\n",
       " '06_02_015662_211002_SD_18.wav',\n",
       " '06_05_007505_210912_SN_7.wav',\n",
       " '06_01_011329_210921_SD_0.wav',\n",
       " '06_01_022102_211010_SN_0.wav',\n",
       " '06_01_029296_211015_SN_3.wav',\n",
       " '06_01_033057_211021_SN_0.wav',\n",
       " '06_06_032640_211018_SD_1.wav',\n",
       " '06_06_032841_211019_SD_18.wav',\n",
       " '06_07_009491_210922_SD_26.wav',\n",
       " '06_02_021343_211018_SD_1.wav',\n",
       " '06_05_014436_210922_SD_6.wav',\n",
       " '07_04_042341_211105_SN_14.wav',\n",
       " '07_04_046039_211106_SN_14.wav',\n",
       " '07_07_053698_211107_SD_11.wav',\n",
       " '07_07_091465_211001_SN_3.wav',\n",
       " '08_01_036442_211103_SD_18.wav',\n",
       " '08_03_032540_211015_SN_1.wav',\n",
       " '08_01_012180_211006_SN_4.wav',\n",
       " '08_03_026486_211022_SN_2.wav',\n",
       " '08_04_035082_211025_SD_5.wav',\n",
       " '08_06_034198_211023_SD_18.wav',\n",
       " '08_06_034198_211023_SD_7.wav',\n",
       " '08_08_020918_211016_SN_9.wav',\n",
       " '08_06_061930_211125_SD_8.wav',\n",
       " '08_07_032007_211015_SD_17.wav',\n",
       " '08_08_034900_211024_SN_22.wav',\n",
       " '09_01_013025_210909_SN_14.wav',\n",
       " '09_01_032127_211017_SD_20.wav',\n",
       " '09_01_032041_211015_SD_7.wav',\n",
       " '09_07_016723_211002_SN_4.wav',\n",
       " '09_07_019016_211003_SN_6.wav',\n",
       " '09_01_027069_211024_SD_13.wav',\n",
       " '10_03_046497_211010_SD_15.wav',\n",
       " '10_08_078529_211119_SD_18.wav',\n",
       " '10_02_043629_211104_SN_4.wav',\n",
       " '10_04_045307_211105_SD_13.wav',\n",
       " '10_04_047674_211107_SN_4.wav',\n",
       " '10_06_046712_211106_SD_22.wav',\n",
       " '10_06_046719_211106_SN_10.wav',\n",
       " '10_07_046754_211106_SN_35.wav',\n",
       " '11_06_072800_211126_SD_13.wav']"
      ]
     },
     "execution_count": 28,
     "metadata": {},
     "output_type": "execute_result"
    }
   ],
   "source": [
    "remove_list"
   ]
  },
  {
   "cell_type": "code",
   "execution_count": 29,
   "id": "c11012f2-1e05-43bf-98fd-7224992f9222",
   "metadata": {},
   "outputs": [
    {
     "name": "stdout",
     "output_type": "stream",
     "text": [
      "Processing: ./Dataset\n",
      "Processing: ./Dataset\\01.데이터\n",
      "Processing: ./Dataset\\01.데이터\\2.Validation\n",
      "Processing: ./Dataset\\01.데이터\\2.Validation\\라벨링데이터\n",
      "Processing: ./Dataset\\01.데이터\\2.Validation\\라벨링데이터\\01.가전소음\n",
      "Processing: ./Dataset\\01.데이터\\2.Validation\\라벨링데이터\\01.가전소음\\01.세탁기,건조기\n",
      "Processing: ./Dataset\\01.데이터\\2.Validation\\라벨링데이터\\01.가전소음\\02.청소기\n",
      "Processing: ./Dataset\\01.데이터\\2.Validation\\라벨링데이터\\01.가전소음\\03.가전소음_기타소음\n",
      "Processing: ./Dataset\\01.데이터\\2.Validation\\라벨링데이터\\02.교통수단\n",
      "Processing: ./Dataset\\01.데이터\\2.Validation\\라벨링데이터\\02.교통수단\\01.바이크\n",
      "Processing: ./Dataset\\01.데이터\\2.Validation\\라벨링데이터\\02.교통수단\\02.싸이렌\n",
      "Processing: ./Dataset\\01.데이터\\2.Validation\\라벨링데이터\\02.교통수단\\03.경적\n",
      "Processing: ./Dataset\\01.데이터\\2.Validation\\라벨링데이터\\02.교통수단\\04.교통수단_기타소음\n",
      "Processing: ./Dataset\\01.데이터\\2.Validation\\라벨링데이터\\03.길거리\n",
      "Processing: ./Dataset\\01.데이터\\2.Validation\\라벨링데이터\\03.길거리\\01.도로변\n",
      "Processing: ./Dataset\\01.데이터\\2.Validation\\라벨링데이터\\03.길거리\\02.인파\n",
      "Processing: ./Dataset\\01.데이터\\2.Validation\\라벨링데이터\\03.길거리\\03.길거리_기타소음\n",
      "Processing: ./Dataset\\01.데이터\\2.Validation\\라벨링데이터\\04.카페,음식점\n",
      "Processing: ./Dataset\\01.데이터\\2.Validation\\라벨링데이터\\04.카페,음식점\\01.대화소음\n",
      "Processing: ./Dataset\\01.데이터\\2.Validation\\라벨링데이터\\04.카페,음식점\\02.업소소음\n",
      "Processing: ./Dataset\\01.데이터\\2.Validation\\라벨링데이터\\04.카페,음식점\\03.카페,음식점_기타소음\n",
      "Processing: ./Dataset\\01.데이터\\2.Validation\\라벨링데이터\\05.시장,쇼핑몰\n",
      "Processing: ./Dataset\\01.데이터\\2.Validation\\라벨링데이터\\05.시장,쇼핑몰\\01.전통시장\n",
      "Processing: ./Dataset\\01.데이터\\2.Validation\\라벨링데이터\\05.시장,쇼핑몰\\02.복합쇼핑몰\n",
      "Processing: ./Dataset\\01.데이터\\2.Validation\\라벨링데이터\\05.시장,쇼핑몰\\03.시장,쇼핑몰_기타소음\n",
      "Processing: ./Dataset\\01.데이터\\2.Validation\\라벨링데이터\\06.지하철,버스\n",
      "Processing: ./Dataset\\01.데이터\\2.Validation\\라벨링데이터\\06.지하철,버스\\01.지하철플랫폼\n",
      "Processing: ./Dataset\\01.데이터\\2.Validation\\라벨링데이터\\06.지하철,버스\\02.지하철안\n",
      "Processing: ./Dataset\\01.데이터\\2.Validation\\라벨링데이터\\06.지하철,버스\\03.기차안\n",
      "Processing: ./Dataset\\01.데이터\\2.Validation\\라벨링데이터\\06.지하철,버스\\04.버스안\n",
      "Processing: ./Dataset\\01.데이터\\2.Validation\\라벨링데이터\\07.터미널\n",
      "Processing: ./Dataset\\01.데이터\\2.Validation\\라벨링데이터\\07.터미널\\01.기차역대합실\n",
      "Processing: ./Dataset\\01.데이터\\2.Validation\\라벨링데이터\\07.터미널\\02.버스터미널대합실\n",
      "Processing: ./Dataset\\01.데이터\\2.Validation\\라벨링데이터\\07.터미널\\03.터미널_기타소음\n",
      "Processing: ./Dataset\\01.데이터\\2.Validation\\라벨링데이터\\08.공사장\n",
      "Processing: ./Dataset\\01.데이터\\2.Validation\\라벨링데이터\\08.공사장\\01.실외공사장\n",
      "Processing: ./Dataset\\01.데이터\\2.Validation\\라벨링데이터\\08.공사장\\02.실내공사장\n",
      "Processing: ./Dataset\\01.데이터\\2.Validation\\라벨링데이터\\08.공사장\\03.공사장_기타소음\n",
      "Processing: ./Dataset\\01.데이터\\2.Validation\\라벨링데이터\\09.공장\n",
      "Processing: ./Dataset\\01.데이터\\2.Validation\\라벨링데이터\\09.공장\\01.가공공정\n",
      "Processing: ./Dataset\\01.데이터\\2.Validation\\라벨링데이터\\09.공장\\02.조립공정\n",
      "Processing: ./Dataset\\01.데이터\\2.Validation\\라벨링데이터\\09.공장\\03.공장_기타소음\n",
      "Processing: ./Dataset\\01.데이터\\2.Validation\\라벨링데이터\\10.일반자연\n",
      "Processing: ./Dataset\\01.데이터\\2.Validation\\라벨링데이터\\10.일반자연\\01.빗소리\n",
      "Processing: ./Dataset\\01.데이터\\2.Validation\\라벨링데이터\\10.일반자연\\02.파도\n",
      "Processing: ./Dataset\\01.데이터\\2.Validation\\라벨링데이터\\10.일반자연\\03.일반자연_기타소음\n",
      "Processing: ./Dataset\\01.데이터\\2.Validation\\라벨링데이터\\11.복합소음\n",
      "Processing: ./Dataset\\01.데이터\\2.Validation\\라벨링데이터\\11.복합소음\\01.2가지이상소음원\n",
      "Processing: ./Dataset\\01.데이터\\2.Validation\\원천데이터\n",
      "Processing: ./Dataset\\01.데이터\\2.Validation\\원천데이터\\01.가전소음\n",
      "Processing: ./Dataset\\01.데이터\\2.Validation\\원천데이터\\01.가전소음\\01.세탁기,건조기\n",
      "Processing: ./Dataset\\01.데이터\\2.Validation\\원천데이터\\01.가전소음\\02.청소기\n",
      "Processing: ./Dataset\\01.데이터\\2.Validation\\원천데이터\\01.가전소음\\03.가전소음_기타소음\n",
      "Processing: ./Dataset\\01.데이터\\2.Validation\\원천데이터\\02.교통수단\n",
      "Processing: ./Dataset\\01.데이터\\2.Validation\\원천데이터\\02.교통수단\\01.바이크\n",
      "Processing: ./Dataset\\01.데이터\\2.Validation\\원천데이터\\02.교통수단\\02.싸이렌\n",
      "Processing: ./Dataset\\01.데이터\\2.Validation\\원천데이터\\02.교통수단\\03.경적\n",
      "Processing: ./Dataset\\01.데이터\\2.Validation\\원천데이터\\02.교통수단\\04.교통수단_기타소음\n",
      "Processing: ./Dataset\\01.데이터\\2.Validation\\원천데이터\\03.길거리\n",
      "Processing: ./Dataset\\01.데이터\\2.Validation\\원천데이터\\03.길거리\\01.도로변\n",
      "Processing: ./Dataset\\01.데이터\\2.Validation\\원천데이터\\03.길거리\\02.인파\n",
      "Processing: ./Dataset\\01.데이터\\2.Validation\\원천데이터\\03.길거리\\03.길거리_기타소음\n",
      "Processing: ./Dataset\\01.데이터\\2.Validation\\원천데이터\\04.카페,음식점\n",
      "Processing: ./Dataset\\01.데이터\\2.Validation\\원천데이터\\04.카페,음식점\\01.대화소음\n",
      "Processing: ./Dataset\\01.데이터\\2.Validation\\원천데이터\\04.카페,음식점\\02.업소소음\n",
      "Processing: ./Dataset\\01.데이터\\2.Validation\\원천데이터\\04.카페,음식점\\03.카페,음식점_기타소음\n",
      "Processing: ./Dataset\\01.데이터\\2.Validation\\원천데이터\\05.시장,쇼핑몰\n",
      "Processing: ./Dataset\\01.데이터\\2.Validation\\원천데이터\\05.시장,쇼핑몰\\01.전통시장\n",
      "Processing: ./Dataset\\01.데이터\\2.Validation\\원천데이터\\05.시장,쇼핑몰\\02.복합쇼핑몰\n",
      "Processing: ./Dataset\\01.데이터\\2.Validation\\원천데이터\\05.시장,쇼핑몰\\03.시장,쇼핑몰_기타소음\n",
      "Processing: ./Dataset\\01.데이터\\2.Validation\\원천데이터\\06.지하철,버스\n",
      "Processing: ./Dataset\\01.데이터\\2.Validation\\원천데이터\\06.지하철,버스\\01.지하철플랫폼\n",
      "Processing: ./Dataset\\01.데이터\\2.Validation\\원천데이터\\06.지하철,버스\\02.지하철안\n",
      "Processing: ./Dataset\\01.데이터\\2.Validation\\원천데이터\\06.지하철,버스\\03.기차안\n",
      "Processing: ./Dataset\\01.데이터\\2.Validation\\원천데이터\\06.지하철,버스\\04.버스안\n",
      "Processing: ./Dataset\\01.데이터\\2.Validation\\원천데이터\\07.터미널\n",
      "Processing: ./Dataset\\01.데이터\\2.Validation\\원천데이터\\07.터미널\\01.기차역대합실\n",
      "Processing: ./Dataset\\01.데이터\\2.Validation\\원천데이터\\07.터미널\\02.버스터미널대합실\n",
      "Processing: ./Dataset\\01.데이터\\2.Validation\\원천데이터\\07.터미널\\03.터미널_기타소음\n",
      "Processing: ./Dataset\\01.데이터\\2.Validation\\원천데이터\\08.공사장\n",
      "Processing: ./Dataset\\01.데이터\\2.Validation\\원천데이터\\08.공사장\\01.실외공사장\n",
      "Processing: ./Dataset\\01.데이터\\2.Validation\\원천데이터\\08.공사장\\02.실내공사장\n",
      "Processing: ./Dataset\\01.데이터\\2.Validation\\원천데이터\\08.공사장\\03.공사장_기타소음\n",
      "Processing: ./Dataset\\01.데이터\\2.Validation\\원천데이터\\09.공장\n",
      "Processing: ./Dataset\\01.데이터\\2.Validation\\원천데이터\\09.공장\\01.가공공정\n",
      "Processing: ./Dataset\\01.데이터\\2.Validation\\원천데이터\\09.공장\\02.조립공정\n",
      "Processing: ./Dataset\\01.데이터\\2.Validation\\원천데이터\\09.공장\\03.공장_기타소음\n",
      "Processing: ./Dataset\\01.데이터\\2.Validation\\원천데이터\\10.일반자연\n",
      "Processing: ./Dataset\\01.데이터\\2.Validation\\원천데이터\\10.일반자연\\01.빗소리\n",
      "Processing: ./Dataset\\01.데이터\\2.Validation\\원천데이터\\10.일반자연\\02.파도\n",
      "Processing: ./Dataset\\01.데이터\\2.Validation\\원천데이터\\10.일반자연\\03.일반자연_기타소음\n",
      "Processing: ./Dataset\\01.데이터\\2.Validation\\원천데이터\\11.복합소음\n",
      "Processing: ./Dataset\\01.데이터\\2.Validation\\원천데이터\\11.복합소음\\01.2가지이상소음원\n",
      "Processing: ./Testset_Denoising\n",
      "Processing: ./Testset_Denoising\\01.데이터\n",
      "Processing: ./Testset_Denoising\\01.데이터\\2.Validation\n",
      "Processing: ./Testset_Denoising\\01.데이터\\2.Validation\\라벨링데이터\n",
      "Processing: ./Testset_Denoising\\01.데이터\\2.Validation\\라벨링데이터\\01.가전소음\n",
      "Processing: ./Testset_Denoising\\01.데이터\\2.Validation\\라벨링데이터\\01.가전소음\\01.세탁기,건조기\n",
      "Processing: ./Testset_Denoising\\01.데이터\\2.Validation\\라벨링데이터\\01.가전소음\\02.청소기\n",
      "Processing: ./Testset_Denoising\\01.데이터\\2.Validation\\라벨링데이터\\01.가전소음\\03.가전소음_기타소음\n",
      "Processing: ./Testset_Denoising\\01.데이터\\2.Validation\\라벨링데이터\\02.교통수단\n",
      "Processing: ./Testset_Denoising\\01.데이터\\2.Validation\\라벨링데이터\\02.교통수단\\01.바이크\n",
      "Processing: ./Testset_Denoising\\01.데이터\\2.Validation\\라벨링데이터\\02.교통수단\\02.싸이렌\n",
      "Processing: ./Testset_Denoising\\01.데이터\\2.Validation\\라벨링데이터\\02.교통수단\\03.경적\n",
      "Processing: ./Testset_Denoising\\01.데이터\\2.Validation\\라벨링데이터\\02.교통수단\\04.교통수단_기타소음\n",
      "Processing: ./Testset_Denoising\\01.데이터\\2.Validation\\라벨링데이터\\03.길거리\n",
      "Processing: ./Testset_Denoising\\01.데이터\\2.Validation\\라벨링데이터\\03.길거리\\01.도로변\n",
      "Processing: ./Testset_Denoising\\01.데이터\\2.Validation\\라벨링데이터\\03.길거리\\02.인파\n",
      "Processing: ./Testset_Denoising\\01.데이터\\2.Validation\\라벨링데이터\\03.길거리\\03.길거리_기타소음\n",
      "Processing: ./Testset_Denoising\\01.데이터\\2.Validation\\라벨링데이터\\04.카페,음식점\n",
      "Processing: ./Testset_Denoising\\01.데이터\\2.Validation\\라벨링데이터\\04.카페,음식점\\01.대화소음\n",
      "Processing: ./Testset_Denoising\\01.데이터\\2.Validation\\라벨링데이터\\04.카페,음식점\\02.업소소음\n",
      "Processing: ./Testset_Denoising\\01.데이터\\2.Validation\\라벨링데이터\\04.카페,음식점\\03.카페,음식점_기타소음\n",
      "Processing: ./Testset_Denoising\\01.데이터\\2.Validation\\라벨링데이터\\05.시장,쇼핑몰\n",
      "Processing: ./Testset_Denoising\\01.데이터\\2.Validation\\라벨링데이터\\05.시장,쇼핑몰\\01.전통시장\n",
      "Processing: ./Testset_Denoising\\01.데이터\\2.Validation\\라벨링데이터\\05.시장,쇼핑몰\\02.복합쇼핑몰\n",
      "Processing: ./Testset_Denoising\\01.데이터\\2.Validation\\라벨링데이터\\05.시장,쇼핑몰\\03.시장,쇼핑몰_기타소음\n",
      "Processing: ./Testset_Denoising\\01.데이터\\2.Validation\\라벨링데이터\\06.지하철,버스\n",
      "Processing: ./Testset_Denoising\\01.데이터\\2.Validation\\라벨링데이터\\06.지하철,버스\\01.지하철플랫폼\n",
      "Processing: ./Testset_Denoising\\01.데이터\\2.Validation\\라벨링데이터\\06.지하철,버스\\02.지하철안\n",
      "Processing: ./Testset_Denoising\\01.데이터\\2.Validation\\라벨링데이터\\06.지하철,버스\\03.기차안\n",
      "Processing: ./Testset_Denoising\\01.데이터\\2.Validation\\라벨링데이터\\06.지하철,버스\\04.버스안\n",
      "Processing: ./Testset_Denoising\\01.데이터\\2.Validation\\라벨링데이터\\07.터미널\n",
      "Processing: ./Testset_Denoising\\01.데이터\\2.Validation\\라벨링데이터\\07.터미널\\01.기차역대합실\n",
      "Processing: ./Testset_Denoising\\01.데이터\\2.Validation\\라벨링데이터\\07.터미널\\02.버스터미널대합실\n",
      "Processing: ./Testset_Denoising\\01.데이터\\2.Validation\\라벨링데이터\\07.터미널\\03.터미널_기타소음\n",
      "Processing: ./Testset_Denoising\\01.데이터\\2.Validation\\라벨링데이터\\08.공사장\n",
      "Processing: ./Testset_Denoising\\01.데이터\\2.Validation\\라벨링데이터\\08.공사장\\01.실외공사장\n",
      "Processing: ./Testset_Denoising\\01.데이터\\2.Validation\\라벨링데이터\\08.공사장\\02.실내공사장\n",
      "Processing: ./Testset_Denoising\\01.데이터\\2.Validation\\라벨링데이터\\08.공사장\\03.공사장_기타소음\n",
      "Processing: ./Testset_Denoising\\01.데이터\\2.Validation\\라벨링데이터\\09.공장\n",
      "Processing: ./Testset_Denoising\\01.데이터\\2.Validation\\라벨링데이터\\09.공장\\01.가공공정\n",
      "Processing: ./Testset_Denoising\\01.데이터\\2.Validation\\라벨링데이터\\09.공장\\02.조립공정\n",
      "Processing: ./Testset_Denoising\\01.데이터\\2.Validation\\라벨링데이터\\09.공장\\03.공장_기타소음\n",
      "Processing: ./Testset_Denoising\\01.데이터\\2.Validation\\라벨링데이터\\10.일반자연\n",
      "Processing: ./Testset_Denoising\\01.데이터\\2.Validation\\라벨링데이터\\10.일반자연\\01.빗소리\n",
      "Processing: ./Testset_Denoising\\01.데이터\\2.Validation\\라벨링데이터\\10.일반자연\\02.파도\n",
      "Processing: ./Testset_Denoising\\01.데이터\\2.Validation\\라벨링데이터\\10.일반자연\\03.일반자연_기타소음\n",
      "Processing: ./Testset_Denoising\\01.데이터\\2.Validation\\라벨링데이터\\11.복합소음\n",
      "Processing: ./Testset_Denoising\\01.데이터\\2.Validation\\라벨링데이터\\11.복합소음\\01.2가지이상소음원\n",
      "Processing: ./Testset_Denoising\\01.데이터\\2.Validation\\원천데이터\n",
      "Processing: ./Testset_Denoising\\01.데이터\\2.Validation\\원천데이터\\01.가전소음\n",
      "Processing: ./Testset_Denoising\\01.데이터\\2.Validation\\원천데이터\\01.가전소음\\01.세탁기,건조기\n",
      "Processing: ./Testset_Denoising\\01.데이터\\2.Validation\\원천데이터\\01.가전소음\\02.청소기\n",
      "Processing: ./Testset_Denoising\\01.데이터\\2.Validation\\원천데이터\\01.가전소음\\03.가전소음_기타소음\n",
      "Processing: ./Testset_Denoising\\01.데이터\\2.Validation\\원천데이터\\02.교통수단\n",
      "Processing: ./Testset_Denoising\\01.데이터\\2.Validation\\원천데이터\\02.교통수단\\01.바이크\n",
      "Processing: ./Testset_Denoising\\01.데이터\\2.Validation\\원천데이터\\02.교통수단\\02.싸이렌\n",
      "Processing: ./Testset_Denoising\\01.데이터\\2.Validation\\원천데이터\\02.교통수단\\03.경적\n",
      "Processing: ./Testset_Denoising\\01.데이터\\2.Validation\\원천데이터\\02.교통수단\\04.교통수단_기타소음\n",
      "Processing: ./Testset_Denoising\\01.데이터\\2.Validation\\원천데이터\\03.길거리\n",
      "Processing: ./Testset_Denoising\\01.데이터\\2.Validation\\원천데이터\\03.길거리\\01.도로변\n",
      "Processing: ./Testset_Denoising\\01.데이터\\2.Validation\\원천데이터\\03.길거리\\02.인파\n",
      "Processing: ./Testset_Denoising\\01.데이터\\2.Validation\\원천데이터\\03.길거리\\03.길거리_기타소음\n",
      "Processing: ./Testset_Denoising\\01.데이터\\2.Validation\\원천데이터\\04.카페,음식점\n",
      "Processing: ./Testset_Denoising\\01.데이터\\2.Validation\\원천데이터\\04.카페,음식점\\01.대화소음\n",
      "Processing: ./Testset_Denoising\\01.데이터\\2.Validation\\원천데이터\\04.카페,음식점\\02.업소소음\n",
      "Processing: ./Testset_Denoising\\01.데이터\\2.Validation\\원천데이터\\04.카페,음식점\\03.카페,음식점_기타소음\n",
      "Processing: ./Testset_Denoising\\01.데이터\\2.Validation\\원천데이터\\05.시장,쇼핑몰\n",
      "Processing: ./Testset_Denoising\\01.데이터\\2.Validation\\원천데이터\\05.시장,쇼핑몰\\01.전통시장\n",
      "Processing: ./Testset_Denoising\\01.데이터\\2.Validation\\원천데이터\\05.시장,쇼핑몰\\02.복합쇼핑몰\n",
      "Processing: ./Testset_Denoising\\01.데이터\\2.Validation\\원천데이터\\05.시장,쇼핑몰\\03.시장,쇼핑몰_기타소음\n",
      "Processing: ./Testset_Denoising\\01.데이터\\2.Validation\\원천데이터\\06.지하철,버스\n",
      "Processing: ./Testset_Denoising\\01.데이터\\2.Validation\\원천데이터\\06.지하철,버스\\01.지하철플랫폼\n",
      "Processing: ./Testset_Denoising\\01.데이터\\2.Validation\\원천데이터\\06.지하철,버스\\02.지하철안\n",
      "Processing: ./Testset_Denoising\\01.데이터\\2.Validation\\원천데이터\\06.지하철,버스\\03.기차안\n",
      "Processing: ./Testset_Denoising\\01.데이터\\2.Validation\\원천데이터\\06.지하철,버스\\04.버스안\n",
      "Processing: ./Testset_Denoising\\01.데이터\\2.Validation\\원천데이터\\07.터미널\n",
      "Processing: ./Testset_Denoising\\01.데이터\\2.Validation\\원천데이터\\07.터미널\\01.기차역대합실\n",
      "Processing: ./Testset_Denoising\\01.데이터\\2.Validation\\원천데이터\\07.터미널\\02.버스터미널대합실\n",
      "Processing: ./Testset_Denoising\\01.데이터\\2.Validation\\원천데이터\\07.터미널\\03.터미널_기타소음\n",
      "Processing: ./Testset_Denoising\\01.데이터\\2.Validation\\원천데이터\\08.공사장\n",
      "Processing: ./Testset_Denoising\\01.데이터\\2.Validation\\원천데이터\\08.공사장\\01.실외공사장\n",
      "Processing: ./Testset_Denoising\\01.데이터\\2.Validation\\원천데이터\\08.공사장\\02.실내공사장\n",
      "Processing: ./Testset_Denoising\\01.데이터\\2.Validation\\원천데이터\\08.공사장\\03.공사장_기타소음\n",
      "Processing: ./Testset_Denoising\\01.데이터\\2.Validation\\원천데이터\\09.공장\n",
      "Processing: ./Testset_Denoising\\01.데이터\\2.Validation\\원천데이터\\09.공장\\01.가공공정\n",
      "Processing: ./Testset_Denoising\\01.데이터\\2.Validation\\원천데이터\\09.공장\\02.조립공정\n",
      "Processing: ./Testset_Denoising\\01.데이터\\2.Validation\\원천데이터\\09.공장\\03.공장_기타소음\n",
      "Processing: ./Testset_Denoising\\01.데이터\\2.Validation\\원천데이터\\10.일반자연\n",
      "Processing: ./Testset_Denoising\\01.데이터\\2.Validation\\원천데이터\\10.일반자연\\01.빗소리\n",
      "Processing: ./Testset_Denoising\\01.데이터\\2.Validation\\원천데이터\\10.일반자연\\02.파도\n",
      "Processing: ./Testset_Denoising\\01.데이터\\2.Validation\\원천데이터\\10.일반자연\\03.일반자연_기타소음\n",
      "Processing: ./Testset_Denoising\\01.데이터\\2.Validation\\원천데이터\\11.복합소음\n",
      "Processing: ./Testset_Denoising\\01.데이터\\2.Validation\\원천데이터\\11.복합소음\\01.2가지이상소음원\n",
      "Done!\n"
     ]
    }
   ],
   "source": [
    "remove_list = deduplicate('./Testset_Denoising', './Dataset')"
   ]
  },
  {
   "cell_type": "code",
   "execution_count": 31,
   "id": "a9899936-38a0-4200-b4fc-437208cdaf32",
   "metadata": {},
   "outputs": [
    {
     "data": {
      "text/plain": [
       "76"
      ]
     },
     "execution_count": 31,
     "metadata": {},
     "output_type": "execute_result"
    }
   ],
   "source": [
    "len(remove_list)"
   ]
  },
  {
   "cell_type": "markdown",
   "id": "fe2f97f6-8cf2-4205-afc2-74684cc441d3",
   "metadata": {},
   "source": [
    "# 5. Construct Dataset"
   ]
  },
  {
   "cell_type": "code",
   "execution_count": 36,
   "id": "5c5ad868-f714-438c-8b4b-0d22f1158016",
   "metadata": {},
   "outputs": [],
   "source": [
    "import os\n",
    "import json\n",
    "\n",
    "def is_json(filename):\n",
    "    return filename[-4:] == 'json'\n",
    "\n",
    "def is_wav(filename):\n",
    "    return filename[-3:] == 'wav'\n",
    "\n",
    "def list_files_and_directories(root_dir):\n",
    "    wav_filepath_list = []\n",
    "    text_list = []\n",
    "    root_dir_len = len(root_dir)\n",
    "    for dirpath, dirnames, filenames in os.walk(root_dir):\n",
    "        print(\"Processing:\", dirpath)\n",
    "        num_files = len(filenames)\n",
    "        with tqdm(total=num_files, desc=\"Rasampling files in progress\") as pbar:\n",
    "            n = 0\n",
    "            for filename in filenames:\n",
    "                if is_json(filename):\n",
    "                    filepath = os.path.join(dirpath, filename)\n",
    "                    with open(filepath, \"r\", encoding=\"utf-8\") as json_file:\n",
    "                        data = json.load(json_file)\n",
    "                        text = data[\"annotations\"][\"note\"]\n",
    "                    \n",
    "                    wav_filename = filename.replace('.json', '.wav')\n",
    "                    wav_filepath = dirpath.replace('라벨링', '원천')\n",
    "                    wav_filepath = os.path.join(wav_filepath, wav_filename)\n",
    "                    \n",
    "                    if os.path.exists(wav_filepath):\n",
    "                        wav_filepath_list.append(wav_filepath[root_dir_len+1:])\n",
    "                        text_list.append(text)\n",
    "                        n += 1\n",
    "                        \n",
    "                pbar.update(1)\n",
    "            print(f\"Success: {n}/{len(filenames)}\")\n",
    "                    \n",
    "    print(\"Done!\")\n",
    "    return wav_filepath_list, text_list"
   ]
  },
  {
   "cell_type": "code",
   "execution_count": 40,
   "id": "473af39d-ffe6-489b-88c5-e80db3710afe",
   "metadata": {},
   "outputs": [
    {
     "name": "stdout",
     "output_type": "stream",
     "text": [
      "Processing: ./Testset\n"
     ]
    },
    {
     "name": "stderr",
     "output_type": "stream",
     "text": [
      "Rasampling files in progress: 100%|██████████████████████████████████████████████████████████████| 1/1 [00:00<?, ?it/s]\n"
     ]
    },
    {
     "name": "stdout",
     "output_type": "stream",
     "text": [
      "Success: 0/1\n",
      "Processing: ./Testset\\01.데이터\n"
     ]
    },
    {
     "name": "stderr",
     "output_type": "stream",
     "text": [
      "Rasampling files in progress: 0it [00:00, ?it/s]\n"
     ]
    },
    {
     "name": "stdout",
     "output_type": "stream",
     "text": [
      "Success: 0/0\n",
      "Processing: ./Testset\\01.데이터\\2.Validation\n"
     ]
    },
    {
     "name": "stderr",
     "output_type": "stream",
     "text": [
      "Rasampling files in progress: 0it [00:00, ?it/s]\n"
     ]
    },
    {
     "name": "stdout",
     "output_type": "stream",
     "text": [
      "Success: 0/0\n",
      "Processing: ./Testset\\01.데이터\\2.Validation\\라벨링데이터\n"
     ]
    },
    {
     "name": "stderr",
     "output_type": "stream",
     "text": [
      "Rasampling files in progress: 0it [00:00, ?it/s]\n"
     ]
    },
    {
     "name": "stdout",
     "output_type": "stream",
     "text": [
      "Success: 0/0\n",
      "Processing: ./Testset\\01.데이터\\2.Validation\\라벨링데이터\\01.가전소음\n"
     ]
    },
    {
     "name": "stderr",
     "output_type": "stream",
     "text": [
      "Rasampling files in progress: 0it [00:00, ?it/s]\n"
     ]
    },
    {
     "name": "stdout",
     "output_type": "stream",
     "text": [
      "Success: 0/0\n",
      "Processing: ./Testset\\01.데이터\\2.Validation\\라벨링데이터\\01.가전소음\\01.세탁기,건조기\n"
     ]
    },
    {
     "name": "stderr",
     "output_type": "stream",
     "text": [
      "Rasampling files in progress: 100%|██████████████████████████████████████████████████| 11/11 [00:00<00:00, 1046.77it/s]\n"
     ]
    },
    {
     "name": "stdout",
     "output_type": "stream",
     "text": [
      "Success: 8/11\n",
      "Processing: ./Testset\\01.데이터\\2.Validation\\라벨링데이터\\01.가전소음\\02.청소기\n"
     ]
    },
    {
     "name": "stderr",
     "output_type": "stream",
     "text": [
      "Rasampling files in progress: 100%|███████████████████████████████████████████████████| 10/10 [00:00<00:00, 951.69it/s]\n"
     ]
    },
    {
     "name": "stdout",
     "output_type": "stream",
     "text": [
      "Success: 10/10\n",
      "Processing: ./Testset\\01.데이터\\2.Validation\\라벨링데이터\\01.가전소음\\03.가전소음_기타소음\n"
     ]
    },
    {
     "name": "stderr",
     "output_type": "stream",
     "text": [
      "Rasampling files in progress: 100%|██████████████████████████████████████████████████| 10/10 [00:00<00:00, 1051.97it/s]\n"
     ]
    },
    {
     "name": "stdout",
     "output_type": "stream",
     "text": [
      "Success: 10/10\n",
      "Processing: ./Testset\\01.데이터\\2.Validation\\라벨링데이터\\02.교통수단\n"
     ]
    },
    {
     "name": "stderr",
     "output_type": "stream",
     "text": [
      "Rasampling files in progress: 0it [00:00, ?it/s]\n"
     ]
    },
    {
     "name": "stdout",
     "output_type": "stream",
     "text": [
      "Success: 0/0\n",
      "Processing: ./Testset\\01.데이터\\2.Validation\\라벨링데이터\\02.교통수단\\01.바이크\n"
     ]
    },
    {
     "name": "stderr",
     "output_type": "stream",
     "text": [
      "Rasampling files in progress: 100%|██████████████████████████████████████████████████| 10/10 [00:00<00:00, 1110.07it/s]\n"
     ]
    },
    {
     "name": "stdout",
     "output_type": "stream",
     "text": [
      "Success: 5/10\n",
      "Processing: ./Testset\\01.데이터\\2.Validation\\라벨링데이터\\02.교통수단\\02.싸이렌\n"
     ]
    },
    {
     "name": "stderr",
     "output_type": "stream",
     "text": [
      "Rasampling files in progress: 100%|██████████████████████████████████████████████████| 10/10 [00:00<00:00, 1048.60it/s]\n"
     ]
    },
    {
     "name": "stdout",
     "output_type": "stream",
     "text": [
      "Success: 3/10\n",
      "Processing: ./Testset\\01.데이터\\2.Validation\\라벨링데이터\\02.교통수단\\03.경적\n"
     ]
    },
    {
     "name": "stderr",
     "output_type": "stream",
     "text": [
      "Rasampling files in progress: 100%|███████████████████████████████████████████████████| 10/10 [00:00<00:00, 955.18it/s]\n"
     ]
    },
    {
     "name": "stdout",
     "output_type": "stream",
     "text": [
      "Success: 6/10\n",
      "Processing: ./Testset\\01.데이터\\2.Validation\\라벨링데이터\\02.교통수단\\04.교통수단_기타소음\n"
     ]
    },
    {
     "name": "stderr",
     "output_type": "stream",
     "text": [
      "Rasampling files in progress: 100%|██████████████████████████████████████████████████| 10/10 [00:00<00:00, 1055.89it/s]\n"
     ]
    },
    {
     "name": "stdout",
     "output_type": "stream",
     "text": [
      "Success: 6/10\n",
      "Processing: ./Testset\\01.데이터\\2.Validation\\라벨링데이터\\03.길거리\n"
     ]
    },
    {
     "name": "stderr",
     "output_type": "stream",
     "text": [
      "Rasampling files in progress: 0it [00:00, ?it/s]\n"
     ]
    },
    {
     "name": "stdout",
     "output_type": "stream",
     "text": [
      "Success: 0/0\n",
      "Processing: ./Testset\\01.데이터\\2.Validation\\라벨링데이터\\03.길거리\\01.도로변\n"
     ]
    },
    {
     "name": "stderr",
     "output_type": "stream",
     "text": [
      "Rasampling files in progress: 100%|██████████████████████████████████████████████████| 10/10 [00:00<00:00, 1052.05it/s]\n"
     ]
    },
    {
     "name": "stdout",
     "output_type": "stream",
     "text": [
      "Success: 9/10\n",
      "Processing: ./Testset\\01.데이터\\2.Validation\\라벨링데이터\\03.길거리\\02.인파\n"
     ]
    },
    {
     "name": "stderr",
     "output_type": "stream",
     "text": [
      "Rasampling files in progress: 100%|██████████████████████████████████████████████████| 10/10 [00:00<00:00, 1051.89it/s]\n"
     ]
    },
    {
     "name": "stdout",
     "output_type": "stream",
     "text": [
      "Success: 4/10\n",
      "Processing: ./Testset\\01.데이터\\2.Validation\\라벨링데이터\\03.길거리\\03.길거리_기타소음\n"
     ]
    },
    {
     "name": "stderr",
     "output_type": "stream",
     "text": [
      "Rasampling files in progress: 100%|██████████████████████████████████████████████████| 10/10 [00:00<00:00, 1175.43it/s]\n"
     ]
    },
    {
     "name": "stdout",
     "output_type": "stream",
     "text": [
      "Success: 8/10\n",
      "Processing: ./Testset\\01.데이터\\2.Validation\\라벨링데이터\\04.카페,음식점\n"
     ]
    },
    {
     "name": "stderr",
     "output_type": "stream",
     "text": [
      "Rasampling files in progress: 0it [00:00, ?it/s]\n"
     ]
    },
    {
     "name": "stdout",
     "output_type": "stream",
     "text": [
      "Success: 0/0\n",
      "Processing: ./Testset\\01.데이터\\2.Validation\\라벨링데이터\\04.카페,음식점\\01.대화소음\n"
     ]
    },
    {
     "name": "stderr",
     "output_type": "stream",
     "text": [
      "Rasampling files in progress: 100%|██████████████████████████████████████████████████| 10/10 [00:00<00:00, 1175.96it/s]\n"
     ]
    },
    {
     "name": "stdout",
     "output_type": "stream",
     "text": [
      "Success: 10/10\n",
      "Processing: ./Testset\\01.데이터\\2.Validation\\라벨링데이터\\04.카페,음식점\\02.업소소음\n"
     ]
    },
    {
     "name": "stderr",
     "output_type": "stream",
     "text": [
      "Rasampling files in progress: 100%|██████████████████████████████████████████████████| 10/10 [00:00<00:00, 1170.48it/s]\n"
     ]
    },
    {
     "name": "stdout",
     "output_type": "stream",
     "text": [
      "Success: 10/10\n",
      "Processing: ./Testset\\01.데이터\\2.Validation\\라벨링데이터\\04.카페,음식점\\03.카페,음식점_기타소음\n"
     ]
    },
    {
     "name": "stderr",
     "output_type": "stream",
     "text": [
      "Rasampling files in progress: 100%|██████████████████████████████████████████████████| 10/10 [00:00<00:00, 1051.92it/s]\n"
     ]
    },
    {
     "name": "stdout",
     "output_type": "stream",
     "text": [
      "Success: 8/10\n",
      "Processing: ./Testset\\01.데이터\\2.Validation\\라벨링데이터\\05.시장,쇼핑몰\n"
     ]
    },
    {
     "name": "stderr",
     "output_type": "stream",
     "text": [
      "Rasampling files in progress: 0it [00:00, ?it/s]\n"
     ]
    },
    {
     "name": "stdout",
     "output_type": "stream",
     "text": [
      "Success: 0/0\n",
      "Processing: ./Testset\\01.데이터\\2.Validation\\라벨링데이터\\05.시장,쇼핑몰\\01.전통시장\n"
     ]
    },
    {
     "name": "stderr",
     "output_type": "stream",
     "text": [
      "Rasampling files in progress: 100%|███████████████████████████████████████████████████| 10/10 [00:00<00:00, 951.76it/s]"
     ]
    },
    {
     "name": "stdout",
     "output_type": "stream",
     "text": [
      "Success: 7/10\n"
     ]
    },
    {
     "name": "stderr",
     "output_type": "stream",
     "text": [
      "\n"
     ]
    },
    {
     "name": "stdout",
     "output_type": "stream",
     "text": [
      "Processing: ./Testset\\01.데이터\\2.Validation\\라벨링데이터\\05.시장,쇼핑몰\\02.복합쇼핑몰\n"
     ]
    },
    {
     "name": "stderr",
     "output_type": "stream",
     "text": [
      "Rasampling files in progress: 100%|██████████████████████████████████████████████████| 10/10 [00:00<00:00, 1071.29it/s]"
     ]
    },
    {
     "name": "stdout",
     "output_type": "stream",
     "text": [
      "Success: 9/10\n"
     ]
    },
    {
     "name": "stderr",
     "output_type": "stream",
     "text": [
      "\n"
     ]
    },
    {
     "name": "stdout",
     "output_type": "stream",
     "text": [
      "Processing: ./Testset\\01.데이터\\2.Validation\\라벨링데이터\\05.시장,쇼핑몰\\03.시장,쇼핑몰_기타소음\n"
     ]
    },
    {
     "name": "stderr",
     "output_type": "stream",
     "text": [
      "Rasampling files in progress: 100%|██████████████████████████████████████████████████| 10/10 [00:00<00:00, 1052.23it/s]\n"
     ]
    },
    {
     "name": "stdout",
     "output_type": "stream",
     "text": [
      "Success: 10/10\n",
      "Processing: ./Testset\\01.데이터\\2.Validation\\라벨링데이터\\06.지하철,버스\n"
     ]
    },
    {
     "name": "stderr",
     "output_type": "stream",
     "text": [
      "Rasampling files in progress: 0it [00:00, ?it/s]\n"
     ]
    },
    {
     "name": "stdout",
     "output_type": "stream",
     "text": [
      "Success: 0/0\n",
      "Processing: ./Testset\\01.데이터\\2.Validation\\라벨링데이터\\06.지하철,버스\\01.지하철플랫폼\n"
     ]
    },
    {
     "name": "stderr",
     "output_type": "stream",
     "text": [
      "Rasampling files in progress: 100%|███████████████████████████████████████████████████| 10/10 [00:00<00:00, 951.87it/s]\n"
     ]
    },
    {
     "name": "stdout",
     "output_type": "stream",
     "text": [
      "Success: 8/10\n",
      "Processing: ./Testset\\01.데이터\\2.Validation\\라벨링데이터\\06.지하철,버스\\02.지하철안\n"
     ]
    },
    {
     "name": "stderr",
     "output_type": "stream",
     "text": [
      "Rasampling files in progress: 100%|██████████████████████████████████████████████████| 10/10 [00:00<00:00, 1052.07it/s]"
     ]
    },
    {
     "name": "stdout",
     "output_type": "stream",
     "text": [
      "Success: 10/10\n"
     ]
    },
    {
     "name": "stderr",
     "output_type": "stream",
     "text": [
      "\n"
     ]
    },
    {
     "name": "stdout",
     "output_type": "stream",
     "text": [
      "Processing: ./Testset\\01.데이터\\2.Validation\\라벨링데이터\\06.지하철,버스\\03.기차안\n"
     ]
    },
    {
     "name": "stderr",
     "output_type": "stream",
     "text": [
      "Rasampling files in progress: 100%|██████████████████████████████████████████████████| 10/10 [00:00<00:00, 1333.18it/s]\n"
     ]
    },
    {
     "name": "stdout",
     "output_type": "stream",
     "text": [
      "Success: 3/10\n",
      "Processing: ./Testset\\01.데이터\\2.Validation\\라벨링데이터\\06.지하철,버스\\04.버스안\n"
     ]
    },
    {
     "name": "stderr",
     "output_type": "stream",
     "text": [
      "Rasampling files in progress: 100%|██████████████████████████████████████████████████| 10/10 [00:00<00:00, 1332.29it/s]\n"
     ]
    },
    {
     "name": "stdout",
     "output_type": "stream",
     "text": [
      "Success: 8/10\n",
      "Processing: ./Testset\\01.데이터\\2.Validation\\라벨링데이터\\07.터미널\n"
     ]
    },
    {
     "name": "stderr",
     "output_type": "stream",
     "text": [
      "Rasampling files in progress: 0it [00:00, ?it/s]\n"
     ]
    },
    {
     "name": "stdout",
     "output_type": "stream",
     "text": [
      "Success: 0/0\n",
      "Processing: ./Testset\\01.데이터\\2.Validation\\라벨링데이터\\07.터미널\\01.기차역대합실\n"
     ]
    },
    {
     "name": "stderr",
     "output_type": "stream",
     "text": [
      "Rasampling files in progress: 100%|██████████████████████████████████████████████████| 10/10 [00:00<00:00, 1256.68it/s]"
     ]
    },
    {
     "name": "stdout",
     "output_type": "stream",
     "text": [
      "Success: 10/10\n"
     ]
    },
    {
     "name": "stderr",
     "output_type": "stream",
     "text": [
      "\n"
     ]
    },
    {
     "name": "stdout",
     "output_type": "stream",
     "text": [
      "Processing: ./Testset\\01.데이터\\2.Validation\\라벨링데이터\\07.터미널\\02.버스터미널대합실\n"
     ]
    },
    {
     "name": "stderr",
     "output_type": "stream",
     "text": [
      "Rasampling files in progress: 100%|██████████████████████████████████████████████████| 10/10 [00:00<00:00, 1111.02it/s]"
     ]
    },
    {
     "name": "stdout",
     "output_type": "stream",
     "text": [
      "Success: 10/10\n"
     ]
    },
    {
     "name": "stderr",
     "output_type": "stream",
     "text": [
      "\n"
     ]
    },
    {
     "name": "stdout",
     "output_type": "stream",
     "text": [
      "Processing: ./Testset\\01.데이터\\2.Validation\\라벨링데이터\\07.터미널\\03.터미널_기타소음\n"
     ]
    },
    {
     "name": "stderr",
     "output_type": "stream",
     "text": [
      "Rasampling files in progress: 100%|██████████████████████████████████████████████████| 10/10 [00:00<00:00, 1249.90it/s]\n"
     ]
    },
    {
     "name": "stdout",
     "output_type": "stream",
     "text": [
      "Success: 6/10\n",
      "Processing: ./Testset\\01.데이터\\2.Validation\\라벨링데이터\\08.공사장\n"
     ]
    },
    {
     "name": "stderr",
     "output_type": "stream",
     "text": [
      "Rasampling files in progress: 0it [00:00, ?it/s]\n"
     ]
    },
    {
     "name": "stdout",
     "output_type": "stream",
     "text": [
      "Success: 0/0\n",
      "Processing: ./Testset\\01.데이터\\2.Validation\\라벨링데이터\\08.공사장\\01.실외공사장\n"
     ]
    },
    {
     "name": "stderr",
     "output_type": "stream",
     "text": [
      "Rasampling files in progress: 100%|██████████████████████████████████████████████████| 10/10 [00:00<00:00, 1666.52it/s]"
     ]
    },
    {
     "name": "stdout",
     "output_type": "stream",
     "text": [
      "Success: 8/10\n"
     ]
    },
    {
     "name": "stderr",
     "output_type": "stream",
     "text": [
      "\n"
     ]
    },
    {
     "name": "stdout",
     "output_type": "stream",
     "text": [
      "Processing: ./Testset\\01.데이터\\2.Validation\\라벨링데이터\\08.공사장\\02.실내공사장\n"
     ]
    },
    {
     "name": "stderr",
     "output_type": "stream",
     "text": [
      "Rasampling files in progress: 100%|██████████████████████████████████████████████████| 10/10 [00:00<00:00, 1537.50it/s]\n"
     ]
    },
    {
     "name": "stdout",
     "output_type": "stream",
     "text": [
      "Success: 4/10\n",
      "Processing: ./Testset\\01.데이터\\2.Validation\\라벨링데이터\\08.공사장\\03.공사장_기타소음\n"
     ]
    },
    {
     "name": "stderr",
     "output_type": "stream",
     "text": [
      "Rasampling files in progress: 100%|██████████████████████████████████████████████████| 10/10 [00:00<00:00, 1816.58it/s]"
     ]
    },
    {
     "name": "stdout",
     "output_type": "stream",
     "text": [
      "Success: 7/10\n"
     ]
    },
    {
     "name": "stderr",
     "output_type": "stream",
     "text": [
      "\n"
     ]
    },
    {
     "name": "stdout",
     "output_type": "stream",
     "text": [
      "Processing: ./Testset\\01.데이터\\2.Validation\\라벨링데이터\\09.공장\n"
     ]
    },
    {
     "name": "stderr",
     "output_type": "stream",
     "text": [
      "Rasampling files in progress: 0it [00:00, ?it/s]\n"
     ]
    },
    {
     "name": "stdout",
     "output_type": "stream",
     "text": [
      "Success: 0/0\n",
      "Processing: ./Testset\\01.데이터\\2.Validation\\라벨링데이터\\09.공장\\01.가공공정\n"
     ]
    },
    {
     "name": "stderr",
     "output_type": "stream",
     "text": [
      "Rasampling files in progress: 100%|██████████████████████████████████████████████████| 10/10 [00:00<00:00, 1817.53it/s]\n"
     ]
    },
    {
     "name": "stdout",
     "output_type": "stream",
     "text": [
      "Success: 8/10\n",
      "Processing: ./Testset\\01.데이터\\2.Validation\\라벨링데이터\\09.공장\\02.조립공정\n"
     ]
    },
    {
     "name": "stderr",
     "output_type": "stream",
     "text": [
      "Rasampling files in progress:   0%|                                                             | 0/10 [00:00<?, ?it/s]"
     ]
    },
    {
     "name": "stdout",
     "output_type": "stream",
     "text": [
      "Success: 7/10"
     ]
    },
    {
     "name": "stderr",
     "output_type": "stream",
     "text": [
      "Rasampling files in progress: 100%|██████████████████████████████████████████████████| 10/10 [00:00<00:00, 1249.98it/s]\n"
     ]
    },
    {
     "name": "stdout",
     "output_type": "stream",
     "text": [
      "\n",
      "Processing: ./Testset\\01.데이터\\2.Validation\\라벨링데이터\\09.공장\\03.공장_기타소음\n"
     ]
    },
    {
     "name": "stderr",
     "output_type": "stream",
     "text": [
      "Rasampling files in progress: 100%|██████████████████████████████████████████████████| 10/10 [00:00<00:00, 1428.58it/s]\n"
     ]
    },
    {
     "name": "stdout",
     "output_type": "stream",
     "text": [
      "Success: 9/10\n",
      "Processing: ./Testset\\01.데이터\\2.Validation\\라벨링데이터\\10.일반자연\n"
     ]
    },
    {
     "name": "stderr",
     "output_type": "stream",
     "text": [
      "Rasampling files in progress: 0it [00:00, ?it/s]\n"
     ]
    },
    {
     "name": "stdout",
     "output_type": "stream",
     "text": [
      "Success: 0/0\n",
      "Processing: ./Testset\\01.데이터\\2.Validation\\라벨링데이터\\10.일반자연\\01.빗소리\n"
     ]
    },
    {
     "name": "stderr",
     "output_type": "stream",
     "text": [
      "Rasampling files in progress: 100%|██████████████████████████████████████████████████| 10/10 [00:00<00:00, 1375.59it/s]\n"
     ]
    },
    {
     "name": "stdout",
     "output_type": "stream",
     "text": [
      "Success: 10/10\n",
      "Processing: ./Testset\\01.데이터\\2.Validation\\라벨링데이터\\10.일반자연\\02.파도\n"
     ]
    },
    {
     "name": "stderr",
     "output_type": "stream",
     "text": [
      "Rasampling files in progress: 100%|██████████████████████████████████████████████████| 10/10 [00:00<00:00, 1249.53it/s]"
     ]
    },
    {
     "name": "stdout",
     "output_type": "stream",
     "text": [
      "Success: 8/10\n"
     ]
    },
    {
     "name": "stderr",
     "output_type": "stream",
     "text": [
      "\n"
     ]
    },
    {
     "name": "stdout",
     "output_type": "stream",
     "text": [
      "Processing: ./Testset\\01.데이터\\2.Validation\\라벨링데이터\\10.일반자연\\03.일반자연_기타소음\n"
     ]
    },
    {
     "name": "stderr",
     "output_type": "stream",
     "text": [
      "Rasampling files in progress: 100%|██████████████████████████████████████████████████| 10/10 [00:00<00:00, 1929.92it/s]\n"
     ]
    },
    {
     "name": "stdout",
     "output_type": "stream",
     "text": [
      "Success: 4/10\n",
      "Processing: ./Testset\\01.데이터\\2.Validation\\라벨링데이터\\11.복합소음\n"
     ]
    },
    {
     "name": "stderr",
     "output_type": "stream",
     "text": [
      "Rasampling files in progress: 0it [00:00, ?it/s]\n"
     ]
    },
    {
     "name": "stdout",
     "output_type": "stream",
     "text": [
      "Success: 0/0\n",
      "Processing: ./Testset\\01.데이터\\2.Validation\\라벨링데이터\\11.복합소음\\01.2가지이상소음원\n"
     ]
    },
    {
     "name": "stderr",
     "output_type": "stream",
     "text": [
      "Rasampling files in progress: 100%|██████████████████████████████████████████████████| 10/10 [00:00<00:00, 1537.22it/s]"
     ]
    },
    {
     "name": "stdout",
     "output_type": "stream",
     "text": [
      "Success: 9/10\n"
     ]
    },
    {
     "name": "stderr",
     "output_type": "stream",
     "text": [
      "\n"
     ]
    },
    {
     "name": "stdout",
     "output_type": "stream",
     "text": [
      "Processing: ./Testset\\01.데이터\\2.Validation\\원천데이터\n"
     ]
    },
    {
     "name": "stderr",
     "output_type": "stream",
     "text": [
      "Rasampling files in progress: 0it [00:00, ?it/s]\n"
     ]
    },
    {
     "name": "stdout",
     "output_type": "stream",
     "text": [
      "Success: 0/0\n",
      "Processing: ./Testset\\01.데이터\\2.Validation\\원천데이터\\01.가전소음\n"
     ]
    },
    {
     "name": "stderr",
     "output_type": "stream",
     "text": [
      "Rasampling files in progress: 0it [00:00, ?it/s]\n"
     ]
    },
    {
     "name": "stdout",
     "output_type": "stream",
     "text": [
      "Success: 0/0\n",
      "Processing: ./Testset\\01.데이터\\2.Validation\\원천데이터\\01.가전소음\\01.세탁기,건조기\n"
     ]
    },
    {
     "name": "stderr",
     "output_type": "stream",
     "text": [
      "Rasampling files in progress: 100%|██████████████████████████████████████████████████████████████| 8/8 [00:00<?, ?it/s]\n"
     ]
    },
    {
     "name": "stdout",
     "output_type": "stream",
     "text": [
      "Success: 0/8\n",
      "Processing: ./Testset\\01.데이터\\2.Validation\\원천데이터\\01.가전소음\\02.청소기\n"
     ]
    },
    {
     "name": "stderr",
     "output_type": "stream",
     "text": [
      "Rasampling files in progress: 100%|████████████████████████████████████████████████████████████| 10/10 [00:00<?, ?it/s]\n"
     ]
    },
    {
     "name": "stdout",
     "output_type": "stream",
     "text": [
      "Success: 0/10\n",
      "Processing: ./Testset\\01.데이터\\2.Validation\\원천데이터\\01.가전소음\\03.가전소음_기타소음\n"
     ]
    },
    {
     "name": "stderr",
     "output_type": "stream",
     "text": [
      "Rasampling files in progress: 100%|████████████████████████████████████████████████████████████| 10/10 [00:00<?, ?it/s]\n"
     ]
    },
    {
     "name": "stdout",
     "output_type": "stream",
     "text": [
      "Success: 0/10\n",
      "Processing: ./Testset\\01.데이터\\2.Validation\\원천데이터\\02.교통수단\n"
     ]
    },
    {
     "name": "stderr",
     "output_type": "stream",
     "text": [
      "Rasampling files in progress: 0it [00:00, ?it/s]\n"
     ]
    },
    {
     "name": "stdout",
     "output_type": "stream",
     "text": [
      "Success: 0/0\n",
      "Processing: ./Testset\\01.데이터\\2.Validation\\원천데이터\\02.교통수단\\01.바이크\n"
     ]
    },
    {
     "name": "stderr",
     "output_type": "stream",
     "text": [
      "Rasampling files in progress: 100%|████████████████████████████████████████████████████| 5/5 [00:00<00:00, 4999.17it/s]\n"
     ]
    },
    {
     "name": "stdout",
     "output_type": "stream",
     "text": [
      "Success: 0/5\n",
      "Processing: ./Testset\\01.데이터\\2.Validation\\원천데이터\\02.교통수단\\02.싸이렌\n"
     ]
    },
    {
     "name": "stderr",
     "output_type": "stream",
     "text": [
      "Rasampling files in progress: 100%|██████████████████████████████████████████████████████████████| 3/3 [00:00<?, ?it/s]\n"
     ]
    },
    {
     "name": "stdout",
     "output_type": "stream",
     "text": [
      "Success: 0/3\n",
      "Processing: ./Testset\\01.데이터\\2.Validation\\원천데이터\\02.교통수단\\03.경적\n"
     ]
    },
    {
     "name": "stderr",
     "output_type": "stream",
     "text": [
      "Rasampling files in progress: 100%|████████████████████████████████████████████████████| 6/6 [00:00<00:00, 6003.30it/s]\n"
     ]
    },
    {
     "name": "stdout",
     "output_type": "stream",
     "text": [
      "Success: 0/6\n",
      "Processing: ./Testset\\01.데이터\\2.Validation\\원천데이터\\02.교통수단\\04.교통수단_기타소음\n"
     ]
    },
    {
     "name": "stderr",
     "output_type": "stream",
     "text": [
      "Rasampling files in progress: 100%|██████████████████████████████████████████████████████████████| 6/6 [00:00<?, ?it/s]\n"
     ]
    },
    {
     "name": "stdout",
     "output_type": "stream",
     "text": [
      "Success: 0/6\n",
      "Processing: ./Testset\\01.데이터\\2.Validation\\원천데이터\\03.길거리\n"
     ]
    },
    {
     "name": "stderr",
     "output_type": "stream",
     "text": [
      "Rasampling files in progress: 0it [00:00, ?it/s]\n"
     ]
    },
    {
     "name": "stdout",
     "output_type": "stream",
     "text": [
      "Success: 0/0\n",
      "Processing: ./Testset\\01.데이터\\2.Validation\\원천데이터\\03.길거리\\01.도로변\n"
     ]
    },
    {
     "name": "stderr",
     "output_type": "stream",
     "text": [
      "Rasampling files in progress: 100%|██████████████████████████████████████████████████████████████| 9/9 [00:00<?, ?it/s]\n"
     ]
    },
    {
     "name": "stdout",
     "output_type": "stream",
     "text": [
      "Success: 0/9\n",
      "Processing: ./Testset\\01.데이터\\2.Validation\\원천데이터\\03.길거리\\02.인파\n"
     ]
    },
    {
     "name": "stderr",
     "output_type": "stream",
     "text": [
      "Rasampling files in progress: 100%|██████████████████████████████████████████████████████████████| 4/4 [00:00<?, ?it/s]\n"
     ]
    },
    {
     "name": "stdout",
     "output_type": "stream",
     "text": [
      "Success: 0/4\n",
      "Processing: ./Testset\\01.데이터\\2.Validation\\원천데이터\\03.길거리\\03.길거리_기타소음\n"
     ]
    },
    {
     "name": "stderr",
     "output_type": "stream",
     "text": [
      "Rasampling files in progress: 100%|██████████████████████████████████████████████████████████████| 8/8 [00:00<?, ?it/s]\n"
     ]
    },
    {
     "name": "stdout",
     "output_type": "stream",
     "text": [
      "Success: 0/8\n",
      "Processing: ./Testset\\01.데이터\\2.Validation\\원천데이터\\04.카페,음식점\n"
     ]
    },
    {
     "name": "stderr",
     "output_type": "stream",
     "text": [
      "Rasampling files in progress: 0it [00:00, ?it/s]\n"
     ]
    },
    {
     "name": "stdout",
     "output_type": "stream",
     "text": [
      "Success: 0/0\n",
      "Processing: ./Testset\\01.데이터\\2.Validation\\원천데이터\\04.카페,음식점\\01.대화소음\n"
     ]
    },
    {
     "name": "stderr",
     "output_type": "stream",
     "text": [
      "Rasampling files in progress: 100%|████████████████████████████████████████████████████████████| 10/10 [00:00<?, ?it/s]\n"
     ]
    },
    {
     "name": "stdout",
     "output_type": "stream",
     "text": [
      "Success: 0/10\n",
      "Processing: ./Testset\\01.데이터\\2.Validation\\원천데이터\\04.카페,음식점\\02.업소소음\n"
     ]
    },
    {
     "name": "stderr",
     "output_type": "stream",
     "text": [
      "Rasampling files in progress: 100%|████████████████████████████████████████████████████████████| 10/10 [00:00<?, ?it/s]\n"
     ]
    },
    {
     "name": "stdout",
     "output_type": "stream",
     "text": [
      "Success: 0/10\n",
      "Processing: ./Testset\\01.데이터\\2.Validation\\원천데이터\\04.카페,음식점\\03.카페,음식점_기타소음\n"
     ]
    },
    {
     "name": "stderr",
     "output_type": "stream",
     "text": [
      "Rasampling files in progress: 100%|██████████████████████████████████████████████████████████████| 8/8 [00:00<?, ?it/s]\n"
     ]
    },
    {
     "name": "stdout",
     "output_type": "stream",
     "text": [
      "Success: 0/8\n",
      "Processing: ./Testset\\01.데이터\\2.Validation\\원천데이터\\05.시장,쇼핑몰\n"
     ]
    },
    {
     "name": "stderr",
     "output_type": "stream",
     "text": [
      "Rasampling files in progress: 0it [00:00, ?it/s]\n"
     ]
    },
    {
     "name": "stdout",
     "output_type": "stream",
     "text": [
      "Success: 0/0\n",
      "Processing: ./Testset\\01.데이터\\2.Validation\\원천데이터\\05.시장,쇼핑몰\\01.전통시장\n"
     ]
    },
    {
     "name": "stderr",
     "output_type": "stream",
     "text": [
      "Rasampling files in progress: 100%|██████████████████████████████████████████████████████████████| 7/7 [00:00<?, ?it/s]\n"
     ]
    },
    {
     "name": "stdout",
     "output_type": "stream",
     "text": [
      "Success: 0/7\n",
      "Processing: ./Testset\\01.데이터\\2.Validation\\원천데이터\\05.시장,쇼핑몰\\02.복합쇼핑몰\n"
     ]
    },
    {
     "name": "stderr",
     "output_type": "stream",
     "text": [
      "Rasampling files in progress: 100%|██████████████████████████████████████████████████████████████| 9/9 [00:00<?, ?it/s]\n"
     ]
    },
    {
     "name": "stdout",
     "output_type": "stream",
     "text": [
      "Success: 0/9\n",
      "Processing: ./Testset\\01.데이터\\2.Validation\\원천데이터\\05.시장,쇼핑몰\\03.시장,쇼핑몰_기타소음\n"
     ]
    },
    {
     "name": "stderr",
     "output_type": "stream",
     "text": [
      "Rasampling files in progress: 100%|████████████████████████████████████████████████████████████| 10/10 [00:00<?, ?it/s]\n"
     ]
    },
    {
     "name": "stdout",
     "output_type": "stream",
     "text": [
      "Success: 0/10\n",
      "Processing: ./Testset\\01.데이터\\2.Validation\\원천데이터\\06.지하철,버스\n"
     ]
    },
    {
     "name": "stderr",
     "output_type": "stream",
     "text": [
      "Rasampling files in progress: 0it [00:00, ?it/s]\n"
     ]
    },
    {
     "name": "stdout",
     "output_type": "stream",
     "text": [
      "Success: 0/0\n",
      "Processing: ./Testset\\01.데이터\\2.Validation\\원천데이터\\06.지하철,버스\\01.지하철플랫폼\n"
     ]
    },
    {
     "name": "stderr",
     "output_type": "stream",
     "text": [
      "Rasampling files in progress: 100%|██████████████████████████████████████████████████████████████| 8/8 [00:00<?, ?it/s]\n"
     ]
    },
    {
     "name": "stdout",
     "output_type": "stream",
     "text": [
      "Success: 0/8\n",
      "Processing: ./Testset\\01.데이터\\2.Validation\\원천데이터\\06.지하철,버스\\02.지하철안\n"
     ]
    },
    {
     "name": "stderr",
     "output_type": "stream",
     "text": [
      "Rasampling files in progress: 100%|████████████████████████████████████████████████████████████| 10/10 [00:00<?, ?it/s]\n"
     ]
    },
    {
     "name": "stdout",
     "output_type": "stream",
     "text": [
      "Success: 0/10\n",
      "Processing: ./Testset\\01.데이터\\2.Validation\\원천데이터\\06.지하철,버스\\03.기차안\n"
     ]
    },
    {
     "name": "stderr",
     "output_type": "stream",
     "text": [
      "Rasampling files in progress: 100%|██████████████████████████████████████████████████████████████| 3/3 [00:00<?, ?it/s]\n"
     ]
    },
    {
     "name": "stdout",
     "output_type": "stream",
     "text": [
      "Success: 0/3\n",
      "Processing: ./Testset\\01.데이터\\2.Validation\\원천데이터\\06.지하철,버스\\04.버스안\n"
     ]
    },
    {
     "name": "stderr",
     "output_type": "stream",
     "text": [
      "Rasampling files in progress: 100%|██████████████████████████████████████████████████████████████| 8/8 [00:00<?, ?it/s]"
     ]
    },
    {
     "name": "stdout",
     "output_type": "stream",
     "text": [
      "Success: 0/8\n"
     ]
    },
    {
     "name": "stderr",
     "output_type": "stream",
     "text": [
      "\n"
     ]
    },
    {
     "name": "stdout",
     "output_type": "stream",
     "text": [
      "Processing: ./Testset\\01.데이터\\2.Validation\\원천데이터\\07.터미널\n"
     ]
    },
    {
     "name": "stderr",
     "output_type": "stream",
     "text": [
      "Rasampling files in progress: 0it [00:00, ?it/s]\n"
     ]
    },
    {
     "name": "stdout",
     "output_type": "stream",
     "text": [
      "Success: 0/0\n",
      "Processing: ./Testset\\01.데이터\\2.Validation\\원천데이터\\07.터미널\\01.기차역대합실\n"
     ]
    },
    {
     "name": "stderr",
     "output_type": "stream",
     "text": [
      "Rasampling files in progress: 100%|████████████████████████████████████████████████████████████| 10/10 [00:00<?, ?it/s]\n"
     ]
    },
    {
     "name": "stdout",
     "output_type": "stream",
     "text": [
      "Success: 0/10\n",
      "Processing: ./Testset\\01.데이터\\2.Validation\\원천데이터\\07.터미널\\02.버스터미널대합실\n"
     ]
    },
    {
     "name": "stderr",
     "output_type": "stream",
     "text": [
      "Rasampling files in progress: 100%|████████████████████████████████████████████████████████████| 10/10 [00:00<?, ?it/s]\n"
     ]
    },
    {
     "name": "stdout",
     "output_type": "stream",
     "text": [
      "Success: 0/10\n",
      "Processing: ./Testset\\01.데이터\\2.Validation\\원천데이터\\07.터미널\\03.터미널_기타소음\n"
     ]
    },
    {
     "name": "stderr",
     "output_type": "stream",
     "text": [
      "Rasampling files in progress: 100%|██████████████████████████████████████████████████████████████| 6/6 [00:00<?, ?it/s]\n"
     ]
    },
    {
     "name": "stdout",
     "output_type": "stream",
     "text": [
      "Success: 0/6\n",
      "Processing: ./Testset\\01.데이터\\2.Validation\\원천데이터\\08.공사장\n"
     ]
    },
    {
     "name": "stderr",
     "output_type": "stream",
     "text": [
      "Rasampling files in progress: 0it [00:00, ?it/s]\n"
     ]
    },
    {
     "name": "stdout",
     "output_type": "stream",
     "text": [
      "Success: 0/0\n",
      "Processing: ./Testset\\01.데이터\\2.Validation\\원천데이터\\08.공사장\\01.실외공사장\n"
     ]
    },
    {
     "name": "stderr",
     "output_type": "stream",
     "text": [
      "Rasampling files in progress: 100%|██████████████████████████████████████████████████████████████| 8/8 [00:00<?, ?it/s]\n"
     ]
    },
    {
     "name": "stdout",
     "output_type": "stream",
     "text": [
      "Success: 0/8\n",
      "Processing: ./Testset\\01.데이터\\2.Validation\\원천데이터\\08.공사장\\02.실내공사장\n"
     ]
    },
    {
     "name": "stderr",
     "output_type": "stream",
     "text": [
      "Rasampling files in progress: 100%|██████████████████████████████████████████████████████████████| 4/4 [00:00<?, ?it/s]\n"
     ]
    },
    {
     "name": "stdout",
     "output_type": "stream",
     "text": [
      "Success: 0/4\n",
      "Processing: ./Testset\\01.데이터\\2.Validation\\원천데이터\\08.공사장\\03.공사장_기타소음\n"
     ]
    },
    {
     "name": "stderr",
     "output_type": "stream",
     "text": [
      "Rasampling files in progress: 100%|████████████████████████████████████████████████████| 7/7 [00:00<00:00, 7000.51it/s]\n"
     ]
    },
    {
     "name": "stdout",
     "output_type": "stream",
     "text": [
      "Success: 0/7\n",
      "Processing: ./Testset\\01.데이터\\2.Validation\\원천데이터\\09.공장\n"
     ]
    },
    {
     "name": "stderr",
     "output_type": "stream",
     "text": [
      "Rasampling files in progress: 0it [00:00, ?it/s]\n"
     ]
    },
    {
     "name": "stdout",
     "output_type": "stream",
     "text": [
      "Success: 0/0\n",
      "Processing: ./Testset\\01.데이터\\2.Validation\\원천데이터\\09.공장\\01.가공공정\n"
     ]
    },
    {
     "name": "stderr",
     "output_type": "stream",
     "text": [
      "Rasampling files in progress: 100%|██████████████████████████████████████████████████████████████| 8/8 [00:00<?, ?it/s]\n"
     ]
    },
    {
     "name": "stdout",
     "output_type": "stream",
     "text": [
      "Success: 0/8\n",
      "Processing: ./Testset\\01.데이터\\2.Validation\\원천데이터\\09.공장\\02.조립공정\n"
     ]
    },
    {
     "name": "stderr",
     "output_type": "stream",
     "text": [
      "Rasampling files in progress: 100%|██████████████████████████████████████████████████████████████| 7/7 [00:00<?, ?it/s]\n"
     ]
    },
    {
     "name": "stdout",
     "output_type": "stream",
     "text": [
      "Success: 0/7\n",
      "Processing: ./Testset\\01.데이터\\2.Validation\\원천데이터\\09.공장\\03.공장_기타소음\n"
     ]
    },
    {
     "name": "stderr",
     "output_type": "stream",
     "text": [
      "Rasampling files in progress: 100%|██████████████████████████████████████████████████████████████| 9/9 [00:00<?, ?it/s]\n"
     ]
    },
    {
     "name": "stdout",
     "output_type": "stream",
     "text": [
      "Success: 0/9\n",
      "Processing: ./Testset\\01.데이터\\2.Validation\\원천데이터\\10.일반자연\n"
     ]
    },
    {
     "name": "stderr",
     "output_type": "stream",
     "text": [
      "Rasampling files in progress: 0it [00:00, ?it/s]\n"
     ]
    },
    {
     "name": "stdout",
     "output_type": "stream",
     "text": [
      "Success: 0/0\n",
      "Processing: ./Testset\\01.데이터\\2.Validation\\원천데이터\\10.일반자연\\01.빗소리\n"
     ]
    },
    {
     "name": "stderr",
     "output_type": "stream",
     "text": [
      "Rasampling files in progress: 100%|████████████████████████████████████████████████████████████| 10/10 [00:00<?, ?it/s]\n"
     ]
    },
    {
     "name": "stdout",
     "output_type": "stream",
     "text": [
      "Success: 0/10\n",
      "Processing: ./Testset\\01.데이터\\2.Validation\\원천데이터\\10.일반자연\\02.파도\n"
     ]
    },
    {
     "name": "stderr",
     "output_type": "stream",
     "text": [
      "Rasampling files in progress: 100%|██████████████████████████████████████████████████████████████| 8/8 [00:00<?, ?it/s]\n"
     ]
    },
    {
     "name": "stdout",
     "output_type": "stream",
     "text": [
      "Success: 0/8\n",
      "Processing: ./Testset\\01.데이터\\2.Validation\\원천데이터\\10.일반자연\\03.일반자연_기타소음\n"
     ]
    },
    {
     "name": "stderr",
     "output_type": "stream",
     "text": [
      "Rasampling files in progress: 100%|██████████████████████████████████████████████████████████████| 4/4 [00:00<?, ?it/s]\n"
     ]
    },
    {
     "name": "stdout",
     "output_type": "stream",
     "text": [
      "Success: 0/4\n",
      "Processing: ./Testset\\01.데이터\\2.Validation\\원천데이터\\11.복합소음\n"
     ]
    },
    {
     "name": "stderr",
     "output_type": "stream",
     "text": [
      "Rasampling files in progress: 0it [00:00, ?it/s]\n"
     ]
    },
    {
     "name": "stdout",
     "output_type": "stream",
     "text": [
      "Success: 0/0\n",
      "Processing: ./Testset\\01.데이터\\2.Validation\\원천데이터\\11.복합소음\\01.2가지이상소음원\n"
     ]
    },
    {
     "name": "stderr",
     "output_type": "stream",
     "text": [
      "Rasampling files in progress: 100%|██████████████████████████████████████████████████████████████| 9/9 [00:00<?, ?it/s]"
     ]
    },
    {
     "name": "stdout",
     "output_type": "stream",
     "text": [
      "Success: 0/9\n",
      "Done!\n"
     ]
    },
    {
     "name": "stderr",
     "output_type": "stream",
     "text": [
      "\n"
     ]
    }
   ],
   "source": [
    "root_directory = \"./Testset\"\n",
    "wav_filepath_list, text_list = list_files_and_directories(root_directory)"
   ]
  },
  {
   "cell_type": "code",
   "execution_count": 41,
   "id": "09f5d292-e4c2-422a-a99d-0bebcf8d2c3f",
   "metadata": {},
   "outputs": [],
   "source": [
    "import pandas as pd\n",
    "\n",
    "# Data\n",
    "data = {\n",
    "    'file_name': wav_filepath_list,\n",
    "    'text': text_list\n",
    "}\n",
    "\n",
    "# Dataframe\n",
    "df = pd.DataFrame(data)\n",
    "\n",
    "# Save CSV file\n",
    "df.to_csv('./Testset/metadata.csv', index=False)"
   ]
  },
  {
   "cell_type": "code",
   "execution_count": 42,
   "id": "0b5109c6-1c85-41ad-b0f4-97f0e3157b7d",
   "metadata": {},
   "outputs": [
    {
     "data": {
      "text/html": [
       "<div>\n",
       "<style scoped>\n",
       "    .dataframe tbody tr th:only-of-type {\n",
       "        vertical-align: middle;\n",
       "    }\n",
       "\n",
       "    .dataframe tbody tr th {\n",
       "        vertical-align: top;\n",
       "    }\n",
       "\n",
       "    .dataframe thead th {\n",
       "        text-align: right;\n",
       "    }\n",
       "</style>\n",
       "<table border=\"1\" class=\"dataframe\">\n",
       "  <thead>\n",
       "    <tr style=\"text-align: right;\">\n",
       "      <th></th>\n",
       "      <th>file_name</th>\n",
       "      <th>text</th>\n",
       "    </tr>\n",
       "  </thead>\n",
       "  <tbody>\n",
       "    <tr>\n",
       "      <th>0</th>\n",
       "      <td>01.데이터\\2.Validation\\원천데이터\\01.가전소음\\01.세탁기,건조기\\0...</td>\n",
       "      <td>그건 모르죠</td>\n",
       "    </tr>\n",
       "    <tr>\n",
       "      <th>1</th>\n",
       "      <td>01.데이터\\2.Validation\\원천데이터\\01.가전소음\\01.세탁기,건조기\\0...</td>\n",
       "      <td>어 원 플러스 원이라고 해도 지금 행사니까 원 플러스 원인 거지 만약에 따로 사게 ...</td>\n",
       "    </tr>\n",
       "    <tr>\n",
       "      <th>2</th>\n",
       "      <td>01.데이터\\2.Validation\\원천데이터\\01.가전소음\\01.세탁기,건조기\\0...</td>\n",
       "      <td>그래 지금 우리 집사람도 빨리 오고 싶지 나한테 문자로 빨리 갈게 차 끌고 가 이렇...</td>\n",
       "    </tr>\n",
       "    <tr>\n",
       "      <th>3</th>\n",
       "      <td>01.데이터\\2.Validation\\원천데이터\\01.가전소음\\01.세탁기,건조기\\0...</td>\n",
       "      <td>그래 아까 나름대로 작전을 잘 짰던 것 같아 만두부터 먹고 그다음에 맛있는 탕수육까...</td>\n",
       "    </tr>\n",
       "    <tr>\n",
       "      <th>4</th>\n",
       "      <td>01.데이터\\2.Validation\\원천데이터\\01.가전소음\\01.세탁기,건조기\\0...</td>\n",
       "      <td>아니요. 저희는 지금 베란다가. 좀 좁은 편이라서. 빨래 널 공간이 별로 없거든요....</td>\n",
       "    </tr>\n",
       "    <tr>\n",
       "      <th>...</th>\n",
       "      <td>...</td>\n",
       "      <td>...</td>\n",
       "    </tr>\n",
       "    <tr>\n",
       "      <th>247</th>\n",
       "      <td>01.데이터\\2.Validation\\원천데이터\\11.복합소음\\01.2가지이상소음원\\...</td>\n",
       "      <td>저도 점심 뭐 먹을지 고민이에요. 우리나라 모든 직장인의 고민인 것 같아요. 점심 ...</td>\n",
       "    </tr>\n",
       "    <tr>\n",
       "      <th>248</th>\n",
       "      <td>01.데이터\\2.Validation\\원천데이터\\11.복합소음\\01.2가지이상소음원\\...</td>\n",
       "      <td>뭐지? 나한테 하는 소린가 혼잔 말인가? 미친 사람인가. 저기요. 혹시 저한테 하신...</td>\n",
       "    </tr>\n",
       "    <tr>\n",
       "      <th>249</th>\n",
       "      <td>01.데이터\\2.Validation\\원천데이터\\11.복합소음\\01.2가지이상소음원\\...</td>\n",
       "      <td>그런 데가 있어. 그런 데가 있더라고. 그래서 거기를 예쁘게 잘 꾸며놓고 그래가지고...</td>\n",
       "    </tr>\n",
       "    <tr>\n",
       "      <th>250</th>\n",
       "      <td>01.데이터\\2.Validation\\원천데이터\\11.복합소음\\01.2가지이상소음원\\...</td>\n",
       "      <td>아마도 그날을 위해서 세심하게 계획을 세울 것이야.</td>\n",
       "    </tr>\n",
       "    <tr>\n",
       "      <th>251</th>\n",
       "      <td>01.데이터\\2.Validation\\원천데이터\\11.복합소음\\01.2가지이상소음원\\...</td>\n",
       "      <td>그랬구나. 역시 선배를 많이 생각해줬네 나는 그 선배가 보험쪽 일을 한다고 얘기는 ...</td>\n",
       "    </tr>\n",
       "  </tbody>\n",
       "</table>\n",
       "<p>252 rows × 2 columns</p>\n",
       "</div>"
      ],
      "text/plain": [
       "                                             file_name  \\\n",
       "0    01.데이터\\2.Validation\\원천데이터\\01.가전소음\\01.세탁기,건조기\\0...   \n",
       "1    01.데이터\\2.Validation\\원천데이터\\01.가전소음\\01.세탁기,건조기\\0...   \n",
       "2    01.데이터\\2.Validation\\원천데이터\\01.가전소음\\01.세탁기,건조기\\0...   \n",
       "3    01.데이터\\2.Validation\\원천데이터\\01.가전소음\\01.세탁기,건조기\\0...   \n",
       "4    01.데이터\\2.Validation\\원천데이터\\01.가전소음\\01.세탁기,건조기\\0...   \n",
       "..                                                 ...   \n",
       "247  01.데이터\\2.Validation\\원천데이터\\11.복합소음\\01.2가지이상소음원\\...   \n",
       "248  01.데이터\\2.Validation\\원천데이터\\11.복합소음\\01.2가지이상소음원\\...   \n",
       "249  01.데이터\\2.Validation\\원천데이터\\11.복합소음\\01.2가지이상소음원\\...   \n",
       "250  01.데이터\\2.Validation\\원천데이터\\11.복합소음\\01.2가지이상소음원\\...   \n",
       "251  01.데이터\\2.Validation\\원천데이터\\11.복합소음\\01.2가지이상소음원\\...   \n",
       "\n",
       "                                                  text  \n",
       "0                                               그건 모르죠  \n",
       "1    어 원 플러스 원이라고 해도 지금 행사니까 원 플러스 원인 거지 만약에 따로 사게 ...  \n",
       "2    그래 지금 우리 집사람도 빨리 오고 싶지 나한테 문자로 빨리 갈게 차 끌고 가 이렇...  \n",
       "3    그래 아까 나름대로 작전을 잘 짰던 것 같아 만두부터 먹고 그다음에 맛있는 탕수육까...  \n",
       "4    아니요. 저희는 지금 베란다가. 좀 좁은 편이라서. 빨래 널 공간이 별로 없거든요....  \n",
       "..                                                 ...  \n",
       "247  저도 점심 뭐 먹을지 고민이에요. 우리나라 모든 직장인의 고민인 것 같아요. 점심 ...  \n",
       "248  뭐지? 나한테 하는 소린가 혼잔 말인가? 미친 사람인가. 저기요. 혹시 저한테 하신...  \n",
       "249  그런 데가 있어. 그런 데가 있더라고. 그래서 거기를 예쁘게 잘 꾸며놓고 그래가지고...  \n",
       "250                       아마도 그날을 위해서 세심하게 계획을 세울 것이야.  \n",
       "251  그랬구나. 역시 선배를 많이 생각해줬네 나는 그 선배가 보험쪽 일을 한다고 얘기는 ...  \n",
       "\n",
       "[252 rows x 2 columns]"
      ]
     },
     "execution_count": 42,
     "metadata": {},
     "output_type": "execute_result"
    }
   ],
   "source": [
    "df"
   ]
  },
  {
   "cell_type": "code",
   "execution_count": 63,
   "id": "157e1418-288f-46ce-b060-21b854cb26ca",
   "metadata": {},
   "outputs": [],
   "source": [
    "import os\n",
    "import librosa\n",
    "import shutil\n",
    "import random\n",
    "from tqdm import tqdm\n",
    "\n",
    "def is_json(filename):\n",
    "    return filename[-4:] == 'json'\n",
    "    \n",
    "def is_wav(filename):\n",
    "    return filename[-3:] == 'wav'\n",
    "\n",
    "def denoising(root_dir, save_dir):\n",
    "    len_root_dir = len(root_dir)\n",
    "    for dirpath, dirnames, filenames in os.walk(root_dir):\n",
    "        print(\"Processing:\", dirpath)\n",
    "        num_files = len(filenames)\n",
    "        if num_files > 120:\n",
    "            num_files = 120\n",
    "        with tqdm(total=num_files, desc=\"Denoising\") as pbar:\n",
    "            filenames = random.sample(filenames, num_files)\n",
    "            for filename in filenames:\n",
    "                filepath = os.path.join(dirpath, filename)\n",
    "                newpath = filepath.replace(root_dir, save_dir)\n",
    "                directory, _ = os.path.split(newpath)\n",
    "                if not os.path.exists(directory):\n",
    "                    os.makedirs(directory)\n",
    "                if is_wav(filename):\n",
    "                    # 파일 경로를 포맷팅하여 명령어 문자열을 생성\n",
    "                    command = f\"python ./noise-reduction-master/denoise.py --model=./noise-reduction-master/models/tscn --noisy={filepath} --denoise={newpath}\"\n",
    "\n",
    "                    # 명령어 실행\n",
    "                    exit_code = os.system(command)\n",
    "                    \n",
    "                    # 종료 코드 확인\n",
    "                    if exit_code != 0:\n",
    "                        print(f\"Error: [Errno {exit_code}]\")\n",
    "                    \n",
    "                #elif is_json(filename):\n",
    "                #    shutil.copy(filepath, newpath)\n",
    "                pbar.update(1)\n",
    "    print(\"Done!\")"
   ]
  },
  {
   "cell_type": "code",
   "execution_count": 64,
   "id": "52118431-4fb2-439b-8c0c-b65170aa641c",
   "metadata": {},
   "outputs": [
    {
     "name": "stdout",
     "output_type": "stream",
     "text": [
      "Processing: ./Testset\n"
     ]
    },
    {
     "name": "stderr",
     "output_type": "stream",
     "text": [
      "Denoising: 100%|█| 1/1 [00:00<00:00, 1000.31it/\n"
     ]
    },
    {
     "name": "stdout",
     "output_type": "stream",
     "text": [
      "Processing: ./Testset\\01.데이터\n"
     ]
    },
    {
     "name": "stderr",
     "output_type": "stream",
     "text": [
      "Denoising: 0it [00:00, ?it/s]\n"
     ]
    },
    {
     "name": "stdout",
     "output_type": "stream",
     "text": [
      "Processing: ./Testset\\01.데이터\\2.Validation\n"
     ]
    },
    {
     "name": "stderr",
     "output_type": "stream",
     "text": [
      "Denoising: 0it [00:00, ?it/s]\n"
     ]
    },
    {
     "name": "stdout",
     "output_type": "stream",
     "text": [
      "Processing: ./Testset\\01.데이터\\2.Validation\\라벨링데이터\n"
     ]
    },
    {
     "name": "stderr",
     "output_type": "stream",
     "text": [
      "Denoising: 0it [00:00, ?it/s]\n"
     ]
    },
    {
     "name": "stdout",
     "output_type": "stream",
     "text": [
      "Processing: ./Testset\\01.데이터\\2.Validation\\라벨링데이터\\01.가전소음\n"
     ]
    },
    {
     "name": "stderr",
     "output_type": "stream",
     "text": [
      "Denoising: 0it [00:00, ?it/s]\n"
     ]
    },
    {
     "name": "stdout",
     "output_type": "stream",
     "text": [
      "Processing: ./Testset\\01.데이터\\2.Validation\\라벨링데이터\\01.가전소음\\01.세탁기,건조기\n"
     ]
    },
    {
     "name": "stderr",
     "output_type": "stream",
     "text": [
      "Denoising: 100%|█| 11/11 [00:00<00:00, 3666.93i\n"
     ]
    },
    {
     "name": "stdout",
     "output_type": "stream",
     "text": [
      "Processing: ./Testset\\01.데이터\\2.Validation\\라벨링데이터\\01.가전소음\\02.청소기\n"
     ]
    },
    {
     "name": "stderr",
     "output_type": "stream",
     "text": [
      "Denoising: 100%|█| 10/10 [00:00<00:00, 5000.36i\n"
     ]
    },
    {
     "name": "stdout",
     "output_type": "stream",
     "text": [
      "Processing: ./Testset\\01.데이터\\2.Validation\\라벨링데이터\\01.가전소음\\03.가전소음_기타소음\n"
     ]
    },
    {
     "name": "stderr",
     "output_type": "stream",
     "text": [
      "Denoising: 100%|█| 10/10 [00:00<00:00, 5000.36i\n"
     ]
    },
    {
     "name": "stdout",
     "output_type": "stream",
     "text": [
      "Processing: ./Testset\\01.데이터\\2.Validation\\라벨링데이터\\02.교통수단\n"
     ]
    },
    {
     "name": "stderr",
     "output_type": "stream",
     "text": [
      "Denoising: 0it [00:00, ?it/s]\n"
     ]
    },
    {
     "name": "stdout",
     "output_type": "stream",
     "text": [
      "Processing: ./Testset\\01.데이터\\2.Validation\\라벨링데이터\\02.교통수단\\01.바이크\n"
     ]
    },
    {
     "name": "stderr",
     "output_type": "stream",
     "text": [
      "Denoising: 100%|█| 10/10 [00:00<00:00, 10005.50\n"
     ]
    },
    {
     "name": "stdout",
     "output_type": "stream",
     "text": [
      "Processing: ./Testset\\01.데이터\\2.Validation\\라벨링데이터\\02.교통수단\\02.싸이렌\n"
     ]
    },
    {
     "name": "stderr",
     "output_type": "stream",
     "text": [
      "Denoising: 100%|█| 10/10 [00:00<00:00, 10003.11\n"
     ]
    },
    {
     "name": "stdout",
     "output_type": "stream",
     "text": [
      "Processing: ./Testset\\01.데이터\\2.Validation\\라벨링데이터\\02.교통수단\\03.경적\n"
     ]
    },
    {
     "name": "stderr",
     "output_type": "stream",
     "text": [
      "Denoising: 100%|█| 10/10 [00:00<00:00, 10005.50\n"
     ]
    },
    {
     "name": "stdout",
     "output_type": "stream",
     "text": [
      "Processing: ./Testset\\01.데이터\\2.Validation\\라벨링데이터\\02.교통수단\\04.교통수단_기타소음\n"
     ]
    },
    {
     "name": "stderr",
     "output_type": "stream",
     "text": [
      "Denoising: 100%|█| 10/10 [00:00<00:00, 9998.34i\n"
     ]
    },
    {
     "name": "stdout",
     "output_type": "stream",
     "text": [
      "Processing: ./Testset\\01.데이터\\2.Validation\\라벨링데이터\\03.길거리\n"
     ]
    },
    {
     "name": "stderr",
     "output_type": "stream",
     "text": [
      "Denoising: 0it [00:00, ?it/s]\n"
     ]
    },
    {
     "name": "stdout",
     "output_type": "stream",
     "text": [
      "Processing: ./Testset\\01.데이터\\2.Validation\\라벨링데이터\\03.길거리\\01.도로변\n"
     ]
    },
    {
     "name": "stderr",
     "output_type": "stream",
     "text": [
      "Denoising: 100%|█| 10/10 [00:00<00:00, 5000.36i\n"
     ]
    },
    {
     "name": "stdout",
     "output_type": "stream",
     "text": [
      "Processing: ./Testset\\01.데이터\\2.Validation\\라벨링데이터\\03.길거리\\02.인파\n"
     ]
    },
    {
     "name": "stderr",
     "output_type": "stream",
     "text": [
      "Denoising: 100%|█| 10/10 [00:00<00:00, 4999.77i\n"
     ]
    },
    {
     "name": "stdout",
     "output_type": "stream",
     "text": [
      "Processing: ./Testset\\01.데이터\\2.Validation\\라벨링데이터\\03.길거리\\03.길거리_기타소음\n"
     ]
    },
    {
     "name": "stderr",
     "output_type": "stream",
     "text": [
      "Denoising: 100%|█| 10/10 [00:00<00:00, 4999.77i\n"
     ]
    },
    {
     "name": "stdout",
     "output_type": "stream",
     "text": [
      "Processing: ./Testset\\01.데이터\\2.Validation\\라벨링데이터\\04.카페,음식점\n"
     ]
    },
    {
     "name": "stderr",
     "output_type": "stream",
     "text": [
      "Denoising: 0it [00:00, ?it/s]\n"
     ]
    },
    {
     "name": "stdout",
     "output_type": "stream",
     "text": [
      "Processing: ./Testset\\01.데이터\\2.Validation\\라벨링데이터\\04.카페,음식점\\01.대화소음\n"
     ]
    },
    {
     "name": "stderr",
     "output_type": "stream",
     "text": [
      "Denoising: 100%|█| 10/10 [00:00<00:00, 5000.36i\n"
     ]
    },
    {
     "name": "stdout",
     "output_type": "stream",
     "text": [
      "Processing: ./Testset\\01.데이터\\2.Validation\\라벨링데이터\\04.카페,음식점\\02.업소소음\n"
     ]
    },
    {
     "name": "stderr",
     "output_type": "stream",
     "text": [
      "Denoising: 100%|█| 10/10 [00:00<00:00, 10000.72\n"
     ]
    },
    {
     "name": "stdout",
     "output_type": "stream",
     "text": [
      "Processing: ./Testset\\01.데이터\\2.Validation\\라벨링데이터\\04.카페,음식점\\03.카페,음식점_기타소음\n"
     ]
    },
    {
     "name": "stderr",
     "output_type": "stream",
     "text": [
      "Denoising: 100%|█| 10/10 [00:00<00:00, 10000.72\n"
     ]
    },
    {
     "name": "stdout",
     "output_type": "stream",
     "text": [
      "Processing: ./Testset\\01.데이터\\2.Validation\\라벨링데이터\\05.시장,쇼핑몰\n"
     ]
    },
    {
     "name": "stderr",
     "output_type": "stream",
     "text": [
      "Denoising: 0it [00:00, ?it/s]\n"
     ]
    },
    {
     "name": "stdout",
     "output_type": "stream",
     "text": [
      "Processing: ./Testset\\01.데이터\\2.Validation\\라벨링데이터\\05.시장,쇼핑몰\\01.전통시장\n"
     ]
    },
    {
     "name": "stderr",
     "output_type": "stream",
     "text": [
      "Denoising: 100%|█| 10/10 [00:00<00:00, 9995.96i\n"
     ]
    },
    {
     "name": "stdout",
     "output_type": "stream",
     "text": [
      "Processing: ./Testset\\01.데이터\\2.Validation\\라벨링데이터\\05.시장,쇼핑몰\\02.복합쇼핑몰\n"
     ]
    },
    {
     "name": "stderr",
     "output_type": "stream",
     "text": [
      "Denoising: 100%|█| 10/10 [00:00<00:00, 10000.72\n"
     ]
    },
    {
     "name": "stdout",
     "output_type": "stream",
     "text": [
      "Processing: ./Testset\\01.데이터\\2.Validation\\라벨링데이터\\05.시장,쇼핑몰\\03.시장,쇼핑몰_기타소음\n"
     ]
    },
    {
     "name": "stderr",
     "output_type": "stream",
     "text": [
      "Denoising: 100%|█| 10/10 [00:00<00:00, 5000.96i\n"
     ]
    },
    {
     "name": "stdout",
     "output_type": "stream",
     "text": [
      "Processing: ./Testset\\01.데이터\\2.Validation\\라벨링데이터\\06.지하철,버스\n"
     ]
    },
    {
     "name": "stderr",
     "output_type": "stream",
     "text": [
      "Denoising: 0it [00:00, ?it/s]\n"
     ]
    },
    {
     "name": "stdout",
     "output_type": "stream",
     "text": [
      "Processing: ./Testset\\01.데이터\\2.Validation\\라벨링데이터\\06.지하철,버스\\01.지하철플랫폼\n"
     ]
    },
    {
     "name": "stderr",
     "output_type": "stream",
     "text": [
      "Denoising: 100%|█| 10/10 [00:00<00:00, 9998.34i\n"
     ]
    },
    {
     "name": "stdout",
     "output_type": "stream",
     "text": [
      "Processing: ./Testset\\01.데이터\\2.Validation\\라벨링데이터\\06.지하철,버스\\02.지하철안\n"
     ]
    },
    {
     "name": "stderr",
     "output_type": "stream",
     "text": [
      "Denoising: 100%|█| 10/10 [00:00<00:00, 10000.72\n"
     ]
    },
    {
     "name": "stdout",
     "output_type": "stream",
     "text": [
      "Processing: ./Testset\\01.데이터\\2.Validation\\라벨링데이터\\06.지하철,버스\\03.기차안\n"
     ]
    },
    {
     "name": "stderr",
     "output_type": "stream",
     "text": [
      "Denoising: 100%|█| 10/10 [00:00<00:00, 10000.72\n"
     ]
    },
    {
     "name": "stdout",
     "output_type": "stream",
     "text": [
      "Processing: ./Testset\\01.데이터\\2.Validation\\라벨링데이터\\06.지하철,버스\\04.버스안\n"
     ]
    },
    {
     "name": "stderr",
     "output_type": "stream",
     "text": [
      "Denoising: 100%|█| 10/10 [00:00<00:00, 5000.36i\n"
     ]
    },
    {
     "name": "stdout",
     "output_type": "stream",
     "text": [
      "Processing: ./Testset\\01.데이터\\2.Validation\\라벨링데이터\\07.터미널\n"
     ]
    },
    {
     "name": "stderr",
     "output_type": "stream",
     "text": [
      "Denoising: 0it [00:00, ?it/s]\n"
     ]
    },
    {
     "name": "stdout",
     "output_type": "stream",
     "text": [
      "Processing: ./Testset\\01.데이터\\2.Validation\\라벨링데이터\\07.터미널\\01.기차역대합실\n"
     ]
    },
    {
     "name": "stderr",
     "output_type": "stream",
     "text": [
      "Denoising: 100%|█| 10/10 [00:00<00:00, 4999.77i\n"
     ]
    },
    {
     "name": "stdout",
     "output_type": "stream",
     "text": [
      "Processing: ./Testset\\01.데이터\\2.Validation\\라벨링데이터\\07.터미널\\02.버스터미널대합실\n"
     ]
    },
    {
     "name": "stderr",
     "output_type": "stream",
     "text": [
      "Denoising: 100%|█| 10/10 [00:00<00:00, 10000.72\n"
     ]
    },
    {
     "name": "stdout",
     "output_type": "stream",
     "text": [
      "Processing: ./Testset\\01.데이터\\2.Validation\\라벨링데이터\\07.터미널\\03.터미널_기타소음\n"
     ]
    },
    {
     "name": "stderr",
     "output_type": "stream",
     "text": [
      "Denoising: 100%|█| 10/10 [00:00<00:00, 10000.72\n"
     ]
    },
    {
     "name": "stdout",
     "output_type": "stream",
     "text": [
      "Processing: ./Testset\\01.데이터\\2.Validation\\라벨링데이터\\08.공사장\n"
     ]
    },
    {
     "name": "stderr",
     "output_type": "stream",
     "text": [
      "Denoising: 0it [00:00, ?it/s]\n"
     ]
    },
    {
     "name": "stdout",
     "output_type": "stream",
     "text": [
      "Processing: ./Testset\\01.데이터\\2.Validation\\라벨링데이터\\08.공사장\\01.실외공사장\n"
     ]
    },
    {
     "name": "stderr",
     "output_type": "stream",
     "text": [
      "Denoising: 100%|█| 10/10 [00:00<00:00, 10000.72\n"
     ]
    },
    {
     "name": "stdout",
     "output_type": "stream",
     "text": [
      "Processing: ./Testset\\01.데이터\\2.Validation\\라벨링데이터\\08.공사장\\02.실내공사장\n"
     ]
    },
    {
     "name": "stderr",
     "output_type": "stream",
     "text": [
      "Denoising: 100%|█| 10/10 [00:00<00:00, 5000.36i\n"
     ]
    },
    {
     "name": "stdout",
     "output_type": "stream",
     "text": [
      "Processing: ./Testset\\01.데이터\\2.Validation\\라벨링데이터\\08.공사장\\03.공사장_기타소음\n"
     ]
    },
    {
     "name": "stderr",
     "output_type": "stream",
     "text": [
      "Denoising: 100%|█| 10/10 [00:00<00:00, 10003.11\n"
     ]
    },
    {
     "name": "stdout",
     "output_type": "stream",
     "text": [
      "Processing: ./Testset\\01.데이터\\2.Validation\\라벨링데이터\\09.공장\n"
     ]
    },
    {
     "name": "stderr",
     "output_type": "stream",
     "text": [
      "Denoising: 0it [00:00, ?it/s]\n"
     ]
    },
    {
     "name": "stdout",
     "output_type": "stream",
     "text": [
      "Processing: ./Testset\\01.데이터\\2.Validation\\라벨링데이터\\09.공장\\01.가공공정\n"
     ]
    },
    {
     "name": "stderr",
     "output_type": "stream",
     "text": [
      "Denoising: 100%|█| 10/10 [00:00<00:00, 10000.72\n"
     ]
    },
    {
     "name": "stdout",
     "output_type": "stream",
     "text": [
      "Processing: ./Testset\\01.데이터\\2.Validation\\라벨링데이터\\09.공장\\02.조립공정\n"
     ]
    },
    {
     "name": "stderr",
     "output_type": "stream",
     "text": [
      "Denoising: 100%|█| 10/10 [00:00<00:00, 10000.72\n"
     ]
    },
    {
     "name": "stdout",
     "output_type": "stream",
     "text": [
      "Processing: ./Testset\\01.데이터\\2.Validation\\라벨링데이터\\09.공장\\03.공장_기타소음\n"
     ]
    },
    {
     "name": "stderr",
     "output_type": "stream",
     "text": [
      "Denoising: 100%|█| 10/10 [00:00<00:00, 4999.77i\n"
     ]
    },
    {
     "name": "stdout",
     "output_type": "stream",
     "text": [
      "Processing: ./Testset\\01.데이터\\2.Validation\\라벨링데이터\\10.일반자연\n"
     ]
    },
    {
     "name": "stderr",
     "output_type": "stream",
     "text": [
      "Denoising: 0it [00:00, ?it/s]\n"
     ]
    },
    {
     "name": "stdout",
     "output_type": "stream",
     "text": [
      "Processing: ./Testset\\01.데이터\\2.Validation\\라벨링데이터\\10.일반자연\\01.빗소리\n"
     ]
    },
    {
     "name": "stderr",
     "output_type": "stream",
     "text": [
      "Denoising: 100%|█| 10/10 [00:00<00:00, 10000.72\n"
     ]
    },
    {
     "name": "stdout",
     "output_type": "stream",
     "text": [
      "Processing: ./Testset\\01.데이터\\2.Validation\\라벨링데이터\\10.일반자연\\02.파도\n"
     ]
    },
    {
     "name": "stderr",
     "output_type": "stream",
     "text": [
      "Denoising: 100%|█| 10/10 [00:00<00:00, 10000.72\n"
     ]
    },
    {
     "name": "stdout",
     "output_type": "stream",
     "text": [
      "Processing: ./Testset\\01.데이터\\2.Validation\\라벨링데이터\\10.일반자연\\03.일반자연_기타소음\n"
     ]
    },
    {
     "name": "stderr",
     "output_type": "stream",
     "text": [
      "Denoising: 100%|█| 10/10 [00:00<00:00, 5000.36i\n"
     ]
    },
    {
     "name": "stdout",
     "output_type": "stream",
     "text": [
      "Processing: ./Testset\\01.데이터\\2.Validation\\라벨링데이터\\11.복합소음\n"
     ]
    },
    {
     "name": "stderr",
     "output_type": "stream",
     "text": [
      "Denoising: 0it [00:00, ?it/s]\n"
     ]
    },
    {
     "name": "stdout",
     "output_type": "stream",
     "text": [
      "Processing: ./Testset\\01.데이터\\2.Validation\\라벨링데이터\\11.복합소음\\01.2가지이상소음원\n"
     ]
    },
    {
     "name": "stderr",
     "output_type": "stream",
     "text": [
      "Denoising: 100%|█| 10/10 [00:00<00:00, 10000.72\n"
     ]
    },
    {
     "name": "stdout",
     "output_type": "stream",
     "text": [
      "Processing: ./Testset\\01.데이터\\2.Validation\\원천데이터\n"
     ]
    },
    {
     "name": "stderr",
     "output_type": "stream",
     "text": [
      "Denoising: 0it [00:00, ?it/s]\n"
     ]
    },
    {
     "name": "stdout",
     "output_type": "stream",
     "text": [
      "Processing: ./Testset\\01.데이터\\2.Validation\\원천데이터\\01.가전소음\n"
     ]
    },
    {
     "name": "stderr",
     "output_type": "stream",
     "text": [
      "Denoising: 0it [00:00, ?it/s]\n"
     ]
    },
    {
     "name": "stdout",
     "output_type": "stream",
     "text": [
      "Processing: ./Testset\\01.데이터\\2.Validation\\원천데이터\\01.가전소음\\01.세탁기,건조기\n"
     ]
    },
    {
     "name": "stderr",
     "output_type": "stream",
     "text": [
      "Denoising: 100%|█| 10/10 [00:57<00:00,  5.74s/i\n"
     ]
    },
    {
     "name": "stdout",
     "output_type": "stream",
     "text": [
      "Processing: ./Testset\\01.데이터\\2.Validation\\원천데이터\\01.가전소음\\02.청소기\n"
     ]
    },
    {
     "name": "stderr",
     "output_type": "stream",
     "text": [
      "Denoising: 100%|█| 10/10 [00:56<00:00,  5.66s/i\n"
     ]
    },
    {
     "name": "stdout",
     "output_type": "stream",
     "text": [
      "Processing: ./Testset\\01.데이터\\2.Validation\\원천데이터\\01.가전소음\\03.가전소음_기타소음\n"
     ]
    },
    {
     "name": "stderr",
     "output_type": "stream",
     "text": [
      "Denoising: 100%|█| 10/10 [00:56<00:00,  5.68s/i\n"
     ]
    },
    {
     "name": "stdout",
     "output_type": "stream",
     "text": [
      "Processing: ./Testset\\01.데이터\\2.Validation\\원천데이터\\02.교통수단\n"
     ]
    },
    {
     "name": "stderr",
     "output_type": "stream",
     "text": [
      "Denoising: 0it [00:00, ?it/s]\n"
     ]
    },
    {
     "name": "stdout",
     "output_type": "stream",
     "text": [
      "Processing: ./Testset\\01.데이터\\2.Validation\\원천데이터\\02.교통수단\\01.바이크\n"
     ]
    },
    {
     "name": "stderr",
     "output_type": "stream",
     "text": [
      "Denoising: 100%|█| 10/10 [00:56<00:00,  5.66s/i\n"
     ]
    },
    {
     "name": "stdout",
     "output_type": "stream",
     "text": [
      "Processing: ./Testset\\01.데이터\\2.Validation\\원천데이터\\02.교통수단\\02.싸이렌\n"
     ]
    },
    {
     "name": "stderr",
     "output_type": "stream",
     "text": [
      "Denoising: 100%|█| 10/10 [00:56<00:00,  5.66s/i\n"
     ]
    },
    {
     "name": "stdout",
     "output_type": "stream",
     "text": [
      "Processing: ./Testset\\01.데이터\\2.Validation\\원천데이터\\02.교통수단\\03.경적\n"
     ]
    },
    {
     "name": "stderr",
     "output_type": "stream",
     "text": [
      "Denoising: 100%|█| 10/10 [00:56<00:00,  5.67s/i\n"
     ]
    },
    {
     "name": "stdout",
     "output_type": "stream",
     "text": [
      "Processing: ./Testset\\01.데이터\\2.Validation\\원천데이터\\02.교통수단\\04.교통수단_기타소음\n"
     ]
    },
    {
     "name": "stderr",
     "output_type": "stream",
     "text": [
      "Denoising: 100%|█| 10/10 [00:56<00:00,  5.68s/i\n"
     ]
    },
    {
     "name": "stdout",
     "output_type": "stream",
     "text": [
      "Processing: ./Testset\\01.데이터\\2.Validation\\원천데이터\\03.길거리\n"
     ]
    },
    {
     "name": "stderr",
     "output_type": "stream",
     "text": [
      "Denoising: 0it [00:00, ?it/s]\n"
     ]
    },
    {
     "name": "stdout",
     "output_type": "stream",
     "text": [
      "Processing: ./Testset\\01.데이터\\2.Validation\\원천데이터\\03.길거리\\01.도로변\n"
     ]
    },
    {
     "name": "stderr",
     "output_type": "stream",
     "text": [
      "Denoising: 100%|█| 10/10 [00:56<00:00,  5.67s/i\n"
     ]
    },
    {
     "name": "stdout",
     "output_type": "stream",
     "text": [
      "Processing: ./Testset\\01.데이터\\2.Validation\\원천데이터\\03.길거리\\02.인파\n"
     ]
    },
    {
     "name": "stderr",
     "output_type": "stream",
     "text": [
      "Denoising: 100%|█| 10/10 [00:56<00:00,  5.68s/i\n"
     ]
    },
    {
     "name": "stdout",
     "output_type": "stream",
     "text": [
      "Processing: ./Testset\\01.데이터\\2.Validation\\원천데이터\\03.길거리\\03.길거리_기타소음\n"
     ]
    },
    {
     "name": "stderr",
     "output_type": "stream",
     "text": [
      "Denoising: 100%|█| 10/10 [00:56<00:00,  5.62s/i\n"
     ]
    },
    {
     "name": "stdout",
     "output_type": "stream",
     "text": [
      "Processing: ./Testset\\01.데이터\\2.Validation\\원천데이터\\04.카페,음식점\n"
     ]
    },
    {
     "name": "stderr",
     "output_type": "stream",
     "text": [
      "Denoising: 0it [00:00, ?it/s]\n"
     ]
    },
    {
     "name": "stdout",
     "output_type": "stream",
     "text": [
      "Processing: ./Testset\\01.데이터\\2.Validation\\원천데이터\\04.카페,음식점\\01.대화소음\n"
     ]
    },
    {
     "name": "stderr",
     "output_type": "stream",
     "text": [
      "Denoising: 100%|█| 10/10 [00:56<00:00,  5.64s/i\n"
     ]
    },
    {
     "name": "stdout",
     "output_type": "stream",
     "text": [
      "Processing: ./Testset\\01.데이터\\2.Validation\\원천데이터\\04.카페,음식점\\02.업소소음\n"
     ]
    },
    {
     "name": "stderr",
     "output_type": "stream",
     "text": [
      "Denoising: 100%|█| 10/10 [00:55<00:00,  5.59s/i\n"
     ]
    },
    {
     "name": "stdout",
     "output_type": "stream",
     "text": [
      "Processing: ./Testset\\01.데이터\\2.Validation\\원천데이터\\04.카페,음식점\\03.카페,음식점_기타소음\n"
     ]
    },
    {
     "name": "stderr",
     "output_type": "stream",
     "text": [
      "Denoising: 100%|█| 10/10 [00:56<00:00,  5.64s/i\n"
     ]
    },
    {
     "name": "stdout",
     "output_type": "stream",
     "text": [
      "Processing: ./Testset\\01.데이터\\2.Validation\\원천데이터\\05.시장,쇼핑몰\n"
     ]
    },
    {
     "name": "stderr",
     "output_type": "stream",
     "text": [
      "Denoising: 0it [00:00, ?it/s]\n"
     ]
    },
    {
     "name": "stdout",
     "output_type": "stream",
     "text": [
      "Processing: ./Testset\\01.데이터\\2.Validation\\원천데이터\\05.시장,쇼핑몰\\01.전통시장\n"
     ]
    },
    {
     "name": "stderr",
     "output_type": "stream",
     "text": [
      "Denoising: 100%|█| 10/10 [00:56<00:00,  5.62s/i\n"
     ]
    },
    {
     "name": "stdout",
     "output_type": "stream",
     "text": [
      "Processing: ./Testset\\01.데이터\\2.Validation\\원천데이터\\05.시장,쇼핑몰\\02.복합쇼핑몰\n"
     ]
    },
    {
     "name": "stderr",
     "output_type": "stream",
     "text": [
      "Denoising: 100%|█| 10/10 [00:56<00:00,  5.63s/i\n"
     ]
    },
    {
     "name": "stdout",
     "output_type": "stream",
     "text": [
      "Processing: ./Testset\\01.데이터\\2.Validation\\원천데이터\\05.시장,쇼핑몰\\03.시장,쇼핑몰_기타소음\n"
     ]
    },
    {
     "name": "stderr",
     "output_type": "stream",
     "text": [
      "Denoising: 100%|█| 10/10 [00:58<00:00,  5.82s/i\n"
     ]
    },
    {
     "name": "stdout",
     "output_type": "stream",
     "text": [
      "Processing: ./Testset\\01.데이터\\2.Validation\\원천데이터\\06.지하철,버스\n"
     ]
    },
    {
     "name": "stderr",
     "output_type": "stream",
     "text": [
      "Denoising: 0it [00:00, ?it/s]\n"
     ]
    },
    {
     "name": "stdout",
     "output_type": "stream",
     "text": [
      "Processing: ./Testset\\01.데이터\\2.Validation\\원천데이터\\06.지하철,버스\\01.지하철플랫폼\n"
     ]
    },
    {
     "name": "stderr",
     "output_type": "stream",
     "text": [
      "Denoising: 100%|█| 10/10 [00:55<00:00,  5.60s/i\n"
     ]
    },
    {
     "name": "stdout",
     "output_type": "stream",
     "text": [
      "Processing: ./Testset\\01.데이터\\2.Validation\\원천데이터\\06.지하철,버스\\02.지하철안\n"
     ]
    },
    {
     "name": "stderr",
     "output_type": "stream",
     "text": [
      "Denoising: 100%|█| 10/10 [00:55<00:00,  5.59s/i\n"
     ]
    },
    {
     "name": "stdout",
     "output_type": "stream",
     "text": [
      "Processing: ./Testset\\01.데이터\\2.Validation\\원천데이터\\06.지하철,버스\\03.기차안\n"
     ]
    },
    {
     "name": "stderr",
     "output_type": "stream",
     "text": [
      "Denoising: 100%|█| 10/10 [00:56<00:00,  5.62s/i\n"
     ]
    },
    {
     "name": "stdout",
     "output_type": "stream",
     "text": [
      "Processing: ./Testset\\01.데이터\\2.Validation\\원천데이터\\06.지하철,버스\\04.버스안\n"
     ]
    },
    {
     "name": "stderr",
     "output_type": "stream",
     "text": [
      "Denoising: 100%|█| 10/10 [00:56<00:00,  5.60s/i\n"
     ]
    },
    {
     "name": "stdout",
     "output_type": "stream",
     "text": [
      "Processing: ./Testset\\01.데이터\\2.Validation\\원천데이터\\07.터미널\n"
     ]
    },
    {
     "name": "stderr",
     "output_type": "stream",
     "text": [
      "Denoising: 0it [00:00, ?it/s]\n"
     ]
    },
    {
     "name": "stdout",
     "output_type": "stream",
     "text": [
      "Processing: ./Testset\\01.데이터\\2.Validation\\원천데이터\\07.터미널\\01.기차역대합실\n"
     ]
    },
    {
     "name": "stderr",
     "output_type": "stream",
     "text": [
      "Denoising: 100%|█| 10/10 [00:56<00:00,  5.63s/i\n"
     ]
    },
    {
     "name": "stdout",
     "output_type": "stream",
     "text": [
      "Processing: ./Testset\\01.데이터\\2.Validation\\원천데이터\\07.터미널\\02.버스터미널대합실\n"
     ]
    },
    {
     "name": "stderr",
     "output_type": "stream",
     "text": [
      "Denoising: 100%|█| 10/10 [00:56<00:00,  5.64s/i\n"
     ]
    },
    {
     "name": "stdout",
     "output_type": "stream",
     "text": [
      "Processing: ./Testset\\01.데이터\\2.Validation\\원천데이터\\07.터미널\\03.터미널_기타소음\n"
     ]
    },
    {
     "name": "stderr",
     "output_type": "stream",
     "text": [
      "Denoising: 100%|█| 10/10 [00:54<00:00,  5.49s/i\n"
     ]
    },
    {
     "name": "stdout",
     "output_type": "stream",
     "text": [
      "Processing: ./Testset\\01.데이터\\2.Validation\\원천데이터\\08.공사장\n"
     ]
    },
    {
     "name": "stderr",
     "output_type": "stream",
     "text": [
      "Denoising: 0it [00:00, ?it/s]\n"
     ]
    },
    {
     "name": "stdout",
     "output_type": "stream",
     "text": [
      "Processing: ./Testset\\01.데이터\\2.Validation\\원천데이터\\08.공사장\\01.실외공사장\n"
     ]
    },
    {
     "name": "stderr",
     "output_type": "stream",
     "text": [
      "Denoising: 100%|█| 10/10 [00:54<00:00,  5.43s/i\n"
     ]
    },
    {
     "name": "stdout",
     "output_type": "stream",
     "text": [
      "Processing: ./Testset\\01.데이터\\2.Validation\\원천데이터\\08.공사장\\02.실내공사장\n"
     ]
    },
    {
     "name": "stderr",
     "output_type": "stream",
     "text": [
      "Denoising: 100%|█| 10/10 [00:54<00:00,  5.43s/i\n"
     ]
    },
    {
     "name": "stdout",
     "output_type": "stream",
     "text": [
      "Processing: ./Testset\\01.데이터\\2.Validation\\원천데이터\\08.공사장\\03.공사장_기타소음\n"
     ]
    },
    {
     "name": "stderr",
     "output_type": "stream",
     "text": [
      "Denoising: 100%|█| 10/10 [00:54<00:00,  5.42s/i\n"
     ]
    },
    {
     "name": "stdout",
     "output_type": "stream",
     "text": [
      "Processing: ./Testset\\01.데이터\\2.Validation\\원천데이터\\09.공장\n"
     ]
    },
    {
     "name": "stderr",
     "output_type": "stream",
     "text": [
      "Denoising: 0it [00:00, ?it/s]\n"
     ]
    },
    {
     "name": "stdout",
     "output_type": "stream",
     "text": [
      "Processing: ./Testset\\01.데이터\\2.Validation\\원천데이터\\09.공장\\01.가공공정\n"
     ]
    },
    {
     "name": "stderr",
     "output_type": "stream",
     "text": [
      "Denoising: 100%|█| 10/10 [00:54<00:00,  5.41s/i\n"
     ]
    },
    {
     "name": "stdout",
     "output_type": "stream",
     "text": [
      "Processing: ./Testset\\01.데이터\\2.Validation\\원천데이터\\09.공장\\02.조립공정\n"
     ]
    },
    {
     "name": "stderr",
     "output_type": "stream",
     "text": [
      "Denoising: 100%|█| 10/10 [00:54<00:00,  5.49s/i\n"
     ]
    },
    {
     "name": "stdout",
     "output_type": "stream",
     "text": [
      "Processing: ./Testset\\01.데이터\\2.Validation\\원천데이터\\09.공장\\03.공장_기타소음\n"
     ]
    },
    {
     "name": "stderr",
     "output_type": "stream",
     "text": [
      "Denoising: 100%|█| 10/10 [00:54<00:00,  5.47s/i\n"
     ]
    },
    {
     "name": "stdout",
     "output_type": "stream",
     "text": [
      "Processing: ./Testset\\01.데이터\\2.Validation\\원천데이터\\10.일반자연\n"
     ]
    },
    {
     "name": "stderr",
     "output_type": "stream",
     "text": [
      "Denoising: 0it [00:00, ?it/s]\n"
     ]
    },
    {
     "name": "stdout",
     "output_type": "stream",
     "text": [
      "Processing: ./Testset\\01.데이터\\2.Validation\\원천데이터\\10.일반자연\\01.빗소리\n"
     ]
    },
    {
     "name": "stderr",
     "output_type": "stream",
     "text": [
      "Denoising: 100%|█| 10/10 [00:54<00:00,  5.45s/i\n"
     ]
    },
    {
     "name": "stdout",
     "output_type": "stream",
     "text": [
      "Processing: ./Testset\\01.데이터\\2.Validation\\원천데이터\\10.일반자연\\02.파도\n"
     ]
    },
    {
     "name": "stderr",
     "output_type": "stream",
     "text": [
      "Denoising: 100%|█| 10/10 [00:54<00:00,  5.42s/i\n"
     ]
    },
    {
     "name": "stdout",
     "output_type": "stream",
     "text": [
      "Processing: ./Testset\\01.데이터\\2.Validation\\원천데이터\\10.일반자연\\03.일반자연_기타소음\n"
     ]
    },
    {
     "name": "stderr",
     "output_type": "stream",
     "text": [
      "Denoising: 100%|█| 10/10 [00:54<00:00,  5.43s/i\n"
     ]
    },
    {
     "name": "stdout",
     "output_type": "stream",
     "text": [
      "Processing: ./Testset\\01.데이터\\2.Validation\\원천데이터\\11.복합소음\n"
     ]
    },
    {
     "name": "stderr",
     "output_type": "stream",
     "text": [
      "Denoising: 0it [00:00, ?it/s]\n"
     ]
    },
    {
     "name": "stdout",
     "output_type": "stream",
     "text": [
      "Processing: ./Testset\\01.데이터\\2.Validation\\원천데이터\\11.복합소음\\01.2가지이상소음원\n"
     ]
    },
    {
     "name": "stderr",
     "output_type": "stream",
     "text": [
      "Denoising: 100%|█| 10/10 [00:54<00:00,  5.42s/i"
     ]
    },
    {
     "name": "stdout",
     "output_type": "stream",
     "text": [
      "Done!\n"
     ]
    },
    {
     "name": "stderr",
     "output_type": "stream",
     "text": [
      "\n"
     ]
    }
   ],
   "source": [
    "denoising(\"./Testset\", \"./Testset_Denoising\")"
   ]
  },
  {
   "cell_type": "code",
   "execution_count": 43,
   "id": "79bc6dbb-d763-423d-8473-cf216b3a5a9a",
   "metadata": {},
   "outputs": [],
   "source": [
    "import os\n",
    "import json\n",
    "from tqdm import tqdm\n",
    "\n",
    "def is_json(filename):\n",
    "    return filename[-4:] == 'json'\n",
    "\n",
    "def list_files_and_directories(root_dir):\n",
    "    wav_filepath_list = []\n",
    "    text_list = []\n",
    "    root_dir_len = len(root_dir)\n",
    "    for dirpath, dirnames, filenames in os.walk(root_dir):\n",
    "        print(\"Processing:\", dirpath)\n",
    "        num_files = len(filenames)\n",
    "        with tqdm(total=num_files, desc=\"Rasampling files in progress\") as pbar:\n",
    "            n = 0\n",
    "            for filename in filenames:\n",
    "                if is_json(filename):\n",
    "                    filepath = os.path.join(dirpath, filename)\n",
    "                    with open(filepath, \"r\", encoding=\"utf-8\") as json_file:\n",
    "                        data = json.load(json_file)\n",
    "                        text = data[\"annotations\"][\"note\"]\n",
    "                    \n",
    "                    wav_filename = filename.replace('.json', '.wav')\n",
    "                    wav_filepath = dirpath.replace('라벨링', '원천')\n",
    "                    wav_filepath = os.path.join(wav_filepath, wav_filename)\n",
    "                    \n",
    "                    if os.path.exists(wav_filepath):\n",
    "                        wav_filepath_list.append(wav_filepath[root_dir_len+1:])\n",
    "                        text_list.append(text)\n",
    "                        n += 1\n",
    "                pbar.update(1)\n",
    "            print(f\"Success: {n}/{len(filenames)}\")\n",
    "                    \n",
    "    print(\"Done!\")\n",
    "    return wav_filepath_list, text_list"
   ]
  },
  {
   "cell_type": "code",
   "execution_count": 44,
   "id": "b3bb877e-c2fe-4567-9ae4-03a026982820",
   "metadata": {},
   "outputs": [
    {
     "name": "stdout",
     "output_type": "stream",
     "text": [
      "Processing: ./Testset_Denoising\n"
     ]
    },
    {
     "name": "stderr",
     "output_type": "stream",
     "text": [
      "Rasampling files in progress: 100%|██████████████████████████████████████████████████████████████| 1/1 [00:00<?, ?it/s]\n"
     ]
    },
    {
     "name": "stdout",
     "output_type": "stream",
     "text": [
      "Success: 0/1\n",
      "Processing: ./Testset_Denoising\\01.데이터\n"
     ]
    },
    {
     "name": "stderr",
     "output_type": "stream",
     "text": [
      "Rasampling files in progress: 0it [00:00, ?it/s]\n"
     ]
    },
    {
     "name": "stdout",
     "output_type": "stream",
     "text": [
      "Success: 0/0\n",
      "Processing: ./Testset_Denoising\\01.데이터\\2.Validation\n"
     ]
    },
    {
     "name": "stderr",
     "output_type": "stream",
     "text": [
      "Rasampling files in progress: 0it [00:00, ?it/s]\n"
     ]
    },
    {
     "name": "stdout",
     "output_type": "stream",
     "text": [
      "Success: 0/0\n",
      "Processing: ./Testset_Denoising\\01.데이터\\2.Validation\\라벨링데이터\n"
     ]
    },
    {
     "name": "stderr",
     "output_type": "stream",
     "text": [
      "Rasampling files in progress: 0it [00:00, ?it/s]\n"
     ]
    },
    {
     "name": "stdout",
     "output_type": "stream",
     "text": [
      "Success: 0/0\n",
      "Processing: ./Testset_Denoising\\01.데이터\\2.Validation\\라벨링데이터\\01.가전소음\n"
     ]
    },
    {
     "name": "stderr",
     "output_type": "stream",
     "text": [
      "Rasampling files in progress: 0it [00:00, ?it/s]\n"
     ]
    },
    {
     "name": "stdout",
     "output_type": "stream",
     "text": [
      "Success: 0/0\n",
      "Processing: ./Testset_Denoising\\01.데이터\\2.Validation\\라벨링데이터\\01.가전소음\\01.세탁기,건조기\n"
     ]
    },
    {
     "name": "stderr",
     "output_type": "stream",
     "text": [
      "Rasampling files in progress: 100%|███████████████████████████████████████████████████| 11/11 [00:00<00:00, 956.00it/s]\n"
     ]
    },
    {
     "name": "stdout",
     "output_type": "stream",
     "text": [
      "Success: 8/11\n",
      "Processing: ./Testset_Denoising\\01.데이터\\2.Validation\\라벨링데이터\\01.가전소음\\02.청소기\n"
     ]
    },
    {
     "name": "stderr",
     "output_type": "stream",
     "text": [
      "Rasampling files in progress: 100%|███████████████████████████████████████████████████| 10/10 [00:00<00:00, 908.13it/s]\n"
     ]
    },
    {
     "name": "stdout",
     "output_type": "stream",
     "text": [
      "Success: 10/10\n",
      "Processing: ./Testset_Denoising\\01.데이터\\2.Validation\\라벨링데이터\\01.가전소음\\03.가전소음_기타소음\n"
     ]
    },
    {
     "name": "stderr",
     "output_type": "stream",
     "text": [
      "Rasampling files in progress: 100%|███████████████████████████████████████████████████| 10/10 [00:00<00:00, 951.59it/s]\n"
     ]
    },
    {
     "name": "stdout",
     "output_type": "stream",
     "text": [
      "Success: 10/10\n",
      "Processing: ./Testset_Denoising\\01.데이터\\2.Validation\\라벨링데이터\\02.교통수단\n"
     ]
    },
    {
     "name": "stderr",
     "output_type": "stream",
     "text": [
      "Rasampling files in progress: 0it [00:00, ?it/s]\n"
     ]
    },
    {
     "name": "stdout",
     "output_type": "stream",
     "text": [
      "Success: 0/0\n",
      "Processing: ./Testset_Denoising\\01.데이터\\2.Validation\\라벨링데이터\\02.교통수단\\01.바이크\n"
     ]
    },
    {
     "name": "stderr",
     "output_type": "stream",
     "text": [
      "Rasampling files in progress: 100%|██████████████████████████████████████████████████| 10/10 [00:00<00:00, 1091.13it/s]\n"
     ]
    },
    {
     "name": "stdout",
     "output_type": "stream",
     "text": [
      "Success: 5/10\n",
      "Processing: ./Testset_Denoising\\01.데이터\\2.Validation\\라벨링데이터\\02.교통수단\\02.싸이렌\n"
     ]
    },
    {
     "name": "stderr",
     "output_type": "stream",
     "text": [
      "Rasampling files in progress: 100%|██████████████████████████████████████████████████| 10/10 [00:00<00:00, 1260.57it/s]\n"
     ]
    },
    {
     "name": "stdout",
     "output_type": "stream",
     "text": [
      "Success: 3/10\n",
      "Processing: ./Testset_Denoising\\01.데이터\\2.Validation\\라벨링데이터\\02.교통수단\\03.경적\n"
     ]
    },
    {
     "name": "stderr",
     "output_type": "stream",
     "text": [
      "Rasampling files in progress: 100%|██████████████████████████████████████████████████| 10/10 [00:00<00:00, 1090.02it/s]\n"
     ]
    },
    {
     "name": "stdout",
     "output_type": "stream",
     "text": [
      "Success: 6/10\n",
      "Processing: ./Testset_Denoising\\01.데이터\\2.Validation\\라벨링데이터\\02.교통수단\\04.교통수단_기타소음\n"
     ]
    },
    {
     "name": "stderr",
     "output_type": "stream",
     "text": [
      "Rasampling files in progress: 100%|██████████████████████████████████████████████████| 10/10 [00:00<00:00, 1326.35it/s]\n"
     ]
    },
    {
     "name": "stdout",
     "output_type": "stream",
     "text": [
      "Success: 6/10\n",
      "Processing: ./Testset_Denoising\\01.데이터\\2.Validation\\라벨링데이터\\03.길거리\n"
     ]
    },
    {
     "name": "stderr",
     "output_type": "stream",
     "text": [
      "Rasampling files in progress: 0it [00:00, ?it/s]\n"
     ]
    },
    {
     "name": "stdout",
     "output_type": "stream",
     "text": [
      "Success: 0/0\n",
      "Processing: ./Testset_Denoising\\01.데이터\\2.Validation\\라벨링데이터\\03.길거리\\01.도로변\n"
     ]
    },
    {
     "name": "stderr",
     "output_type": "stream",
     "text": [
      "Rasampling files in progress: 100%|███████████████████████████████████████████████████| 10/10 [00:00<00:00, 980.05it/s]\n"
     ]
    },
    {
     "name": "stdout",
     "output_type": "stream",
     "text": [
      "Success: 9/10\n",
      "Processing: ./Testset_Denoising\\01.데이터\\2.Validation\\라벨링데이터\\03.길거리\\02.인파\n"
     ]
    },
    {
     "name": "stderr",
     "output_type": "stream",
     "text": [
      "Rasampling files in progress: 100%|██████████████████████████████████████████████████| 10/10 [00:00<00:00, 1142.77it/s]\n"
     ]
    },
    {
     "name": "stdout",
     "output_type": "stream",
     "text": [
      "Success: 4/10\n",
      "Processing: ./Testset_Denoising\\01.데이터\\2.Validation\\라벨링데이터\\03.길거리\\03.길거리_기타소음\n"
     ]
    },
    {
     "name": "stderr",
     "output_type": "stream",
     "text": [
      "Rasampling files in progress: 100%|██████████████████████████████████████████████████| 10/10 [00:00<00:00, 1146.36it/s]\n"
     ]
    },
    {
     "name": "stdout",
     "output_type": "stream",
     "text": [
      "Success: 8/10\n",
      "Processing: ./Testset_Denoising\\01.데이터\\2.Validation\\라벨링데이터\\04.카페,음식점\n"
     ]
    },
    {
     "name": "stderr",
     "output_type": "stream",
     "text": [
      "Rasampling files in progress: 0it [00:00, ?it/s]\n"
     ]
    },
    {
     "name": "stdout",
     "output_type": "stream",
     "text": [
      "Success: 0/0\n",
      "Processing: ./Testset_Denoising\\01.데이터\\2.Validation\\라벨링데이터\\04.카페,음식점\\01.대화소음\n"
     ]
    },
    {
     "name": "stderr",
     "output_type": "stream",
     "text": [
      "Rasampling files in progress: 100%|██████████████████████████████████████████████████| 10/10 [00:00<00:00, 1152.53it/s]\n"
     ]
    },
    {
     "name": "stdout",
     "output_type": "stream",
     "text": [
      "Success: 10/10\n",
      "Processing: ./Testset_Denoising\\01.데이터\\2.Validation\\라벨링데이터\\04.카페,음식점\\02.업소소음\n"
     ]
    },
    {
     "name": "stderr",
     "output_type": "stream",
     "text": [
      "Rasampling files in progress: 100%|██████████████████████████████████████████████████| 10/10 [00:00<00:00, 1332.46it/s]\n"
     ]
    },
    {
     "name": "stdout",
     "output_type": "stream",
     "text": [
      "Success: 10/10\n",
      "Processing: ./Testset_Denoising\\01.데이터\\2.Validation\\라벨링데이터\\04.카페,음식점\\03.카페,음식점_기타소음\n"
     ]
    },
    {
     "name": "stderr",
     "output_type": "stream",
     "text": [
      "Rasampling files in progress: 100%|██████████████████████████████████████████████████| 10/10 [00:00<00:00, 1666.59it/s]\n"
     ]
    },
    {
     "name": "stdout",
     "output_type": "stream",
     "text": [
      "Success: 8/10\n",
      "Processing: ./Testset_Denoising\\01.데이터\\2.Validation\\라벨링데이터\\05.시장,쇼핑몰\n"
     ]
    },
    {
     "name": "stderr",
     "output_type": "stream",
     "text": [
      "Rasampling files in progress: 0it [00:00, ?it/s]\n"
     ]
    },
    {
     "name": "stdout",
     "output_type": "stream",
     "text": [
      "Success: 0/0\n",
      "Processing: ./Testset_Denoising\\01.데이터\\2.Validation\\라벨링데이터\\05.시장,쇼핑몰\\01.전통시장\n"
     ]
    },
    {
     "name": "stderr",
     "output_type": "stream",
     "text": [
      "Rasampling files in progress: 100%|██████████████████████████████████████████████████| 10/10 [00:00<00:00, 1428.48it/s]\n"
     ]
    },
    {
     "name": "stdout",
     "output_type": "stream",
     "text": [
      "Success: 7/10\n",
      "Processing: ./Testset_Denoising\\01.데이터\\2.Validation\\라벨링데이터\\05.시장,쇼핑몰\\02.복합쇼핑몰\n"
     ]
    },
    {
     "name": "stderr",
     "output_type": "stream",
     "text": [
      "Rasampling files in progress: 100%|██████████████████████████████████████████████████| 10/10 [00:00<00:00, 1242.02it/s]\n"
     ]
    },
    {
     "name": "stdout",
     "output_type": "stream",
     "text": [
      "Success: 9/10\n",
      "Processing: ./Testset_Denoising\\01.데이터\\2.Validation\\라벨링데이터\\05.시장,쇼핑몰\\03.시장,쇼핑몰_기타소음\n"
     ]
    },
    {
     "name": "stderr",
     "output_type": "stream",
     "text": [
      "Rasampling files in progress: 100%|██████████████████████████████████████████████████| 10/10 [00:00<00:00, 1130.27it/s]"
     ]
    },
    {
     "name": "stdout",
     "output_type": "stream",
     "text": [
      "Success: 10/10\n"
     ]
    },
    {
     "name": "stderr",
     "output_type": "stream",
     "text": [
      "\n"
     ]
    },
    {
     "name": "stdout",
     "output_type": "stream",
     "text": [
      "Processing: ./Testset_Denoising\\01.데이터\\2.Validation\\라벨링데이터\\06.지하철,버스\n"
     ]
    },
    {
     "name": "stderr",
     "output_type": "stream",
     "text": [
      "Rasampling files in progress: 0it [00:00, ?it/s]\n"
     ]
    },
    {
     "name": "stdout",
     "output_type": "stream",
     "text": [
      "Success: 0/0\n",
      "Processing: ./Testset_Denoising\\01.데이터\\2.Validation\\라벨링데이터\\06.지하철,버스\\01.지하철플랫폼\n"
     ]
    },
    {
     "name": "stderr",
     "output_type": "stream",
     "text": [
      "Rasampling files in progress: 100%|██████████████████████████████████████████████████| 10/10 [00:00<00:00, 1428.43it/s]\n"
     ]
    },
    {
     "name": "stdout",
     "output_type": "stream",
     "text": [
      "Success: 8/10\n",
      "Processing: ./Testset_Denoising\\01.데이터\\2.Validation\\라벨링데이터\\06.지하철,버스\\02.지하철안\n"
     ]
    },
    {
     "name": "stderr",
     "output_type": "stream",
     "text": [
      "Rasampling files in progress: 100%|██████████████████████████████████████████████████| 10/10 [00:00<00:00, 1230.47it/s]"
     ]
    },
    {
     "name": "stdout",
     "output_type": "stream",
     "text": [
      "Success: 10/10\n"
     ]
    },
    {
     "name": "stderr",
     "output_type": "stream",
     "text": [
      "\n"
     ]
    },
    {
     "name": "stdout",
     "output_type": "stream",
     "text": [
      "Processing: ./Testset_Denoising\\01.데이터\\2.Validation\\라벨링데이터\\06.지하철,버스\\03.기차안\n"
     ]
    },
    {
     "name": "stderr",
     "output_type": "stream",
     "text": [
      "Rasampling files in progress: 100%|██████████████████████████████████████████████████| 10/10 [00:00<00:00, 1388.34it/s]"
     ]
    },
    {
     "name": "stdout",
     "output_type": "stream",
     "text": [
      "Success: 3/10\n"
     ]
    },
    {
     "name": "stderr",
     "output_type": "stream",
     "text": [
      "\n"
     ]
    },
    {
     "name": "stdout",
     "output_type": "stream",
     "text": [
      "Processing: ./Testset_Denoising\\01.데이터\\2.Validation\\라벨링데이터\\06.지하철,버스\\04.버스안\n"
     ]
    },
    {
     "name": "stderr",
     "output_type": "stream",
     "text": [
      "Rasampling files in progress: 100%|██████████████████████████████████████████████████| 10/10 [00:00<00:00, 1310.97it/s]\n"
     ]
    },
    {
     "name": "stdout",
     "output_type": "stream",
     "text": [
      "Success: 8/10\n",
      "Processing: ./Testset_Denoising\\01.데이터\\2.Validation\\라벨링데이터\\07.터미널\n"
     ]
    },
    {
     "name": "stderr",
     "output_type": "stream",
     "text": [
      "Rasampling files in progress: 0it [00:00, ?it/s]\n"
     ]
    },
    {
     "name": "stdout",
     "output_type": "stream",
     "text": [
      "Success: 0/0\n",
      "Processing: ./Testset_Denoising\\01.데이터\\2.Validation\\라벨링데이터\\07.터미널\\01.기차역대합실\n"
     ]
    },
    {
     "name": "stderr",
     "output_type": "stream",
     "text": [
      "Rasampling files in progress: 100%|██████████████████████████████████████████████████| 10/10 [00:00<00:00, 1218.57it/s]"
     ]
    },
    {
     "name": "stdout",
     "output_type": "stream",
     "text": [
      "Success: 10/10\n"
     ]
    },
    {
     "name": "stderr",
     "output_type": "stream",
     "text": [
      "\n"
     ]
    },
    {
     "name": "stdout",
     "output_type": "stream",
     "text": [
      "Processing: ./Testset_Denoising\\01.데이터\\2.Validation\\라벨링데이터\\07.터미널\\02.버스터미널대합실\n"
     ]
    },
    {
     "name": "stderr",
     "output_type": "stream",
     "text": [
      "Rasampling files in progress: 100%|██████████████████████████████████████████████████| 10/10 [00:00<00:00, 1559.74it/s]\n"
     ]
    },
    {
     "name": "stdout",
     "output_type": "stream",
     "text": [
      "Success: 10/10\n",
      "Processing: ./Testset_Denoising\\01.데이터\\2.Validation\\라벨링데이터\\07.터미널\\03.터미널_기타소음\n"
     ]
    },
    {
     "name": "stderr",
     "output_type": "stream",
     "text": [
      "Rasampling files in progress: 100%|███████████████████████████████████████████████████| 10/10 [00:00<00:00, 952.06it/s]"
     ]
    },
    {
     "name": "stdout",
     "output_type": "stream",
     "text": [
      "Success: 6/10\n"
     ]
    },
    {
     "name": "stderr",
     "output_type": "stream",
     "text": [
      "\n"
     ]
    },
    {
     "name": "stdout",
     "output_type": "stream",
     "text": [
      "Processing: ./Testset_Denoising\\01.데이터\\2.Validation\\라벨링데이터\\08.공사장\n"
     ]
    },
    {
     "name": "stderr",
     "output_type": "stream",
     "text": [
      "Rasampling files in progress: 0it [00:00, ?it/s]\n"
     ]
    },
    {
     "name": "stdout",
     "output_type": "stream",
     "text": [
      "Success: 0/0\n",
      "Processing: ./Testset_Denoising\\01.데이터\\2.Validation\\라벨링데이터\\08.공사장\\01.실외공사장\n"
     ]
    },
    {
     "name": "stderr",
     "output_type": "stream",
     "text": [
      "Rasampling files in progress: 100%|██████████████████████████████████████████████████| 10/10 [00:00<00:00, 1113.37it/s]\n"
     ]
    },
    {
     "name": "stdout",
     "output_type": "stream",
     "text": [
      "Success: 8/10\n",
      "Processing: ./Testset_Denoising\\01.데이터\\2.Validation\\라벨링데이터\\08.공사장\\02.실내공사장\n"
     ]
    },
    {
     "name": "stderr",
     "output_type": "stream",
     "text": [
      "Rasampling files in progress: 100%|██████████████████████████████████████████████████| 10/10 [00:00<00:00, 1688.19it/s]"
     ]
    },
    {
     "name": "stdout",
     "output_type": "stream",
     "text": [
      "Success: 4/10\n"
     ]
    },
    {
     "name": "stderr",
     "output_type": "stream",
     "text": [
      "\n"
     ]
    },
    {
     "name": "stdout",
     "output_type": "stream",
     "text": [
      "Processing: ./Testset_Denoising\\01.데이터\\2.Validation\\라벨링데이터\\08.공사장\\03.공사장_기타소음\n"
     ]
    },
    {
     "name": "stderr",
     "output_type": "stream",
     "text": [
      "Rasampling files in progress: 100%|██████████████████████████████████████████████████| 10/10 [00:00<00:00, 1323.63it/s]\n"
     ]
    },
    {
     "name": "stdout",
     "output_type": "stream",
     "text": [
      "Success: 7/10\n",
      "Processing: ./Testset_Denoising\\01.데이터\\2.Validation\\라벨링데이터\\09.공장\n"
     ]
    },
    {
     "name": "stderr",
     "output_type": "stream",
     "text": [
      "Rasampling files in progress: 0it [00:00, ?it/s]\n"
     ]
    },
    {
     "name": "stdout",
     "output_type": "stream",
     "text": [
      "Success: 0/0\n",
      "Processing: ./Testset_Denoising\\01.데이터\\2.Validation\\라벨링데이터\\09.공장\\01.가공공정\n"
     ]
    },
    {
     "name": "stderr",
     "output_type": "stream",
     "text": [
      "Rasampling files in progress: 100%|██████████████████████████████████████████████████| 10/10 [00:00<00:00, 1083.35it/s]"
     ]
    },
    {
     "name": "stdout",
     "output_type": "stream",
     "text": [
      "Success: 8/10\n"
     ]
    },
    {
     "name": "stderr",
     "output_type": "stream",
     "text": [
      "\n"
     ]
    },
    {
     "name": "stdout",
     "output_type": "stream",
     "text": [
      "Processing: ./Testset_Denoising\\01.데이터\\2.Validation\\라벨링데이터\\09.공장\\02.조립공정\n"
     ]
    },
    {
     "name": "stderr",
     "output_type": "stream",
     "text": [
      "Rasampling files in progress: 100%|██████████████████████████████████████████████████| 10/10 [00:00<00:00, 1427.27it/s]\n"
     ]
    },
    {
     "name": "stdout",
     "output_type": "stream",
     "text": [
      "Success: 7/10\n",
      "Processing: ./Testset_Denoising\\01.데이터\\2.Validation\\라벨링데이터\\09.공장\\03.공장_기타소음\n"
     ]
    },
    {
     "name": "stderr",
     "output_type": "stream",
     "text": [
      "Rasampling files in progress: 100%|██████████████████████████████████████████████████| 10/10 [00:00<00:00, 1481.88it/s]"
     ]
    },
    {
     "name": "stdout",
     "output_type": "stream",
     "text": [
      "Success: 9/10\n"
     ]
    },
    {
     "name": "stderr",
     "output_type": "stream",
     "text": [
      "\n"
     ]
    },
    {
     "name": "stdout",
     "output_type": "stream",
     "text": [
      "Processing: ./Testset_Denoising\\01.데이터\\2.Validation\\라벨링데이터\\10.일반자연\n"
     ]
    },
    {
     "name": "stderr",
     "output_type": "stream",
     "text": [
      "Rasampling files in progress: 0it [00:00, ?it/s]\n"
     ]
    },
    {
     "name": "stdout",
     "output_type": "stream",
     "text": [
      "Success: 0/0\n",
      "Processing: ./Testset_Denoising\\01.데이터\\2.Validation\\라벨링데이터\\10.일반자연\\01.빗소리\n"
     ]
    },
    {
     "name": "stderr",
     "output_type": "stream",
     "text": [
      "Rasampling files in progress: 100%|██████████████████████████████████████████████████| 10/10 [00:00<00:00, 1168.43it/s]"
     ]
    },
    {
     "name": "stdout",
     "output_type": "stream",
     "text": [
      "Success: 10/10\n"
     ]
    },
    {
     "name": "stderr",
     "output_type": "stream",
     "text": [
      "\n"
     ]
    },
    {
     "name": "stdout",
     "output_type": "stream",
     "text": [
      "Processing: ./Testset_Denoising\\01.데이터\\2.Validation\\라벨링데이터\\10.일반자연\\02.파도\n"
     ]
    },
    {
     "name": "stderr",
     "output_type": "stream",
     "text": [
      "Rasampling files in progress: 100%|██████████████████████████████████████████████████| 10/10 [00:00<00:00, 1531.61it/s]\n"
     ]
    },
    {
     "name": "stdout",
     "output_type": "stream",
     "text": [
      "Success: 8/10\n",
      "Processing: ./Testset_Denoising\\01.데이터\\2.Validation\\라벨링데이터\\10.일반자연\\03.일반자연_기타소음\n"
     ]
    },
    {
     "name": "stderr",
     "output_type": "stream",
     "text": [
      "Rasampling files in progress: 100%|██████████████████████████████████████████████████| 10/10 [00:00<00:00, 1716.09it/s]"
     ]
    },
    {
     "name": "stdout",
     "output_type": "stream",
     "text": [
      "Success: 4/10\n"
     ]
    },
    {
     "name": "stderr",
     "output_type": "stream",
     "text": [
      "\n"
     ]
    },
    {
     "name": "stdout",
     "output_type": "stream",
     "text": [
      "Processing: ./Testset_Denoising\\01.데이터\\2.Validation\\라벨링데이터\\11.복합소음\n"
     ]
    },
    {
     "name": "stderr",
     "output_type": "stream",
     "text": [
      "Rasampling files in progress: 0it [00:00, ?it/s]\n"
     ]
    },
    {
     "name": "stdout",
     "output_type": "stream",
     "text": [
      "Success: 0/0\n",
      "Processing: ./Testset_Denoising\\01.데이터\\2.Validation\\라벨링데이터\\11.복합소음\\01.2가지이상소음원\n"
     ]
    },
    {
     "name": "stderr",
     "output_type": "stream",
     "text": [
      "Rasampling files in progress: 100%|███████████████████████████████████████████████████| 10/10 [00:00<00:00, 985.27it/s]\n"
     ]
    },
    {
     "name": "stdout",
     "output_type": "stream",
     "text": [
      "Success: 9/10\n",
      "Processing: ./Testset_Denoising\\01.데이터\\2.Validation\\원천데이터\n"
     ]
    },
    {
     "name": "stderr",
     "output_type": "stream",
     "text": [
      "Rasampling files in progress: 0it [00:00, ?it/s]\n"
     ]
    },
    {
     "name": "stdout",
     "output_type": "stream",
     "text": [
      "Success: 0/0\n",
      "Processing: ./Testset_Denoising\\01.데이터\\2.Validation\\원천데이터\\01.가전소음\n"
     ]
    },
    {
     "name": "stderr",
     "output_type": "stream",
     "text": [
      "Rasampling files in progress: 0it [00:00, ?it/s]\n"
     ]
    },
    {
     "name": "stdout",
     "output_type": "stream",
     "text": [
      "Success: 0/0\n",
      "Processing: ./Testset_Denoising\\01.데이터\\2.Validation\\원천데이터\\01.가전소음\\01.세탁기,건조기\n"
     ]
    },
    {
     "name": "stderr",
     "output_type": "stream",
     "text": [
      "Rasampling files in progress: 100%|██████████████████████████████████████████████████████████████| 8/8 [00:00<?, ?it/s]\n"
     ]
    },
    {
     "name": "stdout",
     "output_type": "stream",
     "text": [
      "Success: 0/8\n",
      "Processing: ./Testset_Denoising\\01.데이터\\2.Validation\\원천데이터\\01.가전소음\\02.청소기\n"
     ]
    },
    {
     "name": "stderr",
     "output_type": "stream",
     "text": [
      "Rasampling files in progress: 100%|████████████████████████████████████████████████████████████| 10/10 [00:00<?, ?it/s]\n"
     ]
    },
    {
     "name": "stdout",
     "output_type": "stream",
     "text": [
      "Success: 0/10\n",
      "Processing: ./Testset_Denoising\\01.데이터\\2.Validation\\원천데이터\\01.가전소음\\03.가전소음_기타소음\n"
     ]
    },
    {
     "name": "stderr",
     "output_type": "stream",
     "text": [
      "Rasampling files in progress: 100%|████████████████████████████████████████████████████████████| 10/10 [00:00<?, ?it/s]\n"
     ]
    },
    {
     "name": "stdout",
     "output_type": "stream",
     "text": [
      "Success: 0/10\n",
      "Processing: ./Testset_Denoising\\01.데이터\\2.Validation\\원천데이터\\02.교통수단\n"
     ]
    },
    {
     "name": "stderr",
     "output_type": "stream",
     "text": [
      "Rasampling files in progress: 0it [00:00, ?it/s]\n"
     ]
    },
    {
     "name": "stdout",
     "output_type": "stream",
     "text": [
      "Success: 0/0\n",
      "Processing: ./Testset_Denoising\\01.데이터\\2.Validation\\원천데이터\\02.교통수단\\01.바이크\n"
     ]
    },
    {
     "name": "stderr",
     "output_type": "stream",
     "text": [
      "Rasampling files in progress: 100%|████████████████████████████████████████████████████| 5/5 [00:00<00:00, 4996.79it/s]\n"
     ]
    },
    {
     "name": "stdout",
     "output_type": "stream",
     "text": [
      "Success: 0/5\n",
      "Processing: ./Testset_Denoising\\01.데이터\\2.Validation\\원천데이터\\02.교통수단\\02.싸이렌\n"
     ]
    },
    {
     "name": "stderr",
     "output_type": "stream",
     "text": [
      "Rasampling files in progress: 100%|██████████████████████████████████████████████████████████████| 3/3 [00:00<?, ?it/s]\n"
     ]
    },
    {
     "name": "stdout",
     "output_type": "stream",
     "text": [
      "Success: 0/3\n",
      "Processing: ./Testset_Denoising\\01.데이터\\2.Validation\\원천데이터\\02.교통수단\\03.경적\n"
     ]
    },
    {
     "name": "stderr",
     "output_type": "stream",
     "text": [
      "Rasampling files in progress: 100%|██████████████████████████████████████████████████████████████| 6/6 [00:00<?, ?it/s]\n"
     ]
    },
    {
     "name": "stdout",
     "output_type": "stream",
     "text": [
      "Success: 0/6\n",
      "Processing: ./Testset_Denoising\\01.데이터\\2.Validation\\원천데이터\\02.교통수단\\04.교통수단_기타소음\n"
     ]
    },
    {
     "name": "stderr",
     "output_type": "stream",
     "text": [
      "Rasampling files in progress: 100%|██████████████████████████████████████████████████████████████| 6/6 [00:00<?, ?it/s]\n"
     ]
    },
    {
     "name": "stdout",
     "output_type": "stream",
     "text": [
      "Success: 0/6\n",
      "Processing: ./Testset_Denoising\\01.데이터\\2.Validation\\원천데이터\\03.길거리\n"
     ]
    },
    {
     "name": "stderr",
     "output_type": "stream",
     "text": [
      "Rasampling files in progress: 0it [00:00, ?it/s]\n"
     ]
    },
    {
     "name": "stdout",
     "output_type": "stream",
     "text": [
      "Success: 0/0\n",
      "Processing: ./Testset_Denoising\\01.데이터\\2.Validation\\원천데이터\\03.길거리\\01.도로변\n"
     ]
    },
    {
     "name": "stderr",
     "output_type": "stream",
     "text": [
      "Rasampling files in progress: 100%|██████████████████████████████████████████████████████████████| 9/9 [00:00<?, ?it/s]\n"
     ]
    },
    {
     "name": "stdout",
     "output_type": "stream",
     "text": [
      "Success: 0/9\n",
      "Processing: ./Testset_Denoising\\01.데이터\\2.Validation\\원천데이터\\03.길거리\\02.인파\n"
     ]
    },
    {
     "name": "stderr",
     "output_type": "stream",
     "text": [
      "Rasampling files in progress: 100%|██████████████████████████████████████████████████████████████| 4/4 [00:00<?, ?it/s]"
     ]
    },
    {
     "name": "stdout",
     "output_type": "stream",
     "text": [
      "Success: 0/4\n"
     ]
    },
    {
     "name": "stderr",
     "output_type": "stream",
     "text": [
      "\n"
     ]
    },
    {
     "name": "stdout",
     "output_type": "stream",
     "text": [
      "Processing: ./Testset_Denoising\\01.데이터\\2.Validation\\원천데이터\\03.길거리\\03.길거리_기타소음\n"
     ]
    },
    {
     "name": "stderr",
     "output_type": "stream",
     "text": [
      "Rasampling files in progress: 100%|██████████████████████████████████████████████████████████████| 8/8 [00:00<?, ?it/s]\n"
     ]
    },
    {
     "name": "stdout",
     "output_type": "stream",
     "text": [
      "Success: 0/8\n",
      "Processing: ./Testset_Denoising\\01.데이터\\2.Validation\\원천데이터\\04.카페,음식점\n"
     ]
    },
    {
     "name": "stderr",
     "output_type": "stream",
     "text": [
      "Rasampling files in progress: 0it [00:00, ?it/s]\n"
     ]
    },
    {
     "name": "stdout",
     "output_type": "stream",
     "text": [
      "Success: 0/0\n",
      "Processing: ./Testset_Denoising\\01.데이터\\2.Validation\\원천데이터\\04.카페,음식점\\01.대화소음\n"
     ]
    },
    {
     "name": "stderr",
     "output_type": "stream",
     "text": [
      "Rasampling files in progress: 100%|████████████████████████████████████████████████████████████| 10/10 [00:00<?, ?it/s]\n"
     ]
    },
    {
     "name": "stdout",
     "output_type": "stream",
     "text": [
      "Success: 0/10\n",
      "Processing: ./Testset_Denoising\\01.데이터\\2.Validation\\원천데이터\\04.카페,음식점\\02.업소소음\n"
     ]
    },
    {
     "name": "stderr",
     "output_type": "stream",
     "text": [
      "Rasampling files in progress: 100%|████████████████████████████████████████████████████████████| 10/10 [00:00<?, ?it/s]\n"
     ]
    },
    {
     "name": "stdout",
     "output_type": "stream",
     "text": [
      "Success: 0/10\n",
      "Processing: ./Testset_Denoising\\01.데이터\\2.Validation\\원천데이터\\04.카페,음식점\\03.카페,음식점_기타소음\n"
     ]
    },
    {
     "name": "stderr",
     "output_type": "stream",
     "text": [
      "Rasampling files in progress: 100%|████████████████████████████████████████████████████| 8/8 [00:00<00:00, 8004.40it/s]\n"
     ]
    },
    {
     "name": "stdout",
     "output_type": "stream",
     "text": [
      "Success: 0/8\n",
      "Processing: ./Testset_Denoising\\01.데이터\\2.Validation\\원천데이터\\05.시장,쇼핑몰\n"
     ]
    },
    {
     "name": "stderr",
     "output_type": "stream",
     "text": [
      "Rasampling files in progress: 0it [00:00, ?it/s]\n"
     ]
    },
    {
     "name": "stdout",
     "output_type": "stream",
     "text": [
      "Success: 0/0\n",
      "Processing: ./Testset_Denoising\\01.데이터\\2.Validation\\원천데이터\\05.시장,쇼핑몰\\01.전통시장\n"
     ]
    },
    {
     "name": "stderr",
     "output_type": "stream",
     "text": [
      "Rasampling files in progress: 100%|██████████████████████████████████████████████████████████████| 7/7 [00:00<?, ?it/s]\n"
     ]
    },
    {
     "name": "stdout",
     "output_type": "stream",
     "text": [
      "Success: 0/7\n",
      "Processing: ./Testset_Denoising\\01.데이터\\2.Validation\\원천데이터\\05.시장,쇼핑몰\\02.복합쇼핑몰\n"
     ]
    },
    {
     "name": "stderr",
     "output_type": "stream",
     "text": [
      "Rasampling files in progress: 100%|██████████████████████████████████████████████████████████████| 9/9 [00:00<?, ?it/s]\n"
     ]
    },
    {
     "name": "stdout",
     "output_type": "stream",
     "text": [
      "Success: 0/9\n",
      "Processing: ./Testset_Denoising\\01.데이터\\2.Validation\\원천데이터\\05.시장,쇼핑몰\\03.시장,쇼핑몰_기타소음\n"
     ]
    },
    {
     "name": "stderr",
     "output_type": "stream",
     "text": [
      "Rasampling files in progress: 100%|████████████████████████████████████████████████████████████| 10/10 [00:00<?, ?it/s]\n"
     ]
    },
    {
     "name": "stdout",
     "output_type": "stream",
     "text": [
      "Success: 0/10\n",
      "Processing: ./Testset_Denoising\\01.데이터\\2.Validation\\원천데이터\\06.지하철,버스\n"
     ]
    },
    {
     "name": "stderr",
     "output_type": "stream",
     "text": [
      "Rasampling files in progress: 0it [00:00, ?it/s]\n"
     ]
    },
    {
     "name": "stdout",
     "output_type": "stream",
     "text": [
      "Success: 0/0\n",
      "Processing: ./Testset_Denoising\\01.데이터\\2.Validation\\원천데이터\\06.지하철,버스\\01.지하철플랫폼\n"
     ]
    },
    {
     "name": "stderr",
     "output_type": "stream",
     "text": [
      "Rasampling files in progress: 100%|██████████████████████████████████████████████████████████████| 8/8 [00:00<?, ?it/s]\n"
     ]
    },
    {
     "name": "stdout",
     "output_type": "stream",
     "text": [
      "Success: 0/8\n",
      "Processing: ./Testset_Denoising\\01.데이터\\2.Validation\\원천데이터\\06.지하철,버스\\02.지하철안\n"
     ]
    },
    {
     "name": "stderr",
     "output_type": "stream",
     "text": [
      "Rasampling files in progress: 100%|████████████████████████████████████████████████████████████| 10/10 [00:00<?, ?it/s]\n"
     ]
    },
    {
     "name": "stdout",
     "output_type": "stream",
     "text": [
      "Success: 0/10\n",
      "Processing: ./Testset_Denoising\\01.데이터\\2.Validation\\원천데이터\\06.지하철,버스\\03.기차안\n"
     ]
    },
    {
     "name": "stderr",
     "output_type": "stream",
     "text": [
      "Rasampling files in progress: 100%|██████████████████████████████████████████████████████████████| 3/3 [00:00<?, ?it/s]\n"
     ]
    },
    {
     "name": "stdout",
     "output_type": "stream",
     "text": [
      "Success: 0/3\n",
      "Processing: ./Testset_Denoising\\01.데이터\\2.Validation\\원천데이터\\06.지하철,버스\\04.버스안\n"
     ]
    },
    {
     "name": "stderr",
     "output_type": "stream",
     "text": [
      "Rasampling files in progress: 100%|██████████████████████████████████████████████████████████████| 8/8 [00:00<?, ?it/s]\n"
     ]
    },
    {
     "name": "stdout",
     "output_type": "stream",
     "text": [
      "Success: 0/8\n",
      "Processing: ./Testset_Denoising\\01.데이터\\2.Validation\\원천데이터\\07.터미널\n"
     ]
    },
    {
     "name": "stderr",
     "output_type": "stream",
     "text": [
      "Rasampling files in progress: 0it [00:00, ?it/s]\n"
     ]
    },
    {
     "name": "stdout",
     "output_type": "stream",
     "text": [
      "Success: 0/0\n",
      "Processing: ./Testset_Denoising\\01.데이터\\2.Validation\\원천데이터\\07.터미널\\01.기차역대합실\n"
     ]
    },
    {
     "name": "stderr",
     "output_type": "stream",
     "text": [
      "Rasampling files in progress: 100%|████████████████████████████████████████████████████████████| 10/10 [00:00<?, ?it/s]\n"
     ]
    },
    {
     "name": "stdout",
     "output_type": "stream",
     "text": [
      "Success: 0/10\n",
      "Processing: ./Testset_Denoising\\01.데이터\\2.Validation\\원천데이터\\07.터미널\\02.버스터미널대합실\n"
     ]
    },
    {
     "name": "stderr",
     "output_type": "stream",
     "text": [
      "Rasampling files in progress: 100%|████████████████████████████████████████████████████████████| 10/10 [00:00<?, ?it/s]\n"
     ]
    },
    {
     "name": "stdout",
     "output_type": "stream",
     "text": [
      "Success: 0/10\n",
      "Processing: ./Testset_Denoising\\01.데이터\\2.Validation\\원천데이터\\07.터미널\\03.터미널_기타소음\n"
     ]
    },
    {
     "name": "stderr",
     "output_type": "stream",
     "text": [
      "Rasampling files in progress: 100%|██████████████████████████████████████████████████████████████| 6/6 [00:00<?, ?it/s]\n"
     ]
    },
    {
     "name": "stdout",
     "output_type": "stream",
     "text": [
      "Success: 0/6\n",
      "Processing: ./Testset_Denoising\\01.데이터\\2.Validation\\원천데이터\\08.공사장\n"
     ]
    },
    {
     "name": "stderr",
     "output_type": "stream",
     "text": [
      "Rasampling files in progress: 0it [00:00, ?it/s]"
     ]
    },
    {
     "name": "stdout",
     "output_type": "stream",
     "text": [
      "Success: 0/0\n"
     ]
    },
    {
     "name": "stderr",
     "output_type": "stream",
     "text": [
      "\n"
     ]
    },
    {
     "name": "stdout",
     "output_type": "stream",
     "text": [
      "Processing: ./Testset_Denoising\\01.데이터\\2.Validation\\원천데이터\\08.공사장\\01.실외공사장\n"
     ]
    },
    {
     "name": "stderr",
     "output_type": "stream",
     "text": [
      "Rasampling files in progress: 100%|██████████████████████████████████████████████████████████████| 8/8 [00:00<?, ?it/s]\n"
     ]
    },
    {
     "name": "stdout",
     "output_type": "stream",
     "text": [
      "Success: 0/8\n",
      "Processing: ./Testset_Denoising\\01.데이터\\2.Validation\\원천데이터\\08.공사장\\02.실내공사장\n"
     ]
    },
    {
     "name": "stderr",
     "output_type": "stream",
     "text": [
      "Rasampling files in progress: 100%|██████████████████████████████████████████████████████████████| 4/4 [00:00<?, ?it/s]\n"
     ]
    },
    {
     "name": "stdout",
     "output_type": "stream",
     "text": [
      "Success: 0/4\n",
      "Processing: ./Testset_Denoising\\01.데이터\\2.Validation\\원천데이터\\08.공사장\\03.공사장_기타소음\n"
     ]
    },
    {
     "name": "stderr",
     "output_type": "stream",
     "text": [
      "Rasampling files in progress: 100%|██████████████████████████████████████████████████████████████| 7/7 [00:00<?, ?it/s]\n"
     ]
    },
    {
     "name": "stdout",
     "output_type": "stream",
     "text": [
      "Success: 0/7\n",
      "Processing: ./Testset_Denoising\\01.데이터\\2.Validation\\원천데이터\\09.공장\n"
     ]
    },
    {
     "name": "stderr",
     "output_type": "stream",
     "text": [
      "Rasampling files in progress: 0it [00:00, ?it/s]\n"
     ]
    },
    {
     "name": "stdout",
     "output_type": "stream",
     "text": [
      "Success: 0/0\n",
      "Processing: ./Testset_Denoising\\01.데이터\\2.Validation\\원천데이터\\09.공장\\01.가공공정\n"
     ]
    },
    {
     "name": "stderr",
     "output_type": "stream",
     "text": [
      "Rasampling files in progress: 100%|██████████████████████████████████████████████████████████████| 8/8 [00:00<?, ?it/s]\n"
     ]
    },
    {
     "name": "stdout",
     "output_type": "stream",
     "text": [
      "Success: 0/8\n",
      "Processing: ./Testset_Denoising\\01.데이터\\2.Validation\\원천데이터\\09.공장\\02.조립공정\n"
     ]
    },
    {
     "name": "stderr",
     "output_type": "stream",
     "text": [
      "Rasampling files in progress: 100%|██████████████████████████████████████████████████████████████| 7/7 [00:00<?, ?it/s]\n"
     ]
    },
    {
     "name": "stdout",
     "output_type": "stream",
     "text": [
      "Success: 0/7\n",
      "Processing: ./Testset_Denoising\\01.데이터\\2.Validation\\원천데이터\\09.공장\\03.공장_기타소음\n"
     ]
    },
    {
     "name": "stderr",
     "output_type": "stream",
     "text": [
      "Rasampling files in progress: 100%|██████████████████████████████████████████████████████████████| 9/9 [00:00<?, ?it/s]\n"
     ]
    },
    {
     "name": "stdout",
     "output_type": "stream",
     "text": [
      "Success: 0/9\n",
      "Processing: ./Testset_Denoising\\01.데이터\\2.Validation\\원천데이터\\10.일반자연\n"
     ]
    },
    {
     "name": "stderr",
     "output_type": "stream",
     "text": [
      "Rasampling files in progress: 0it [00:00, ?it/s]\n"
     ]
    },
    {
     "name": "stdout",
     "output_type": "stream",
     "text": [
      "Success: 0/0\n",
      "Processing: ./Testset_Denoising\\01.데이터\\2.Validation\\원천데이터\\10.일반자연\\01.빗소리\n"
     ]
    },
    {
     "name": "stderr",
     "output_type": "stream",
     "text": [
      "Rasampling files in progress: 100%|████████████████████████████████████████████████████████████| 10/10 [00:00<?, ?it/s]\n"
     ]
    },
    {
     "name": "stdout",
     "output_type": "stream",
     "text": [
      "Success: 0/10\n",
      "Processing: ./Testset_Denoising\\01.데이터\\2.Validation\\원천데이터\\10.일반자연\\02.파도\n"
     ]
    },
    {
     "name": "stderr",
     "output_type": "stream",
     "text": [
      "Rasampling files in progress: 100%|██████████████████████████████████████████████████████████████| 8/8 [00:00<?, ?it/s]\n"
     ]
    },
    {
     "name": "stdout",
     "output_type": "stream",
     "text": [
      "Success: 0/8\n",
      "Processing: ./Testset_Denoising\\01.데이터\\2.Validation\\원천데이터\\10.일반자연\\03.일반자연_기타소음\n"
     ]
    },
    {
     "name": "stderr",
     "output_type": "stream",
     "text": [
      "Rasampling files in progress: 100%|██████████████████████████████████████████████████████████████| 4/4 [00:00<?, ?it/s]\n"
     ]
    },
    {
     "name": "stdout",
     "output_type": "stream",
     "text": [
      "Success: 0/4\n",
      "Processing: ./Testset_Denoising\\01.데이터\\2.Validation\\원천데이터\\11.복합소음\n"
     ]
    },
    {
     "name": "stderr",
     "output_type": "stream",
     "text": [
      "Rasampling files in progress: 0it [00:00, ?it/s]\n"
     ]
    },
    {
     "name": "stdout",
     "output_type": "stream",
     "text": [
      "Success: 0/0\n",
      "Processing: ./Testset_Denoising\\01.데이터\\2.Validation\\원천데이터\\11.복합소음\\01.2가지이상소음원\n"
     ]
    },
    {
     "name": "stderr",
     "output_type": "stream",
     "text": [
      "Rasampling files in progress: 100%|██████████████████████████████████████████████████████████████| 9/9 [00:00<?, ?it/s]"
     ]
    },
    {
     "name": "stdout",
     "output_type": "stream",
     "text": [
      "Success: 0/9\n",
      "Done!\n"
     ]
    },
    {
     "name": "stderr",
     "output_type": "stream",
     "text": [
      "\n"
     ]
    }
   ],
   "source": [
    "root_directory = \"./Testset_Denoising\"\n",
    "wav_filepath_list, text_list = list_files_and_directories(root_directory)"
   ]
  },
  {
   "cell_type": "code",
   "execution_count": 45,
   "id": "7799df1d-821f-4904-b328-1d0ba45bef72",
   "metadata": {},
   "outputs": [],
   "source": [
    "import pandas as pd\n",
    "\n",
    "# Data\n",
    "data = {\n",
    "    'file_name': wav_filepath_list,\n",
    "    'text': text_list\n",
    "}\n",
    "\n",
    "# Dataframe\n",
    "df = pd.DataFrame(data)\n",
    "\n",
    "# Save CSV file\n",
    "df.to_csv('./Testset_Denoising/metadata.csv', index=False)"
   ]
  },
  {
   "cell_type": "code",
   "execution_count": 46,
   "id": "3f820cf9-3936-42b7-8ceb-75312cd841a2",
   "metadata": {},
   "outputs": [
    {
     "data": {
      "text/html": [
       "<div>\n",
       "<style scoped>\n",
       "    .dataframe tbody tr th:only-of-type {\n",
       "        vertical-align: middle;\n",
       "    }\n",
       "\n",
       "    .dataframe tbody tr th {\n",
       "        vertical-align: top;\n",
       "    }\n",
       "\n",
       "    .dataframe thead th {\n",
       "        text-align: right;\n",
       "    }\n",
       "</style>\n",
       "<table border=\"1\" class=\"dataframe\">\n",
       "  <thead>\n",
       "    <tr style=\"text-align: right;\">\n",
       "      <th></th>\n",
       "      <th>file_name</th>\n",
       "      <th>text</th>\n",
       "    </tr>\n",
       "  </thead>\n",
       "  <tbody>\n",
       "    <tr>\n",
       "      <th>0</th>\n",
       "      <td>01.데이터\\2.Validation\\원천데이터\\01.가전소음\\01.세탁기,건조기\\0...</td>\n",
       "      <td>그건 모르죠</td>\n",
       "    </tr>\n",
       "    <tr>\n",
       "      <th>1</th>\n",
       "      <td>01.데이터\\2.Validation\\원천데이터\\01.가전소음\\01.세탁기,건조기\\0...</td>\n",
       "      <td>어 원 플러스 원이라고 해도 지금 행사니까 원 플러스 원인 거지 만약에 따로 사게 ...</td>\n",
       "    </tr>\n",
       "    <tr>\n",
       "      <th>2</th>\n",
       "      <td>01.데이터\\2.Validation\\원천데이터\\01.가전소음\\01.세탁기,건조기\\0...</td>\n",
       "      <td>그래 지금 우리 집사람도 빨리 오고 싶지 나한테 문자로 빨리 갈게 차 끌고 가 이렇...</td>\n",
       "    </tr>\n",
       "    <tr>\n",
       "      <th>3</th>\n",
       "      <td>01.데이터\\2.Validation\\원천데이터\\01.가전소음\\01.세탁기,건조기\\0...</td>\n",
       "      <td>그래 아까 나름대로 작전을 잘 짰던 것 같아 만두부터 먹고 그다음에 맛있는 탕수육까...</td>\n",
       "    </tr>\n",
       "    <tr>\n",
       "      <th>4</th>\n",
       "      <td>01.데이터\\2.Validation\\원천데이터\\01.가전소음\\01.세탁기,건조기\\0...</td>\n",
       "      <td>아니요. 저희는 지금 베란다가. 좀 좁은 편이라서. 빨래 널 공간이 별로 없거든요....</td>\n",
       "    </tr>\n",
       "    <tr>\n",
       "      <th>...</th>\n",
       "      <td>...</td>\n",
       "      <td>...</td>\n",
       "    </tr>\n",
       "    <tr>\n",
       "      <th>247</th>\n",
       "      <td>01.데이터\\2.Validation\\원천데이터\\11.복합소음\\01.2가지이상소음원\\...</td>\n",
       "      <td>저도 점심 뭐 먹을지 고민이에요. 우리나라 모든 직장인의 고민인 것 같아요. 점심 ...</td>\n",
       "    </tr>\n",
       "    <tr>\n",
       "      <th>248</th>\n",
       "      <td>01.데이터\\2.Validation\\원천데이터\\11.복합소음\\01.2가지이상소음원\\...</td>\n",
       "      <td>뭐지? 나한테 하는 소린가 혼잔 말인가? 미친 사람인가. 저기요. 혹시 저한테 하신...</td>\n",
       "    </tr>\n",
       "    <tr>\n",
       "      <th>249</th>\n",
       "      <td>01.데이터\\2.Validation\\원천데이터\\11.복합소음\\01.2가지이상소음원\\...</td>\n",
       "      <td>그런 데가 있어. 그런 데가 있더라고. 그래서 거기를 예쁘게 잘 꾸며놓고 그래가지고...</td>\n",
       "    </tr>\n",
       "    <tr>\n",
       "      <th>250</th>\n",
       "      <td>01.데이터\\2.Validation\\원천데이터\\11.복합소음\\01.2가지이상소음원\\...</td>\n",
       "      <td>아마도 그날을 위해서 세심하게 계획을 세울 것이야.</td>\n",
       "    </tr>\n",
       "    <tr>\n",
       "      <th>251</th>\n",
       "      <td>01.데이터\\2.Validation\\원천데이터\\11.복합소음\\01.2가지이상소음원\\...</td>\n",
       "      <td>그랬구나. 역시 선배를 많이 생각해줬네 나는 그 선배가 보험쪽 일을 한다고 얘기는 ...</td>\n",
       "    </tr>\n",
       "  </tbody>\n",
       "</table>\n",
       "<p>252 rows × 2 columns</p>\n",
       "</div>"
      ],
      "text/plain": [
       "                                             file_name  \\\n",
       "0    01.데이터\\2.Validation\\원천데이터\\01.가전소음\\01.세탁기,건조기\\0...   \n",
       "1    01.데이터\\2.Validation\\원천데이터\\01.가전소음\\01.세탁기,건조기\\0...   \n",
       "2    01.데이터\\2.Validation\\원천데이터\\01.가전소음\\01.세탁기,건조기\\0...   \n",
       "3    01.데이터\\2.Validation\\원천데이터\\01.가전소음\\01.세탁기,건조기\\0...   \n",
       "4    01.데이터\\2.Validation\\원천데이터\\01.가전소음\\01.세탁기,건조기\\0...   \n",
       "..                                                 ...   \n",
       "247  01.데이터\\2.Validation\\원천데이터\\11.복합소음\\01.2가지이상소음원\\...   \n",
       "248  01.데이터\\2.Validation\\원천데이터\\11.복합소음\\01.2가지이상소음원\\...   \n",
       "249  01.데이터\\2.Validation\\원천데이터\\11.복합소음\\01.2가지이상소음원\\...   \n",
       "250  01.데이터\\2.Validation\\원천데이터\\11.복합소음\\01.2가지이상소음원\\...   \n",
       "251  01.데이터\\2.Validation\\원천데이터\\11.복합소음\\01.2가지이상소음원\\...   \n",
       "\n",
       "                                                  text  \n",
       "0                                               그건 모르죠  \n",
       "1    어 원 플러스 원이라고 해도 지금 행사니까 원 플러스 원인 거지 만약에 따로 사게 ...  \n",
       "2    그래 지금 우리 집사람도 빨리 오고 싶지 나한테 문자로 빨리 갈게 차 끌고 가 이렇...  \n",
       "3    그래 아까 나름대로 작전을 잘 짰던 것 같아 만두부터 먹고 그다음에 맛있는 탕수육까...  \n",
       "4    아니요. 저희는 지금 베란다가. 좀 좁은 편이라서. 빨래 널 공간이 별로 없거든요....  \n",
       "..                                                 ...  \n",
       "247  저도 점심 뭐 먹을지 고민이에요. 우리나라 모든 직장인의 고민인 것 같아요. 점심 ...  \n",
       "248  뭐지? 나한테 하는 소린가 혼잔 말인가? 미친 사람인가. 저기요. 혹시 저한테 하신...  \n",
       "249  그런 데가 있어. 그런 데가 있더라고. 그래서 거기를 예쁘게 잘 꾸며놓고 그래가지고...  \n",
       "250                       아마도 그날을 위해서 세심하게 계획을 세울 것이야.  \n",
       "251  그랬구나. 역시 선배를 많이 생각해줬네 나는 그 선배가 보험쪽 일을 한다고 얘기는 ...  \n",
       "\n",
       "[252 rows x 2 columns]"
      ]
     },
     "execution_count": 46,
     "metadata": {},
     "output_type": "execute_result"
    }
   ],
   "source": [
    "df"
   ]
  },
  {
   "cell_type": "code",
   "execution_count": null,
   "id": "85747c3a-e2c7-4ad4-82df-629c2554b82e",
   "metadata": {},
   "outputs": [],
   "source": []
  }
 ],
 "metadata": {
  "kernelspec": {
   "display_name": "Python 3 (ipykernel)",
   "language": "python",
   "name": "python3"
  },
  "language_info": {
   "codemirror_mode": {
    "name": "ipython",
    "version": 3
   },
   "file_extension": ".py",
   "mimetype": "text/x-python",
   "name": "python",
   "nbconvert_exporter": "python",
   "pygments_lexer": "ipython3",
   "version": "3.11.4"
  }
 },
 "nbformat": 4,
 "nbformat_minor": 5
}
